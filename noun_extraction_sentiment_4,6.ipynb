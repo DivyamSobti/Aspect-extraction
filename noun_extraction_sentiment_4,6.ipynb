{
 "cells": [
  {
   "cell_type": "code",
   "execution_count": 1,
   "metadata": {},
   "outputs": [],
   "source": [
    "import pandas as pd\n",
    "import numpy as np"
   ]
  },
  {
   "cell_type": "code",
   "execution_count": 2,
   "metadata": {},
   "outputs": [],
   "source": [
    "import nltk"
   ]
  },
  {
   "cell_type": "code",
   "execution_count": 3,
   "metadata": {},
   "outputs": [
    {
     "name": "stderr",
     "output_type": "stream",
     "text": [
      "[nltk_data] Error loading punkt: <urlopen error [SSL:\n",
      "[nltk_data]     CERTIFICATE_VERIFY_FAILED] certificate verify failed:\n",
      "[nltk_data]     unable to get local issuer certificate (_ssl.c:1006)>\n",
      "[nltk_data] Error loading stopwords: <urlopen error [SSL:\n",
      "[nltk_data]     CERTIFICATE_VERIFY_FAILED] certificate verify failed:\n",
      "[nltk_data]     unable to get local issuer certificate (_ssl.c:1006)>\n",
      "[nltk_data] Error loading wordnet: <urlopen error [SSL:\n",
      "[nltk_data]     CERTIFICATE_VERIFY_FAILED] certificate verify failed:\n",
      "[nltk_data]     unable to get local issuer certificate (_ssl.c:1006)>\n"
     ]
    },
    {
     "data": {
      "text/plain": [
       "False"
      ]
     },
     "execution_count": 3,
     "metadata": {},
     "output_type": "execute_result"
    }
   ],
   "source": [
    "# Download NLTK data\n",
    "nltk.download('punkt')\n",
    "nltk.download('stopwords')\n",
    "nltk.download('wordnet')\n"
   ]
  },
  {
   "cell_type": "code",
   "execution_count": 4,
   "metadata": {},
   "outputs": [],
   "source": [
    "import re"
   ]
  },
  {
   "cell_type": "code",
   "execution_count": 5,
   "metadata": {},
   "outputs": [],
   "source": [
    "from nltk.corpus import stopwords\n",
    "from nltk.stem import PorterStemmer\n",
    "from nltk.tokenize import word_tokenize\n",
    "from nltk.stem import WordNetLemmatizer"
   ]
  },
  {
   "cell_type": "code",
   "execution_count": 6,
   "metadata": {},
   "outputs": [],
   "source": [
    "# amazon=pd.read_csv(\"Eco_Friendly_Products_Test_Full.xlsx - Sheet1.csv\")\n",
    "# amazon=pd.read_csv(\"Amazon Reviews Validation Data_1.csv\")\n",
    "amazon=pd.read_csv(\"amazon_neg.csv\")"
   ]
  },
  {
   "cell_type": "code",
   "execution_count": 7,
   "metadata": {},
   "outputs": [
    {
     "data": {
      "text/html": [
       "<div>\n",
       "<style scoped>\n",
       "    .dataframe tbody tr th:only-of-type {\n",
       "        vertical-align: middle;\n",
       "    }\n",
       "\n",
       "    .dataframe tbody tr th {\n",
       "        vertical-align: top;\n",
       "    }\n",
       "\n",
       "    .dataframe thead th {\n",
       "        text-align: right;\n",
       "    }\n",
       "</style>\n",
       "<table border=\"1\" class=\"dataframe\">\n",
       "  <thead>\n",
       "    <tr style=\"text-align: right;\">\n",
       "      <th></th>\n",
       "      <th>Reviews</th>\n",
       "      <th>Aspect</th>\n",
       "    </tr>\n",
       "  </thead>\n",
       "  <tbody>\n",
       "    <tr>\n",
       "      <th>0</th>\n",
       "      <td>heating element has died</td>\n",
       "      <td>Durability</td>\n",
       "    </tr>\n",
       "    <tr>\n",
       "      <th>1</th>\n",
       "      <td>It is attractive</td>\n",
       "      <td>Aesthetics</td>\n",
       "    </tr>\n",
       "    <tr>\n",
       "      <th>2</th>\n",
       "      <td>It's attractive</td>\n",
       "      <td>Aesthetics</td>\n",
       "    </tr>\n",
       "    <tr>\n",
       "      <th>3</th>\n",
       "      <td>if the writing is left on for more than a few ...</td>\n",
       "      <td>Ease of Reprocessing</td>\n",
       "    </tr>\n",
       "    <tr>\n",
       "      <th>4</th>\n",
       "      <td>increasingly difficult to wipe off</td>\n",
       "      <td>Ease of Reprocessing</td>\n",
       "    </tr>\n",
       "    <tr>\n",
       "      <th>...</th>\n",
       "      <td>...</td>\n",
       "      <td>...</td>\n",
       "    </tr>\n",
       "    <tr>\n",
       "      <th>148</th>\n",
       "      <td>It doesn't have any little crevices or weird s...</td>\n",
       "      <td>Interference</td>\n",
       "    </tr>\n",
       "    <tr>\n",
       "      <th>149</th>\n",
       "      <td>AND I'm not using a paper cup for each cup of ...</td>\n",
       "      <td>Aesthetics</td>\n",
       "    </tr>\n",
       "    <tr>\n",
       "      <th>150</th>\n",
       "      <td>Lastly, I have not had any leak issues</td>\n",
       "      <td>Performance</td>\n",
       "    </tr>\n",
       "    <tr>\n",
       "      <th>151</th>\n",
       "      <td>unfortunately one of the lids does not fit at all</td>\n",
       "      <td>Performance</td>\n",
       "    </tr>\n",
       "    <tr>\n",
       "      <th>152</th>\n",
       "      <td>cheap enough that if my husband loses one, we ...</td>\n",
       "      <td>Price</td>\n",
       "    </tr>\n",
       "  </tbody>\n",
       "</table>\n",
       "<p>153 rows × 2 columns</p>\n",
       "</div>"
      ],
      "text/plain": [
       "                                               Reviews                Aspect\n",
       "0                             heating element has died            Durability\n",
       "1                                     It is attractive            Aesthetics\n",
       "2                                      It's attractive            Aesthetics\n",
       "3    if the writing is left on for more than a few ...  Ease of Reprocessing\n",
       "4                  increasingly difficult to wipe off   Ease of Reprocessing\n",
       "..                                                 ...                   ...\n",
       "148  It doesn't have any little crevices or weird s...          Interference\n",
       "149  AND I'm not using a paper cup for each cup of ...            Aesthetics\n",
       "150             Lastly, I have not had any leak issues           Performance\n",
       "151  unfortunately one of the lids does not fit at all           Performance\n",
       "152  cheap enough that if my husband loses one, we ...                 Price\n",
       "\n",
       "[153 rows x 2 columns]"
      ]
     },
     "execution_count": 7,
     "metadata": {},
     "output_type": "execute_result"
    }
   ],
   "source": [
    "amazon"
   ]
  },
  {
   "cell_type": "code",
   "execution_count": 8,
   "metadata": {},
   "outputs": [],
   "source": [
    "# a=amazon[\"Review\"]\n",
    "a=amazon[\"Reviews\"]"
   ]
  },
  {
   "cell_type": "code",
   "execution_count": 9,
   "metadata": {},
   "outputs": [],
   "source": [
    "q=amazon[\"Aspect\"]"
   ]
  },
  {
   "cell_type": "code",
   "execution_count": 10,
   "metadata": {},
   "outputs": [],
   "source": [
    "all_values = q.str.split(',').explode()"
   ]
  },
  {
   "cell_type": "code",
   "execution_count": 11,
   "metadata": {},
   "outputs": [],
   "source": [
    "unique_values = all_values.unique()"
   ]
  },
  {
   "cell_type": "code",
   "execution_count": 12,
   "metadata": {},
   "outputs": [],
   "source": [
    "len_aspect=len(unique_values)"
   ]
  },
  {
   "cell_type": "code",
   "execution_count": 13,
   "metadata": {},
   "outputs": [
    {
     "data": {
      "text/plain": [
       "11"
      ]
     },
     "execution_count": 13,
     "metadata": {},
     "output_type": "execute_result"
    }
   ],
   "source": [
    "len_aspect"
   ]
  },
  {
   "cell_type": "code",
   "execution_count": 14,
   "metadata": {},
   "outputs": [],
   "source": [
    "processed_series = a"
   ]
  },
  {
   "cell_type": "code",
   "execution_count": 15,
   "metadata": {},
   "outputs": [
    {
     "data": {
      "text/plain": [
       "0                               heating element has died\n",
       "1                                       It is attractive\n",
       "2                                        It's attractive\n",
       "3      if the writing is left on for more than a few ...\n",
       "4                    increasingly difficult to wipe off \n",
       "                             ...                        \n",
       "148    It doesn't have any little crevices or weird s...\n",
       "149    AND I'm not using a paper cup for each cup of ...\n",
       "150               Lastly, I have not had any leak issues\n",
       "151    unfortunately one of the lids does not fit at all\n",
       "152    cheap enough that if my husband loses one, we ...\n",
       "Name: Reviews, Length: 153, dtype: object"
      ]
     },
     "execution_count": 15,
     "metadata": {},
     "output_type": "execute_result"
    }
   ],
   "source": [
    "processed_series"
   ]
  },
  {
   "cell_type": "code",
   "execution_count": 16,
   "metadata": {},
   "outputs": [],
   "source": [
    "def extract_nouns(words):\n",
    "    \"\"\"Extract and return nouns from a given list of words.\"\"\"\n",
    "    # Join the list of words into a sentence\n",
    "    # sentence = ' '.join(words)\n",
    "\n",
    "    # Tokenize and POS tag the words in the sentence\n",
    "    tokens = nltk.word_tokenize(words)\n",
    "    parts_of_speech = nltk.pos_tag(tokens)\n",
    "\n",
    "    # Extract and return words tagged as NN, NNS, NNP, or NNPS\n",
    "    return [word for word, pos in parts_of_speech if pos in ['NN', 'NNS', 'NNP', 'NNPS']]\n"
   ]
  },
  {
   "cell_type": "code",
   "execution_count": 17,
   "metadata": {},
   "outputs": [
    {
     "name": "stdout",
     "output_type": "stream",
     "text": [
      "0                                              [element]\n",
      "1                                                     []\n",
      "2                                                     []\n",
      "3                                        [writing, days]\n",
      "4                                                     []\n",
      "                             ...                        \n",
      "148                      [crevices, weird, areas, stuff]\n",
      "149    [paper, cup, cup, coffee, work, godless, colle...\n",
      "150                                             [issues]\n",
      "151                                               [lids]\n",
      "152                                            [husband]\n",
      "Name: Reviews, Length: 153, dtype: object\n"
     ]
    }
   ],
   "source": [
    "nouns = processed_series.apply(extract_nouns)\n",
    "print(nouns)"
   ]
  },
  {
   "cell_type": "code",
   "execution_count": 18,
   "metadata": {},
   "outputs": [],
   "source": [
    "from textblob import TextBlob\n",
    "\n",
    "def extract_nouns_textblob(sentence):\n",
    "    \n",
    "    \"\"\"Extract and return nouns from a given sentence using TextBlob.\"\"\"\n",
    "    # sentence = ' '.join(sentence)\n",
    "    blob = TextBlob(sentence)\n",
    "    return [word for word, tag in blob.tags if tag in [\"NN\", \"NNS\", \"NNP\", \"NNPS\"]]\n"
   ]
  },
  {
   "cell_type": "code",
   "execution_count": 19,
   "metadata": {},
   "outputs": [
    {
     "name": "stdout",
     "output_type": "stream",
     "text": [
      "0                                              [element]\n",
      "1                                                     []\n",
      "2                                                     []\n",
      "3                                        [writing, days]\n",
      "4                                                     []\n",
      "                             ...                        \n",
      "148                      [crevices, weird, areas, stuff]\n",
      "149    [paper, cup, cup, coffee, work, godless, colle...\n",
      "150                                             [issues]\n",
      "151                                               [lids]\n",
      "152                                            [husband]\n",
      "Name: Reviews, Length: 153, dtype: object\n"
     ]
    }
   ],
   "source": [
    "nouns_testblob = processed_series.apply(extract_nouns_textblob)\n",
    "print(nouns_testblob)"
   ]
  },
  {
   "cell_type": "code",
   "execution_count": 20,
   "metadata": {},
   "outputs": [],
   "source": [
    "import spacy"
   ]
  },
  {
   "cell_type": "code",
   "execution_count": 21,
   "metadata": {},
   "outputs": [],
   "source": [
    "nlpt = spacy.load(\"en_core_web_sm\")"
   ]
  },
  {
   "cell_type": "code",
   "execution_count": 22,
   "metadata": {},
   "outputs": [],
   "source": [
    "def extract_nouns_spacy(sentence):\n",
    "    \"\"\"Extract and return nouns from a given sentence using spaCy.\"\"\"\n",
    "    # sentence = ' '.join(sentence)\n",
    "    doc = nlpt(sentence)\n",
    "    return [token.text for token in doc if token.pos_ in [\"NOUN\"]]"
   ]
  },
  {
   "cell_type": "code",
   "execution_count": 23,
   "metadata": {},
   "outputs": [
    {
     "data": {
      "text/plain": [
       "0                                     [heating, element]\n",
       "1                                                     []\n",
       "2                                                     []\n",
       "3                                        [writing, days]\n",
       "4                                                     []\n",
       "                             ...                        \n",
       "148                             [crevices, areas, stuff]\n",
       "149    [paper, cup, cup, coffee, work, colleagues, pl...\n",
       "150                                       [leak, issues]\n",
       "151                                               [lids]\n",
       "152                                            [husband]\n",
       "Name: Reviews, Length: 153, dtype: object"
      ]
     },
     "execution_count": 23,
     "metadata": {},
     "output_type": "execute_result"
    }
   ],
   "source": [
    "doc = processed_series.apply(extract_nouns_spacy)\n",
    "doc"
   ]
  },
  {
   "cell_type": "code",
   "execution_count": 24,
   "metadata": {},
   "outputs": [],
   "source": [
    "# doc[1180]"
   ]
  },
  {
   "cell_type": "code",
   "execution_count": 25,
   "metadata": {},
   "outputs": [
    {
     "name": "stdout",
     "output_type": "stream",
     "text": [
      "Loading GloVe Model\n",
      "Done. 400000 words loaded!\n"
     ]
    }
   ],
   "source": [
    "def load_glove_model(glove_file):\n",
    "    \"\"\"Load the GloVe model from a file.\"\"\"\n",
    "    print(\"Loading GloVe Model\")\n",
    "    with open(glove_file, 'r') as file:\n",
    "        model = {}\n",
    "        for line in file:\n",
    "            split_line = line.split()\n",
    "            word = split_line[0]\n",
    "            embedding = np.array([float(val) for val in split_line[1:]])\n",
    "            model[word] = embedding\n",
    "        print(\"Done. {} words loaded!\".format(len(model)))\n",
    "    return model\n",
    "\n",
    "glove_model = load_glove_model(\"/Users/divyamsobti/Downloads/glove.6B/glove.6B.100d.txt\")\n"
   ]
  },
  {
   "cell_type": "code",
   "execution_count": null,
   "metadata": {},
   "outputs": [],
   "source": []
  },
  {
   "cell_type": "markdown",
   "metadata": {},
   "source": [
    "# TFidf\n"
   ]
  },
  {
   "cell_type": "code",
   "execution_count": 26,
   "metadata": {},
   "outputs": [],
   "source": [
    "def extract_nouns_tf(sentence):\n",
    "\n",
    "    # Tokenize and POS tag the words in the sentence\n",
    "    tokens = nltk.word_tokenize(sentence)\n",
    "    parts_of_speech = nltk.pos_tag(tokens)\n",
    "    x=[word for word, pos in parts_of_speech if pos in ['NN', 'NNS', 'NNP', 'NNPS']]\n",
    "    x=\" \".join(x)\n",
    "    # Extract and return words tagged as NN, NNS, NNP, or NNPS\n",
    "    return x"
   ]
  },
  {
   "cell_type": "code",
   "execution_count": 27,
   "metadata": {},
   "outputs": [],
   "source": [
    "nouns_tf = processed_series.apply(extract_nouns_tf)"
   ]
  },
  {
   "cell_type": "code",
   "execution_count": 28,
   "metadata": {},
   "outputs": [
    {
     "data": {
      "text/plain": [
       "0                                                element\n",
       "1                                                       \n",
       "2                                                       \n",
       "3                                           writing days\n",
       "4                                                       \n",
       "                             ...                        \n",
       "148                           crevices weird areas stuff\n",
       "149    paper cup cup coffee work godless colleagues p...\n",
       "150                                               issues\n",
       "151                                                 lids\n",
       "152                                              husband\n",
       "Name: Reviews, Length: 153, dtype: object"
      ]
     },
     "execution_count": 28,
     "metadata": {},
     "output_type": "execute_result"
    }
   ],
   "source": [
    "nouns_tf"
   ]
  },
  {
   "cell_type": "code",
   "execution_count": 29,
   "metadata": {},
   "outputs": [],
   "source": [
    "\n",
    "\n",
    "def extract_nouns_textblob_tf(sentence):\n",
    "    \n",
    "    \"\"\"Extract and return nouns from a given sentence using TextBlob.\"\"\"\n",
    "    blob = TextBlob(sentence)\n",
    "    x=[word for word, tag in blob.tags if tag in [\"NN\", \"NNS\", \"NNP\", \"NNPS\"]]\n",
    "    x=\" \".join(x)\n",
    "    return x\n"
   ]
  },
  {
   "cell_type": "code",
   "execution_count": 30,
   "metadata": {},
   "outputs": [
    {
     "name": "stdout",
     "output_type": "stream",
     "text": [
      "0                                                element\n",
      "1                                                       \n",
      "2                                                       \n",
      "3                                           writing days\n",
      "4                                                       \n",
      "                             ...                        \n",
      "148                           crevices weird areas stuff\n",
      "149    paper cup cup coffee work godless colleagues p...\n",
      "150                                               issues\n",
      "151                                                 lids\n",
      "152                                              husband\n",
      "Name: Reviews, Length: 153, dtype: object\n"
     ]
    }
   ],
   "source": [
    "nouns_testblob_tf = processed_series.apply(extract_nouns_textblob_tf)\n",
    "print(nouns_testblob_tf)"
   ]
  },
  {
   "cell_type": "code",
   "execution_count": 31,
   "metadata": {},
   "outputs": [],
   "source": [
    "def extract_nouns_spacy_tf(sentence):\n",
    "    \"\"\"Extract and return nouns from a given sentence using spaCy.\"\"\"\n",
    "    doc = nlpt(sentence)\n",
    "    x=[token.text for token in doc if token.pos_ in [\"NOUN\"]]\n",
    "    x=\" \".join(x)\n",
    "    return x"
   ]
  },
  {
   "cell_type": "code",
   "execution_count": 32,
   "metadata": {},
   "outputs": [
    {
     "data": {
      "text/plain": [
       "0                                  heating element\n",
       "1                                                 \n",
       "2                                                 \n",
       "3                                     writing days\n",
       "4                                                 \n",
       "                          ...                     \n",
       "148                           crevices areas stuff\n",
       "149    paper cup cup coffee work colleagues planet\n",
       "150                                    leak issues\n",
       "151                                           lids\n",
       "152                                        husband\n",
       "Name: Reviews, Length: 153, dtype: object"
      ]
     },
     "execution_count": 32,
     "metadata": {},
     "output_type": "execute_result"
    }
   ],
   "source": [
    "doc_tf = processed_series.apply(extract_nouns_spacy_tf)\n",
    "doc_tf"
   ]
  },
  {
   "cell_type": "code",
   "execution_count": 33,
   "metadata": {},
   "outputs": [],
   "source": [
    "from sklearn.feature_extraction.text import TfidfVectorizer"
   ]
  },
  {
   "cell_type": "code",
   "execution_count": null,
   "metadata": {},
   "outputs": [],
   "source": []
  },
  {
   "cell_type": "code",
   "execution_count": 34,
   "metadata": {},
   "outputs": [],
   "source": [
    "# Step 2: Convert text to numerical vectors using TF-IDF\n",
    "vectorizer = TfidfVectorizer()\n",
    "nltk = vectorizer.fit_transform(nouns_tf).toarray()"
   ]
  },
  {
   "cell_type": "code",
   "execution_count": 35,
   "metadata": {},
   "outputs": [],
   "source": [
    "spacy_=vectorizer.fit_transform(doc_tf).toarray()"
   ]
  },
  {
   "cell_type": "code",
   "execution_count": 36,
   "metadata": {},
   "outputs": [],
   "source": [
    "TextBlob_=vectorizer.fit_transform(nouns_testblob_tf).toarray()"
   ]
  },
  {
   "cell_type": "code",
   "execution_count": 37,
   "metadata": {},
   "outputs": [],
   "source": [
    "def sentence_vector(word_list, model, vector_size=100):\n",
    "    \"\"\"Generate a sentence vector by averaging the word vectors.\"\"\"\n",
    "    word_vectors = [model[word] for word in word_list if word in model]\n",
    "    if len(word_vectors) == 0:\n",
    "        return np.zeros(vector_size)\n",
    "    return np.mean(word_vectors, axis=0)\n",
    "\n",
    "\n"
   ]
  },
  {
   "cell_type": "code",
   "execution_count": 38,
   "metadata": {},
   "outputs": [],
   "source": [
    "sentences_testblob=np.array(nouns_testblob)\n",
    "sentences_spacy=np.array(doc)\n",
    "sentences_nltk=np.array(nouns)\n"
   ]
  },
  {
   "cell_type": "code",
   "execution_count": 39,
   "metadata": {},
   "outputs": [],
   "source": [
    "sentence_vectors_testblob = np.array([sentence_vector(sentence, glove_model) for sentence in sentences_testblob])"
   ]
  },
  {
   "cell_type": "code",
   "execution_count": 40,
   "metadata": {},
   "outputs": [],
   "source": [
    "sentence_vectors_spacy = np.array([sentence_vector(sentence, glove_model) for sentence in sentences_spacy])"
   ]
  },
  {
   "cell_type": "code",
   "execution_count": 41,
   "metadata": {},
   "outputs": [],
   "source": [
    "sentence_vectors_nltk = np.array([sentence_vector(sentence, glove_model) for sentence in sentences_nltk])"
   ]
  },
  {
   "cell_type": "markdown",
   "metadata": {},
   "source": [
    "# Cluster for 12 aspects"
   ]
  },
  {
   "cell_type": "code",
   "execution_count": 42,
   "metadata": {},
   "outputs": [],
   "source": [
    "from sklearn.cluster import KMeans\n",
    "\n",
    "num_clusters = len_aspect  # Example number of clusters"
   ]
  },
  {
   "cell_type": "code",
   "execution_count": 43,
   "metadata": {},
   "outputs": [
    {
     "name": "stderr",
     "output_type": "stream",
     "text": [
      "/Library/Frameworks/Python.framework/Versions/3.11/lib/python3.11/site-packages/sklearn/cluster/_kmeans.py:1412: FutureWarning: The default value of `n_init` will change from 10 to 'auto' in 1.4. Set the value of `n_init` explicitly to suppress the warning\n",
      "  super()._check_params_vs_input(X, default_n_init=10)\n"
     ]
    }
   ],
   "source": [
    "num_clusters = len_aspect  # Example number of clusters\n",
    "kmeans_textblob = KMeans(n_clusters=num_clusters)\n",
    "kmeans_textblob.fit(sentence_vectors_testblob)\n",
    "labels_textblob = kmeans_textblob.labels_"
   ]
  },
  {
   "cell_type": "code",
   "execution_count": 44,
   "metadata": {},
   "outputs": [
    {
     "name": "stderr",
     "output_type": "stream",
     "text": [
      "/Library/Frameworks/Python.framework/Versions/3.11/lib/python3.11/site-packages/sklearn/cluster/_kmeans.py:1412: FutureWarning: The default value of `n_init` will change from 10 to 'auto' in 1.4. Set the value of `n_init` explicitly to suppress the warning\n",
      "  super()._check_params_vs_input(X, default_n_init=10)\n"
     ]
    }
   ],
   "source": [
    "kmeans_spacy = KMeans(n_clusters=num_clusters)\n",
    "kmeans_spacy.fit(sentence_vectors_spacy)\n",
    "labels_spacy = kmeans_spacy.labels_"
   ]
  },
  {
   "cell_type": "code",
   "execution_count": 45,
   "metadata": {},
   "outputs": [
    {
     "name": "stderr",
     "output_type": "stream",
     "text": [
      "/Library/Frameworks/Python.framework/Versions/3.11/lib/python3.11/site-packages/sklearn/cluster/_kmeans.py:1412: FutureWarning: The default value of `n_init` will change from 10 to 'auto' in 1.4. Set the value of `n_init` explicitly to suppress the warning\n",
      "  super()._check_params_vs_input(X, default_n_init=10)\n"
     ]
    }
   ],
   "source": [
    "kmeans_nltk = KMeans(n_clusters=num_clusters)\n",
    "kmeans_nltk.fit(sentence_vectors_nltk)\n",
    "labels_nltk = kmeans_nltk.labels_"
   ]
  },
  {
   "cell_type": "markdown",
   "metadata": {},
   "source": [
    "# ploting"
   ]
  },
  {
   "cell_type": "code",
   "execution_count": 46,
   "metadata": {},
   "outputs": [],
   "source": [
    "import plotly.express as px\n",
    "import plotly.io as pio\n",
    "# pio.renderers.default = \"browser\""
   ]
  },
  {
   "cell_type": "code",
   "execution_count": 47,
   "metadata": {},
   "outputs": [],
   "source": [
    "from sklearn.manifold import TSNE\n"
   ]
  },
  {
   "cell_type": "code",
   "execution_count": 48,
   "metadata": {},
   "outputs": [],
   "source": [
    "import plotly.graph_objects as go\n",
    "import plotly.io as pio\n",
    "\n"
   ]
  },
  {
   "cell_type": "markdown",
   "metadata": {},
   "source": [
    "## textblobl"
   ]
  },
  {
   "cell_type": "code",
   "execution_count": 49,
   "metadata": {},
   "outputs": [],
   "source": [
    "perplexity_value = min(30, len(sentence_vectors_testblob) - 1)\n",
    "tsne = TSNE(n_components=2, perplexity=perplexity_value, random_state=0)\n",
    "reduced_vectors_2d = tsne.fit_transform(sentence_vectors_testblob)"
   ]
  },
  {
   "cell_type": "code",
   "execution_count": 50,
   "metadata": {},
   "outputs": [
    {
     "data": {
      "application/vnd.plotly.v1+json": {
       "config": {
        "plotlyServerURL": "https://plot.ly"
       },
       "data": [
        {
         "mode": "markers",
         "name": "Cluster 1",
         "type": "scatter",
         "x": [
          14.536059379577637,
          10.824387550354004,
          0.9179701209068298,
          1.8193016052246094,
          2.358405590057373,
          1.8597356081008911,
          4.314886093139648,
          14.983226776123047,
          -8.07044506072998,
          -16.841522216796875,
          15.628427505493164,
          7.606898307800293,
          6.717848300933838,
          -0.5327856540679932,
          -8.424670219421387,
          -14.369821548461914,
          2.9373886585235596,
          4.640966415405273,
          -5.265428066253662,
          -13.723440170288086,
          -15.610993385314941,
          5.649143218994141,
          -1.7588192224502563,
          10.504637718200684,
          10.504637718200684,
          17.045642852783203,
          -5.452980995178223,
          -26.53999900817871
         ],
         "y": [
          -28.66547203063965,
          -32.11201477050781,
          -33.27080154418945,
          -30.73941421508789,
          -39.86581039428711,
          -43.76177978515625,
          -40.49903869628906,
          -14.534269332885742,
          -19.968738555908203,
          -22.35520362854004,
          -23.439550399780273,
          -16.927499771118164,
          -29.244474411010742,
          -21.35460662841797,
          -23.333831787109375,
          -18.654014587402344,
          -22.12698745727539,
          -24.622102737426758,
          -23.875207901000977,
          -22.628551483154297,
          -26.18597412109375,
          -20.758739471435547,
          -28.54853630065918,
          -26.02713966369629,
          -26.02713966369629,
          -19.66594123840332,
          -33.06354904174805,
          -6.424575328826904
         ]
        },
        {
         "mode": "markers",
         "name": "Cluster 2",
         "type": "scatter",
         "x": [
          5.059305191040039,
          5.059305191040039,
          -0.4646685719490051,
          8.61152172088623,
          2.57859468460083,
          11.222631454467773,
          -0.7964257001876831,
          6.048532962799072,
          9.435172080993652,
          -0.11150192469358444,
          7.351154327392578,
          -3.419508218765259,
          13.853863716125488,
          11.145302772521973,
          1.3400907516479492,
          17.658687591552734,
          3.744093656539917,
          3.744093656539917,
          3.744093656539917,
          -4.294442653656006,
          7.7041168212890625,
          3.744093656539917,
          4.48691463470459,
          16.300762176513672,
          8.167652130126953,
          1.8445786237716675,
          5.36819314956665,
          -2.1813745498657227,
          1.2649197578430176
         ],
         "y": [
          34.71720886230469,
          34.71720886230469,
          23.65775489807129,
          23.539152145385742,
          25.393800735473633,
          30.79547691345215,
          30.575252532958984,
          25.88543128967285,
          34.82019805908203,
          27.395008087158203,
          40.37077713012695,
          26.606159210205078,
          39.73530197143555,
          26.62552261352539,
          36.924869537353516,
          26.421154022216797,
          29.7015380859375,
          29.7015380859375,
          29.7015380859375,
          30.599376678466797,
          31.6895751953125,
          29.7015380859375,
          22.61141586303711,
          33.518463134765625,
          28.369020462036133,
          17.733413696289062,
          17.33434295654297,
          34.14891052246094,
          33.32010269165039
         ]
        },
        {
         "mode": "markers",
         "name": "Cluster 3",
         "type": "scatter",
         "x": [
          11.306421279907227,
          15.149772644042969,
          13.631099700927734
         ],
         "y": [
          -20.549400329589844,
          -38.61079025268555,
          -39.97321319580078
         ]
        },
        {
         "mode": "markers",
         "name": "Cluster 4",
         "type": "scatter",
         "x": [
          -3.59391713142395,
          -8.963366508483887,
          -6.3863959312438965,
          -6.313586711883545,
          27.001646041870117,
          1.174507975578308,
          3.501131534576416,
          27.001646041870117,
          -1.509507417678833,
          -7.67031192779541,
          -2.1853861808776855,
          3.4312946796417236,
          -7.466763019561768,
          -0.15557174384593964,
          1.2307162284851074,
          -0.565685510635376,
          24.97439193725586
         ],
         "y": [
          -19.370927810668945,
          -8.094632148742676,
          -16.265480041503906,
          -6.116795063018799,
          14.908561706542969,
          3.272941827774048,
          5.793587684631348,
          14.908561706542969,
          -24.342208862304688,
          -27.962196350097656,
          -10.399813652038574,
          -15.217183113098145,
          -35.993247985839844,
          -17.15866470336914,
          -11.374510765075684,
          -14.19441032409668,
          -21.306997299194336
         ]
        },
        {
         "mode": "markers",
         "name": "Cluster 5",
         "type": "scatter",
         "x": [
          -24.49350357055664,
          -24.49350357055664,
          -20.532272338867188,
          -24.25979232788086
         ],
         "y": [
          22.79915428161621,
          22.79915428161621,
          24.567684173583984,
          18.90747833251953
         ]
        },
        {
         "mode": "markers",
         "name": "Cluster 6",
         "type": "scatter",
         "x": [
          25.065893173217773,
          25.065893173217773
         ],
         "y": [
          -31.828630447387695,
          -31.828630447387695
         ]
        },
        {
         "mode": "markers",
         "name": "Cluster 7",
         "type": "scatter",
         "x": [
          -13.92587947845459,
          -9.1126070022583,
          -13.662848472595215,
          -16.67635154724121,
          -16.67635154724121,
          -18.399431228637695
         ],
         "y": [
          21.229581832885742,
          25.813650131225586,
          33.73696517944336,
          31.661151885986328,
          31.661151885986328,
          36.15913391113281
         ]
        },
        {
         "mode": "markers",
         "name": "Cluster 8",
         "type": "scatter",
         "x": [
          3.313333749771118,
          10.911602973937988,
          -8.207987785339355,
          -4.843941688537598,
          -21.086915969848633,
          -8.207987785339355,
          18.85291862487793,
          -23.449647903442383,
          -24.94256019592285,
          7.15472412109375,
          -3.0670459270477295,
          -20.295352935791016,
          -11.293543815612793,
          -20.400375366210938,
          -5.163561820983887,
          -10.016119956970215,
          -11.577529907226562,
          -6.712958812713623,
          3.5082502365112305,
          17.750904083251953,
          -4.779571533203125,
          -21.72772979736328,
          5.787153244018555,
          -9.81216812133789,
          23.16884994506836,
          11.89973258972168,
          22.444549560546875,
          13.33372974395752,
          17.76343536376953,
          -0.4156908094882965,
          -2.4051990509033203,
          0.4701082408428192
         ],
         "y": [
          -8.712321281433105,
          8.7611083984375,
          9.9229097366333,
          -10.808683395385742,
          5.237419605255127,
          9.9229097366333,
          1.5323271751403809,
          -4.335363864898682,
          0.4853929281234741,
          -8.904821395874023,
          6.781444549560547,
          -18.144479751586914,
          -12.212118148803711,
          -23.73897933959961,
          3.5470407009124756,
          -3.4926276206970215,
          -1.3259369134902954,
          0.6747967004776001,
          -4.242598056793213,
          5.470961093902588,
          -2.778773307800293,
          -28.03561019897461,
          0.4604378342628479,
          5.798715591430664,
          -2.764613151550293,
          1.921014428138733,
          5.282974720001221,
          -1.1124428510665894,
          -0.8942240476608276,
          -3.9371871948242188,
          0.03290490061044693,
          -6.329626560211182
         ]
        },
        {
         "mode": "markers",
         "name": "Cluster 9",
         "type": "scatter",
         "x": [
          4.528301239013672,
          -5.325482368469238,
          -7.258370876312256,
          -7.258370876312256,
          -11.980438232421875,
          -7.258370876312256,
          -1.3828740119934082,
          -2.1953251361846924
         ],
         "y": [
          11.891767501831055,
          38.316444396972656,
          47.53581237792969,
          47.53581237792969,
          2.0103259086608887,
          47.53581237792969,
          14.517955780029297,
          18.342267990112305
         ]
        },
        {
         "mode": "markers",
         "name": "Cluster 10",
         "type": "scatter",
         "x": [
          0.7774611115455627,
          -17.013708114624023,
          1.900209903717041,
          28.59379005432129,
          26.545726776123047,
          16.076078414916992,
          -16.88502311706543,
          -10.88691520690918,
          14.072495460510254,
          -14.840468406677246,
          8.922026634216309,
          8.922026634216309,
          -13.632030487060547
         ],
         "y": [
          -0.1039326936006546,
          5.614658355712891,
          43.41019821166992,
          -10.05018424987793,
          -9.282219886779785,
          12.091512680053711,
          -0.11075020581483841,
          18.92934799194336,
          19.38720703125,
          9.706418991088867,
          -4.019759654998779,
          -4.019759654998779,
          14.579729080200195
         ]
        },
        {
         "mode": "markers",
         "name": "Cluster 11",
         "type": "scatter",
         "x": [
          -17.701929092407227,
          -15.310790061950684,
          -17.569162368774414,
          14.934407234191895,
          12.431612014770508,
          -19.009550094604492,
          -24.442827224731445,
          21.660381317138672,
          -13.39604377746582,
          10.587882995605469,
          17.019336700439453
         ],
         "y": [
          10.858363151550293,
          -5.485875606536865,
          -9.604000091552734,
          -10.284513473510742,
          -9.635884284973145,
          -15.349950790405273,
          -13.758317947387695,
          -13.796936988830566,
          -30.758464813232422,
          -12.85427188873291,
          -7.131174087524414
         ]
        }
       ],
       "layout": {
        "legend": {
         "title": {
          "text": "Clusters"
         }
        },
        "template": {
         "data": {
          "bar": [
           {
            "error_x": {
             "color": "#2a3f5f"
            },
            "error_y": {
             "color": "#2a3f5f"
            },
            "marker": {
             "line": {
              "color": "#E5ECF6",
              "width": 0.5
             },
             "pattern": {
              "fillmode": "overlay",
              "size": 10,
              "solidity": 0.2
             }
            },
            "type": "bar"
           }
          ],
          "barpolar": [
           {
            "marker": {
             "line": {
              "color": "#E5ECF6",
              "width": 0.5
             },
             "pattern": {
              "fillmode": "overlay",
              "size": 10,
              "solidity": 0.2
             }
            },
            "type": "barpolar"
           }
          ],
          "carpet": [
           {
            "aaxis": {
             "endlinecolor": "#2a3f5f",
             "gridcolor": "white",
             "linecolor": "white",
             "minorgridcolor": "white",
             "startlinecolor": "#2a3f5f"
            },
            "baxis": {
             "endlinecolor": "#2a3f5f",
             "gridcolor": "white",
             "linecolor": "white",
             "minorgridcolor": "white",
             "startlinecolor": "#2a3f5f"
            },
            "type": "carpet"
           }
          ],
          "choropleth": [
           {
            "colorbar": {
             "outlinewidth": 0,
             "ticks": ""
            },
            "type": "choropleth"
           }
          ],
          "contour": [
           {
            "colorbar": {
             "outlinewidth": 0,
             "ticks": ""
            },
            "colorscale": [
             [
              0,
              "#0d0887"
             ],
             [
              0.1111111111111111,
              "#46039f"
             ],
             [
              0.2222222222222222,
              "#7201a8"
             ],
             [
              0.3333333333333333,
              "#9c179e"
             ],
             [
              0.4444444444444444,
              "#bd3786"
             ],
             [
              0.5555555555555556,
              "#d8576b"
             ],
             [
              0.6666666666666666,
              "#ed7953"
             ],
             [
              0.7777777777777778,
              "#fb9f3a"
             ],
             [
              0.8888888888888888,
              "#fdca26"
             ],
             [
              1,
              "#f0f921"
             ]
            ],
            "type": "contour"
           }
          ],
          "contourcarpet": [
           {
            "colorbar": {
             "outlinewidth": 0,
             "ticks": ""
            },
            "type": "contourcarpet"
           }
          ],
          "heatmap": [
           {
            "colorbar": {
             "outlinewidth": 0,
             "ticks": ""
            },
            "colorscale": [
             [
              0,
              "#0d0887"
             ],
             [
              0.1111111111111111,
              "#46039f"
             ],
             [
              0.2222222222222222,
              "#7201a8"
             ],
             [
              0.3333333333333333,
              "#9c179e"
             ],
             [
              0.4444444444444444,
              "#bd3786"
             ],
             [
              0.5555555555555556,
              "#d8576b"
             ],
             [
              0.6666666666666666,
              "#ed7953"
             ],
             [
              0.7777777777777778,
              "#fb9f3a"
             ],
             [
              0.8888888888888888,
              "#fdca26"
             ],
             [
              1,
              "#f0f921"
             ]
            ],
            "type": "heatmap"
           }
          ],
          "heatmapgl": [
           {
            "colorbar": {
             "outlinewidth": 0,
             "ticks": ""
            },
            "colorscale": [
             [
              0,
              "#0d0887"
             ],
             [
              0.1111111111111111,
              "#46039f"
             ],
             [
              0.2222222222222222,
              "#7201a8"
             ],
             [
              0.3333333333333333,
              "#9c179e"
             ],
             [
              0.4444444444444444,
              "#bd3786"
             ],
             [
              0.5555555555555556,
              "#d8576b"
             ],
             [
              0.6666666666666666,
              "#ed7953"
             ],
             [
              0.7777777777777778,
              "#fb9f3a"
             ],
             [
              0.8888888888888888,
              "#fdca26"
             ],
             [
              1,
              "#f0f921"
             ]
            ],
            "type": "heatmapgl"
           }
          ],
          "histogram": [
           {
            "marker": {
             "pattern": {
              "fillmode": "overlay",
              "size": 10,
              "solidity": 0.2
             }
            },
            "type": "histogram"
           }
          ],
          "histogram2d": [
           {
            "colorbar": {
             "outlinewidth": 0,
             "ticks": ""
            },
            "colorscale": [
             [
              0,
              "#0d0887"
             ],
             [
              0.1111111111111111,
              "#46039f"
             ],
             [
              0.2222222222222222,
              "#7201a8"
             ],
             [
              0.3333333333333333,
              "#9c179e"
             ],
             [
              0.4444444444444444,
              "#bd3786"
             ],
             [
              0.5555555555555556,
              "#d8576b"
             ],
             [
              0.6666666666666666,
              "#ed7953"
             ],
             [
              0.7777777777777778,
              "#fb9f3a"
             ],
             [
              0.8888888888888888,
              "#fdca26"
             ],
             [
              1,
              "#f0f921"
             ]
            ],
            "type": "histogram2d"
           }
          ],
          "histogram2dcontour": [
           {
            "colorbar": {
             "outlinewidth": 0,
             "ticks": ""
            },
            "colorscale": [
             [
              0,
              "#0d0887"
             ],
             [
              0.1111111111111111,
              "#46039f"
             ],
             [
              0.2222222222222222,
              "#7201a8"
             ],
             [
              0.3333333333333333,
              "#9c179e"
             ],
             [
              0.4444444444444444,
              "#bd3786"
             ],
             [
              0.5555555555555556,
              "#d8576b"
             ],
             [
              0.6666666666666666,
              "#ed7953"
             ],
             [
              0.7777777777777778,
              "#fb9f3a"
             ],
             [
              0.8888888888888888,
              "#fdca26"
             ],
             [
              1,
              "#f0f921"
             ]
            ],
            "type": "histogram2dcontour"
           }
          ],
          "mesh3d": [
           {
            "colorbar": {
             "outlinewidth": 0,
             "ticks": ""
            },
            "type": "mesh3d"
           }
          ],
          "parcoords": [
           {
            "line": {
             "colorbar": {
              "outlinewidth": 0,
              "ticks": ""
             }
            },
            "type": "parcoords"
           }
          ],
          "pie": [
           {
            "automargin": true,
            "type": "pie"
           }
          ],
          "scatter": [
           {
            "fillpattern": {
             "fillmode": "overlay",
             "size": 10,
             "solidity": 0.2
            },
            "type": "scatter"
           }
          ],
          "scatter3d": [
           {
            "line": {
             "colorbar": {
              "outlinewidth": 0,
              "ticks": ""
             }
            },
            "marker": {
             "colorbar": {
              "outlinewidth": 0,
              "ticks": ""
             }
            },
            "type": "scatter3d"
           }
          ],
          "scattercarpet": [
           {
            "marker": {
             "colorbar": {
              "outlinewidth": 0,
              "ticks": ""
             }
            },
            "type": "scattercarpet"
           }
          ],
          "scattergeo": [
           {
            "marker": {
             "colorbar": {
              "outlinewidth": 0,
              "ticks": ""
             }
            },
            "type": "scattergeo"
           }
          ],
          "scattergl": [
           {
            "marker": {
             "colorbar": {
              "outlinewidth": 0,
              "ticks": ""
             }
            },
            "type": "scattergl"
           }
          ],
          "scattermapbox": [
           {
            "marker": {
             "colorbar": {
              "outlinewidth": 0,
              "ticks": ""
             }
            },
            "type": "scattermapbox"
           }
          ],
          "scatterpolar": [
           {
            "marker": {
             "colorbar": {
              "outlinewidth": 0,
              "ticks": ""
             }
            },
            "type": "scatterpolar"
           }
          ],
          "scatterpolargl": [
           {
            "marker": {
             "colorbar": {
              "outlinewidth": 0,
              "ticks": ""
             }
            },
            "type": "scatterpolargl"
           }
          ],
          "scatterternary": [
           {
            "marker": {
             "colorbar": {
              "outlinewidth": 0,
              "ticks": ""
             }
            },
            "type": "scatterternary"
           }
          ],
          "surface": [
           {
            "colorbar": {
             "outlinewidth": 0,
             "ticks": ""
            },
            "colorscale": [
             [
              0,
              "#0d0887"
             ],
             [
              0.1111111111111111,
              "#46039f"
             ],
             [
              0.2222222222222222,
              "#7201a8"
             ],
             [
              0.3333333333333333,
              "#9c179e"
             ],
             [
              0.4444444444444444,
              "#bd3786"
             ],
             [
              0.5555555555555556,
              "#d8576b"
             ],
             [
              0.6666666666666666,
              "#ed7953"
             ],
             [
              0.7777777777777778,
              "#fb9f3a"
             ],
             [
              0.8888888888888888,
              "#fdca26"
             ],
             [
              1,
              "#f0f921"
             ]
            ],
            "type": "surface"
           }
          ],
          "table": [
           {
            "cells": {
             "fill": {
              "color": "#EBF0F8"
             },
             "line": {
              "color": "white"
             }
            },
            "header": {
             "fill": {
              "color": "#C8D4E3"
             },
             "line": {
              "color": "white"
             }
            },
            "type": "table"
           }
          ]
         },
         "layout": {
          "annotationdefaults": {
           "arrowcolor": "#2a3f5f",
           "arrowhead": 0,
           "arrowwidth": 1
          },
          "autotypenumbers": "strict",
          "coloraxis": {
           "colorbar": {
            "outlinewidth": 0,
            "ticks": ""
           }
          },
          "colorscale": {
           "diverging": [
            [
             0,
             "#8e0152"
            ],
            [
             0.1,
             "#c51b7d"
            ],
            [
             0.2,
             "#de77ae"
            ],
            [
             0.3,
             "#f1b6da"
            ],
            [
             0.4,
             "#fde0ef"
            ],
            [
             0.5,
             "#f7f7f7"
            ],
            [
             0.6,
             "#e6f5d0"
            ],
            [
             0.7,
             "#b8e186"
            ],
            [
             0.8,
             "#7fbc41"
            ],
            [
             0.9,
             "#4d9221"
            ],
            [
             1,
             "#276419"
            ]
           ],
           "sequential": [
            [
             0,
             "#0d0887"
            ],
            [
             0.1111111111111111,
             "#46039f"
            ],
            [
             0.2222222222222222,
             "#7201a8"
            ],
            [
             0.3333333333333333,
             "#9c179e"
            ],
            [
             0.4444444444444444,
             "#bd3786"
            ],
            [
             0.5555555555555556,
             "#d8576b"
            ],
            [
             0.6666666666666666,
             "#ed7953"
            ],
            [
             0.7777777777777778,
             "#fb9f3a"
            ],
            [
             0.8888888888888888,
             "#fdca26"
            ],
            [
             1,
             "#f0f921"
            ]
           ],
           "sequentialminus": [
            [
             0,
             "#0d0887"
            ],
            [
             0.1111111111111111,
             "#46039f"
            ],
            [
             0.2222222222222222,
             "#7201a8"
            ],
            [
             0.3333333333333333,
             "#9c179e"
            ],
            [
             0.4444444444444444,
             "#bd3786"
            ],
            [
             0.5555555555555556,
             "#d8576b"
            ],
            [
             0.6666666666666666,
             "#ed7953"
            ],
            [
             0.7777777777777778,
             "#fb9f3a"
            ],
            [
             0.8888888888888888,
             "#fdca26"
            ],
            [
             1,
             "#f0f921"
            ]
           ]
          },
          "colorway": [
           "#636efa",
           "#EF553B",
           "#00cc96",
           "#ab63fa",
           "#FFA15A",
           "#19d3f3",
           "#FF6692",
           "#B6E880",
           "#FF97FF",
           "#FECB52"
          ],
          "font": {
           "color": "#2a3f5f"
          },
          "geo": {
           "bgcolor": "white",
           "lakecolor": "white",
           "landcolor": "#E5ECF6",
           "showlakes": true,
           "showland": true,
           "subunitcolor": "white"
          },
          "hoverlabel": {
           "align": "left"
          },
          "hovermode": "closest",
          "mapbox": {
           "style": "light"
          },
          "paper_bgcolor": "white",
          "plot_bgcolor": "#E5ECF6",
          "polar": {
           "angularaxis": {
            "gridcolor": "white",
            "linecolor": "white",
            "ticks": ""
           },
           "bgcolor": "#E5ECF6",
           "radialaxis": {
            "gridcolor": "white",
            "linecolor": "white",
            "ticks": ""
           }
          },
          "scene": {
           "xaxis": {
            "backgroundcolor": "#E5ECF6",
            "gridcolor": "white",
            "gridwidth": 2,
            "linecolor": "white",
            "showbackground": true,
            "ticks": "",
            "zerolinecolor": "white"
           },
           "yaxis": {
            "backgroundcolor": "#E5ECF6",
            "gridcolor": "white",
            "gridwidth": 2,
            "linecolor": "white",
            "showbackground": true,
            "ticks": "",
            "zerolinecolor": "white"
           },
           "zaxis": {
            "backgroundcolor": "#E5ECF6",
            "gridcolor": "white",
            "gridwidth": 2,
            "linecolor": "white",
            "showbackground": true,
            "ticks": "",
            "zerolinecolor": "white"
           }
          },
          "shapedefaults": {
           "line": {
            "color": "#2a3f5f"
           }
          },
          "ternary": {
           "aaxis": {
            "gridcolor": "white",
            "linecolor": "white",
            "ticks": ""
           },
           "baxis": {
            "gridcolor": "white",
            "linecolor": "white",
            "ticks": ""
           },
           "bgcolor": "#E5ECF6",
           "caxis": {
            "gridcolor": "white",
            "linecolor": "white",
            "ticks": ""
           }
          },
          "title": {
           "x": 0.05
          },
          "xaxis": {
           "automargin": true,
           "gridcolor": "white",
           "linecolor": "white",
           "ticks": "",
           "title": {
            "standoff": 15
           },
           "zerolinecolor": "white",
           "zerolinewidth": 2
          },
          "yaxis": {
           "automargin": true,
           "gridcolor": "white",
           "linecolor": "white",
           "ticks": "",
           "title": {
            "standoff": 15
           },
           "zerolinecolor": "white",
           "zerolinewidth": 2
          }
         }
        },
        "title": {
         "text": "Sentence Clusters Visualized with t-SNE(Textblob)"
        },
        "xaxis": {
         "title": {
          "text": "t-SNE Dimension 1"
         }
        },
        "yaxis": {
         "title": {
          "text": "t-SNE Dimension 2"
         }
        }
       }
      }
     },
     "metadata": {},
     "output_type": "display_data"
    }
   ],
   "source": [
    "\n",
    "\n",
    "fig = go.Figure()\n",
    "\n",
    "for i in range(num_clusters):\n",
    "    indices = labels_textblob == i\n",
    "    fig.add_trace(go.Scatter(\n",
    "        x=reduced_vectors_2d[indices, 0],\n",
    "        y=reduced_vectors_2d[indices, 1],\n",
    "        mode='markers',\n",
    "        name=f'Cluster {i + 1}'\n",
    "    ))\n",
    "\n",
    "fig.update_layout(\n",
    "    title='Sentence Clusters Visualized with t-SNE(Textblob)',\n",
    "    xaxis_title='t-SNE Dimension 1',\n",
    "    yaxis_title='t-SNE Dimension 2',\n",
    "    legend_title=\"Clusters\"\n",
    ")\n",
    "\n",
    "pio.show(fig)\n"
   ]
  },
  {
   "cell_type": "code",
   "execution_count": 51,
   "metadata": {},
   "outputs": [
    {
     "data": {
      "application/vnd.plotly.v1+json": {
       "config": {
        "plotlyServerURL": "https://plot.ly"
       },
       "data": [
        {
         "mode": "markers",
         "name": "Cluster 1",
         "type": "scatter3d",
         "x": [
          25.69911003112793,
          76.81116485595703,
          47.896812438964844,
          -75.46041870117188,
          63.56319046020508,
          11.153088569641113,
          49.87830352783203,
          39.74662780761719,
          98.15576934814453,
          2.707986831665039,
          54.34275436401367,
          -14.9527587890625,
          64.69549560546875,
          47.43317413330078,
          78.89781188964844,
          31.418798446655273,
          36.64286804199219,
          31.004552841186523,
          -77.05963134765625,
          11.83500862121582,
          -12.804709434509277,
          12.880755424499512,
          -25.962238311767578,
          59.614784240722656,
          59.614784240722656,
          60.97956085205078,
          70.94400787353516,
          46.554656982421875
         ],
         "y": [
          91.078125,
          -20.928518295288086,
          -1.191724419593811,
          35.959678649902344,
          -62.475013732910156,
          99.80509185791016,
          -52.45763397216797,
          34.6188850402832,
          10.27905559539795,
          -42.958763122558594,
          -63.89437484741211,
          19.193050384521484,
          21.073986053466797,
          15.905519485473633,
          -0.7481485605239868,
          -39.598697662353516,
          3.940951347351074,
          -14.76724624633789,
          4.796885967254639,
          -18.97160530090332,
          -19.278003692626953,
          9.38599681854248,
          65.23858642578125,
          -9.564007759094238,
          -9.564007759094238,
          7.885459899902344,
          -14.644342422485352,
          -15.109161376953125
         ],
         "z": [
          65.7218017578125,
          43.295013427734375,
          -100.6014175415039,
          -41.07794189453125,
          -57.18833923339844,
          -60.60890579223633,
          -46.020503997802734,
          47.97523498535156,
          -46.7080078125,
          -72.62371063232422,
          -8.350618362426758,
          -86.63716125488281,
          26.40611457824707,
          -39.268348693847656,
          -27.156957626342773,
          -82.38388061523438,
          -65.1169204711914,
          -48.424232482910156,
          -49.38211441040039,
          113.42039489746094,
          -65.25655364990234,
          -64.29015350341797,
          -82.89925384521484,
          18.957000732421875,
          18.957000732421875,
          60.505645751953125,
          -68.37765502929688,
          -16.118846893310547
         ]
        },
        {
         "mode": "markers",
         "name": "Cluster 2",
         "type": "scatter3d",
         "x": [
          -11.12751579284668,
          -11.12751579284668,
          -62.81272888183594,
          95.84780883789062,
          -24.458219528198242,
          -12.162477493286133,
          -71.56228637695312,
          -66.23388671875,
          -25.555871963500977,
          -38.721710205078125,
          67.29886627197266,
          -8.956820487976074,
          108.40030670166016,
          -47.892601013183594,
          -33.53532409667969,
          42.881568908691406,
          -40.58608627319336,
          -40.58608627319336,
          -40.58608627319336,
          -64.18990325927734,
          -41.79237365722656,
          -40.58608627319336,
          3.3106167316436768,
          108.76335906982422,
          -44.1387939453125,
          -42.85981369018555,
          -45.359493255615234,
          105.71955871582031,
          -53.971378326416016
         ],
         "y": [
          43.271671295166016,
          43.271671295166016,
          36.14463806152344,
          9.084858894348145,
          33.83357238769531,
          3.996807813644409,
          6.2176690101623535,
          -7.713212013244629,
          -21.218772888183594,
          -8.429059028625488,
          -97.71475982666016,
          13.637938499450684,
          -45.6670036315918,
          18.054048538208008,
          24.708911895751953,
          -67.08155059814453,
          9.197336196899414,
          9.197336196899414,
          9.197336196899414,
          22.802011489868164,
          45.21417236328125,
          9.197336196899414,
          104.68608856201172,
          -47.778900146484375,
          -11.978484153747559,
          5.823566436767578,
          8.8139066696167,
          -23.085674285888672,
          -25.3647518157959
         ],
         "z": [
          30.914587020874023,
          30.914587020874023,
          43.424110412597656,
          9.098709106445312,
          58.44622039794922,
          12.730196952819824,
          49.90751647949219,
          16.000246047973633,
          24.488101959228516,
          -0.29878178238868713,
          34.137908935546875,
          41.024986267089844,
          36.82651901245117,
          68.66140747070312,
          2.1043922901153564,
          34.77476501464844,
          33.06616973876953,
          33.06616973876953,
          33.06616973876953,
          9.409646034240723,
          25.290546417236328,
          33.06616973876953,
          -9.524490356445312,
          -34.21299362182617,
          63.8503303527832,
          -53.89887237548828,
          -28.214088439941406,
          2.7564890384674072,
          38.14326477050781
         ]
        },
        {
         "mode": "markers",
         "name": "Cluster 3",
         "type": "scatter3d",
         "x": [
          54.3912467956543,
          89.53787231445312,
          72.72996520996094
         ],
         "y": [
          -41.86929702758789,
          66.83160400390625,
          56.39725112915039
         ],
         "z": [
          21.85621452331543,
          13.809833526611328,
          9.815649032592773
         ]
        },
        {
         "mode": "markers",
         "name": "Cluster 4",
         "type": "scatter3d",
         "x": [
          68.01885223388672,
          11.594376564025879,
          101.81806182861328,
          82.19876861572266,
          -21.126596450805664,
          7.650907039642334,
          -5.603654384613037,
          -21.126596450805664,
          63.308040618896484,
          81.32064819335938,
          38.67694091796875,
          62.27871322631836,
          73.075927734375,
          54.25270080566406,
          22.716066360473633,
          33.111839294433594,
          45.03908157348633
         ],
         "y": [
          33.25822067260742,
          54.128963470458984,
          35.90878677368164,
          -64.70680236816406,
          84.18631744384766,
          64.45472717285156,
          41.41261672973633,
          84.18631744384766,
          18.205280303955078,
          72.6323471069336,
          25.645362854003906,
          52.04102325439453,
          -53.3714714050293,
          47.33475112915039,
          1.05433988571167,
          44.85009765625,
          74.40843963623047
         ],
         "z": [
          -25.43091583251953,
          76.22550201416016,
          -25.551925659179688,
          3.130188465118408,
          9.514913558959961,
          -5.619357109069824,
          -9.537983894348145,
          9.514913558959961,
          -61.89809036254883,
          -35.19123840332031,
          -2.246769428253174,
          -80.06442260742188,
          67.39230346679688,
          -48.663238525390625,
          26.44186019897461,
          -61.022953033447266,
          -54.79735565185547
         ]
        },
        {
         "mode": "markers",
         "name": "Cluster 5",
         "type": "scatter3d",
         "x": [
          -107.03184509277344,
          -107.03184509277344,
          -112.73959350585938,
          -104.9327621459961
         ],
         "y": [
          23.22176742553711,
          23.22176742553711,
          -2.0819132328033447,
          34.73780822753906
         ],
         "z": [
          29.02617645263672,
          29.02617645263672,
          10.816247940063477,
          2.2551355361938477
         ]
        },
        {
         "mode": "markers",
         "name": "Cluster 6",
         "type": "scatter3d",
         "x": [
          103.15238952636719,
          103.15238952636719
         ],
         "y": [
          21.060497283935547,
          21.060497283935547
         ],
         "z": [
          52.78160858154297,
          52.78160858154297
         ]
        },
        {
         "mode": "markers",
         "name": "Cluster 7",
         "type": "scatter3d",
         "x": [
          -102.41874694824219,
          -70.97286987304688,
          -92.94420623779297,
          -98.62286376953125,
          -98.62286376953125,
          -80.45209503173828
         ],
         "y": [
          -28.308359146118164,
          77.38560485839844,
          -49.19527053833008,
          -23.73329734802246,
          -23.73329734802246,
          -38.2535514831543
         ],
         "z": [
          -29.877872467041016,
          27.85453987121582,
          34.31044006347656,
          44.10603713989258,
          44.10603713989258,
          68.95320892333984
         ]
        },
        {
         "mode": "markers",
         "name": "Cluster 8",
         "type": "scatter3d",
         "x": [
          35.370582580566406,
          -42.82312774658203,
          15.63565731048584,
          24.098831176757812,
          31.20387840270996,
          15.63565731048584,
          -17.618738174438477,
          26.94109535217285,
          10.458264350891113,
          74.76860046386719,
          31.39670753479004,
          -17.179101943969727,
          41.002891540527344,
          -4.367466449737549,
          10.657042503356934,
          -0.38931459188461304,
          -73.40204620361328,
          7.013852119445801,
          -11.24592399597168,
          -29.951292037963867,
          4.610270023345947,
          -22.38889503479004,
          9.579005241394043,
          12.023993492126465,
          2.8264920711517334,
          -91.0211410522461,
          -74.08910369873047,
          0.993510365486145,
          23.421791076660156,
          2.8381357192993164,
          -4.66253662109375,
          15.977218627929688
         ],
         "y": [
          51.65128707885742,
          48.64576721191406,
          -35.82059860229492,
          32.161338806152344,
          -58.70185089111328,
          -35.82059860229492,
          -49.401939392089844,
          0.8656333088874817,
          -81.79322814941406,
          -33.363094329833984,
          -96.63217163085938,
          -63.400047302246094,
          89.83296203613281,
          -26.322357177734375,
          -80.59504699707031,
          63.6513557434082,
          -51.62007141113281,
          -71.83370208740234,
          27.13471031188965,
          -76.0088119506836,
          14.393658638000488,
          -52.024784088134766,
          41.41439437866211,
          -46.87421417236328,
          -116.93846130371094,
          70.37498474121094,
          -65.34413146972656,
          -22.498456954956055,
          -27.845104217529297,
          -52.41127395629883,
          -11.840726852416992,
          30.978748321533203
         ],
         "z": [
          -18.12281608581543,
          91.57514953613281,
          -4.814188003540039,
          16.12049674987793,
          95.77033233642578,
          -4.814188003540039,
          3.0228779315948486,
          -13.268681526184082,
          63.90953826904297,
          -18.310157775878906,
          -2.8577890396118164,
          -54.462440490722656,
          -9.806649208068848,
          -94.3864517211914,
          -15.136712074279785,
          -46.82108688354492,
          -10.518564224243164,
          9.388510704040527,
          -45.94822311401367,
          -4.383391857147217,
          -12.999300003051758,
          -96.84748077392578,
          -94.73863983154297,
          -32.294010162353516,
          -25.938751220703125,
          -21.343505859375,
          -56.21421432495117,
          45.79483413696289,
          29.72357177734375,
          31.91493034362793,
          -25.790687561035156,
          -34.901939392089844
         ]
        },
        {
         "mode": "markers",
         "name": "Cluster 9",
         "type": "scatter3d",
         "x": [
          -70.9299545288086,
          -50.78752517700195,
          -50.49156188964844,
          -50.49156188964844,
          -39.92691421508789,
          -50.49156188964844,
          -58.92361068725586,
          -54.16438674926758
         ],
         "y": [
          -88.83740234375,
          -42.89073181152344,
          -85.08699798583984,
          -85.08699798583984,
          -73.00421905517578,
          -85.08699798583984,
          -2.844424247741699,
          25.598621368408203
         ],
         "z": [
          -9.878875732421875,
          9.746119499206543,
          35.21803283691406,
          35.21803283691406,
          73.5575942993164,
          35.21803283691406,
          -82.87882232666016,
          -73.92730712890625
         ]
        },
        {
         "mode": "markers",
         "name": "Cluster 10",
         "type": "scatter3d",
         "x": [
          18.85542869567871,
          28.127859115600586,
          -27.18260383605957,
          -46.64863586425781,
          -38.35749816894531,
          -73.1827163696289,
          -40.09465789794922,
          -86.538818359375,
          -57.71552658081055,
          28.8408260345459,
          -3.786173105239868,
          -3.786173105239868,
          -61.10558319091797
         ],
         "y": [
          8.352102279663086,
          -49.58292770385742,
          -46.41407775878906,
          63.82457733154297,
          55.18181610107422,
          62.34353256225586,
          -83.70820617675781,
          -11.869527816772461,
          57.286678314208984,
          -17.383028030395508,
          -5.688567161560059,
          -5.688567161560059,
          -26.599863052368164
         ],
         "z": [
          58.99515151977539,
          67.72007751464844,
          52.746978759765625,
          -45.50313949584961,
          -28.55608558654785,
          69.77128601074219,
          -40.90571975708008,
          -11.314753532409668,
          -3.028597593307495,
          68.10701751708984,
          73.16171264648438,
          73.16171264648438,
          -27.668493270874023
         ]
        },
        {
         "mode": "markers",
         "name": "Cluster 11",
         "type": "scatter3d",
         "x": [
          41.93659591674805,
          12.003993034362793,
          -37.17094421386719,
          41.7244873046875,
          -5.82694149017334,
          -25.119205474853516,
          -45.822784423828125,
          -20.43588638305664,
          18.64076805114746,
          51.22320556640625,
          64.33323669433594
         ],
         "y": [
          -11.280413627624512,
          23.317140579223633,
          100.86532592773438,
          67.15125274658203,
          -35.71778106689453,
          -47.06644821166992,
          -39.31554412841797,
          89.9190444946289,
          -82.26368713378906,
          37.039798736572266,
          63.010013580322266
         ],
         "z": [
          88.06258392333984,
          103.45215606689453,
          -31.05135154724121,
          36.256629943847656,
          79.96861267089844,
          -37.65061950683594,
          -66.33912658691406,
          55.755706787109375,
          -64.965576171875,
          87.08826446533203,
          61.232200622558594
         ]
        }
       ],
       "layout": {
        "scene": {
         "xaxis": {
          "title": {
           "text": "t-SNE Dimension 1"
          }
         },
         "yaxis": {
          "title": {
           "text": "t-SNE Dimension 2"
          }
         },
         "zaxis": {
          "title": {
           "text": "t-SNE Dimension 3"
          }
         }
        },
        "template": {
         "data": {
          "bar": [
           {
            "error_x": {
             "color": "#2a3f5f"
            },
            "error_y": {
             "color": "#2a3f5f"
            },
            "marker": {
             "line": {
              "color": "#E5ECF6",
              "width": 0.5
             },
             "pattern": {
              "fillmode": "overlay",
              "size": 10,
              "solidity": 0.2
             }
            },
            "type": "bar"
           }
          ],
          "barpolar": [
           {
            "marker": {
             "line": {
              "color": "#E5ECF6",
              "width": 0.5
             },
             "pattern": {
              "fillmode": "overlay",
              "size": 10,
              "solidity": 0.2
             }
            },
            "type": "barpolar"
           }
          ],
          "carpet": [
           {
            "aaxis": {
             "endlinecolor": "#2a3f5f",
             "gridcolor": "white",
             "linecolor": "white",
             "minorgridcolor": "white",
             "startlinecolor": "#2a3f5f"
            },
            "baxis": {
             "endlinecolor": "#2a3f5f",
             "gridcolor": "white",
             "linecolor": "white",
             "minorgridcolor": "white",
             "startlinecolor": "#2a3f5f"
            },
            "type": "carpet"
           }
          ],
          "choropleth": [
           {
            "colorbar": {
             "outlinewidth": 0,
             "ticks": ""
            },
            "type": "choropleth"
           }
          ],
          "contour": [
           {
            "colorbar": {
             "outlinewidth": 0,
             "ticks": ""
            },
            "colorscale": [
             [
              0,
              "#0d0887"
             ],
             [
              0.1111111111111111,
              "#46039f"
             ],
             [
              0.2222222222222222,
              "#7201a8"
             ],
             [
              0.3333333333333333,
              "#9c179e"
             ],
             [
              0.4444444444444444,
              "#bd3786"
             ],
             [
              0.5555555555555556,
              "#d8576b"
             ],
             [
              0.6666666666666666,
              "#ed7953"
             ],
             [
              0.7777777777777778,
              "#fb9f3a"
             ],
             [
              0.8888888888888888,
              "#fdca26"
             ],
             [
              1,
              "#f0f921"
             ]
            ],
            "type": "contour"
           }
          ],
          "contourcarpet": [
           {
            "colorbar": {
             "outlinewidth": 0,
             "ticks": ""
            },
            "type": "contourcarpet"
           }
          ],
          "heatmap": [
           {
            "colorbar": {
             "outlinewidth": 0,
             "ticks": ""
            },
            "colorscale": [
             [
              0,
              "#0d0887"
             ],
             [
              0.1111111111111111,
              "#46039f"
             ],
             [
              0.2222222222222222,
              "#7201a8"
             ],
             [
              0.3333333333333333,
              "#9c179e"
             ],
             [
              0.4444444444444444,
              "#bd3786"
             ],
             [
              0.5555555555555556,
              "#d8576b"
             ],
             [
              0.6666666666666666,
              "#ed7953"
             ],
             [
              0.7777777777777778,
              "#fb9f3a"
             ],
             [
              0.8888888888888888,
              "#fdca26"
             ],
             [
              1,
              "#f0f921"
             ]
            ],
            "type": "heatmap"
           }
          ],
          "heatmapgl": [
           {
            "colorbar": {
             "outlinewidth": 0,
             "ticks": ""
            },
            "colorscale": [
             [
              0,
              "#0d0887"
             ],
             [
              0.1111111111111111,
              "#46039f"
             ],
             [
              0.2222222222222222,
              "#7201a8"
             ],
             [
              0.3333333333333333,
              "#9c179e"
             ],
             [
              0.4444444444444444,
              "#bd3786"
             ],
             [
              0.5555555555555556,
              "#d8576b"
             ],
             [
              0.6666666666666666,
              "#ed7953"
             ],
             [
              0.7777777777777778,
              "#fb9f3a"
             ],
             [
              0.8888888888888888,
              "#fdca26"
             ],
             [
              1,
              "#f0f921"
             ]
            ],
            "type": "heatmapgl"
           }
          ],
          "histogram": [
           {
            "marker": {
             "pattern": {
              "fillmode": "overlay",
              "size": 10,
              "solidity": 0.2
             }
            },
            "type": "histogram"
           }
          ],
          "histogram2d": [
           {
            "colorbar": {
             "outlinewidth": 0,
             "ticks": ""
            },
            "colorscale": [
             [
              0,
              "#0d0887"
             ],
             [
              0.1111111111111111,
              "#46039f"
             ],
             [
              0.2222222222222222,
              "#7201a8"
             ],
             [
              0.3333333333333333,
              "#9c179e"
             ],
             [
              0.4444444444444444,
              "#bd3786"
             ],
             [
              0.5555555555555556,
              "#d8576b"
             ],
             [
              0.6666666666666666,
              "#ed7953"
             ],
             [
              0.7777777777777778,
              "#fb9f3a"
             ],
             [
              0.8888888888888888,
              "#fdca26"
             ],
             [
              1,
              "#f0f921"
             ]
            ],
            "type": "histogram2d"
           }
          ],
          "histogram2dcontour": [
           {
            "colorbar": {
             "outlinewidth": 0,
             "ticks": ""
            },
            "colorscale": [
             [
              0,
              "#0d0887"
             ],
             [
              0.1111111111111111,
              "#46039f"
             ],
             [
              0.2222222222222222,
              "#7201a8"
             ],
             [
              0.3333333333333333,
              "#9c179e"
             ],
             [
              0.4444444444444444,
              "#bd3786"
             ],
             [
              0.5555555555555556,
              "#d8576b"
             ],
             [
              0.6666666666666666,
              "#ed7953"
             ],
             [
              0.7777777777777778,
              "#fb9f3a"
             ],
             [
              0.8888888888888888,
              "#fdca26"
             ],
             [
              1,
              "#f0f921"
             ]
            ],
            "type": "histogram2dcontour"
           }
          ],
          "mesh3d": [
           {
            "colorbar": {
             "outlinewidth": 0,
             "ticks": ""
            },
            "type": "mesh3d"
           }
          ],
          "parcoords": [
           {
            "line": {
             "colorbar": {
              "outlinewidth": 0,
              "ticks": ""
             }
            },
            "type": "parcoords"
           }
          ],
          "pie": [
           {
            "automargin": true,
            "type": "pie"
           }
          ],
          "scatter": [
           {
            "fillpattern": {
             "fillmode": "overlay",
             "size": 10,
             "solidity": 0.2
            },
            "type": "scatter"
           }
          ],
          "scatter3d": [
           {
            "line": {
             "colorbar": {
              "outlinewidth": 0,
              "ticks": ""
             }
            },
            "marker": {
             "colorbar": {
              "outlinewidth": 0,
              "ticks": ""
             }
            },
            "type": "scatter3d"
           }
          ],
          "scattercarpet": [
           {
            "marker": {
             "colorbar": {
              "outlinewidth": 0,
              "ticks": ""
             }
            },
            "type": "scattercarpet"
           }
          ],
          "scattergeo": [
           {
            "marker": {
             "colorbar": {
              "outlinewidth": 0,
              "ticks": ""
             }
            },
            "type": "scattergeo"
           }
          ],
          "scattergl": [
           {
            "marker": {
             "colorbar": {
              "outlinewidth": 0,
              "ticks": ""
             }
            },
            "type": "scattergl"
           }
          ],
          "scattermapbox": [
           {
            "marker": {
             "colorbar": {
              "outlinewidth": 0,
              "ticks": ""
             }
            },
            "type": "scattermapbox"
           }
          ],
          "scatterpolar": [
           {
            "marker": {
             "colorbar": {
              "outlinewidth": 0,
              "ticks": ""
             }
            },
            "type": "scatterpolar"
           }
          ],
          "scatterpolargl": [
           {
            "marker": {
             "colorbar": {
              "outlinewidth": 0,
              "ticks": ""
             }
            },
            "type": "scatterpolargl"
           }
          ],
          "scatterternary": [
           {
            "marker": {
             "colorbar": {
              "outlinewidth": 0,
              "ticks": ""
             }
            },
            "type": "scatterternary"
           }
          ],
          "surface": [
           {
            "colorbar": {
             "outlinewidth": 0,
             "ticks": ""
            },
            "colorscale": [
             [
              0,
              "#0d0887"
             ],
             [
              0.1111111111111111,
              "#46039f"
             ],
             [
              0.2222222222222222,
              "#7201a8"
             ],
             [
              0.3333333333333333,
              "#9c179e"
             ],
             [
              0.4444444444444444,
              "#bd3786"
             ],
             [
              0.5555555555555556,
              "#d8576b"
             ],
             [
              0.6666666666666666,
              "#ed7953"
             ],
             [
              0.7777777777777778,
              "#fb9f3a"
             ],
             [
              0.8888888888888888,
              "#fdca26"
             ],
             [
              1,
              "#f0f921"
             ]
            ],
            "type": "surface"
           }
          ],
          "table": [
           {
            "cells": {
             "fill": {
              "color": "#EBF0F8"
             },
             "line": {
              "color": "white"
             }
            },
            "header": {
             "fill": {
              "color": "#C8D4E3"
             },
             "line": {
              "color": "white"
             }
            },
            "type": "table"
           }
          ]
         },
         "layout": {
          "annotationdefaults": {
           "arrowcolor": "#2a3f5f",
           "arrowhead": 0,
           "arrowwidth": 1
          },
          "autotypenumbers": "strict",
          "coloraxis": {
           "colorbar": {
            "outlinewidth": 0,
            "ticks": ""
           }
          },
          "colorscale": {
           "diverging": [
            [
             0,
             "#8e0152"
            ],
            [
             0.1,
             "#c51b7d"
            ],
            [
             0.2,
             "#de77ae"
            ],
            [
             0.3,
             "#f1b6da"
            ],
            [
             0.4,
             "#fde0ef"
            ],
            [
             0.5,
             "#f7f7f7"
            ],
            [
             0.6,
             "#e6f5d0"
            ],
            [
             0.7,
             "#b8e186"
            ],
            [
             0.8,
             "#7fbc41"
            ],
            [
             0.9,
             "#4d9221"
            ],
            [
             1,
             "#276419"
            ]
           ],
           "sequential": [
            [
             0,
             "#0d0887"
            ],
            [
             0.1111111111111111,
             "#46039f"
            ],
            [
             0.2222222222222222,
             "#7201a8"
            ],
            [
             0.3333333333333333,
             "#9c179e"
            ],
            [
             0.4444444444444444,
             "#bd3786"
            ],
            [
             0.5555555555555556,
             "#d8576b"
            ],
            [
             0.6666666666666666,
             "#ed7953"
            ],
            [
             0.7777777777777778,
             "#fb9f3a"
            ],
            [
             0.8888888888888888,
             "#fdca26"
            ],
            [
             1,
             "#f0f921"
            ]
           ],
           "sequentialminus": [
            [
             0,
             "#0d0887"
            ],
            [
             0.1111111111111111,
             "#46039f"
            ],
            [
             0.2222222222222222,
             "#7201a8"
            ],
            [
             0.3333333333333333,
             "#9c179e"
            ],
            [
             0.4444444444444444,
             "#bd3786"
            ],
            [
             0.5555555555555556,
             "#d8576b"
            ],
            [
             0.6666666666666666,
             "#ed7953"
            ],
            [
             0.7777777777777778,
             "#fb9f3a"
            ],
            [
             0.8888888888888888,
             "#fdca26"
            ],
            [
             1,
             "#f0f921"
            ]
           ]
          },
          "colorway": [
           "#636efa",
           "#EF553B",
           "#00cc96",
           "#ab63fa",
           "#FFA15A",
           "#19d3f3",
           "#FF6692",
           "#B6E880",
           "#FF97FF",
           "#FECB52"
          ],
          "font": {
           "color": "#2a3f5f"
          },
          "geo": {
           "bgcolor": "white",
           "lakecolor": "white",
           "landcolor": "#E5ECF6",
           "showlakes": true,
           "showland": true,
           "subunitcolor": "white"
          },
          "hoverlabel": {
           "align": "left"
          },
          "hovermode": "closest",
          "mapbox": {
           "style": "light"
          },
          "paper_bgcolor": "white",
          "plot_bgcolor": "#E5ECF6",
          "polar": {
           "angularaxis": {
            "gridcolor": "white",
            "linecolor": "white",
            "ticks": ""
           },
           "bgcolor": "#E5ECF6",
           "radialaxis": {
            "gridcolor": "white",
            "linecolor": "white",
            "ticks": ""
           }
          },
          "scene": {
           "xaxis": {
            "backgroundcolor": "#E5ECF6",
            "gridcolor": "white",
            "gridwidth": 2,
            "linecolor": "white",
            "showbackground": true,
            "ticks": "",
            "zerolinecolor": "white"
           },
           "yaxis": {
            "backgroundcolor": "#E5ECF6",
            "gridcolor": "white",
            "gridwidth": 2,
            "linecolor": "white",
            "showbackground": true,
            "ticks": "",
            "zerolinecolor": "white"
           },
           "zaxis": {
            "backgroundcolor": "#E5ECF6",
            "gridcolor": "white",
            "gridwidth": 2,
            "linecolor": "white",
            "showbackground": true,
            "ticks": "",
            "zerolinecolor": "white"
           }
          },
          "shapedefaults": {
           "line": {
            "color": "#2a3f5f"
           }
          },
          "ternary": {
           "aaxis": {
            "gridcolor": "white",
            "linecolor": "white",
            "ticks": ""
           },
           "baxis": {
            "gridcolor": "white",
            "linecolor": "white",
            "ticks": ""
           },
           "bgcolor": "#E5ECF6",
           "caxis": {
            "gridcolor": "white",
            "linecolor": "white",
            "ticks": ""
           }
          },
          "title": {
           "x": 0.05
          },
          "xaxis": {
           "automargin": true,
           "gridcolor": "white",
           "linecolor": "white",
           "ticks": "",
           "title": {
            "standoff": 15
           },
           "zerolinecolor": "white",
           "zerolinewidth": 2
          },
          "yaxis": {
           "automargin": true,
           "gridcolor": "white",
           "linecolor": "white",
           "ticks": "",
           "title": {
            "standoff": 15
           },
           "zerolinecolor": "white",
           "zerolinewidth": 2
          }
         }
        },
        "title": {
         "text": "3D Sentence Clusters(Textblob)"
        }
       }
      }
     },
     "metadata": {},
     "output_type": "display_data"
    }
   ],
   "source": [
    "\n",
    "# Perform t-SNE dimensionality reduction for 3D visualization\n",
    "perplexity_value = min(30, len(sentence_vectors_testblob) - 1)\n",
    "tsne_3d = TSNE(n_components=3,perplexity=perplexity_value, random_state=0)\n",
    "reduced_vectors_3d = tsne_3d.fit_transform(sentence_vectors_testblob)\n",
    "\n",
    "# 3D Scatter plot\n",
    "fig = go.Figure()\n",
    "\n",
    "for i in range(num_clusters):\n",
    "    indices = labels_textblob == i\n",
    "    fig.add_trace(go.Scatter3d(\n",
    "        x=reduced_vectors_3d[indices, 0],\n",
    "        y=reduced_vectors_3d[indices, 1],\n",
    "        z=reduced_vectors_3d[indices, 2],\n",
    "        mode='markers',\n",
    "        name=f'Cluster {i+1}'\n",
    "    ))\n",
    "\n",
    "fig.update_layout(title='3D Sentence Clusters(Textblob)',\n",
    "                  scene=dict(xaxis_title='t-SNE Dimension 1',\n",
    "                             yaxis_title='t-SNE Dimension 2',\n",
    "                             zaxis_title='t-SNE Dimension 3'))\n",
    "fig.show()\n"
   ]
  },
  {
   "cell_type": "markdown",
   "metadata": {},
   "source": [
    "## spacy"
   ]
  },
  {
   "cell_type": "code",
   "execution_count": 52,
   "metadata": {},
   "outputs": [],
   "source": [
    "perplexity_value = min(30, len(sentence_vectors_spacy) - 1)\n",
    "tsne = TSNE(n_components=2, perplexity=perplexity_value, random_state=0)\n",
    "reduced_vectors_2d = tsne.fit_transform(sentence_vectors_spacy)"
   ]
  },
  {
   "cell_type": "code",
   "execution_count": 53,
   "metadata": {},
   "outputs": [
    {
     "data": {
      "application/vnd.plotly.v1+json": {
       "config": {
        "plotlyServerURL": "https://plot.ly"
       },
       "data": [
        {
         "mode": "markers",
         "name": "Cluster 1",
         "type": "scatter",
         "x": [
          -4.862321853637695,
          -5.712959289550781,
          -7.304957866668701,
          -3.924906015396118,
          -5.500028610229492,
          -6.379931449890137,
          -3.1886067390441895,
          -6.2921576499938965,
          -7.218111991882324,
          -8.279579162597656,
          -6.2921576499938965,
          -5.446182727813721,
          -6.417713642120361,
          -4.372740268707275,
          -4.121224880218506,
          -3.9265520572662354,
          -5.1255083084106445,
          -3.9265520572662354,
          -5.1255083084106445,
          -5.1255083084106445,
          -5.1255083084106445,
          -5.362233638763428,
          -5.362233638763428,
          -5.1255083084106445,
          -5.362233638763428,
          -4.022332668304443,
          -6.205229759216309,
          -6.410451412200928,
          -3.439488649368286,
          -5.921760082244873,
          -4.934731960296631,
          -6.5303120613098145,
          -3.924906015396118,
          -4.461026668548584,
          -7.09963846206665,
          -6.970865726470947
         ],
         "y": [
          -4.376307964324951,
          -7.670417785644531,
          -6.031008720397949,
          -7.435005187988281,
          -8.379435539245605,
          -8.059846878051758,
          -6.719114303588867,
          -5.868828773498535,
          -6.756256580352783,
          -8.730451583862305,
          -5.868828773498535,
          -2.6519923210144043,
          -9.94487190246582,
          -5.462403297424316,
          -4.826415061950684,
          -6.224992275238037,
          -6.613489627838135,
          -6.224992275238037,
          -6.613489627838135,
          -6.613489627838135,
          -6.613489627838135,
          -5.28043794631958,
          -5.28043794631958,
          -6.613489627838135,
          -5.28043794631958,
          -9.958916664123535,
          -7.1731486320495605,
          -6.63442850112915,
          -5.477763652801514,
          -4.374154567718506,
          -7.7946648597717285,
          -4.818312168121338,
          -7.435005187988281,
          -8.26134967803955,
          -5.264878273010254,
          -7.467442512512207
         ]
        },
        {
         "mode": "markers",
         "name": "Cluster 2",
         "type": "scatter",
         "x": [
          5.397175312042236,
          9.724908828735352,
          10.352399826049805,
          9.724784851074219,
          3.5643627643585205,
          5.458932876586914,
          4.63232421875,
          -2.672053813934326,
          -1.6234403848648071,
          4.390988826751709,
          4.390988826751709,
          4.090112209320068
         ],
         "y": [
          3.919887065887451,
          4.1670355796813965,
          4.596502780914307,
          4.167026519775391,
          2.315145254135132,
          3.234445333480835,
          2.0040910243988037,
          -3.2725472450256348,
          -2.2365667819976807,
          2.934920310974121,
          2.934920310974121,
          1.3025280237197876
         ]
        },
        {
         "mode": "markers",
         "name": "Cluster 3",
         "type": "scatter",
         "x": [
          -1.4690688848495483,
          3.953103542327881,
          3.9530584812164307,
          -0.6300743222236633,
          -0.5936623811721802,
          -0.8465537428855896,
          -0.762982189655304,
          4.73389196395874,
          -2.6144027709960938,
          5.290036678314209,
          -1.960519552230835
         ],
         "y": [
          3.823354959487915,
          -4.558669090270996,
          -4.558581829071045,
          2.7898473739624023,
          5.997734069824219,
          4.842016220092773,
          4.609707355499268,
          -1.1197834014892578,
          4.332061290740967,
          0.026456737890839577,
          5.457206726074219
         ]
        },
        {
         "mode": "markers",
         "name": "Cluster 4",
         "type": "scatter",
         "x": [
          -5.25789737701416,
          -0.15954628586769104,
          0.2043103575706482,
          -0.15954628586769104,
          -1.177941918373108
         ],
         "y": [
          3.0523970127105713,
          7.819849014282227,
          8.623930931091309,
          7.819849014282227,
          7.291934013366699
         ]
        },
        {
         "mode": "markers",
         "name": "Cluster 5",
         "type": "scatter",
         "x": [
          7.488115310668945,
          6.9966864585876465,
          6.029181957244873,
          8.377513885498047,
          5.103174209594727,
          5.094645023345947,
          4.990459442138672,
          4.560359001159668,
          5.659631252288818,
          8.377513885498047,
          4.15809965133667
         ],
         "y": [
          7.9902143478393555,
          5.701211929321289,
          7.719690322875977,
          -2.5229990482330322,
          6.111774921417236,
          6.562134265899658,
          5.85866117477417,
          4.940486431121826,
          4.964227676391602,
          -2.5229990482330322,
          4.260328769683838
         ]
        },
        {
         "mode": "markers",
         "name": "Cluster 6",
         "type": "scatter",
         "x": [
          1.123321533203125,
          -0.12338252365589142,
          1.7220120429992676,
          -0.49392494559288025,
          -0.6502408385276794,
          1.6557705402374268
         ],
         "y": [
          10.142403602600098,
          10.859145164489746,
          11.477143287658691,
          10.091774940490723,
          10.532346725463867,
          9.48640251159668
         ]
        },
        {
         "mode": "markers",
         "name": "Cluster 7",
         "type": "scatter",
         "x": [
          -8.358030319213867,
          -10.589140892028809,
          -10.589140892028809,
          -10.589140892028809
         ],
         "y": [
          1.0440908670425415,
          -3.7948567867279053,
          -3.7948567867279053,
          -3.7948567867279053
         ]
        },
        {
         "mode": "markers",
         "name": "Cluster 8",
         "type": "scatter",
         "x": [
          3.0433804988861084,
          3.0433804988861084,
          3.0433804988861084
         ],
         "y": [
          -8.73462963104248,
          -8.73462963104248,
          -8.73462963104248
         ]
        },
        {
         "mode": "markers",
         "name": "Cluster 9",
         "type": "scatter",
         "x": [
          -1.2580562829971313,
          1.9398852586746216,
          7.14478063583374,
          7.925886154174805,
          2.862004518508911,
          7.917487621307373,
          6.2137837409973145,
          7.983771324157715,
          6.617546081542969,
          7.4426469802856445
         ],
         "y": [
          -0.5110933780670166,
          1.4318279027938843,
          1.9805692434310913,
          1.991840124130249,
          0.14224590361118317,
          1.5212676525115967,
          1.4877424240112305,
          0.46797484159469604,
          2.5233795642852783,
          2.8898797035217285
         ]
        },
        {
         "mode": "markers",
         "name": "Cluster 10",
         "type": "scatter",
         "x": [
          -3.8685855865478516,
          1.040592908859253,
          -3.883953094482422,
          -1.1852517127990723,
          -1.3426932096481323,
          -1.5025079250335693,
          -4.044806480407715,
          0.26159223914146423,
          -9.19052505493164,
          -4.099184036254883,
          0.26148903369903564,
          1.4373162984848022,
          2.1793720722198486,
          -4.0666327476501465,
          -2.5790517330169678,
          1.3185837268829346,
          1.979499340057373,
          -0.013580884784460068,
          -0.06804566830396652,
          1.3102279901504517,
          0.4396439790725708,
          -0.7984822988510132,
          -0.2885282337665558,
          -3.6369738578796387,
          -7.863678455352783,
          -5.949800491333008,
          -0.12609392404556274,
          -8.537128448486328,
          2.008178234100342,
          1.3369104862213135,
          -4.140325546264648,
          -7.916463851928711
         ],
         "y": [
          1.5524003505706787,
          3.950888156890869,
          8.139046669006348,
          -7.807330131530762,
          -4.371523857116699,
          2.261568546295166,
          -0.9836210012435913,
          -0.8845393657684326,
          -6.566080570220947,
          8.0192289352417,
          -0.884601354598999,
          -3.0783896446228027,
          -1.1550452709197998,
          5.424947738647461,
          0.9115476608276367,
          7.519137859344482,
          0.17705762386322021,
          1.5818660259246826,
          1.6728991270065308,
          1.670186996459961,
          0.450064480304718,
          0.9366124868392944,
          -5.756433486938477,
          1.92054283618927,
          0.012447549030184746,
          0.9484322667121887,
          4.069042205810547,
          -0.8337720036506653,
          4.916106700897217,
          2.8124582767486572,
          2.640388011932373,
          -1.212834358215332
         ]
        },
        {
         "mode": "markers",
         "name": "Cluster 11",
         "type": "scatter",
         "x": [
          6.034212589263916,
          1.2734520435333252,
          -6.400259494781494,
          2.1283955574035645,
          3.507642984390259,
          1.1599886417388916,
          2.9441683292388916,
          3.1458849906921387,
          8.114433288574219,
          6.7058281898498535,
          2.245662212371826,
          3.1139931678771973,
          2.3132269382476807,
          -2.795529842376709,
          11.03795337677002,
          4.443518161773682,
          11.03795337677002,
          5.9040374755859375,
          3.7423105239868164,
          2.3097987174987793,
          3.5369837284088135,
          2.7176010608673096,
          3.9652700424194336
         ],
         "y": [
          6.665136337280273,
          4.951230049133301,
          5.781557083129883,
          3.720870018005371,
          5.321946620941162,
          6.033890247344971,
          3.513012647628784,
          7.1162428855896,
          6.35413122177124,
          4.863777160644531,
          5.997570514678955,
          6.303707599639893,
          3.106733798980713,
          8.100523948669434,
          1.140705943107605,
          8.68172836303711,
          1.140705943107605,
          9.759949684143066,
          8.280228614807129,
          7.343173503875732,
          7.914556503295898,
          5.240413665771484,
          9.432304382324219
         ]
        }
       ],
       "layout": {
        "legend": {
         "title": {
          "text": "Clusters"
         }
        },
        "template": {
         "data": {
          "bar": [
           {
            "error_x": {
             "color": "#2a3f5f"
            },
            "error_y": {
             "color": "#2a3f5f"
            },
            "marker": {
             "line": {
              "color": "#E5ECF6",
              "width": 0.5
             },
             "pattern": {
              "fillmode": "overlay",
              "size": 10,
              "solidity": 0.2
             }
            },
            "type": "bar"
           }
          ],
          "barpolar": [
           {
            "marker": {
             "line": {
              "color": "#E5ECF6",
              "width": 0.5
             },
             "pattern": {
              "fillmode": "overlay",
              "size": 10,
              "solidity": 0.2
             }
            },
            "type": "barpolar"
           }
          ],
          "carpet": [
           {
            "aaxis": {
             "endlinecolor": "#2a3f5f",
             "gridcolor": "white",
             "linecolor": "white",
             "minorgridcolor": "white",
             "startlinecolor": "#2a3f5f"
            },
            "baxis": {
             "endlinecolor": "#2a3f5f",
             "gridcolor": "white",
             "linecolor": "white",
             "minorgridcolor": "white",
             "startlinecolor": "#2a3f5f"
            },
            "type": "carpet"
           }
          ],
          "choropleth": [
           {
            "colorbar": {
             "outlinewidth": 0,
             "ticks": ""
            },
            "type": "choropleth"
           }
          ],
          "contour": [
           {
            "colorbar": {
             "outlinewidth": 0,
             "ticks": ""
            },
            "colorscale": [
             [
              0,
              "#0d0887"
             ],
             [
              0.1111111111111111,
              "#46039f"
             ],
             [
              0.2222222222222222,
              "#7201a8"
             ],
             [
              0.3333333333333333,
              "#9c179e"
             ],
             [
              0.4444444444444444,
              "#bd3786"
             ],
             [
              0.5555555555555556,
              "#d8576b"
             ],
             [
              0.6666666666666666,
              "#ed7953"
             ],
             [
              0.7777777777777778,
              "#fb9f3a"
             ],
             [
              0.8888888888888888,
              "#fdca26"
             ],
             [
              1,
              "#f0f921"
             ]
            ],
            "type": "contour"
           }
          ],
          "contourcarpet": [
           {
            "colorbar": {
             "outlinewidth": 0,
             "ticks": ""
            },
            "type": "contourcarpet"
           }
          ],
          "heatmap": [
           {
            "colorbar": {
             "outlinewidth": 0,
             "ticks": ""
            },
            "colorscale": [
             [
              0,
              "#0d0887"
             ],
             [
              0.1111111111111111,
              "#46039f"
             ],
             [
              0.2222222222222222,
              "#7201a8"
             ],
             [
              0.3333333333333333,
              "#9c179e"
             ],
             [
              0.4444444444444444,
              "#bd3786"
             ],
             [
              0.5555555555555556,
              "#d8576b"
             ],
             [
              0.6666666666666666,
              "#ed7953"
             ],
             [
              0.7777777777777778,
              "#fb9f3a"
             ],
             [
              0.8888888888888888,
              "#fdca26"
             ],
             [
              1,
              "#f0f921"
             ]
            ],
            "type": "heatmap"
           }
          ],
          "heatmapgl": [
           {
            "colorbar": {
             "outlinewidth": 0,
             "ticks": ""
            },
            "colorscale": [
             [
              0,
              "#0d0887"
             ],
             [
              0.1111111111111111,
              "#46039f"
             ],
             [
              0.2222222222222222,
              "#7201a8"
             ],
             [
              0.3333333333333333,
              "#9c179e"
             ],
             [
              0.4444444444444444,
              "#bd3786"
             ],
             [
              0.5555555555555556,
              "#d8576b"
             ],
             [
              0.6666666666666666,
              "#ed7953"
             ],
             [
              0.7777777777777778,
              "#fb9f3a"
             ],
             [
              0.8888888888888888,
              "#fdca26"
             ],
             [
              1,
              "#f0f921"
             ]
            ],
            "type": "heatmapgl"
           }
          ],
          "histogram": [
           {
            "marker": {
             "pattern": {
              "fillmode": "overlay",
              "size": 10,
              "solidity": 0.2
             }
            },
            "type": "histogram"
           }
          ],
          "histogram2d": [
           {
            "colorbar": {
             "outlinewidth": 0,
             "ticks": ""
            },
            "colorscale": [
             [
              0,
              "#0d0887"
             ],
             [
              0.1111111111111111,
              "#46039f"
             ],
             [
              0.2222222222222222,
              "#7201a8"
             ],
             [
              0.3333333333333333,
              "#9c179e"
             ],
             [
              0.4444444444444444,
              "#bd3786"
             ],
             [
              0.5555555555555556,
              "#d8576b"
             ],
             [
              0.6666666666666666,
              "#ed7953"
             ],
             [
              0.7777777777777778,
              "#fb9f3a"
             ],
             [
              0.8888888888888888,
              "#fdca26"
             ],
             [
              1,
              "#f0f921"
             ]
            ],
            "type": "histogram2d"
           }
          ],
          "histogram2dcontour": [
           {
            "colorbar": {
             "outlinewidth": 0,
             "ticks": ""
            },
            "colorscale": [
             [
              0,
              "#0d0887"
             ],
             [
              0.1111111111111111,
              "#46039f"
             ],
             [
              0.2222222222222222,
              "#7201a8"
             ],
             [
              0.3333333333333333,
              "#9c179e"
             ],
             [
              0.4444444444444444,
              "#bd3786"
             ],
             [
              0.5555555555555556,
              "#d8576b"
             ],
             [
              0.6666666666666666,
              "#ed7953"
             ],
             [
              0.7777777777777778,
              "#fb9f3a"
             ],
             [
              0.8888888888888888,
              "#fdca26"
             ],
             [
              1,
              "#f0f921"
             ]
            ],
            "type": "histogram2dcontour"
           }
          ],
          "mesh3d": [
           {
            "colorbar": {
             "outlinewidth": 0,
             "ticks": ""
            },
            "type": "mesh3d"
           }
          ],
          "parcoords": [
           {
            "line": {
             "colorbar": {
              "outlinewidth": 0,
              "ticks": ""
             }
            },
            "type": "parcoords"
           }
          ],
          "pie": [
           {
            "automargin": true,
            "type": "pie"
           }
          ],
          "scatter": [
           {
            "fillpattern": {
             "fillmode": "overlay",
             "size": 10,
             "solidity": 0.2
            },
            "type": "scatter"
           }
          ],
          "scatter3d": [
           {
            "line": {
             "colorbar": {
              "outlinewidth": 0,
              "ticks": ""
             }
            },
            "marker": {
             "colorbar": {
              "outlinewidth": 0,
              "ticks": ""
             }
            },
            "type": "scatter3d"
           }
          ],
          "scattercarpet": [
           {
            "marker": {
             "colorbar": {
              "outlinewidth": 0,
              "ticks": ""
             }
            },
            "type": "scattercarpet"
           }
          ],
          "scattergeo": [
           {
            "marker": {
             "colorbar": {
              "outlinewidth": 0,
              "ticks": ""
             }
            },
            "type": "scattergeo"
           }
          ],
          "scattergl": [
           {
            "marker": {
             "colorbar": {
              "outlinewidth": 0,
              "ticks": ""
             }
            },
            "type": "scattergl"
           }
          ],
          "scattermapbox": [
           {
            "marker": {
             "colorbar": {
              "outlinewidth": 0,
              "ticks": ""
             }
            },
            "type": "scattermapbox"
           }
          ],
          "scatterpolar": [
           {
            "marker": {
             "colorbar": {
              "outlinewidth": 0,
              "ticks": ""
             }
            },
            "type": "scatterpolar"
           }
          ],
          "scatterpolargl": [
           {
            "marker": {
             "colorbar": {
              "outlinewidth": 0,
              "ticks": ""
             }
            },
            "type": "scatterpolargl"
           }
          ],
          "scatterternary": [
           {
            "marker": {
             "colorbar": {
              "outlinewidth": 0,
              "ticks": ""
             }
            },
            "type": "scatterternary"
           }
          ],
          "surface": [
           {
            "colorbar": {
             "outlinewidth": 0,
             "ticks": ""
            },
            "colorscale": [
             [
              0,
              "#0d0887"
             ],
             [
              0.1111111111111111,
              "#46039f"
             ],
             [
              0.2222222222222222,
              "#7201a8"
             ],
             [
              0.3333333333333333,
              "#9c179e"
             ],
             [
              0.4444444444444444,
              "#bd3786"
             ],
             [
              0.5555555555555556,
              "#d8576b"
             ],
             [
              0.6666666666666666,
              "#ed7953"
             ],
             [
              0.7777777777777778,
              "#fb9f3a"
             ],
             [
              0.8888888888888888,
              "#fdca26"
             ],
             [
              1,
              "#f0f921"
             ]
            ],
            "type": "surface"
           }
          ],
          "table": [
           {
            "cells": {
             "fill": {
              "color": "#EBF0F8"
             },
             "line": {
              "color": "white"
             }
            },
            "header": {
             "fill": {
              "color": "#C8D4E3"
             },
             "line": {
              "color": "white"
             }
            },
            "type": "table"
           }
          ]
         },
         "layout": {
          "annotationdefaults": {
           "arrowcolor": "#2a3f5f",
           "arrowhead": 0,
           "arrowwidth": 1
          },
          "autotypenumbers": "strict",
          "coloraxis": {
           "colorbar": {
            "outlinewidth": 0,
            "ticks": ""
           }
          },
          "colorscale": {
           "diverging": [
            [
             0,
             "#8e0152"
            ],
            [
             0.1,
             "#c51b7d"
            ],
            [
             0.2,
             "#de77ae"
            ],
            [
             0.3,
             "#f1b6da"
            ],
            [
             0.4,
             "#fde0ef"
            ],
            [
             0.5,
             "#f7f7f7"
            ],
            [
             0.6,
             "#e6f5d0"
            ],
            [
             0.7,
             "#b8e186"
            ],
            [
             0.8,
             "#7fbc41"
            ],
            [
             0.9,
             "#4d9221"
            ],
            [
             1,
             "#276419"
            ]
           ],
           "sequential": [
            [
             0,
             "#0d0887"
            ],
            [
             0.1111111111111111,
             "#46039f"
            ],
            [
             0.2222222222222222,
             "#7201a8"
            ],
            [
             0.3333333333333333,
             "#9c179e"
            ],
            [
             0.4444444444444444,
             "#bd3786"
            ],
            [
             0.5555555555555556,
             "#d8576b"
            ],
            [
             0.6666666666666666,
             "#ed7953"
            ],
            [
             0.7777777777777778,
             "#fb9f3a"
            ],
            [
             0.8888888888888888,
             "#fdca26"
            ],
            [
             1,
             "#f0f921"
            ]
           ],
           "sequentialminus": [
            [
             0,
             "#0d0887"
            ],
            [
             0.1111111111111111,
             "#46039f"
            ],
            [
             0.2222222222222222,
             "#7201a8"
            ],
            [
             0.3333333333333333,
             "#9c179e"
            ],
            [
             0.4444444444444444,
             "#bd3786"
            ],
            [
             0.5555555555555556,
             "#d8576b"
            ],
            [
             0.6666666666666666,
             "#ed7953"
            ],
            [
             0.7777777777777778,
             "#fb9f3a"
            ],
            [
             0.8888888888888888,
             "#fdca26"
            ],
            [
             1,
             "#f0f921"
            ]
           ]
          },
          "colorway": [
           "#636efa",
           "#EF553B",
           "#00cc96",
           "#ab63fa",
           "#FFA15A",
           "#19d3f3",
           "#FF6692",
           "#B6E880",
           "#FF97FF",
           "#FECB52"
          ],
          "font": {
           "color": "#2a3f5f"
          },
          "geo": {
           "bgcolor": "white",
           "lakecolor": "white",
           "landcolor": "#E5ECF6",
           "showlakes": true,
           "showland": true,
           "subunitcolor": "white"
          },
          "hoverlabel": {
           "align": "left"
          },
          "hovermode": "closest",
          "mapbox": {
           "style": "light"
          },
          "paper_bgcolor": "white",
          "plot_bgcolor": "#E5ECF6",
          "polar": {
           "angularaxis": {
            "gridcolor": "white",
            "linecolor": "white",
            "ticks": ""
           },
           "bgcolor": "#E5ECF6",
           "radialaxis": {
            "gridcolor": "white",
            "linecolor": "white",
            "ticks": ""
           }
          },
          "scene": {
           "xaxis": {
            "backgroundcolor": "#E5ECF6",
            "gridcolor": "white",
            "gridwidth": 2,
            "linecolor": "white",
            "showbackground": true,
            "ticks": "",
            "zerolinecolor": "white"
           },
           "yaxis": {
            "backgroundcolor": "#E5ECF6",
            "gridcolor": "white",
            "gridwidth": 2,
            "linecolor": "white",
            "showbackground": true,
            "ticks": "",
            "zerolinecolor": "white"
           },
           "zaxis": {
            "backgroundcolor": "#E5ECF6",
            "gridcolor": "white",
            "gridwidth": 2,
            "linecolor": "white",
            "showbackground": true,
            "ticks": "",
            "zerolinecolor": "white"
           }
          },
          "shapedefaults": {
           "line": {
            "color": "#2a3f5f"
           }
          },
          "ternary": {
           "aaxis": {
            "gridcolor": "white",
            "linecolor": "white",
            "ticks": ""
           },
           "baxis": {
            "gridcolor": "white",
            "linecolor": "white",
            "ticks": ""
           },
           "bgcolor": "#E5ECF6",
           "caxis": {
            "gridcolor": "white",
            "linecolor": "white",
            "ticks": ""
           }
          },
          "title": {
           "x": 0.05
          },
          "xaxis": {
           "automargin": true,
           "gridcolor": "white",
           "linecolor": "white",
           "ticks": "",
           "title": {
            "standoff": 15
           },
           "zerolinecolor": "white",
           "zerolinewidth": 2
          },
          "yaxis": {
           "automargin": true,
           "gridcolor": "white",
           "linecolor": "white",
           "ticks": "",
           "title": {
            "standoff": 15
           },
           "zerolinecolor": "white",
           "zerolinewidth": 2
          }
         }
        },
        "title": {
         "text": "Sentence Clusters Visualized with t-SNE(Spacy)"
        },
        "xaxis": {
         "title": {
          "text": "t-SNE Dimension 1"
         }
        },
        "yaxis": {
         "title": {
          "text": "t-SNE Dimension 2"
         }
        }
       }
      }
     },
     "metadata": {},
     "output_type": "display_data"
    }
   ],
   "source": [
    "fig = go.Figure()\n",
    "\n",
    "\n",
    "for i in range(num_clusters):\n",
    "    indices = labels_spacy == i\n",
    "    fig.add_trace(go.Scatter(\n",
    "        x=reduced_vectors_2d[indices, 0],\n",
    "        y=reduced_vectors_2d[indices, 1],\n",
    "        mode='markers',\n",
    "        name=f'Cluster {i + 1}'\n",
    "    ))\n",
    "\n",
    "fig.update_layout(\n",
    "    title='Sentence Clusters Visualized with t-SNE(Spacy)',\n",
    "    xaxis_title='t-SNE Dimension 1',\n",
    "    yaxis_title='t-SNE Dimension 2',\n",
    "    legend_title=\"Clusters\"\n",
    ")\n",
    "\n",
    "pio.show(fig)\n"
   ]
  },
  {
   "cell_type": "code",
   "execution_count": 54,
   "metadata": {},
   "outputs": [
    {
     "data": {
      "application/vnd.plotly.v1+json": {
       "config": {
        "plotlyServerURL": "https://plot.ly"
       },
       "data": [
        {
         "mode": "markers",
         "name": "Cluster 1",
         "type": "scatter3d",
         "x": [
          13.412283897399902,
          76.8719253540039,
          -126.16524505615234,
          46.87297439575195,
          76.08777618408203,
          -26.626768112182617,
          10.503050804138184,
          60.21843338012695,
          -54.23401641845703,
          67.1375961303711,
          60.21843338012695,
          100.46808624267578,
          48.128387451171875,
          74.95094299316406,
          29.531314849853516,
          -107.5843276977539,
          50.286094665527344,
          -107.5843276977539,
          50.286094665527344,
          50.286094665527344,
          50.286094665527344,
          23.576295852661133,
          23.576295852661133,
          50.286094665527344,
          23.576295852661133,
          48.970069885253906,
          60.51211166381836,
          28.58594512939453,
          65.58322143554688,
          86.74615478515625,
          39.7503776550293,
          37.85060119628906,
          46.87297439575195,
          34.42650604248047,
          87.42185974121094,
          53.553958892822266
         ],
         "y": [
          -14.37773609161377,
          -32.448020935058594,
          17.117218017578125,
          -19.1342716217041,
          -5.253475189208984,
          8.161187171936035,
          -41.495357513427734,
          12.296035766601562,
          -1.0258735418319702,
          -82.7877197265625,
          12.296035766601562,
          23.673561096191406,
          -68.95764923095703,
          -42.293182373046875,
          -43.87442398071289,
          -3.152015447616577,
          -23.869789123535156,
          -3.152015447616577,
          -23.869789123535156,
          -23.869789123535156,
          -23.869789123535156,
          -0.579901933670044,
          -0.579901933670044,
          -23.869789123535156,
          -0.579901933670044,
          -9.173531532287598,
          -51.97818374633789,
          -51.9154167175293,
          -6.432236194610596,
          -35.35971450805664,
          -28.65900993347168,
          30.663421630859375,
          -19.1342716217041,
          7.133413314819336,
          -10.143437385559082,
          13.204237937927246
         ],
         "z": [
          56.123844146728516,
          -4.841662883758545,
          3.6140670776367188,
          1.8020490407943726,
          15.843354225158691,
          76.51197052001953,
          70.35393524169922,
          40.88483428955078,
          -96.60782623291016,
          31.941431045532227,
          40.88483428955078,
          51.69871139526367,
          71.2568130493164,
          59.82587814331055,
          15.609371185302734,
          -38.8471565246582,
          40.004241943359375,
          -38.8471565246582,
          40.004241943359375,
          40.004241943359375,
          40.004241943359375,
          26.40129852294922,
          26.40129852294922,
          40.004241943359375,
          26.40129852294922,
          103.58269500732422,
          18.32425880432129,
          46.00953674316406,
          70.99581909179688,
          26.81037712097168,
          74.86621856689453,
          27.161418914794922,
          1.8020490407943726,
          63.635223388671875,
          46.416229248046875,
          5.127567291259766
         ]
        },
        {
         "mode": "markers",
         "name": "Cluster 2",
         "type": "scatter3d",
         "x": [
          -45.69404220581055,
          -34.70093536376953,
          -54.717525482177734,
          -29.43820571899414,
          -51.39518356323242,
          -29.88920021057129,
          -22.98263168334961,
          15.177973747253418,
          20.330570220947266,
          -36.860904693603516,
          -36.860904693603516,
          -45.609588623046875
         ],
         "y": [
          10.508199691772461,
          -25.855464935302734,
          -41.07303237915039,
          -29.37326431274414,
          -18.8151912689209,
          5.536004543304443,
          -3.58891224861145,
          41.91535568237305,
          71.55813598632812,
          -4.736178874969482,
          -4.736178874969482,
          -76.18220520019531
         ],
         "z": [
          -51.19001007080078,
          61.747798919677734,
          74.67601013183594,
          80.57100677490234,
          29.845924377441406,
          -31.39136505126953,
          23.13631248474121,
          51.92631149291992,
          49.076419830322266,
          -5.114974021911621,
          -5.114974021911621,
          -18.478559494018555
         ]
        },
        {
         "mode": "markers",
         "name": "Cluster 3",
         "type": "scatter3d",
         "x": [
          -15.535653114318848,
          16.832592010498047,
          11.035344123840332,
          -55.64079666137695,
          -12.946670532226562,
          -34.318973541259766,
          -34.63675308227539,
          -3.7201149463653564,
          -55.52813720703125,
          -62.26341247558594,
          -32.66672897338867
         ],
         "y": [
          18.80071258544922,
          52.17497634887695,
          54.509368896484375,
          25.904626846313477,
          31.459566116333008,
          40.45709991455078,
          -35.89442443847656,
          -68.20647430419922,
          55.343414306640625,
          22.951335906982422,
          71.98062896728516
         ],
         "z": [
          0.9705795645713806,
          9.9024019241333,
          -8.133599281311035,
          2.480912446975708,
          -33.29200744628906,
          -16.567014694213867,
          2.1956095695495605,
          -91.79010772705078,
          5.526050090789795,
          -25.259811401367188,
          -12.297133445739746
         ]
        },
        {
         "mode": "markers",
         "name": "Cluster 4",
         "type": "scatter3d",
         "x": [
          76.4542465209961,
          12.705229759216309,
          -11.860549926757812,
          12.705229759216309,
          -46.689605712890625
         ],
         "y": [
          0.625053882598877,
          28.480037689208984,
          29.058813095092773,
          28.480037689208984,
          104.24166107177734
         ],
         "z": [
          -78.63088989257812,
          -55.360443115234375,
          -69.1901626586914,
          -55.360443115234375,
          2.137139081954956
         ]
        },
        {
         "mode": "markers",
         "name": "Cluster 5",
         "type": "scatter3d",
         "x": [
          -93.16178131103516,
          -76.3587875366211,
          -94.12638854980469,
          -83.87261199951172,
          -1.2627819776535034,
          -104.66387939453125,
          -80.74251556396484,
          -78.31336212158203,
          -41.61226272583008,
          -83.87261199951172,
          -60.56753158569336
         ],
         "y": [
          -44.2049560546875,
          -15.757989883422852,
          23.579315185546875,
          59.77141571044922,
          -91.44608306884766,
          -16.017234802246094,
          -8.709371566772461,
          -30.434906005859375,
          -18.191354751586914,
          59.77141571044922,
          -26.095680236816406
         ],
         "z": [
          -17.810962677001953,
          -60.351688385009766,
          -7.2217841148376465,
          -34.7143669128418,
          -42.449893951416016,
          2.7755041122436523,
          -0.579003632068634,
          19.32190704345703,
          -55.74638748168945,
          -34.7143669128418,
          -8.312658309936523
         ]
        },
        {
         "mode": "markers",
         "name": "Cluster 6",
         "type": "scatter3d",
         "x": [
          25.129201889038086,
          -22.258804321289062,
          -25.734622955322266,
          1.4198631048202515,
          2.659883975982666,
          5.343107223510742
         ],
         "y": [
          44.69059753417969,
          46.98550033569336,
          38.88083267211914,
          31.25437355041504,
          54.55192565917969,
          55.53987503051758
         ],
         "z": [
          -96.22933959960938,
          86.72291564941406,
          -94.33995819091797,
          96.56700897216797,
          94.03450775146484,
          -84.6119613647461
         ]
        },
        {
         "mode": "markers",
         "name": "Cluster 7",
         "type": "scatter3d",
         "x": [
          83.88929748535156,
          57.607177734375,
          57.607177734375,
          57.607177734375
         ],
         "y": [
          47.6153564453125,
          49.18722915649414,
          49.18722915649414,
          49.18722915649414
         ],
         "z": [
          -38.11741638183594,
          72.76861572265625,
          72.76861572265625,
          72.76861572265625
         ]
        },
        {
         "mode": "markers",
         "name": "Cluster 8",
         "type": "scatter3d",
         "x": [
          54.792030334472656,
          54.792030334472656,
          54.792030334472656
         ],
         "y": [
          81.3150405883789,
          81.3150405883789,
          81.3150405883789
         ],
         "z": [
          -1.3077479600906372,
          -1.3077479600906372,
          -1.3077479600906372
         ]
        },
        {
         "mode": "markers",
         "name": "Cluster 9",
         "type": "scatter3d",
         "x": [
          57.960365295410156,
          26.580900192260742,
          -36.06907653808594,
          -59.92755126953125,
          -1.9069288969039917,
          -47.869056701660156,
          -9.499655723571777,
          -72.70171356201172,
          -31.1514949798584,
          -58.03309631347656
         ],
         "y": [
          -30.124439239501953,
          -31.770069122314453,
          -53.52424621582031,
          -56.68330764770508,
          100.85348510742188,
          -77.4643325805664,
          -54.39952087402344,
          -76.11032104492188,
          -39.97441864013672,
          -46.319156646728516
         ],
         "z": [
          -53.49148941040039,
          -37.055419921875,
          -68.69551086425781,
          -77.50469970703125,
          -23.861928939819336,
          -63.759132385253906,
          -58.74005889892578,
          -45.126197814941406,
          -50.32413101196289,
          -48.95122528076172
         ]
        },
        {
         "mode": "markers",
         "name": "Cluster 10",
         "type": "scatter3d",
         "x": [
          21.55638313293457,
          -9.337892532348633,
          31.754955291748047,
          7.380064010620117,
          53.32406997680664,
          -37.97810363769531,
          45.65506362915039,
          -5.353909969329834,
          74.09605407714844,
          34.8813362121582,
          -8.772317886352539,
          3.319079637527466,
          33.63039779663086,
          -60.46579360961914,
          -6.749172210693359,
          35.95813751220703,
          9.720118522644043,
          42.8472900390625,
          -44.67917251586914,
          -12.016242980957031,
          7.57070779800415,
          52.54645919799805,
          -8.55970287322998,
          3.055238723754883,
          91.77586364746094,
          84.75946807861328,
          -45.177059173583984,
          104.01797485351562,
          -41.775856018066406,
          4.716645240783691,
          -20.967853546142578,
          104.6953353881836
         ],
         "y": [
          -86.4601058959961,
          -26.399070739746094,
          -25.207862854003906,
          2.5001964569091797,
          -68.21102905273438,
          84.24453735351562,
          39.70913314819336,
          -31.558076858520508,
          46.66218566894531,
          -2.7384016513824463,
          -38.47882843017578,
          96.86400604248047,
          80.38848114013672,
          34.881839752197266,
          -79.8583984375,
          -66.94641876220703,
          76.44107055664062,
          3.5418648719787598,
          17.03066062927246,
          63.16389083862305,
          -20.86543083190918,
          37.97945785522461,
          16.911861419677734,
          -74.72975158691406,
          21.822860717773438,
          -4.953274726867676,
          48.132720947265625,
          36.3281135559082,
          -134.97425842285156,
          -5.90203857421875,
          -69.63191986083984,
          7.631922245025635
         ],
         "z": [
          16.982023239135742,
          -27.145309448242188,
          -88.85589599609375,
          96.2144546508789,
          -14.586726188659668,
          -57.2468147277832,
          -20.123559951782227,
          14.528213500976562,
          24.380048751831055,
          -79.9393081665039,
          32.46770477294922,
          18.60466766357422,
          -49.74078369140625,
          61.84894561767578,
          46.79502487182617,
          -51.88883972167969,
          -38.008445739746094,
          -34.164398193359375,
          26.1663761138916,
          -37.74557113647461,
          -8.528332710266113,
          -58.90849685668945,
          49.01158905029297,
          14.648080825805664,
          -25.058731079101562,
          -38.68180465698242,
          -51.430755615234375,
          -1.9670541286468506,
          73.25068664550781,
          -38.20626449584961,
          14.86386489868164,
          -4.005114555358887
         ]
        },
        {
         "mode": "markers",
         "name": "Cluster 11",
         "type": "scatter3d",
         "x": [
          -90.04194641113281,
          -20.978778839111328,
          -30.82048225402832,
          -13.548978805541992,
          -17.43207550048828,
          13.802667617797852,
          -32.91666793823242,
          -76.02690887451172,
          -41.842655181884766,
          -64.05497741699219,
          -3.8037352561950684,
          0.4363083839416504,
          -17.19724464416504,
          8.350235939025879,
          -72.40804290771484,
          -98.21504974365234,
          -72.40804290771484,
          -84.92845153808594,
          -77.01334381103516,
          11.94753646850586,
          -10.491761207580566,
          -18.46608543395996,
          -86.89480590820312
         ],
         "y": [
          11.08333683013916,
          -50.40665817260742,
          70.66493225097656,
          76.98251342773438,
          -23.715290069580078,
          17.48088836669922,
          47.199039459228516,
          0.5406112670898438,
          -105.5156478881836,
          -11.895964622497559,
          6.235576629638672,
          -65.5003662109375,
          49.562068939208984,
          -25.118141174316406,
          -70.48226928710938,
          46.703678131103516,
          -70.48226928710938,
          25.636173248291016,
          59.95341110229492,
          -58.80229949951172,
          -92.24437713623047,
          -5.489857196807861,
          77.03105926513672
         ],
         "z": [
          25.91254234313965,
          -20.98015594482422,
          51.65565490722656,
          12.704534530639648,
          -86.31997680664062,
          -13.916254043579102,
          38.19123458862305,
          59.61991882324219,
          11.68911075592041,
          -36.124794006347656,
          -93.73828125,
          -12.29781723022461,
          18.656394958496094,
          -73.64736938476562,
          15.109301567077637,
          25.362491607666016,
          15.109301567077637,
          -71.28002166748047,
          36.11859893798828,
          -35.19622802734375,
          -11.322423934936523,
          -66.08061218261719,
          16.959911346435547
         ]
        }
       ],
       "layout": {
        "scene": {
         "xaxis": {
          "title": {
           "text": "t-SNE Dimension 1"
          }
         },
         "yaxis": {
          "title": {
           "text": "t-SNE Dimension 2"
          }
         },
         "zaxis": {
          "title": {
           "text": "t-SNE Dimension 3"
          }
         }
        },
        "template": {
         "data": {
          "bar": [
           {
            "error_x": {
             "color": "#2a3f5f"
            },
            "error_y": {
             "color": "#2a3f5f"
            },
            "marker": {
             "line": {
              "color": "#E5ECF6",
              "width": 0.5
             },
             "pattern": {
              "fillmode": "overlay",
              "size": 10,
              "solidity": 0.2
             }
            },
            "type": "bar"
           }
          ],
          "barpolar": [
           {
            "marker": {
             "line": {
              "color": "#E5ECF6",
              "width": 0.5
             },
             "pattern": {
              "fillmode": "overlay",
              "size": 10,
              "solidity": 0.2
             }
            },
            "type": "barpolar"
           }
          ],
          "carpet": [
           {
            "aaxis": {
             "endlinecolor": "#2a3f5f",
             "gridcolor": "white",
             "linecolor": "white",
             "minorgridcolor": "white",
             "startlinecolor": "#2a3f5f"
            },
            "baxis": {
             "endlinecolor": "#2a3f5f",
             "gridcolor": "white",
             "linecolor": "white",
             "minorgridcolor": "white",
             "startlinecolor": "#2a3f5f"
            },
            "type": "carpet"
           }
          ],
          "choropleth": [
           {
            "colorbar": {
             "outlinewidth": 0,
             "ticks": ""
            },
            "type": "choropleth"
           }
          ],
          "contour": [
           {
            "colorbar": {
             "outlinewidth": 0,
             "ticks": ""
            },
            "colorscale": [
             [
              0,
              "#0d0887"
             ],
             [
              0.1111111111111111,
              "#46039f"
             ],
             [
              0.2222222222222222,
              "#7201a8"
             ],
             [
              0.3333333333333333,
              "#9c179e"
             ],
             [
              0.4444444444444444,
              "#bd3786"
             ],
             [
              0.5555555555555556,
              "#d8576b"
             ],
             [
              0.6666666666666666,
              "#ed7953"
             ],
             [
              0.7777777777777778,
              "#fb9f3a"
             ],
             [
              0.8888888888888888,
              "#fdca26"
             ],
             [
              1,
              "#f0f921"
             ]
            ],
            "type": "contour"
           }
          ],
          "contourcarpet": [
           {
            "colorbar": {
             "outlinewidth": 0,
             "ticks": ""
            },
            "type": "contourcarpet"
           }
          ],
          "heatmap": [
           {
            "colorbar": {
             "outlinewidth": 0,
             "ticks": ""
            },
            "colorscale": [
             [
              0,
              "#0d0887"
             ],
             [
              0.1111111111111111,
              "#46039f"
             ],
             [
              0.2222222222222222,
              "#7201a8"
             ],
             [
              0.3333333333333333,
              "#9c179e"
             ],
             [
              0.4444444444444444,
              "#bd3786"
             ],
             [
              0.5555555555555556,
              "#d8576b"
             ],
             [
              0.6666666666666666,
              "#ed7953"
             ],
             [
              0.7777777777777778,
              "#fb9f3a"
             ],
             [
              0.8888888888888888,
              "#fdca26"
             ],
             [
              1,
              "#f0f921"
             ]
            ],
            "type": "heatmap"
           }
          ],
          "heatmapgl": [
           {
            "colorbar": {
             "outlinewidth": 0,
             "ticks": ""
            },
            "colorscale": [
             [
              0,
              "#0d0887"
             ],
             [
              0.1111111111111111,
              "#46039f"
             ],
             [
              0.2222222222222222,
              "#7201a8"
             ],
             [
              0.3333333333333333,
              "#9c179e"
             ],
             [
              0.4444444444444444,
              "#bd3786"
             ],
             [
              0.5555555555555556,
              "#d8576b"
             ],
             [
              0.6666666666666666,
              "#ed7953"
             ],
             [
              0.7777777777777778,
              "#fb9f3a"
             ],
             [
              0.8888888888888888,
              "#fdca26"
             ],
             [
              1,
              "#f0f921"
             ]
            ],
            "type": "heatmapgl"
           }
          ],
          "histogram": [
           {
            "marker": {
             "pattern": {
              "fillmode": "overlay",
              "size": 10,
              "solidity": 0.2
             }
            },
            "type": "histogram"
           }
          ],
          "histogram2d": [
           {
            "colorbar": {
             "outlinewidth": 0,
             "ticks": ""
            },
            "colorscale": [
             [
              0,
              "#0d0887"
             ],
             [
              0.1111111111111111,
              "#46039f"
             ],
             [
              0.2222222222222222,
              "#7201a8"
             ],
             [
              0.3333333333333333,
              "#9c179e"
             ],
             [
              0.4444444444444444,
              "#bd3786"
             ],
             [
              0.5555555555555556,
              "#d8576b"
             ],
             [
              0.6666666666666666,
              "#ed7953"
             ],
             [
              0.7777777777777778,
              "#fb9f3a"
             ],
             [
              0.8888888888888888,
              "#fdca26"
             ],
             [
              1,
              "#f0f921"
             ]
            ],
            "type": "histogram2d"
           }
          ],
          "histogram2dcontour": [
           {
            "colorbar": {
             "outlinewidth": 0,
             "ticks": ""
            },
            "colorscale": [
             [
              0,
              "#0d0887"
             ],
             [
              0.1111111111111111,
              "#46039f"
             ],
             [
              0.2222222222222222,
              "#7201a8"
             ],
             [
              0.3333333333333333,
              "#9c179e"
             ],
             [
              0.4444444444444444,
              "#bd3786"
             ],
             [
              0.5555555555555556,
              "#d8576b"
             ],
             [
              0.6666666666666666,
              "#ed7953"
             ],
             [
              0.7777777777777778,
              "#fb9f3a"
             ],
             [
              0.8888888888888888,
              "#fdca26"
             ],
             [
              1,
              "#f0f921"
             ]
            ],
            "type": "histogram2dcontour"
           }
          ],
          "mesh3d": [
           {
            "colorbar": {
             "outlinewidth": 0,
             "ticks": ""
            },
            "type": "mesh3d"
           }
          ],
          "parcoords": [
           {
            "line": {
             "colorbar": {
              "outlinewidth": 0,
              "ticks": ""
             }
            },
            "type": "parcoords"
           }
          ],
          "pie": [
           {
            "automargin": true,
            "type": "pie"
           }
          ],
          "scatter": [
           {
            "fillpattern": {
             "fillmode": "overlay",
             "size": 10,
             "solidity": 0.2
            },
            "type": "scatter"
           }
          ],
          "scatter3d": [
           {
            "line": {
             "colorbar": {
              "outlinewidth": 0,
              "ticks": ""
             }
            },
            "marker": {
             "colorbar": {
              "outlinewidth": 0,
              "ticks": ""
             }
            },
            "type": "scatter3d"
           }
          ],
          "scattercarpet": [
           {
            "marker": {
             "colorbar": {
              "outlinewidth": 0,
              "ticks": ""
             }
            },
            "type": "scattercarpet"
           }
          ],
          "scattergeo": [
           {
            "marker": {
             "colorbar": {
              "outlinewidth": 0,
              "ticks": ""
             }
            },
            "type": "scattergeo"
           }
          ],
          "scattergl": [
           {
            "marker": {
             "colorbar": {
              "outlinewidth": 0,
              "ticks": ""
             }
            },
            "type": "scattergl"
           }
          ],
          "scattermapbox": [
           {
            "marker": {
             "colorbar": {
              "outlinewidth": 0,
              "ticks": ""
             }
            },
            "type": "scattermapbox"
           }
          ],
          "scatterpolar": [
           {
            "marker": {
             "colorbar": {
              "outlinewidth": 0,
              "ticks": ""
             }
            },
            "type": "scatterpolar"
           }
          ],
          "scatterpolargl": [
           {
            "marker": {
             "colorbar": {
              "outlinewidth": 0,
              "ticks": ""
             }
            },
            "type": "scatterpolargl"
           }
          ],
          "scatterternary": [
           {
            "marker": {
             "colorbar": {
              "outlinewidth": 0,
              "ticks": ""
             }
            },
            "type": "scatterternary"
           }
          ],
          "surface": [
           {
            "colorbar": {
             "outlinewidth": 0,
             "ticks": ""
            },
            "colorscale": [
             [
              0,
              "#0d0887"
             ],
             [
              0.1111111111111111,
              "#46039f"
             ],
             [
              0.2222222222222222,
              "#7201a8"
             ],
             [
              0.3333333333333333,
              "#9c179e"
             ],
             [
              0.4444444444444444,
              "#bd3786"
             ],
             [
              0.5555555555555556,
              "#d8576b"
             ],
             [
              0.6666666666666666,
              "#ed7953"
             ],
             [
              0.7777777777777778,
              "#fb9f3a"
             ],
             [
              0.8888888888888888,
              "#fdca26"
             ],
             [
              1,
              "#f0f921"
             ]
            ],
            "type": "surface"
           }
          ],
          "table": [
           {
            "cells": {
             "fill": {
              "color": "#EBF0F8"
             },
             "line": {
              "color": "white"
             }
            },
            "header": {
             "fill": {
              "color": "#C8D4E3"
             },
             "line": {
              "color": "white"
             }
            },
            "type": "table"
           }
          ]
         },
         "layout": {
          "annotationdefaults": {
           "arrowcolor": "#2a3f5f",
           "arrowhead": 0,
           "arrowwidth": 1
          },
          "autotypenumbers": "strict",
          "coloraxis": {
           "colorbar": {
            "outlinewidth": 0,
            "ticks": ""
           }
          },
          "colorscale": {
           "diverging": [
            [
             0,
             "#8e0152"
            ],
            [
             0.1,
             "#c51b7d"
            ],
            [
             0.2,
             "#de77ae"
            ],
            [
             0.3,
             "#f1b6da"
            ],
            [
             0.4,
             "#fde0ef"
            ],
            [
             0.5,
             "#f7f7f7"
            ],
            [
             0.6,
             "#e6f5d0"
            ],
            [
             0.7,
             "#b8e186"
            ],
            [
             0.8,
             "#7fbc41"
            ],
            [
             0.9,
             "#4d9221"
            ],
            [
             1,
             "#276419"
            ]
           ],
           "sequential": [
            [
             0,
             "#0d0887"
            ],
            [
             0.1111111111111111,
             "#46039f"
            ],
            [
             0.2222222222222222,
             "#7201a8"
            ],
            [
             0.3333333333333333,
             "#9c179e"
            ],
            [
             0.4444444444444444,
             "#bd3786"
            ],
            [
             0.5555555555555556,
             "#d8576b"
            ],
            [
             0.6666666666666666,
             "#ed7953"
            ],
            [
             0.7777777777777778,
             "#fb9f3a"
            ],
            [
             0.8888888888888888,
             "#fdca26"
            ],
            [
             1,
             "#f0f921"
            ]
           ],
           "sequentialminus": [
            [
             0,
             "#0d0887"
            ],
            [
             0.1111111111111111,
             "#46039f"
            ],
            [
             0.2222222222222222,
             "#7201a8"
            ],
            [
             0.3333333333333333,
             "#9c179e"
            ],
            [
             0.4444444444444444,
             "#bd3786"
            ],
            [
             0.5555555555555556,
             "#d8576b"
            ],
            [
             0.6666666666666666,
             "#ed7953"
            ],
            [
             0.7777777777777778,
             "#fb9f3a"
            ],
            [
             0.8888888888888888,
             "#fdca26"
            ],
            [
             1,
             "#f0f921"
            ]
           ]
          },
          "colorway": [
           "#636efa",
           "#EF553B",
           "#00cc96",
           "#ab63fa",
           "#FFA15A",
           "#19d3f3",
           "#FF6692",
           "#B6E880",
           "#FF97FF",
           "#FECB52"
          ],
          "font": {
           "color": "#2a3f5f"
          },
          "geo": {
           "bgcolor": "white",
           "lakecolor": "white",
           "landcolor": "#E5ECF6",
           "showlakes": true,
           "showland": true,
           "subunitcolor": "white"
          },
          "hoverlabel": {
           "align": "left"
          },
          "hovermode": "closest",
          "mapbox": {
           "style": "light"
          },
          "paper_bgcolor": "white",
          "plot_bgcolor": "#E5ECF6",
          "polar": {
           "angularaxis": {
            "gridcolor": "white",
            "linecolor": "white",
            "ticks": ""
           },
           "bgcolor": "#E5ECF6",
           "radialaxis": {
            "gridcolor": "white",
            "linecolor": "white",
            "ticks": ""
           }
          },
          "scene": {
           "xaxis": {
            "backgroundcolor": "#E5ECF6",
            "gridcolor": "white",
            "gridwidth": 2,
            "linecolor": "white",
            "showbackground": true,
            "ticks": "",
            "zerolinecolor": "white"
           },
           "yaxis": {
            "backgroundcolor": "#E5ECF6",
            "gridcolor": "white",
            "gridwidth": 2,
            "linecolor": "white",
            "showbackground": true,
            "ticks": "",
            "zerolinecolor": "white"
           },
           "zaxis": {
            "backgroundcolor": "#E5ECF6",
            "gridcolor": "white",
            "gridwidth": 2,
            "linecolor": "white",
            "showbackground": true,
            "ticks": "",
            "zerolinecolor": "white"
           }
          },
          "shapedefaults": {
           "line": {
            "color": "#2a3f5f"
           }
          },
          "ternary": {
           "aaxis": {
            "gridcolor": "white",
            "linecolor": "white",
            "ticks": ""
           },
           "baxis": {
            "gridcolor": "white",
            "linecolor": "white",
            "ticks": ""
           },
           "bgcolor": "#E5ECF6",
           "caxis": {
            "gridcolor": "white",
            "linecolor": "white",
            "ticks": ""
           }
          },
          "title": {
           "x": 0.05
          },
          "xaxis": {
           "automargin": true,
           "gridcolor": "white",
           "linecolor": "white",
           "ticks": "",
           "title": {
            "standoff": 15
           },
           "zerolinecolor": "white",
           "zerolinewidth": 2
          },
          "yaxis": {
           "automargin": true,
           "gridcolor": "white",
           "linecolor": "white",
           "ticks": "",
           "title": {
            "standoff": 15
           },
           "zerolinecolor": "white",
           "zerolinewidth": 2
          }
         }
        },
        "title": {
         "text": "3D Sentence Clusters(Spacy)"
        }
       }
      }
     },
     "metadata": {},
     "output_type": "display_data"
    }
   ],
   "source": [
    "# Perform t-SNE dimensionality reduction for 3D visualization\n",
    "perplexity_value = min(30, len(sentence_vectors_spacy) - 1)\n",
    "tsne_3d = TSNE(n_components=3,perplexity=perplexity_value, random_state=0)\n",
    "reduced_vectors_3d = tsne_3d.fit_transform(sentence_vectors_spacy)\n",
    "\n",
    "fig = go.Figure()\n",
    "\n",
    "for i in range(num_clusters):\n",
    "    indices = labels_spacy == i\n",
    "    fig.add_trace(go.Scatter3d(\n",
    "        x=reduced_vectors_3d[indices, 0],\n",
    "        y=reduced_vectors_3d[indices, 1],\n",
    "        z=reduced_vectors_3d[indices, 2],\n",
    "        mode='markers',\n",
    "        name=f'Cluster {i+1}'\n",
    "    ))\n",
    "\n",
    "fig.update_layout(title='3D Sentence Clusters(Spacy)',\n",
    "                  scene=dict(xaxis_title='t-SNE Dimension 1',\n",
    "                             yaxis_title='t-SNE Dimension 2',\n",
    "                             zaxis_title='t-SNE Dimension 3'))\n",
    "fig.show()\n"
   ]
  },
  {
   "cell_type": "markdown",
   "metadata": {},
   "source": [
    "## NLTK\n"
   ]
  },
  {
   "cell_type": "code",
   "execution_count": 55,
   "metadata": {},
   "outputs": [],
   "source": [
    "perplexity_value = min(30, len(sentence_vectors_nltk) - 1)\n",
    "tsne = TSNE(n_components=2, perplexity=perplexity_value, random_state=0)\n",
    "reduced_vectors_2d = tsne.fit_transform(sentence_vectors_nltk)"
   ]
  },
  {
   "cell_type": "code",
   "execution_count": 56,
   "metadata": {},
   "outputs": [
    {
     "data": {
      "application/vnd.plotly.v1+json": {
       "config": {
        "plotlyServerURL": "https://plot.ly"
       },
       "data": [
        {
         "mode": "markers",
         "name": "Cluster 1",
         "type": "scatter",
         "x": [
          -11.590287208557129,
          -9.802817344665527,
          -11.795352935791016,
          -11.905352592468262,
          -4.786397933959961
         ],
         "y": [
          7.6810526847839355,
          8.507762908935547,
          10.100074768066406,
          6.110636234283447,
          9.130107879638672
         ]
        },
        {
         "mode": "markers",
         "name": "Cluster 2",
         "type": "scatter",
         "x": [
          3.2404415607452393,
          -1.2720088958740234,
          2.212632656097412,
          8.901616096496582,
          -5.423374176025391,
          4.0974907875061035,
          -4.298248767852783,
          3.4144458770751953,
          4.0974907875061035,
          8.279559135437012,
          5.724530220031738,
          16.59014892578125,
          1.056550145149231,
          -4.195028305053711,
          1.7354083061218262,
          6.736967086791992,
          3.220075845718384,
          6.47565221786499,
          0.5292940139770508,
          1.1190619468688965,
          11.793268203735352,
          -4.336791038513184,
          1.016802430152893,
          6.6662421226501465,
          2.803142786026001,
          16.690876007080078,
          -2.5121872425079346,
          -2.5121872425079346,
          17.699708938598633,
          18.567710876464844,
          -2.910940647125244,
          -1.0561186075210571,
          5.049766540527344,
          16.99835968017578
         ],
         "y": [
          5.514496326446533,
          1.532999873161316,
          7.146137237548828,
          3.5578370094299316,
          2.593125104904175,
          -0.37117999792099,
          6.583798408508301,
          8.168853759765625,
          -0.37117999792099,
          -9.229243278503418,
          12.096050262451172,
          2.5027146339416504,
          9.141267776489258,
          4.171230316162109,
          -2.2035534381866455,
          1.8084241151809692,
          2.762401819229126,
          3.21401047706604,
          3.3532636165618896,
          2.592780351638794,
          4.37406063079834,
          0.8665406703948975,
          1.3158704042434692,
          -3.098972797393799,
          4.791340351104736,
          -4.163618087768555,
          -0.5558879375457764,
          -0.5558879375457764,
          -3.256622314453125,
          -5.858611106872559,
          1.6826133728027344,
          2.5772171020507812,
          4.597583293914795,
          -5.718258857727051
         ]
        },
        {
         "mode": "markers",
         "name": "Cluster 3",
         "type": "scatter",
         "x": [
          12.916951179504395,
          12.916951179504395,
          12.916951179504395
         ],
         "y": [
          -10.185078620910645,
          -10.185078620910645,
          -10.185078620910645
         ]
        },
        {
         "mode": "markers",
         "name": "Cluster 4",
         "type": "scatter",
         "x": [
          4.782623767852783,
          4.712576389312744,
          -0.052182964980602264,
          -1.9878249168395996,
          -1.6384422779083252,
          -1.7755533456802368,
          -1.9878249168395996,
          -2.271972417831421,
          -2.560732364654541,
          -7.514451503753662
         ],
         "y": [
          -5.543126106262207,
          -5.127627372741699,
          5.673453330993652,
          11.861907005310059,
          6.714968681335449,
          8.258548736572266,
          11.861907005310059,
          4.911144733428955,
          -9.68889045715332,
          9.331171035766602
         ]
        },
        {
         "mode": "markers",
         "name": "Cluster 5",
         "type": "scatter",
         "x": [
          -9.521745681762695,
          -14.376872062683105,
          -13.592556953430176,
          -18.34395408630371,
          -6.608630657196045,
          -10.32927417755127,
          -8.993614196777344,
          -15.167672157287598,
          -1.1454451084136963,
          -8.898873329162598,
          -2.8087265491485596,
          -9.917306900024414,
          -14.039112091064453,
          -8.391929626464844,
          -5.0285820960998535,
          -16.615713119506836,
          -6.960628509521484,
          -16.635051727294922,
          -16.16305923461914,
          -7.897100925445557,
          -6.008157730102539,
          -7.427368640899658,
          -6.864185333251953,
          -11.01300048828125,
          -8.921483039855957,
          -15.167672157287598,
          -8.281535148620605,
          -12.842588424682617,
          -10.76219654083252,
          -10.76219654083252,
          -8.280277252197266,
          -14.985828399658203,
          -3.951184034347534
         ],
         "y": [
          6.6295342445373535,
          1.7325685024261475,
          1.5778591632843018,
          0.0359380841255188,
          -2.6510868072509766,
          2.555974006652832,
          -0.15822716057300568,
          -9.584247589111328,
          4.718349456787109,
          4.460472106933594,
          3.1524136066436768,
          4.799966335296631,
          7.394243240356445,
          2.7664570808410645,
          5.800583839416504,
          -4.904638290405273,
          7.4986252784729,
          -4.914046764373779,
          5.234117031097412,
          6.081180095672607,
          4.440999984741211,
          2.8116002082824707,
          5.65764856338501,
          5.159390449523926,
          -7.022282600402832,
          -9.584247589111328,
          1.6259381771087646,
          3.8526298999786377,
          -1.6178077459335327,
          -1.6178077459335327,
          -1.5489476919174194,
          4.685980319976807,
          2.023360252380371
         ]
        },
        {
         "mode": "markers",
         "name": "Cluster 6",
         "type": "scatter",
         "x": [
          15.185652732849121,
          13.946573257446289,
          13.946573257446289,
          15.187518119812012
         ],
         "y": [
          8.009730339050293,
          7.544156074523926,
          7.544156074523926,
          6.020110130310059
         ]
        },
        {
         "mode": "markers",
         "name": "Cluster 7",
         "type": "scatter",
         "x": [
          -13.12806224822998,
          -11.782240867614746,
          1.6978529691696167,
          -4.44052791595459,
          -16.895122528076172,
          -4.37062931060791,
          -16.892187118530273,
          -4.874340057373047,
          -5.110086441040039,
          -6.578378200531006,
          -9.967162132263184,
          -11.902770042419434,
          -9.109062194824219,
          -7.401177883148193,
          -10.189443588256836,
          -5.959392070770264,
          0.5644238591194153,
          -0.41274452209472656,
          -11.434187889099121,
          -9.369379997253418,
          2.5551443099975586,
          -6.107104301452637,
          -9.660934448242188,
          -6.253544807434082
         ],
         "y": [
          -1.9927167892456055,
          -3.371502637863159,
          11.997381210327148,
          -3.721158504486084,
          -0.41316819190979004,
          -8.1664400100708,
          -0.4114208519458771,
          -1.709862470626831,
          -2.3080317974090576,
          -5.50552225112915,
          -6.282180309295654,
          -0.24129712581634521,
          -2.7894859313964844,
          -5.885020732879639,
          -7.879376411437988,
          -10.014647483825684,
          -1.112870216369629,
          -0.0901104286313057,
          -5.648526668548584,
          -9.360883712768555,
          0.34534162282943726,
          -8.087715148925781,
          -5.317993640899658,
          -0.549299418926239
         ]
        },
        {
         "mode": "markers",
         "name": "Cluster 8",
         "type": "scatter",
         "x": [
          -11.279266357421875
         ],
         "y": [
          1.9144678115844727
         ]
        },
        {
         "mode": "markers",
         "name": "Cluster 9",
         "type": "scatter",
         "x": [
          11.7066011428833,
          11.7066011428833,
          14.742581367492676,
          11.13389778137207,
          11.027034759521484,
          13.861793518066406,
          11.01487922668457,
          12.411164283752441,
          13.594969749450684,
          14.180441856384277,
          13.833158493041992,
          9.793277740478516,
          9.139403343200684,
          10.762984275817871,
          13.745058059692383,
          11.203694343566895,
          12.517544746398926,
          12.517544746398926,
          12.517544746398926,
          12.427520751953125,
          15.295894622802734,
          12.517544746398926,
          9.493620872497559,
          17.666433334350586,
          14.772550582885742,
          13.027532577514648,
          10.093496322631836
         ],
         "y": [
          0.2036570906639099,
          0.2036570906639099,
          -2.4348807334899902,
          -3.4030137062072754,
          1.5989434719085693,
          1.6654771566390991,
          -2.172572612762451,
          -3.4478156566619873,
          -3.054745674133301,
          -1.3580437898635864,
          -5.272440433502197,
          -2.219926357269287,
          -4.736341953277588,
          -0.8983805179595947,
          -0.20464910566806793,
          -6.24466609954834,
          -1.4847638607025146,
          -1.4847638607025146,
          -1.4847638607025146,
          1.838813066482544,
          -0.816078245639801,
          -1.4847638607025146,
          -0.7644110321998596,
          0.03522320091724396,
          0.5498560070991516,
          0.6002500057220459,
          0.49858808517456055
         ]
        },
        {
         "mode": "markers",
         "name": "Cluster 10",
         "type": "scatter",
         "x": [
          -0.3198060989379883,
          1.3534282445907593,
          -3.3555686473846436,
          -1.0401602983474731,
          1.0171000957489014,
          -1.9941765069961548,
          -1.0218265056610107,
          -7.003207206726074
         ],
         "y": [
          -5.946528434753418,
          -5.776294231414795,
          -5.8042402267456055,
          -3.132876396179199,
          -7.702297210693359,
          -3.6192259788513184,
          -5.618022918701172,
          12.990534782409668
         ]
        },
        {
         "mode": "markers",
         "name": "Cluster 11",
         "type": "scatter",
         "x": [
          9.103869438171387,
          9.103869438171387,
          10.527053833007812,
          7.691582679748535
         ],
         "y": [
          7.980649948120117,
          7.980649948120117,
          8.797860145568848,
          8.038618087768555
         ]
        }
       ],
       "layout": {
        "legend": {
         "title": {
          "text": "Clusters"
         }
        },
        "template": {
         "data": {
          "bar": [
           {
            "error_x": {
             "color": "#2a3f5f"
            },
            "error_y": {
             "color": "#2a3f5f"
            },
            "marker": {
             "line": {
              "color": "#E5ECF6",
              "width": 0.5
             },
             "pattern": {
              "fillmode": "overlay",
              "size": 10,
              "solidity": 0.2
             }
            },
            "type": "bar"
           }
          ],
          "barpolar": [
           {
            "marker": {
             "line": {
              "color": "#E5ECF6",
              "width": 0.5
             },
             "pattern": {
              "fillmode": "overlay",
              "size": 10,
              "solidity": 0.2
             }
            },
            "type": "barpolar"
           }
          ],
          "carpet": [
           {
            "aaxis": {
             "endlinecolor": "#2a3f5f",
             "gridcolor": "white",
             "linecolor": "white",
             "minorgridcolor": "white",
             "startlinecolor": "#2a3f5f"
            },
            "baxis": {
             "endlinecolor": "#2a3f5f",
             "gridcolor": "white",
             "linecolor": "white",
             "minorgridcolor": "white",
             "startlinecolor": "#2a3f5f"
            },
            "type": "carpet"
           }
          ],
          "choropleth": [
           {
            "colorbar": {
             "outlinewidth": 0,
             "ticks": ""
            },
            "type": "choropleth"
           }
          ],
          "contour": [
           {
            "colorbar": {
             "outlinewidth": 0,
             "ticks": ""
            },
            "colorscale": [
             [
              0,
              "#0d0887"
             ],
             [
              0.1111111111111111,
              "#46039f"
             ],
             [
              0.2222222222222222,
              "#7201a8"
             ],
             [
              0.3333333333333333,
              "#9c179e"
             ],
             [
              0.4444444444444444,
              "#bd3786"
             ],
             [
              0.5555555555555556,
              "#d8576b"
             ],
             [
              0.6666666666666666,
              "#ed7953"
             ],
             [
              0.7777777777777778,
              "#fb9f3a"
             ],
             [
              0.8888888888888888,
              "#fdca26"
             ],
             [
              1,
              "#f0f921"
             ]
            ],
            "type": "contour"
           }
          ],
          "contourcarpet": [
           {
            "colorbar": {
             "outlinewidth": 0,
             "ticks": ""
            },
            "type": "contourcarpet"
           }
          ],
          "heatmap": [
           {
            "colorbar": {
             "outlinewidth": 0,
             "ticks": ""
            },
            "colorscale": [
             [
              0,
              "#0d0887"
             ],
             [
              0.1111111111111111,
              "#46039f"
             ],
             [
              0.2222222222222222,
              "#7201a8"
             ],
             [
              0.3333333333333333,
              "#9c179e"
             ],
             [
              0.4444444444444444,
              "#bd3786"
             ],
             [
              0.5555555555555556,
              "#d8576b"
             ],
             [
              0.6666666666666666,
              "#ed7953"
             ],
             [
              0.7777777777777778,
              "#fb9f3a"
             ],
             [
              0.8888888888888888,
              "#fdca26"
             ],
             [
              1,
              "#f0f921"
             ]
            ],
            "type": "heatmap"
           }
          ],
          "heatmapgl": [
           {
            "colorbar": {
             "outlinewidth": 0,
             "ticks": ""
            },
            "colorscale": [
             [
              0,
              "#0d0887"
             ],
             [
              0.1111111111111111,
              "#46039f"
             ],
             [
              0.2222222222222222,
              "#7201a8"
             ],
             [
              0.3333333333333333,
              "#9c179e"
             ],
             [
              0.4444444444444444,
              "#bd3786"
             ],
             [
              0.5555555555555556,
              "#d8576b"
             ],
             [
              0.6666666666666666,
              "#ed7953"
             ],
             [
              0.7777777777777778,
              "#fb9f3a"
             ],
             [
              0.8888888888888888,
              "#fdca26"
             ],
             [
              1,
              "#f0f921"
             ]
            ],
            "type": "heatmapgl"
           }
          ],
          "histogram": [
           {
            "marker": {
             "pattern": {
              "fillmode": "overlay",
              "size": 10,
              "solidity": 0.2
             }
            },
            "type": "histogram"
           }
          ],
          "histogram2d": [
           {
            "colorbar": {
             "outlinewidth": 0,
             "ticks": ""
            },
            "colorscale": [
             [
              0,
              "#0d0887"
             ],
             [
              0.1111111111111111,
              "#46039f"
             ],
             [
              0.2222222222222222,
              "#7201a8"
             ],
             [
              0.3333333333333333,
              "#9c179e"
             ],
             [
              0.4444444444444444,
              "#bd3786"
             ],
             [
              0.5555555555555556,
              "#d8576b"
             ],
             [
              0.6666666666666666,
              "#ed7953"
             ],
             [
              0.7777777777777778,
              "#fb9f3a"
             ],
             [
              0.8888888888888888,
              "#fdca26"
             ],
             [
              1,
              "#f0f921"
             ]
            ],
            "type": "histogram2d"
           }
          ],
          "histogram2dcontour": [
           {
            "colorbar": {
             "outlinewidth": 0,
             "ticks": ""
            },
            "colorscale": [
             [
              0,
              "#0d0887"
             ],
             [
              0.1111111111111111,
              "#46039f"
             ],
             [
              0.2222222222222222,
              "#7201a8"
             ],
             [
              0.3333333333333333,
              "#9c179e"
             ],
             [
              0.4444444444444444,
              "#bd3786"
             ],
             [
              0.5555555555555556,
              "#d8576b"
             ],
             [
              0.6666666666666666,
              "#ed7953"
             ],
             [
              0.7777777777777778,
              "#fb9f3a"
             ],
             [
              0.8888888888888888,
              "#fdca26"
             ],
             [
              1,
              "#f0f921"
             ]
            ],
            "type": "histogram2dcontour"
           }
          ],
          "mesh3d": [
           {
            "colorbar": {
             "outlinewidth": 0,
             "ticks": ""
            },
            "type": "mesh3d"
           }
          ],
          "parcoords": [
           {
            "line": {
             "colorbar": {
              "outlinewidth": 0,
              "ticks": ""
             }
            },
            "type": "parcoords"
           }
          ],
          "pie": [
           {
            "automargin": true,
            "type": "pie"
           }
          ],
          "scatter": [
           {
            "fillpattern": {
             "fillmode": "overlay",
             "size": 10,
             "solidity": 0.2
            },
            "type": "scatter"
           }
          ],
          "scatter3d": [
           {
            "line": {
             "colorbar": {
              "outlinewidth": 0,
              "ticks": ""
             }
            },
            "marker": {
             "colorbar": {
              "outlinewidth": 0,
              "ticks": ""
             }
            },
            "type": "scatter3d"
           }
          ],
          "scattercarpet": [
           {
            "marker": {
             "colorbar": {
              "outlinewidth": 0,
              "ticks": ""
             }
            },
            "type": "scattercarpet"
           }
          ],
          "scattergeo": [
           {
            "marker": {
             "colorbar": {
              "outlinewidth": 0,
              "ticks": ""
             }
            },
            "type": "scattergeo"
           }
          ],
          "scattergl": [
           {
            "marker": {
             "colorbar": {
              "outlinewidth": 0,
              "ticks": ""
             }
            },
            "type": "scattergl"
           }
          ],
          "scattermapbox": [
           {
            "marker": {
             "colorbar": {
              "outlinewidth": 0,
              "ticks": ""
             }
            },
            "type": "scattermapbox"
           }
          ],
          "scatterpolar": [
           {
            "marker": {
             "colorbar": {
              "outlinewidth": 0,
              "ticks": ""
             }
            },
            "type": "scatterpolar"
           }
          ],
          "scatterpolargl": [
           {
            "marker": {
             "colorbar": {
              "outlinewidth": 0,
              "ticks": ""
             }
            },
            "type": "scatterpolargl"
           }
          ],
          "scatterternary": [
           {
            "marker": {
             "colorbar": {
              "outlinewidth": 0,
              "ticks": ""
             }
            },
            "type": "scatterternary"
           }
          ],
          "surface": [
           {
            "colorbar": {
             "outlinewidth": 0,
             "ticks": ""
            },
            "colorscale": [
             [
              0,
              "#0d0887"
             ],
             [
              0.1111111111111111,
              "#46039f"
             ],
             [
              0.2222222222222222,
              "#7201a8"
             ],
             [
              0.3333333333333333,
              "#9c179e"
             ],
             [
              0.4444444444444444,
              "#bd3786"
             ],
             [
              0.5555555555555556,
              "#d8576b"
             ],
             [
              0.6666666666666666,
              "#ed7953"
             ],
             [
              0.7777777777777778,
              "#fb9f3a"
             ],
             [
              0.8888888888888888,
              "#fdca26"
             ],
             [
              1,
              "#f0f921"
             ]
            ],
            "type": "surface"
           }
          ],
          "table": [
           {
            "cells": {
             "fill": {
              "color": "#EBF0F8"
             },
             "line": {
              "color": "white"
             }
            },
            "header": {
             "fill": {
              "color": "#C8D4E3"
             },
             "line": {
              "color": "white"
             }
            },
            "type": "table"
           }
          ]
         },
         "layout": {
          "annotationdefaults": {
           "arrowcolor": "#2a3f5f",
           "arrowhead": 0,
           "arrowwidth": 1
          },
          "autotypenumbers": "strict",
          "coloraxis": {
           "colorbar": {
            "outlinewidth": 0,
            "ticks": ""
           }
          },
          "colorscale": {
           "diverging": [
            [
             0,
             "#8e0152"
            ],
            [
             0.1,
             "#c51b7d"
            ],
            [
             0.2,
             "#de77ae"
            ],
            [
             0.3,
             "#f1b6da"
            ],
            [
             0.4,
             "#fde0ef"
            ],
            [
             0.5,
             "#f7f7f7"
            ],
            [
             0.6,
             "#e6f5d0"
            ],
            [
             0.7,
             "#b8e186"
            ],
            [
             0.8,
             "#7fbc41"
            ],
            [
             0.9,
             "#4d9221"
            ],
            [
             1,
             "#276419"
            ]
           ],
           "sequential": [
            [
             0,
             "#0d0887"
            ],
            [
             0.1111111111111111,
             "#46039f"
            ],
            [
             0.2222222222222222,
             "#7201a8"
            ],
            [
             0.3333333333333333,
             "#9c179e"
            ],
            [
             0.4444444444444444,
             "#bd3786"
            ],
            [
             0.5555555555555556,
             "#d8576b"
            ],
            [
             0.6666666666666666,
             "#ed7953"
            ],
            [
             0.7777777777777778,
             "#fb9f3a"
            ],
            [
             0.8888888888888888,
             "#fdca26"
            ],
            [
             1,
             "#f0f921"
            ]
           ],
           "sequentialminus": [
            [
             0,
             "#0d0887"
            ],
            [
             0.1111111111111111,
             "#46039f"
            ],
            [
             0.2222222222222222,
             "#7201a8"
            ],
            [
             0.3333333333333333,
             "#9c179e"
            ],
            [
             0.4444444444444444,
             "#bd3786"
            ],
            [
             0.5555555555555556,
             "#d8576b"
            ],
            [
             0.6666666666666666,
             "#ed7953"
            ],
            [
             0.7777777777777778,
             "#fb9f3a"
            ],
            [
             0.8888888888888888,
             "#fdca26"
            ],
            [
             1,
             "#f0f921"
            ]
           ]
          },
          "colorway": [
           "#636efa",
           "#EF553B",
           "#00cc96",
           "#ab63fa",
           "#FFA15A",
           "#19d3f3",
           "#FF6692",
           "#B6E880",
           "#FF97FF",
           "#FECB52"
          ],
          "font": {
           "color": "#2a3f5f"
          },
          "geo": {
           "bgcolor": "white",
           "lakecolor": "white",
           "landcolor": "#E5ECF6",
           "showlakes": true,
           "showland": true,
           "subunitcolor": "white"
          },
          "hoverlabel": {
           "align": "left"
          },
          "hovermode": "closest",
          "mapbox": {
           "style": "light"
          },
          "paper_bgcolor": "white",
          "plot_bgcolor": "#E5ECF6",
          "polar": {
           "angularaxis": {
            "gridcolor": "white",
            "linecolor": "white",
            "ticks": ""
           },
           "bgcolor": "#E5ECF6",
           "radialaxis": {
            "gridcolor": "white",
            "linecolor": "white",
            "ticks": ""
           }
          },
          "scene": {
           "xaxis": {
            "backgroundcolor": "#E5ECF6",
            "gridcolor": "white",
            "gridwidth": 2,
            "linecolor": "white",
            "showbackground": true,
            "ticks": "",
            "zerolinecolor": "white"
           },
           "yaxis": {
            "backgroundcolor": "#E5ECF6",
            "gridcolor": "white",
            "gridwidth": 2,
            "linecolor": "white",
            "showbackground": true,
            "ticks": "",
            "zerolinecolor": "white"
           },
           "zaxis": {
            "backgroundcolor": "#E5ECF6",
            "gridcolor": "white",
            "gridwidth": 2,
            "linecolor": "white",
            "showbackground": true,
            "ticks": "",
            "zerolinecolor": "white"
           }
          },
          "shapedefaults": {
           "line": {
            "color": "#2a3f5f"
           }
          },
          "ternary": {
           "aaxis": {
            "gridcolor": "white",
            "linecolor": "white",
            "ticks": ""
           },
           "baxis": {
            "gridcolor": "white",
            "linecolor": "white",
            "ticks": ""
           },
           "bgcolor": "#E5ECF6",
           "caxis": {
            "gridcolor": "white",
            "linecolor": "white",
            "ticks": ""
           }
          },
          "title": {
           "x": 0.05
          },
          "xaxis": {
           "automargin": true,
           "gridcolor": "white",
           "linecolor": "white",
           "ticks": "",
           "title": {
            "standoff": 15
           },
           "zerolinecolor": "white",
           "zerolinewidth": 2
          },
          "yaxis": {
           "automargin": true,
           "gridcolor": "white",
           "linecolor": "white",
           "ticks": "",
           "title": {
            "standoff": 15
           },
           "zerolinecolor": "white",
           "zerolinewidth": 2
          }
         }
        },
        "title": {
         "text": "Sentence Clusters Visualized with t-SNE(NLTK)"
        },
        "xaxis": {
         "title": {
          "text": "t-SNE Dimension 1"
         }
        },
        "yaxis": {
         "title": {
          "text": "t-SNE Dimension 2"
         }
        }
       }
      }
     },
     "metadata": {},
     "output_type": "display_data"
    }
   ],
   "source": [
    "fig = go.Figure()\n",
    "for i in range(num_clusters):\n",
    "    indices = labels_nltk == i\n",
    "    fig.add_trace(go.Scatter(\n",
    "        x=reduced_vectors_2d[indices, 0],\n",
    "        y=reduced_vectors_2d[indices, 1],\n",
    "        mode='markers',\n",
    "        name=f'Cluster {i + 1}'\n",
    "    ))\n",
    "\n",
    "fig.update_layout(\n",
    "    title='Sentence Clusters Visualized with t-SNE(NLTK)',\n",
    "    xaxis_title='t-SNE Dimension 1',\n",
    "    yaxis_title='t-SNE Dimension 2',\n",
    "    legend_title=\"Clusters\"\n",
    ")\n",
    "\n",
    "pio.show(fig)"
   ]
  },
  {
   "cell_type": "code",
   "execution_count": 57,
   "metadata": {},
   "outputs": [
    {
     "data": {
      "application/vnd.plotly.v1+json": {
       "config": {
        "plotlyServerURL": "https://plot.ly"
       },
       "data": [
        {
         "mode": "markers",
         "name": "Cluster 1",
         "type": "scatter3d",
         "x": [
          43.85551834106445,
          124.83290100097656,
          27.914602279663086,
          5.0775041580200195,
          -44.788490295410156
         ],
         "y": [
          -27.123933792114258,
          -4.565580368041992,
          -100.0112075805664,
          -25.36137580871582,
          -83.67693328857422
         ],
         "z": [
          -86.23056030273438,
          23.343280792236328,
          59.00140380859375,
          -17.339792251586914,
          39.68456268310547
         ]
        },
        {
         "mode": "markers",
         "name": "Cluster 2",
         "type": "scatter3d",
         "x": [
          -0.7235546112060547,
          76.68872833251953,
          -51.74822235107422,
          45.76615905761719,
          45.70570373535156,
          -15.447553634643555,
          18.42026138305664,
          -62.01306915283203,
          -15.447553634643555,
          -39.4547119140625,
          62.219085693359375,
          -19.381546020507812,
          70.12325286865234,
          59.86707305908203,
          -19.444381713867188,
          10.255857467651367,
          -10.299846649169922,
          29.6003475189209,
          14.660967826843262,
          -99.21519470214844,
          -44.64379119873047,
          90.02775573730469,
          -85.27824401855469,
          32.14891052246094,
          3.0625336170196533,
          -8.522359848022461,
          49.12954330444336,
          49.12954330444336,
          17.54482078552246,
          -0.7827317714691162,
          92.7197494506836,
          -10.178075790405273,
          26.656957626342773,
          3.729672431945801
         ],
         "y": [
          45.21004104614258,
          -5.303258895874023,
          -26.83749771118164,
          78.65762329101562,
          -51.066925048828125,
          18.33531379699707,
          2.0728185176849365,
          -57.844818115234375,
          18.33531379699707,
          94.70915985107422,
          67.83109283447266,
          118.43122863769531,
          -80.26371002197266,
          38.15195846557617,
          -118.86061096191406,
          90.23783874511719,
          -5.17993688583374,
          84.57240295410156,
          26.107467651367188,
          1.7356775999069214,
          50.85560989379883,
          6.443516731262207,
          59.08278274536133,
          25.11102867126465,
          -85.83757781982422,
          78.56243896484375,
          31.924232482910156,
          31.924232482910156,
          68.26420593261719,
          69.7374496459961,
          28.836856842041016,
          -18.98214340209961,
          6.468630313873291,
          99.33096313476562
         ],
         "z": [
          -109.17820739746094,
          17.489803314208984,
          64.52058410644531,
          -3.0125513076782227,
          11.331931114196777,
          88.09861755371094,
          6.504209041595459,
          65.89263916015625,
          88.09861755371094,
          51.0530891418457,
          -66.18077850341797,
          -6.000156879425049,
          41.87515640258789,
          60.83474349975586,
          -21.523845672607422,
          -72.09117889404297,
          -100.69534301757812,
          -46.74391555786133,
          60.446170806884766,
          -48.40523910522461,
          52.2098274230957,
          46.8905143737793,
          56.614654541015625,
          101.19415283203125,
          -1.2586641311645508,
          46.86004638671875,
          -10.755542755126953,
          -10.755542755126953,
          45.79301452636719,
          80.18010711669922,
          28.107046127319336,
          61.80694580078125,
          -27.562908172607422,
          65.3571548461914
         ]
        },
        {
         "mode": "markers",
         "name": "Cluster 3",
         "type": "scatter3d",
         "x": [
          -86.99911499023438,
          -86.99911499023438,
          -86.99911499023438
         ],
         "y": [
          44.72562026977539,
          44.72562026977539,
          44.72562026977539
         ],
         "z": [
          17.866071701049805,
          17.866071701049805,
          17.866071701049805
         ]
        },
        {
         "mode": "markers",
         "name": "Cluster 4",
         "type": "scatter3d",
         "x": [
          20.29598045349121,
          20.111186981201172,
          -22.98052978515625,
          73.97441864013672,
          48.72631072998047,
          64.74544525146484,
          73.97441864013672,
          55.550148010253906,
          30.2486572265625,
          12.14306926727295
         ],
         "y": [
          -47.26447677612305,
          -25.939491271972656,
          14.708536148071289,
          -2.8621227741241455,
          1.8976995944976807,
          -22.525558471679688,
          -2.8621227741241455,
          -25.385828018188477,
          114.53482055664062,
          -33.51837921142578
         ],
         "z": [
          43.29972457885742,
          39.6922721862793,
          44.21409606933594,
          88.97398376464844,
          50.35805130004883,
          60.990234375,
          88.97398376464844,
          33.33793258666992,
          15.789426803588867,
          124.71116638183594
         ]
        },
        {
         "mode": "markers",
         "name": "Cluster 5",
         "type": "scatter3d",
         "x": [
          77.165771484375,
          -23.209041595458984,
          -18.283010482788086,
          57.5555419921875,
          20.33799171447754,
          75.50318145751953,
          73.47657012939453,
          -84.26942443847656,
          5.62960958480835,
          47.232975006103516,
          -108.234130859375,
          59.96199417114258,
          -32.705631256103516,
          20.21152687072754,
          35.784854888916016,
          69.88140106201172,
          109.43708801269531,
          59.23637390136719,
          13.531896591186523,
          282.2542419433594,
          60.53202438354492,
          28.629329681396484,
          47.56402587890625,
          90.91365814208984,
          -10.975737571716309,
          -84.26942443847656,
          11.504141807556152,
          -0.9626734852790833,
          -39.24750900268555,
          -39.24750900268555,
          29.00182342529297,
          -9.265307426452637,
          69.41129302978516
         ],
         "y": [
          -42.76368713378906,
          -49.174049377441406,
          -49.098304748535156,
          81.30626678466797,
          -34.48112106323242,
          -48.627471923828125,
          -46.90764236450195,
          -11.514110565185547,
          7.466042518615723,
          -38.292396545410156,
          27.664661407470703,
          -18.749889373779297,
          -35.27375411987305,
          -14.766678810119629,
          -17.553163528442383,
          -82.11969757080078,
          -54.70712661743164,
          -83.17340087890625,
          -58.16630554199219,
          2.3723366260528564,
          1.957506537437439,
          -0.0247526653110981,
          6.049328327178955,
          -16.76011848449707,
          -70.18682861328125,
          -11.514110565185547,
          -49.29914855957031,
          -79.27960968017578,
          -31.724794387817383,
          -31.724794387817383,
          39.59245681762695,
          -63.126556396484375,
          27.389997482299805
         ],
         "z": [
          -19.053268432617188,
          42.13203048706055,
          18.51151466369629,
          49.254600524902344,
          -48.2033805847168,
          32.33789825439453,
          -63.19825744628906,
          29.398889541625977,
          40.880531311035156,
          -21.84816551208496,
          -20.781261444091797,
          -39.124568939208984,
          103.85319519042969,
          78.54075622558594,
          3.034345865249634,
          -9.760394096374512,
          -2.556415319442749,
          -28.14115333557129,
          90.11809539794922,
          -29.56145668029785,
          -10.027874946594238,
          -62.24086380004883,
          15.932682037353516,
          -13.898809432983398,
          -59.896175384521484,
          29.398889541625977,
          2.4724504947662354,
          34.68490219116211,
          -13.91936206817627,
          -13.91936206817627,
          24.8017520904541,
          75.19978332519531,
          25.95685577392578
         ]
        },
        {
         "mode": "markers",
         "name": "Cluster 6",
         "type": "scatter3d",
         "x": [
          -68.74498748779297,
          -52.831321716308594,
          -52.831321716308594,
          -64.59514617919922
         ],
         "y": [
          23.705659866333008,
          29.47660255432129,
          29.47660255432129,
          -2.8100504875183105
         ],
         "z": [
          -61.45013427734375,
          -85.04232025146484,
          -85.04232025146484,
          -90.04165649414062
         ]
        },
        {
         "mode": "markers",
         "name": "Cluster 7",
         "type": "scatter3d",
         "x": [
          -57.083763122558594,
          -67.0902328491211,
          -111.22140502929688,
          59.692787170410156,
          -17.362329483032227,
          -83.0274429321289,
          -22.608264923095703,
          -86.08731079101562,
          46.06388473510742,
          -12.4954833984375,
          -36.68688201904297,
          -50.9342041015625,
          19.431245803833008,
          -37.74067687988281,
          -41.01261901855469,
          -15.219368934631348,
          -7.388066291809082,
          -95.50148010253906,
          -30.627187728881836,
          -53.94309997558594,
          -65.27604675292969,
          12.925905227661133,
          -15.357672691345215,
          -79.69416809082031
         ],
         "y": [
          -5.9583892822265625,
          -50.86467361450195,
          -47.544578552246094,
          17.741586685180664,
          -4.006378173828125,
          -20.778636932373047,
          -13.43543529510498,
          -57.83547592163086,
          -54.543067932128906,
          -28.22197151184082,
          -60.116493225097656,
          -37.222103118896484,
          -64.27779388427734,
          -31.703271865844727,
          -70.41836547851562,
          -48.469966888427734,
          -106.95987701416016,
          -19.13628387451172,
          -73.24520111083984,
          -92.08958435058594,
          -85.2536849975586,
          -59.436946868896484,
          -51.65950393676758,
          -50.260860443115234
         ],
         "z": [
          -16.23117446899414,
          -17.070051193237305,
          -24.699464797973633,
          -86.91876983642578,
          2.155632495880127,
          -39.71678924560547,
          20.360889434814453,
          27.055166244506836,
          64.35259246826172,
          -68.53317260742188,
          -45.91632843017578,
          17.375242233276367,
          -28.757299423217773,
          -67.56062316894531,
          -73.01658630371094,
          -103.63465881347656,
          -46.622318267822266,
          -9.38335132598877,
          -16.465709686279297,
          -51.6083869934082,
          1.1345535516738892,
          -85.8653793334961,
          -35.67395782470703,
          -59.91722106933594
         ]
        },
        {
         "mode": "markers",
         "name": "Cluster 8",
         "type": "scatter3d",
         "x": [
          100.90510559082031
         ],
         "y": [
          -51.05387496948242
         ],
         "z": [
          44.758941650390625
         ]
        },
        {
         "mode": "markers",
         "name": "Cluster 9",
         "type": "scatter3d",
         "x": [
          -60.45820236206055,
          -60.45820236206055,
          -59.593994140625,
          18.031017303466797,
          -45.7210578918457,
          -45.03476333618164,
          -28.222522735595703,
          -41.0510368347168,
          -32.73154067993164,
          -1.738755702972412,
          -11.399465560913086,
          6.435436248779297,
          -22.78511619567871,
          0.518130898475647,
          -31.98523712158203,
          27.107929229736328,
          -9.422322273254395,
          -9.422322273254395,
          -9.422322273254395,
          -19.3590030670166,
          -25.301912307739258,
          -9.422322273254395,
          -58.71348571777344,
          -62.57759094238281,
          -10.770421028137207,
          41.742855072021484,
          36.80234146118164
         ],
         "y": [
          152.096923828125,
          152.096923828125,
          43.757320404052734,
          55.7188606262207,
          58.168819427490234,
          62.53970718383789,
          91.92887115478516,
          26.590839385986328,
          33.42203903198242,
          82.21309661865234,
          29.657381057739258,
          73.38516998291016,
          0.7882561683654785,
          29.02931022644043,
          64.42655944824219,
          43.306907653808594,
          43.74755859375,
          43.74755859375,
          43.74755859375,
          50.34052276611328,
          82.36640167236328,
          43.74755859375,
          78.94404602050781,
          97.13345336914062,
          60.390377044677734,
          -73.85332489013672,
          -93.34400939941406
         ],
         "z": [
          29.350719451904297,
          29.350719451904297,
          -23.340436935424805,
          -29.839218139648438,
          6.446206569671631,
          -53.192405700683594,
          -39.171382904052734,
          -0.8695476055145264,
          -37.446693420410156,
          -21.987930297851562,
          -73.552734375,
          8.198692321777344,
          -42.920989990234375,
          -40.797760009765625,
          -23.776809692382812,
          -71.15901184082031,
          -8.77250862121582,
          -8.77250862121582,
          -8.77250862121582,
          24.901968002319336,
          3.5258326530456543,
          -8.77250862121582,
          -21.32011604309082,
          11.534489631652832,
          -49.233802795410156,
          -64.34475708007812,
          16.534303665161133
         ]
        },
        {
         "mode": "markers",
         "name": "Cluster 10",
         "type": "scatter3d",
         "x": [
          81.5576400756836,
          74.03995513916016,
          -22.304121017456055,
          108.27941131591797,
          84.44181823730469,
          84.96613311767578,
          79.34406280517578,
          31.207542419433594
         ],
         "y": [
          39.30171585083008,
          61.81007385253906,
          -108.55455780029297,
          42.48191833496094,
          68.03995513916016,
          29.687599182128906,
          15.957331657409668,
          -118.80520629882812
         ],
         "z": [
          -43.70746994018555,
          -21.433677673339844,
          62.74317169189453,
          -1.6933835744857788,
          16.7462158203125,
          -8.556051254272461,
          -37.924407958984375,
          -20.670276641845703
         ]
        },
        {
         "mode": "markers",
         "name": "Cluster 11",
         "type": "scatter3d",
         "x": [
          -64.0782241821289,
          -64.0782241821289,
          103.46829986572266,
          -77.4054183959961
         ],
         "y": [
          18.800987243652344,
          18.800987243652344,
          -9.070570945739746,
          12.206070899963379
         ],
         "z": [
          90.25032043457031,
          90.25032043457031,
          -62.36686706542969,
          64.21699523925781
         ]
        }
       ],
       "layout": {
        "scene": {
         "xaxis": {
          "title": {
           "text": "t-SNE Dimension 1"
          }
         },
         "yaxis": {
          "title": {
           "text": "t-SNE Dimension 2"
          }
         },
         "zaxis": {
          "title": {
           "text": "t-SNE Dimension 3"
          }
         }
        },
        "template": {
         "data": {
          "bar": [
           {
            "error_x": {
             "color": "#2a3f5f"
            },
            "error_y": {
             "color": "#2a3f5f"
            },
            "marker": {
             "line": {
              "color": "#E5ECF6",
              "width": 0.5
             },
             "pattern": {
              "fillmode": "overlay",
              "size": 10,
              "solidity": 0.2
             }
            },
            "type": "bar"
           }
          ],
          "barpolar": [
           {
            "marker": {
             "line": {
              "color": "#E5ECF6",
              "width": 0.5
             },
             "pattern": {
              "fillmode": "overlay",
              "size": 10,
              "solidity": 0.2
             }
            },
            "type": "barpolar"
           }
          ],
          "carpet": [
           {
            "aaxis": {
             "endlinecolor": "#2a3f5f",
             "gridcolor": "white",
             "linecolor": "white",
             "minorgridcolor": "white",
             "startlinecolor": "#2a3f5f"
            },
            "baxis": {
             "endlinecolor": "#2a3f5f",
             "gridcolor": "white",
             "linecolor": "white",
             "minorgridcolor": "white",
             "startlinecolor": "#2a3f5f"
            },
            "type": "carpet"
           }
          ],
          "choropleth": [
           {
            "colorbar": {
             "outlinewidth": 0,
             "ticks": ""
            },
            "type": "choropleth"
           }
          ],
          "contour": [
           {
            "colorbar": {
             "outlinewidth": 0,
             "ticks": ""
            },
            "colorscale": [
             [
              0,
              "#0d0887"
             ],
             [
              0.1111111111111111,
              "#46039f"
             ],
             [
              0.2222222222222222,
              "#7201a8"
             ],
             [
              0.3333333333333333,
              "#9c179e"
             ],
             [
              0.4444444444444444,
              "#bd3786"
             ],
             [
              0.5555555555555556,
              "#d8576b"
             ],
             [
              0.6666666666666666,
              "#ed7953"
             ],
             [
              0.7777777777777778,
              "#fb9f3a"
             ],
             [
              0.8888888888888888,
              "#fdca26"
             ],
             [
              1,
              "#f0f921"
             ]
            ],
            "type": "contour"
           }
          ],
          "contourcarpet": [
           {
            "colorbar": {
             "outlinewidth": 0,
             "ticks": ""
            },
            "type": "contourcarpet"
           }
          ],
          "heatmap": [
           {
            "colorbar": {
             "outlinewidth": 0,
             "ticks": ""
            },
            "colorscale": [
             [
              0,
              "#0d0887"
             ],
             [
              0.1111111111111111,
              "#46039f"
             ],
             [
              0.2222222222222222,
              "#7201a8"
             ],
             [
              0.3333333333333333,
              "#9c179e"
             ],
             [
              0.4444444444444444,
              "#bd3786"
             ],
             [
              0.5555555555555556,
              "#d8576b"
             ],
             [
              0.6666666666666666,
              "#ed7953"
             ],
             [
              0.7777777777777778,
              "#fb9f3a"
             ],
             [
              0.8888888888888888,
              "#fdca26"
             ],
             [
              1,
              "#f0f921"
             ]
            ],
            "type": "heatmap"
           }
          ],
          "heatmapgl": [
           {
            "colorbar": {
             "outlinewidth": 0,
             "ticks": ""
            },
            "colorscale": [
             [
              0,
              "#0d0887"
             ],
             [
              0.1111111111111111,
              "#46039f"
             ],
             [
              0.2222222222222222,
              "#7201a8"
             ],
             [
              0.3333333333333333,
              "#9c179e"
             ],
             [
              0.4444444444444444,
              "#bd3786"
             ],
             [
              0.5555555555555556,
              "#d8576b"
             ],
             [
              0.6666666666666666,
              "#ed7953"
             ],
             [
              0.7777777777777778,
              "#fb9f3a"
             ],
             [
              0.8888888888888888,
              "#fdca26"
             ],
             [
              1,
              "#f0f921"
             ]
            ],
            "type": "heatmapgl"
           }
          ],
          "histogram": [
           {
            "marker": {
             "pattern": {
              "fillmode": "overlay",
              "size": 10,
              "solidity": 0.2
             }
            },
            "type": "histogram"
           }
          ],
          "histogram2d": [
           {
            "colorbar": {
             "outlinewidth": 0,
             "ticks": ""
            },
            "colorscale": [
             [
              0,
              "#0d0887"
             ],
             [
              0.1111111111111111,
              "#46039f"
             ],
             [
              0.2222222222222222,
              "#7201a8"
             ],
             [
              0.3333333333333333,
              "#9c179e"
             ],
             [
              0.4444444444444444,
              "#bd3786"
             ],
             [
              0.5555555555555556,
              "#d8576b"
             ],
             [
              0.6666666666666666,
              "#ed7953"
             ],
             [
              0.7777777777777778,
              "#fb9f3a"
             ],
             [
              0.8888888888888888,
              "#fdca26"
             ],
             [
              1,
              "#f0f921"
             ]
            ],
            "type": "histogram2d"
           }
          ],
          "histogram2dcontour": [
           {
            "colorbar": {
             "outlinewidth": 0,
             "ticks": ""
            },
            "colorscale": [
             [
              0,
              "#0d0887"
             ],
             [
              0.1111111111111111,
              "#46039f"
             ],
             [
              0.2222222222222222,
              "#7201a8"
             ],
             [
              0.3333333333333333,
              "#9c179e"
             ],
             [
              0.4444444444444444,
              "#bd3786"
             ],
             [
              0.5555555555555556,
              "#d8576b"
             ],
             [
              0.6666666666666666,
              "#ed7953"
             ],
             [
              0.7777777777777778,
              "#fb9f3a"
             ],
             [
              0.8888888888888888,
              "#fdca26"
             ],
             [
              1,
              "#f0f921"
             ]
            ],
            "type": "histogram2dcontour"
           }
          ],
          "mesh3d": [
           {
            "colorbar": {
             "outlinewidth": 0,
             "ticks": ""
            },
            "type": "mesh3d"
           }
          ],
          "parcoords": [
           {
            "line": {
             "colorbar": {
              "outlinewidth": 0,
              "ticks": ""
             }
            },
            "type": "parcoords"
           }
          ],
          "pie": [
           {
            "automargin": true,
            "type": "pie"
           }
          ],
          "scatter": [
           {
            "fillpattern": {
             "fillmode": "overlay",
             "size": 10,
             "solidity": 0.2
            },
            "type": "scatter"
           }
          ],
          "scatter3d": [
           {
            "line": {
             "colorbar": {
              "outlinewidth": 0,
              "ticks": ""
             }
            },
            "marker": {
             "colorbar": {
              "outlinewidth": 0,
              "ticks": ""
             }
            },
            "type": "scatter3d"
           }
          ],
          "scattercarpet": [
           {
            "marker": {
             "colorbar": {
              "outlinewidth": 0,
              "ticks": ""
             }
            },
            "type": "scattercarpet"
           }
          ],
          "scattergeo": [
           {
            "marker": {
             "colorbar": {
              "outlinewidth": 0,
              "ticks": ""
             }
            },
            "type": "scattergeo"
           }
          ],
          "scattergl": [
           {
            "marker": {
             "colorbar": {
              "outlinewidth": 0,
              "ticks": ""
             }
            },
            "type": "scattergl"
           }
          ],
          "scattermapbox": [
           {
            "marker": {
             "colorbar": {
              "outlinewidth": 0,
              "ticks": ""
             }
            },
            "type": "scattermapbox"
           }
          ],
          "scatterpolar": [
           {
            "marker": {
             "colorbar": {
              "outlinewidth": 0,
              "ticks": ""
             }
            },
            "type": "scatterpolar"
           }
          ],
          "scatterpolargl": [
           {
            "marker": {
             "colorbar": {
              "outlinewidth": 0,
              "ticks": ""
             }
            },
            "type": "scatterpolargl"
           }
          ],
          "scatterternary": [
           {
            "marker": {
             "colorbar": {
              "outlinewidth": 0,
              "ticks": ""
             }
            },
            "type": "scatterternary"
           }
          ],
          "surface": [
           {
            "colorbar": {
             "outlinewidth": 0,
             "ticks": ""
            },
            "colorscale": [
             [
              0,
              "#0d0887"
             ],
             [
              0.1111111111111111,
              "#46039f"
             ],
             [
              0.2222222222222222,
              "#7201a8"
             ],
             [
              0.3333333333333333,
              "#9c179e"
             ],
             [
              0.4444444444444444,
              "#bd3786"
             ],
             [
              0.5555555555555556,
              "#d8576b"
             ],
             [
              0.6666666666666666,
              "#ed7953"
             ],
             [
              0.7777777777777778,
              "#fb9f3a"
             ],
             [
              0.8888888888888888,
              "#fdca26"
             ],
             [
              1,
              "#f0f921"
             ]
            ],
            "type": "surface"
           }
          ],
          "table": [
           {
            "cells": {
             "fill": {
              "color": "#EBF0F8"
             },
             "line": {
              "color": "white"
             }
            },
            "header": {
             "fill": {
              "color": "#C8D4E3"
             },
             "line": {
              "color": "white"
             }
            },
            "type": "table"
           }
          ]
         },
         "layout": {
          "annotationdefaults": {
           "arrowcolor": "#2a3f5f",
           "arrowhead": 0,
           "arrowwidth": 1
          },
          "autotypenumbers": "strict",
          "coloraxis": {
           "colorbar": {
            "outlinewidth": 0,
            "ticks": ""
           }
          },
          "colorscale": {
           "diverging": [
            [
             0,
             "#8e0152"
            ],
            [
             0.1,
             "#c51b7d"
            ],
            [
             0.2,
             "#de77ae"
            ],
            [
             0.3,
             "#f1b6da"
            ],
            [
             0.4,
             "#fde0ef"
            ],
            [
             0.5,
             "#f7f7f7"
            ],
            [
             0.6,
             "#e6f5d0"
            ],
            [
             0.7,
             "#b8e186"
            ],
            [
             0.8,
             "#7fbc41"
            ],
            [
             0.9,
             "#4d9221"
            ],
            [
             1,
             "#276419"
            ]
           ],
           "sequential": [
            [
             0,
             "#0d0887"
            ],
            [
             0.1111111111111111,
             "#46039f"
            ],
            [
             0.2222222222222222,
             "#7201a8"
            ],
            [
             0.3333333333333333,
             "#9c179e"
            ],
            [
             0.4444444444444444,
             "#bd3786"
            ],
            [
             0.5555555555555556,
             "#d8576b"
            ],
            [
             0.6666666666666666,
             "#ed7953"
            ],
            [
             0.7777777777777778,
             "#fb9f3a"
            ],
            [
             0.8888888888888888,
             "#fdca26"
            ],
            [
             1,
             "#f0f921"
            ]
           ],
           "sequentialminus": [
            [
             0,
             "#0d0887"
            ],
            [
             0.1111111111111111,
             "#46039f"
            ],
            [
             0.2222222222222222,
             "#7201a8"
            ],
            [
             0.3333333333333333,
             "#9c179e"
            ],
            [
             0.4444444444444444,
             "#bd3786"
            ],
            [
             0.5555555555555556,
             "#d8576b"
            ],
            [
             0.6666666666666666,
             "#ed7953"
            ],
            [
             0.7777777777777778,
             "#fb9f3a"
            ],
            [
             0.8888888888888888,
             "#fdca26"
            ],
            [
             1,
             "#f0f921"
            ]
           ]
          },
          "colorway": [
           "#636efa",
           "#EF553B",
           "#00cc96",
           "#ab63fa",
           "#FFA15A",
           "#19d3f3",
           "#FF6692",
           "#B6E880",
           "#FF97FF",
           "#FECB52"
          ],
          "font": {
           "color": "#2a3f5f"
          },
          "geo": {
           "bgcolor": "white",
           "lakecolor": "white",
           "landcolor": "#E5ECF6",
           "showlakes": true,
           "showland": true,
           "subunitcolor": "white"
          },
          "hoverlabel": {
           "align": "left"
          },
          "hovermode": "closest",
          "mapbox": {
           "style": "light"
          },
          "paper_bgcolor": "white",
          "plot_bgcolor": "#E5ECF6",
          "polar": {
           "angularaxis": {
            "gridcolor": "white",
            "linecolor": "white",
            "ticks": ""
           },
           "bgcolor": "#E5ECF6",
           "radialaxis": {
            "gridcolor": "white",
            "linecolor": "white",
            "ticks": ""
           }
          },
          "scene": {
           "xaxis": {
            "backgroundcolor": "#E5ECF6",
            "gridcolor": "white",
            "gridwidth": 2,
            "linecolor": "white",
            "showbackground": true,
            "ticks": "",
            "zerolinecolor": "white"
           },
           "yaxis": {
            "backgroundcolor": "#E5ECF6",
            "gridcolor": "white",
            "gridwidth": 2,
            "linecolor": "white",
            "showbackground": true,
            "ticks": "",
            "zerolinecolor": "white"
           },
           "zaxis": {
            "backgroundcolor": "#E5ECF6",
            "gridcolor": "white",
            "gridwidth": 2,
            "linecolor": "white",
            "showbackground": true,
            "ticks": "",
            "zerolinecolor": "white"
           }
          },
          "shapedefaults": {
           "line": {
            "color": "#2a3f5f"
           }
          },
          "ternary": {
           "aaxis": {
            "gridcolor": "white",
            "linecolor": "white",
            "ticks": ""
           },
           "baxis": {
            "gridcolor": "white",
            "linecolor": "white",
            "ticks": ""
           },
           "bgcolor": "#E5ECF6",
           "caxis": {
            "gridcolor": "white",
            "linecolor": "white",
            "ticks": ""
           }
          },
          "title": {
           "x": 0.05
          },
          "xaxis": {
           "automargin": true,
           "gridcolor": "white",
           "linecolor": "white",
           "ticks": "",
           "title": {
            "standoff": 15
           },
           "zerolinecolor": "white",
           "zerolinewidth": 2
          },
          "yaxis": {
           "automargin": true,
           "gridcolor": "white",
           "linecolor": "white",
           "ticks": "",
           "title": {
            "standoff": 15
           },
           "zerolinecolor": "white",
           "zerolinewidth": 2
          }
         }
        },
        "title": {
         "text": "3D Sentence Clusters(NLTK)"
        }
       }
      }
     },
     "metadata": {},
     "output_type": "display_data"
    }
   ],
   "source": [
    "# Perform t-SNE dimensionality reduction for 3D visualization\n",
    "perplexity_value = min(30, len(sentence_vectors_nltk) - 1)\n",
    "tsne_3d = TSNE(n_components=3,perplexity=perplexity_value, random_state=0)\n",
    "reduced_vectors_3d = tsne_3d.fit_transform(sentence_vectors_nltk)\n",
    "\n",
    "fig = go.Figure()\n",
    "\n",
    "for i in range(num_clusters):\n",
    "    indices = labels_nltk == i\n",
    "    fig.add_trace(go.Scatter3d(\n",
    "        x=reduced_vectors_3d[indices, 0],\n",
    "        y=reduced_vectors_3d[indices, 1],\n",
    "        z=reduced_vectors_3d[indices, 2],\n",
    "        mode='markers',\n",
    "        name=f'Cluster {i+1}'\n",
    "    ))\n",
    "\n",
    "fig.update_layout(title='3D Sentence Clusters(NLTK)',\n",
    "                    scene=dict(xaxis_title='t-SNE Dimension 1',\n",
    "                                 yaxis_title='t-SNE Dimension 2',\n",
    "                                 zaxis_title='t-SNE Dimension 3'))\n",
    "fig.show()\n"
   ]
  },
  {
   "cell_type": "markdown",
   "metadata": {},
   "source": [
    "# kmeans with 6 aspects"
   ]
  },
  {
   "cell_type": "code",
   "execution_count": 58,
   "metadata": {},
   "outputs": [],
   "source": [
    "num_clusters = 6 # Example number of clusters"
   ]
  },
  {
   "cell_type": "code",
   "execution_count": 59,
   "metadata": {},
   "outputs": [
    {
     "name": "stderr",
     "output_type": "stream",
     "text": [
      "/Library/Frameworks/Python.framework/Versions/3.11/lib/python3.11/site-packages/sklearn/cluster/_kmeans.py:1412: FutureWarning:\n",
      "\n",
      "The default value of `n_init` will change from 10 to 'auto' in 1.4. Set the value of `n_init` explicitly to suppress the warning\n",
      "\n"
     ]
    }
   ],
   "source": [
    "kmeans_textblob = KMeans(n_clusters=num_clusters)\n",
    "kmeans_textblob.fit(sentence_vectors_testblob)\n",
    "labels_textblob = kmeans_textblob.labels_"
   ]
  },
  {
   "cell_type": "code",
   "execution_count": 60,
   "metadata": {},
   "outputs": [
    {
     "name": "stderr",
     "output_type": "stream",
     "text": [
      "/Library/Frameworks/Python.framework/Versions/3.11/lib/python3.11/site-packages/sklearn/cluster/_kmeans.py:1412: FutureWarning:\n",
      "\n",
      "The default value of `n_init` will change from 10 to 'auto' in 1.4. Set the value of `n_init` explicitly to suppress the warning\n",
      "\n"
     ]
    }
   ],
   "source": [
    "kmeans_spacy = KMeans(n_clusters=num_clusters)\n",
    "kmeans_spacy.fit(sentence_vectors_spacy)\n",
    "labels_spacy = kmeans_spacy.labels_"
   ]
  },
  {
   "cell_type": "code",
   "execution_count": 61,
   "metadata": {},
   "outputs": [
    {
     "name": "stderr",
     "output_type": "stream",
     "text": [
      "/Library/Frameworks/Python.framework/Versions/3.11/lib/python3.11/site-packages/sklearn/cluster/_kmeans.py:1412: FutureWarning:\n",
      "\n",
      "The default value of `n_init` will change from 10 to 'auto' in 1.4. Set the value of `n_init` explicitly to suppress the warning\n",
      "\n"
     ]
    }
   ],
   "source": [
    "kmeans_nltk = KMeans(n_clusters=num_clusters)\n",
    "kmeans_nltk.fit(sentence_vectors_nltk)\n",
    "labels_nltk = kmeans_nltk.labels_"
   ]
  },
  {
   "cell_type": "markdown",
   "metadata": {},
   "source": [
    "# ploting"
   ]
  },
  {
   "cell_type": "markdown",
   "metadata": {},
   "source": [
    "## textblobl"
   ]
  },
  {
   "cell_type": "code",
   "execution_count": 62,
   "metadata": {},
   "outputs": [],
   "source": [
    "perplexity_value = min(30, len(sentence_vectors_testblob) - 1)\n",
    "tsne = TSNE(n_components=2, perplexity=perplexity_value, random_state=0)\n",
    "reduced_vectors_2d = tsne.fit_transform(sentence_vectors_testblob)"
   ]
  },
  {
   "cell_type": "code",
   "execution_count": 63,
   "metadata": {},
   "outputs": [
    {
     "data": {
      "application/vnd.plotly.v1+json": {
       "config": {
        "plotlyServerURL": "https://plot.ly"
       },
       "data": [
        {
         "mode": "markers",
         "name": "Cluster 1",
         "type": "scatter",
         "x": [
          -24.49350357055664,
          -10.88691520690918,
          -24.49350357055664,
          -9.1126070022583,
          -20.532272338867188,
          -13.662848472595215,
          -24.25979232788086,
          -16.67635154724121,
          -16.67635154724121,
          -18.399431228637695
         ],
         "y": [
          22.79915428161621,
          18.92934799194336,
          22.79915428161621,
          25.813650131225586,
          24.567684173583984,
          33.73696517944336,
          18.90747833251953,
          31.661151885986328,
          31.661151885986328,
          36.15913391113281
         ]
        },
        {
         "mode": "markers",
         "name": "Cluster 2",
         "type": "scatter",
         "x": [
          -17.701929092407227,
          0.7774611115455627,
          1.900209903717041,
          -15.310790061950684,
          26.545726776123047,
          3.313333749771118,
          10.911602973937988,
          -8.207987785339355,
          -4.843941688537598,
          -21.086915969848633,
          -8.207987785339355,
          -17.569162368774414,
          16.076078414916992,
          18.85291862487793,
          12.431612014770508,
          -19.009550094604492,
          -23.449647903442383,
          7.15472412109375,
          -20.295352935791016,
          27.001646041870117,
          1.174507975578308,
          3.501131534576416,
          27.001646041870117,
          -16.88502311706543,
          -20.400375366210938,
          -24.442827224731445,
          -5.163561820983887,
          -10.016119956970215,
          -11.577529907226562,
          -6.712958812713623,
          3.5082502365112305,
          17.750904083251953,
          -2.1853861808776855,
          -4.779571533203125,
          5.787153244018555,
          -9.81216812133789,
          23.16884994506836,
          14.072495460510254,
          11.89973258972168,
          -14.840468406677246,
          22.444549560546875,
          8.922026634216309,
          13.33372974395752,
          17.76343536376953,
          8.922026634216309,
          1.2307162284851074,
          10.587882995605469,
          17.019336700439453,
          -0.4156908094882965,
          -2.4051990509033203,
          -13.632030487060547,
          0.4701082408428192
         ],
         "y": [
          10.858363151550293,
          -0.1039326936006546,
          43.41019821166992,
          -5.485875606536865,
          -9.282219886779785,
          -8.712321281433105,
          8.7611083984375,
          9.9229097366333,
          -10.808683395385742,
          5.237419605255127,
          9.9229097366333,
          -9.604000091552734,
          12.091512680053711,
          1.5323271751403809,
          -9.635884284973145,
          -15.349950790405273,
          -4.335363864898682,
          -8.904821395874023,
          -18.144479751586914,
          14.908561706542969,
          3.272941827774048,
          5.793587684631348,
          14.908561706542969,
          -0.11075020581483841,
          -23.73897933959961,
          -13.758317947387695,
          3.5470407009124756,
          -3.4926276206970215,
          -1.3259369134902954,
          0.6747967004776001,
          -4.242598056793213,
          5.470961093902588,
          -10.399813652038574,
          -2.778773307800293,
          0.4604378342628479,
          5.798715591430664,
          -2.764613151550293,
          19.38720703125,
          1.921014428138733,
          9.706418991088867,
          5.282974720001221,
          -4.019759654998779,
          -1.1124428510665894,
          -0.8942240476608276,
          -4.019759654998779,
          -11.374510765075684,
          -12.85427188873291,
          -7.131174087524414,
          -3.9371871948242188,
          0.03290490061044693,
          14.579729080200195,
          -6.329626560211182
         ]
        },
        {
         "mode": "markers",
         "name": "Cluster 3",
         "type": "scatter",
         "x": [
          14.536059379577637,
          -3.59391713142395,
          10.824387550354004,
          28.59379005432129,
          0.9179701209068298,
          1.8193016052246094,
          2.358405590057373,
          1.8597356081008911,
          4.314886093139648,
          14.983226776123047,
          -8.07044506072998,
          -8.963366508483887,
          -6.3863959312438965,
          14.934407234191895,
          -16.841522216796875,
          15.628427505493164,
          7.606898307800293,
          6.717848300933838,
          11.306421279907227,
          25.065893173217773,
          -6.313586711883545,
          -0.5327856540679932,
          -11.293543815612793,
          -1.509507417678833,
          -7.67031192779541,
          -8.424670219421387,
          -14.369821548461914,
          2.9373886585235596,
          -21.72772979736328,
          15.149772644042969,
          3.4312946796417236,
          13.631099700927734,
          -7.466763019561768,
          -0.15557174384593964,
          21.660381317138672,
          4.640966415405273,
          -0.565685510635376,
          -13.39604377746582,
          -5.265428066253662,
          -13.723440170288086,
          -15.610993385314941,
          25.065893173217773,
          5.649143218994141,
          -1.7588192224502563,
          10.504637718200684,
          10.504637718200684,
          17.045642852783203,
          -5.452980995178223,
          -26.53999900817871,
          24.97439193725586
         ],
         "y": [
          -28.66547203063965,
          -19.370927810668945,
          -32.11201477050781,
          -10.05018424987793,
          -33.27080154418945,
          -30.73941421508789,
          -39.86581039428711,
          -43.76177978515625,
          -40.49903869628906,
          -14.534269332885742,
          -19.968738555908203,
          -8.094632148742676,
          -16.265480041503906,
          -10.284513473510742,
          -22.35520362854004,
          -23.439550399780273,
          -16.927499771118164,
          -29.244474411010742,
          -20.549400329589844,
          -31.828630447387695,
          -6.116795063018799,
          -21.35460662841797,
          -12.212118148803711,
          -24.342208862304688,
          -27.962196350097656,
          -23.333831787109375,
          -18.654014587402344,
          -22.12698745727539,
          -28.03561019897461,
          -38.61079025268555,
          -15.217183113098145,
          -39.97321319580078,
          -35.993247985839844,
          -17.15866470336914,
          -13.796936988830566,
          -24.622102737426758,
          -14.19441032409668,
          -30.758464813232422,
          -23.875207901000977,
          -22.628551483154297,
          -26.18597412109375,
          -31.828630447387695,
          -20.758739471435547,
          -28.54853630065918,
          -26.02713966369629,
          -26.02713966369629,
          -19.66594123840332,
          -33.06354904174805,
          -6.424575328826904,
          -21.306997299194336
         ]
        },
        {
         "mode": "markers",
         "name": "Cluster 4",
         "type": "scatter",
         "x": [
          -13.92587947845459
         ],
         "y": [
          21.229581832885742
         ]
        },
        {
         "mode": "markers",
         "name": "Cluster 5",
         "type": "scatter",
         "x": [
          5.059305191040039,
          5.059305191040039,
          -0.4646685719490051,
          8.61152172088623,
          2.57859468460083,
          11.222631454467773,
          -0.7964257001876831,
          6.048532962799072,
          9.435172080993652,
          -0.11150192469358444,
          7.351154327392578,
          -3.419508218765259,
          13.853863716125488,
          11.145302772521973,
          1.3400907516479492,
          17.658687591552734,
          3.744093656539917,
          3.744093656539917,
          3.744093656539917,
          -4.294442653656006,
          7.7041168212890625,
          3.744093656539917,
          4.48691463470459,
          16.300762176513672,
          8.167652130126953,
          -2.1813745498657227,
          1.2649197578430176
         ],
         "y": [
          34.71720886230469,
          34.71720886230469,
          23.65775489807129,
          23.539152145385742,
          25.393800735473633,
          30.79547691345215,
          30.575252532958984,
          25.88543128967285,
          34.82019805908203,
          27.395008087158203,
          40.37077713012695,
          26.606159210205078,
          39.73530197143555,
          26.62552261352539,
          36.924869537353516,
          26.421154022216797,
          29.7015380859375,
          29.7015380859375,
          29.7015380859375,
          30.599376678466797,
          31.6895751953125,
          29.7015380859375,
          22.61141586303711,
          33.518463134765625,
          28.369020462036133,
          34.14891052246094,
          33.32010269165039
         ]
        },
        {
         "mode": "markers",
         "name": "Cluster 6",
         "type": "scatter",
         "x": [
          -17.013708114624023,
          4.528301239013672,
          -5.325482368469238,
          -24.94256019592285,
          -3.0670459270477295,
          -7.258370876312256,
          -7.258370876312256,
          -11.980438232421875,
          -7.258370876312256,
          1.8445786237716675,
          5.36819314956665,
          -1.3828740119934082,
          -2.1953251361846924
         ],
         "y": [
          5.614658355712891,
          11.891767501831055,
          38.316444396972656,
          0.4853929281234741,
          6.781444549560547,
          47.53581237792969,
          47.53581237792969,
          2.0103259086608887,
          47.53581237792969,
          17.733413696289062,
          17.33434295654297,
          14.517955780029297,
          18.342267990112305
         ]
        }
       ],
       "layout": {
        "legend": {
         "title": {
          "text": "Clusters"
         }
        },
        "template": {
         "data": {
          "bar": [
           {
            "error_x": {
             "color": "#2a3f5f"
            },
            "error_y": {
             "color": "#2a3f5f"
            },
            "marker": {
             "line": {
              "color": "#E5ECF6",
              "width": 0.5
             },
             "pattern": {
              "fillmode": "overlay",
              "size": 10,
              "solidity": 0.2
             }
            },
            "type": "bar"
           }
          ],
          "barpolar": [
           {
            "marker": {
             "line": {
              "color": "#E5ECF6",
              "width": 0.5
             },
             "pattern": {
              "fillmode": "overlay",
              "size": 10,
              "solidity": 0.2
             }
            },
            "type": "barpolar"
           }
          ],
          "carpet": [
           {
            "aaxis": {
             "endlinecolor": "#2a3f5f",
             "gridcolor": "white",
             "linecolor": "white",
             "minorgridcolor": "white",
             "startlinecolor": "#2a3f5f"
            },
            "baxis": {
             "endlinecolor": "#2a3f5f",
             "gridcolor": "white",
             "linecolor": "white",
             "minorgridcolor": "white",
             "startlinecolor": "#2a3f5f"
            },
            "type": "carpet"
           }
          ],
          "choropleth": [
           {
            "colorbar": {
             "outlinewidth": 0,
             "ticks": ""
            },
            "type": "choropleth"
           }
          ],
          "contour": [
           {
            "colorbar": {
             "outlinewidth": 0,
             "ticks": ""
            },
            "colorscale": [
             [
              0,
              "#0d0887"
             ],
             [
              0.1111111111111111,
              "#46039f"
             ],
             [
              0.2222222222222222,
              "#7201a8"
             ],
             [
              0.3333333333333333,
              "#9c179e"
             ],
             [
              0.4444444444444444,
              "#bd3786"
             ],
             [
              0.5555555555555556,
              "#d8576b"
             ],
             [
              0.6666666666666666,
              "#ed7953"
             ],
             [
              0.7777777777777778,
              "#fb9f3a"
             ],
             [
              0.8888888888888888,
              "#fdca26"
             ],
             [
              1,
              "#f0f921"
             ]
            ],
            "type": "contour"
           }
          ],
          "contourcarpet": [
           {
            "colorbar": {
             "outlinewidth": 0,
             "ticks": ""
            },
            "type": "contourcarpet"
           }
          ],
          "heatmap": [
           {
            "colorbar": {
             "outlinewidth": 0,
             "ticks": ""
            },
            "colorscale": [
             [
              0,
              "#0d0887"
             ],
             [
              0.1111111111111111,
              "#46039f"
             ],
             [
              0.2222222222222222,
              "#7201a8"
             ],
             [
              0.3333333333333333,
              "#9c179e"
             ],
             [
              0.4444444444444444,
              "#bd3786"
             ],
             [
              0.5555555555555556,
              "#d8576b"
             ],
             [
              0.6666666666666666,
              "#ed7953"
             ],
             [
              0.7777777777777778,
              "#fb9f3a"
             ],
             [
              0.8888888888888888,
              "#fdca26"
             ],
             [
              1,
              "#f0f921"
             ]
            ],
            "type": "heatmap"
           }
          ],
          "heatmapgl": [
           {
            "colorbar": {
             "outlinewidth": 0,
             "ticks": ""
            },
            "colorscale": [
             [
              0,
              "#0d0887"
             ],
             [
              0.1111111111111111,
              "#46039f"
             ],
             [
              0.2222222222222222,
              "#7201a8"
             ],
             [
              0.3333333333333333,
              "#9c179e"
             ],
             [
              0.4444444444444444,
              "#bd3786"
             ],
             [
              0.5555555555555556,
              "#d8576b"
             ],
             [
              0.6666666666666666,
              "#ed7953"
             ],
             [
              0.7777777777777778,
              "#fb9f3a"
             ],
             [
              0.8888888888888888,
              "#fdca26"
             ],
             [
              1,
              "#f0f921"
             ]
            ],
            "type": "heatmapgl"
           }
          ],
          "histogram": [
           {
            "marker": {
             "pattern": {
              "fillmode": "overlay",
              "size": 10,
              "solidity": 0.2
             }
            },
            "type": "histogram"
           }
          ],
          "histogram2d": [
           {
            "colorbar": {
             "outlinewidth": 0,
             "ticks": ""
            },
            "colorscale": [
             [
              0,
              "#0d0887"
             ],
             [
              0.1111111111111111,
              "#46039f"
             ],
             [
              0.2222222222222222,
              "#7201a8"
             ],
             [
              0.3333333333333333,
              "#9c179e"
             ],
             [
              0.4444444444444444,
              "#bd3786"
             ],
             [
              0.5555555555555556,
              "#d8576b"
             ],
             [
              0.6666666666666666,
              "#ed7953"
             ],
             [
              0.7777777777777778,
              "#fb9f3a"
             ],
             [
              0.8888888888888888,
              "#fdca26"
             ],
             [
              1,
              "#f0f921"
             ]
            ],
            "type": "histogram2d"
           }
          ],
          "histogram2dcontour": [
           {
            "colorbar": {
             "outlinewidth": 0,
             "ticks": ""
            },
            "colorscale": [
             [
              0,
              "#0d0887"
             ],
             [
              0.1111111111111111,
              "#46039f"
             ],
             [
              0.2222222222222222,
              "#7201a8"
             ],
             [
              0.3333333333333333,
              "#9c179e"
             ],
             [
              0.4444444444444444,
              "#bd3786"
             ],
             [
              0.5555555555555556,
              "#d8576b"
             ],
             [
              0.6666666666666666,
              "#ed7953"
             ],
             [
              0.7777777777777778,
              "#fb9f3a"
             ],
             [
              0.8888888888888888,
              "#fdca26"
             ],
             [
              1,
              "#f0f921"
             ]
            ],
            "type": "histogram2dcontour"
           }
          ],
          "mesh3d": [
           {
            "colorbar": {
             "outlinewidth": 0,
             "ticks": ""
            },
            "type": "mesh3d"
           }
          ],
          "parcoords": [
           {
            "line": {
             "colorbar": {
              "outlinewidth": 0,
              "ticks": ""
             }
            },
            "type": "parcoords"
           }
          ],
          "pie": [
           {
            "automargin": true,
            "type": "pie"
           }
          ],
          "scatter": [
           {
            "fillpattern": {
             "fillmode": "overlay",
             "size": 10,
             "solidity": 0.2
            },
            "type": "scatter"
           }
          ],
          "scatter3d": [
           {
            "line": {
             "colorbar": {
              "outlinewidth": 0,
              "ticks": ""
             }
            },
            "marker": {
             "colorbar": {
              "outlinewidth": 0,
              "ticks": ""
             }
            },
            "type": "scatter3d"
           }
          ],
          "scattercarpet": [
           {
            "marker": {
             "colorbar": {
              "outlinewidth": 0,
              "ticks": ""
             }
            },
            "type": "scattercarpet"
           }
          ],
          "scattergeo": [
           {
            "marker": {
             "colorbar": {
              "outlinewidth": 0,
              "ticks": ""
             }
            },
            "type": "scattergeo"
           }
          ],
          "scattergl": [
           {
            "marker": {
             "colorbar": {
              "outlinewidth": 0,
              "ticks": ""
             }
            },
            "type": "scattergl"
           }
          ],
          "scattermapbox": [
           {
            "marker": {
             "colorbar": {
              "outlinewidth": 0,
              "ticks": ""
             }
            },
            "type": "scattermapbox"
           }
          ],
          "scatterpolar": [
           {
            "marker": {
             "colorbar": {
              "outlinewidth": 0,
              "ticks": ""
             }
            },
            "type": "scatterpolar"
           }
          ],
          "scatterpolargl": [
           {
            "marker": {
             "colorbar": {
              "outlinewidth": 0,
              "ticks": ""
             }
            },
            "type": "scatterpolargl"
           }
          ],
          "scatterternary": [
           {
            "marker": {
             "colorbar": {
              "outlinewidth": 0,
              "ticks": ""
             }
            },
            "type": "scatterternary"
           }
          ],
          "surface": [
           {
            "colorbar": {
             "outlinewidth": 0,
             "ticks": ""
            },
            "colorscale": [
             [
              0,
              "#0d0887"
             ],
             [
              0.1111111111111111,
              "#46039f"
             ],
             [
              0.2222222222222222,
              "#7201a8"
             ],
             [
              0.3333333333333333,
              "#9c179e"
             ],
             [
              0.4444444444444444,
              "#bd3786"
             ],
             [
              0.5555555555555556,
              "#d8576b"
             ],
             [
              0.6666666666666666,
              "#ed7953"
             ],
             [
              0.7777777777777778,
              "#fb9f3a"
             ],
             [
              0.8888888888888888,
              "#fdca26"
             ],
             [
              1,
              "#f0f921"
             ]
            ],
            "type": "surface"
           }
          ],
          "table": [
           {
            "cells": {
             "fill": {
              "color": "#EBF0F8"
             },
             "line": {
              "color": "white"
             }
            },
            "header": {
             "fill": {
              "color": "#C8D4E3"
             },
             "line": {
              "color": "white"
             }
            },
            "type": "table"
           }
          ]
         },
         "layout": {
          "annotationdefaults": {
           "arrowcolor": "#2a3f5f",
           "arrowhead": 0,
           "arrowwidth": 1
          },
          "autotypenumbers": "strict",
          "coloraxis": {
           "colorbar": {
            "outlinewidth": 0,
            "ticks": ""
           }
          },
          "colorscale": {
           "diverging": [
            [
             0,
             "#8e0152"
            ],
            [
             0.1,
             "#c51b7d"
            ],
            [
             0.2,
             "#de77ae"
            ],
            [
             0.3,
             "#f1b6da"
            ],
            [
             0.4,
             "#fde0ef"
            ],
            [
             0.5,
             "#f7f7f7"
            ],
            [
             0.6,
             "#e6f5d0"
            ],
            [
             0.7,
             "#b8e186"
            ],
            [
             0.8,
             "#7fbc41"
            ],
            [
             0.9,
             "#4d9221"
            ],
            [
             1,
             "#276419"
            ]
           ],
           "sequential": [
            [
             0,
             "#0d0887"
            ],
            [
             0.1111111111111111,
             "#46039f"
            ],
            [
             0.2222222222222222,
             "#7201a8"
            ],
            [
             0.3333333333333333,
             "#9c179e"
            ],
            [
             0.4444444444444444,
             "#bd3786"
            ],
            [
             0.5555555555555556,
             "#d8576b"
            ],
            [
             0.6666666666666666,
             "#ed7953"
            ],
            [
             0.7777777777777778,
             "#fb9f3a"
            ],
            [
             0.8888888888888888,
             "#fdca26"
            ],
            [
             1,
             "#f0f921"
            ]
           ],
           "sequentialminus": [
            [
             0,
             "#0d0887"
            ],
            [
             0.1111111111111111,
             "#46039f"
            ],
            [
             0.2222222222222222,
             "#7201a8"
            ],
            [
             0.3333333333333333,
             "#9c179e"
            ],
            [
             0.4444444444444444,
             "#bd3786"
            ],
            [
             0.5555555555555556,
             "#d8576b"
            ],
            [
             0.6666666666666666,
             "#ed7953"
            ],
            [
             0.7777777777777778,
             "#fb9f3a"
            ],
            [
             0.8888888888888888,
             "#fdca26"
            ],
            [
             1,
             "#f0f921"
            ]
           ]
          },
          "colorway": [
           "#636efa",
           "#EF553B",
           "#00cc96",
           "#ab63fa",
           "#FFA15A",
           "#19d3f3",
           "#FF6692",
           "#B6E880",
           "#FF97FF",
           "#FECB52"
          ],
          "font": {
           "color": "#2a3f5f"
          },
          "geo": {
           "bgcolor": "white",
           "lakecolor": "white",
           "landcolor": "#E5ECF6",
           "showlakes": true,
           "showland": true,
           "subunitcolor": "white"
          },
          "hoverlabel": {
           "align": "left"
          },
          "hovermode": "closest",
          "mapbox": {
           "style": "light"
          },
          "paper_bgcolor": "white",
          "plot_bgcolor": "#E5ECF6",
          "polar": {
           "angularaxis": {
            "gridcolor": "white",
            "linecolor": "white",
            "ticks": ""
           },
           "bgcolor": "#E5ECF6",
           "radialaxis": {
            "gridcolor": "white",
            "linecolor": "white",
            "ticks": ""
           }
          },
          "scene": {
           "xaxis": {
            "backgroundcolor": "#E5ECF6",
            "gridcolor": "white",
            "gridwidth": 2,
            "linecolor": "white",
            "showbackground": true,
            "ticks": "",
            "zerolinecolor": "white"
           },
           "yaxis": {
            "backgroundcolor": "#E5ECF6",
            "gridcolor": "white",
            "gridwidth": 2,
            "linecolor": "white",
            "showbackground": true,
            "ticks": "",
            "zerolinecolor": "white"
           },
           "zaxis": {
            "backgroundcolor": "#E5ECF6",
            "gridcolor": "white",
            "gridwidth": 2,
            "linecolor": "white",
            "showbackground": true,
            "ticks": "",
            "zerolinecolor": "white"
           }
          },
          "shapedefaults": {
           "line": {
            "color": "#2a3f5f"
           }
          },
          "ternary": {
           "aaxis": {
            "gridcolor": "white",
            "linecolor": "white",
            "ticks": ""
           },
           "baxis": {
            "gridcolor": "white",
            "linecolor": "white",
            "ticks": ""
           },
           "bgcolor": "#E5ECF6",
           "caxis": {
            "gridcolor": "white",
            "linecolor": "white",
            "ticks": ""
           }
          },
          "title": {
           "x": 0.05
          },
          "xaxis": {
           "automargin": true,
           "gridcolor": "white",
           "linecolor": "white",
           "ticks": "",
           "title": {
            "standoff": 15
           },
           "zerolinecolor": "white",
           "zerolinewidth": 2
          },
          "yaxis": {
           "automargin": true,
           "gridcolor": "white",
           "linecolor": "white",
           "ticks": "",
           "title": {
            "standoff": 15
           },
           "zerolinecolor": "white",
           "zerolinewidth": 2
          }
         }
        },
        "title": {
         "text": "Sentence Clusters Visualized with t-SNE(Textblob)"
        },
        "xaxis": {
         "title": {
          "text": "t-SNE Dimension 1"
         }
        },
        "yaxis": {
         "title": {
          "text": "t-SNE Dimension 2"
         }
        }
       }
      }
     },
     "metadata": {},
     "output_type": "display_data"
    }
   ],
   "source": [
    "\n",
    "\n",
    "fig = go.Figure()\n",
    "\n",
    "for i in range(num_clusters):\n",
    "    indices = labels_textblob == i\n",
    "    fig.add_trace(go.Scatter(\n",
    "        x=reduced_vectors_2d[indices, 0],\n",
    "        y=reduced_vectors_2d[indices, 1],\n",
    "        mode='markers',\n",
    "        name=f'Cluster {i + 1}'\n",
    "    ))\n",
    "\n",
    "fig.update_layout(\n",
    "    title='Sentence Clusters Visualized with t-SNE(Textblob)',\n",
    "    xaxis_title='t-SNE Dimension 1',\n",
    "    yaxis_title='t-SNE Dimension 2',\n",
    "    legend_title=\"Clusters\"\n",
    ")\n",
    "\n",
    "pio.show(fig)\n"
   ]
  },
  {
   "cell_type": "code",
   "execution_count": 64,
   "metadata": {},
   "outputs": [
    {
     "data": {
      "application/vnd.plotly.v1+json": {
       "config": {
        "plotlyServerURL": "https://plot.ly"
       },
       "data": [
        {
         "mode": "markers",
         "name": "Cluster 1",
         "type": "scatter3d",
         "x": [
          -107.03184509277344,
          -86.538818359375,
          -107.03184509277344,
          -70.97286987304688,
          -112.73959350585938,
          -92.94420623779297,
          -104.9327621459961,
          -98.62286376953125,
          -98.62286376953125,
          -80.45209503173828
         ],
         "y": [
          23.22176742553711,
          -11.869527816772461,
          23.22176742553711,
          77.38560485839844,
          -2.0819132328033447,
          -49.19527053833008,
          34.73780822753906,
          -23.73329734802246,
          -23.73329734802246,
          -38.2535514831543
         ],
         "z": [
          29.02617645263672,
          -11.314753532409668,
          29.02617645263672,
          27.85453987121582,
          10.816247940063477,
          34.31044006347656,
          2.2551355361938477,
          44.10603713989258,
          44.10603713989258,
          68.95320892333984
         ]
        },
        {
         "mode": "markers",
         "name": "Cluster 2",
         "type": "scatter3d",
         "x": [
          41.93659591674805,
          18.85542869567871,
          -27.18260383605957,
          12.003993034362793,
          -38.35749816894531,
          35.370582580566406,
          -42.82312774658203,
          15.63565731048584,
          24.098831176757812,
          31.20387840270996,
          15.63565731048584,
          -37.17094421386719,
          -73.1827163696289,
          -17.618738174438477,
          -5.82694149017334,
          -25.119205474853516,
          26.94109535217285,
          74.76860046386719,
          -17.179101943969727,
          -21.126596450805664,
          7.650907039642334,
          -5.603654384613037,
          -21.126596450805664,
          -40.09465789794922,
          -4.367466449737549,
          -45.822784423828125,
          10.657042503356934,
          -0.38931459188461304,
          -73.40204620361328,
          7.013852119445801,
          -11.24592399597168,
          -29.951292037963867,
          38.67694091796875,
          4.610270023345947,
          9.579005241394043,
          12.023993492126465,
          2.8264920711517334,
          -57.71552658081055,
          -91.0211410522461,
          28.8408260345459,
          -74.08910369873047,
          -3.786173105239868,
          0.993510365486145,
          23.421791076660156,
          -3.786173105239868,
          22.716066360473633,
          51.22320556640625,
          64.33323669433594,
          2.8381357192993164,
          -4.66253662109375,
          -61.10558319091797,
          15.977218627929688
         ],
         "y": [
          -11.280413627624512,
          8.352102279663086,
          -46.41407775878906,
          23.317140579223633,
          55.18181610107422,
          51.65128707885742,
          48.64576721191406,
          -35.82059860229492,
          32.161338806152344,
          -58.70185089111328,
          -35.82059860229492,
          100.86532592773438,
          62.34353256225586,
          -49.401939392089844,
          -35.71778106689453,
          -47.06644821166992,
          0.8656333088874817,
          -33.363094329833984,
          -63.400047302246094,
          84.18631744384766,
          64.45472717285156,
          41.41261672973633,
          84.18631744384766,
          -83.70820617675781,
          -26.322357177734375,
          -39.31554412841797,
          -80.59504699707031,
          63.6513557434082,
          -51.62007141113281,
          -71.83370208740234,
          27.13471031188965,
          -76.0088119506836,
          25.645362854003906,
          14.393658638000488,
          41.41439437866211,
          -46.87421417236328,
          -116.93846130371094,
          57.286678314208984,
          70.37498474121094,
          -17.383028030395508,
          -65.34413146972656,
          -5.688567161560059,
          -22.498456954956055,
          -27.845104217529297,
          -5.688567161560059,
          1.05433988571167,
          37.039798736572266,
          63.010013580322266,
          -52.41127395629883,
          -11.840726852416992,
          -26.599863052368164,
          30.978748321533203
         ],
         "z": [
          88.06258392333984,
          58.99515151977539,
          52.746978759765625,
          103.45215606689453,
          -28.55608558654785,
          -18.12281608581543,
          91.57514953613281,
          -4.814188003540039,
          16.12049674987793,
          95.77033233642578,
          -4.814188003540039,
          -31.05135154724121,
          69.77128601074219,
          3.0228779315948486,
          79.96861267089844,
          -37.65061950683594,
          -13.268681526184082,
          -18.310157775878906,
          -54.462440490722656,
          9.514913558959961,
          -5.619357109069824,
          -9.537983894348145,
          9.514913558959961,
          -40.90571975708008,
          -94.3864517211914,
          -66.33912658691406,
          -15.136712074279785,
          -46.82108688354492,
          -10.518564224243164,
          9.388510704040527,
          -45.94822311401367,
          -4.383391857147217,
          -2.246769428253174,
          -12.999300003051758,
          -94.73863983154297,
          -32.294010162353516,
          -25.938751220703125,
          -3.028597593307495,
          -21.343505859375,
          68.10701751708984,
          -56.21421432495117,
          73.16171264648438,
          45.79483413696289,
          29.72357177734375,
          73.16171264648438,
          26.44186019897461,
          87.08826446533203,
          61.232200622558594,
          31.91493034362793,
          -25.790687561035156,
          -27.668493270874023,
          -34.901939392089844
         ]
        },
        {
         "mode": "markers",
         "name": "Cluster 3",
         "type": "scatter3d",
         "x": [
          25.69911003112793,
          68.01885223388672,
          76.81116485595703,
          -46.64863586425781,
          47.896812438964844,
          -75.46041870117188,
          63.56319046020508,
          11.153088569641113,
          49.87830352783203,
          39.74662780761719,
          98.15576934814453,
          11.594376564025879,
          101.81806182861328,
          41.7244873046875,
          2.707986831665039,
          54.34275436401367,
          -14.9527587890625,
          64.69549560546875,
          54.3912467956543,
          103.15238952636719,
          82.19876861572266,
          47.43317413330078,
          41.002891540527344,
          63.308040618896484,
          81.32064819335938,
          78.89781188964844,
          31.418798446655273,
          36.64286804199219,
          -22.38889503479004,
          89.53787231445312,
          62.27871322631836,
          72.72996520996094,
          73.075927734375,
          54.25270080566406,
          -20.43588638305664,
          31.004552841186523,
          33.111839294433594,
          18.64076805114746,
          -77.05963134765625,
          11.83500862121582,
          -12.804709434509277,
          103.15238952636719,
          12.880755424499512,
          -25.962238311767578,
          59.614784240722656,
          59.614784240722656,
          60.97956085205078,
          70.94400787353516,
          46.554656982421875,
          45.03908157348633
         ],
         "y": [
          91.078125,
          33.25822067260742,
          -20.928518295288086,
          63.82457733154297,
          -1.191724419593811,
          35.959678649902344,
          -62.475013732910156,
          99.80509185791016,
          -52.45763397216797,
          34.6188850402832,
          10.27905559539795,
          54.128963470458984,
          35.90878677368164,
          67.15125274658203,
          -42.958763122558594,
          -63.89437484741211,
          19.193050384521484,
          21.073986053466797,
          -41.86929702758789,
          21.060497283935547,
          -64.70680236816406,
          15.905519485473633,
          89.83296203613281,
          18.205280303955078,
          72.6323471069336,
          -0.7481485605239868,
          -39.598697662353516,
          3.940951347351074,
          -52.024784088134766,
          66.83160400390625,
          52.04102325439453,
          56.39725112915039,
          -53.3714714050293,
          47.33475112915039,
          89.9190444946289,
          -14.76724624633789,
          44.85009765625,
          -82.26368713378906,
          4.796885967254639,
          -18.97160530090332,
          -19.278003692626953,
          21.060497283935547,
          9.38599681854248,
          65.23858642578125,
          -9.564007759094238,
          -9.564007759094238,
          7.885459899902344,
          -14.644342422485352,
          -15.109161376953125,
          74.40843963623047
         ],
         "z": [
          65.7218017578125,
          -25.43091583251953,
          43.295013427734375,
          -45.50313949584961,
          -100.6014175415039,
          -41.07794189453125,
          -57.18833923339844,
          -60.60890579223633,
          -46.020503997802734,
          47.97523498535156,
          -46.7080078125,
          76.22550201416016,
          -25.551925659179688,
          36.256629943847656,
          -72.62371063232422,
          -8.350618362426758,
          -86.63716125488281,
          26.40611457824707,
          21.85621452331543,
          52.78160858154297,
          3.130188465118408,
          -39.268348693847656,
          -9.806649208068848,
          -61.89809036254883,
          -35.19123840332031,
          -27.156957626342773,
          -82.38388061523438,
          -65.1169204711914,
          -96.84748077392578,
          13.809833526611328,
          -80.06442260742188,
          9.815649032592773,
          67.39230346679688,
          -48.663238525390625,
          55.755706787109375,
          -48.424232482910156,
          -61.022953033447266,
          -64.965576171875,
          -49.38211441040039,
          113.42039489746094,
          -65.25655364990234,
          52.78160858154297,
          -64.29015350341797,
          -82.89925384521484,
          18.957000732421875,
          18.957000732421875,
          60.505645751953125,
          -68.37765502929688,
          -16.118846893310547,
          -54.79735565185547
         ]
        },
        {
         "mode": "markers",
         "name": "Cluster 4",
         "type": "scatter3d",
         "x": [
          -102.41874694824219
         ],
         "y": [
          -28.308359146118164
         ],
         "z": [
          -29.877872467041016
         ]
        },
        {
         "mode": "markers",
         "name": "Cluster 5",
         "type": "scatter3d",
         "x": [
          -11.12751579284668,
          -11.12751579284668,
          -62.81272888183594,
          95.84780883789062,
          -24.458219528198242,
          -12.162477493286133,
          -71.56228637695312,
          -66.23388671875,
          -25.555871963500977,
          -38.721710205078125,
          67.29886627197266,
          -8.956820487976074,
          108.40030670166016,
          -47.892601013183594,
          -33.53532409667969,
          42.881568908691406,
          -40.58608627319336,
          -40.58608627319336,
          -40.58608627319336,
          -64.18990325927734,
          -41.79237365722656,
          -40.58608627319336,
          3.3106167316436768,
          108.76335906982422,
          -44.1387939453125,
          105.71955871582031,
          -53.971378326416016
         ],
         "y": [
          43.271671295166016,
          43.271671295166016,
          36.14463806152344,
          9.084858894348145,
          33.83357238769531,
          3.996807813644409,
          6.2176690101623535,
          -7.713212013244629,
          -21.218772888183594,
          -8.429059028625488,
          -97.71475982666016,
          13.637938499450684,
          -45.6670036315918,
          18.054048538208008,
          24.708911895751953,
          -67.08155059814453,
          9.197336196899414,
          9.197336196899414,
          9.197336196899414,
          22.802011489868164,
          45.21417236328125,
          9.197336196899414,
          104.68608856201172,
          -47.778900146484375,
          -11.978484153747559,
          -23.085674285888672,
          -25.3647518157959
         ],
         "z": [
          30.914587020874023,
          30.914587020874023,
          43.424110412597656,
          9.098709106445312,
          58.44622039794922,
          12.730196952819824,
          49.90751647949219,
          16.000246047973633,
          24.488101959228516,
          -0.29878178238868713,
          34.137908935546875,
          41.024986267089844,
          36.82651901245117,
          68.66140747070312,
          2.1043922901153564,
          34.77476501464844,
          33.06616973876953,
          33.06616973876953,
          33.06616973876953,
          9.409646034240723,
          25.290546417236328,
          33.06616973876953,
          -9.524490356445312,
          -34.21299362182617,
          63.8503303527832,
          2.7564890384674072,
          38.14326477050781
         ]
        },
        {
         "mode": "markers",
         "name": "Cluster 6",
         "type": "scatter3d",
         "x": [
          28.127859115600586,
          -70.9299545288086,
          -50.78752517700195,
          10.458264350891113,
          31.39670753479004,
          -50.49156188964844,
          -50.49156188964844,
          -39.92691421508789,
          -50.49156188964844,
          -42.85981369018555,
          -45.359493255615234,
          -58.92361068725586,
          -54.16438674926758
         ],
         "y": [
          -49.58292770385742,
          -88.83740234375,
          -42.89073181152344,
          -81.79322814941406,
          -96.63217163085938,
          -85.08699798583984,
          -85.08699798583984,
          -73.00421905517578,
          -85.08699798583984,
          5.823566436767578,
          8.8139066696167,
          -2.844424247741699,
          25.598621368408203
         ],
         "z": [
          67.72007751464844,
          -9.878875732421875,
          9.746119499206543,
          63.90953826904297,
          -2.8577890396118164,
          35.21803283691406,
          35.21803283691406,
          73.5575942993164,
          35.21803283691406,
          -53.89887237548828,
          -28.214088439941406,
          -82.87882232666016,
          -73.92730712890625
         ]
        }
       ],
       "layout": {
        "scene": {
         "xaxis": {
          "title": {
           "text": "t-SNE Dimension 1"
          }
         },
         "yaxis": {
          "title": {
           "text": "t-SNE Dimension 2"
          }
         },
         "zaxis": {
          "title": {
           "text": "t-SNE Dimension 3"
          }
         }
        },
        "template": {
         "data": {
          "bar": [
           {
            "error_x": {
             "color": "#2a3f5f"
            },
            "error_y": {
             "color": "#2a3f5f"
            },
            "marker": {
             "line": {
              "color": "#E5ECF6",
              "width": 0.5
             },
             "pattern": {
              "fillmode": "overlay",
              "size": 10,
              "solidity": 0.2
             }
            },
            "type": "bar"
           }
          ],
          "barpolar": [
           {
            "marker": {
             "line": {
              "color": "#E5ECF6",
              "width": 0.5
             },
             "pattern": {
              "fillmode": "overlay",
              "size": 10,
              "solidity": 0.2
             }
            },
            "type": "barpolar"
           }
          ],
          "carpet": [
           {
            "aaxis": {
             "endlinecolor": "#2a3f5f",
             "gridcolor": "white",
             "linecolor": "white",
             "minorgridcolor": "white",
             "startlinecolor": "#2a3f5f"
            },
            "baxis": {
             "endlinecolor": "#2a3f5f",
             "gridcolor": "white",
             "linecolor": "white",
             "minorgridcolor": "white",
             "startlinecolor": "#2a3f5f"
            },
            "type": "carpet"
           }
          ],
          "choropleth": [
           {
            "colorbar": {
             "outlinewidth": 0,
             "ticks": ""
            },
            "type": "choropleth"
           }
          ],
          "contour": [
           {
            "colorbar": {
             "outlinewidth": 0,
             "ticks": ""
            },
            "colorscale": [
             [
              0,
              "#0d0887"
             ],
             [
              0.1111111111111111,
              "#46039f"
             ],
             [
              0.2222222222222222,
              "#7201a8"
             ],
             [
              0.3333333333333333,
              "#9c179e"
             ],
             [
              0.4444444444444444,
              "#bd3786"
             ],
             [
              0.5555555555555556,
              "#d8576b"
             ],
             [
              0.6666666666666666,
              "#ed7953"
             ],
             [
              0.7777777777777778,
              "#fb9f3a"
             ],
             [
              0.8888888888888888,
              "#fdca26"
             ],
             [
              1,
              "#f0f921"
             ]
            ],
            "type": "contour"
           }
          ],
          "contourcarpet": [
           {
            "colorbar": {
             "outlinewidth": 0,
             "ticks": ""
            },
            "type": "contourcarpet"
           }
          ],
          "heatmap": [
           {
            "colorbar": {
             "outlinewidth": 0,
             "ticks": ""
            },
            "colorscale": [
             [
              0,
              "#0d0887"
             ],
             [
              0.1111111111111111,
              "#46039f"
             ],
             [
              0.2222222222222222,
              "#7201a8"
             ],
             [
              0.3333333333333333,
              "#9c179e"
             ],
             [
              0.4444444444444444,
              "#bd3786"
             ],
             [
              0.5555555555555556,
              "#d8576b"
             ],
             [
              0.6666666666666666,
              "#ed7953"
             ],
             [
              0.7777777777777778,
              "#fb9f3a"
             ],
             [
              0.8888888888888888,
              "#fdca26"
             ],
             [
              1,
              "#f0f921"
             ]
            ],
            "type": "heatmap"
           }
          ],
          "heatmapgl": [
           {
            "colorbar": {
             "outlinewidth": 0,
             "ticks": ""
            },
            "colorscale": [
             [
              0,
              "#0d0887"
             ],
             [
              0.1111111111111111,
              "#46039f"
             ],
             [
              0.2222222222222222,
              "#7201a8"
             ],
             [
              0.3333333333333333,
              "#9c179e"
             ],
             [
              0.4444444444444444,
              "#bd3786"
             ],
             [
              0.5555555555555556,
              "#d8576b"
             ],
             [
              0.6666666666666666,
              "#ed7953"
             ],
             [
              0.7777777777777778,
              "#fb9f3a"
             ],
             [
              0.8888888888888888,
              "#fdca26"
             ],
             [
              1,
              "#f0f921"
             ]
            ],
            "type": "heatmapgl"
           }
          ],
          "histogram": [
           {
            "marker": {
             "pattern": {
              "fillmode": "overlay",
              "size": 10,
              "solidity": 0.2
             }
            },
            "type": "histogram"
           }
          ],
          "histogram2d": [
           {
            "colorbar": {
             "outlinewidth": 0,
             "ticks": ""
            },
            "colorscale": [
             [
              0,
              "#0d0887"
             ],
             [
              0.1111111111111111,
              "#46039f"
             ],
             [
              0.2222222222222222,
              "#7201a8"
             ],
             [
              0.3333333333333333,
              "#9c179e"
             ],
             [
              0.4444444444444444,
              "#bd3786"
             ],
             [
              0.5555555555555556,
              "#d8576b"
             ],
             [
              0.6666666666666666,
              "#ed7953"
             ],
             [
              0.7777777777777778,
              "#fb9f3a"
             ],
             [
              0.8888888888888888,
              "#fdca26"
             ],
             [
              1,
              "#f0f921"
             ]
            ],
            "type": "histogram2d"
           }
          ],
          "histogram2dcontour": [
           {
            "colorbar": {
             "outlinewidth": 0,
             "ticks": ""
            },
            "colorscale": [
             [
              0,
              "#0d0887"
             ],
             [
              0.1111111111111111,
              "#46039f"
             ],
             [
              0.2222222222222222,
              "#7201a8"
             ],
             [
              0.3333333333333333,
              "#9c179e"
             ],
             [
              0.4444444444444444,
              "#bd3786"
             ],
             [
              0.5555555555555556,
              "#d8576b"
             ],
             [
              0.6666666666666666,
              "#ed7953"
             ],
             [
              0.7777777777777778,
              "#fb9f3a"
             ],
             [
              0.8888888888888888,
              "#fdca26"
             ],
             [
              1,
              "#f0f921"
             ]
            ],
            "type": "histogram2dcontour"
           }
          ],
          "mesh3d": [
           {
            "colorbar": {
             "outlinewidth": 0,
             "ticks": ""
            },
            "type": "mesh3d"
           }
          ],
          "parcoords": [
           {
            "line": {
             "colorbar": {
              "outlinewidth": 0,
              "ticks": ""
             }
            },
            "type": "parcoords"
           }
          ],
          "pie": [
           {
            "automargin": true,
            "type": "pie"
           }
          ],
          "scatter": [
           {
            "fillpattern": {
             "fillmode": "overlay",
             "size": 10,
             "solidity": 0.2
            },
            "type": "scatter"
           }
          ],
          "scatter3d": [
           {
            "line": {
             "colorbar": {
              "outlinewidth": 0,
              "ticks": ""
             }
            },
            "marker": {
             "colorbar": {
              "outlinewidth": 0,
              "ticks": ""
             }
            },
            "type": "scatter3d"
           }
          ],
          "scattercarpet": [
           {
            "marker": {
             "colorbar": {
              "outlinewidth": 0,
              "ticks": ""
             }
            },
            "type": "scattercarpet"
           }
          ],
          "scattergeo": [
           {
            "marker": {
             "colorbar": {
              "outlinewidth": 0,
              "ticks": ""
             }
            },
            "type": "scattergeo"
           }
          ],
          "scattergl": [
           {
            "marker": {
             "colorbar": {
              "outlinewidth": 0,
              "ticks": ""
             }
            },
            "type": "scattergl"
           }
          ],
          "scattermapbox": [
           {
            "marker": {
             "colorbar": {
              "outlinewidth": 0,
              "ticks": ""
             }
            },
            "type": "scattermapbox"
           }
          ],
          "scatterpolar": [
           {
            "marker": {
             "colorbar": {
              "outlinewidth": 0,
              "ticks": ""
             }
            },
            "type": "scatterpolar"
           }
          ],
          "scatterpolargl": [
           {
            "marker": {
             "colorbar": {
              "outlinewidth": 0,
              "ticks": ""
             }
            },
            "type": "scatterpolargl"
           }
          ],
          "scatterternary": [
           {
            "marker": {
             "colorbar": {
              "outlinewidth": 0,
              "ticks": ""
             }
            },
            "type": "scatterternary"
           }
          ],
          "surface": [
           {
            "colorbar": {
             "outlinewidth": 0,
             "ticks": ""
            },
            "colorscale": [
             [
              0,
              "#0d0887"
             ],
             [
              0.1111111111111111,
              "#46039f"
             ],
             [
              0.2222222222222222,
              "#7201a8"
             ],
             [
              0.3333333333333333,
              "#9c179e"
             ],
             [
              0.4444444444444444,
              "#bd3786"
             ],
             [
              0.5555555555555556,
              "#d8576b"
             ],
             [
              0.6666666666666666,
              "#ed7953"
             ],
             [
              0.7777777777777778,
              "#fb9f3a"
             ],
             [
              0.8888888888888888,
              "#fdca26"
             ],
             [
              1,
              "#f0f921"
             ]
            ],
            "type": "surface"
           }
          ],
          "table": [
           {
            "cells": {
             "fill": {
              "color": "#EBF0F8"
             },
             "line": {
              "color": "white"
             }
            },
            "header": {
             "fill": {
              "color": "#C8D4E3"
             },
             "line": {
              "color": "white"
             }
            },
            "type": "table"
           }
          ]
         },
         "layout": {
          "annotationdefaults": {
           "arrowcolor": "#2a3f5f",
           "arrowhead": 0,
           "arrowwidth": 1
          },
          "autotypenumbers": "strict",
          "coloraxis": {
           "colorbar": {
            "outlinewidth": 0,
            "ticks": ""
           }
          },
          "colorscale": {
           "diverging": [
            [
             0,
             "#8e0152"
            ],
            [
             0.1,
             "#c51b7d"
            ],
            [
             0.2,
             "#de77ae"
            ],
            [
             0.3,
             "#f1b6da"
            ],
            [
             0.4,
             "#fde0ef"
            ],
            [
             0.5,
             "#f7f7f7"
            ],
            [
             0.6,
             "#e6f5d0"
            ],
            [
             0.7,
             "#b8e186"
            ],
            [
             0.8,
             "#7fbc41"
            ],
            [
             0.9,
             "#4d9221"
            ],
            [
             1,
             "#276419"
            ]
           ],
           "sequential": [
            [
             0,
             "#0d0887"
            ],
            [
             0.1111111111111111,
             "#46039f"
            ],
            [
             0.2222222222222222,
             "#7201a8"
            ],
            [
             0.3333333333333333,
             "#9c179e"
            ],
            [
             0.4444444444444444,
             "#bd3786"
            ],
            [
             0.5555555555555556,
             "#d8576b"
            ],
            [
             0.6666666666666666,
             "#ed7953"
            ],
            [
             0.7777777777777778,
             "#fb9f3a"
            ],
            [
             0.8888888888888888,
             "#fdca26"
            ],
            [
             1,
             "#f0f921"
            ]
           ],
           "sequentialminus": [
            [
             0,
             "#0d0887"
            ],
            [
             0.1111111111111111,
             "#46039f"
            ],
            [
             0.2222222222222222,
             "#7201a8"
            ],
            [
             0.3333333333333333,
             "#9c179e"
            ],
            [
             0.4444444444444444,
             "#bd3786"
            ],
            [
             0.5555555555555556,
             "#d8576b"
            ],
            [
             0.6666666666666666,
             "#ed7953"
            ],
            [
             0.7777777777777778,
             "#fb9f3a"
            ],
            [
             0.8888888888888888,
             "#fdca26"
            ],
            [
             1,
             "#f0f921"
            ]
           ]
          },
          "colorway": [
           "#636efa",
           "#EF553B",
           "#00cc96",
           "#ab63fa",
           "#FFA15A",
           "#19d3f3",
           "#FF6692",
           "#B6E880",
           "#FF97FF",
           "#FECB52"
          ],
          "font": {
           "color": "#2a3f5f"
          },
          "geo": {
           "bgcolor": "white",
           "lakecolor": "white",
           "landcolor": "#E5ECF6",
           "showlakes": true,
           "showland": true,
           "subunitcolor": "white"
          },
          "hoverlabel": {
           "align": "left"
          },
          "hovermode": "closest",
          "mapbox": {
           "style": "light"
          },
          "paper_bgcolor": "white",
          "plot_bgcolor": "#E5ECF6",
          "polar": {
           "angularaxis": {
            "gridcolor": "white",
            "linecolor": "white",
            "ticks": ""
           },
           "bgcolor": "#E5ECF6",
           "radialaxis": {
            "gridcolor": "white",
            "linecolor": "white",
            "ticks": ""
           }
          },
          "scene": {
           "xaxis": {
            "backgroundcolor": "#E5ECF6",
            "gridcolor": "white",
            "gridwidth": 2,
            "linecolor": "white",
            "showbackground": true,
            "ticks": "",
            "zerolinecolor": "white"
           },
           "yaxis": {
            "backgroundcolor": "#E5ECF6",
            "gridcolor": "white",
            "gridwidth": 2,
            "linecolor": "white",
            "showbackground": true,
            "ticks": "",
            "zerolinecolor": "white"
           },
           "zaxis": {
            "backgroundcolor": "#E5ECF6",
            "gridcolor": "white",
            "gridwidth": 2,
            "linecolor": "white",
            "showbackground": true,
            "ticks": "",
            "zerolinecolor": "white"
           }
          },
          "shapedefaults": {
           "line": {
            "color": "#2a3f5f"
           }
          },
          "ternary": {
           "aaxis": {
            "gridcolor": "white",
            "linecolor": "white",
            "ticks": ""
           },
           "baxis": {
            "gridcolor": "white",
            "linecolor": "white",
            "ticks": ""
           },
           "bgcolor": "#E5ECF6",
           "caxis": {
            "gridcolor": "white",
            "linecolor": "white",
            "ticks": ""
           }
          },
          "title": {
           "x": 0.05
          },
          "xaxis": {
           "automargin": true,
           "gridcolor": "white",
           "linecolor": "white",
           "ticks": "",
           "title": {
            "standoff": 15
           },
           "zerolinecolor": "white",
           "zerolinewidth": 2
          },
          "yaxis": {
           "automargin": true,
           "gridcolor": "white",
           "linecolor": "white",
           "ticks": "",
           "title": {
            "standoff": 15
           },
           "zerolinecolor": "white",
           "zerolinewidth": 2
          }
         }
        },
        "title": {
         "text": "3D Sentence Clusters(Textblob)"
        }
       }
      }
     },
     "metadata": {},
     "output_type": "display_data"
    }
   ],
   "source": [
    "\n",
    "# Perform t-SNE dimensionality reduction for 3D visualization\n",
    "perplexity_value = min(30, len(sentence_vectors_testblob) - 1)\n",
    "tsne_3d = TSNE(n_components=3,perplexity=perplexity_value, random_state=0)\n",
    "reduced_vectors_3d = tsne_3d.fit_transform(sentence_vectors_testblob)\n",
    "\n",
    "# 3D Scatter plot\n",
    "fig = go.Figure()\n",
    "\n",
    "for i in range(num_clusters):\n",
    "    indices = labels_textblob == i\n",
    "    fig.add_trace(go.Scatter3d(\n",
    "        x=reduced_vectors_3d[indices, 0],\n",
    "        y=reduced_vectors_3d[indices, 1],\n",
    "        z=reduced_vectors_3d[indices, 2],\n",
    "        mode='markers',\n",
    "        name=f'Cluster {i+1}'\n",
    "    ))\n",
    "\n",
    "fig.update_layout(title='3D Sentence Clusters(Textblob)',\n",
    "                  scene=dict(xaxis_title='t-SNE Dimension 1',\n",
    "                             yaxis_title='t-SNE Dimension 2',\n",
    "                             zaxis_title='t-SNE Dimension 3'))\n",
    "fig.show()\n"
   ]
  },
  {
   "cell_type": "markdown",
   "metadata": {},
   "source": [
    "## spacy"
   ]
  },
  {
   "cell_type": "code",
   "execution_count": 65,
   "metadata": {},
   "outputs": [],
   "source": [
    "perplexity_value = min(30, len(sentence_vectors_spacy) - 1)\n",
    "tsne = TSNE(n_components=2, perplexity=perplexity_value, random_state=0)\n",
    "reduced_vectors_2d = tsne.fit_transform(sentence_vectors_spacy)"
   ]
  },
  {
   "cell_type": "code",
   "execution_count": 66,
   "metadata": {},
   "outputs": [
    {
     "data": {
      "application/vnd.plotly.v1+json": {
       "config": {
        "plotlyServerURL": "https://plot.ly"
       },
       "data": [
        {
         "mode": "markers",
         "name": "Cluster 1",
         "type": "scatter",
         "x": [
          -1.4690688848495483,
          -1.2580562829971313,
          -3.8685855865478516,
          1.040592908859253,
          3.953103542327881,
          -1.3426932096481323,
          -1.5025079250335693,
          3.9530584812164307,
          -4.044806480407715,
          0.26159223914146423,
          0.26148903369903564,
          5.397175312042236,
          9.724908828735352,
          10.352399826049805,
          -0.6300743222236633,
          9.724784851074219,
          -0.5936623811721802,
          -0.8465537428855896,
          -0.762982189655304,
          1.9398852586746216,
          7.14478063583374,
          3.5643627643585205,
          5.458932876586914,
          4.63232421875,
          8.377513885498047,
          7.925886154174805,
          -4.0666327476501465,
          -2.5790517330169678,
          7.917487621307373,
          4.73389196395874,
          1.979499340057373,
          -0.013580884784460068,
          -0.06804566830396652,
          1.3102279901504517,
          6.2137837409973145,
          7.983771324157715,
          0.4396439790725708,
          -0.2885282337665558,
          -2.6144027709960938,
          4.560359001159668,
          -5.949800491333008,
          5.290036678314209,
          6.617546081542969,
          7.4426469802856445,
          8.377513885498047,
          -0.12609392404556274,
          -1.6234403848648071,
          4.390988826751709,
          4.390988826751709,
          4.090112209320068,
          2.008178234100342,
          1.3369104862213135,
          -4.140325546264648,
          -1.960519552230835
         ],
         "y": [
          3.823354959487915,
          -0.5110933780670166,
          1.5524003505706787,
          3.950888156890869,
          -4.558669090270996,
          -4.371523857116699,
          2.261568546295166,
          -4.558581829071045,
          -0.9836210012435913,
          -0.8845393657684326,
          -0.884601354598999,
          3.919887065887451,
          4.1670355796813965,
          4.596502780914307,
          2.7898473739624023,
          4.167026519775391,
          5.997734069824219,
          4.842016220092773,
          4.609707355499268,
          1.4318279027938843,
          1.9805692434310913,
          2.315145254135132,
          3.234445333480835,
          2.0040910243988037,
          -2.5229990482330322,
          1.991840124130249,
          5.424947738647461,
          0.9115476608276367,
          1.5212676525115967,
          -1.1197834014892578,
          0.17705762386322021,
          1.5818660259246826,
          1.6728991270065308,
          1.670186996459961,
          1.4877424240112305,
          0.46797484159469604,
          0.450064480304718,
          -5.756433486938477,
          4.332061290740967,
          4.940486431121826,
          0.9484322667121887,
          0.026456737890839577,
          2.5233795642852783,
          2.8898797035217285,
          -2.5229990482330322,
          4.069042205810547,
          -2.2365667819976807,
          2.934920310974121,
          2.934920310974121,
          1.3025280237197876,
          4.916106700897217,
          2.8124582767486572,
          2.640388011932373,
          5.457206726074219
         ]
        },
        {
         "mode": "markers",
         "name": "Cluster 2",
         "type": "scatter",
         "x": [
          -4.862321853637695,
          -5.712959289550781,
          -7.304957866668701,
          -3.924906015396118,
          -5.500028610229492,
          -6.379931449890137,
          -3.1886067390441895,
          -6.2921576499938965,
          -7.218111991882324,
          -8.279579162597656,
          -6.2921576499938965,
          -9.19052505493164,
          -5.446182727813721,
          -6.417713642120361,
          -4.372740268707275,
          -4.121224880218506,
          -2.672053813934326,
          -3.9265520572662354,
          -5.1255083084106445,
          -3.9265520572662354,
          -5.1255083084106445,
          -5.1255083084106445,
          -5.1255083084106445,
          -5.362233638763428,
          -5.362233638763428,
          -5.1255083084106445,
          -5.362233638763428,
          -4.022332668304443,
          -6.205229759216309,
          -6.410451412200928,
          -3.439488649368286,
          -7.863678455352783,
          -5.921760082244873,
          -4.934731960296631,
          -6.5303120613098145,
          -3.924906015396118,
          -4.461026668548584,
          -7.09963846206665,
          -6.970865726470947
         ],
         "y": [
          -4.376307964324951,
          -7.670417785644531,
          -6.031008720397949,
          -7.435005187988281,
          -8.379435539245605,
          -8.059846878051758,
          -6.719114303588867,
          -5.868828773498535,
          -6.756256580352783,
          -8.730451583862305,
          -5.868828773498535,
          -6.566080570220947,
          -2.6519923210144043,
          -9.94487190246582,
          -5.462403297424316,
          -4.826415061950684,
          -3.2725472450256348,
          -6.224992275238037,
          -6.613489627838135,
          -6.224992275238037,
          -6.613489627838135,
          -6.613489627838135,
          -6.613489627838135,
          -5.28043794631958,
          -5.28043794631958,
          -6.613489627838135,
          -5.28043794631958,
          -9.958916664123535,
          -7.1731486320495605,
          -6.63442850112915,
          -5.477763652801514,
          0.012447549030184746,
          -4.374154567718506,
          -7.7946648597717285,
          -4.818312168121338,
          -7.435005187988281,
          -8.26134967803955,
          -5.264878273010254,
          -7.467442512512207
         ]
        },
        {
         "mode": "markers",
         "name": "Cluster 3",
         "type": "scatter",
         "x": [
          -1.1852517127990723,
          3.0433804988861084,
          -5.25789737701416,
          1.123321533203125,
          1.3185837268829346,
          3.0433804988861084,
          -0.12338252365589142,
          1.7220120429992676,
          -0.49392494559288025,
          -0.6502408385276794,
          -0.15954628586769104,
          3.0433804988861084,
          0.2043103575706482,
          1.6557705402374268,
          -0.15954628586769104,
          -1.177941918373108
         ],
         "y": [
          -7.807330131530762,
          -8.73462963104248,
          3.0523970127105713,
          10.142403602600098,
          7.519137859344482,
          -8.73462963104248,
          10.859145164489746,
          11.477143287658691,
          10.091774940490723,
          10.532346725463867,
          7.819849014282227,
          -8.73462963104248,
          8.623930931091309,
          9.48640251159668,
          7.819849014282227,
          7.291934013366699
         ]
        },
        {
         "mode": "markers",
         "name": "Cluster 4",
         "type": "scatter",
         "x": [
          -3.883953094482422,
          -4.099184036254883,
          1.4373162984848022,
          2.1793720722198486,
          2.862004518508911,
          -2.795529842376709
         ],
         "y": [
          8.139046669006348,
          8.0192289352417,
          -3.0783896446228027,
          -1.1550452709197998,
          0.14224590361118317,
          8.100523948669434
         ]
        },
        {
         "mode": "markers",
         "name": "Cluster 5",
         "type": "scatter",
         "x": [
          6.034212589263916,
          1.2734520435333252,
          7.488115310668945,
          6.9966864585876465,
          -6.400259494781494,
          6.029181957244873,
          2.1283955574035645,
          3.507642984390259,
          1.1599886417388916,
          2.9441683292388916,
          3.1458849906921387,
          5.103174209594727,
          5.094645023345947,
          8.114433288574219,
          6.7058281898498535,
          4.990459442138672,
          2.245662212371826,
          3.1139931678771973,
          2.3132269382476807,
          11.03795337677002,
          4.443518161773682,
          11.03795337677002,
          -3.6369738578796387,
          5.9040374755859375,
          3.7423105239868164,
          2.3097987174987793,
          3.5369837284088135,
          5.659631252288818,
          4.15809965133667,
          2.7176010608673096,
          3.9652700424194336
         ],
         "y": [
          6.665136337280273,
          4.951230049133301,
          7.9902143478393555,
          5.701211929321289,
          5.781557083129883,
          7.719690322875977,
          3.720870018005371,
          5.321946620941162,
          6.033890247344971,
          3.513012647628784,
          7.1162428855896,
          6.111774921417236,
          6.562134265899658,
          6.35413122177124,
          4.863777160644531,
          5.85866117477417,
          5.997570514678955,
          6.303707599639893,
          3.106733798980713,
          1.140705943107605,
          8.68172836303711,
          1.140705943107605,
          1.92054283618927,
          9.759949684143066,
          8.280228614807129,
          7.343173503875732,
          7.914556503295898,
          4.964227676391602,
          4.260328769683838,
          5.240413665771484,
          9.432304382324219
         ]
        },
        {
         "mode": "markers",
         "name": "Cluster 6",
         "type": "scatter",
         "x": [
          -8.358030319213867,
          -10.589140892028809,
          -10.589140892028809,
          -0.7984822988510132,
          -10.589140892028809,
          -8.537128448486328,
          -7.916463851928711
         ],
         "y": [
          1.0440908670425415,
          -3.7948567867279053,
          -3.7948567867279053,
          0.9366124868392944,
          -3.7948567867279053,
          -0.8337720036506653,
          -1.212834358215332
         ]
        }
       ],
       "layout": {
        "legend": {
         "title": {
          "text": "Clusters"
         }
        },
        "template": {
         "data": {
          "bar": [
           {
            "error_x": {
             "color": "#2a3f5f"
            },
            "error_y": {
             "color": "#2a3f5f"
            },
            "marker": {
             "line": {
              "color": "#E5ECF6",
              "width": 0.5
             },
             "pattern": {
              "fillmode": "overlay",
              "size": 10,
              "solidity": 0.2
             }
            },
            "type": "bar"
           }
          ],
          "barpolar": [
           {
            "marker": {
             "line": {
              "color": "#E5ECF6",
              "width": 0.5
             },
             "pattern": {
              "fillmode": "overlay",
              "size": 10,
              "solidity": 0.2
             }
            },
            "type": "barpolar"
           }
          ],
          "carpet": [
           {
            "aaxis": {
             "endlinecolor": "#2a3f5f",
             "gridcolor": "white",
             "linecolor": "white",
             "minorgridcolor": "white",
             "startlinecolor": "#2a3f5f"
            },
            "baxis": {
             "endlinecolor": "#2a3f5f",
             "gridcolor": "white",
             "linecolor": "white",
             "minorgridcolor": "white",
             "startlinecolor": "#2a3f5f"
            },
            "type": "carpet"
           }
          ],
          "choropleth": [
           {
            "colorbar": {
             "outlinewidth": 0,
             "ticks": ""
            },
            "type": "choropleth"
           }
          ],
          "contour": [
           {
            "colorbar": {
             "outlinewidth": 0,
             "ticks": ""
            },
            "colorscale": [
             [
              0,
              "#0d0887"
             ],
             [
              0.1111111111111111,
              "#46039f"
             ],
             [
              0.2222222222222222,
              "#7201a8"
             ],
             [
              0.3333333333333333,
              "#9c179e"
             ],
             [
              0.4444444444444444,
              "#bd3786"
             ],
             [
              0.5555555555555556,
              "#d8576b"
             ],
             [
              0.6666666666666666,
              "#ed7953"
             ],
             [
              0.7777777777777778,
              "#fb9f3a"
             ],
             [
              0.8888888888888888,
              "#fdca26"
             ],
             [
              1,
              "#f0f921"
             ]
            ],
            "type": "contour"
           }
          ],
          "contourcarpet": [
           {
            "colorbar": {
             "outlinewidth": 0,
             "ticks": ""
            },
            "type": "contourcarpet"
           }
          ],
          "heatmap": [
           {
            "colorbar": {
             "outlinewidth": 0,
             "ticks": ""
            },
            "colorscale": [
             [
              0,
              "#0d0887"
             ],
             [
              0.1111111111111111,
              "#46039f"
             ],
             [
              0.2222222222222222,
              "#7201a8"
             ],
             [
              0.3333333333333333,
              "#9c179e"
             ],
             [
              0.4444444444444444,
              "#bd3786"
             ],
             [
              0.5555555555555556,
              "#d8576b"
             ],
             [
              0.6666666666666666,
              "#ed7953"
             ],
             [
              0.7777777777777778,
              "#fb9f3a"
             ],
             [
              0.8888888888888888,
              "#fdca26"
             ],
             [
              1,
              "#f0f921"
             ]
            ],
            "type": "heatmap"
           }
          ],
          "heatmapgl": [
           {
            "colorbar": {
             "outlinewidth": 0,
             "ticks": ""
            },
            "colorscale": [
             [
              0,
              "#0d0887"
             ],
             [
              0.1111111111111111,
              "#46039f"
             ],
             [
              0.2222222222222222,
              "#7201a8"
             ],
             [
              0.3333333333333333,
              "#9c179e"
             ],
             [
              0.4444444444444444,
              "#bd3786"
             ],
             [
              0.5555555555555556,
              "#d8576b"
             ],
             [
              0.6666666666666666,
              "#ed7953"
             ],
             [
              0.7777777777777778,
              "#fb9f3a"
             ],
             [
              0.8888888888888888,
              "#fdca26"
             ],
             [
              1,
              "#f0f921"
             ]
            ],
            "type": "heatmapgl"
           }
          ],
          "histogram": [
           {
            "marker": {
             "pattern": {
              "fillmode": "overlay",
              "size": 10,
              "solidity": 0.2
             }
            },
            "type": "histogram"
           }
          ],
          "histogram2d": [
           {
            "colorbar": {
             "outlinewidth": 0,
             "ticks": ""
            },
            "colorscale": [
             [
              0,
              "#0d0887"
             ],
             [
              0.1111111111111111,
              "#46039f"
             ],
             [
              0.2222222222222222,
              "#7201a8"
             ],
             [
              0.3333333333333333,
              "#9c179e"
             ],
             [
              0.4444444444444444,
              "#bd3786"
             ],
             [
              0.5555555555555556,
              "#d8576b"
             ],
             [
              0.6666666666666666,
              "#ed7953"
             ],
             [
              0.7777777777777778,
              "#fb9f3a"
             ],
             [
              0.8888888888888888,
              "#fdca26"
             ],
             [
              1,
              "#f0f921"
             ]
            ],
            "type": "histogram2d"
           }
          ],
          "histogram2dcontour": [
           {
            "colorbar": {
             "outlinewidth": 0,
             "ticks": ""
            },
            "colorscale": [
             [
              0,
              "#0d0887"
             ],
             [
              0.1111111111111111,
              "#46039f"
             ],
             [
              0.2222222222222222,
              "#7201a8"
             ],
             [
              0.3333333333333333,
              "#9c179e"
             ],
             [
              0.4444444444444444,
              "#bd3786"
             ],
             [
              0.5555555555555556,
              "#d8576b"
             ],
             [
              0.6666666666666666,
              "#ed7953"
             ],
             [
              0.7777777777777778,
              "#fb9f3a"
             ],
             [
              0.8888888888888888,
              "#fdca26"
             ],
             [
              1,
              "#f0f921"
             ]
            ],
            "type": "histogram2dcontour"
           }
          ],
          "mesh3d": [
           {
            "colorbar": {
             "outlinewidth": 0,
             "ticks": ""
            },
            "type": "mesh3d"
           }
          ],
          "parcoords": [
           {
            "line": {
             "colorbar": {
              "outlinewidth": 0,
              "ticks": ""
             }
            },
            "type": "parcoords"
           }
          ],
          "pie": [
           {
            "automargin": true,
            "type": "pie"
           }
          ],
          "scatter": [
           {
            "fillpattern": {
             "fillmode": "overlay",
             "size": 10,
             "solidity": 0.2
            },
            "type": "scatter"
           }
          ],
          "scatter3d": [
           {
            "line": {
             "colorbar": {
              "outlinewidth": 0,
              "ticks": ""
             }
            },
            "marker": {
             "colorbar": {
              "outlinewidth": 0,
              "ticks": ""
             }
            },
            "type": "scatter3d"
           }
          ],
          "scattercarpet": [
           {
            "marker": {
             "colorbar": {
              "outlinewidth": 0,
              "ticks": ""
             }
            },
            "type": "scattercarpet"
           }
          ],
          "scattergeo": [
           {
            "marker": {
             "colorbar": {
              "outlinewidth": 0,
              "ticks": ""
             }
            },
            "type": "scattergeo"
           }
          ],
          "scattergl": [
           {
            "marker": {
             "colorbar": {
              "outlinewidth": 0,
              "ticks": ""
             }
            },
            "type": "scattergl"
           }
          ],
          "scattermapbox": [
           {
            "marker": {
             "colorbar": {
              "outlinewidth": 0,
              "ticks": ""
             }
            },
            "type": "scattermapbox"
           }
          ],
          "scatterpolar": [
           {
            "marker": {
             "colorbar": {
              "outlinewidth": 0,
              "ticks": ""
             }
            },
            "type": "scatterpolar"
           }
          ],
          "scatterpolargl": [
           {
            "marker": {
             "colorbar": {
              "outlinewidth": 0,
              "ticks": ""
             }
            },
            "type": "scatterpolargl"
           }
          ],
          "scatterternary": [
           {
            "marker": {
             "colorbar": {
              "outlinewidth": 0,
              "ticks": ""
             }
            },
            "type": "scatterternary"
           }
          ],
          "surface": [
           {
            "colorbar": {
             "outlinewidth": 0,
             "ticks": ""
            },
            "colorscale": [
             [
              0,
              "#0d0887"
             ],
             [
              0.1111111111111111,
              "#46039f"
             ],
             [
              0.2222222222222222,
              "#7201a8"
             ],
             [
              0.3333333333333333,
              "#9c179e"
             ],
             [
              0.4444444444444444,
              "#bd3786"
             ],
             [
              0.5555555555555556,
              "#d8576b"
             ],
             [
              0.6666666666666666,
              "#ed7953"
             ],
             [
              0.7777777777777778,
              "#fb9f3a"
             ],
             [
              0.8888888888888888,
              "#fdca26"
             ],
             [
              1,
              "#f0f921"
             ]
            ],
            "type": "surface"
           }
          ],
          "table": [
           {
            "cells": {
             "fill": {
              "color": "#EBF0F8"
             },
             "line": {
              "color": "white"
             }
            },
            "header": {
             "fill": {
              "color": "#C8D4E3"
             },
             "line": {
              "color": "white"
             }
            },
            "type": "table"
           }
          ]
         },
         "layout": {
          "annotationdefaults": {
           "arrowcolor": "#2a3f5f",
           "arrowhead": 0,
           "arrowwidth": 1
          },
          "autotypenumbers": "strict",
          "coloraxis": {
           "colorbar": {
            "outlinewidth": 0,
            "ticks": ""
           }
          },
          "colorscale": {
           "diverging": [
            [
             0,
             "#8e0152"
            ],
            [
             0.1,
             "#c51b7d"
            ],
            [
             0.2,
             "#de77ae"
            ],
            [
             0.3,
             "#f1b6da"
            ],
            [
             0.4,
             "#fde0ef"
            ],
            [
             0.5,
             "#f7f7f7"
            ],
            [
             0.6,
             "#e6f5d0"
            ],
            [
             0.7,
             "#b8e186"
            ],
            [
             0.8,
             "#7fbc41"
            ],
            [
             0.9,
             "#4d9221"
            ],
            [
             1,
             "#276419"
            ]
           ],
           "sequential": [
            [
             0,
             "#0d0887"
            ],
            [
             0.1111111111111111,
             "#46039f"
            ],
            [
             0.2222222222222222,
             "#7201a8"
            ],
            [
             0.3333333333333333,
             "#9c179e"
            ],
            [
             0.4444444444444444,
             "#bd3786"
            ],
            [
             0.5555555555555556,
             "#d8576b"
            ],
            [
             0.6666666666666666,
             "#ed7953"
            ],
            [
             0.7777777777777778,
             "#fb9f3a"
            ],
            [
             0.8888888888888888,
             "#fdca26"
            ],
            [
             1,
             "#f0f921"
            ]
           ],
           "sequentialminus": [
            [
             0,
             "#0d0887"
            ],
            [
             0.1111111111111111,
             "#46039f"
            ],
            [
             0.2222222222222222,
             "#7201a8"
            ],
            [
             0.3333333333333333,
             "#9c179e"
            ],
            [
             0.4444444444444444,
             "#bd3786"
            ],
            [
             0.5555555555555556,
             "#d8576b"
            ],
            [
             0.6666666666666666,
             "#ed7953"
            ],
            [
             0.7777777777777778,
             "#fb9f3a"
            ],
            [
             0.8888888888888888,
             "#fdca26"
            ],
            [
             1,
             "#f0f921"
            ]
           ]
          },
          "colorway": [
           "#636efa",
           "#EF553B",
           "#00cc96",
           "#ab63fa",
           "#FFA15A",
           "#19d3f3",
           "#FF6692",
           "#B6E880",
           "#FF97FF",
           "#FECB52"
          ],
          "font": {
           "color": "#2a3f5f"
          },
          "geo": {
           "bgcolor": "white",
           "lakecolor": "white",
           "landcolor": "#E5ECF6",
           "showlakes": true,
           "showland": true,
           "subunitcolor": "white"
          },
          "hoverlabel": {
           "align": "left"
          },
          "hovermode": "closest",
          "mapbox": {
           "style": "light"
          },
          "paper_bgcolor": "white",
          "plot_bgcolor": "#E5ECF6",
          "polar": {
           "angularaxis": {
            "gridcolor": "white",
            "linecolor": "white",
            "ticks": ""
           },
           "bgcolor": "#E5ECF6",
           "radialaxis": {
            "gridcolor": "white",
            "linecolor": "white",
            "ticks": ""
           }
          },
          "scene": {
           "xaxis": {
            "backgroundcolor": "#E5ECF6",
            "gridcolor": "white",
            "gridwidth": 2,
            "linecolor": "white",
            "showbackground": true,
            "ticks": "",
            "zerolinecolor": "white"
           },
           "yaxis": {
            "backgroundcolor": "#E5ECF6",
            "gridcolor": "white",
            "gridwidth": 2,
            "linecolor": "white",
            "showbackground": true,
            "ticks": "",
            "zerolinecolor": "white"
           },
           "zaxis": {
            "backgroundcolor": "#E5ECF6",
            "gridcolor": "white",
            "gridwidth": 2,
            "linecolor": "white",
            "showbackground": true,
            "ticks": "",
            "zerolinecolor": "white"
           }
          },
          "shapedefaults": {
           "line": {
            "color": "#2a3f5f"
           }
          },
          "ternary": {
           "aaxis": {
            "gridcolor": "white",
            "linecolor": "white",
            "ticks": ""
           },
           "baxis": {
            "gridcolor": "white",
            "linecolor": "white",
            "ticks": ""
           },
           "bgcolor": "#E5ECF6",
           "caxis": {
            "gridcolor": "white",
            "linecolor": "white",
            "ticks": ""
           }
          },
          "title": {
           "x": 0.05
          },
          "xaxis": {
           "automargin": true,
           "gridcolor": "white",
           "linecolor": "white",
           "ticks": "",
           "title": {
            "standoff": 15
           },
           "zerolinecolor": "white",
           "zerolinewidth": 2
          },
          "yaxis": {
           "automargin": true,
           "gridcolor": "white",
           "linecolor": "white",
           "ticks": "",
           "title": {
            "standoff": 15
           },
           "zerolinecolor": "white",
           "zerolinewidth": 2
          }
         }
        },
        "title": {
         "text": "Sentence Clusters Visualized with t-SNE(Spacy)"
        },
        "xaxis": {
         "title": {
          "text": "t-SNE Dimension 1"
         }
        },
        "yaxis": {
         "title": {
          "text": "t-SNE Dimension 2"
         }
        }
       }
      }
     },
     "metadata": {},
     "output_type": "display_data"
    }
   ],
   "source": [
    "fig = go.Figure()\n",
    "\n",
    "\n",
    "for i in range(num_clusters):\n",
    "    indices = labels_spacy == i\n",
    "    fig.add_trace(go.Scatter(\n",
    "        x=reduced_vectors_2d[indices, 0],\n",
    "        y=reduced_vectors_2d[indices, 1],\n",
    "        mode='markers',\n",
    "        name=f'Cluster {i + 1}'\n",
    "    ))\n",
    "\n",
    "fig.update_layout(\n",
    "    title='Sentence Clusters Visualized with t-SNE(Spacy)',\n",
    "    xaxis_title='t-SNE Dimension 1',\n",
    "    yaxis_title='t-SNE Dimension 2',\n",
    "    legend_title=\"Clusters\"\n",
    ")\n",
    "\n",
    "pio.show(fig)\n"
   ]
  },
  {
   "cell_type": "code",
   "execution_count": 67,
   "metadata": {},
   "outputs": [
    {
     "data": {
      "application/vnd.plotly.v1+json": {
       "config": {
        "plotlyServerURL": "https://plot.ly"
       },
       "data": [
        {
         "mode": "markers",
         "name": "Cluster 1",
         "type": "scatter3d",
         "x": [
          -15.535653114318848,
          57.960365295410156,
          21.55638313293457,
          -9.337892532348633,
          16.832592010498047,
          53.32406997680664,
          -37.97810363769531,
          11.035344123840332,
          45.65506362915039,
          -5.353909969329834,
          -8.772317886352539,
          -45.69404220581055,
          -34.70093536376953,
          -54.717525482177734,
          -55.64079666137695,
          -29.43820571899414,
          -12.946670532226562,
          -34.318973541259766,
          -34.63675308227539,
          26.580900192260742,
          -36.06907653808594,
          -51.39518356323242,
          -29.88920021057129,
          -22.98263168334961,
          -83.87261199951172,
          -59.92755126953125,
          -60.46579360961914,
          -6.749172210693359,
          -47.869056701660156,
          -3.7201149463653564,
          9.720118522644043,
          42.8472900390625,
          -44.67917251586914,
          -12.016242980957031,
          -9.499655723571777,
          -72.70171356201172,
          7.57070779800415,
          -8.55970287322998,
          -55.52813720703125,
          -78.31336212158203,
          84.75946807861328,
          -62.26341247558594,
          -31.1514949798584,
          -58.03309631347656,
          -83.87261199951172,
          -45.177059173583984,
          20.330570220947266,
          -36.860904693603516,
          -36.860904693603516,
          -45.609588623046875,
          -41.775856018066406,
          4.716645240783691,
          -20.967853546142578,
          -32.66672897338867
         ],
         "y": [
          18.80071258544922,
          -30.124439239501953,
          -86.4601058959961,
          -26.399070739746094,
          52.17497634887695,
          -68.21102905273438,
          84.24453735351562,
          54.509368896484375,
          39.70913314819336,
          -31.558076858520508,
          -38.47882843017578,
          10.508199691772461,
          -25.855464935302734,
          -41.07303237915039,
          25.904626846313477,
          -29.37326431274414,
          31.459566116333008,
          40.45709991455078,
          -35.89442443847656,
          -31.770069122314453,
          -53.52424621582031,
          -18.8151912689209,
          5.536004543304443,
          -3.58891224861145,
          59.77141571044922,
          -56.68330764770508,
          34.881839752197266,
          -79.8583984375,
          -77.4643325805664,
          -68.20647430419922,
          76.44107055664062,
          3.5418648719787598,
          17.03066062927246,
          63.16389083862305,
          -54.39952087402344,
          -76.11032104492188,
          -20.86543083190918,
          16.911861419677734,
          55.343414306640625,
          -30.434906005859375,
          -4.953274726867676,
          22.951335906982422,
          -39.97441864013672,
          -46.319156646728516,
          59.77141571044922,
          48.132720947265625,
          71.55813598632812,
          -4.736178874969482,
          -4.736178874969482,
          -76.18220520019531,
          -134.97425842285156,
          -5.90203857421875,
          -69.63191986083984,
          71.98062896728516
         ],
         "z": [
          0.9705795645713806,
          -53.49148941040039,
          16.982023239135742,
          -27.145309448242188,
          9.9024019241333,
          -14.586726188659668,
          -57.2468147277832,
          -8.133599281311035,
          -20.123559951782227,
          14.528213500976562,
          32.46770477294922,
          -51.19001007080078,
          61.747798919677734,
          74.67601013183594,
          2.480912446975708,
          80.57100677490234,
          -33.29200744628906,
          -16.567014694213867,
          2.1956095695495605,
          -37.055419921875,
          -68.69551086425781,
          29.845924377441406,
          -31.39136505126953,
          23.13631248474121,
          -34.7143669128418,
          -77.50469970703125,
          61.84894561767578,
          46.79502487182617,
          -63.759132385253906,
          -91.79010772705078,
          -38.008445739746094,
          -34.164398193359375,
          26.1663761138916,
          -37.74557113647461,
          -58.74005889892578,
          -45.126197814941406,
          -8.528332710266113,
          49.01158905029297,
          5.526050090789795,
          19.32190704345703,
          -38.68180465698242,
          -25.259811401367188,
          -50.32413101196289,
          -48.95122528076172,
          -34.7143669128418,
          -51.430755615234375,
          49.076419830322266,
          -5.114974021911621,
          -5.114974021911621,
          -18.478559494018555,
          73.25068664550781,
          -38.20626449584961,
          14.86386489868164,
          -12.297133445739746
         ]
        },
        {
         "mode": "markers",
         "name": "Cluster 2",
         "type": "scatter3d",
         "x": [
          13.412283897399902,
          76.8719253540039,
          -126.16524505615234,
          46.87297439575195,
          76.08777618408203,
          -26.626768112182617,
          10.503050804138184,
          60.21843338012695,
          -54.23401641845703,
          67.1375961303711,
          60.21843338012695,
          74.09605407714844,
          100.46808624267578,
          48.128387451171875,
          74.95094299316406,
          29.531314849853516,
          15.177973747253418,
          -107.5843276977539,
          50.286094665527344,
          -107.5843276977539,
          50.286094665527344,
          50.286094665527344,
          50.286094665527344,
          23.576295852661133,
          23.576295852661133,
          50.286094665527344,
          23.576295852661133,
          48.970069885253906,
          60.51211166381836,
          28.58594512939453,
          65.58322143554688,
          91.77586364746094,
          86.74615478515625,
          39.7503776550293,
          37.85060119628906,
          46.87297439575195,
          34.42650604248047,
          87.42185974121094,
          53.553958892822266
         ],
         "y": [
          -14.37773609161377,
          -32.448020935058594,
          17.117218017578125,
          -19.1342716217041,
          -5.253475189208984,
          8.161187171936035,
          -41.495357513427734,
          12.296035766601562,
          -1.0258735418319702,
          -82.7877197265625,
          12.296035766601562,
          46.66218566894531,
          23.673561096191406,
          -68.95764923095703,
          -42.293182373046875,
          -43.87442398071289,
          41.91535568237305,
          -3.152015447616577,
          -23.869789123535156,
          -3.152015447616577,
          -23.869789123535156,
          -23.869789123535156,
          -23.869789123535156,
          -0.579901933670044,
          -0.579901933670044,
          -23.869789123535156,
          -0.579901933670044,
          -9.173531532287598,
          -51.97818374633789,
          -51.9154167175293,
          -6.432236194610596,
          21.822860717773438,
          -35.35971450805664,
          -28.65900993347168,
          30.663421630859375,
          -19.1342716217041,
          7.133413314819336,
          -10.143437385559082,
          13.204237937927246
         ],
         "z": [
          56.123844146728516,
          -4.841662883758545,
          3.6140670776367188,
          1.8020490407943726,
          15.843354225158691,
          76.51197052001953,
          70.35393524169922,
          40.88483428955078,
          -96.60782623291016,
          31.941431045532227,
          40.88483428955078,
          24.380048751831055,
          51.69871139526367,
          71.2568130493164,
          59.82587814331055,
          15.609371185302734,
          51.92631149291992,
          -38.8471565246582,
          40.004241943359375,
          -38.8471565246582,
          40.004241943359375,
          40.004241943359375,
          40.004241943359375,
          26.40129852294922,
          26.40129852294922,
          40.004241943359375,
          26.40129852294922,
          103.58269500732422,
          18.32425880432129,
          46.00953674316406,
          70.99581909179688,
          -25.058731079101562,
          26.81037712097168,
          74.86621856689453,
          27.161418914794922,
          1.8020490407943726,
          63.635223388671875,
          46.416229248046875,
          5.127567291259766
         ]
        },
        {
         "mode": "markers",
         "name": "Cluster 3",
         "type": "scatter3d",
         "x": [
          7.380064010620117,
          54.792030334472656,
          76.4542465209961,
          25.129201889038086,
          35.95813751220703,
          54.792030334472656,
          -22.258804321289062,
          -25.734622955322266,
          1.4198631048202515,
          2.659883975982666,
          12.705229759216309,
          54.792030334472656,
          -11.860549926757812,
          5.343107223510742,
          12.705229759216309,
          -46.689605712890625
         ],
         "y": [
          2.5001964569091797,
          81.3150405883789,
          0.625053882598877,
          44.69059753417969,
          -66.94641876220703,
          81.3150405883789,
          46.98550033569336,
          38.88083267211914,
          31.25437355041504,
          54.55192565917969,
          28.480037689208984,
          81.3150405883789,
          29.058813095092773,
          55.53987503051758,
          28.480037689208984,
          104.24166107177734
         ],
         "z": [
          96.2144546508789,
          -1.3077479600906372,
          -78.63088989257812,
          -96.22933959960938,
          -51.88883972167969,
          -1.3077479600906372,
          86.72291564941406,
          -94.33995819091797,
          96.56700897216797,
          94.03450775146484,
          -55.360443115234375,
          -1.3077479600906372,
          -69.1901626586914,
          -84.6119613647461,
          -55.360443115234375,
          2.137139081954956
         ]
        },
        {
         "mode": "markers",
         "name": "Cluster 4",
         "type": "scatter3d",
         "x": [
          31.754955291748047,
          34.8813362121582,
          3.319079637527466,
          33.63039779663086,
          -1.9069288969039917,
          8.350235939025879
         ],
         "y": [
          -25.207862854003906,
          -2.7384016513824463,
          96.86400604248047,
          80.38848114013672,
          100.85348510742188,
          -25.118141174316406
         ],
         "z": [
          -88.85589599609375,
          -79.9393081665039,
          18.60466766357422,
          -49.74078369140625,
          -23.861928939819336,
          -73.64736938476562
         ]
        },
        {
         "mode": "markers",
         "name": "Cluster 5",
         "type": "scatter3d",
         "x": [
          -90.04194641113281,
          -20.978778839111328,
          -93.16178131103516,
          -76.3587875366211,
          -30.82048225402832,
          -94.12638854980469,
          -13.548978805541992,
          -17.43207550048828,
          13.802667617797852,
          -32.91666793823242,
          -76.02690887451172,
          -1.2627819776535034,
          -104.66387939453125,
          -41.842655181884766,
          -64.05497741699219,
          -80.74251556396484,
          -3.8037352561950684,
          0.4363083839416504,
          -17.19724464416504,
          -72.40804290771484,
          -98.21504974365234,
          -72.40804290771484,
          3.055238723754883,
          -84.92845153808594,
          -77.01334381103516,
          11.94753646850586,
          -10.491761207580566,
          -41.61226272583008,
          -60.56753158569336,
          -18.46608543395996,
          -86.89480590820312
         ],
         "y": [
          11.08333683013916,
          -50.40665817260742,
          -44.2049560546875,
          -15.757989883422852,
          70.66493225097656,
          23.579315185546875,
          76.98251342773438,
          -23.715290069580078,
          17.48088836669922,
          47.199039459228516,
          0.5406112670898438,
          -91.44608306884766,
          -16.017234802246094,
          -105.5156478881836,
          -11.895964622497559,
          -8.709371566772461,
          6.235576629638672,
          -65.5003662109375,
          49.562068939208984,
          -70.48226928710938,
          46.703678131103516,
          -70.48226928710938,
          -74.72975158691406,
          25.636173248291016,
          59.95341110229492,
          -58.80229949951172,
          -92.24437713623047,
          -18.191354751586914,
          -26.095680236816406,
          -5.489857196807861,
          77.03105926513672
         ],
         "z": [
          25.91254234313965,
          -20.98015594482422,
          -17.810962677001953,
          -60.351688385009766,
          51.65565490722656,
          -7.2217841148376465,
          12.704534530639648,
          -86.31997680664062,
          -13.916254043579102,
          38.19123458862305,
          59.61991882324219,
          -42.449893951416016,
          2.7755041122436523,
          11.68911075592041,
          -36.124794006347656,
          -0.579003632068634,
          -93.73828125,
          -12.29781723022461,
          18.656394958496094,
          15.109301567077637,
          25.362491607666016,
          15.109301567077637,
          14.648080825805664,
          -71.28002166748047,
          36.11859893798828,
          -35.19622802734375,
          -11.322423934936523,
          -55.74638748168945,
          -8.312658309936523,
          -66.08061218261719,
          16.959911346435547
         ]
        },
        {
         "mode": "markers",
         "name": "Cluster 6",
         "type": "scatter3d",
         "x": [
          83.88929748535156,
          57.607177734375,
          57.607177734375,
          52.54645919799805,
          57.607177734375,
          104.01797485351562,
          104.6953353881836
         ],
         "y": [
          47.6153564453125,
          49.18722915649414,
          49.18722915649414,
          37.97945785522461,
          49.18722915649414,
          36.3281135559082,
          7.631922245025635
         ],
         "z": [
          -38.11741638183594,
          72.76861572265625,
          72.76861572265625,
          -58.90849685668945,
          72.76861572265625,
          -1.9670541286468506,
          -4.005114555358887
         ]
        }
       ],
       "layout": {
        "scene": {
         "xaxis": {
          "title": {
           "text": "t-SNE Dimension 1"
          }
         },
         "yaxis": {
          "title": {
           "text": "t-SNE Dimension 2"
          }
         },
         "zaxis": {
          "title": {
           "text": "t-SNE Dimension 3"
          }
         }
        },
        "template": {
         "data": {
          "bar": [
           {
            "error_x": {
             "color": "#2a3f5f"
            },
            "error_y": {
             "color": "#2a3f5f"
            },
            "marker": {
             "line": {
              "color": "#E5ECF6",
              "width": 0.5
             },
             "pattern": {
              "fillmode": "overlay",
              "size": 10,
              "solidity": 0.2
             }
            },
            "type": "bar"
           }
          ],
          "barpolar": [
           {
            "marker": {
             "line": {
              "color": "#E5ECF6",
              "width": 0.5
             },
             "pattern": {
              "fillmode": "overlay",
              "size": 10,
              "solidity": 0.2
             }
            },
            "type": "barpolar"
           }
          ],
          "carpet": [
           {
            "aaxis": {
             "endlinecolor": "#2a3f5f",
             "gridcolor": "white",
             "linecolor": "white",
             "minorgridcolor": "white",
             "startlinecolor": "#2a3f5f"
            },
            "baxis": {
             "endlinecolor": "#2a3f5f",
             "gridcolor": "white",
             "linecolor": "white",
             "minorgridcolor": "white",
             "startlinecolor": "#2a3f5f"
            },
            "type": "carpet"
           }
          ],
          "choropleth": [
           {
            "colorbar": {
             "outlinewidth": 0,
             "ticks": ""
            },
            "type": "choropleth"
           }
          ],
          "contour": [
           {
            "colorbar": {
             "outlinewidth": 0,
             "ticks": ""
            },
            "colorscale": [
             [
              0,
              "#0d0887"
             ],
             [
              0.1111111111111111,
              "#46039f"
             ],
             [
              0.2222222222222222,
              "#7201a8"
             ],
             [
              0.3333333333333333,
              "#9c179e"
             ],
             [
              0.4444444444444444,
              "#bd3786"
             ],
             [
              0.5555555555555556,
              "#d8576b"
             ],
             [
              0.6666666666666666,
              "#ed7953"
             ],
             [
              0.7777777777777778,
              "#fb9f3a"
             ],
             [
              0.8888888888888888,
              "#fdca26"
             ],
             [
              1,
              "#f0f921"
             ]
            ],
            "type": "contour"
           }
          ],
          "contourcarpet": [
           {
            "colorbar": {
             "outlinewidth": 0,
             "ticks": ""
            },
            "type": "contourcarpet"
           }
          ],
          "heatmap": [
           {
            "colorbar": {
             "outlinewidth": 0,
             "ticks": ""
            },
            "colorscale": [
             [
              0,
              "#0d0887"
             ],
             [
              0.1111111111111111,
              "#46039f"
             ],
             [
              0.2222222222222222,
              "#7201a8"
             ],
             [
              0.3333333333333333,
              "#9c179e"
             ],
             [
              0.4444444444444444,
              "#bd3786"
             ],
             [
              0.5555555555555556,
              "#d8576b"
             ],
             [
              0.6666666666666666,
              "#ed7953"
             ],
             [
              0.7777777777777778,
              "#fb9f3a"
             ],
             [
              0.8888888888888888,
              "#fdca26"
             ],
             [
              1,
              "#f0f921"
             ]
            ],
            "type": "heatmap"
           }
          ],
          "heatmapgl": [
           {
            "colorbar": {
             "outlinewidth": 0,
             "ticks": ""
            },
            "colorscale": [
             [
              0,
              "#0d0887"
             ],
             [
              0.1111111111111111,
              "#46039f"
             ],
             [
              0.2222222222222222,
              "#7201a8"
             ],
             [
              0.3333333333333333,
              "#9c179e"
             ],
             [
              0.4444444444444444,
              "#bd3786"
             ],
             [
              0.5555555555555556,
              "#d8576b"
             ],
             [
              0.6666666666666666,
              "#ed7953"
             ],
             [
              0.7777777777777778,
              "#fb9f3a"
             ],
             [
              0.8888888888888888,
              "#fdca26"
             ],
             [
              1,
              "#f0f921"
             ]
            ],
            "type": "heatmapgl"
           }
          ],
          "histogram": [
           {
            "marker": {
             "pattern": {
              "fillmode": "overlay",
              "size": 10,
              "solidity": 0.2
             }
            },
            "type": "histogram"
           }
          ],
          "histogram2d": [
           {
            "colorbar": {
             "outlinewidth": 0,
             "ticks": ""
            },
            "colorscale": [
             [
              0,
              "#0d0887"
             ],
             [
              0.1111111111111111,
              "#46039f"
             ],
             [
              0.2222222222222222,
              "#7201a8"
             ],
             [
              0.3333333333333333,
              "#9c179e"
             ],
             [
              0.4444444444444444,
              "#bd3786"
             ],
             [
              0.5555555555555556,
              "#d8576b"
             ],
             [
              0.6666666666666666,
              "#ed7953"
             ],
             [
              0.7777777777777778,
              "#fb9f3a"
             ],
             [
              0.8888888888888888,
              "#fdca26"
             ],
             [
              1,
              "#f0f921"
             ]
            ],
            "type": "histogram2d"
           }
          ],
          "histogram2dcontour": [
           {
            "colorbar": {
             "outlinewidth": 0,
             "ticks": ""
            },
            "colorscale": [
             [
              0,
              "#0d0887"
             ],
             [
              0.1111111111111111,
              "#46039f"
             ],
             [
              0.2222222222222222,
              "#7201a8"
             ],
             [
              0.3333333333333333,
              "#9c179e"
             ],
             [
              0.4444444444444444,
              "#bd3786"
             ],
             [
              0.5555555555555556,
              "#d8576b"
             ],
             [
              0.6666666666666666,
              "#ed7953"
             ],
             [
              0.7777777777777778,
              "#fb9f3a"
             ],
             [
              0.8888888888888888,
              "#fdca26"
             ],
             [
              1,
              "#f0f921"
             ]
            ],
            "type": "histogram2dcontour"
           }
          ],
          "mesh3d": [
           {
            "colorbar": {
             "outlinewidth": 0,
             "ticks": ""
            },
            "type": "mesh3d"
           }
          ],
          "parcoords": [
           {
            "line": {
             "colorbar": {
              "outlinewidth": 0,
              "ticks": ""
             }
            },
            "type": "parcoords"
           }
          ],
          "pie": [
           {
            "automargin": true,
            "type": "pie"
           }
          ],
          "scatter": [
           {
            "fillpattern": {
             "fillmode": "overlay",
             "size": 10,
             "solidity": 0.2
            },
            "type": "scatter"
           }
          ],
          "scatter3d": [
           {
            "line": {
             "colorbar": {
              "outlinewidth": 0,
              "ticks": ""
             }
            },
            "marker": {
             "colorbar": {
              "outlinewidth": 0,
              "ticks": ""
             }
            },
            "type": "scatter3d"
           }
          ],
          "scattercarpet": [
           {
            "marker": {
             "colorbar": {
              "outlinewidth": 0,
              "ticks": ""
             }
            },
            "type": "scattercarpet"
           }
          ],
          "scattergeo": [
           {
            "marker": {
             "colorbar": {
              "outlinewidth": 0,
              "ticks": ""
             }
            },
            "type": "scattergeo"
           }
          ],
          "scattergl": [
           {
            "marker": {
             "colorbar": {
              "outlinewidth": 0,
              "ticks": ""
             }
            },
            "type": "scattergl"
           }
          ],
          "scattermapbox": [
           {
            "marker": {
             "colorbar": {
              "outlinewidth": 0,
              "ticks": ""
             }
            },
            "type": "scattermapbox"
           }
          ],
          "scatterpolar": [
           {
            "marker": {
             "colorbar": {
              "outlinewidth": 0,
              "ticks": ""
             }
            },
            "type": "scatterpolar"
           }
          ],
          "scatterpolargl": [
           {
            "marker": {
             "colorbar": {
              "outlinewidth": 0,
              "ticks": ""
             }
            },
            "type": "scatterpolargl"
           }
          ],
          "scatterternary": [
           {
            "marker": {
             "colorbar": {
              "outlinewidth": 0,
              "ticks": ""
             }
            },
            "type": "scatterternary"
           }
          ],
          "surface": [
           {
            "colorbar": {
             "outlinewidth": 0,
             "ticks": ""
            },
            "colorscale": [
             [
              0,
              "#0d0887"
             ],
             [
              0.1111111111111111,
              "#46039f"
             ],
             [
              0.2222222222222222,
              "#7201a8"
             ],
             [
              0.3333333333333333,
              "#9c179e"
             ],
             [
              0.4444444444444444,
              "#bd3786"
             ],
             [
              0.5555555555555556,
              "#d8576b"
             ],
             [
              0.6666666666666666,
              "#ed7953"
             ],
             [
              0.7777777777777778,
              "#fb9f3a"
             ],
             [
              0.8888888888888888,
              "#fdca26"
             ],
             [
              1,
              "#f0f921"
             ]
            ],
            "type": "surface"
           }
          ],
          "table": [
           {
            "cells": {
             "fill": {
              "color": "#EBF0F8"
             },
             "line": {
              "color": "white"
             }
            },
            "header": {
             "fill": {
              "color": "#C8D4E3"
             },
             "line": {
              "color": "white"
             }
            },
            "type": "table"
           }
          ]
         },
         "layout": {
          "annotationdefaults": {
           "arrowcolor": "#2a3f5f",
           "arrowhead": 0,
           "arrowwidth": 1
          },
          "autotypenumbers": "strict",
          "coloraxis": {
           "colorbar": {
            "outlinewidth": 0,
            "ticks": ""
           }
          },
          "colorscale": {
           "diverging": [
            [
             0,
             "#8e0152"
            ],
            [
             0.1,
             "#c51b7d"
            ],
            [
             0.2,
             "#de77ae"
            ],
            [
             0.3,
             "#f1b6da"
            ],
            [
             0.4,
             "#fde0ef"
            ],
            [
             0.5,
             "#f7f7f7"
            ],
            [
             0.6,
             "#e6f5d0"
            ],
            [
             0.7,
             "#b8e186"
            ],
            [
             0.8,
             "#7fbc41"
            ],
            [
             0.9,
             "#4d9221"
            ],
            [
             1,
             "#276419"
            ]
           ],
           "sequential": [
            [
             0,
             "#0d0887"
            ],
            [
             0.1111111111111111,
             "#46039f"
            ],
            [
             0.2222222222222222,
             "#7201a8"
            ],
            [
             0.3333333333333333,
             "#9c179e"
            ],
            [
             0.4444444444444444,
             "#bd3786"
            ],
            [
             0.5555555555555556,
             "#d8576b"
            ],
            [
             0.6666666666666666,
             "#ed7953"
            ],
            [
             0.7777777777777778,
             "#fb9f3a"
            ],
            [
             0.8888888888888888,
             "#fdca26"
            ],
            [
             1,
             "#f0f921"
            ]
           ],
           "sequentialminus": [
            [
             0,
             "#0d0887"
            ],
            [
             0.1111111111111111,
             "#46039f"
            ],
            [
             0.2222222222222222,
             "#7201a8"
            ],
            [
             0.3333333333333333,
             "#9c179e"
            ],
            [
             0.4444444444444444,
             "#bd3786"
            ],
            [
             0.5555555555555556,
             "#d8576b"
            ],
            [
             0.6666666666666666,
             "#ed7953"
            ],
            [
             0.7777777777777778,
             "#fb9f3a"
            ],
            [
             0.8888888888888888,
             "#fdca26"
            ],
            [
             1,
             "#f0f921"
            ]
           ]
          },
          "colorway": [
           "#636efa",
           "#EF553B",
           "#00cc96",
           "#ab63fa",
           "#FFA15A",
           "#19d3f3",
           "#FF6692",
           "#B6E880",
           "#FF97FF",
           "#FECB52"
          ],
          "font": {
           "color": "#2a3f5f"
          },
          "geo": {
           "bgcolor": "white",
           "lakecolor": "white",
           "landcolor": "#E5ECF6",
           "showlakes": true,
           "showland": true,
           "subunitcolor": "white"
          },
          "hoverlabel": {
           "align": "left"
          },
          "hovermode": "closest",
          "mapbox": {
           "style": "light"
          },
          "paper_bgcolor": "white",
          "plot_bgcolor": "#E5ECF6",
          "polar": {
           "angularaxis": {
            "gridcolor": "white",
            "linecolor": "white",
            "ticks": ""
           },
           "bgcolor": "#E5ECF6",
           "radialaxis": {
            "gridcolor": "white",
            "linecolor": "white",
            "ticks": ""
           }
          },
          "scene": {
           "xaxis": {
            "backgroundcolor": "#E5ECF6",
            "gridcolor": "white",
            "gridwidth": 2,
            "linecolor": "white",
            "showbackground": true,
            "ticks": "",
            "zerolinecolor": "white"
           },
           "yaxis": {
            "backgroundcolor": "#E5ECF6",
            "gridcolor": "white",
            "gridwidth": 2,
            "linecolor": "white",
            "showbackground": true,
            "ticks": "",
            "zerolinecolor": "white"
           },
           "zaxis": {
            "backgroundcolor": "#E5ECF6",
            "gridcolor": "white",
            "gridwidth": 2,
            "linecolor": "white",
            "showbackground": true,
            "ticks": "",
            "zerolinecolor": "white"
           }
          },
          "shapedefaults": {
           "line": {
            "color": "#2a3f5f"
           }
          },
          "ternary": {
           "aaxis": {
            "gridcolor": "white",
            "linecolor": "white",
            "ticks": ""
           },
           "baxis": {
            "gridcolor": "white",
            "linecolor": "white",
            "ticks": ""
           },
           "bgcolor": "#E5ECF6",
           "caxis": {
            "gridcolor": "white",
            "linecolor": "white",
            "ticks": ""
           }
          },
          "title": {
           "x": 0.05
          },
          "xaxis": {
           "automargin": true,
           "gridcolor": "white",
           "linecolor": "white",
           "ticks": "",
           "title": {
            "standoff": 15
           },
           "zerolinecolor": "white",
           "zerolinewidth": 2
          },
          "yaxis": {
           "automargin": true,
           "gridcolor": "white",
           "linecolor": "white",
           "ticks": "",
           "title": {
            "standoff": 15
           },
           "zerolinecolor": "white",
           "zerolinewidth": 2
          }
         }
        },
        "title": {
         "text": "3D Sentence Clusters(Spacy)"
        }
       }
      }
     },
     "metadata": {},
     "output_type": "display_data"
    }
   ],
   "source": [
    "# Perform t-SNE dimensionality reduction for 3D visualization\n",
    "perplexity_value = min(30, len(sentence_vectors_spacy) - 1)\n",
    "tsne_3d = TSNE(n_components=3,perplexity=perplexity_value, random_state=0)\n",
    "reduced_vectors_3d = tsne_3d.fit_transform(sentence_vectors_spacy)\n",
    "\n",
    "fig = go.Figure()\n",
    "\n",
    "for i in range(num_clusters):\n",
    "    indices = labels_spacy == i\n",
    "    fig.add_trace(go.Scatter3d(\n",
    "        x=reduced_vectors_3d[indices, 0],\n",
    "        y=reduced_vectors_3d[indices, 1],\n",
    "        z=reduced_vectors_3d[indices, 2],\n",
    "        mode='markers',\n",
    "        name=f'Cluster {i+1}'\n",
    "    ))\n",
    "\n",
    "fig.update_layout(title='3D Sentence Clusters(Spacy)',\n",
    "                  scene=dict(xaxis_title='t-SNE Dimension 1',\n",
    "                             yaxis_title='t-SNE Dimension 2',\n",
    "                             zaxis_title='t-SNE Dimension 3'))\n",
    "fig.show()\n"
   ]
  },
  {
   "cell_type": "markdown",
   "metadata": {},
   "source": [
    "## NLTK\n"
   ]
  },
  {
   "cell_type": "code",
   "execution_count": 68,
   "metadata": {},
   "outputs": [],
   "source": [
    "perplexity_value = min(30, len(sentence_vectors_nltk) - 1)\n",
    "tsne = TSNE(n_components=2, perplexity=perplexity_value, random_state=0)\n",
    "reduced_vectors_2d = tsne.fit_transform(sentence_vectors_nltk)"
   ]
  },
  {
   "cell_type": "code",
   "execution_count": 69,
   "metadata": {},
   "outputs": [
    {
     "data": {
      "application/vnd.plotly.v1+json": {
       "config": {
        "plotlyServerURL": "https://plot.ly"
       },
       "data": [
        {
         "mode": "markers",
         "name": "Cluster 1",
         "type": "scatter",
         "x": [
          -9.521745681762695,
          -14.376872062683105,
          -5.423374176025391,
          -11.590287208557129,
          -0.052182964980602264,
          -9.802817344665527,
          -10.32927417755127,
          -11.795352935791016,
          -4.195028305053711,
          -1.1454451084136963,
          -8.898873329162598,
          -2.8087265491485596,
          -9.917306900024414,
          -14.039112091064453,
          -11.905352592468262,
          -8.391929626464844,
          -5.0285820960998535,
          -16.615713119506836,
          -6.960628509521484,
          -16.635051727294922,
          -16.16305923461914,
          -7.897100925445557,
          -6.008157730102539,
          -7.427368640899658,
          -6.864185333251953,
          -11.01300048828125,
          -8.281535148620605,
          -12.842588424682617,
          -14.985828399658203,
          -3.951184034347534,
          -7.514451503753662
         ],
         "y": [
          6.6295342445373535,
          1.7325685024261475,
          2.593125104904175,
          7.6810526847839355,
          5.673453330993652,
          8.507762908935547,
          2.555974006652832,
          10.100074768066406,
          4.171230316162109,
          4.718349456787109,
          4.460472106933594,
          3.1524136066436768,
          4.799966335296631,
          7.394243240356445,
          6.110636234283447,
          2.7664570808410645,
          5.800583839416504,
          -4.904638290405273,
          7.4986252784729,
          -4.914046764373779,
          5.234117031097412,
          6.081180095672607,
          4.440999984741211,
          2.8116002082824707,
          5.65764856338501,
          5.159390449523926,
          1.6259381771087646,
          3.8526298999786377,
          4.685980319976807,
          2.023360252380371,
          9.331171035766602
         ]
        },
        {
         "mode": "markers",
         "name": "Cluster 2",
         "type": "scatter",
         "x": [
          8.279559135437012,
          16.59014892578125,
          12.916951179504395,
          12.916951179504395,
          12.916951179504395,
          16.690876007080078,
          17.699708938598633,
          18.567710876464844,
          16.99835968017578
         ],
         "y": [
          -9.229243278503418,
          2.5027146339416504,
          -10.185078620910645,
          -10.185078620910645,
          -10.185078620910645,
          -4.163618087768555,
          -3.256622314453125,
          -5.858611106872559,
          -5.718258857727051
         ]
        },
        {
         "mode": "markers",
         "name": "Cluster 3",
         "type": "scatter",
         "x": [
          3.2404415607452393,
          -1.2720088958740234,
          2.212632656097412,
          8.901616096496582,
          1.6978529691696167,
          4.0974907875061035,
          -4.298248767852783,
          3.4144458770751953,
          4.0974907875061035,
          -0.3198060989379883,
          1.056550145149231,
          1.7354083061218262,
          -7.401177883148193,
          -1.6384422779083252,
          -1.7755533456802368,
          3.220075845718384,
          0.5644238591194153,
          0.5292940139770508,
          1.1190619468688965,
          -0.41274452209472656,
          -4.336791038513184,
          1.3534282445907593,
          -2.271972417831421,
          -4.786397933959961,
          2.5551443099975586,
          1.016802430152893,
          -3.3555686473846436,
          6.6662421226501465,
          -1.0401602983474731,
          2.803142786026001,
          1.0171000957489014,
          -2.5121872425079346,
          -1.9941765069961548,
          -1.0218265056610107,
          -2.5121872425079346,
          -2.910940647125244,
          -1.0561186075210571
         ],
         "y": [
          5.514496326446533,
          1.532999873161316,
          7.146137237548828,
          3.5578370094299316,
          11.997381210327148,
          -0.37117999792099,
          6.583798408508301,
          8.168853759765625,
          -0.37117999792099,
          -5.946528434753418,
          9.141267776489258,
          -2.2035534381866455,
          -5.885020732879639,
          6.714968681335449,
          8.258548736572266,
          2.762401819229126,
          -1.112870216369629,
          3.3532636165618896,
          2.592780351638794,
          -0.0901104286313057,
          0.8665406703948975,
          -5.776294231414795,
          4.911144733428955,
          9.130107879638672,
          0.34534162282943726,
          1.3158704042434692,
          -5.8042402267456055,
          -3.098972797393799,
          -3.132876396179199,
          4.791340351104736,
          -7.702297210693359,
          -0.5558879375457764,
          -3.6192259788513184,
          -5.618022918701172,
          -0.5558879375457764,
          1.6826133728027344,
          2.5772171020507812
         ]
        },
        {
         "mode": "markers",
         "name": "Cluster 4",
         "type": "scatter",
         "x": [
          11.7066011428833,
          11.7066011428833,
          14.742581367492676,
          11.13389778137207,
          11.027034759521484,
          13.861793518066406,
          11.01487922668457,
          12.411164283752441,
          13.594969749450684,
          14.180441856384277,
          13.833158493041992,
          9.793277740478516,
          9.139403343200684,
          10.762984275817871,
          13.745058059692383,
          11.203694343566895,
          12.517544746398926,
          12.517544746398926,
          12.517544746398926,
          12.427520751953125,
          15.295894622802734,
          12.517544746398926,
          9.493620872497559,
          17.666433334350586,
          14.772550582885742,
          13.027532577514648,
          10.093496322631836
         ],
         "y": [
          0.2036570906639099,
          0.2036570906639099,
          -2.4348807334899902,
          -3.4030137062072754,
          1.5989434719085693,
          1.6654771566390991,
          -2.172572612762451,
          -3.4478156566619873,
          -3.054745674133301,
          -1.3580437898635864,
          -5.272440433502197,
          -2.219926357269287,
          -4.736341953277588,
          -0.8983805179595947,
          -0.20464910566806793,
          -6.24466609954834,
          -1.4847638607025146,
          -1.4847638607025146,
          -1.4847638607025146,
          1.838813066482544,
          -0.816078245639801,
          -1.4847638607025146,
          -0.7644110321998596,
          0.03522320091724396,
          0.5498560070991516,
          0.6002500057220459,
          0.49858808517456055
         ]
        },
        {
         "mode": "markers",
         "name": "Cluster 5",
         "type": "scatter",
         "x": [
          9.103869438171387,
          4.712576389312744,
          -1.9878249168395996,
          -1.9878249168395996,
          6.736967086791992,
          6.47565221786499,
          9.103869438171387,
          11.793268203735352,
          10.527053833007812,
          15.185652732849121,
          7.691582679748535,
          13.946573257446289,
          13.946573257446289,
          15.187518119812012,
          5.049766540527344
         ],
         "y": [
          7.980649948120117,
          -5.127627372741699,
          11.861907005310059,
          11.861907005310059,
          1.8084241151809692,
          3.21401047706604,
          7.980649948120117,
          4.37406063079834,
          8.797860145568848,
          8.009730339050293,
          8.038618087768555,
          7.544156074523926,
          7.544156074523926,
          6.020110130310059,
          4.597583293914795
         ]
        },
        {
         "mode": "markers",
         "name": "Cluster 6",
         "type": "scatter",
         "x": [
          -13.12806224822998,
          -11.782240867614746,
          4.782623767852783,
          -4.44052791595459,
          -13.592556953430176,
          -16.895122528076172,
          -18.34395408630371,
          -4.37062931060791,
          5.724530220031738,
          -16.892187118530273,
          -6.608630657196045,
          -4.874340057373047,
          -5.110086441040039,
          -6.578378200531006,
          -9.967162132263184,
          -8.993614196777344,
          -11.902770042419434,
          -9.109062194824219,
          -15.167672157287598,
          -10.189443588256836,
          -5.959392070770264,
          -11.434187889099121,
          -9.369379997253418,
          -2.560732364654541,
          -6.107104301452637,
          -9.660934448242188,
          -8.921483039855957,
          -15.167672157287598,
          -6.253544807434082,
          -10.76219654083252,
          -10.76219654083252,
          -8.280277252197266,
          -7.003207206726074,
          -11.279266357421875
         ],
         "y": [
          -1.9927167892456055,
          -3.371502637863159,
          -5.543126106262207,
          -3.721158504486084,
          1.5778591632843018,
          -0.41316819190979004,
          0.0359380841255188,
          -8.1664400100708,
          12.096050262451172,
          -0.4114208519458771,
          -2.6510868072509766,
          -1.709862470626831,
          -2.3080317974090576,
          -5.50552225112915,
          -6.282180309295654,
          -0.15822716057300568,
          -0.24129712581634521,
          -2.7894859313964844,
          -9.584247589111328,
          -7.879376411437988,
          -10.014647483825684,
          -5.648526668548584,
          -9.360883712768555,
          -9.68889045715332,
          -8.087715148925781,
          -5.317993640899658,
          -7.022282600402832,
          -9.584247589111328,
          -0.549299418926239,
          -1.6178077459335327,
          -1.6178077459335327,
          -1.5489476919174194,
          12.990534782409668,
          1.9144678115844727
         ]
        }
       ],
       "layout": {
        "legend": {
         "title": {
          "text": "Clusters"
         }
        },
        "template": {
         "data": {
          "bar": [
           {
            "error_x": {
             "color": "#2a3f5f"
            },
            "error_y": {
             "color": "#2a3f5f"
            },
            "marker": {
             "line": {
              "color": "#E5ECF6",
              "width": 0.5
             },
             "pattern": {
              "fillmode": "overlay",
              "size": 10,
              "solidity": 0.2
             }
            },
            "type": "bar"
           }
          ],
          "barpolar": [
           {
            "marker": {
             "line": {
              "color": "#E5ECF6",
              "width": 0.5
             },
             "pattern": {
              "fillmode": "overlay",
              "size": 10,
              "solidity": 0.2
             }
            },
            "type": "barpolar"
           }
          ],
          "carpet": [
           {
            "aaxis": {
             "endlinecolor": "#2a3f5f",
             "gridcolor": "white",
             "linecolor": "white",
             "minorgridcolor": "white",
             "startlinecolor": "#2a3f5f"
            },
            "baxis": {
             "endlinecolor": "#2a3f5f",
             "gridcolor": "white",
             "linecolor": "white",
             "minorgridcolor": "white",
             "startlinecolor": "#2a3f5f"
            },
            "type": "carpet"
           }
          ],
          "choropleth": [
           {
            "colorbar": {
             "outlinewidth": 0,
             "ticks": ""
            },
            "type": "choropleth"
           }
          ],
          "contour": [
           {
            "colorbar": {
             "outlinewidth": 0,
             "ticks": ""
            },
            "colorscale": [
             [
              0,
              "#0d0887"
             ],
             [
              0.1111111111111111,
              "#46039f"
             ],
             [
              0.2222222222222222,
              "#7201a8"
             ],
             [
              0.3333333333333333,
              "#9c179e"
             ],
             [
              0.4444444444444444,
              "#bd3786"
             ],
             [
              0.5555555555555556,
              "#d8576b"
             ],
             [
              0.6666666666666666,
              "#ed7953"
             ],
             [
              0.7777777777777778,
              "#fb9f3a"
             ],
             [
              0.8888888888888888,
              "#fdca26"
             ],
             [
              1,
              "#f0f921"
             ]
            ],
            "type": "contour"
           }
          ],
          "contourcarpet": [
           {
            "colorbar": {
             "outlinewidth": 0,
             "ticks": ""
            },
            "type": "contourcarpet"
           }
          ],
          "heatmap": [
           {
            "colorbar": {
             "outlinewidth": 0,
             "ticks": ""
            },
            "colorscale": [
             [
              0,
              "#0d0887"
             ],
             [
              0.1111111111111111,
              "#46039f"
             ],
             [
              0.2222222222222222,
              "#7201a8"
             ],
             [
              0.3333333333333333,
              "#9c179e"
             ],
             [
              0.4444444444444444,
              "#bd3786"
             ],
             [
              0.5555555555555556,
              "#d8576b"
             ],
             [
              0.6666666666666666,
              "#ed7953"
             ],
             [
              0.7777777777777778,
              "#fb9f3a"
             ],
             [
              0.8888888888888888,
              "#fdca26"
             ],
             [
              1,
              "#f0f921"
             ]
            ],
            "type": "heatmap"
           }
          ],
          "heatmapgl": [
           {
            "colorbar": {
             "outlinewidth": 0,
             "ticks": ""
            },
            "colorscale": [
             [
              0,
              "#0d0887"
             ],
             [
              0.1111111111111111,
              "#46039f"
             ],
             [
              0.2222222222222222,
              "#7201a8"
             ],
             [
              0.3333333333333333,
              "#9c179e"
             ],
             [
              0.4444444444444444,
              "#bd3786"
             ],
             [
              0.5555555555555556,
              "#d8576b"
             ],
             [
              0.6666666666666666,
              "#ed7953"
             ],
             [
              0.7777777777777778,
              "#fb9f3a"
             ],
             [
              0.8888888888888888,
              "#fdca26"
             ],
             [
              1,
              "#f0f921"
             ]
            ],
            "type": "heatmapgl"
           }
          ],
          "histogram": [
           {
            "marker": {
             "pattern": {
              "fillmode": "overlay",
              "size": 10,
              "solidity": 0.2
             }
            },
            "type": "histogram"
           }
          ],
          "histogram2d": [
           {
            "colorbar": {
             "outlinewidth": 0,
             "ticks": ""
            },
            "colorscale": [
             [
              0,
              "#0d0887"
             ],
             [
              0.1111111111111111,
              "#46039f"
             ],
             [
              0.2222222222222222,
              "#7201a8"
             ],
             [
              0.3333333333333333,
              "#9c179e"
             ],
             [
              0.4444444444444444,
              "#bd3786"
             ],
             [
              0.5555555555555556,
              "#d8576b"
             ],
             [
              0.6666666666666666,
              "#ed7953"
             ],
             [
              0.7777777777777778,
              "#fb9f3a"
             ],
             [
              0.8888888888888888,
              "#fdca26"
             ],
             [
              1,
              "#f0f921"
             ]
            ],
            "type": "histogram2d"
           }
          ],
          "histogram2dcontour": [
           {
            "colorbar": {
             "outlinewidth": 0,
             "ticks": ""
            },
            "colorscale": [
             [
              0,
              "#0d0887"
             ],
             [
              0.1111111111111111,
              "#46039f"
             ],
             [
              0.2222222222222222,
              "#7201a8"
             ],
             [
              0.3333333333333333,
              "#9c179e"
             ],
             [
              0.4444444444444444,
              "#bd3786"
             ],
             [
              0.5555555555555556,
              "#d8576b"
             ],
             [
              0.6666666666666666,
              "#ed7953"
             ],
             [
              0.7777777777777778,
              "#fb9f3a"
             ],
             [
              0.8888888888888888,
              "#fdca26"
             ],
             [
              1,
              "#f0f921"
             ]
            ],
            "type": "histogram2dcontour"
           }
          ],
          "mesh3d": [
           {
            "colorbar": {
             "outlinewidth": 0,
             "ticks": ""
            },
            "type": "mesh3d"
           }
          ],
          "parcoords": [
           {
            "line": {
             "colorbar": {
              "outlinewidth": 0,
              "ticks": ""
             }
            },
            "type": "parcoords"
           }
          ],
          "pie": [
           {
            "automargin": true,
            "type": "pie"
           }
          ],
          "scatter": [
           {
            "fillpattern": {
             "fillmode": "overlay",
             "size": 10,
             "solidity": 0.2
            },
            "type": "scatter"
           }
          ],
          "scatter3d": [
           {
            "line": {
             "colorbar": {
              "outlinewidth": 0,
              "ticks": ""
             }
            },
            "marker": {
             "colorbar": {
              "outlinewidth": 0,
              "ticks": ""
             }
            },
            "type": "scatter3d"
           }
          ],
          "scattercarpet": [
           {
            "marker": {
             "colorbar": {
              "outlinewidth": 0,
              "ticks": ""
             }
            },
            "type": "scattercarpet"
           }
          ],
          "scattergeo": [
           {
            "marker": {
             "colorbar": {
              "outlinewidth": 0,
              "ticks": ""
             }
            },
            "type": "scattergeo"
           }
          ],
          "scattergl": [
           {
            "marker": {
             "colorbar": {
              "outlinewidth": 0,
              "ticks": ""
             }
            },
            "type": "scattergl"
           }
          ],
          "scattermapbox": [
           {
            "marker": {
             "colorbar": {
              "outlinewidth": 0,
              "ticks": ""
             }
            },
            "type": "scattermapbox"
           }
          ],
          "scatterpolar": [
           {
            "marker": {
             "colorbar": {
              "outlinewidth": 0,
              "ticks": ""
             }
            },
            "type": "scatterpolar"
           }
          ],
          "scatterpolargl": [
           {
            "marker": {
             "colorbar": {
              "outlinewidth": 0,
              "ticks": ""
             }
            },
            "type": "scatterpolargl"
           }
          ],
          "scatterternary": [
           {
            "marker": {
             "colorbar": {
              "outlinewidth": 0,
              "ticks": ""
             }
            },
            "type": "scatterternary"
           }
          ],
          "surface": [
           {
            "colorbar": {
             "outlinewidth": 0,
             "ticks": ""
            },
            "colorscale": [
             [
              0,
              "#0d0887"
             ],
             [
              0.1111111111111111,
              "#46039f"
             ],
             [
              0.2222222222222222,
              "#7201a8"
             ],
             [
              0.3333333333333333,
              "#9c179e"
             ],
             [
              0.4444444444444444,
              "#bd3786"
             ],
             [
              0.5555555555555556,
              "#d8576b"
             ],
             [
              0.6666666666666666,
              "#ed7953"
             ],
             [
              0.7777777777777778,
              "#fb9f3a"
             ],
             [
              0.8888888888888888,
              "#fdca26"
             ],
             [
              1,
              "#f0f921"
             ]
            ],
            "type": "surface"
           }
          ],
          "table": [
           {
            "cells": {
             "fill": {
              "color": "#EBF0F8"
             },
             "line": {
              "color": "white"
             }
            },
            "header": {
             "fill": {
              "color": "#C8D4E3"
             },
             "line": {
              "color": "white"
             }
            },
            "type": "table"
           }
          ]
         },
         "layout": {
          "annotationdefaults": {
           "arrowcolor": "#2a3f5f",
           "arrowhead": 0,
           "arrowwidth": 1
          },
          "autotypenumbers": "strict",
          "coloraxis": {
           "colorbar": {
            "outlinewidth": 0,
            "ticks": ""
           }
          },
          "colorscale": {
           "diverging": [
            [
             0,
             "#8e0152"
            ],
            [
             0.1,
             "#c51b7d"
            ],
            [
             0.2,
             "#de77ae"
            ],
            [
             0.3,
             "#f1b6da"
            ],
            [
             0.4,
             "#fde0ef"
            ],
            [
             0.5,
             "#f7f7f7"
            ],
            [
             0.6,
             "#e6f5d0"
            ],
            [
             0.7,
             "#b8e186"
            ],
            [
             0.8,
             "#7fbc41"
            ],
            [
             0.9,
             "#4d9221"
            ],
            [
             1,
             "#276419"
            ]
           ],
           "sequential": [
            [
             0,
             "#0d0887"
            ],
            [
             0.1111111111111111,
             "#46039f"
            ],
            [
             0.2222222222222222,
             "#7201a8"
            ],
            [
             0.3333333333333333,
             "#9c179e"
            ],
            [
             0.4444444444444444,
             "#bd3786"
            ],
            [
             0.5555555555555556,
             "#d8576b"
            ],
            [
             0.6666666666666666,
             "#ed7953"
            ],
            [
             0.7777777777777778,
             "#fb9f3a"
            ],
            [
             0.8888888888888888,
             "#fdca26"
            ],
            [
             1,
             "#f0f921"
            ]
           ],
           "sequentialminus": [
            [
             0,
             "#0d0887"
            ],
            [
             0.1111111111111111,
             "#46039f"
            ],
            [
             0.2222222222222222,
             "#7201a8"
            ],
            [
             0.3333333333333333,
             "#9c179e"
            ],
            [
             0.4444444444444444,
             "#bd3786"
            ],
            [
             0.5555555555555556,
             "#d8576b"
            ],
            [
             0.6666666666666666,
             "#ed7953"
            ],
            [
             0.7777777777777778,
             "#fb9f3a"
            ],
            [
             0.8888888888888888,
             "#fdca26"
            ],
            [
             1,
             "#f0f921"
            ]
           ]
          },
          "colorway": [
           "#636efa",
           "#EF553B",
           "#00cc96",
           "#ab63fa",
           "#FFA15A",
           "#19d3f3",
           "#FF6692",
           "#B6E880",
           "#FF97FF",
           "#FECB52"
          ],
          "font": {
           "color": "#2a3f5f"
          },
          "geo": {
           "bgcolor": "white",
           "lakecolor": "white",
           "landcolor": "#E5ECF6",
           "showlakes": true,
           "showland": true,
           "subunitcolor": "white"
          },
          "hoverlabel": {
           "align": "left"
          },
          "hovermode": "closest",
          "mapbox": {
           "style": "light"
          },
          "paper_bgcolor": "white",
          "plot_bgcolor": "#E5ECF6",
          "polar": {
           "angularaxis": {
            "gridcolor": "white",
            "linecolor": "white",
            "ticks": ""
           },
           "bgcolor": "#E5ECF6",
           "radialaxis": {
            "gridcolor": "white",
            "linecolor": "white",
            "ticks": ""
           }
          },
          "scene": {
           "xaxis": {
            "backgroundcolor": "#E5ECF6",
            "gridcolor": "white",
            "gridwidth": 2,
            "linecolor": "white",
            "showbackground": true,
            "ticks": "",
            "zerolinecolor": "white"
           },
           "yaxis": {
            "backgroundcolor": "#E5ECF6",
            "gridcolor": "white",
            "gridwidth": 2,
            "linecolor": "white",
            "showbackground": true,
            "ticks": "",
            "zerolinecolor": "white"
           },
           "zaxis": {
            "backgroundcolor": "#E5ECF6",
            "gridcolor": "white",
            "gridwidth": 2,
            "linecolor": "white",
            "showbackground": true,
            "ticks": "",
            "zerolinecolor": "white"
           }
          },
          "shapedefaults": {
           "line": {
            "color": "#2a3f5f"
           }
          },
          "ternary": {
           "aaxis": {
            "gridcolor": "white",
            "linecolor": "white",
            "ticks": ""
           },
           "baxis": {
            "gridcolor": "white",
            "linecolor": "white",
            "ticks": ""
           },
           "bgcolor": "#E5ECF6",
           "caxis": {
            "gridcolor": "white",
            "linecolor": "white",
            "ticks": ""
           }
          },
          "title": {
           "x": 0.05
          },
          "xaxis": {
           "automargin": true,
           "gridcolor": "white",
           "linecolor": "white",
           "ticks": "",
           "title": {
            "standoff": 15
           },
           "zerolinecolor": "white",
           "zerolinewidth": 2
          },
          "yaxis": {
           "automargin": true,
           "gridcolor": "white",
           "linecolor": "white",
           "ticks": "",
           "title": {
            "standoff": 15
           },
           "zerolinecolor": "white",
           "zerolinewidth": 2
          }
         }
        },
        "title": {
         "text": "Sentence Clusters Visualized with t-SNE(NLTK)"
        },
        "xaxis": {
         "title": {
          "text": "t-SNE Dimension 1"
         }
        },
        "yaxis": {
         "title": {
          "text": "t-SNE Dimension 2"
         }
        }
       }
      }
     },
     "metadata": {},
     "output_type": "display_data"
    }
   ],
   "source": [
    "fig = go.Figure()\n",
    "for i in range(num_clusters):\n",
    "    indices = labels_nltk == i\n",
    "    fig.add_trace(go.Scatter(\n",
    "        x=reduced_vectors_2d[indices, 0],\n",
    "        y=reduced_vectors_2d[indices, 1],\n",
    "        mode='markers',\n",
    "        name=f'Cluster {i + 1}'\n",
    "    ))\n",
    "\n",
    "fig.update_layout(\n",
    "    title='Sentence Clusters Visualized with t-SNE(NLTK)',\n",
    "    xaxis_title='t-SNE Dimension 1',\n",
    "    yaxis_title='t-SNE Dimension 2',\n",
    "    legend_title=\"Clusters\"\n",
    ")\n",
    "\n",
    "pio.show(fig)"
   ]
  },
  {
   "cell_type": "code",
   "execution_count": 70,
   "metadata": {},
   "outputs": [
    {
     "data": {
      "application/vnd.plotly.v1+json": {
       "config": {
        "plotlyServerURL": "https://plot.ly"
       },
       "data": [
        {
         "mode": "markers",
         "name": "Cluster 1",
         "type": "scatter3d",
         "x": [
          77.165771484375,
          -23.209041595458984,
          45.70570373535156,
          43.85551834106445,
          -22.98052978515625,
          124.83290100097656,
          75.50318145751953,
          27.914602279663086,
          59.86707305908203,
          5.62960958480835,
          47.232975006103516,
          -108.234130859375,
          59.96199417114258,
          -32.705631256103516,
          5.0775041580200195,
          20.21152687072754,
          35.784854888916016,
          69.88140106201172,
          109.43708801269531,
          59.23637390136719,
          13.531896591186523,
          282.2542419433594,
          60.53202438354492,
          28.629329681396484,
          47.56402587890625,
          90.91365814208984,
          11.504141807556152,
          -0.9626734852790833,
          -9.265307426452637,
          69.41129302978516,
          12.14306926727295
         ],
         "y": [
          -42.76368713378906,
          -49.174049377441406,
          -51.066925048828125,
          -27.123933792114258,
          14.708536148071289,
          -4.565580368041992,
          -48.627471923828125,
          -100.0112075805664,
          38.15195846557617,
          7.466042518615723,
          -38.292396545410156,
          27.664661407470703,
          -18.749889373779297,
          -35.27375411987305,
          -25.36137580871582,
          -14.766678810119629,
          -17.553163528442383,
          -82.11969757080078,
          -54.70712661743164,
          -83.17340087890625,
          -58.16630554199219,
          2.3723366260528564,
          1.957506537437439,
          -0.0247526653110981,
          6.049328327178955,
          -16.76011848449707,
          -49.29914855957031,
          -79.27960968017578,
          -63.126556396484375,
          27.389997482299805,
          -33.51837921142578
         ],
         "z": [
          -19.053268432617188,
          42.13203048706055,
          11.331931114196777,
          -86.23056030273438,
          44.21409606933594,
          23.343280792236328,
          32.33789825439453,
          59.00140380859375,
          60.83474349975586,
          40.880531311035156,
          -21.84816551208496,
          -20.781261444091797,
          -39.124568939208984,
          103.85319519042969,
          -17.339792251586914,
          78.54075622558594,
          3.034345865249634,
          -9.760394096374512,
          -2.556415319442749,
          -28.14115333557129,
          90.11809539794922,
          -29.56145668029785,
          -10.027874946594238,
          -62.24086380004883,
          15.932682037353516,
          -13.898809432983398,
          2.4724504947662354,
          34.68490219116211,
          75.19978332519531,
          25.95685577392578,
          124.71116638183594
         ]
        },
        {
         "mode": "markers",
         "name": "Cluster 2",
         "type": "scatter3d",
         "x": [
          -39.4547119140625,
          -19.381546020507812,
          -86.99911499023438,
          -86.99911499023438,
          -86.99911499023438,
          -8.522359848022461,
          17.54482078552246,
          -0.7827317714691162,
          3.729672431945801
         ],
         "y": [
          94.70915985107422,
          118.43122863769531,
          44.72562026977539,
          44.72562026977539,
          44.72562026977539,
          78.56243896484375,
          68.26420593261719,
          69.7374496459961,
          99.33096313476562
         ],
         "z": [
          51.0530891418457,
          -6.000156879425049,
          17.866071701049805,
          17.866071701049805,
          17.866071701049805,
          46.86004638671875,
          45.79301452636719,
          80.18010711669922,
          65.3571548461914
         ]
        },
        {
         "mode": "markers",
         "name": "Cluster 3",
         "type": "scatter3d",
         "x": [
          -0.7235546112060547,
          76.68872833251953,
          -51.74822235107422,
          45.76615905761719,
          -111.22140502929688,
          -15.447553634643555,
          18.42026138305664,
          -62.01306915283203,
          -15.447553634643555,
          81.5576400756836,
          70.12325286865234,
          -19.444381713867188,
          -37.74067687988281,
          48.72631072998047,
          64.74544525146484,
          -10.299846649169922,
          -7.388066291809082,
          14.660967826843262,
          -99.21519470214844,
          -95.50148010253906,
          90.02775573730469,
          74.03995513916016,
          55.550148010253906,
          -44.788490295410156,
          -65.27604675292969,
          -85.27824401855469,
          -22.304121017456055,
          32.14891052246094,
          108.27941131591797,
          3.0625336170196533,
          84.44181823730469,
          49.12954330444336,
          84.96613311767578,
          79.34406280517578,
          49.12954330444336,
          92.7197494506836,
          -10.178075790405273
         ],
         "y": [
          45.21004104614258,
          -5.303258895874023,
          -26.83749771118164,
          78.65762329101562,
          -47.544578552246094,
          18.33531379699707,
          2.0728185176849365,
          -57.844818115234375,
          18.33531379699707,
          39.30171585083008,
          -80.26371002197266,
          -118.86061096191406,
          -31.703271865844727,
          1.8976995944976807,
          -22.525558471679688,
          -5.17993688583374,
          -106.95987701416016,
          26.107467651367188,
          1.7356775999069214,
          -19.13628387451172,
          6.443516731262207,
          61.81007385253906,
          -25.385828018188477,
          -83.67693328857422,
          -85.2536849975586,
          59.08278274536133,
          -108.55455780029297,
          25.11102867126465,
          42.48191833496094,
          -85.83757781982422,
          68.03995513916016,
          31.924232482910156,
          29.687599182128906,
          15.957331657409668,
          31.924232482910156,
          28.836856842041016,
          -18.98214340209961
         ],
         "z": [
          -109.17820739746094,
          17.489803314208984,
          64.52058410644531,
          -3.0125513076782227,
          -24.699464797973633,
          88.09861755371094,
          6.504209041595459,
          65.89263916015625,
          88.09861755371094,
          -43.70746994018555,
          41.87515640258789,
          -21.523845672607422,
          -67.56062316894531,
          50.35805130004883,
          60.990234375,
          -100.69534301757812,
          -46.622318267822266,
          60.446170806884766,
          -48.40523910522461,
          -9.38335132598877,
          46.8905143737793,
          -21.433677673339844,
          33.33793258666992,
          39.68456268310547,
          1.1345535516738892,
          56.614654541015625,
          62.74317169189453,
          101.19415283203125,
          -1.6933835744857788,
          -1.2586641311645508,
          16.7462158203125,
          -10.755542755126953,
          -8.556051254272461,
          -37.924407958984375,
          -10.755542755126953,
          28.107046127319336,
          61.80694580078125
         ]
        },
        {
         "mode": "markers",
         "name": "Cluster 4",
         "type": "scatter3d",
         "x": [
          -60.45820236206055,
          -60.45820236206055,
          -59.593994140625,
          18.031017303466797,
          -45.7210578918457,
          -45.03476333618164,
          -28.222522735595703,
          -41.0510368347168,
          -32.73154067993164,
          -1.738755702972412,
          -11.399465560913086,
          6.435436248779297,
          -22.78511619567871,
          0.518130898475647,
          -31.98523712158203,
          27.107929229736328,
          -9.422322273254395,
          -9.422322273254395,
          -9.422322273254395,
          -19.3590030670166,
          -25.301912307739258,
          -9.422322273254395,
          -58.71348571777344,
          -62.57759094238281,
          -10.770421028137207,
          41.742855072021484,
          36.80234146118164
         ],
         "y": [
          152.096923828125,
          152.096923828125,
          43.757320404052734,
          55.7188606262207,
          58.168819427490234,
          62.53970718383789,
          91.92887115478516,
          26.590839385986328,
          33.42203903198242,
          82.21309661865234,
          29.657381057739258,
          73.38516998291016,
          0.7882561683654785,
          29.02931022644043,
          64.42655944824219,
          43.306907653808594,
          43.74755859375,
          43.74755859375,
          43.74755859375,
          50.34052276611328,
          82.36640167236328,
          43.74755859375,
          78.94404602050781,
          97.13345336914062,
          60.390377044677734,
          -73.85332489013672,
          -93.34400939941406
         ],
         "z": [
          29.350719451904297,
          29.350719451904297,
          -23.340436935424805,
          -29.839218139648438,
          6.446206569671631,
          -53.192405700683594,
          -39.171382904052734,
          -0.8695476055145264,
          -37.446693420410156,
          -21.987930297851562,
          -73.552734375,
          8.198692321777344,
          -42.920989990234375,
          -40.797760009765625,
          -23.776809692382812,
          -71.15901184082031,
          -8.77250862121582,
          -8.77250862121582,
          -8.77250862121582,
          24.901968002319336,
          3.5258326530456543,
          -8.77250862121582,
          -21.32011604309082,
          11.534489631652832,
          -49.233802795410156,
          -64.34475708007812,
          16.534303665161133
         ]
        },
        {
         "mode": "markers",
         "name": "Cluster 5",
         "type": "scatter3d",
         "x": [
          -64.0782241821289,
          20.111186981201172,
          73.97441864013672,
          73.97441864013672,
          10.255857467651367,
          29.6003475189209,
          -64.0782241821289,
          -44.64379119873047,
          103.46829986572266,
          -68.74498748779297,
          -77.4054183959961,
          -52.831321716308594,
          -52.831321716308594,
          -64.59514617919922,
          26.656957626342773
         ],
         "y": [
          18.800987243652344,
          -25.939491271972656,
          -2.8621227741241455,
          -2.8621227741241455,
          90.23783874511719,
          84.57240295410156,
          18.800987243652344,
          50.85560989379883,
          -9.070570945739746,
          23.705659866333008,
          12.206070899963379,
          29.47660255432129,
          29.47660255432129,
          -2.8100504875183105,
          6.468630313873291
         ],
         "z": [
          90.25032043457031,
          39.6922721862793,
          88.97398376464844,
          88.97398376464844,
          -72.09117889404297,
          -46.74391555786133,
          90.25032043457031,
          52.2098274230957,
          -62.36686706542969,
          -61.45013427734375,
          64.21699523925781,
          -85.04232025146484,
          -85.04232025146484,
          -90.04165649414062,
          -27.562908172607422
         ]
        },
        {
         "mode": "markers",
         "name": "Cluster 6",
         "type": "scatter3d",
         "x": [
          -57.083763122558594,
          -67.0902328491211,
          20.29598045349121,
          59.692787170410156,
          -18.283010482788086,
          -17.362329483032227,
          57.5555419921875,
          -83.0274429321289,
          62.219085693359375,
          -22.608264923095703,
          20.33799171447754,
          -86.08731079101562,
          46.06388473510742,
          -12.4954833984375,
          -36.68688201904297,
          73.47657012939453,
          -50.9342041015625,
          19.431245803833008,
          -84.26942443847656,
          -41.01261901855469,
          -15.219368934631348,
          -30.627187728881836,
          -53.94309997558594,
          30.2486572265625,
          12.925905227661133,
          -15.357672691345215,
          -10.975737571716309,
          -84.26942443847656,
          -79.69416809082031,
          -39.24750900268555,
          -39.24750900268555,
          29.00182342529297,
          31.207542419433594,
          100.90510559082031
         ],
         "y": [
          -5.9583892822265625,
          -50.86467361450195,
          -47.26447677612305,
          17.741586685180664,
          -49.098304748535156,
          -4.006378173828125,
          81.30626678466797,
          -20.778636932373047,
          67.83109283447266,
          -13.43543529510498,
          -34.48112106323242,
          -57.83547592163086,
          -54.543067932128906,
          -28.22197151184082,
          -60.116493225097656,
          -46.90764236450195,
          -37.222103118896484,
          -64.27779388427734,
          -11.514110565185547,
          -70.41836547851562,
          -48.469966888427734,
          -73.24520111083984,
          -92.08958435058594,
          114.53482055664062,
          -59.436946868896484,
          -51.65950393676758,
          -70.18682861328125,
          -11.514110565185547,
          -50.260860443115234,
          -31.724794387817383,
          -31.724794387817383,
          39.59245681762695,
          -118.80520629882812,
          -51.05387496948242
         ],
         "z": [
          -16.23117446899414,
          -17.070051193237305,
          43.29972457885742,
          -86.91876983642578,
          18.51151466369629,
          2.155632495880127,
          49.254600524902344,
          -39.71678924560547,
          -66.18077850341797,
          20.360889434814453,
          -48.2033805847168,
          27.055166244506836,
          64.35259246826172,
          -68.53317260742188,
          -45.91632843017578,
          -63.19825744628906,
          17.375242233276367,
          -28.757299423217773,
          29.398889541625977,
          -73.01658630371094,
          -103.63465881347656,
          -16.465709686279297,
          -51.6083869934082,
          15.789426803588867,
          -85.8653793334961,
          -35.67395782470703,
          -59.896175384521484,
          29.398889541625977,
          -59.91722106933594,
          -13.91936206817627,
          -13.91936206817627,
          24.8017520904541,
          -20.670276641845703,
          44.758941650390625
         ]
        }
       ],
       "layout": {
        "scene": {
         "xaxis": {
          "title": {
           "text": "t-SNE Dimension 1"
          }
         },
         "yaxis": {
          "title": {
           "text": "t-SNE Dimension 2"
          }
         },
         "zaxis": {
          "title": {
           "text": "t-SNE Dimension 3"
          }
         }
        },
        "template": {
         "data": {
          "bar": [
           {
            "error_x": {
             "color": "#2a3f5f"
            },
            "error_y": {
             "color": "#2a3f5f"
            },
            "marker": {
             "line": {
              "color": "#E5ECF6",
              "width": 0.5
             },
             "pattern": {
              "fillmode": "overlay",
              "size": 10,
              "solidity": 0.2
             }
            },
            "type": "bar"
           }
          ],
          "barpolar": [
           {
            "marker": {
             "line": {
              "color": "#E5ECF6",
              "width": 0.5
             },
             "pattern": {
              "fillmode": "overlay",
              "size": 10,
              "solidity": 0.2
             }
            },
            "type": "barpolar"
           }
          ],
          "carpet": [
           {
            "aaxis": {
             "endlinecolor": "#2a3f5f",
             "gridcolor": "white",
             "linecolor": "white",
             "minorgridcolor": "white",
             "startlinecolor": "#2a3f5f"
            },
            "baxis": {
             "endlinecolor": "#2a3f5f",
             "gridcolor": "white",
             "linecolor": "white",
             "minorgridcolor": "white",
             "startlinecolor": "#2a3f5f"
            },
            "type": "carpet"
           }
          ],
          "choropleth": [
           {
            "colorbar": {
             "outlinewidth": 0,
             "ticks": ""
            },
            "type": "choropleth"
           }
          ],
          "contour": [
           {
            "colorbar": {
             "outlinewidth": 0,
             "ticks": ""
            },
            "colorscale": [
             [
              0,
              "#0d0887"
             ],
             [
              0.1111111111111111,
              "#46039f"
             ],
             [
              0.2222222222222222,
              "#7201a8"
             ],
             [
              0.3333333333333333,
              "#9c179e"
             ],
             [
              0.4444444444444444,
              "#bd3786"
             ],
             [
              0.5555555555555556,
              "#d8576b"
             ],
             [
              0.6666666666666666,
              "#ed7953"
             ],
             [
              0.7777777777777778,
              "#fb9f3a"
             ],
             [
              0.8888888888888888,
              "#fdca26"
             ],
             [
              1,
              "#f0f921"
             ]
            ],
            "type": "contour"
           }
          ],
          "contourcarpet": [
           {
            "colorbar": {
             "outlinewidth": 0,
             "ticks": ""
            },
            "type": "contourcarpet"
           }
          ],
          "heatmap": [
           {
            "colorbar": {
             "outlinewidth": 0,
             "ticks": ""
            },
            "colorscale": [
             [
              0,
              "#0d0887"
             ],
             [
              0.1111111111111111,
              "#46039f"
             ],
             [
              0.2222222222222222,
              "#7201a8"
             ],
             [
              0.3333333333333333,
              "#9c179e"
             ],
             [
              0.4444444444444444,
              "#bd3786"
             ],
             [
              0.5555555555555556,
              "#d8576b"
             ],
             [
              0.6666666666666666,
              "#ed7953"
             ],
             [
              0.7777777777777778,
              "#fb9f3a"
             ],
             [
              0.8888888888888888,
              "#fdca26"
             ],
             [
              1,
              "#f0f921"
             ]
            ],
            "type": "heatmap"
           }
          ],
          "heatmapgl": [
           {
            "colorbar": {
             "outlinewidth": 0,
             "ticks": ""
            },
            "colorscale": [
             [
              0,
              "#0d0887"
             ],
             [
              0.1111111111111111,
              "#46039f"
             ],
             [
              0.2222222222222222,
              "#7201a8"
             ],
             [
              0.3333333333333333,
              "#9c179e"
             ],
             [
              0.4444444444444444,
              "#bd3786"
             ],
             [
              0.5555555555555556,
              "#d8576b"
             ],
             [
              0.6666666666666666,
              "#ed7953"
             ],
             [
              0.7777777777777778,
              "#fb9f3a"
             ],
             [
              0.8888888888888888,
              "#fdca26"
             ],
             [
              1,
              "#f0f921"
             ]
            ],
            "type": "heatmapgl"
           }
          ],
          "histogram": [
           {
            "marker": {
             "pattern": {
              "fillmode": "overlay",
              "size": 10,
              "solidity": 0.2
             }
            },
            "type": "histogram"
           }
          ],
          "histogram2d": [
           {
            "colorbar": {
             "outlinewidth": 0,
             "ticks": ""
            },
            "colorscale": [
             [
              0,
              "#0d0887"
             ],
             [
              0.1111111111111111,
              "#46039f"
             ],
             [
              0.2222222222222222,
              "#7201a8"
             ],
             [
              0.3333333333333333,
              "#9c179e"
             ],
             [
              0.4444444444444444,
              "#bd3786"
             ],
             [
              0.5555555555555556,
              "#d8576b"
             ],
             [
              0.6666666666666666,
              "#ed7953"
             ],
             [
              0.7777777777777778,
              "#fb9f3a"
             ],
             [
              0.8888888888888888,
              "#fdca26"
             ],
             [
              1,
              "#f0f921"
             ]
            ],
            "type": "histogram2d"
           }
          ],
          "histogram2dcontour": [
           {
            "colorbar": {
             "outlinewidth": 0,
             "ticks": ""
            },
            "colorscale": [
             [
              0,
              "#0d0887"
             ],
             [
              0.1111111111111111,
              "#46039f"
             ],
             [
              0.2222222222222222,
              "#7201a8"
             ],
             [
              0.3333333333333333,
              "#9c179e"
             ],
             [
              0.4444444444444444,
              "#bd3786"
             ],
             [
              0.5555555555555556,
              "#d8576b"
             ],
             [
              0.6666666666666666,
              "#ed7953"
             ],
             [
              0.7777777777777778,
              "#fb9f3a"
             ],
             [
              0.8888888888888888,
              "#fdca26"
             ],
             [
              1,
              "#f0f921"
             ]
            ],
            "type": "histogram2dcontour"
           }
          ],
          "mesh3d": [
           {
            "colorbar": {
             "outlinewidth": 0,
             "ticks": ""
            },
            "type": "mesh3d"
           }
          ],
          "parcoords": [
           {
            "line": {
             "colorbar": {
              "outlinewidth": 0,
              "ticks": ""
             }
            },
            "type": "parcoords"
           }
          ],
          "pie": [
           {
            "automargin": true,
            "type": "pie"
           }
          ],
          "scatter": [
           {
            "fillpattern": {
             "fillmode": "overlay",
             "size": 10,
             "solidity": 0.2
            },
            "type": "scatter"
           }
          ],
          "scatter3d": [
           {
            "line": {
             "colorbar": {
              "outlinewidth": 0,
              "ticks": ""
             }
            },
            "marker": {
             "colorbar": {
              "outlinewidth": 0,
              "ticks": ""
             }
            },
            "type": "scatter3d"
           }
          ],
          "scattercarpet": [
           {
            "marker": {
             "colorbar": {
              "outlinewidth": 0,
              "ticks": ""
             }
            },
            "type": "scattercarpet"
           }
          ],
          "scattergeo": [
           {
            "marker": {
             "colorbar": {
              "outlinewidth": 0,
              "ticks": ""
             }
            },
            "type": "scattergeo"
           }
          ],
          "scattergl": [
           {
            "marker": {
             "colorbar": {
              "outlinewidth": 0,
              "ticks": ""
             }
            },
            "type": "scattergl"
           }
          ],
          "scattermapbox": [
           {
            "marker": {
             "colorbar": {
              "outlinewidth": 0,
              "ticks": ""
             }
            },
            "type": "scattermapbox"
           }
          ],
          "scatterpolar": [
           {
            "marker": {
             "colorbar": {
              "outlinewidth": 0,
              "ticks": ""
             }
            },
            "type": "scatterpolar"
           }
          ],
          "scatterpolargl": [
           {
            "marker": {
             "colorbar": {
              "outlinewidth": 0,
              "ticks": ""
             }
            },
            "type": "scatterpolargl"
           }
          ],
          "scatterternary": [
           {
            "marker": {
             "colorbar": {
              "outlinewidth": 0,
              "ticks": ""
             }
            },
            "type": "scatterternary"
           }
          ],
          "surface": [
           {
            "colorbar": {
             "outlinewidth": 0,
             "ticks": ""
            },
            "colorscale": [
             [
              0,
              "#0d0887"
             ],
             [
              0.1111111111111111,
              "#46039f"
             ],
             [
              0.2222222222222222,
              "#7201a8"
             ],
             [
              0.3333333333333333,
              "#9c179e"
             ],
             [
              0.4444444444444444,
              "#bd3786"
             ],
             [
              0.5555555555555556,
              "#d8576b"
             ],
             [
              0.6666666666666666,
              "#ed7953"
             ],
             [
              0.7777777777777778,
              "#fb9f3a"
             ],
             [
              0.8888888888888888,
              "#fdca26"
             ],
             [
              1,
              "#f0f921"
             ]
            ],
            "type": "surface"
           }
          ],
          "table": [
           {
            "cells": {
             "fill": {
              "color": "#EBF0F8"
             },
             "line": {
              "color": "white"
             }
            },
            "header": {
             "fill": {
              "color": "#C8D4E3"
             },
             "line": {
              "color": "white"
             }
            },
            "type": "table"
           }
          ]
         },
         "layout": {
          "annotationdefaults": {
           "arrowcolor": "#2a3f5f",
           "arrowhead": 0,
           "arrowwidth": 1
          },
          "autotypenumbers": "strict",
          "coloraxis": {
           "colorbar": {
            "outlinewidth": 0,
            "ticks": ""
           }
          },
          "colorscale": {
           "diverging": [
            [
             0,
             "#8e0152"
            ],
            [
             0.1,
             "#c51b7d"
            ],
            [
             0.2,
             "#de77ae"
            ],
            [
             0.3,
             "#f1b6da"
            ],
            [
             0.4,
             "#fde0ef"
            ],
            [
             0.5,
             "#f7f7f7"
            ],
            [
             0.6,
             "#e6f5d0"
            ],
            [
             0.7,
             "#b8e186"
            ],
            [
             0.8,
             "#7fbc41"
            ],
            [
             0.9,
             "#4d9221"
            ],
            [
             1,
             "#276419"
            ]
           ],
           "sequential": [
            [
             0,
             "#0d0887"
            ],
            [
             0.1111111111111111,
             "#46039f"
            ],
            [
             0.2222222222222222,
             "#7201a8"
            ],
            [
             0.3333333333333333,
             "#9c179e"
            ],
            [
             0.4444444444444444,
             "#bd3786"
            ],
            [
             0.5555555555555556,
             "#d8576b"
            ],
            [
             0.6666666666666666,
             "#ed7953"
            ],
            [
             0.7777777777777778,
             "#fb9f3a"
            ],
            [
             0.8888888888888888,
             "#fdca26"
            ],
            [
             1,
             "#f0f921"
            ]
           ],
           "sequentialminus": [
            [
             0,
             "#0d0887"
            ],
            [
             0.1111111111111111,
             "#46039f"
            ],
            [
             0.2222222222222222,
             "#7201a8"
            ],
            [
             0.3333333333333333,
             "#9c179e"
            ],
            [
             0.4444444444444444,
             "#bd3786"
            ],
            [
             0.5555555555555556,
             "#d8576b"
            ],
            [
             0.6666666666666666,
             "#ed7953"
            ],
            [
             0.7777777777777778,
             "#fb9f3a"
            ],
            [
             0.8888888888888888,
             "#fdca26"
            ],
            [
             1,
             "#f0f921"
            ]
           ]
          },
          "colorway": [
           "#636efa",
           "#EF553B",
           "#00cc96",
           "#ab63fa",
           "#FFA15A",
           "#19d3f3",
           "#FF6692",
           "#B6E880",
           "#FF97FF",
           "#FECB52"
          ],
          "font": {
           "color": "#2a3f5f"
          },
          "geo": {
           "bgcolor": "white",
           "lakecolor": "white",
           "landcolor": "#E5ECF6",
           "showlakes": true,
           "showland": true,
           "subunitcolor": "white"
          },
          "hoverlabel": {
           "align": "left"
          },
          "hovermode": "closest",
          "mapbox": {
           "style": "light"
          },
          "paper_bgcolor": "white",
          "plot_bgcolor": "#E5ECF6",
          "polar": {
           "angularaxis": {
            "gridcolor": "white",
            "linecolor": "white",
            "ticks": ""
           },
           "bgcolor": "#E5ECF6",
           "radialaxis": {
            "gridcolor": "white",
            "linecolor": "white",
            "ticks": ""
           }
          },
          "scene": {
           "xaxis": {
            "backgroundcolor": "#E5ECF6",
            "gridcolor": "white",
            "gridwidth": 2,
            "linecolor": "white",
            "showbackground": true,
            "ticks": "",
            "zerolinecolor": "white"
           },
           "yaxis": {
            "backgroundcolor": "#E5ECF6",
            "gridcolor": "white",
            "gridwidth": 2,
            "linecolor": "white",
            "showbackground": true,
            "ticks": "",
            "zerolinecolor": "white"
           },
           "zaxis": {
            "backgroundcolor": "#E5ECF6",
            "gridcolor": "white",
            "gridwidth": 2,
            "linecolor": "white",
            "showbackground": true,
            "ticks": "",
            "zerolinecolor": "white"
           }
          },
          "shapedefaults": {
           "line": {
            "color": "#2a3f5f"
           }
          },
          "ternary": {
           "aaxis": {
            "gridcolor": "white",
            "linecolor": "white",
            "ticks": ""
           },
           "baxis": {
            "gridcolor": "white",
            "linecolor": "white",
            "ticks": ""
           },
           "bgcolor": "#E5ECF6",
           "caxis": {
            "gridcolor": "white",
            "linecolor": "white",
            "ticks": ""
           }
          },
          "title": {
           "x": 0.05
          },
          "xaxis": {
           "automargin": true,
           "gridcolor": "white",
           "linecolor": "white",
           "ticks": "",
           "title": {
            "standoff": 15
           },
           "zerolinecolor": "white",
           "zerolinewidth": 2
          },
          "yaxis": {
           "automargin": true,
           "gridcolor": "white",
           "linecolor": "white",
           "ticks": "",
           "title": {
            "standoff": 15
           },
           "zerolinecolor": "white",
           "zerolinewidth": 2
          }
         }
        },
        "title": {
         "text": "3D Sentence Clusters(NLTK)"
        }
       }
      }
     },
     "metadata": {},
     "output_type": "display_data"
    }
   ],
   "source": [
    "# Perform t-SNE dimensionality reduction for 3D visualization\n",
    "perplexity_value = min(30, len(sentence_vectors_nltk) - 1)\n",
    "tsne_3d = TSNE(n_components=3,perplexity=perplexity_value, random_state=0)\n",
    "reduced_vectors_3d = tsne_3d.fit_transform(sentence_vectors_nltk)\n",
    "\n",
    "fig = go.Figure()\n",
    "\n",
    "for i in range(num_clusters):\n",
    "    indices = labels_nltk == i\n",
    "    fig.add_trace(go.Scatter3d(\n",
    "        x=reduced_vectors_3d[indices, 0],\n",
    "        y=reduced_vectors_3d[indices, 1],\n",
    "        z=reduced_vectors_3d[indices, 2],\n",
    "        mode='markers',\n",
    "        name=f'Cluster {i+1}'\n",
    "    ))\n",
    "\n",
    "fig.update_layout(title='3D Sentence Clusters(NLTK)',\n",
    "                    scene=dict(xaxis_title='t-SNE Dimension 1',\n",
    "                                 yaxis_title='t-SNE Dimension 2',\n",
    "                                 zaxis_title='t-SNE Dimension 3'))\n",
    "fig.show()\n"
   ]
  },
  {
   "cell_type": "markdown",
   "metadata": {},
   "source": [
    "# GMM"
   ]
  },
  {
   "cell_type": "code",
   "execution_count": 71,
   "metadata": {},
   "outputs": [],
   "source": [
    "from sklearn.mixture import GaussianMixture"
   ]
  },
  {
   "cell_type": "code",
   "execution_count": 72,
   "metadata": {},
   "outputs": [],
   "source": [
    "gmm = GaussianMixture(n_components = 12)"
   ]
  },
  {
   "cell_type": "code",
   "execution_count": 73,
   "metadata": {},
   "outputs": [],
   "source": [
    "gmm_6 = GaussianMixture(n_components = 6)"
   ]
  },
  {
   "cell_type": "code",
   "execution_count": 74,
   "metadata": {},
   "outputs": [],
   "source": [
    "gmm.fit(sentence_vectors_nltk)\n",
    "labels_nltk = gmm.predict(sentence_vectors_nltk)"
   ]
  },
  {
   "cell_type": "code",
   "execution_count": 75,
   "metadata": {},
   "outputs": [],
   "source": [
    "gmm.fit(sentence_vectors_spacy)\n",
    "labels_spacy = gmm.predict(sentence_vectors_spacy)"
   ]
  },
  {
   "cell_type": "code",
   "execution_count": 76,
   "metadata": {},
   "outputs": [],
   "source": [
    "gmm.fit(sentence_vectors_testblob)\n",
    "labels_textblob = gmm.predict(sentence_vectors_testblob)"
   ]
  },
  {
   "cell_type": "markdown",
   "metadata": {},
   "source": [
    "# ploting"
   ]
  },
  {
   "cell_type": "code",
   "execution_count": 77,
   "metadata": {},
   "outputs": [],
   "source": [
    "num_clusters=12"
   ]
  },
  {
   "cell_type": "markdown",
   "metadata": {},
   "source": [
    "## textblobl"
   ]
  },
  {
   "cell_type": "code",
   "execution_count": 78,
   "metadata": {},
   "outputs": [],
   "source": [
    "perplexity_value = min(30, len(sentence_vectors_testblob) - 1)\n",
    "tsne = TSNE(n_components=2, perplexity=perplexity_value, random_state=0)\n",
    "reduced_vectors_2d = tsne.fit_transform(sentence_vectors_testblob)"
   ]
  },
  {
   "cell_type": "code",
   "execution_count": 79,
   "metadata": {},
   "outputs": [
    {
     "data": {
      "application/vnd.plotly.v1+json": {
       "config": {
        "plotlyServerURL": "https://plot.ly"
       },
       "data": [
        {
         "mode": "markers",
         "name": "Cluster 1",
         "type": "scatter",
         "x": [
          -3.59391713142395,
          0.9179701209068298,
          -8.07044506072998,
          -6.3863959312438965,
          -0.5327856540679932,
          -1.509507417678833,
          -7.67031192779541,
          3.4312946796417236,
          -7.466763019561768,
          -0.15557174384593964,
          -0.565685510635376,
          -5.265428066253662,
          -1.7588192224502563,
          -5.452980995178223,
          24.97439193725586
         ],
         "y": [
          -19.370927810668945,
          -33.27080154418945,
          -19.968738555908203,
          -16.265480041503906,
          -21.35460662841797,
          -24.342208862304688,
          -27.962196350097656,
          -15.217183113098145,
          -35.993247985839844,
          -17.15866470336914,
          -14.19441032409668,
          -23.875207901000977,
          -28.54853630065918,
          -33.06354904174805,
          -21.306997299194336
         ]
        },
        {
         "mode": "markers",
         "name": "Cluster 2",
         "type": "scatter",
         "x": [
          5.059305191040039,
          5.059305191040039,
          -0.4646685719490051,
          8.61152172088623,
          2.57859468460083,
          11.222631454467773,
          -0.7964257001876831,
          6.048532962799072,
          9.435172080993652,
          -0.11150192469358444,
          7.351154327392578,
          -3.419508218765259,
          13.853863716125488,
          -5.325482368469238,
          11.145302772521973,
          1.3400907516479492,
          17.658687591552734,
          3.744093656539917,
          3.744093656539917,
          3.744093656539917,
          -4.294442653656006,
          7.7041168212890625,
          3.744093656539917,
          4.48691463470459,
          16.300762176513672,
          -7.258370876312256,
          -7.258370876312256,
          -7.258370876312256,
          8.167652130126953,
          1.8445786237716675,
          5.36819314956665,
          -2.1813745498657227,
          1.2649197578430176,
          -2.1953251361846924
         ],
         "y": [
          34.71720886230469,
          34.71720886230469,
          23.65775489807129,
          23.539152145385742,
          25.393800735473633,
          30.79547691345215,
          30.575252532958984,
          25.88543128967285,
          34.82019805908203,
          27.395008087158203,
          40.37077713012695,
          26.606159210205078,
          39.73530197143555,
          38.316444396972656,
          26.62552261352539,
          36.924869537353516,
          26.421154022216797,
          29.7015380859375,
          29.7015380859375,
          29.7015380859375,
          30.599376678466797,
          31.6895751953125,
          29.7015380859375,
          22.61141586303711,
          33.518463134765625,
          47.53581237792969,
          47.53581237792969,
          47.53581237792969,
          28.369020462036133,
          17.733413696289062,
          17.33434295654297,
          34.14891052246094,
          33.32010269165039,
          18.342267990112305
         ]
        },
        {
         "mode": "markers",
         "name": "Cluster 3",
         "type": "scatter",
         "x": [
          3.313333749771118,
          15.628427505493164,
          7.606898307800293,
          7.15472412109375,
          11.306421279907227,
          -8.424670219421387,
          2.9373886585235596,
          5.787153244018555,
          4.640966415405273,
          10.587882995605469,
          5.649143218994141,
          10.504637718200684,
          10.504637718200684
         ],
         "y": [
          -8.712321281433105,
          -23.439550399780273,
          -16.927499771118164,
          -8.904821395874023,
          -20.549400329589844,
          -23.333831787109375,
          -22.12698745727539,
          0.4604378342628479,
          -24.622102737426758,
          -12.85427188873291,
          -20.758739471435547,
          -26.02713966369629,
          -26.02713966369629
         ]
        },
        {
         "mode": "markers",
         "name": "Cluster 4",
         "type": "scatter",
         "x": [
          -8.207987785339355,
          -8.207987785339355,
          4.528301239013672,
          -8.963366508483887,
          -6.313586711883545,
          -11.293543815612793,
          -10.016119956970215,
          -1.3828740119934082,
          -0.4156908094882965
         ],
         "y": [
          9.9229097366333,
          9.9229097366333,
          11.891767501831055,
          -8.094632148742676,
          -6.116795063018799,
          -12.212118148803711,
          -3.4926276206970215,
          14.517955780029297,
          -3.9371871948242188
         ]
        },
        {
         "mode": "markers",
         "name": "Cluster 5",
         "type": "scatter",
         "x": [
          18.85291862487793,
          17.750904083251953,
          23.16884994506836,
          11.89973258972168,
          22.444549560546875,
          13.33372974395752,
          17.76343536376953
         ],
         "y": [
          1.5323271751403809,
          5.470961093902588,
          -2.764613151550293,
          1.921014428138733,
          5.282974720001221,
          -1.1124428510665894,
          -0.8942240476608276
         ]
        },
        {
         "mode": "markers",
         "name": "Cluster 6",
         "type": "scatter",
         "x": [
          10.824387550354004,
          -15.310790061950684,
          10.911602973937988,
          -17.569162368774414,
          -19.009550094604492,
          -16.841522216796875,
          -3.0670459270477295,
          -20.295352935791016,
          -20.400375366210938,
          -24.442827224731445,
          -5.163561820983887,
          -11.577529907226562,
          -6.712958812713623,
          -14.369821548461914,
          -4.779571533203125,
          -9.81216812133789,
          -11.980438232421875,
          14.072495460510254,
          -13.723440170288086,
          -15.610993385314941,
          -2.4051990509033203
         ],
         "y": [
          -32.11201477050781,
          -5.485875606536865,
          8.7611083984375,
          -9.604000091552734,
          -15.349950790405273,
          -22.35520362854004,
          6.781444549560547,
          -18.144479751586914,
          -23.73897933959961,
          -13.758317947387695,
          3.5470407009124756,
          -1.3259369134902954,
          0.6747967004776001,
          -18.654014587402344,
          -2.778773307800293,
          5.798715591430664,
          2.0103259086608887,
          19.38720703125,
          -22.628551483154297,
          -26.18597412109375,
          0.03290490061044693
         ]
        },
        {
         "mode": "markers",
         "name": "Cluster 7",
         "type": "scatter",
         "x": [
          -17.701929092407227,
          0.7774611115455627,
          -17.013708114624023,
          1.900209903717041,
          26.545726776123047,
          -4.843941688537598,
          -21.086915969848633,
          -23.449647903442383,
          -24.94256019592285,
          1.174507975578308,
          -16.88502311706543,
          -10.88691520690918,
          3.5082502365112305,
          -2.1853861808776855,
          15.149772644042969,
          13.631099700927734,
          -14.840468406677246,
          8.922026634216309,
          8.922026634216309,
          1.2307162284851074,
          -13.632030487060547,
          0.4701082408428192
         ],
         "y": [
          10.858363151550293,
          -0.1039326936006546,
          5.614658355712891,
          43.41019821166992,
          -9.282219886779785,
          -10.808683395385742,
          5.237419605255127,
          -4.335363864898682,
          0.4853929281234741,
          3.272941827774048,
          -0.11075020581483841,
          18.92934799194336,
          -4.242598056793213,
          -10.399813652038574,
          -38.61079025268555,
          -39.97321319580078,
          9.706418991088867,
          -4.019759654998779,
          -4.019759654998779,
          -11.374510765075684,
          14.579729080200195,
          -6.329626560211182
         ]
        },
        {
         "mode": "markers",
         "name": "Cluster 8",
         "type": "scatter",
         "x": [
          16.076078414916992,
          14.983226776123047,
          14.934407234191895,
          12.431612014770508,
          25.065893173217773,
          -21.72772979736328,
          21.660381317138672,
          -13.39604377746582,
          25.065893173217773,
          17.045642852783203,
          17.019336700439453,
          -26.53999900817871
         ],
         "y": [
          12.091512680053711,
          -14.534269332885742,
          -10.284513473510742,
          -9.635884284973145,
          -31.828630447387695,
          -28.03561019897461,
          -13.796936988830566,
          -30.758464813232422,
          -31.828630447387695,
          -19.66594123840332,
          -7.131174087524414,
          -6.424575328826904
         ]
        },
        {
         "mode": "markers",
         "name": "Cluster 9",
         "type": "scatter",
         "x": [
          27.001646041870117,
          3.501131534576416,
          27.001646041870117
         ],
         "y": [
          14.908561706542969,
          5.793587684631348,
          14.908561706542969
         ]
        },
        {
         "mode": "markers",
         "name": "Cluster 10",
         "type": "scatter",
         "x": [
          -24.49350357055664,
          -24.49350357055664,
          -20.532272338867188,
          -24.25979232788086
         ],
         "y": [
          22.79915428161621,
          22.79915428161621,
          24.567684173583984,
          18.90747833251953
         ]
        },
        {
         "mode": "markers",
         "name": "Cluster 11",
         "type": "scatter",
         "x": [
          14.536059379577637,
          28.59379005432129,
          1.8193016052246094,
          2.358405590057373,
          1.8597356081008911,
          4.314886093139648,
          6.717848300933838
         ],
         "y": [
          -28.66547203063965,
          -10.05018424987793,
          -30.73941421508789,
          -39.86581039428711,
          -43.76177978515625,
          -40.49903869628906,
          -29.244474411010742
         ]
        },
        {
         "mode": "markers",
         "name": "Cluster 12",
         "type": "scatter",
         "x": [
          -13.92587947845459,
          -9.1126070022583,
          -13.662848472595215,
          -16.67635154724121,
          -16.67635154724121,
          -18.399431228637695
         ],
         "y": [
          21.229581832885742,
          25.813650131225586,
          33.73696517944336,
          31.661151885986328,
          31.661151885986328,
          36.15913391113281
         ]
        }
       ],
       "layout": {
        "legend": {
         "title": {
          "text": "Clusters"
         }
        },
        "template": {
         "data": {
          "bar": [
           {
            "error_x": {
             "color": "#2a3f5f"
            },
            "error_y": {
             "color": "#2a3f5f"
            },
            "marker": {
             "line": {
              "color": "#E5ECF6",
              "width": 0.5
             },
             "pattern": {
              "fillmode": "overlay",
              "size": 10,
              "solidity": 0.2
             }
            },
            "type": "bar"
           }
          ],
          "barpolar": [
           {
            "marker": {
             "line": {
              "color": "#E5ECF6",
              "width": 0.5
             },
             "pattern": {
              "fillmode": "overlay",
              "size": 10,
              "solidity": 0.2
             }
            },
            "type": "barpolar"
           }
          ],
          "carpet": [
           {
            "aaxis": {
             "endlinecolor": "#2a3f5f",
             "gridcolor": "white",
             "linecolor": "white",
             "minorgridcolor": "white",
             "startlinecolor": "#2a3f5f"
            },
            "baxis": {
             "endlinecolor": "#2a3f5f",
             "gridcolor": "white",
             "linecolor": "white",
             "minorgridcolor": "white",
             "startlinecolor": "#2a3f5f"
            },
            "type": "carpet"
           }
          ],
          "choropleth": [
           {
            "colorbar": {
             "outlinewidth": 0,
             "ticks": ""
            },
            "type": "choropleth"
           }
          ],
          "contour": [
           {
            "colorbar": {
             "outlinewidth": 0,
             "ticks": ""
            },
            "colorscale": [
             [
              0,
              "#0d0887"
             ],
             [
              0.1111111111111111,
              "#46039f"
             ],
             [
              0.2222222222222222,
              "#7201a8"
             ],
             [
              0.3333333333333333,
              "#9c179e"
             ],
             [
              0.4444444444444444,
              "#bd3786"
             ],
             [
              0.5555555555555556,
              "#d8576b"
             ],
             [
              0.6666666666666666,
              "#ed7953"
             ],
             [
              0.7777777777777778,
              "#fb9f3a"
             ],
             [
              0.8888888888888888,
              "#fdca26"
             ],
             [
              1,
              "#f0f921"
             ]
            ],
            "type": "contour"
           }
          ],
          "contourcarpet": [
           {
            "colorbar": {
             "outlinewidth": 0,
             "ticks": ""
            },
            "type": "contourcarpet"
           }
          ],
          "heatmap": [
           {
            "colorbar": {
             "outlinewidth": 0,
             "ticks": ""
            },
            "colorscale": [
             [
              0,
              "#0d0887"
             ],
             [
              0.1111111111111111,
              "#46039f"
             ],
             [
              0.2222222222222222,
              "#7201a8"
             ],
             [
              0.3333333333333333,
              "#9c179e"
             ],
             [
              0.4444444444444444,
              "#bd3786"
             ],
             [
              0.5555555555555556,
              "#d8576b"
             ],
             [
              0.6666666666666666,
              "#ed7953"
             ],
             [
              0.7777777777777778,
              "#fb9f3a"
             ],
             [
              0.8888888888888888,
              "#fdca26"
             ],
             [
              1,
              "#f0f921"
             ]
            ],
            "type": "heatmap"
           }
          ],
          "heatmapgl": [
           {
            "colorbar": {
             "outlinewidth": 0,
             "ticks": ""
            },
            "colorscale": [
             [
              0,
              "#0d0887"
             ],
             [
              0.1111111111111111,
              "#46039f"
             ],
             [
              0.2222222222222222,
              "#7201a8"
             ],
             [
              0.3333333333333333,
              "#9c179e"
             ],
             [
              0.4444444444444444,
              "#bd3786"
             ],
             [
              0.5555555555555556,
              "#d8576b"
             ],
             [
              0.6666666666666666,
              "#ed7953"
             ],
             [
              0.7777777777777778,
              "#fb9f3a"
             ],
             [
              0.8888888888888888,
              "#fdca26"
             ],
             [
              1,
              "#f0f921"
             ]
            ],
            "type": "heatmapgl"
           }
          ],
          "histogram": [
           {
            "marker": {
             "pattern": {
              "fillmode": "overlay",
              "size": 10,
              "solidity": 0.2
             }
            },
            "type": "histogram"
           }
          ],
          "histogram2d": [
           {
            "colorbar": {
             "outlinewidth": 0,
             "ticks": ""
            },
            "colorscale": [
             [
              0,
              "#0d0887"
             ],
             [
              0.1111111111111111,
              "#46039f"
             ],
             [
              0.2222222222222222,
              "#7201a8"
             ],
             [
              0.3333333333333333,
              "#9c179e"
             ],
             [
              0.4444444444444444,
              "#bd3786"
             ],
             [
              0.5555555555555556,
              "#d8576b"
             ],
             [
              0.6666666666666666,
              "#ed7953"
             ],
             [
              0.7777777777777778,
              "#fb9f3a"
             ],
             [
              0.8888888888888888,
              "#fdca26"
             ],
             [
              1,
              "#f0f921"
             ]
            ],
            "type": "histogram2d"
           }
          ],
          "histogram2dcontour": [
           {
            "colorbar": {
             "outlinewidth": 0,
             "ticks": ""
            },
            "colorscale": [
             [
              0,
              "#0d0887"
             ],
             [
              0.1111111111111111,
              "#46039f"
             ],
             [
              0.2222222222222222,
              "#7201a8"
             ],
             [
              0.3333333333333333,
              "#9c179e"
             ],
             [
              0.4444444444444444,
              "#bd3786"
             ],
             [
              0.5555555555555556,
              "#d8576b"
             ],
             [
              0.6666666666666666,
              "#ed7953"
             ],
             [
              0.7777777777777778,
              "#fb9f3a"
             ],
             [
              0.8888888888888888,
              "#fdca26"
             ],
             [
              1,
              "#f0f921"
             ]
            ],
            "type": "histogram2dcontour"
           }
          ],
          "mesh3d": [
           {
            "colorbar": {
             "outlinewidth": 0,
             "ticks": ""
            },
            "type": "mesh3d"
           }
          ],
          "parcoords": [
           {
            "line": {
             "colorbar": {
              "outlinewidth": 0,
              "ticks": ""
             }
            },
            "type": "parcoords"
           }
          ],
          "pie": [
           {
            "automargin": true,
            "type": "pie"
           }
          ],
          "scatter": [
           {
            "fillpattern": {
             "fillmode": "overlay",
             "size": 10,
             "solidity": 0.2
            },
            "type": "scatter"
           }
          ],
          "scatter3d": [
           {
            "line": {
             "colorbar": {
              "outlinewidth": 0,
              "ticks": ""
             }
            },
            "marker": {
             "colorbar": {
              "outlinewidth": 0,
              "ticks": ""
             }
            },
            "type": "scatter3d"
           }
          ],
          "scattercarpet": [
           {
            "marker": {
             "colorbar": {
              "outlinewidth": 0,
              "ticks": ""
             }
            },
            "type": "scattercarpet"
           }
          ],
          "scattergeo": [
           {
            "marker": {
             "colorbar": {
              "outlinewidth": 0,
              "ticks": ""
             }
            },
            "type": "scattergeo"
           }
          ],
          "scattergl": [
           {
            "marker": {
             "colorbar": {
              "outlinewidth": 0,
              "ticks": ""
             }
            },
            "type": "scattergl"
           }
          ],
          "scattermapbox": [
           {
            "marker": {
             "colorbar": {
              "outlinewidth": 0,
              "ticks": ""
             }
            },
            "type": "scattermapbox"
           }
          ],
          "scatterpolar": [
           {
            "marker": {
             "colorbar": {
              "outlinewidth": 0,
              "ticks": ""
             }
            },
            "type": "scatterpolar"
           }
          ],
          "scatterpolargl": [
           {
            "marker": {
             "colorbar": {
              "outlinewidth": 0,
              "ticks": ""
             }
            },
            "type": "scatterpolargl"
           }
          ],
          "scatterternary": [
           {
            "marker": {
             "colorbar": {
              "outlinewidth": 0,
              "ticks": ""
             }
            },
            "type": "scatterternary"
           }
          ],
          "surface": [
           {
            "colorbar": {
             "outlinewidth": 0,
             "ticks": ""
            },
            "colorscale": [
             [
              0,
              "#0d0887"
             ],
             [
              0.1111111111111111,
              "#46039f"
             ],
             [
              0.2222222222222222,
              "#7201a8"
             ],
             [
              0.3333333333333333,
              "#9c179e"
             ],
             [
              0.4444444444444444,
              "#bd3786"
             ],
             [
              0.5555555555555556,
              "#d8576b"
             ],
             [
              0.6666666666666666,
              "#ed7953"
             ],
             [
              0.7777777777777778,
              "#fb9f3a"
             ],
             [
              0.8888888888888888,
              "#fdca26"
             ],
             [
              1,
              "#f0f921"
             ]
            ],
            "type": "surface"
           }
          ],
          "table": [
           {
            "cells": {
             "fill": {
              "color": "#EBF0F8"
             },
             "line": {
              "color": "white"
             }
            },
            "header": {
             "fill": {
              "color": "#C8D4E3"
             },
             "line": {
              "color": "white"
             }
            },
            "type": "table"
           }
          ]
         },
         "layout": {
          "annotationdefaults": {
           "arrowcolor": "#2a3f5f",
           "arrowhead": 0,
           "arrowwidth": 1
          },
          "autotypenumbers": "strict",
          "coloraxis": {
           "colorbar": {
            "outlinewidth": 0,
            "ticks": ""
           }
          },
          "colorscale": {
           "diverging": [
            [
             0,
             "#8e0152"
            ],
            [
             0.1,
             "#c51b7d"
            ],
            [
             0.2,
             "#de77ae"
            ],
            [
             0.3,
             "#f1b6da"
            ],
            [
             0.4,
             "#fde0ef"
            ],
            [
             0.5,
             "#f7f7f7"
            ],
            [
             0.6,
             "#e6f5d0"
            ],
            [
             0.7,
             "#b8e186"
            ],
            [
             0.8,
             "#7fbc41"
            ],
            [
             0.9,
             "#4d9221"
            ],
            [
             1,
             "#276419"
            ]
           ],
           "sequential": [
            [
             0,
             "#0d0887"
            ],
            [
             0.1111111111111111,
             "#46039f"
            ],
            [
             0.2222222222222222,
             "#7201a8"
            ],
            [
             0.3333333333333333,
             "#9c179e"
            ],
            [
             0.4444444444444444,
             "#bd3786"
            ],
            [
             0.5555555555555556,
             "#d8576b"
            ],
            [
             0.6666666666666666,
             "#ed7953"
            ],
            [
             0.7777777777777778,
             "#fb9f3a"
            ],
            [
             0.8888888888888888,
             "#fdca26"
            ],
            [
             1,
             "#f0f921"
            ]
           ],
           "sequentialminus": [
            [
             0,
             "#0d0887"
            ],
            [
             0.1111111111111111,
             "#46039f"
            ],
            [
             0.2222222222222222,
             "#7201a8"
            ],
            [
             0.3333333333333333,
             "#9c179e"
            ],
            [
             0.4444444444444444,
             "#bd3786"
            ],
            [
             0.5555555555555556,
             "#d8576b"
            ],
            [
             0.6666666666666666,
             "#ed7953"
            ],
            [
             0.7777777777777778,
             "#fb9f3a"
            ],
            [
             0.8888888888888888,
             "#fdca26"
            ],
            [
             1,
             "#f0f921"
            ]
           ]
          },
          "colorway": [
           "#636efa",
           "#EF553B",
           "#00cc96",
           "#ab63fa",
           "#FFA15A",
           "#19d3f3",
           "#FF6692",
           "#B6E880",
           "#FF97FF",
           "#FECB52"
          ],
          "font": {
           "color": "#2a3f5f"
          },
          "geo": {
           "bgcolor": "white",
           "lakecolor": "white",
           "landcolor": "#E5ECF6",
           "showlakes": true,
           "showland": true,
           "subunitcolor": "white"
          },
          "hoverlabel": {
           "align": "left"
          },
          "hovermode": "closest",
          "mapbox": {
           "style": "light"
          },
          "paper_bgcolor": "white",
          "plot_bgcolor": "#E5ECF6",
          "polar": {
           "angularaxis": {
            "gridcolor": "white",
            "linecolor": "white",
            "ticks": ""
           },
           "bgcolor": "#E5ECF6",
           "radialaxis": {
            "gridcolor": "white",
            "linecolor": "white",
            "ticks": ""
           }
          },
          "scene": {
           "xaxis": {
            "backgroundcolor": "#E5ECF6",
            "gridcolor": "white",
            "gridwidth": 2,
            "linecolor": "white",
            "showbackground": true,
            "ticks": "",
            "zerolinecolor": "white"
           },
           "yaxis": {
            "backgroundcolor": "#E5ECF6",
            "gridcolor": "white",
            "gridwidth": 2,
            "linecolor": "white",
            "showbackground": true,
            "ticks": "",
            "zerolinecolor": "white"
           },
           "zaxis": {
            "backgroundcolor": "#E5ECF6",
            "gridcolor": "white",
            "gridwidth": 2,
            "linecolor": "white",
            "showbackground": true,
            "ticks": "",
            "zerolinecolor": "white"
           }
          },
          "shapedefaults": {
           "line": {
            "color": "#2a3f5f"
           }
          },
          "ternary": {
           "aaxis": {
            "gridcolor": "white",
            "linecolor": "white",
            "ticks": ""
           },
           "baxis": {
            "gridcolor": "white",
            "linecolor": "white",
            "ticks": ""
           },
           "bgcolor": "#E5ECF6",
           "caxis": {
            "gridcolor": "white",
            "linecolor": "white",
            "ticks": ""
           }
          },
          "title": {
           "x": 0.05
          },
          "xaxis": {
           "automargin": true,
           "gridcolor": "white",
           "linecolor": "white",
           "ticks": "",
           "title": {
            "standoff": 15
           },
           "zerolinecolor": "white",
           "zerolinewidth": 2
          },
          "yaxis": {
           "automargin": true,
           "gridcolor": "white",
           "linecolor": "white",
           "ticks": "",
           "title": {
            "standoff": 15
           },
           "zerolinecolor": "white",
           "zerolinewidth": 2
          }
         }
        },
        "title": {
         "text": "Sentence Clusters Visualized with t-SNE(Textblob)"
        },
        "xaxis": {
         "title": {
          "text": "t-SNE Dimension 1"
         }
        },
        "yaxis": {
         "title": {
          "text": "t-SNE Dimension 2"
         }
        }
       }
      }
     },
     "metadata": {},
     "output_type": "display_data"
    }
   ],
   "source": [
    "\n",
    "\n",
    "fig = go.Figure()\n",
    "\n",
    "for i in range(num_clusters):\n",
    "    indices = labels_textblob == i\n",
    "    fig.add_trace(go.Scatter(\n",
    "        x=reduced_vectors_2d[indices, 0],\n",
    "        y=reduced_vectors_2d[indices, 1],\n",
    "        mode='markers',\n",
    "        name=f'Cluster {i + 1}'\n",
    "    ))\n",
    "\n",
    "fig.update_layout(\n",
    "    title='Sentence Clusters Visualized with t-SNE(Textblob)',\n",
    "    xaxis_title='t-SNE Dimension 1',\n",
    "    yaxis_title='t-SNE Dimension 2',\n",
    "    legend_title=\"Clusters\"\n",
    ")\n",
    "\n",
    "pio.show(fig)\n"
   ]
  },
  {
   "cell_type": "code",
   "execution_count": 80,
   "metadata": {},
   "outputs": [
    {
     "data": {
      "application/vnd.plotly.v1+json": {
       "config": {
        "plotlyServerURL": "https://plot.ly"
       },
       "data": [
        {
         "mode": "markers",
         "name": "Cluster 1",
         "type": "scatter3d",
         "x": [
          68.01885223388672,
          47.896812438964844,
          98.15576934814453,
          101.81806182861328,
          47.43317413330078,
          63.308040618896484,
          81.32064819335938,
          62.27871322631836,
          73.075927734375,
          54.25270080566406,
          33.111839294433594,
          -77.05963134765625,
          -25.962238311767578,
          70.94400787353516,
          45.03908157348633
         ],
         "y": [
          33.25822067260742,
          -1.191724419593811,
          10.27905559539795,
          35.90878677368164,
          15.905519485473633,
          18.205280303955078,
          72.6323471069336,
          52.04102325439453,
          -53.3714714050293,
          47.33475112915039,
          44.85009765625,
          4.796885967254639,
          65.23858642578125,
          -14.644342422485352,
          74.40843963623047
         ],
         "z": [
          -25.43091583251953,
          -100.6014175415039,
          -46.7080078125,
          -25.551925659179688,
          -39.268348693847656,
          -61.89809036254883,
          -35.19123840332031,
          -80.06442260742188,
          67.39230346679688,
          -48.663238525390625,
          -61.022953033447266,
          -49.38211441040039,
          -82.89925384521484,
          -68.37765502929688,
          -54.79735565185547
         ]
        },
        {
         "mode": "markers",
         "name": "Cluster 2",
         "type": "scatter3d",
         "x": [
          -11.12751579284668,
          -11.12751579284668,
          -62.81272888183594,
          95.84780883789062,
          -24.458219528198242,
          -12.162477493286133,
          -71.56228637695312,
          -66.23388671875,
          -25.555871963500977,
          -38.721710205078125,
          67.29886627197266,
          -8.956820487976074,
          108.40030670166016,
          -50.78752517700195,
          -47.892601013183594,
          -33.53532409667969,
          42.881568908691406,
          -40.58608627319336,
          -40.58608627319336,
          -40.58608627319336,
          -64.18990325927734,
          -41.79237365722656,
          -40.58608627319336,
          3.3106167316436768,
          108.76335906982422,
          -50.49156188964844,
          -50.49156188964844,
          -50.49156188964844,
          -44.1387939453125,
          -42.85981369018555,
          -45.359493255615234,
          105.71955871582031,
          -53.971378326416016,
          -54.16438674926758
         ],
         "y": [
          43.271671295166016,
          43.271671295166016,
          36.14463806152344,
          9.084858894348145,
          33.83357238769531,
          3.996807813644409,
          6.2176690101623535,
          -7.713212013244629,
          -21.218772888183594,
          -8.429059028625488,
          -97.71475982666016,
          13.637938499450684,
          -45.6670036315918,
          -42.89073181152344,
          18.054048538208008,
          24.708911895751953,
          -67.08155059814453,
          9.197336196899414,
          9.197336196899414,
          9.197336196899414,
          22.802011489868164,
          45.21417236328125,
          9.197336196899414,
          104.68608856201172,
          -47.778900146484375,
          -85.08699798583984,
          -85.08699798583984,
          -85.08699798583984,
          -11.978484153747559,
          5.823566436767578,
          8.8139066696167,
          -23.085674285888672,
          -25.3647518157959,
          25.598621368408203
         ],
         "z": [
          30.914587020874023,
          30.914587020874023,
          43.424110412597656,
          9.098709106445312,
          58.44622039794922,
          12.730196952819824,
          49.90751647949219,
          16.000246047973633,
          24.488101959228516,
          -0.29878178238868713,
          34.137908935546875,
          41.024986267089844,
          36.82651901245117,
          9.746119499206543,
          68.66140747070312,
          2.1043922901153564,
          34.77476501464844,
          33.06616973876953,
          33.06616973876953,
          33.06616973876953,
          9.409646034240723,
          25.290546417236328,
          33.06616973876953,
          -9.524490356445312,
          -34.21299362182617,
          35.21803283691406,
          35.21803283691406,
          35.21803283691406,
          63.8503303527832,
          -53.89887237548828,
          -28.214088439941406,
          2.7564890384674072,
          38.14326477050781,
          -73.92730712890625
         ]
        },
        {
         "mode": "markers",
         "name": "Cluster 3",
         "type": "scatter3d",
         "x": [
          35.370582580566406,
          54.34275436401367,
          -14.9527587890625,
          74.76860046386719,
          54.3912467956543,
          78.89781188964844,
          36.64286804199219,
          9.579005241394043,
          31.004552841186523,
          51.22320556640625,
          12.880755424499512,
          59.614784240722656,
          59.614784240722656
         ],
         "y": [
          51.65128707885742,
          -63.89437484741211,
          19.193050384521484,
          -33.363094329833984,
          -41.86929702758789,
          -0.7481485605239868,
          3.940951347351074,
          41.41439437866211,
          -14.76724624633789,
          37.039798736572266,
          9.38599681854248,
          -9.564007759094238,
          -9.564007759094238
         ],
         "z": [
          -18.12281608581543,
          -8.350618362426758,
          -86.63716125488281,
          -18.310157775878906,
          21.85621452331543,
          -27.156957626342773,
          -65.1169204711914,
          -94.73863983154297,
          -48.424232482910156,
          87.08826446533203,
          -64.29015350341797,
          18.957000732421875,
          18.957000732421875
         ]
        },
        {
         "mode": "markers",
         "name": "Cluster 4",
         "type": "scatter3d",
         "x": [
          15.63565731048584,
          15.63565731048584,
          -70.9299545288086,
          11.594376564025879,
          82.19876861572266,
          41.002891540527344,
          -0.38931459188461304,
          -58.92361068725586,
          2.8381357192993164
         ],
         "y": [
          -35.82059860229492,
          -35.82059860229492,
          -88.83740234375,
          54.128963470458984,
          -64.70680236816406,
          89.83296203613281,
          63.6513557434082,
          -2.844424247741699,
          -52.41127395629883
         ],
         "z": [
          -4.814188003540039,
          -4.814188003540039,
          -9.878875732421875,
          76.22550201416016,
          3.130188465118408,
          -9.806649208068848,
          -46.82108688354492,
          -82.87882232666016,
          31.91493034362793
         ]
        },
        {
         "mode": "markers",
         "name": "Cluster 5",
         "type": "scatter3d",
         "x": [
          -17.618738174438477,
          -29.951292037963867,
          2.8264920711517334,
          -91.0211410522461,
          -74.08910369873047,
          0.993510365486145,
          23.421791076660156
         ],
         "y": [
          -49.401939392089844,
          -76.0088119506836,
          -116.93846130371094,
          70.37498474121094,
          -65.34413146972656,
          -22.498456954956055,
          -27.845104217529297
         ],
         "z": [
          3.0228779315948486,
          -4.383391857147217,
          -25.938751220703125,
          -21.343505859375,
          -56.21421432495117,
          45.79483413696289,
          29.72357177734375
         ]
        },
        {
         "mode": "markers",
         "name": "Cluster 6",
         "type": "scatter3d",
         "x": [
          76.81116485595703,
          12.003993034362793,
          -42.82312774658203,
          -37.17094421386719,
          -25.119205474853516,
          2.707986831665039,
          31.39670753479004,
          -17.179101943969727,
          -4.367466449737549,
          -45.822784423828125,
          10.657042503356934,
          -73.40204620361328,
          7.013852119445801,
          31.418798446655273,
          4.610270023345947,
          12.023993492126465,
          -39.92691421508789,
          -57.71552658081055,
          11.83500862121582,
          -12.804709434509277,
          -4.66253662109375
         ],
         "y": [
          -20.928518295288086,
          23.317140579223633,
          48.64576721191406,
          100.86532592773438,
          -47.06644821166992,
          -42.958763122558594,
          -96.63217163085938,
          -63.400047302246094,
          -26.322357177734375,
          -39.31554412841797,
          -80.59504699707031,
          -51.62007141113281,
          -71.83370208740234,
          -39.598697662353516,
          14.393658638000488,
          -46.87421417236328,
          -73.00421905517578,
          57.286678314208984,
          -18.97160530090332,
          -19.278003692626953,
          -11.840726852416992
         ],
         "z": [
          43.295013427734375,
          103.45215606689453,
          91.57514953613281,
          -31.05135154724121,
          -37.65061950683594,
          -72.62371063232422,
          -2.8577890396118164,
          -54.462440490722656,
          -94.3864517211914,
          -66.33912658691406,
          -15.136712074279785,
          -10.518564224243164,
          9.388510704040527,
          -82.38388061523438,
          -12.999300003051758,
          -32.294010162353516,
          73.5575942993164,
          -3.028597593307495,
          113.42039489746094,
          -65.25655364990234,
          -25.790687561035156
         ]
        },
        {
         "mode": "markers",
         "name": "Cluster 7",
         "type": "scatter3d",
         "x": [
          41.93659591674805,
          18.85542869567871,
          28.127859115600586,
          -27.18260383605957,
          -38.35749816894531,
          24.098831176757812,
          31.20387840270996,
          26.94109535217285,
          10.458264350891113,
          7.650907039642334,
          -40.09465789794922,
          -86.538818359375,
          -11.24592399597168,
          38.67694091796875,
          89.53787231445312,
          72.72996520996094,
          28.8408260345459,
          -3.786173105239868,
          -3.786173105239868,
          22.716066360473633,
          -61.10558319091797,
          15.977218627929688
         ],
         "y": [
          -11.280413627624512,
          8.352102279663086,
          -49.58292770385742,
          -46.41407775878906,
          55.18181610107422,
          32.161338806152344,
          -58.70185089111328,
          0.8656333088874817,
          -81.79322814941406,
          64.45472717285156,
          -83.70820617675781,
          -11.869527816772461,
          27.13471031188965,
          25.645362854003906,
          66.83160400390625,
          56.39725112915039,
          -17.383028030395508,
          -5.688567161560059,
          -5.688567161560059,
          1.05433988571167,
          -26.599863052368164,
          30.978748321533203
         ],
         "z": [
          88.06258392333984,
          58.99515151977539,
          67.72007751464844,
          52.746978759765625,
          -28.55608558654785,
          16.12049674987793,
          95.77033233642578,
          -13.268681526184082,
          63.90953826904297,
          -5.619357109069824,
          -40.90571975708008,
          -11.314753532409668,
          -45.94822311401367,
          -2.246769428253174,
          13.809833526611328,
          9.815649032592773,
          68.10701751708984,
          73.16171264648438,
          73.16171264648438,
          26.44186019897461,
          -27.668493270874023,
          -34.901939392089844
         ]
        },
        {
         "mode": "markers",
         "name": "Cluster 8",
         "type": "scatter3d",
         "x": [
          -73.1827163696289,
          39.74662780761719,
          41.7244873046875,
          -5.82694149017334,
          103.15238952636719,
          -22.38889503479004,
          -20.43588638305664,
          18.64076805114746,
          103.15238952636719,
          60.97956085205078,
          64.33323669433594,
          46.554656982421875
         ],
         "y": [
          62.34353256225586,
          34.6188850402832,
          67.15125274658203,
          -35.71778106689453,
          21.060497283935547,
          -52.024784088134766,
          89.9190444946289,
          -82.26368713378906,
          21.060497283935547,
          7.885459899902344,
          63.010013580322266,
          -15.109161376953125
         ],
         "z": [
          69.77128601074219,
          47.97523498535156,
          36.256629943847656,
          79.96861267089844,
          52.78160858154297,
          -96.84748077392578,
          55.755706787109375,
          -64.965576171875,
          52.78160858154297,
          60.505645751953125,
          61.232200622558594,
          -16.118846893310547
         ]
        },
        {
         "mode": "markers",
         "name": "Cluster 9",
         "type": "scatter3d",
         "x": [
          -21.126596450805664,
          -5.603654384613037,
          -21.126596450805664
         ],
         "y": [
          84.18631744384766,
          41.41261672973633,
          84.18631744384766
         ],
         "z": [
          9.514913558959961,
          -9.537983894348145,
          9.514913558959961
         ]
        },
        {
         "mode": "markers",
         "name": "Cluster 10",
         "type": "scatter3d",
         "x": [
          -107.03184509277344,
          -107.03184509277344,
          -112.73959350585938,
          -104.9327621459961
         ],
         "y": [
          23.22176742553711,
          23.22176742553711,
          -2.0819132328033447,
          34.73780822753906
         ],
         "z": [
          29.02617645263672,
          29.02617645263672,
          10.816247940063477,
          2.2551355361938477
         ]
        },
        {
         "mode": "markers",
         "name": "Cluster 11",
         "type": "scatter3d",
         "x": [
          25.69911003112793,
          -46.64863586425781,
          -75.46041870117188,
          63.56319046020508,
          11.153088569641113,
          49.87830352783203,
          64.69549560546875
         ],
         "y": [
          91.078125,
          63.82457733154297,
          35.959678649902344,
          -62.475013732910156,
          99.80509185791016,
          -52.45763397216797,
          21.073986053466797
         ],
         "z": [
          65.7218017578125,
          -45.50313949584961,
          -41.07794189453125,
          -57.18833923339844,
          -60.60890579223633,
          -46.020503997802734,
          26.40611457824707
         ]
        },
        {
         "mode": "markers",
         "name": "Cluster 12",
         "type": "scatter3d",
         "x": [
          -102.41874694824219,
          -70.97286987304688,
          -92.94420623779297,
          -98.62286376953125,
          -98.62286376953125,
          -80.45209503173828
         ],
         "y": [
          -28.308359146118164,
          77.38560485839844,
          -49.19527053833008,
          -23.73329734802246,
          -23.73329734802246,
          -38.2535514831543
         ],
         "z": [
          -29.877872467041016,
          27.85453987121582,
          34.31044006347656,
          44.10603713989258,
          44.10603713989258,
          68.95320892333984
         ]
        }
       ],
       "layout": {
        "scene": {
         "xaxis": {
          "title": {
           "text": "t-SNE Dimension 1"
          }
         },
         "yaxis": {
          "title": {
           "text": "t-SNE Dimension 2"
          }
         },
         "zaxis": {
          "title": {
           "text": "t-SNE Dimension 3"
          }
         }
        },
        "template": {
         "data": {
          "bar": [
           {
            "error_x": {
             "color": "#2a3f5f"
            },
            "error_y": {
             "color": "#2a3f5f"
            },
            "marker": {
             "line": {
              "color": "#E5ECF6",
              "width": 0.5
             },
             "pattern": {
              "fillmode": "overlay",
              "size": 10,
              "solidity": 0.2
             }
            },
            "type": "bar"
           }
          ],
          "barpolar": [
           {
            "marker": {
             "line": {
              "color": "#E5ECF6",
              "width": 0.5
             },
             "pattern": {
              "fillmode": "overlay",
              "size": 10,
              "solidity": 0.2
             }
            },
            "type": "barpolar"
           }
          ],
          "carpet": [
           {
            "aaxis": {
             "endlinecolor": "#2a3f5f",
             "gridcolor": "white",
             "linecolor": "white",
             "minorgridcolor": "white",
             "startlinecolor": "#2a3f5f"
            },
            "baxis": {
             "endlinecolor": "#2a3f5f",
             "gridcolor": "white",
             "linecolor": "white",
             "minorgridcolor": "white",
             "startlinecolor": "#2a3f5f"
            },
            "type": "carpet"
           }
          ],
          "choropleth": [
           {
            "colorbar": {
             "outlinewidth": 0,
             "ticks": ""
            },
            "type": "choropleth"
           }
          ],
          "contour": [
           {
            "colorbar": {
             "outlinewidth": 0,
             "ticks": ""
            },
            "colorscale": [
             [
              0,
              "#0d0887"
             ],
             [
              0.1111111111111111,
              "#46039f"
             ],
             [
              0.2222222222222222,
              "#7201a8"
             ],
             [
              0.3333333333333333,
              "#9c179e"
             ],
             [
              0.4444444444444444,
              "#bd3786"
             ],
             [
              0.5555555555555556,
              "#d8576b"
             ],
             [
              0.6666666666666666,
              "#ed7953"
             ],
             [
              0.7777777777777778,
              "#fb9f3a"
             ],
             [
              0.8888888888888888,
              "#fdca26"
             ],
             [
              1,
              "#f0f921"
             ]
            ],
            "type": "contour"
           }
          ],
          "contourcarpet": [
           {
            "colorbar": {
             "outlinewidth": 0,
             "ticks": ""
            },
            "type": "contourcarpet"
           }
          ],
          "heatmap": [
           {
            "colorbar": {
             "outlinewidth": 0,
             "ticks": ""
            },
            "colorscale": [
             [
              0,
              "#0d0887"
             ],
             [
              0.1111111111111111,
              "#46039f"
             ],
             [
              0.2222222222222222,
              "#7201a8"
             ],
             [
              0.3333333333333333,
              "#9c179e"
             ],
             [
              0.4444444444444444,
              "#bd3786"
             ],
             [
              0.5555555555555556,
              "#d8576b"
             ],
             [
              0.6666666666666666,
              "#ed7953"
             ],
             [
              0.7777777777777778,
              "#fb9f3a"
             ],
             [
              0.8888888888888888,
              "#fdca26"
             ],
             [
              1,
              "#f0f921"
             ]
            ],
            "type": "heatmap"
           }
          ],
          "heatmapgl": [
           {
            "colorbar": {
             "outlinewidth": 0,
             "ticks": ""
            },
            "colorscale": [
             [
              0,
              "#0d0887"
             ],
             [
              0.1111111111111111,
              "#46039f"
             ],
             [
              0.2222222222222222,
              "#7201a8"
             ],
             [
              0.3333333333333333,
              "#9c179e"
             ],
             [
              0.4444444444444444,
              "#bd3786"
             ],
             [
              0.5555555555555556,
              "#d8576b"
             ],
             [
              0.6666666666666666,
              "#ed7953"
             ],
             [
              0.7777777777777778,
              "#fb9f3a"
             ],
             [
              0.8888888888888888,
              "#fdca26"
             ],
             [
              1,
              "#f0f921"
             ]
            ],
            "type": "heatmapgl"
           }
          ],
          "histogram": [
           {
            "marker": {
             "pattern": {
              "fillmode": "overlay",
              "size": 10,
              "solidity": 0.2
             }
            },
            "type": "histogram"
           }
          ],
          "histogram2d": [
           {
            "colorbar": {
             "outlinewidth": 0,
             "ticks": ""
            },
            "colorscale": [
             [
              0,
              "#0d0887"
             ],
             [
              0.1111111111111111,
              "#46039f"
             ],
             [
              0.2222222222222222,
              "#7201a8"
             ],
             [
              0.3333333333333333,
              "#9c179e"
             ],
             [
              0.4444444444444444,
              "#bd3786"
             ],
             [
              0.5555555555555556,
              "#d8576b"
             ],
             [
              0.6666666666666666,
              "#ed7953"
             ],
             [
              0.7777777777777778,
              "#fb9f3a"
             ],
             [
              0.8888888888888888,
              "#fdca26"
             ],
             [
              1,
              "#f0f921"
             ]
            ],
            "type": "histogram2d"
           }
          ],
          "histogram2dcontour": [
           {
            "colorbar": {
             "outlinewidth": 0,
             "ticks": ""
            },
            "colorscale": [
             [
              0,
              "#0d0887"
             ],
             [
              0.1111111111111111,
              "#46039f"
             ],
             [
              0.2222222222222222,
              "#7201a8"
             ],
             [
              0.3333333333333333,
              "#9c179e"
             ],
             [
              0.4444444444444444,
              "#bd3786"
             ],
             [
              0.5555555555555556,
              "#d8576b"
             ],
             [
              0.6666666666666666,
              "#ed7953"
             ],
             [
              0.7777777777777778,
              "#fb9f3a"
             ],
             [
              0.8888888888888888,
              "#fdca26"
             ],
             [
              1,
              "#f0f921"
             ]
            ],
            "type": "histogram2dcontour"
           }
          ],
          "mesh3d": [
           {
            "colorbar": {
             "outlinewidth": 0,
             "ticks": ""
            },
            "type": "mesh3d"
           }
          ],
          "parcoords": [
           {
            "line": {
             "colorbar": {
              "outlinewidth": 0,
              "ticks": ""
             }
            },
            "type": "parcoords"
           }
          ],
          "pie": [
           {
            "automargin": true,
            "type": "pie"
           }
          ],
          "scatter": [
           {
            "fillpattern": {
             "fillmode": "overlay",
             "size": 10,
             "solidity": 0.2
            },
            "type": "scatter"
           }
          ],
          "scatter3d": [
           {
            "line": {
             "colorbar": {
              "outlinewidth": 0,
              "ticks": ""
             }
            },
            "marker": {
             "colorbar": {
              "outlinewidth": 0,
              "ticks": ""
             }
            },
            "type": "scatter3d"
           }
          ],
          "scattercarpet": [
           {
            "marker": {
             "colorbar": {
              "outlinewidth": 0,
              "ticks": ""
             }
            },
            "type": "scattercarpet"
           }
          ],
          "scattergeo": [
           {
            "marker": {
             "colorbar": {
              "outlinewidth": 0,
              "ticks": ""
             }
            },
            "type": "scattergeo"
           }
          ],
          "scattergl": [
           {
            "marker": {
             "colorbar": {
              "outlinewidth": 0,
              "ticks": ""
             }
            },
            "type": "scattergl"
           }
          ],
          "scattermapbox": [
           {
            "marker": {
             "colorbar": {
              "outlinewidth": 0,
              "ticks": ""
             }
            },
            "type": "scattermapbox"
           }
          ],
          "scatterpolar": [
           {
            "marker": {
             "colorbar": {
              "outlinewidth": 0,
              "ticks": ""
             }
            },
            "type": "scatterpolar"
           }
          ],
          "scatterpolargl": [
           {
            "marker": {
             "colorbar": {
              "outlinewidth": 0,
              "ticks": ""
             }
            },
            "type": "scatterpolargl"
           }
          ],
          "scatterternary": [
           {
            "marker": {
             "colorbar": {
              "outlinewidth": 0,
              "ticks": ""
             }
            },
            "type": "scatterternary"
           }
          ],
          "surface": [
           {
            "colorbar": {
             "outlinewidth": 0,
             "ticks": ""
            },
            "colorscale": [
             [
              0,
              "#0d0887"
             ],
             [
              0.1111111111111111,
              "#46039f"
             ],
             [
              0.2222222222222222,
              "#7201a8"
             ],
             [
              0.3333333333333333,
              "#9c179e"
             ],
             [
              0.4444444444444444,
              "#bd3786"
             ],
             [
              0.5555555555555556,
              "#d8576b"
             ],
             [
              0.6666666666666666,
              "#ed7953"
             ],
             [
              0.7777777777777778,
              "#fb9f3a"
             ],
             [
              0.8888888888888888,
              "#fdca26"
             ],
             [
              1,
              "#f0f921"
             ]
            ],
            "type": "surface"
           }
          ],
          "table": [
           {
            "cells": {
             "fill": {
              "color": "#EBF0F8"
             },
             "line": {
              "color": "white"
             }
            },
            "header": {
             "fill": {
              "color": "#C8D4E3"
             },
             "line": {
              "color": "white"
             }
            },
            "type": "table"
           }
          ]
         },
         "layout": {
          "annotationdefaults": {
           "arrowcolor": "#2a3f5f",
           "arrowhead": 0,
           "arrowwidth": 1
          },
          "autotypenumbers": "strict",
          "coloraxis": {
           "colorbar": {
            "outlinewidth": 0,
            "ticks": ""
           }
          },
          "colorscale": {
           "diverging": [
            [
             0,
             "#8e0152"
            ],
            [
             0.1,
             "#c51b7d"
            ],
            [
             0.2,
             "#de77ae"
            ],
            [
             0.3,
             "#f1b6da"
            ],
            [
             0.4,
             "#fde0ef"
            ],
            [
             0.5,
             "#f7f7f7"
            ],
            [
             0.6,
             "#e6f5d0"
            ],
            [
             0.7,
             "#b8e186"
            ],
            [
             0.8,
             "#7fbc41"
            ],
            [
             0.9,
             "#4d9221"
            ],
            [
             1,
             "#276419"
            ]
           ],
           "sequential": [
            [
             0,
             "#0d0887"
            ],
            [
             0.1111111111111111,
             "#46039f"
            ],
            [
             0.2222222222222222,
             "#7201a8"
            ],
            [
             0.3333333333333333,
             "#9c179e"
            ],
            [
             0.4444444444444444,
             "#bd3786"
            ],
            [
             0.5555555555555556,
             "#d8576b"
            ],
            [
             0.6666666666666666,
             "#ed7953"
            ],
            [
             0.7777777777777778,
             "#fb9f3a"
            ],
            [
             0.8888888888888888,
             "#fdca26"
            ],
            [
             1,
             "#f0f921"
            ]
           ],
           "sequentialminus": [
            [
             0,
             "#0d0887"
            ],
            [
             0.1111111111111111,
             "#46039f"
            ],
            [
             0.2222222222222222,
             "#7201a8"
            ],
            [
             0.3333333333333333,
             "#9c179e"
            ],
            [
             0.4444444444444444,
             "#bd3786"
            ],
            [
             0.5555555555555556,
             "#d8576b"
            ],
            [
             0.6666666666666666,
             "#ed7953"
            ],
            [
             0.7777777777777778,
             "#fb9f3a"
            ],
            [
             0.8888888888888888,
             "#fdca26"
            ],
            [
             1,
             "#f0f921"
            ]
           ]
          },
          "colorway": [
           "#636efa",
           "#EF553B",
           "#00cc96",
           "#ab63fa",
           "#FFA15A",
           "#19d3f3",
           "#FF6692",
           "#B6E880",
           "#FF97FF",
           "#FECB52"
          ],
          "font": {
           "color": "#2a3f5f"
          },
          "geo": {
           "bgcolor": "white",
           "lakecolor": "white",
           "landcolor": "#E5ECF6",
           "showlakes": true,
           "showland": true,
           "subunitcolor": "white"
          },
          "hoverlabel": {
           "align": "left"
          },
          "hovermode": "closest",
          "mapbox": {
           "style": "light"
          },
          "paper_bgcolor": "white",
          "plot_bgcolor": "#E5ECF6",
          "polar": {
           "angularaxis": {
            "gridcolor": "white",
            "linecolor": "white",
            "ticks": ""
           },
           "bgcolor": "#E5ECF6",
           "radialaxis": {
            "gridcolor": "white",
            "linecolor": "white",
            "ticks": ""
           }
          },
          "scene": {
           "xaxis": {
            "backgroundcolor": "#E5ECF6",
            "gridcolor": "white",
            "gridwidth": 2,
            "linecolor": "white",
            "showbackground": true,
            "ticks": "",
            "zerolinecolor": "white"
           },
           "yaxis": {
            "backgroundcolor": "#E5ECF6",
            "gridcolor": "white",
            "gridwidth": 2,
            "linecolor": "white",
            "showbackground": true,
            "ticks": "",
            "zerolinecolor": "white"
           },
           "zaxis": {
            "backgroundcolor": "#E5ECF6",
            "gridcolor": "white",
            "gridwidth": 2,
            "linecolor": "white",
            "showbackground": true,
            "ticks": "",
            "zerolinecolor": "white"
           }
          },
          "shapedefaults": {
           "line": {
            "color": "#2a3f5f"
           }
          },
          "ternary": {
           "aaxis": {
            "gridcolor": "white",
            "linecolor": "white",
            "ticks": ""
           },
           "baxis": {
            "gridcolor": "white",
            "linecolor": "white",
            "ticks": ""
           },
           "bgcolor": "#E5ECF6",
           "caxis": {
            "gridcolor": "white",
            "linecolor": "white",
            "ticks": ""
           }
          },
          "title": {
           "x": 0.05
          },
          "xaxis": {
           "automargin": true,
           "gridcolor": "white",
           "linecolor": "white",
           "ticks": "",
           "title": {
            "standoff": 15
           },
           "zerolinecolor": "white",
           "zerolinewidth": 2
          },
          "yaxis": {
           "automargin": true,
           "gridcolor": "white",
           "linecolor": "white",
           "ticks": "",
           "title": {
            "standoff": 15
           },
           "zerolinecolor": "white",
           "zerolinewidth": 2
          }
         }
        },
        "title": {
         "text": "3D Sentence Clusters(Textblob)"
        }
       }
      }
     },
     "metadata": {},
     "output_type": "display_data"
    }
   ],
   "source": [
    "\n",
    "# Perform t-SNE dimensionality reduction for 3D visualization\n",
    "perplexity_value = min(30, len(sentence_vectors_testblob) - 1)\n",
    "tsne_3d = TSNE(n_components=3,perplexity=perplexity_value, random_state=0)\n",
    "reduced_vectors_3d = tsne_3d.fit_transform(sentence_vectors_testblob)\n",
    "\n",
    "# 3D Scatter plot\n",
    "fig = go.Figure()\n",
    "\n",
    "for i in range(num_clusters):\n",
    "    indices = labels_textblob == i\n",
    "    fig.add_trace(go.Scatter3d(\n",
    "        x=reduced_vectors_3d[indices, 0],\n",
    "        y=reduced_vectors_3d[indices, 1],\n",
    "        z=reduced_vectors_3d[indices, 2],\n",
    "        mode='markers',\n",
    "        name=f'Cluster {i+1}'\n",
    "    ))\n",
    "\n",
    "fig.update_layout(title='3D Sentence Clusters(Textblob)',\n",
    "                  scene=dict(xaxis_title='t-SNE Dimension 1',\n",
    "                             yaxis_title='t-SNE Dimension 2',\n",
    "                             zaxis_title='t-SNE Dimension 3'))\n",
    "fig.show()\n"
   ]
  },
  {
   "cell_type": "markdown",
   "metadata": {},
   "source": [
    "## spacy"
   ]
  },
  {
   "cell_type": "code",
   "execution_count": 81,
   "metadata": {},
   "outputs": [],
   "source": [
    "perplexity_value = min(30, len(sentence_vectors_spacy) - 1)\n",
    "tsne = TSNE(n_components=2, perplexity=perplexity_value, random_state=0)\n",
    "reduced_vectors_2d = tsne.fit_transform(sentence_vectors_spacy)"
   ]
  },
  {
   "cell_type": "code",
   "execution_count": 82,
   "metadata": {},
   "outputs": [
    {
     "data": {
      "application/vnd.plotly.v1+json": {
       "config": {
        "plotlyServerURL": "https://plot.ly"
       },
       "data": [
        {
         "mode": "markers",
         "name": "Cluster 1",
         "type": "scatter",
         "x": [
          -4.862321853637695,
          -5.712959289550781,
          -7.304957866668701,
          -3.924906015396118,
          -5.500028610229492,
          -6.379931449890137,
          -3.1886067390441895,
          -6.2921576499938965,
          -7.218111991882324,
          -8.279579162597656,
          -6.2921576499938965,
          -9.19052505493164,
          -5.446182727813721,
          -6.417713642120361,
          -4.372740268707275,
          -4.121224880218506,
          -3.9265520572662354,
          -5.1255083084106445,
          -3.9265520572662354,
          -5.1255083084106445,
          -5.1255083084106445,
          -5.1255083084106445,
          -5.362233638763428,
          -5.362233638763428,
          -5.1255083084106445,
          -5.362233638763428,
          -4.022332668304443,
          -6.205229759216309,
          -6.410451412200928,
          -3.439488649368286,
          -7.863678455352783,
          -5.921760082244873,
          -4.934731960296631,
          -6.5303120613098145,
          -3.924906015396118,
          -4.461026668548584,
          -7.09963846206665,
          -6.970865726470947
         ],
         "y": [
          -4.376307964324951,
          -7.670417785644531,
          -6.031008720397949,
          -7.435005187988281,
          -8.379435539245605,
          -8.059846878051758,
          -6.719114303588867,
          -5.868828773498535,
          -6.756256580352783,
          -8.730451583862305,
          -5.868828773498535,
          -6.566080570220947,
          -2.6519923210144043,
          -9.94487190246582,
          -5.462403297424316,
          -4.826415061950684,
          -6.224992275238037,
          -6.613489627838135,
          -6.224992275238037,
          -6.613489627838135,
          -6.613489627838135,
          -6.613489627838135,
          -5.28043794631958,
          -5.28043794631958,
          -6.613489627838135,
          -5.28043794631958,
          -9.958916664123535,
          -7.1731486320495605,
          -6.63442850112915,
          -5.477763652801514,
          0.012447549030184746,
          -4.374154567718506,
          -7.7946648597717285,
          -4.818312168121338,
          -7.435005187988281,
          -8.26134967803955,
          -5.264878273010254,
          -7.467442512512207
         ]
        },
        {
         "mode": "markers",
         "name": "Cluster 2",
         "type": "scatter",
         "x": [
          6.034212589263916,
          7.488115310668945,
          6.9966864585876465,
          6.029181957244873,
          3.507642984390259,
          2.862004518508911,
          5.103174209594727,
          5.094645023345947,
          4.990459442138672,
          -2.795529842376709,
          5.659631252288818,
          2.7176010608673096
         ],
         "y": [
          6.665136337280273,
          7.9902143478393555,
          5.701211929321289,
          7.719690322875977,
          5.321946620941162,
          0.14224590361118317,
          6.111774921417236,
          6.562134265899658,
          5.85866117477417,
          8.100523948669434,
          4.964227676391602,
          5.240413665771484
         ]
        },
        {
         "mode": "markers",
         "name": "Cluster 3",
         "type": "scatter",
         "x": [
          -1.4690688848495483,
          -1.1852517127990723,
          -1.3426932096481323,
          -1.5025079250335693,
          -4.044806480407715,
          -0.6300743222236633,
          -5.25789737701416,
          -0.5936623811721802,
          -0.8465537428855896,
          -0.762982189655304,
          1.9398852586746216,
          5.458932876586914,
          8.377513885498047,
          -2.5790517330169678,
          1.3185837268829346,
          4.73389196395874,
          1.3102279901504517,
          6.2137837409973145,
          -0.2885282337665558,
          -0.15954628586769104,
          -0.15954628586769104,
          -5.949800491333008,
          5.290036678314209,
          8.377513885498047,
          -0.12609392404556274,
          4.090112209320068,
          -1.177941918373108,
          2.008178234100342,
          -4.140325546264648,
          -1.960519552230835
         ],
         "y": [
          3.823354959487915,
          -7.807330131530762,
          -4.371523857116699,
          2.261568546295166,
          -0.9836210012435913,
          2.7898473739624023,
          3.0523970127105713,
          5.997734069824219,
          4.842016220092773,
          4.609707355499268,
          1.4318279027938843,
          3.234445333480835,
          -2.5229990482330322,
          0.9115476608276367,
          7.519137859344482,
          -1.1197834014892578,
          1.670186996459961,
          1.4877424240112305,
          -5.756433486938477,
          7.819849014282227,
          7.819849014282227,
          0.9484322667121887,
          0.026456737890839577,
          -2.5229990482330322,
          4.069042205810547,
          1.3025280237197876,
          7.291934013366699,
          4.916106700897217,
          2.640388011932373,
          5.457206726074219
         ]
        },
        {
         "mode": "markers",
         "name": "Cluster 4",
         "type": "scatter",
         "x": [
          7.14478063583374,
          7.925886154174805,
          7.917487621307373,
          8.114433288574219,
          7.983771324157715,
          6.617546081542969,
          7.4426469802856445
         ],
         "y": [
          1.9805692434310913,
          1.991840124130249,
          1.5212676525115967,
          6.35413122177124,
          0.46797484159469604,
          2.5233795642852783,
          2.8898797035217285
         ]
        },
        {
         "mode": "markers",
         "name": "Cluster 5",
         "type": "scatter",
         "x": [
          1.123321533203125,
          -0.12338252365589142,
          1.7220120429992676,
          -0.49392494559288025,
          -0.6502408385276794,
          0.2043103575706482,
          1.6557705402374268
         ],
         "y": [
          10.142403602600098,
          10.859145164489746,
          11.477143287658691,
          10.091774940490723,
          10.532346725463867,
          8.623930931091309,
          9.48640251159668
         ]
        },
        {
         "mode": "markers",
         "name": "Cluster 6",
         "type": "scatter",
         "x": [
          3.953103542327881,
          3.9530584812164307
         ],
         "y": [
          -4.558669090270996,
          -4.558581829071045
         ]
        },
        {
         "mode": "markers",
         "name": "Cluster 7",
         "type": "scatter",
         "x": [
          -3.8685855865478516,
          1.040592908859253,
          1.2734520435333252,
          0.26159223914146423,
          0.26148903369903564,
          -6.400259494781494,
          2.1283955574035645,
          1.1599886417388916,
          2.9441683292388916,
          3.1458849906921387,
          2.245662212371826,
          3.1139931678771973,
          2.3132269382476807,
          11.03795337677002,
          4.443518161773682,
          11.03795337677002,
          -3.6369738578796387,
          5.9040374755859375,
          3.7423105239868164,
          2.3097987174987793,
          3.5369837284088135,
          1.3369104862213135,
          3.9652700424194336
         ],
         "y": [
          1.5524003505706787,
          3.950888156890869,
          4.951230049133301,
          -0.8845393657684326,
          -0.884601354598999,
          5.781557083129883,
          3.720870018005371,
          6.033890247344971,
          3.513012647628784,
          7.1162428855896,
          5.997570514678955,
          6.303707599639893,
          3.106733798980713,
          1.140705943107605,
          8.68172836303711,
          1.140705943107605,
          1.92054283618927,
          9.759949684143066,
          8.280228614807129,
          7.343173503875732,
          7.914556503295898,
          2.8124582767486572,
          9.432304382324219
         ]
        },
        {
         "mode": "markers",
         "name": "Cluster 8",
         "type": "scatter",
         "x": [
          -3.883953094482422,
          -4.099184036254883,
          1.4373162984848022,
          2.1793720722198486
         ],
         "y": [
          8.139046669006348,
          8.0192289352417,
          -3.0783896446228027,
          -1.1550452709197998
         ]
        },
        {
         "mode": "markers",
         "name": "Cluster 9",
         "type": "scatter",
         "x": [
          -1.2580562829971313,
          5.397175312042236,
          9.724908828735352,
          10.352399826049805,
          9.724784851074219,
          3.5643627643585205,
          4.63232421875,
          -2.672053813934326,
          -4.0666327476501465,
          1.979499340057373,
          -0.013580884784460068,
          -0.06804566830396652,
          6.7058281898498535,
          0.4396439790725708,
          4.560359001159668,
          4.15809965133667,
          -1.6234403848648071,
          4.390988826751709,
          4.390988826751709
         ],
         "y": [
          -0.5110933780670166,
          3.919887065887451,
          4.1670355796813965,
          4.596502780914307,
          4.167026519775391,
          2.315145254135132,
          2.0040910243988037,
          -3.2725472450256348,
          5.424947738647461,
          0.17705762386322021,
          1.5818660259246826,
          1.6728991270065308,
          4.863777160644531,
          0.450064480304718,
          4.940486431121826,
          4.260328769683838,
          -2.2365667819976807,
          2.934920310974121,
          2.934920310974121
         ]
        },
        {
         "mode": "markers",
         "name": "Cluster 10",
         "type": "scatter",
         "x": [
          3.0433804988861084,
          3.0433804988861084,
          3.0433804988861084
         ],
         "y": [
          -8.73462963104248,
          -8.73462963104248,
          -8.73462963104248
         ]
        },
        {
         "mode": "markers",
         "name": "Cluster 11",
         "type": "scatter",
         "x": [
          -2.6144027709960938
         ],
         "y": [
          4.332061290740967
         ]
        },
        {
         "mode": "markers",
         "name": "Cluster 12",
         "type": "scatter",
         "x": [
          -8.358030319213867,
          -10.589140892028809,
          -10.589140892028809,
          -0.7984822988510132,
          -10.589140892028809,
          -8.537128448486328,
          -7.916463851928711
         ],
         "y": [
          1.0440908670425415,
          -3.7948567867279053,
          -3.7948567867279053,
          0.9366124868392944,
          -3.7948567867279053,
          -0.8337720036506653,
          -1.212834358215332
         ]
        }
       ],
       "layout": {
        "legend": {
         "title": {
          "text": "Clusters"
         }
        },
        "template": {
         "data": {
          "bar": [
           {
            "error_x": {
             "color": "#2a3f5f"
            },
            "error_y": {
             "color": "#2a3f5f"
            },
            "marker": {
             "line": {
              "color": "#E5ECF6",
              "width": 0.5
             },
             "pattern": {
              "fillmode": "overlay",
              "size": 10,
              "solidity": 0.2
             }
            },
            "type": "bar"
           }
          ],
          "barpolar": [
           {
            "marker": {
             "line": {
              "color": "#E5ECF6",
              "width": 0.5
             },
             "pattern": {
              "fillmode": "overlay",
              "size": 10,
              "solidity": 0.2
             }
            },
            "type": "barpolar"
           }
          ],
          "carpet": [
           {
            "aaxis": {
             "endlinecolor": "#2a3f5f",
             "gridcolor": "white",
             "linecolor": "white",
             "minorgridcolor": "white",
             "startlinecolor": "#2a3f5f"
            },
            "baxis": {
             "endlinecolor": "#2a3f5f",
             "gridcolor": "white",
             "linecolor": "white",
             "minorgridcolor": "white",
             "startlinecolor": "#2a3f5f"
            },
            "type": "carpet"
           }
          ],
          "choropleth": [
           {
            "colorbar": {
             "outlinewidth": 0,
             "ticks": ""
            },
            "type": "choropleth"
           }
          ],
          "contour": [
           {
            "colorbar": {
             "outlinewidth": 0,
             "ticks": ""
            },
            "colorscale": [
             [
              0,
              "#0d0887"
             ],
             [
              0.1111111111111111,
              "#46039f"
             ],
             [
              0.2222222222222222,
              "#7201a8"
             ],
             [
              0.3333333333333333,
              "#9c179e"
             ],
             [
              0.4444444444444444,
              "#bd3786"
             ],
             [
              0.5555555555555556,
              "#d8576b"
             ],
             [
              0.6666666666666666,
              "#ed7953"
             ],
             [
              0.7777777777777778,
              "#fb9f3a"
             ],
             [
              0.8888888888888888,
              "#fdca26"
             ],
             [
              1,
              "#f0f921"
             ]
            ],
            "type": "contour"
           }
          ],
          "contourcarpet": [
           {
            "colorbar": {
             "outlinewidth": 0,
             "ticks": ""
            },
            "type": "contourcarpet"
           }
          ],
          "heatmap": [
           {
            "colorbar": {
             "outlinewidth": 0,
             "ticks": ""
            },
            "colorscale": [
             [
              0,
              "#0d0887"
             ],
             [
              0.1111111111111111,
              "#46039f"
             ],
             [
              0.2222222222222222,
              "#7201a8"
             ],
             [
              0.3333333333333333,
              "#9c179e"
             ],
             [
              0.4444444444444444,
              "#bd3786"
             ],
             [
              0.5555555555555556,
              "#d8576b"
             ],
             [
              0.6666666666666666,
              "#ed7953"
             ],
             [
              0.7777777777777778,
              "#fb9f3a"
             ],
             [
              0.8888888888888888,
              "#fdca26"
             ],
             [
              1,
              "#f0f921"
             ]
            ],
            "type": "heatmap"
           }
          ],
          "heatmapgl": [
           {
            "colorbar": {
             "outlinewidth": 0,
             "ticks": ""
            },
            "colorscale": [
             [
              0,
              "#0d0887"
             ],
             [
              0.1111111111111111,
              "#46039f"
             ],
             [
              0.2222222222222222,
              "#7201a8"
             ],
             [
              0.3333333333333333,
              "#9c179e"
             ],
             [
              0.4444444444444444,
              "#bd3786"
             ],
             [
              0.5555555555555556,
              "#d8576b"
             ],
             [
              0.6666666666666666,
              "#ed7953"
             ],
             [
              0.7777777777777778,
              "#fb9f3a"
             ],
             [
              0.8888888888888888,
              "#fdca26"
             ],
             [
              1,
              "#f0f921"
             ]
            ],
            "type": "heatmapgl"
           }
          ],
          "histogram": [
           {
            "marker": {
             "pattern": {
              "fillmode": "overlay",
              "size": 10,
              "solidity": 0.2
             }
            },
            "type": "histogram"
           }
          ],
          "histogram2d": [
           {
            "colorbar": {
             "outlinewidth": 0,
             "ticks": ""
            },
            "colorscale": [
             [
              0,
              "#0d0887"
             ],
             [
              0.1111111111111111,
              "#46039f"
             ],
             [
              0.2222222222222222,
              "#7201a8"
             ],
             [
              0.3333333333333333,
              "#9c179e"
             ],
             [
              0.4444444444444444,
              "#bd3786"
             ],
             [
              0.5555555555555556,
              "#d8576b"
             ],
             [
              0.6666666666666666,
              "#ed7953"
             ],
             [
              0.7777777777777778,
              "#fb9f3a"
             ],
             [
              0.8888888888888888,
              "#fdca26"
             ],
             [
              1,
              "#f0f921"
             ]
            ],
            "type": "histogram2d"
           }
          ],
          "histogram2dcontour": [
           {
            "colorbar": {
             "outlinewidth": 0,
             "ticks": ""
            },
            "colorscale": [
             [
              0,
              "#0d0887"
             ],
             [
              0.1111111111111111,
              "#46039f"
             ],
             [
              0.2222222222222222,
              "#7201a8"
             ],
             [
              0.3333333333333333,
              "#9c179e"
             ],
             [
              0.4444444444444444,
              "#bd3786"
             ],
             [
              0.5555555555555556,
              "#d8576b"
             ],
             [
              0.6666666666666666,
              "#ed7953"
             ],
             [
              0.7777777777777778,
              "#fb9f3a"
             ],
             [
              0.8888888888888888,
              "#fdca26"
             ],
             [
              1,
              "#f0f921"
             ]
            ],
            "type": "histogram2dcontour"
           }
          ],
          "mesh3d": [
           {
            "colorbar": {
             "outlinewidth": 0,
             "ticks": ""
            },
            "type": "mesh3d"
           }
          ],
          "parcoords": [
           {
            "line": {
             "colorbar": {
              "outlinewidth": 0,
              "ticks": ""
             }
            },
            "type": "parcoords"
           }
          ],
          "pie": [
           {
            "automargin": true,
            "type": "pie"
           }
          ],
          "scatter": [
           {
            "fillpattern": {
             "fillmode": "overlay",
             "size": 10,
             "solidity": 0.2
            },
            "type": "scatter"
           }
          ],
          "scatter3d": [
           {
            "line": {
             "colorbar": {
              "outlinewidth": 0,
              "ticks": ""
             }
            },
            "marker": {
             "colorbar": {
              "outlinewidth": 0,
              "ticks": ""
             }
            },
            "type": "scatter3d"
           }
          ],
          "scattercarpet": [
           {
            "marker": {
             "colorbar": {
              "outlinewidth": 0,
              "ticks": ""
             }
            },
            "type": "scattercarpet"
           }
          ],
          "scattergeo": [
           {
            "marker": {
             "colorbar": {
              "outlinewidth": 0,
              "ticks": ""
             }
            },
            "type": "scattergeo"
           }
          ],
          "scattergl": [
           {
            "marker": {
             "colorbar": {
              "outlinewidth": 0,
              "ticks": ""
             }
            },
            "type": "scattergl"
           }
          ],
          "scattermapbox": [
           {
            "marker": {
             "colorbar": {
              "outlinewidth": 0,
              "ticks": ""
             }
            },
            "type": "scattermapbox"
           }
          ],
          "scatterpolar": [
           {
            "marker": {
             "colorbar": {
              "outlinewidth": 0,
              "ticks": ""
             }
            },
            "type": "scatterpolar"
           }
          ],
          "scatterpolargl": [
           {
            "marker": {
             "colorbar": {
              "outlinewidth": 0,
              "ticks": ""
             }
            },
            "type": "scatterpolargl"
           }
          ],
          "scatterternary": [
           {
            "marker": {
             "colorbar": {
              "outlinewidth": 0,
              "ticks": ""
             }
            },
            "type": "scatterternary"
           }
          ],
          "surface": [
           {
            "colorbar": {
             "outlinewidth": 0,
             "ticks": ""
            },
            "colorscale": [
             [
              0,
              "#0d0887"
             ],
             [
              0.1111111111111111,
              "#46039f"
             ],
             [
              0.2222222222222222,
              "#7201a8"
             ],
             [
              0.3333333333333333,
              "#9c179e"
             ],
             [
              0.4444444444444444,
              "#bd3786"
             ],
             [
              0.5555555555555556,
              "#d8576b"
             ],
             [
              0.6666666666666666,
              "#ed7953"
             ],
             [
              0.7777777777777778,
              "#fb9f3a"
             ],
             [
              0.8888888888888888,
              "#fdca26"
             ],
             [
              1,
              "#f0f921"
             ]
            ],
            "type": "surface"
           }
          ],
          "table": [
           {
            "cells": {
             "fill": {
              "color": "#EBF0F8"
             },
             "line": {
              "color": "white"
             }
            },
            "header": {
             "fill": {
              "color": "#C8D4E3"
             },
             "line": {
              "color": "white"
             }
            },
            "type": "table"
           }
          ]
         },
         "layout": {
          "annotationdefaults": {
           "arrowcolor": "#2a3f5f",
           "arrowhead": 0,
           "arrowwidth": 1
          },
          "autotypenumbers": "strict",
          "coloraxis": {
           "colorbar": {
            "outlinewidth": 0,
            "ticks": ""
           }
          },
          "colorscale": {
           "diverging": [
            [
             0,
             "#8e0152"
            ],
            [
             0.1,
             "#c51b7d"
            ],
            [
             0.2,
             "#de77ae"
            ],
            [
             0.3,
             "#f1b6da"
            ],
            [
             0.4,
             "#fde0ef"
            ],
            [
             0.5,
             "#f7f7f7"
            ],
            [
             0.6,
             "#e6f5d0"
            ],
            [
             0.7,
             "#b8e186"
            ],
            [
             0.8,
             "#7fbc41"
            ],
            [
             0.9,
             "#4d9221"
            ],
            [
             1,
             "#276419"
            ]
           ],
           "sequential": [
            [
             0,
             "#0d0887"
            ],
            [
             0.1111111111111111,
             "#46039f"
            ],
            [
             0.2222222222222222,
             "#7201a8"
            ],
            [
             0.3333333333333333,
             "#9c179e"
            ],
            [
             0.4444444444444444,
             "#bd3786"
            ],
            [
             0.5555555555555556,
             "#d8576b"
            ],
            [
             0.6666666666666666,
             "#ed7953"
            ],
            [
             0.7777777777777778,
             "#fb9f3a"
            ],
            [
             0.8888888888888888,
             "#fdca26"
            ],
            [
             1,
             "#f0f921"
            ]
           ],
           "sequentialminus": [
            [
             0,
             "#0d0887"
            ],
            [
             0.1111111111111111,
             "#46039f"
            ],
            [
             0.2222222222222222,
             "#7201a8"
            ],
            [
             0.3333333333333333,
             "#9c179e"
            ],
            [
             0.4444444444444444,
             "#bd3786"
            ],
            [
             0.5555555555555556,
             "#d8576b"
            ],
            [
             0.6666666666666666,
             "#ed7953"
            ],
            [
             0.7777777777777778,
             "#fb9f3a"
            ],
            [
             0.8888888888888888,
             "#fdca26"
            ],
            [
             1,
             "#f0f921"
            ]
           ]
          },
          "colorway": [
           "#636efa",
           "#EF553B",
           "#00cc96",
           "#ab63fa",
           "#FFA15A",
           "#19d3f3",
           "#FF6692",
           "#B6E880",
           "#FF97FF",
           "#FECB52"
          ],
          "font": {
           "color": "#2a3f5f"
          },
          "geo": {
           "bgcolor": "white",
           "lakecolor": "white",
           "landcolor": "#E5ECF6",
           "showlakes": true,
           "showland": true,
           "subunitcolor": "white"
          },
          "hoverlabel": {
           "align": "left"
          },
          "hovermode": "closest",
          "mapbox": {
           "style": "light"
          },
          "paper_bgcolor": "white",
          "plot_bgcolor": "#E5ECF6",
          "polar": {
           "angularaxis": {
            "gridcolor": "white",
            "linecolor": "white",
            "ticks": ""
           },
           "bgcolor": "#E5ECF6",
           "radialaxis": {
            "gridcolor": "white",
            "linecolor": "white",
            "ticks": ""
           }
          },
          "scene": {
           "xaxis": {
            "backgroundcolor": "#E5ECF6",
            "gridcolor": "white",
            "gridwidth": 2,
            "linecolor": "white",
            "showbackground": true,
            "ticks": "",
            "zerolinecolor": "white"
           },
           "yaxis": {
            "backgroundcolor": "#E5ECF6",
            "gridcolor": "white",
            "gridwidth": 2,
            "linecolor": "white",
            "showbackground": true,
            "ticks": "",
            "zerolinecolor": "white"
           },
           "zaxis": {
            "backgroundcolor": "#E5ECF6",
            "gridcolor": "white",
            "gridwidth": 2,
            "linecolor": "white",
            "showbackground": true,
            "ticks": "",
            "zerolinecolor": "white"
           }
          },
          "shapedefaults": {
           "line": {
            "color": "#2a3f5f"
           }
          },
          "ternary": {
           "aaxis": {
            "gridcolor": "white",
            "linecolor": "white",
            "ticks": ""
           },
           "baxis": {
            "gridcolor": "white",
            "linecolor": "white",
            "ticks": ""
           },
           "bgcolor": "#E5ECF6",
           "caxis": {
            "gridcolor": "white",
            "linecolor": "white",
            "ticks": ""
           }
          },
          "title": {
           "x": 0.05
          },
          "xaxis": {
           "automargin": true,
           "gridcolor": "white",
           "linecolor": "white",
           "ticks": "",
           "title": {
            "standoff": 15
           },
           "zerolinecolor": "white",
           "zerolinewidth": 2
          },
          "yaxis": {
           "automargin": true,
           "gridcolor": "white",
           "linecolor": "white",
           "ticks": "",
           "title": {
            "standoff": 15
           },
           "zerolinecolor": "white",
           "zerolinewidth": 2
          }
         }
        },
        "title": {
         "text": "Sentence Clusters Visualized with t-SNE(Spacy)"
        },
        "xaxis": {
         "title": {
          "text": "t-SNE Dimension 1"
         }
        },
        "yaxis": {
         "title": {
          "text": "t-SNE Dimension 2"
         }
        }
       }
      }
     },
     "metadata": {},
     "output_type": "display_data"
    }
   ],
   "source": [
    "fig = go.Figure()\n",
    "\n",
    "\n",
    "for i in range(num_clusters):\n",
    "    indices = labels_spacy == i\n",
    "    fig.add_trace(go.Scatter(\n",
    "        x=reduced_vectors_2d[indices, 0],\n",
    "        y=reduced_vectors_2d[indices, 1],\n",
    "        mode='markers',\n",
    "        name=f'Cluster {i + 1}'\n",
    "    ))\n",
    "\n",
    "fig.update_layout(\n",
    "    title='Sentence Clusters Visualized with t-SNE(Spacy)',\n",
    "    xaxis_title='t-SNE Dimension 1',\n",
    "    yaxis_title='t-SNE Dimension 2',\n",
    "    legend_title=\"Clusters\"\n",
    ")\n",
    "\n",
    "pio.show(fig)\n"
   ]
  },
  {
   "cell_type": "code",
   "execution_count": 83,
   "metadata": {},
   "outputs": [
    {
     "data": {
      "application/vnd.plotly.v1+json": {
       "config": {
        "plotlyServerURL": "https://plot.ly"
       },
       "data": [
        {
         "mode": "markers",
         "name": "Cluster 1",
         "type": "scatter3d",
         "x": [
          13.412283897399902,
          76.8719253540039,
          -126.16524505615234,
          46.87297439575195,
          76.08777618408203,
          -26.626768112182617,
          10.503050804138184,
          60.21843338012695,
          -54.23401641845703,
          67.1375961303711,
          60.21843338012695,
          74.09605407714844,
          100.46808624267578,
          48.128387451171875,
          74.95094299316406,
          29.531314849853516,
          -107.5843276977539,
          50.286094665527344,
          -107.5843276977539,
          50.286094665527344,
          50.286094665527344,
          50.286094665527344,
          23.576295852661133,
          23.576295852661133,
          50.286094665527344,
          23.576295852661133,
          48.970069885253906,
          60.51211166381836,
          28.58594512939453,
          65.58322143554688,
          91.77586364746094,
          86.74615478515625,
          39.7503776550293,
          37.85060119628906,
          46.87297439575195,
          34.42650604248047,
          87.42185974121094,
          53.553958892822266
         ],
         "y": [
          -14.37773609161377,
          -32.448020935058594,
          17.117218017578125,
          -19.1342716217041,
          -5.253475189208984,
          8.161187171936035,
          -41.495357513427734,
          12.296035766601562,
          -1.0258735418319702,
          -82.7877197265625,
          12.296035766601562,
          46.66218566894531,
          23.673561096191406,
          -68.95764923095703,
          -42.293182373046875,
          -43.87442398071289,
          -3.152015447616577,
          -23.869789123535156,
          -3.152015447616577,
          -23.869789123535156,
          -23.869789123535156,
          -23.869789123535156,
          -0.579901933670044,
          -0.579901933670044,
          -23.869789123535156,
          -0.579901933670044,
          -9.173531532287598,
          -51.97818374633789,
          -51.9154167175293,
          -6.432236194610596,
          21.822860717773438,
          -35.35971450805664,
          -28.65900993347168,
          30.663421630859375,
          -19.1342716217041,
          7.133413314819336,
          -10.143437385559082,
          13.204237937927246
         ],
         "z": [
          56.123844146728516,
          -4.841662883758545,
          3.6140670776367188,
          1.8020490407943726,
          15.843354225158691,
          76.51197052001953,
          70.35393524169922,
          40.88483428955078,
          -96.60782623291016,
          31.941431045532227,
          40.88483428955078,
          24.380048751831055,
          51.69871139526367,
          71.2568130493164,
          59.82587814331055,
          15.609371185302734,
          -38.8471565246582,
          40.004241943359375,
          -38.8471565246582,
          40.004241943359375,
          40.004241943359375,
          40.004241943359375,
          26.40129852294922,
          26.40129852294922,
          40.004241943359375,
          26.40129852294922,
          103.58269500732422,
          18.32425880432129,
          46.00953674316406,
          70.99581909179688,
          -25.058731079101562,
          26.81037712097168,
          74.86621856689453,
          27.161418914794922,
          1.8020490407943726,
          63.635223388671875,
          46.416229248046875,
          5.127567291259766
         ]
        },
        {
         "mode": "markers",
         "name": "Cluster 2",
         "type": "scatter3d",
         "x": [
          -90.04194641113281,
          -93.16178131103516,
          -76.3587875366211,
          -94.12638854980469,
          -17.43207550048828,
          -1.9069288969039917,
          -1.2627819776535034,
          -104.66387939453125,
          -80.74251556396484,
          8.350235939025879,
          -41.61226272583008,
          -18.46608543395996
         ],
         "y": [
          11.08333683013916,
          -44.2049560546875,
          -15.757989883422852,
          23.579315185546875,
          -23.715290069580078,
          100.85348510742188,
          -91.44608306884766,
          -16.017234802246094,
          -8.709371566772461,
          -25.118141174316406,
          -18.191354751586914,
          -5.489857196807861
         ],
         "z": [
          25.91254234313965,
          -17.810962677001953,
          -60.351688385009766,
          -7.2217841148376465,
          -86.31997680664062,
          -23.861928939819336,
          -42.449893951416016,
          2.7755041122436523,
          -0.579003632068634,
          -73.64736938476562,
          -55.74638748168945,
          -66.08061218261719
         ]
        },
        {
         "mode": "markers",
         "name": "Cluster 3",
         "type": "scatter3d",
         "x": [
          -15.535653114318848,
          7.380064010620117,
          53.32406997680664,
          -37.97810363769531,
          45.65506362915039,
          -55.64079666137695,
          76.4542465209961,
          -12.946670532226562,
          -34.318973541259766,
          -34.63675308227539,
          26.580900192260742,
          -29.88920021057129,
          -83.87261199951172,
          -6.749172210693359,
          35.95813751220703,
          -3.7201149463653564,
          -12.016242980957031,
          -9.499655723571777,
          -8.55970287322998,
          12.705229759216309,
          12.705229759216309,
          84.75946807861328,
          -62.26341247558594,
          -83.87261199951172,
          -45.177059173583984,
          -45.609588623046875,
          -46.689605712890625,
          -41.775856018066406,
          -20.967853546142578,
          -32.66672897338867
         ],
         "y": [
          18.80071258544922,
          2.5001964569091797,
          -68.21102905273438,
          84.24453735351562,
          39.70913314819336,
          25.904626846313477,
          0.625053882598877,
          31.459566116333008,
          40.45709991455078,
          -35.89442443847656,
          -31.770069122314453,
          5.536004543304443,
          59.77141571044922,
          -79.8583984375,
          -66.94641876220703,
          -68.20647430419922,
          63.16389083862305,
          -54.39952087402344,
          16.911861419677734,
          28.480037689208984,
          28.480037689208984,
          -4.953274726867676,
          22.951335906982422,
          59.77141571044922,
          48.132720947265625,
          -76.18220520019531,
          104.24166107177734,
          -134.97425842285156,
          -69.63191986083984,
          71.98062896728516
         ],
         "z": [
          0.9705795645713806,
          96.2144546508789,
          -14.586726188659668,
          -57.2468147277832,
          -20.123559951782227,
          2.480912446975708,
          -78.63088989257812,
          -33.29200744628906,
          -16.567014694213867,
          2.1956095695495605,
          -37.055419921875,
          -31.39136505126953,
          -34.7143669128418,
          46.79502487182617,
          -51.88883972167969,
          -91.79010772705078,
          -37.74557113647461,
          -58.74005889892578,
          49.01158905029297,
          -55.360443115234375,
          -55.360443115234375,
          -38.68180465698242,
          -25.259811401367188,
          -34.7143669128418,
          -51.430755615234375,
          -18.478559494018555,
          2.137139081954956,
          73.25068664550781,
          14.86386489868164,
          -12.297133445739746
         ]
        },
        {
         "mode": "markers",
         "name": "Cluster 4",
         "type": "scatter3d",
         "x": [
          -36.06907653808594,
          -59.92755126953125,
          -47.869056701660156,
          -41.842655181884766,
          -72.70171356201172,
          -31.1514949798584,
          -58.03309631347656
         ],
         "y": [
          -53.52424621582031,
          -56.68330764770508,
          -77.4643325805664,
          -105.5156478881836,
          -76.11032104492188,
          -39.97441864013672,
          -46.319156646728516
         ],
         "z": [
          -68.69551086425781,
          -77.50469970703125,
          -63.759132385253906,
          11.68911075592041,
          -45.126197814941406,
          -50.32413101196289,
          -48.95122528076172
         ]
        },
        {
         "mode": "markers",
         "name": "Cluster 5",
         "type": "scatter3d",
         "x": [
          25.129201889038086,
          -22.258804321289062,
          -25.734622955322266,
          1.4198631048202515,
          2.659883975982666,
          -11.860549926757812,
          5.343107223510742
         ],
         "y": [
          44.69059753417969,
          46.98550033569336,
          38.88083267211914,
          31.25437355041504,
          54.55192565917969,
          29.058813095092773,
          55.53987503051758
         ],
         "z": [
          -96.22933959960938,
          86.72291564941406,
          -94.33995819091797,
          96.56700897216797,
          94.03450775146484,
          -69.1901626586914,
          -84.6119613647461
         ]
        },
        {
         "mode": "markers",
         "name": "Cluster 6",
         "type": "scatter3d",
         "x": [
          16.832592010498047,
          11.035344123840332
         ],
         "y": [
          52.17497634887695,
          54.509368896484375
         ],
         "z": [
          9.9024019241333,
          -8.133599281311035
         ]
        },
        {
         "mode": "markers",
         "name": "Cluster 7",
         "type": "scatter3d",
         "x": [
          21.55638313293457,
          -9.337892532348633,
          -20.978778839111328,
          -5.353909969329834,
          -8.772317886352539,
          -30.82048225402832,
          -13.548978805541992,
          13.802667617797852,
          -32.91666793823242,
          -76.02690887451172,
          -3.8037352561950684,
          0.4363083839416504,
          -17.19724464416504,
          -72.40804290771484,
          -98.21504974365234,
          -72.40804290771484,
          3.055238723754883,
          -84.92845153808594,
          -77.01334381103516,
          11.94753646850586,
          -10.491761207580566,
          4.716645240783691,
          -86.89480590820312
         ],
         "y": [
          -86.4601058959961,
          -26.399070739746094,
          -50.40665817260742,
          -31.558076858520508,
          -38.47882843017578,
          70.66493225097656,
          76.98251342773438,
          17.48088836669922,
          47.199039459228516,
          0.5406112670898438,
          6.235576629638672,
          -65.5003662109375,
          49.562068939208984,
          -70.48226928710938,
          46.703678131103516,
          -70.48226928710938,
          -74.72975158691406,
          25.636173248291016,
          59.95341110229492,
          -58.80229949951172,
          -92.24437713623047,
          -5.90203857421875,
          77.03105926513672
         ],
         "z": [
          16.982023239135742,
          -27.145309448242188,
          -20.98015594482422,
          14.528213500976562,
          32.46770477294922,
          51.65565490722656,
          12.704534530639648,
          -13.916254043579102,
          38.19123458862305,
          59.61991882324219,
          -93.73828125,
          -12.29781723022461,
          18.656394958496094,
          15.109301567077637,
          25.362491607666016,
          15.109301567077637,
          14.648080825805664,
          -71.28002166748047,
          36.11859893798828,
          -35.19622802734375,
          -11.322423934936523,
          -38.20626449584961,
          16.959911346435547
         ]
        },
        {
         "mode": "markers",
         "name": "Cluster 8",
         "type": "scatter3d",
         "x": [
          31.754955291748047,
          34.8813362121582,
          3.319079637527466,
          33.63039779663086
         ],
         "y": [
          -25.207862854003906,
          -2.7384016513824463,
          96.86400604248047,
          80.38848114013672
         ],
         "z": [
          -88.85589599609375,
          -79.9393081665039,
          18.60466766357422,
          -49.74078369140625
         ]
        },
        {
         "mode": "markers",
         "name": "Cluster 9",
         "type": "scatter3d",
         "x": [
          57.960365295410156,
          -45.69404220581055,
          -34.70093536376953,
          -54.717525482177734,
          -29.43820571899414,
          -51.39518356323242,
          -22.98263168334961,
          15.177973747253418,
          -60.46579360961914,
          9.720118522644043,
          42.8472900390625,
          -44.67917251586914,
          -64.05497741699219,
          7.57070779800415,
          -78.31336212158203,
          -60.56753158569336,
          20.330570220947266,
          -36.860904693603516,
          -36.860904693603516
         ],
         "y": [
          -30.124439239501953,
          10.508199691772461,
          -25.855464935302734,
          -41.07303237915039,
          -29.37326431274414,
          -18.8151912689209,
          -3.58891224861145,
          41.91535568237305,
          34.881839752197266,
          76.44107055664062,
          3.5418648719787598,
          17.03066062927246,
          -11.895964622497559,
          -20.86543083190918,
          -30.434906005859375,
          -26.095680236816406,
          71.55813598632812,
          -4.736178874969482,
          -4.736178874969482
         ],
         "z": [
          -53.49148941040039,
          -51.19001007080078,
          61.747798919677734,
          74.67601013183594,
          80.57100677490234,
          29.845924377441406,
          23.13631248474121,
          51.92631149291992,
          61.84894561767578,
          -38.008445739746094,
          -34.164398193359375,
          26.1663761138916,
          -36.124794006347656,
          -8.528332710266113,
          19.32190704345703,
          -8.312658309936523,
          49.076419830322266,
          -5.114974021911621,
          -5.114974021911621
         ]
        },
        {
         "mode": "markers",
         "name": "Cluster 10",
         "type": "scatter3d",
         "x": [
          54.792030334472656,
          54.792030334472656,
          54.792030334472656
         ],
         "y": [
          81.3150405883789,
          81.3150405883789,
          81.3150405883789
         ],
         "z": [
          -1.3077479600906372,
          -1.3077479600906372,
          -1.3077479600906372
         ]
        },
        {
         "mode": "markers",
         "name": "Cluster 11",
         "type": "scatter3d",
         "x": [
          -55.52813720703125
         ],
         "y": [
          55.343414306640625
         ],
         "z": [
          5.526050090789795
         ]
        },
        {
         "mode": "markers",
         "name": "Cluster 12",
         "type": "scatter3d",
         "x": [
          83.88929748535156,
          57.607177734375,
          57.607177734375,
          52.54645919799805,
          57.607177734375,
          104.01797485351562,
          104.6953353881836
         ],
         "y": [
          47.6153564453125,
          49.18722915649414,
          49.18722915649414,
          37.97945785522461,
          49.18722915649414,
          36.3281135559082,
          7.631922245025635
         ],
         "z": [
          -38.11741638183594,
          72.76861572265625,
          72.76861572265625,
          -58.90849685668945,
          72.76861572265625,
          -1.9670541286468506,
          -4.005114555358887
         ]
        }
       ],
       "layout": {
        "scene": {
         "xaxis": {
          "title": {
           "text": "t-SNE Dimension 1"
          }
         },
         "yaxis": {
          "title": {
           "text": "t-SNE Dimension 2"
          }
         },
         "zaxis": {
          "title": {
           "text": "t-SNE Dimension 3"
          }
         }
        },
        "template": {
         "data": {
          "bar": [
           {
            "error_x": {
             "color": "#2a3f5f"
            },
            "error_y": {
             "color": "#2a3f5f"
            },
            "marker": {
             "line": {
              "color": "#E5ECF6",
              "width": 0.5
             },
             "pattern": {
              "fillmode": "overlay",
              "size": 10,
              "solidity": 0.2
             }
            },
            "type": "bar"
           }
          ],
          "barpolar": [
           {
            "marker": {
             "line": {
              "color": "#E5ECF6",
              "width": 0.5
             },
             "pattern": {
              "fillmode": "overlay",
              "size": 10,
              "solidity": 0.2
             }
            },
            "type": "barpolar"
           }
          ],
          "carpet": [
           {
            "aaxis": {
             "endlinecolor": "#2a3f5f",
             "gridcolor": "white",
             "linecolor": "white",
             "minorgridcolor": "white",
             "startlinecolor": "#2a3f5f"
            },
            "baxis": {
             "endlinecolor": "#2a3f5f",
             "gridcolor": "white",
             "linecolor": "white",
             "minorgridcolor": "white",
             "startlinecolor": "#2a3f5f"
            },
            "type": "carpet"
           }
          ],
          "choropleth": [
           {
            "colorbar": {
             "outlinewidth": 0,
             "ticks": ""
            },
            "type": "choropleth"
           }
          ],
          "contour": [
           {
            "colorbar": {
             "outlinewidth": 0,
             "ticks": ""
            },
            "colorscale": [
             [
              0,
              "#0d0887"
             ],
             [
              0.1111111111111111,
              "#46039f"
             ],
             [
              0.2222222222222222,
              "#7201a8"
             ],
             [
              0.3333333333333333,
              "#9c179e"
             ],
             [
              0.4444444444444444,
              "#bd3786"
             ],
             [
              0.5555555555555556,
              "#d8576b"
             ],
             [
              0.6666666666666666,
              "#ed7953"
             ],
             [
              0.7777777777777778,
              "#fb9f3a"
             ],
             [
              0.8888888888888888,
              "#fdca26"
             ],
             [
              1,
              "#f0f921"
             ]
            ],
            "type": "contour"
           }
          ],
          "contourcarpet": [
           {
            "colorbar": {
             "outlinewidth": 0,
             "ticks": ""
            },
            "type": "contourcarpet"
           }
          ],
          "heatmap": [
           {
            "colorbar": {
             "outlinewidth": 0,
             "ticks": ""
            },
            "colorscale": [
             [
              0,
              "#0d0887"
             ],
             [
              0.1111111111111111,
              "#46039f"
             ],
             [
              0.2222222222222222,
              "#7201a8"
             ],
             [
              0.3333333333333333,
              "#9c179e"
             ],
             [
              0.4444444444444444,
              "#bd3786"
             ],
             [
              0.5555555555555556,
              "#d8576b"
             ],
             [
              0.6666666666666666,
              "#ed7953"
             ],
             [
              0.7777777777777778,
              "#fb9f3a"
             ],
             [
              0.8888888888888888,
              "#fdca26"
             ],
             [
              1,
              "#f0f921"
             ]
            ],
            "type": "heatmap"
           }
          ],
          "heatmapgl": [
           {
            "colorbar": {
             "outlinewidth": 0,
             "ticks": ""
            },
            "colorscale": [
             [
              0,
              "#0d0887"
             ],
             [
              0.1111111111111111,
              "#46039f"
             ],
             [
              0.2222222222222222,
              "#7201a8"
             ],
             [
              0.3333333333333333,
              "#9c179e"
             ],
             [
              0.4444444444444444,
              "#bd3786"
             ],
             [
              0.5555555555555556,
              "#d8576b"
             ],
             [
              0.6666666666666666,
              "#ed7953"
             ],
             [
              0.7777777777777778,
              "#fb9f3a"
             ],
             [
              0.8888888888888888,
              "#fdca26"
             ],
             [
              1,
              "#f0f921"
             ]
            ],
            "type": "heatmapgl"
           }
          ],
          "histogram": [
           {
            "marker": {
             "pattern": {
              "fillmode": "overlay",
              "size": 10,
              "solidity": 0.2
             }
            },
            "type": "histogram"
           }
          ],
          "histogram2d": [
           {
            "colorbar": {
             "outlinewidth": 0,
             "ticks": ""
            },
            "colorscale": [
             [
              0,
              "#0d0887"
             ],
             [
              0.1111111111111111,
              "#46039f"
             ],
             [
              0.2222222222222222,
              "#7201a8"
             ],
             [
              0.3333333333333333,
              "#9c179e"
             ],
             [
              0.4444444444444444,
              "#bd3786"
             ],
             [
              0.5555555555555556,
              "#d8576b"
             ],
             [
              0.6666666666666666,
              "#ed7953"
             ],
             [
              0.7777777777777778,
              "#fb9f3a"
             ],
             [
              0.8888888888888888,
              "#fdca26"
             ],
             [
              1,
              "#f0f921"
             ]
            ],
            "type": "histogram2d"
           }
          ],
          "histogram2dcontour": [
           {
            "colorbar": {
             "outlinewidth": 0,
             "ticks": ""
            },
            "colorscale": [
             [
              0,
              "#0d0887"
             ],
             [
              0.1111111111111111,
              "#46039f"
             ],
             [
              0.2222222222222222,
              "#7201a8"
             ],
             [
              0.3333333333333333,
              "#9c179e"
             ],
             [
              0.4444444444444444,
              "#bd3786"
             ],
             [
              0.5555555555555556,
              "#d8576b"
             ],
             [
              0.6666666666666666,
              "#ed7953"
             ],
             [
              0.7777777777777778,
              "#fb9f3a"
             ],
             [
              0.8888888888888888,
              "#fdca26"
             ],
             [
              1,
              "#f0f921"
             ]
            ],
            "type": "histogram2dcontour"
           }
          ],
          "mesh3d": [
           {
            "colorbar": {
             "outlinewidth": 0,
             "ticks": ""
            },
            "type": "mesh3d"
           }
          ],
          "parcoords": [
           {
            "line": {
             "colorbar": {
              "outlinewidth": 0,
              "ticks": ""
             }
            },
            "type": "parcoords"
           }
          ],
          "pie": [
           {
            "automargin": true,
            "type": "pie"
           }
          ],
          "scatter": [
           {
            "fillpattern": {
             "fillmode": "overlay",
             "size": 10,
             "solidity": 0.2
            },
            "type": "scatter"
           }
          ],
          "scatter3d": [
           {
            "line": {
             "colorbar": {
              "outlinewidth": 0,
              "ticks": ""
             }
            },
            "marker": {
             "colorbar": {
              "outlinewidth": 0,
              "ticks": ""
             }
            },
            "type": "scatter3d"
           }
          ],
          "scattercarpet": [
           {
            "marker": {
             "colorbar": {
              "outlinewidth": 0,
              "ticks": ""
             }
            },
            "type": "scattercarpet"
           }
          ],
          "scattergeo": [
           {
            "marker": {
             "colorbar": {
              "outlinewidth": 0,
              "ticks": ""
             }
            },
            "type": "scattergeo"
           }
          ],
          "scattergl": [
           {
            "marker": {
             "colorbar": {
              "outlinewidth": 0,
              "ticks": ""
             }
            },
            "type": "scattergl"
           }
          ],
          "scattermapbox": [
           {
            "marker": {
             "colorbar": {
              "outlinewidth": 0,
              "ticks": ""
             }
            },
            "type": "scattermapbox"
           }
          ],
          "scatterpolar": [
           {
            "marker": {
             "colorbar": {
              "outlinewidth": 0,
              "ticks": ""
             }
            },
            "type": "scatterpolar"
           }
          ],
          "scatterpolargl": [
           {
            "marker": {
             "colorbar": {
              "outlinewidth": 0,
              "ticks": ""
             }
            },
            "type": "scatterpolargl"
           }
          ],
          "scatterternary": [
           {
            "marker": {
             "colorbar": {
              "outlinewidth": 0,
              "ticks": ""
             }
            },
            "type": "scatterternary"
           }
          ],
          "surface": [
           {
            "colorbar": {
             "outlinewidth": 0,
             "ticks": ""
            },
            "colorscale": [
             [
              0,
              "#0d0887"
             ],
             [
              0.1111111111111111,
              "#46039f"
             ],
             [
              0.2222222222222222,
              "#7201a8"
             ],
             [
              0.3333333333333333,
              "#9c179e"
             ],
             [
              0.4444444444444444,
              "#bd3786"
             ],
             [
              0.5555555555555556,
              "#d8576b"
             ],
             [
              0.6666666666666666,
              "#ed7953"
             ],
             [
              0.7777777777777778,
              "#fb9f3a"
             ],
             [
              0.8888888888888888,
              "#fdca26"
             ],
             [
              1,
              "#f0f921"
             ]
            ],
            "type": "surface"
           }
          ],
          "table": [
           {
            "cells": {
             "fill": {
              "color": "#EBF0F8"
             },
             "line": {
              "color": "white"
             }
            },
            "header": {
             "fill": {
              "color": "#C8D4E3"
             },
             "line": {
              "color": "white"
             }
            },
            "type": "table"
           }
          ]
         },
         "layout": {
          "annotationdefaults": {
           "arrowcolor": "#2a3f5f",
           "arrowhead": 0,
           "arrowwidth": 1
          },
          "autotypenumbers": "strict",
          "coloraxis": {
           "colorbar": {
            "outlinewidth": 0,
            "ticks": ""
           }
          },
          "colorscale": {
           "diverging": [
            [
             0,
             "#8e0152"
            ],
            [
             0.1,
             "#c51b7d"
            ],
            [
             0.2,
             "#de77ae"
            ],
            [
             0.3,
             "#f1b6da"
            ],
            [
             0.4,
             "#fde0ef"
            ],
            [
             0.5,
             "#f7f7f7"
            ],
            [
             0.6,
             "#e6f5d0"
            ],
            [
             0.7,
             "#b8e186"
            ],
            [
             0.8,
             "#7fbc41"
            ],
            [
             0.9,
             "#4d9221"
            ],
            [
             1,
             "#276419"
            ]
           ],
           "sequential": [
            [
             0,
             "#0d0887"
            ],
            [
             0.1111111111111111,
             "#46039f"
            ],
            [
             0.2222222222222222,
             "#7201a8"
            ],
            [
             0.3333333333333333,
             "#9c179e"
            ],
            [
             0.4444444444444444,
             "#bd3786"
            ],
            [
             0.5555555555555556,
             "#d8576b"
            ],
            [
             0.6666666666666666,
             "#ed7953"
            ],
            [
             0.7777777777777778,
             "#fb9f3a"
            ],
            [
             0.8888888888888888,
             "#fdca26"
            ],
            [
             1,
             "#f0f921"
            ]
           ],
           "sequentialminus": [
            [
             0,
             "#0d0887"
            ],
            [
             0.1111111111111111,
             "#46039f"
            ],
            [
             0.2222222222222222,
             "#7201a8"
            ],
            [
             0.3333333333333333,
             "#9c179e"
            ],
            [
             0.4444444444444444,
             "#bd3786"
            ],
            [
             0.5555555555555556,
             "#d8576b"
            ],
            [
             0.6666666666666666,
             "#ed7953"
            ],
            [
             0.7777777777777778,
             "#fb9f3a"
            ],
            [
             0.8888888888888888,
             "#fdca26"
            ],
            [
             1,
             "#f0f921"
            ]
           ]
          },
          "colorway": [
           "#636efa",
           "#EF553B",
           "#00cc96",
           "#ab63fa",
           "#FFA15A",
           "#19d3f3",
           "#FF6692",
           "#B6E880",
           "#FF97FF",
           "#FECB52"
          ],
          "font": {
           "color": "#2a3f5f"
          },
          "geo": {
           "bgcolor": "white",
           "lakecolor": "white",
           "landcolor": "#E5ECF6",
           "showlakes": true,
           "showland": true,
           "subunitcolor": "white"
          },
          "hoverlabel": {
           "align": "left"
          },
          "hovermode": "closest",
          "mapbox": {
           "style": "light"
          },
          "paper_bgcolor": "white",
          "plot_bgcolor": "#E5ECF6",
          "polar": {
           "angularaxis": {
            "gridcolor": "white",
            "linecolor": "white",
            "ticks": ""
           },
           "bgcolor": "#E5ECF6",
           "radialaxis": {
            "gridcolor": "white",
            "linecolor": "white",
            "ticks": ""
           }
          },
          "scene": {
           "xaxis": {
            "backgroundcolor": "#E5ECF6",
            "gridcolor": "white",
            "gridwidth": 2,
            "linecolor": "white",
            "showbackground": true,
            "ticks": "",
            "zerolinecolor": "white"
           },
           "yaxis": {
            "backgroundcolor": "#E5ECF6",
            "gridcolor": "white",
            "gridwidth": 2,
            "linecolor": "white",
            "showbackground": true,
            "ticks": "",
            "zerolinecolor": "white"
           },
           "zaxis": {
            "backgroundcolor": "#E5ECF6",
            "gridcolor": "white",
            "gridwidth": 2,
            "linecolor": "white",
            "showbackground": true,
            "ticks": "",
            "zerolinecolor": "white"
           }
          },
          "shapedefaults": {
           "line": {
            "color": "#2a3f5f"
           }
          },
          "ternary": {
           "aaxis": {
            "gridcolor": "white",
            "linecolor": "white",
            "ticks": ""
           },
           "baxis": {
            "gridcolor": "white",
            "linecolor": "white",
            "ticks": ""
           },
           "bgcolor": "#E5ECF6",
           "caxis": {
            "gridcolor": "white",
            "linecolor": "white",
            "ticks": ""
           }
          },
          "title": {
           "x": 0.05
          },
          "xaxis": {
           "automargin": true,
           "gridcolor": "white",
           "linecolor": "white",
           "ticks": "",
           "title": {
            "standoff": 15
           },
           "zerolinecolor": "white",
           "zerolinewidth": 2
          },
          "yaxis": {
           "automargin": true,
           "gridcolor": "white",
           "linecolor": "white",
           "ticks": "",
           "title": {
            "standoff": 15
           },
           "zerolinecolor": "white",
           "zerolinewidth": 2
          }
         }
        },
        "title": {
         "text": "3D Sentence Clusters(Spacy)"
        }
       }
      }
     },
     "metadata": {},
     "output_type": "display_data"
    }
   ],
   "source": [
    "# Perform t-SNE dimensionality reduction for 3D visualization\n",
    "perplexity_value = min(30, len(sentence_vectors_spacy) - 1)\n",
    "tsne_3d = TSNE(n_components=3,perplexity=perplexity_value, random_state=0)\n",
    "reduced_vectors_3d = tsne_3d.fit_transform(sentence_vectors_spacy)\n",
    "\n",
    "fig = go.Figure()\n",
    "\n",
    "for i in range(num_clusters):\n",
    "    indices = labels_spacy == i\n",
    "    fig.add_trace(go.Scatter3d(\n",
    "        x=reduced_vectors_3d[indices, 0],\n",
    "        y=reduced_vectors_3d[indices, 1],\n",
    "        z=reduced_vectors_3d[indices, 2],\n",
    "        mode='markers',\n",
    "        name=f'Cluster {i+1}'\n",
    "    ))\n",
    "\n",
    "fig.update_layout(title='3D Sentence Clusters(Spacy)',\n",
    "                  scene=dict(xaxis_title='t-SNE Dimension 1',\n",
    "                             yaxis_title='t-SNE Dimension 2',\n",
    "                             zaxis_title='t-SNE Dimension 3'))\n",
    "fig.show()\n"
   ]
  },
  {
   "cell_type": "markdown",
   "metadata": {},
   "source": [
    "## NLTK\n"
   ]
  },
  {
   "cell_type": "code",
   "execution_count": 84,
   "metadata": {},
   "outputs": [],
   "source": [
    "perplexity_value = min(30, len(sentence_vectors_nltk) - 1)\n",
    "tsne = TSNE(n_components=2, perplexity=perplexity_value, random_state=0)\n",
    "reduced_vectors_2d = tsne.fit_transform(sentence_vectors_nltk)"
   ]
  },
  {
   "cell_type": "code",
   "execution_count": 85,
   "metadata": {},
   "outputs": [
    {
     "data": {
      "application/vnd.plotly.v1+json": {
       "config": {
        "plotlyServerURL": "https://plot.ly"
       },
       "data": [
        {
         "mode": "markers",
         "name": "Cluster 1",
         "type": "scatter",
         "x": [
          11.7066011428833,
          11.7066011428833,
          14.742581367492676,
          11.13389778137207,
          11.027034759521484,
          13.861793518066406,
          11.01487922668457,
          12.411164283752441,
          13.594969749450684,
          13.833158493041992,
          9.793277740478516,
          -4.298248767852783,
          9.139403343200684,
          16.59014892578125,
          10.762984275817871,
          13.745058059692383,
          -1.9878249168395996,
          12.517544746398926,
          -1.9878249168395996,
          12.517544746398926,
          6.736967086791992,
          12.517544746398926,
          12.427520751953125,
          15.295894622802734,
          12.517544746398926,
          9.493620872497559,
          17.666433334350586,
          11.793268203735352,
          10.527053833007812,
          14.772550582885742,
          16.690876007080078,
          15.185652732849121,
          13.946573257446289,
          13.946573257446289,
          13.027532577514648,
          10.093496322631836,
          15.187518119812012,
          -14.985828399658203
         ],
         "y": [
          0.2036570906639099,
          0.2036570906639099,
          -2.4348807334899902,
          -3.4030137062072754,
          1.5989434719085693,
          1.6654771566390991,
          -2.172572612762451,
          -3.4478156566619873,
          -3.054745674133301,
          -5.272440433502197,
          -2.219926357269287,
          6.583798408508301,
          -4.736341953277588,
          2.5027146339416504,
          -0.8983805179595947,
          -0.20464910566806793,
          11.861907005310059,
          -1.4847638607025146,
          11.861907005310059,
          -1.4847638607025146,
          1.8084241151809692,
          -1.4847638607025146,
          1.838813066482544,
          -0.816078245639801,
          -1.4847638607025146,
          -0.7644110321998596,
          0.03522320091724396,
          4.37406063079834,
          8.797860145568848,
          0.5498560070991516,
          -4.163618087768555,
          8.009730339050293,
          7.544156074523926,
          7.544156074523926,
          0.6002500057220459,
          0.49858808517456055,
          6.020110130310059,
          4.685980319976807
         ]
        },
        {
         "mode": "markers",
         "name": "Cluster 2",
         "type": "scatter",
         "x": [
          -9.521745681762695,
          14.180441856384277,
          -11.590287208557129,
          -9.802817344665527,
          -11.795352935791016,
          -1.7755533456802368,
          -8.898873329162598,
          -9.917306900024414,
          -8.391929626464844,
          -4.786397933959961,
          -11.01300048828125,
          -3.951184034347534
         ],
         "y": [
          6.6295342445373535,
          -1.3580437898635864,
          7.6810526847839355,
          8.507762908935547,
          10.100074768066406,
          8.258548736572266,
          4.460472106933594,
          4.799966335296631,
          2.7664570808410645,
          9.130107879638672,
          5.159390449523926,
          2.023360252380371
         ]
        },
        {
         "mode": "markers",
         "name": "Cluster 3",
         "type": "scatter",
         "x": [
          -13.12806224822998,
          8.901616096496582,
          -14.376872062683105,
          1.6978529691696167,
          -4.44052791595459,
          -4.37062931060791,
          5.724530220031738,
          -6.608630657196045,
          -4.874340057373047,
          -5.110086441040039,
          -6.578378200531006,
          -11.902770042419434,
          -15.167672157287598,
          3.220075845718384,
          6.47565221786499,
          -5.959392070770264,
          -0.41274452209472656,
          -11.434187889099121,
          6.6662421226501465,
          -2.5121872425079346,
          -2.5121872425079346,
          17.699708938598633,
          -6.107104301452637,
          -15.167672157287598,
          -6.253544807434082,
          -8.280277252197266,
          -7.003207206726074,
          -2.910940647125244,
          5.049766540527344,
          -11.279266357421875
         ],
         "y": [
          -1.9927167892456055,
          3.5578370094299316,
          1.7325685024261475,
          11.997381210327148,
          -3.721158504486084,
          -8.1664400100708,
          12.096050262451172,
          -2.6510868072509766,
          -1.709862470626831,
          -2.3080317974090576,
          -5.50552225112915,
          -0.24129712581634521,
          -9.584247589111328,
          2.762401819229126,
          3.21401047706604,
          -10.014647483825684,
          -0.0901104286313057,
          -5.648526668548584,
          -3.098972797393799,
          -0.5558879375457764,
          -0.5558879375457764,
          -3.256622314453125,
          -8.087715148925781,
          -9.584247589111328,
          -0.549299418926239,
          -1.5489476919174194,
          12.990534782409668,
          1.6826133728027344,
          4.597583293914795,
          1.9144678115844727
         ]
        },
        {
         "mode": "markers",
         "name": "Cluster 4",
         "type": "scatter",
         "x": [
          -9.967162132263184,
          -7.401177883148193,
          -10.189443588256836,
          -14.039112091064453,
          -9.369379997253418,
          -9.660934448242188,
          -8.921483039855957
         ],
         "y": [
          -6.282180309295654,
          -5.885020732879639,
          -7.879376411437988,
          7.394243240356445,
          -9.360883712768555,
          -5.317993640899658,
          -7.022282600402832
         ]
        },
        {
         "mode": "markers",
         "name": "Cluster 5",
         "type": "scatter",
         "x": [
          -0.3198060989379883,
          1.3534282445907593,
          -3.3555686473846436,
          -1.0401602983474731,
          1.0171000957489014,
          -1.9941765069961548,
          -1.0218265056610107
         ],
         "y": [
          -5.946528434753418,
          -5.776294231414795,
          -5.8042402267456055,
          -3.132876396179199,
          -7.702297210693359,
          -3.6192259788513184,
          -5.618022918701172
         ]
        },
        {
         "mode": "markers",
         "name": "Cluster 6",
         "type": "scatter",
         "x": [
          4.782623767852783,
          4.712576389312744
         ],
         "y": [
          -5.543126106262207,
          -5.127627372741699
         ]
        },
        {
         "mode": "markers",
         "name": "Cluster 7",
         "type": "scatter",
         "x": [
          3.2404415607452393,
          -1.2720088958740234,
          -5.423374176025391,
          4.0974907875061035,
          4.0974907875061035,
          -0.052182964980602264,
          -10.32927417755127,
          -4.195028305053711,
          -1.1454451084136963,
          -1.6384422779083252,
          -4.336791038513184,
          -5.0285820960998535,
          -2.271972417831421,
          -16.615713119506836,
          -6.960628509521484,
          -16.635051727294922,
          2.803142786026001,
          -16.16305923461914,
          -7.897100925445557,
          -6.008157730102539,
          -6.864185333251953,
          -1.0561186075210571,
          -7.514451503753662
         ],
         "y": [
          5.514496326446533,
          1.532999873161316,
          2.593125104904175,
          -0.37117999792099,
          -0.37117999792099,
          5.673453330993652,
          2.555974006652832,
          4.171230316162109,
          4.718349456787109,
          6.714968681335449,
          0.8665406703948975,
          5.800583839416504,
          4.911144733428955,
          -4.904638290405273,
          7.4986252784729,
          -4.914046764373779,
          4.791340351104736,
          5.234117031097412,
          6.081180095672607,
          4.440999984741211,
          5.65764856338501,
          2.5772171020507812,
          9.331171035766602
         ]
        },
        {
         "mode": "markers",
         "name": "Cluster 8",
         "type": "scatter",
         "x": [
          2.212632656097412,
          3.4144458770751953,
          1.056550145149231,
          1.7354083061218262
         ],
         "y": [
          7.146137237548828,
          8.168853759765625,
          9.141267776489258,
          -2.2035534381866455
         ]
        },
        {
         "mode": "markers",
         "name": "Cluster 9",
         "type": "scatter",
         "x": [
          -11.782240867614746,
          -13.592556953430176,
          -16.895122528076172,
          -18.34395408630371,
          -16.892187118530273,
          -8.993614196777344,
          -9.109062194824219,
          11.203694343566895,
          -2.8087265491485596,
          0.5644238591194153,
          0.5292940139770508,
          1.1190619468688965,
          -11.905352592468262,
          2.5551443099975586,
          -7.427368640899658,
          -8.281535148620605,
          -12.842588424682617,
          -10.76219654083252,
          -10.76219654083252
         ],
         "y": [
          -3.371502637863159,
          1.5778591632843018,
          -0.41316819190979004,
          0.0359380841255188,
          -0.4114208519458771,
          -0.15822716057300568,
          -2.7894859313964844,
          -6.24466609954834,
          3.1524136066436768,
          -1.112870216369629,
          3.3532636165618896,
          2.592780351638794,
          6.110636234283447,
          0.34534162282943726,
          2.8116002082824707,
          1.6259381771087646,
          3.8526298999786377,
          -1.6178077459335327,
          -1.6178077459335327
         ]
        },
        {
         "mode": "markers",
         "name": "Cluster 10",
         "type": "scatter",
         "x": [
          9.103869438171387,
          9.103869438171387,
          7.691582679748535
         ],
         "y": [
          7.980649948120117,
          7.980649948120117,
          8.038618087768555
         ]
        },
        {
         "mode": "markers",
         "name": "Cluster 11",
         "type": "scatter",
         "x": [
          -2.560732364654541
         ],
         "y": [
          -9.68889045715332
         ]
        },
        {
         "mode": "markers",
         "name": "Cluster 12",
         "type": "scatter",
         "x": [
          8.279559135437012,
          12.916951179504395,
          12.916951179504395,
          1.016802430152893,
          12.916951179504395,
          18.567710876464844,
          16.99835968017578
         ],
         "y": [
          -9.229243278503418,
          -10.185078620910645,
          -10.185078620910645,
          1.3158704042434692,
          -10.185078620910645,
          -5.858611106872559,
          -5.718258857727051
         ]
        }
       ],
       "layout": {
        "legend": {
         "title": {
          "text": "Clusters"
         }
        },
        "template": {
         "data": {
          "bar": [
           {
            "error_x": {
             "color": "#2a3f5f"
            },
            "error_y": {
             "color": "#2a3f5f"
            },
            "marker": {
             "line": {
              "color": "#E5ECF6",
              "width": 0.5
             },
             "pattern": {
              "fillmode": "overlay",
              "size": 10,
              "solidity": 0.2
             }
            },
            "type": "bar"
           }
          ],
          "barpolar": [
           {
            "marker": {
             "line": {
              "color": "#E5ECF6",
              "width": 0.5
             },
             "pattern": {
              "fillmode": "overlay",
              "size": 10,
              "solidity": 0.2
             }
            },
            "type": "barpolar"
           }
          ],
          "carpet": [
           {
            "aaxis": {
             "endlinecolor": "#2a3f5f",
             "gridcolor": "white",
             "linecolor": "white",
             "minorgridcolor": "white",
             "startlinecolor": "#2a3f5f"
            },
            "baxis": {
             "endlinecolor": "#2a3f5f",
             "gridcolor": "white",
             "linecolor": "white",
             "minorgridcolor": "white",
             "startlinecolor": "#2a3f5f"
            },
            "type": "carpet"
           }
          ],
          "choropleth": [
           {
            "colorbar": {
             "outlinewidth": 0,
             "ticks": ""
            },
            "type": "choropleth"
           }
          ],
          "contour": [
           {
            "colorbar": {
             "outlinewidth": 0,
             "ticks": ""
            },
            "colorscale": [
             [
              0,
              "#0d0887"
             ],
             [
              0.1111111111111111,
              "#46039f"
             ],
             [
              0.2222222222222222,
              "#7201a8"
             ],
             [
              0.3333333333333333,
              "#9c179e"
             ],
             [
              0.4444444444444444,
              "#bd3786"
             ],
             [
              0.5555555555555556,
              "#d8576b"
             ],
             [
              0.6666666666666666,
              "#ed7953"
             ],
             [
              0.7777777777777778,
              "#fb9f3a"
             ],
             [
              0.8888888888888888,
              "#fdca26"
             ],
             [
              1,
              "#f0f921"
             ]
            ],
            "type": "contour"
           }
          ],
          "contourcarpet": [
           {
            "colorbar": {
             "outlinewidth": 0,
             "ticks": ""
            },
            "type": "contourcarpet"
           }
          ],
          "heatmap": [
           {
            "colorbar": {
             "outlinewidth": 0,
             "ticks": ""
            },
            "colorscale": [
             [
              0,
              "#0d0887"
             ],
             [
              0.1111111111111111,
              "#46039f"
             ],
             [
              0.2222222222222222,
              "#7201a8"
             ],
             [
              0.3333333333333333,
              "#9c179e"
             ],
             [
              0.4444444444444444,
              "#bd3786"
             ],
             [
              0.5555555555555556,
              "#d8576b"
             ],
             [
              0.6666666666666666,
              "#ed7953"
             ],
             [
              0.7777777777777778,
              "#fb9f3a"
             ],
             [
              0.8888888888888888,
              "#fdca26"
             ],
             [
              1,
              "#f0f921"
             ]
            ],
            "type": "heatmap"
           }
          ],
          "heatmapgl": [
           {
            "colorbar": {
             "outlinewidth": 0,
             "ticks": ""
            },
            "colorscale": [
             [
              0,
              "#0d0887"
             ],
             [
              0.1111111111111111,
              "#46039f"
             ],
             [
              0.2222222222222222,
              "#7201a8"
             ],
             [
              0.3333333333333333,
              "#9c179e"
             ],
             [
              0.4444444444444444,
              "#bd3786"
             ],
             [
              0.5555555555555556,
              "#d8576b"
             ],
             [
              0.6666666666666666,
              "#ed7953"
             ],
             [
              0.7777777777777778,
              "#fb9f3a"
             ],
             [
              0.8888888888888888,
              "#fdca26"
             ],
             [
              1,
              "#f0f921"
             ]
            ],
            "type": "heatmapgl"
           }
          ],
          "histogram": [
           {
            "marker": {
             "pattern": {
              "fillmode": "overlay",
              "size": 10,
              "solidity": 0.2
             }
            },
            "type": "histogram"
           }
          ],
          "histogram2d": [
           {
            "colorbar": {
             "outlinewidth": 0,
             "ticks": ""
            },
            "colorscale": [
             [
              0,
              "#0d0887"
             ],
             [
              0.1111111111111111,
              "#46039f"
             ],
             [
              0.2222222222222222,
              "#7201a8"
             ],
             [
              0.3333333333333333,
              "#9c179e"
             ],
             [
              0.4444444444444444,
              "#bd3786"
             ],
             [
              0.5555555555555556,
              "#d8576b"
             ],
             [
              0.6666666666666666,
              "#ed7953"
             ],
             [
              0.7777777777777778,
              "#fb9f3a"
             ],
             [
              0.8888888888888888,
              "#fdca26"
             ],
             [
              1,
              "#f0f921"
             ]
            ],
            "type": "histogram2d"
           }
          ],
          "histogram2dcontour": [
           {
            "colorbar": {
             "outlinewidth": 0,
             "ticks": ""
            },
            "colorscale": [
             [
              0,
              "#0d0887"
             ],
             [
              0.1111111111111111,
              "#46039f"
             ],
             [
              0.2222222222222222,
              "#7201a8"
             ],
             [
              0.3333333333333333,
              "#9c179e"
             ],
             [
              0.4444444444444444,
              "#bd3786"
             ],
             [
              0.5555555555555556,
              "#d8576b"
             ],
             [
              0.6666666666666666,
              "#ed7953"
             ],
             [
              0.7777777777777778,
              "#fb9f3a"
             ],
             [
              0.8888888888888888,
              "#fdca26"
             ],
             [
              1,
              "#f0f921"
             ]
            ],
            "type": "histogram2dcontour"
           }
          ],
          "mesh3d": [
           {
            "colorbar": {
             "outlinewidth": 0,
             "ticks": ""
            },
            "type": "mesh3d"
           }
          ],
          "parcoords": [
           {
            "line": {
             "colorbar": {
              "outlinewidth": 0,
              "ticks": ""
             }
            },
            "type": "parcoords"
           }
          ],
          "pie": [
           {
            "automargin": true,
            "type": "pie"
           }
          ],
          "scatter": [
           {
            "fillpattern": {
             "fillmode": "overlay",
             "size": 10,
             "solidity": 0.2
            },
            "type": "scatter"
           }
          ],
          "scatter3d": [
           {
            "line": {
             "colorbar": {
              "outlinewidth": 0,
              "ticks": ""
             }
            },
            "marker": {
             "colorbar": {
              "outlinewidth": 0,
              "ticks": ""
             }
            },
            "type": "scatter3d"
           }
          ],
          "scattercarpet": [
           {
            "marker": {
             "colorbar": {
              "outlinewidth": 0,
              "ticks": ""
             }
            },
            "type": "scattercarpet"
           }
          ],
          "scattergeo": [
           {
            "marker": {
             "colorbar": {
              "outlinewidth": 0,
              "ticks": ""
             }
            },
            "type": "scattergeo"
           }
          ],
          "scattergl": [
           {
            "marker": {
             "colorbar": {
              "outlinewidth": 0,
              "ticks": ""
             }
            },
            "type": "scattergl"
           }
          ],
          "scattermapbox": [
           {
            "marker": {
             "colorbar": {
              "outlinewidth": 0,
              "ticks": ""
             }
            },
            "type": "scattermapbox"
           }
          ],
          "scatterpolar": [
           {
            "marker": {
             "colorbar": {
              "outlinewidth": 0,
              "ticks": ""
             }
            },
            "type": "scatterpolar"
           }
          ],
          "scatterpolargl": [
           {
            "marker": {
             "colorbar": {
              "outlinewidth": 0,
              "ticks": ""
             }
            },
            "type": "scatterpolargl"
           }
          ],
          "scatterternary": [
           {
            "marker": {
             "colorbar": {
              "outlinewidth": 0,
              "ticks": ""
             }
            },
            "type": "scatterternary"
           }
          ],
          "surface": [
           {
            "colorbar": {
             "outlinewidth": 0,
             "ticks": ""
            },
            "colorscale": [
             [
              0,
              "#0d0887"
             ],
             [
              0.1111111111111111,
              "#46039f"
             ],
             [
              0.2222222222222222,
              "#7201a8"
             ],
             [
              0.3333333333333333,
              "#9c179e"
             ],
             [
              0.4444444444444444,
              "#bd3786"
             ],
             [
              0.5555555555555556,
              "#d8576b"
             ],
             [
              0.6666666666666666,
              "#ed7953"
             ],
             [
              0.7777777777777778,
              "#fb9f3a"
             ],
             [
              0.8888888888888888,
              "#fdca26"
             ],
             [
              1,
              "#f0f921"
             ]
            ],
            "type": "surface"
           }
          ],
          "table": [
           {
            "cells": {
             "fill": {
              "color": "#EBF0F8"
             },
             "line": {
              "color": "white"
             }
            },
            "header": {
             "fill": {
              "color": "#C8D4E3"
             },
             "line": {
              "color": "white"
             }
            },
            "type": "table"
           }
          ]
         },
         "layout": {
          "annotationdefaults": {
           "arrowcolor": "#2a3f5f",
           "arrowhead": 0,
           "arrowwidth": 1
          },
          "autotypenumbers": "strict",
          "coloraxis": {
           "colorbar": {
            "outlinewidth": 0,
            "ticks": ""
           }
          },
          "colorscale": {
           "diverging": [
            [
             0,
             "#8e0152"
            ],
            [
             0.1,
             "#c51b7d"
            ],
            [
             0.2,
             "#de77ae"
            ],
            [
             0.3,
             "#f1b6da"
            ],
            [
             0.4,
             "#fde0ef"
            ],
            [
             0.5,
             "#f7f7f7"
            ],
            [
             0.6,
             "#e6f5d0"
            ],
            [
             0.7,
             "#b8e186"
            ],
            [
             0.8,
             "#7fbc41"
            ],
            [
             0.9,
             "#4d9221"
            ],
            [
             1,
             "#276419"
            ]
           ],
           "sequential": [
            [
             0,
             "#0d0887"
            ],
            [
             0.1111111111111111,
             "#46039f"
            ],
            [
             0.2222222222222222,
             "#7201a8"
            ],
            [
             0.3333333333333333,
             "#9c179e"
            ],
            [
             0.4444444444444444,
             "#bd3786"
            ],
            [
             0.5555555555555556,
             "#d8576b"
            ],
            [
             0.6666666666666666,
             "#ed7953"
            ],
            [
             0.7777777777777778,
             "#fb9f3a"
            ],
            [
             0.8888888888888888,
             "#fdca26"
            ],
            [
             1,
             "#f0f921"
            ]
           ],
           "sequentialminus": [
            [
             0,
             "#0d0887"
            ],
            [
             0.1111111111111111,
             "#46039f"
            ],
            [
             0.2222222222222222,
             "#7201a8"
            ],
            [
             0.3333333333333333,
             "#9c179e"
            ],
            [
             0.4444444444444444,
             "#bd3786"
            ],
            [
             0.5555555555555556,
             "#d8576b"
            ],
            [
             0.6666666666666666,
             "#ed7953"
            ],
            [
             0.7777777777777778,
             "#fb9f3a"
            ],
            [
             0.8888888888888888,
             "#fdca26"
            ],
            [
             1,
             "#f0f921"
            ]
           ]
          },
          "colorway": [
           "#636efa",
           "#EF553B",
           "#00cc96",
           "#ab63fa",
           "#FFA15A",
           "#19d3f3",
           "#FF6692",
           "#B6E880",
           "#FF97FF",
           "#FECB52"
          ],
          "font": {
           "color": "#2a3f5f"
          },
          "geo": {
           "bgcolor": "white",
           "lakecolor": "white",
           "landcolor": "#E5ECF6",
           "showlakes": true,
           "showland": true,
           "subunitcolor": "white"
          },
          "hoverlabel": {
           "align": "left"
          },
          "hovermode": "closest",
          "mapbox": {
           "style": "light"
          },
          "paper_bgcolor": "white",
          "plot_bgcolor": "#E5ECF6",
          "polar": {
           "angularaxis": {
            "gridcolor": "white",
            "linecolor": "white",
            "ticks": ""
           },
           "bgcolor": "#E5ECF6",
           "radialaxis": {
            "gridcolor": "white",
            "linecolor": "white",
            "ticks": ""
           }
          },
          "scene": {
           "xaxis": {
            "backgroundcolor": "#E5ECF6",
            "gridcolor": "white",
            "gridwidth": 2,
            "linecolor": "white",
            "showbackground": true,
            "ticks": "",
            "zerolinecolor": "white"
           },
           "yaxis": {
            "backgroundcolor": "#E5ECF6",
            "gridcolor": "white",
            "gridwidth": 2,
            "linecolor": "white",
            "showbackground": true,
            "ticks": "",
            "zerolinecolor": "white"
           },
           "zaxis": {
            "backgroundcolor": "#E5ECF6",
            "gridcolor": "white",
            "gridwidth": 2,
            "linecolor": "white",
            "showbackground": true,
            "ticks": "",
            "zerolinecolor": "white"
           }
          },
          "shapedefaults": {
           "line": {
            "color": "#2a3f5f"
           }
          },
          "ternary": {
           "aaxis": {
            "gridcolor": "white",
            "linecolor": "white",
            "ticks": ""
           },
           "baxis": {
            "gridcolor": "white",
            "linecolor": "white",
            "ticks": ""
           },
           "bgcolor": "#E5ECF6",
           "caxis": {
            "gridcolor": "white",
            "linecolor": "white",
            "ticks": ""
           }
          },
          "title": {
           "x": 0.05
          },
          "xaxis": {
           "automargin": true,
           "gridcolor": "white",
           "linecolor": "white",
           "ticks": "",
           "title": {
            "standoff": 15
           },
           "zerolinecolor": "white",
           "zerolinewidth": 2
          },
          "yaxis": {
           "automargin": true,
           "gridcolor": "white",
           "linecolor": "white",
           "ticks": "",
           "title": {
            "standoff": 15
           },
           "zerolinecolor": "white",
           "zerolinewidth": 2
          }
         }
        },
        "title": {
         "text": "Sentence Clusters Visualized with t-SNE(NLTK)"
        },
        "xaxis": {
         "title": {
          "text": "t-SNE Dimension 1"
         }
        },
        "yaxis": {
         "title": {
          "text": "t-SNE Dimension 2"
         }
        }
       }
      }
     },
     "metadata": {},
     "output_type": "display_data"
    }
   ],
   "source": [
    "fig = go.Figure()\n",
    "for i in range(num_clusters):\n",
    "    indices = labels_spacy == i\n",
    "    fig.add_trace(go.Scatter(\n",
    "        x=reduced_vectors_2d[indices, 0],\n",
    "        y=reduced_vectors_2d[indices, 1],\n",
    "        mode='markers',\n",
    "        name=f'Cluster {i + 1}'\n",
    "    ))\n",
    "\n",
    "fig.update_layout(\n",
    "    title='Sentence Clusters Visualized with t-SNE(NLTK)',\n",
    "    xaxis_title='t-SNE Dimension 1',\n",
    "    yaxis_title='t-SNE Dimension 2',\n",
    "    legend_title=\"Clusters\"\n",
    ")\n",
    "\n",
    "pio.show(fig)"
   ]
  },
  {
   "cell_type": "code",
   "execution_count": 86,
   "metadata": {},
   "outputs": [
    {
     "data": {
      "application/vnd.plotly.v1+json": {
       "config": {
        "plotlyServerURL": "https://plot.ly"
       },
       "data": [
        {
         "mode": "markers",
         "name": "Cluster 1",
         "type": "scatter3d",
         "x": [
          -60.45820236206055,
          -60.45820236206055,
          -59.593994140625,
          18.031017303466797,
          -45.7210578918457,
          -45.03476333618164,
          -28.222522735595703,
          -41.0510368347168,
          -32.73154067993164,
          -11.399465560913086,
          6.435436248779297,
          18.42026138305664,
          -22.78511619567871,
          -19.381546020507812,
          0.518130898475647,
          -31.98523712158203,
          73.97441864013672,
          -9.422322273254395,
          73.97441864013672,
          -9.422322273254395,
          10.255857467651367,
          -9.422322273254395,
          -19.3590030670166,
          -25.301912307739258,
          -9.422322273254395,
          -58.71348571777344,
          -62.57759094238281,
          -44.64379119873047,
          103.46829986572266,
          -10.770421028137207,
          -8.522359848022461,
          -68.74498748779297,
          -52.831321716308594,
          -52.831321716308594,
          41.742855072021484,
          36.80234146118164,
          -64.59514617919922,
          -9.265307426452637
         ],
         "y": [
          152.096923828125,
          152.096923828125,
          43.757320404052734,
          55.7188606262207,
          58.168819427490234,
          62.53970718383789,
          91.92887115478516,
          26.590839385986328,
          33.42203903198242,
          29.657381057739258,
          73.38516998291016,
          2.0728185176849365,
          0.7882561683654785,
          118.43122863769531,
          29.02931022644043,
          64.42655944824219,
          -2.8621227741241455,
          43.74755859375,
          -2.8621227741241455,
          43.74755859375,
          90.23783874511719,
          43.74755859375,
          50.34052276611328,
          82.36640167236328,
          43.74755859375,
          78.94404602050781,
          97.13345336914062,
          50.85560989379883,
          -9.070570945739746,
          60.390377044677734,
          78.56243896484375,
          23.705659866333008,
          29.47660255432129,
          29.47660255432129,
          -73.85332489013672,
          -93.34400939941406,
          -2.8100504875183105,
          -63.126556396484375
         ],
         "z": [
          29.350719451904297,
          29.350719451904297,
          -23.340436935424805,
          -29.839218139648438,
          6.446206569671631,
          -53.192405700683594,
          -39.171382904052734,
          -0.8695476055145264,
          -37.446693420410156,
          -73.552734375,
          8.198692321777344,
          6.504209041595459,
          -42.920989990234375,
          -6.000156879425049,
          -40.797760009765625,
          -23.776809692382812,
          88.97398376464844,
          -8.77250862121582,
          88.97398376464844,
          -8.77250862121582,
          -72.09117889404297,
          -8.77250862121582,
          24.901968002319336,
          3.5258326530456543,
          -8.77250862121582,
          -21.32011604309082,
          11.534489631652832,
          52.2098274230957,
          -62.36686706542969,
          -49.233802795410156,
          46.86004638671875,
          -61.45013427734375,
          -85.04232025146484,
          -85.04232025146484,
          -64.34475708007812,
          16.534303665161133,
          -90.04165649414062,
          75.19978332519531
         ]
        },
        {
         "mode": "markers",
         "name": "Cluster 2",
         "type": "scatter3d",
         "x": [
          77.165771484375,
          -1.738755702972412,
          43.85551834106445,
          124.83290100097656,
          27.914602279663086,
          64.74544525146484,
          47.232975006103516,
          59.96199417114258,
          20.21152687072754,
          -44.788490295410156,
          90.91365814208984,
          69.41129302978516
         ],
         "y": [
          -42.76368713378906,
          82.21309661865234,
          -27.123933792114258,
          -4.565580368041992,
          -100.0112075805664,
          -22.525558471679688,
          -38.292396545410156,
          -18.749889373779297,
          -14.766678810119629,
          -83.67693328857422,
          -16.76011848449707,
          27.389997482299805
         ],
         "z": [
          -19.053268432617188,
          -21.987930297851562,
          -86.23056030273438,
          23.343280792236328,
          59.00140380859375,
          60.990234375,
          -21.84816551208496,
          -39.124568939208984,
          78.54075622558594,
          39.68456268310547,
          -13.898809432983398,
          25.95685577392578
         ]
        },
        {
         "mode": "markers",
         "name": "Cluster 3",
         "type": "scatter3d",
         "x": [
          -57.083763122558594,
          45.76615905761719,
          -23.209041595458984,
          -111.22140502929688,
          59.692787170410156,
          -83.0274429321289,
          62.219085693359375,
          20.33799171447754,
          -86.08731079101562,
          46.06388473510742,
          -12.4954833984375,
          -50.9342041015625,
          -84.26942443847656,
          -10.299846649169922,
          29.6003475189209,
          -15.219368934631348,
          -95.50148010253906,
          -30.627187728881836,
          32.14891052246094,
          49.12954330444336,
          49.12954330444336,
          17.54482078552246,
          12.925905227661133,
          -84.26942443847656,
          -79.69416809082031,
          29.00182342529297,
          31.207542419433594,
          92.7197494506836,
          26.656957626342773,
          100.90510559082031
         ],
         "y": [
          -5.9583892822265625,
          78.65762329101562,
          -49.174049377441406,
          -47.544578552246094,
          17.741586685180664,
          -20.778636932373047,
          67.83109283447266,
          -34.48112106323242,
          -57.83547592163086,
          -54.543067932128906,
          -28.22197151184082,
          -37.222103118896484,
          -11.514110565185547,
          -5.17993688583374,
          84.57240295410156,
          -48.469966888427734,
          -19.13628387451172,
          -73.24520111083984,
          25.11102867126465,
          31.924232482910156,
          31.924232482910156,
          68.26420593261719,
          -59.436946868896484,
          -11.514110565185547,
          -50.260860443115234,
          39.59245681762695,
          -118.80520629882812,
          28.836856842041016,
          6.468630313873291,
          -51.05387496948242
         ],
         "z": [
          -16.23117446899414,
          -3.0125513076782227,
          42.13203048706055,
          -24.699464797973633,
          -86.91876983642578,
          -39.71678924560547,
          -66.18077850341797,
          -48.2033805847168,
          27.055166244506836,
          64.35259246826172,
          -68.53317260742188,
          17.375242233276367,
          29.398889541625977,
          -100.69534301757812,
          -46.74391555786133,
          -103.63465881347656,
          -9.38335132598877,
          -16.465709686279297,
          101.19415283203125,
          -10.755542755126953,
          -10.755542755126953,
          45.79301452636719,
          -85.8653793334961,
          29.398889541625977,
          -59.91722106933594,
          24.8017520904541,
          -20.670276641845703,
          28.107046127319336,
          -27.562908172607422,
          44.758941650390625
         ]
        },
        {
         "mode": "markers",
         "name": "Cluster 4",
         "type": "scatter3d",
         "x": [
          -36.68688201904297,
          -37.74067687988281,
          -41.01261901855469,
          -32.705631256103516,
          -53.94309997558594,
          -15.357672691345215,
          -10.975737571716309
         ],
         "y": [
          -60.116493225097656,
          -31.703271865844727,
          -70.41836547851562,
          -35.27375411987305,
          -92.08958435058594,
          -51.65950393676758,
          -70.18682861328125
         ],
         "z": [
          -45.91632843017578,
          -67.56062316894531,
          -73.01658630371094,
          103.85319519042969,
          -51.6083869934082,
          -35.67395782470703,
          -59.896175384521484
         ]
        },
        {
         "mode": "markers",
         "name": "Cluster 5",
         "type": "scatter3d",
         "x": [
          81.5576400756836,
          74.03995513916016,
          -22.304121017456055,
          108.27941131591797,
          84.44181823730469,
          84.96613311767578,
          79.34406280517578
         ],
         "y": [
          39.30171585083008,
          61.81007385253906,
          -108.55455780029297,
          42.48191833496094,
          68.03995513916016,
          29.687599182128906,
          15.957331657409668
         ],
         "z": [
          -43.70746994018555,
          -21.433677673339844,
          62.74317169189453,
          -1.6933835744857788,
          16.7462158203125,
          -8.556051254272461,
          -37.924407958984375
         ]
        },
        {
         "mode": "markers",
         "name": "Cluster 6",
         "type": "scatter3d",
         "x": [
          20.29598045349121,
          20.111186981201172
         ],
         "y": [
          -47.26447677612305,
          -25.939491271972656
         ],
         "z": [
          43.29972457885742,
          39.6922721862793
         ]
        },
        {
         "mode": "markers",
         "name": "Cluster 7",
         "type": "scatter3d",
         "x": [
          -0.7235546112060547,
          76.68872833251953,
          45.70570373535156,
          -15.447553634643555,
          -15.447553634643555,
          -22.98052978515625,
          75.50318145751953,
          59.86707305908203,
          5.62960958480835,
          48.72631072998047,
          90.02775573730469,
          35.784854888916016,
          55.550148010253906,
          69.88140106201172,
          109.43708801269531,
          59.23637390136719,
          3.0625336170196533,
          13.531896591186523,
          282.2542419433594,
          60.53202438354492,
          47.56402587890625,
          -10.178075790405273,
          12.14306926727295
         ],
         "y": [
          45.21004104614258,
          -5.303258895874023,
          -51.066925048828125,
          18.33531379699707,
          18.33531379699707,
          14.708536148071289,
          -48.627471923828125,
          38.15195846557617,
          7.466042518615723,
          1.8976995944976807,
          6.443516731262207,
          -17.553163528442383,
          -25.385828018188477,
          -82.11969757080078,
          -54.70712661743164,
          -83.17340087890625,
          -85.83757781982422,
          -58.16630554199219,
          2.3723366260528564,
          1.957506537437439,
          6.049328327178955,
          -18.98214340209961,
          -33.51837921142578
         ],
         "z": [
          -109.17820739746094,
          17.489803314208984,
          11.331931114196777,
          88.09861755371094,
          88.09861755371094,
          44.21409606933594,
          32.33789825439453,
          60.83474349975586,
          40.880531311035156,
          50.35805130004883,
          46.8905143737793,
          3.034345865249634,
          33.33793258666992,
          -9.760394096374512,
          -2.556415319442749,
          -28.14115333557129,
          -1.2586641311645508,
          90.11809539794922,
          -29.56145668029785,
          -10.027874946594238,
          15.932682037353516,
          61.80694580078125,
          124.71116638183594
         ]
        },
        {
         "mode": "markers",
         "name": "Cluster 8",
         "type": "scatter3d",
         "x": [
          -51.74822235107422,
          -62.01306915283203,
          70.12325286865234,
          -19.444381713867188
         ],
         "y": [
          -26.83749771118164,
          -57.844818115234375,
          -80.26371002197266,
          -118.86061096191406
         ],
         "z": [
          64.52058410644531,
          65.89263916015625,
          41.87515640258789,
          -21.523845672607422
         ]
        },
        {
         "mode": "markers",
         "name": "Cluster 9",
         "type": "scatter3d",
         "x": [
          -67.0902328491211,
          -18.283010482788086,
          -17.362329483032227,
          57.5555419921875,
          -22.608264923095703,
          73.47657012939453,
          19.431245803833008,
          27.107929229736328,
          -108.234130859375,
          -7.388066291809082,
          14.660967826843262,
          -99.21519470214844,
          5.0775041580200195,
          -65.27604675292969,
          28.629329681396484,
          11.504141807556152,
          -0.9626734852790833,
          -39.24750900268555,
          -39.24750900268555
         ],
         "y": [
          -50.86467361450195,
          -49.098304748535156,
          -4.006378173828125,
          81.30626678466797,
          -13.43543529510498,
          -46.90764236450195,
          -64.27779388427734,
          43.306907653808594,
          27.664661407470703,
          -106.95987701416016,
          26.107467651367188,
          1.7356775999069214,
          -25.36137580871582,
          -85.2536849975586,
          -0.0247526653110981,
          -49.29914855957031,
          -79.27960968017578,
          -31.724794387817383,
          -31.724794387817383
         ],
         "z": [
          -17.070051193237305,
          18.51151466369629,
          2.155632495880127,
          49.254600524902344,
          20.360889434814453,
          -63.19825744628906,
          -28.757299423217773,
          -71.15901184082031,
          -20.781261444091797,
          -46.622318267822266,
          60.446170806884766,
          -48.40523910522461,
          -17.339792251586914,
          1.1345535516738892,
          -62.24086380004883,
          2.4724504947662354,
          34.68490219116211,
          -13.91936206817627,
          -13.91936206817627
         ]
        },
        {
         "mode": "markers",
         "name": "Cluster 10",
         "type": "scatter3d",
         "x": [
          -64.0782241821289,
          -64.0782241821289,
          -77.4054183959961
         ],
         "y": [
          18.800987243652344,
          18.800987243652344,
          12.206070899963379
         ],
         "z": [
          90.25032043457031,
          90.25032043457031,
          64.21699523925781
         ]
        },
        {
         "mode": "markers",
         "name": "Cluster 11",
         "type": "scatter3d",
         "x": [
          30.2486572265625
         ],
         "y": [
          114.53482055664062
         ],
         "z": [
          15.789426803588867
         ]
        },
        {
         "mode": "markers",
         "name": "Cluster 12",
         "type": "scatter3d",
         "x": [
          -39.4547119140625,
          -86.99911499023438,
          -86.99911499023438,
          -85.27824401855469,
          -86.99911499023438,
          -0.7827317714691162,
          3.729672431945801
         ],
         "y": [
          94.70915985107422,
          44.72562026977539,
          44.72562026977539,
          59.08278274536133,
          44.72562026977539,
          69.7374496459961,
          99.33096313476562
         ],
         "z": [
          51.0530891418457,
          17.866071701049805,
          17.866071701049805,
          56.614654541015625,
          17.866071701049805,
          80.18010711669922,
          65.3571548461914
         ]
        }
       ],
       "layout": {
        "scene": {
         "xaxis": {
          "title": {
           "text": "t-SNE Dimension 1"
          }
         },
         "yaxis": {
          "title": {
           "text": "t-SNE Dimension 2"
          }
         },
         "zaxis": {
          "title": {
           "text": "t-SNE Dimension 3"
          }
         }
        },
        "template": {
         "data": {
          "bar": [
           {
            "error_x": {
             "color": "#2a3f5f"
            },
            "error_y": {
             "color": "#2a3f5f"
            },
            "marker": {
             "line": {
              "color": "#E5ECF6",
              "width": 0.5
             },
             "pattern": {
              "fillmode": "overlay",
              "size": 10,
              "solidity": 0.2
             }
            },
            "type": "bar"
           }
          ],
          "barpolar": [
           {
            "marker": {
             "line": {
              "color": "#E5ECF6",
              "width": 0.5
             },
             "pattern": {
              "fillmode": "overlay",
              "size": 10,
              "solidity": 0.2
             }
            },
            "type": "barpolar"
           }
          ],
          "carpet": [
           {
            "aaxis": {
             "endlinecolor": "#2a3f5f",
             "gridcolor": "white",
             "linecolor": "white",
             "minorgridcolor": "white",
             "startlinecolor": "#2a3f5f"
            },
            "baxis": {
             "endlinecolor": "#2a3f5f",
             "gridcolor": "white",
             "linecolor": "white",
             "minorgridcolor": "white",
             "startlinecolor": "#2a3f5f"
            },
            "type": "carpet"
           }
          ],
          "choropleth": [
           {
            "colorbar": {
             "outlinewidth": 0,
             "ticks": ""
            },
            "type": "choropleth"
           }
          ],
          "contour": [
           {
            "colorbar": {
             "outlinewidth": 0,
             "ticks": ""
            },
            "colorscale": [
             [
              0,
              "#0d0887"
             ],
             [
              0.1111111111111111,
              "#46039f"
             ],
             [
              0.2222222222222222,
              "#7201a8"
             ],
             [
              0.3333333333333333,
              "#9c179e"
             ],
             [
              0.4444444444444444,
              "#bd3786"
             ],
             [
              0.5555555555555556,
              "#d8576b"
             ],
             [
              0.6666666666666666,
              "#ed7953"
             ],
             [
              0.7777777777777778,
              "#fb9f3a"
             ],
             [
              0.8888888888888888,
              "#fdca26"
             ],
             [
              1,
              "#f0f921"
             ]
            ],
            "type": "contour"
           }
          ],
          "contourcarpet": [
           {
            "colorbar": {
             "outlinewidth": 0,
             "ticks": ""
            },
            "type": "contourcarpet"
           }
          ],
          "heatmap": [
           {
            "colorbar": {
             "outlinewidth": 0,
             "ticks": ""
            },
            "colorscale": [
             [
              0,
              "#0d0887"
             ],
             [
              0.1111111111111111,
              "#46039f"
             ],
             [
              0.2222222222222222,
              "#7201a8"
             ],
             [
              0.3333333333333333,
              "#9c179e"
             ],
             [
              0.4444444444444444,
              "#bd3786"
             ],
             [
              0.5555555555555556,
              "#d8576b"
             ],
             [
              0.6666666666666666,
              "#ed7953"
             ],
             [
              0.7777777777777778,
              "#fb9f3a"
             ],
             [
              0.8888888888888888,
              "#fdca26"
             ],
             [
              1,
              "#f0f921"
             ]
            ],
            "type": "heatmap"
           }
          ],
          "heatmapgl": [
           {
            "colorbar": {
             "outlinewidth": 0,
             "ticks": ""
            },
            "colorscale": [
             [
              0,
              "#0d0887"
             ],
             [
              0.1111111111111111,
              "#46039f"
             ],
             [
              0.2222222222222222,
              "#7201a8"
             ],
             [
              0.3333333333333333,
              "#9c179e"
             ],
             [
              0.4444444444444444,
              "#bd3786"
             ],
             [
              0.5555555555555556,
              "#d8576b"
             ],
             [
              0.6666666666666666,
              "#ed7953"
             ],
             [
              0.7777777777777778,
              "#fb9f3a"
             ],
             [
              0.8888888888888888,
              "#fdca26"
             ],
             [
              1,
              "#f0f921"
             ]
            ],
            "type": "heatmapgl"
           }
          ],
          "histogram": [
           {
            "marker": {
             "pattern": {
              "fillmode": "overlay",
              "size": 10,
              "solidity": 0.2
             }
            },
            "type": "histogram"
           }
          ],
          "histogram2d": [
           {
            "colorbar": {
             "outlinewidth": 0,
             "ticks": ""
            },
            "colorscale": [
             [
              0,
              "#0d0887"
             ],
             [
              0.1111111111111111,
              "#46039f"
             ],
             [
              0.2222222222222222,
              "#7201a8"
             ],
             [
              0.3333333333333333,
              "#9c179e"
             ],
             [
              0.4444444444444444,
              "#bd3786"
             ],
             [
              0.5555555555555556,
              "#d8576b"
             ],
             [
              0.6666666666666666,
              "#ed7953"
             ],
             [
              0.7777777777777778,
              "#fb9f3a"
             ],
             [
              0.8888888888888888,
              "#fdca26"
             ],
             [
              1,
              "#f0f921"
             ]
            ],
            "type": "histogram2d"
           }
          ],
          "histogram2dcontour": [
           {
            "colorbar": {
             "outlinewidth": 0,
             "ticks": ""
            },
            "colorscale": [
             [
              0,
              "#0d0887"
             ],
             [
              0.1111111111111111,
              "#46039f"
             ],
             [
              0.2222222222222222,
              "#7201a8"
             ],
             [
              0.3333333333333333,
              "#9c179e"
             ],
             [
              0.4444444444444444,
              "#bd3786"
             ],
             [
              0.5555555555555556,
              "#d8576b"
             ],
             [
              0.6666666666666666,
              "#ed7953"
             ],
             [
              0.7777777777777778,
              "#fb9f3a"
             ],
             [
              0.8888888888888888,
              "#fdca26"
             ],
             [
              1,
              "#f0f921"
             ]
            ],
            "type": "histogram2dcontour"
           }
          ],
          "mesh3d": [
           {
            "colorbar": {
             "outlinewidth": 0,
             "ticks": ""
            },
            "type": "mesh3d"
           }
          ],
          "parcoords": [
           {
            "line": {
             "colorbar": {
              "outlinewidth": 0,
              "ticks": ""
             }
            },
            "type": "parcoords"
           }
          ],
          "pie": [
           {
            "automargin": true,
            "type": "pie"
           }
          ],
          "scatter": [
           {
            "fillpattern": {
             "fillmode": "overlay",
             "size": 10,
             "solidity": 0.2
            },
            "type": "scatter"
           }
          ],
          "scatter3d": [
           {
            "line": {
             "colorbar": {
              "outlinewidth": 0,
              "ticks": ""
             }
            },
            "marker": {
             "colorbar": {
              "outlinewidth": 0,
              "ticks": ""
             }
            },
            "type": "scatter3d"
           }
          ],
          "scattercarpet": [
           {
            "marker": {
             "colorbar": {
              "outlinewidth": 0,
              "ticks": ""
             }
            },
            "type": "scattercarpet"
           }
          ],
          "scattergeo": [
           {
            "marker": {
             "colorbar": {
              "outlinewidth": 0,
              "ticks": ""
             }
            },
            "type": "scattergeo"
           }
          ],
          "scattergl": [
           {
            "marker": {
             "colorbar": {
              "outlinewidth": 0,
              "ticks": ""
             }
            },
            "type": "scattergl"
           }
          ],
          "scattermapbox": [
           {
            "marker": {
             "colorbar": {
              "outlinewidth": 0,
              "ticks": ""
             }
            },
            "type": "scattermapbox"
           }
          ],
          "scatterpolar": [
           {
            "marker": {
             "colorbar": {
              "outlinewidth": 0,
              "ticks": ""
             }
            },
            "type": "scatterpolar"
           }
          ],
          "scatterpolargl": [
           {
            "marker": {
             "colorbar": {
              "outlinewidth": 0,
              "ticks": ""
             }
            },
            "type": "scatterpolargl"
           }
          ],
          "scatterternary": [
           {
            "marker": {
             "colorbar": {
              "outlinewidth": 0,
              "ticks": ""
             }
            },
            "type": "scatterternary"
           }
          ],
          "surface": [
           {
            "colorbar": {
             "outlinewidth": 0,
             "ticks": ""
            },
            "colorscale": [
             [
              0,
              "#0d0887"
             ],
             [
              0.1111111111111111,
              "#46039f"
             ],
             [
              0.2222222222222222,
              "#7201a8"
             ],
             [
              0.3333333333333333,
              "#9c179e"
             ],
             [
              0.4444444444444444,
              "#bd3786"
             ],
             [
              0.5555555555555556,
              "#d8576b"
             ],
             [
              0.6666666666666666,
              "#ed7953"
             ],
             [
              0.7777777777777778,
              "#fb9f3a"
             ],
             [
              0.8888888888888888,
              "#fdca26"
             ],
             [
              1,
              "#f0f921"
             ]
            ],
            "type": "surface"
           }
          ],
          "table": [
           {
            "cells": {
             "fill": {
              "color": "#EBF0F8"
             },
             "line": {
              "color": "white"
             }
            },
            "header": {
             "fill": {
              "color": "#C8D4E3"
             },
             "line": {
              "color": "white"
             }
            },
            "type": "table"
           }
          ]
         },
         "layout": {
          "annotationdefaults": {
           "arrowcolor": "#2a3f5f",
           "arrowhead": 0,
           "arrowwidth": 1
          },
          "autotypenumbers": "strict",
          "coloraxis": {
           "colorbar": {
            "outlinewidth": 0,
            "ticks": ""
           }
          },
          "colorscale": {
           "diverging": [
            [
             0,
             "#8e0152"
            ],
            [
             0.1,
             "#c51b7d"
            ],
            [
             0.2,
             "#de77ae"
            ],
            [
             0.3,
             "#f1b6da"
            ],
            [
             0.4,
             "#fde0ef"
            ],
            [
             0.5,
             "#f7f7f7"
            ],
            [
             0.6,
             "#e6f5d0"
            ],
            [
             0.7,
             "#b8e186"
            ],
            [
             0.8,
             "#7fbc41"
            ],
            [
             0.9,
             "#4d9221"
            ],
            [
             1,
             "#276419"
            ]
           ],
           "sequential": [
            [
             0,
             "#0d0887"
            ],
            [
             0.1111111111111111,
             "#46039f"
            ],
            [
             0.2222222222222222,
             "#7201a8"
            ],
            [
             0.3333333333333333,
             "#9c179e"
            ],
            [
             0.4444444444444444,
             "#bd3786"
            ],
            [
             0.5555555555555556,
             "#d8576b"
            ],
            [
             0.6666666666666666,
             "#ed7953"
            ],
            [
             0.7777777777777778,
             "#fb9f3a"
            ],
            [
             0.8888888888888888,
             "#fdca26"
            ],
            [
             1,
             "#f0f921"
            ]
           ],
           "sequentialminus": [
            [
             0,
             "#0d0887"
            ],
            [
             0.1111111111111111,
             "#46039f"
            ],
            [
             0.2222222222222222,
             "#7201a8"
            ],
            [
             0.3333333333333333,
             "#9c179e"
            ],
            [
             0.4444444444444444,
             "#bd3786"
            ],
            [
             0.5555555555555556,
             "#d8576b"
            ],
            [
             0.6666666666666666,
             "#ed7953"
            ],
            [
             0.7777777777777778,
             "#fb9f3a"
            ],
            [
             0.8888888888888888,
             "#fdca26"
            ],
            [
             1,
             "#f0f921"
            ]
           ]
          },
          "colorway": [
           "#636efa",
           "#EF553B",
           "#00cc96",
           "#ab63fa",
           "#FFA15A",
           "#19d3f3",
           "#FF6692",
           "#B6E880",
           "#FF97FF",
           "#FECB52"
          ],
          "font": {
           "color": "#2a3f5f"
          },
          "geo": {
           "bgcolor": "white",
           "lakecolor": "white",
           "landcolor": "#E5ECF6",
           "showlakes": true,
           "showland": true,
           "subunitcolor": "white"
          },
          "hoverlabel": {
           "align": "left"
          },
          "hovermode": "closest",
          "mapbox": {
           "style": "light"
          },
          "paper_bgcolor": "white",
          "plot_bgcolor": "#E5ECF6",
          "polar": {
           "angularaxis": {
            "gridcolor": "white",
            "linecolor": "white",
            "ticks": ""
           },
           "bgcolor": "#E5ECF6",
           "radialaxis": {
            "gridcolor": "white",
            "linecolor": "white",
            "ticks": ""
           }
          },
          "scene": {
           "xaxis": {
            "backgroundcolor": "#E5ECF6",
            "gridcolor": "white",
            "gridwidth": 2,
            "linecolor": "white",
            "showbackground": true,
            "ticks": "",
            "zerolinecolor": "white"
           },
           "yaxis": {
            "backgroundcolor": "#E5ECF6",
            "gridcolor": "white",
            "gridwidth": 2,
            "linecolor": "white",
            "showbackground": true,
            "ticks": "",
            "zerolinecolor": "white"
           },
           "zaxis": {
            "backgroundcolor": "#E5ECF6",
            "gridcolor": "white",
            "gridwidth": 2,
            "linecolor": "white",
            "showbackground": true,
            "ticks": "",
            "zerolinecolor": "white"
           }
          },
          "shapedefaults": {
           "line": {
            "color": "#2a3f5f"
           }
          },
          "ternary": {
           "aaxis": {
            "gridcolor": "white",
            "linecolor": "white",
            "ticks": ""
           },
           "baxis": {
            "gridcolor": "white",
            "linecolor": "white",
            "ticks": ""
           },
           "bgcolor": "#E5ECF6",
           "caxis": {
            "gridcolor": "white",
            "linecolor": "white",
            "ticks": ""
           }
          },
          "title": {
           "x": 0.05
          },
          "xaxis": {
           "automargin": true,
           "gridcolor": "white",
           "linecolor": "white",
           "ticks": "",
           "title": {
            "standoff": 15
           },
           "zerolinecolor": "white",
           "zerolinewidth": 2
          },
          "yaxis": {
           "automargin": true,
           "gridcolor": "white",
           "linecolor": "white",
           "ticks": "",
           "title": {
            "standoff": 15
           },
           "zerolinecolor": "white",
           "zerolinewidth": 2
          }
         }
        },
        "title": {
         "text": "3D Sentence Clusters(NLTK)"
        }
       }
      }
     },
     "metadata": {},
     "output_type": "display_data"
    }
   ],
   "source": [
    "# Perform t-SNE dimensionality reduction for 3D visualization\n",
    "perplexity_value = min(30, len(sentence_vectors_nltk) - 1)\n",
    "tsne_3d = TSNE(n_components=3,perplexity=perplexity_value, random_state=0)\n",
    "reduced_vectors_3d = tsne_3d.fit_transform(sentence_vectors_nltk)\n",
    "\n",
    "fig = go.Figure()\n",
    "\n",
    "for i in range(num_clusters):\n",
    "    indices = labels_spacy == i\n",
    "    fig.add_trace(go.Scatter3d(\n",
    "        x=reduced_vectors_3d[indices, 0],\n",
    "        y=reduced_vectors_3d[indices, 1],\n",
    "        z=reduced_vectors_3d[indices, 2],\n",
    "        mode='markers',\n",
    "        name=f'Cluster {i+1}'\n",
    "    ))\n",
    "\n",
    "fig.update_layout(title='3D Sentence Clusters(NLTK)',\n",
    "                    scene=dict(xaxis_title='t-SNE Dimension 1',\n",
    "                                 yaxis_title='t-SNE Dimension 2',\n",
    "                                 zaxis_title='t-SNE Dimension 3'))\n",
    "fig.show()\n"
   ]
  },
  {
   "cell_type": "markdown",
   "metadata": {},
   "source": [
    "# 6 cluster"
   ]
  },
  {
   "cell_type": "code",
   "execution_count": 87,
   "metadata": {},
   "outputs": [],
   "source": [
    "gmm_6.fit(sentence_vectors_nltk)\n",
    "labels_nltk = gmm_6.predict(sentence_vectors_nltk)"
   ]
  },
  {
   "cell_type": "code",
   "execution_count": 88,
   "metadata": {},
   "outputs": [],
   "source": [
    "gmm_6.fit(sentence_vectors_spacy)\n",
    "labels_spacy = gmm_6.predict(sentence_vectors_spacy)"
   ]
  },
  {
   "cell_type": "code",
   "execution_count": 89,
   "metadata": {},
   "outputs": [],
   "source": [
    "gmm_6.fit(sentence_vectors_testblob )\n",
    "labels_textblob = gmm_6.predict(sentence_vectors_testblob)"
   ]
  },
  {
   "cell_type": "code",
   "execution_count": 90,
   "metadata": {},
   "outputs": [],
   "source": [
    "num_clusters=6"
   ]
  },
  {
   "cell_type": "markdown",
   "metadata": {},
   "source": [
    "## textblobl"
   ]
  },
  {
   "cell_type": "code",
   "execution_count": 91,
   "metadata": {},
   "outputs": [],
   "source": [
    "perplexity_value = min(30, len(sentence_vectors_testblob) - 1)\n",
    "tsne = TSNE(n_components=2, perplexity=perplexity_value, random_state=0)\n",
    "reduced_vectors_2d = tsne.fit_transform(sentence_vectors_testblob)"
   ]
  },
  {
   "cell_type": "code",
   "execution_count": 92,
   "metadata": {},
   "outputs": [
    {
     "data": {
      "application/vnd.plotly.v1+json": {
       "config": {
        "plotlyServerURL": "https://plot.ly"
       },
       "data": [
        {
         "mode": "markers",
         "name": "Cluster 1",
         "type": "scatter",
         "x": [
          10.824387550354004,
          2.358405590057373,
          4.314886093139648,
          -19.009550094604492,
          -16.841522216796875,
          -20.295352935791016,
          -20.400375366210938,
          -24.442827224731445,
          -14.369821548461914,
          -21.72772979736328,
          -9.81216812133789,
          23.16884994506836,
          -13.39604377746582,
          -13.723440170288086,
          -15.610993385314941,
          17.019336700439453
         ],
         "y": [
          -32.11201477050781,
          -39.86581039428711,
          -40.49903869628906,
          -15.349950790405273,
          -22.35520362854004,
          -18.144479751586914,
          -23.73897933959961,
          -13.758317947387695,
          -18.654014587402344,
          -28.03561019897461,
          5.798715591430664,
          -2.764613151550293,
          -30.758464813232422,
          -22.628551483154297,
          -26.18597412109375,
          -7.131174087524414
         ]
        },
        {
         "mode": "markers",
         "name": "Cluster 2",
         "type": "scatter",
         "x": [
          5.059305191040039,
          5.059305191040039,
          -0.4646685719490051,
          8.61152172088623,
          2.57859468460083,
          11.222631454467773,
          -0.7964257001876831,
          -24.49350357055664,
          6.048532962799072,
          9.435172080993652,
          -0.11150192469358444,
          7.351154327392578,
          -3.419508218765259,
          13.853863716125488,
          11.145302772521973,
          1.3400907516479492,
          17.658687591552734,
          3.744093656539917,
          3.744093656539917,
          -13.92587947845459,
          3.744093656539917,
          -10.88691520690918,
          -24.49350357055664,
          -4.294442653656006,
          7.7041168212890625,
          3.744093656539917,
          4.48691463470459,
          16.300762176513672,
          -9.1126070022583,
          -20.532272338867188,
          8.167652130126953,
          -13.662848472595215,
          -16.67635154724121,
          -16.67635154724121,
          -2.1813745498657227,
          1.2649197578430176,
          -18.399431228637695
         ],
         "y": [
          34.71720886230469,
          34.71720886230469,
          23.65775489807129,
          23.539152145385742,
          25.393800735473633,
          30.79547691345215,
          30.575252532958984,
          22.79915428161621,
          25.88543128967285,
          34.82019805908203,
          27.395008087158203,
          40.37077713012695,
          26.606159210205078,
          39.73530197143555,
          26.62552261352539,
          36.924869537353516,
          26.421154022216797,
          29.7015380859375,
          29.7015380859375,
          21.229581832885742,
          29.7015380859375,
          18.92934799194336,
          22.79915428161621,
          30.599376678466797,
          31.6895751953125,
          29.7015380859375,
          22.61141586303711,
          33.518463134765625,
          25.813650131225586,
          24.567684173583984,
          28.369020462036133,
          33.73696517944336,
          31.661151885986328,
          31.661151885986328,
          34.14891052246094,
          33.32010269165039,
          36.15913391113281
         ]
        },
        {
         "mode": "markers",
         "name": "Cluster 3",
         "type": "scatter",
         "x": [
          -3.59391713142395,
          0.9179701209068298,
          1.8193016052246094,
          -8.07044506072998,
          -6.3863959312438965,
          7.606898307800293,
          -0.5327856540679932,
          -1.509507417678833,
          -7.67031192779541,
          -8.424670219421387,
          2.9373886585235596,
          5.787153244018555,
          3.4312946796417236,
          -7.466763019561768,
          -0.15557174384593964,
          -0.565685510635376,
          -5.265428066253662,
          5.649143218994141,
          -1.7588192224502563,
          -5.452980995178223,
          24.97439193725586
         ],
         "y": [
          -19.370927810668945,
          -33.27080154418945,
          -30.73941421508789,
          -19.968738555908203,
          -16.265480041503906,
          -16.927499771118164,
          -21.35460662841797,
          -24.342208862304688,
          -27.962196350097656,
          -23.333831787109375,
          -22.12698745727539,
          0.4604378342628479,
          -15.217183113098145,
          -35.993247985839844,
          -17.15866470336914,
          -14.19441032409668,
          -23.875207901000977,
          -20.758739471435547,
          -28.54853630065918,
          -33.06354904174805,
          -21.306997299194336
         ]
        },
        {
         "mode": "markers",
         "name": "Cluster 4",
         "type": "scatter",
         "x": [
          -7.258370876312256,
          -7.258370876312256,
          -11.980438232421875,
          -7.258370876312256
         ],
         "y": [
          47.53581237792969,
          47.53581237792969,
          2.0103259086608887,
          47.53581237792969
         ]
        },
        {
         "mode": "markers",
         "name": "Cluster 5",
         "type": "scatter",
         "x": [
          -17.701929092407227,
          -17.013708114624023,
          1.900209903717041,
          -15.310790061950684,
          -21.086915969848633,
          4.528301239013672,
          -5.325482368469238,
          -24.94256019592285,
          -3.0670459270477295,
          -16.88502311706543,
          -5.163561820983887,
          -11.577529907226562,
          17.750904083251953,
          11.89973258972168,
          22.444549560546875,
          1.8445786237716675,
          -24.25979232788086,
          5.36819314956665,
          -1.3828740119934082,
          -2.1953251361846924
         ],
         "y": [
          10.858363151550293,
          5.614658355712891,
          43.41019821166992,
          -5.485875606536865,
          5.237419605255127,
          11.891767501831055,
          38.316444396972656,
          0.4853929281234741,
          6.781444549560547,
          -0.11075020581483841,
          3.5470407009124756,
          -1.3259369134902954,
          5.470961093902588,
          1.921014428138733,
          5.282974720001221,
          17.733413696289062,
          18.90747833251953,
          17.33434295654297,
          14.517955780029297,
          18.342267990112305
         ]
        },
        {
         "mode": "markers",
         "name": "Cluster 6",
         "type": "scatter",
         "x": [
          14.536059379577637,
          0.7774611115455627,
          28.59379005432129,
          26.545726776123047,
          3.313333749771118,
          10.911602973937988,
          -8.207987785339355,
          -4.843941688537598,
          -8.207987785339355,
          1.8597356081008911,
          -17.569162368774414,
          16.076078414916992,
          14.983226776123047,
          -8.963366508483887,
          18.85291862487793,
          14.934407234191895,
          12.431612014770508,
          -23.449647903442383,
          15.628427505493164,
          7.15472412109375,
          6.717848300933838,
          11.306421279907227,
          25.065893173217773,
          -6.313586711883545,
          27.001646041870117,
          1.174507975578308,
          3.501131534576416,
          27.001646041870117,
          -11.293543815612793,
          -10.016119956970215,
          -6.712958812713623,
          3.5082502365112305,
          -2.1853861808776855,
          -4.779571533203125,
          15.149772644042969,
          13.631099700927734,
          14.072495460510254,
          -14.840468406677246,
          8.922026634216309,
          13.33372974395752,
          17.76343536376953,
          8.922026634216309,
          21.660381317138672,
          1.2307162284851074,
          4.640966415405273,
          25.065893173217773,
          10.587882995605469,
          10.504637718200684,
          10.504637718200684,
          17.045642852783203,
          -0.4156908094882965,
          -2.4051990509033203,
          -13.632030487060547,
          0.4701082408428192,
          -26.53999900817871
         ],
         "y": [
          -28.66547203063965,
          -0.1039326936006546,
          -10.05018424987793,
          -9.282219886779785,
          -8.712321281433105,
          8.7611083984375,
          9.9229097366333,
          -10.808683395385742,
          9.9229097366333,
          -43.76177978515625,
          -9.604000091552734,
          12.091512680053711,
          -14.534269332885742,
          -8.094632148742676,
          1.5323271751403809,
          -10.284513473510742,
          -9.635884284973145,
          -4.335363864898682,
          -23.439550399780273,
          -8.904821395874023,
          -29.244474411010742,
          -20.549400329589844,
          -31.828630447387695,
          -6.116795063018799,
          14.908561706542969,
          3.272941827774048,
          5.793587684631348,
          14.908561706542969,
          -12.212118148803711,
          -3.4926276206970215,
          0.6747967004776001,
          -4.242598056793213,
          -10.399813652038574,
          -2.778773307800293,
          -38.61079025268555,
          -39.97321319580078,
          19.38720703125,
          9.706418991088867,
          -4.019759654998779,
          -1.1124428510665894,
          -0.8942240476608276,
          -4.019759654998779,
          -13.796936988830566,
          -11.374510765075684,
          -24.622102737426758,
          -31.828630447387695,
          -12.85427188873291,
          -26.02713966369629,
          -26.02713966369629,
          -19.66594123840332,
          -3.9371871948242188,
          0.03290490061044693,
          14.579729080200195,
          -6.329626560211182,
          -6.424575328826904
         ]
        }
       ],
       "layout": {
        "legend": {
         "title": {
          "text": "Clusters"
         }
        },
        "template": {
         "data": {
          "bar": [
           {
            "error_x": {
             "color": "#2a3f5f"
            },
            "error_y": {
             "color": "#2a3f5f"
            },
            "marker": {
             "line": {
              "color": "#E5ECF6",
              "width": 0.5
             },
             "pattern": {
              "fillmode": "overlay",
              "size": 10,
              "solidity": 0.2
             }
            },
            "type": "bar"
           }
          ],
          "barpolar": [
           {
            "marker": {
             "line": {
              "color": "#E5ECF6",
              "width": 0.5
             },
             "pattern": {
              "fillmode": "overlay",
              "size": 10,
              "solidity": 0.2
             }
            },
            "type": "barpolar"
           }
          ],
          "carpet": [
           {
            "aaxis": {
             "endlinecolor": "#2a3f5f",
             "gridcolor": "white",
             "linecolor": "white",
             "minorgridcolor": "white",
             "startlinecolor": "#2a3f5f"
            },
            "baxis": {
             "endlinecolor": "#2a3f5f",
             "gridcolor": "white",
             "linecolor": "white",
             "minorgridcolor": "white",
             "startlinecolor": "#2a3f5f"
            },
            "type": "carpet"
           }
          ],
          "choropleth": [
           {
            "colorbar": {
             "outlinewidth": 0,
             "ticks": ""
            },
            "type": "choropleth"
           }
          ],
          "contour": [
           {
            "colorbar": {
             "outlinewidth": 0,
             "ticks": ""
            },
            "colorscale": [
             [
              0,
              "#0d0887"
             ],
             [
              0.1111111111111111,
              "#46039f"
             ],
             [
              0.2222222222222222,
              "#7201a8"
             ],
             [
              0.3333333333333333,
              "#9c179e"
             ],
             [
              0.4444444444444444,
              "#bd3786"
             ],
             [
              0.5555555555555556,
              "#d8576b"
             ],
             [
              0.6666666666666666,
              "#ed7953"
             ],
             [
              0.7777777777777778,
              "#fb9f3a"
             ],
             [
              0.8888888888888888,
              "#fdca26"
             ],
             [
              1,
              "#f0f921"
             ]
            ],
            "type": "contour"
           }
          ],
          "contourcarpet": [
           {
            "colorbar": {
             "outlinewidth": 0,
             "ticks": ""
            },
            "type": "contourcarpet"
           }
          ],
          "heatmap": [
           {
            "colorbar": {
             "outlinewidth": 0,
             "ticks": ""
            },
            "colorscale": [
             [
              0,
              "#0d0887"
             ],
             [
              0.1111111111111111,
              "#46039f"
             ],
             [
              0.2222222222222222,
              "#7201a8"
             ],
             [
              0.3333333333333333,
              "#9c179e"
             ],
             [
              0.4444444444444444,
              "#bd3786"
             ],
             [
              0.5555555555555556,
              "#d8576b"
             ],
             [
              0.6666666666666666,
              "#ed7953"
             ],
             [
              0.7777777777777778,
              "#fb9f3a"
             ],
             [
              0.8888888888888888,
              "#fdca26"
             ],
             [
              1,
              "#f0f921"
             ]
            ],
            "type": "heatmap"
           }
          ],
          "heatmapgl": [
           {
            "colorbar": {
             "outlinewidth": 0,
             "ticks": ""
            },
            "colorscale": [
             [
              0,
              "#0d0887"
             ],
             [
              0.1111111111111111,
              "#46039f"
             ],
             [
              0.2222222222222222,
              "#7201a8"
             ],
             [
              0.3333333333333333,
              "#9c179e"
             ],
             [
              0.4444444444444444,
              "#bd3786"
             ],
             [
              0.5555555555555556,
              "#d8576b"
             ],
             [
              0.6666666666666666,
              "#ed7953"
             ],
             [
              0.7777777777777778,
              "#fb9f3a"
             ],
             [
              0.8888888888888888,
              "#fdca26"
             ],
             [
              1,
              "#f0f921"
             ]
            ],
            "type": "heatmapgl"
           }
          ],
          "histogram": [
           {
            "marker": {
             "pattern": {
              "fillmode": "overlay",
              "size": 10,
              "solidity": 0.2
             }
            },
            "type": "histogram"
           }
          ],
          "histogram2d": [
           {
            "colorbar": {
             "outlinewidth": 0,
             "ticks": ""
            },
            "colorscale": [
             [
              0,
              "#0d0887"
             ],
             [
              0.1111111111111111,
              "#46039f"
             ],
             [
              0.2222222222222222,
              "#7201a8"
             ],
             [
              0.3333333333333333,
              "#9c179e"
             ],
             [
              0.4444444444444444,
              "#bd3786"
             ],
             [
              0.5555555555555556,
              "#d8576b"
             ],
             [
              0.6666666666666666,
              "#ed7953"
             ],
             [
              0.7777777777777778,
              "#fb9f3a"
             ],
             [
              0.8888888888888888,
              "#fdca26"
             ],
             [
              1,
              "#f0f921"
             ]
            ],
            "type": "histogram2d"
           }
          ],
          "histogram2dcontour": [
           {
            "colorbar": {
             "outlinewidth": 0,
             "ticks": ""
            },
            "colorscale": [
             [
              0,
              "#0d0887"
             ],
             [
              0.1111111111111111,
              "#46039f"
             ],
             [
              0.2222222222222222,
              "#7201a8"
             ],
             [
              0.3333333333333333,
              "#9c179e"
             ],
             [
              0.4444444444444444,
              "#bd3786"
             ],
             [
              0.5555555555555556,
              "#d8576b"
             ],
             [
              0.6666666666666666,
              "#ed7953"
             ],
             [
              0.7777777777777778,
              "#fb9f3a"
             ],
             [
              0.8888888888888888,
              "#fdca26"
             ],
             [
              1,
              "#f0f921"
             ]
            ],
            "type": "histogram2dcontour"
           }
          ],
          "mesh3d": [
           {
            "colorbar": {
             "outlinewidth": 0,
             "ticks": ""
            },
            "type": "mesh3d"
           }
          ],
          "parcoords": [
           {
            "line": {
             "colorbar": {
              "outlinewidth": 0,
              "ticks": ""
             }
            },
            "type": "parcoords"
           }
          ],
          "pie": [
           {
            "automargin": true,
            "type": "pie"
           }
          ],
          "scatter": [
           {
            "fillpattern": {
             "fillmode": "overlay",
             "size": 10,
             "solidity": 0.2
            },
            "type": "scatter"
           }
          ],
          "scatter3d": [
           {
            "line": {
             "colorbar": {
              "outlinewidth": 0,
              "ticks": ""
             }
            },
            "marker": {
             "colorbar": {
              "outlinewidth": 0,
              "ticks": ""
             }
            },
            "type": "scatter3d"
           }
          ],
          "scattercarpet": [
           {
            "marker": {
             "colorbar": {
              "outlinewidth": 0,
              "ticks": ""
             }
            },
            "type": "scattercarpet"
           }
          ],
          "scattergeo": [
           {
            "marker": {
             "colorbar": {
              "outlinewidth": 0,
              "ticks": ""
             }
            },
            "type": "scattergeo"
           }
          ],
          "scattergl": [
           {
            "marker": {
             "colorbar": {
              "outlinewidth": 0,
              "ticks": ""
             }
            },
            "type": "scattergl"
           }
          ],
          "scattermapbox": [
           {
            "marker": {
             "colorbar": {
              "outlinewidth": 0,
              "ticks": ""
             }
            },
            "type": "scattermapbox"
           }
          ],
          "scatterpolar": [
           {
            "marker": {
             "colorbar": {
              "outlinewidth": 0,
              "ticks": ""
             }
            },
            "type": "scatterpolar"
           }
          ],
          "scatterpolargl": [
           {
            "marker": {
             "colorbar": {
              "outlinewidth": 0,
              "ticks": ""
             }
            },
            "type": "scatterpolargl"
           }
          ],
          "scatterternary": [
           {
            "marker": {
             "colorbar": {
              "outlinewidth": 0,
              "ticks": ""
             }
            },
            "type": "scatterternary"
           }
          ],
          "surface": [
           {
            "colorbar": {
             "outlinewidth": 0,
             "ticks": ""
            },
            "colorscale": [
             [
              0,
              "#0d0887"
             ],
             [
              0.1111111111111111,
              "#46039f"
             ],
             [
              0.2222222222222222,
              "#7201a8"
             ],
             [
              0.3333333333333333,
              "#9c179e"
             ],
             [
              0.4444444444444444,
              "#bd3786"
             ],
             [
              0.5555555555555556,
              "#d8576b"
             ],
             [
              0.6666666666666666,
              "#ed7953"
             ],
             [
              0.7777777777777778,
              "#fb9f3a"
             ],
             [
              0.8888888888888888,
              "#fdca26"
             ],
             [
              1,
              "#f0f921"
             ]
            ],
            "type": "surface"
           }
          ],
          "table": [
           {
            "cells": {
             "fill": {
              "color": "#EBF0F8"
             },
             "line": {
              "color": "white"
             }
            },
            "header": {
             "fill": {
              "color": "#C8D4E3"
             },
             "line": {
              "color": "white"
             }
            },
            "type": "table"
           }
          ]
         },
         "layout": {
          "annotationdefaults": {
           "arrowcolor": "#2a3f5f",
           "arrowhead": 0,
           "arrowwidth": 1
          },
          "autotypenumbers": "strict",
          "coloraxis": {
           "colorbar": {
            "outlinewidth": 0,
            "ticks": ""
           }
          },
          "colorscale": {
           "diverging": [
            [
             0,
             "#8e0152"
            ],
            [
             0.1,
             "#c51b7d"
            ],
            [
             0.2,
             "#de77ae"
            ],
            [
             0.3,
             "#f1b6da"
            ],
            [
             0.4,
             "#fde0ef"
            ],
            [
             0.5,
             "#f7f7f7"
            ],
            [
             0.6,
             "#e6f5d0"
            ],
            [
             0.7,
             "#b8e186"
            ],
            [
             0.8,
             "#7fbc41"
            ],
            [
             0.9,
             "#4d9221"
            ],
            [
             1,
             "#276419"
            ]
           ],
           "sequential": [
            [
             0,
             "#0d0887"
            ],
            [
             0.1111111111111111,
             "#46039f"
            ],
            [
             0.2222222222222222,
             "#7201a8"
            ],
            [
             0.3333333333333333,
             "#9c179e"
            ],
            [
             0.4444444444444444,
             "#bd3786"
            ],
            [
             0.5555555555555556,
             "#d8576b"
            ],
            [
             0.6666666666666666,
             "#ed7953"
            ],
            [
             0.7777777777777778,
             "#fb9f3a"
            ],
            [
             0.8888888888888888,
             "#fdca26"
            ],
            [
             1,
             "#f0f921"
            ]
           ],
           "sequentialminus": [
            [
             0,
             "#0d0887"
            ],
            [
             0.1111111111111111,
             "#46039f"
            ],
            [
             0.2222222222222222,
             "#7201a8"
            ],
            [
             0.3333333333333333,
             "#9c179e"
            ],
            [
             0.4444444444444444,
             "#bd3786"
            ],
            [
             0.5555555555555556,
             "#d8576b"
            ],
            [
             0.6666666666666666,
             "#ed7953"
            ],
            [
             0.7777777777777778,
             "#fb9f3a"
            ],
            [
             0.8888888888888888,
             "#fdca26"
            ],
            [
             1,
             "#f0f921"
            ]
           ]
          },
          "colorway": [
           "#636efa",
           "#EF553B",
           "#00cc96",
           "#ab63fa",
           "#FFA15A",
           "#19d3f3",
           "#FF6692",
           "#B6E880",
           "#FF97FF",
           "#FECB52"
          ],
          "font": {
           "color": "#2a3f5f"
          },
          "geo": {
           "bgcolor": "white",
           "lakecolor": "white",
           "landcolor": "#E5ECF6",
           "showlakes": true,
           "showland": true,
           "subunitcolor": "white"
          },
          "hoverlabel": {
           "align": "left"
          },
          "hovermode": "closest",
          "mapbox": {
           "style": "light"
          },
          "paper_bgcolor": "white",
          "plot_bgcolor": "#E5ECF6",
          "polar": {
           "angularaxis": {
            "gridcolor": "white",
            "linecolor": "white",
            "ticks": ""
           },
           "bgcolor": "#E5ECF6",
           "radialaxis": {
            "gridcolor": "white",
            "linecolor": "white",
            "ticks": ""
           }
          },
          "scene": {
           "xaxis": {
            "backgroundcolor": "#E5ECF6",
            "gridcolor": "white",
            "gridwidth": 2,
            "linecolor": "white",
            "showbackground": true,
            "ticks": "",
            "zerolinecolor": "white"
           },
           "yaxis": {
            "backgroundcolor": "#E5ECF6",
            "gridcolor": "white",
            "gridwidth": 2,
            "linecolor": "white",
            "showbackground": true,
            "ticks": "",
            "zerolinecolor": "white"
           },
           "zaxis": {
            "backgroundcolor": "#E5ECF6",
            "gridcolor": "white",
            "gridwidth": 2,
            "linecolor": "white",
            "showbackground": true,
            "ticks": "",
            "zerolinecolor": "white"
           }
          },
          "shapedefaults": {
           "line": {
            "color": "#2a3f5f"
           }
          },
          "ternary": {
           "aaxis": {
            "gridcolor": "white",
            "linecolor": "white",
            "ticks": ""
           },
           "baxis": {
            "gridcolor": "white",
            "linecolor": "white",
            "ticks": ""
           },
           "bgcolor": "#E5ECF6",
           "caxis": {
            "gridcolor": "white",
            "linecolor": "white",
            "ticks": ""
           }
          },
          "title": {
           "x": 0.05
          },
          "xaxis": {
           "automargin": true,
           "gridcolor": "white",
           "linecolor": "white",
           "ticks": "",
           "title": {
            "standoff": 15
           },
           "zerolinecolor": "white",
           "zerolinewidth": 2
          },
          "yaxis": {
           "automargin": true,
           "gridcolor": "white",
           "linecolor": "white",
           "ticks": "",
           "title": {
            "standoff": 15
           },
           "zerolinecolor": "white",
           "zerolinewidth": 2
          }
         }
        },
        "title": {
         "text": "Sentence Clusters Visualized with t-SNE(Textblob)"
        },
        "xaxis": {
         "title": {
          "text": "t-SNE Dimension 1"
         }
        },
        "yaxis": {
         "title": {
          "text": "t-SNE Dimension 2"
         }
        }
       }
      }
     },
     "metadata": {},
     "output_type": "display_data"
    }
   ],
   "source": [
    "\n",
    "\n",
    "fig = go.Figure()\n",
    "\n",
    "for i in range(num_clusters):\n",
    "    indices = labels_textblob == i\n",
    "    fig.add_trace(go.Scatter(\n",
    "        x=reduced_vectors_2d[indices, 0],\n",
    "        y=reduced_vectors_2d[indices, 1],\n",
    "        mode='markers',\n",
    "        name=f'Cluster {i + 1}'\n",
    "    ))\n",
    "\n",
    "fig.update_layout(\n",
    "    title='Sentence Clusters Visualized with t-SNE(Textblob)',\n",
    "    xaxis_title='t-SNE Dimension 1',\n",
    "    yaxis_title='t-SNE Dimension 2',\n",
    "    legend_title=\"Clusters\"\n",
    ")\n",
    "\n",
    "pio.show(fig)\n"
   ]
  },
  {
   "cell_type": "code",
   "execution_count": 93,
   "metadata": {},
   "outputs": [
    {
     "data": {
      "application/vnd.plotly.v1+json": {
       "config": {
        "plotlyServerURL": "https://plot.ly"
       },
       "data": [
        {
         "mode": "markers",
         "name": "Cluster 1",
         "type": "scatter3d",
         "x": [
          76.81116485595703,
          63.56319046020508,
          49.87830352783203,
          -25.119205474853516,
          2.707986831665039,
          -17.179101943969727,
          -4.367466449737549,
          -45.822784423828125,
          31.418798446655273,
          -22.38889503479004,
          12.023993492126465,
          2.8264920711517334,
          18.64076805114746,
          11.83500862121582,
          -12.804709434509277,
          64.33323669433594
         ],
         "y": [
          -20.928518295288086,
          -62.475013732910156,
          -52.45763397216797,
          -47.06644821166992,
          -42.958763122558594,
          -63.400047302246094,
          -26.322357177734375,
          -39.31554412841797,
          -39.598697662353516,
          -52.024784088134766,
          -46.87421417236328,
          -116.93846130371094,
          -82.26368713378906,
          -18.97160530090332,
          -19.278003692626953,
          63.010013580322266
         ],
         "z": [
          43.295013427734375,
          -57.18833923339844,
          -46.020503997802734,
          -37.65061950683594,
          -72.62371063232422,
          -54.462440490722656,
          -94.3864517211914,
          -66.33912658691406,
          -82.38388061523438,
          -96.84748077392578,
          -32.294010162353516,
          -25.938751220703125,
          -64.965576171875,
          113.42039489746094,
          -65.25655364990234,
          61.232200622558594
         ]
        },
        {
         "mode": "markers",
         "name": "Cluster 2",
         "type": "scatter3d",
         "x": [
          -11.12751579284668,
          -11.12751579284668,
          -62.81272888183594,
          95.84780883789062,
          -24.458219528198242,
          -12.162477493286133,
          -71.56228637695312,
          -107.03184509277344,
          -66.23388671875,
          -25.555871963500977,
          -38.721710205078125,
          67.29886627197266,
          -8.956820487976074,
          108.40030670166016,
          -47.892601013183594,
          -33.53532409667969,
          42.881568908691406,
          -40.58608627319336,
          -40.58608627319336,
          -102.41874694824219,
          -40.58608627319336,
          -86.538818359375,
          -107.03184509277344,
          -64.18990325927734,
          -41.79237365722656,
          -40.58608627319336,
          3.3106167316436768,
          108.76335906982422,
          -70.97286987304688,
          -112.73959350585938,
          -44.1387939453125,
          -92.94420623779297,
          -98.62286376953125,
          -98.62286376953125,
          105.71955871582031,
          -53.971378326416016,
          -80.45209503173828
         ],
         "y": [
          43.271671295166016,
          43.271671295166016,
          36.14463806152344,
          9.084858894348145,
          33.83357238769531,
          3.996807813644409,
          6.2176690101623535,
          23.22176742553711,
          -7.713212013244629,
          -21.218772888183594,
          -8.429059028625488,
          -97.71475982666016,
          13.637938499450684,
          -45.6670036315918,
          18.054048538208008,
          24.708911895751953,
          -67.08155059814453,
          9.197336196899414,
          9.197336196899414,
          -28.308359146118164,
          9.197336196899414,
          -11.869527816772461,
          23.22176742553711,
          22.802011489868164,
          45.21417236328125,
          9.197336196899414,
          104.68608856201172,
          -47.778900146484375,
          77.38560485839844,
          -2.0819132328033447,
          -11.978484153747559,
          -49.19527053833008,
          -23.73329734802246,
          -23.73329734802246,
          -23.085674285888672,
          -25.3647518157959,
          -38.2535514831543
         ],
         "z": [
          30.914587020874023,
          30.914587020874023,
          43.424110412597656,
          9.098709106445312,
          58.44622039794922,
          12.730196952819824,
          49.90751647949219,
          29.02617645263672,
          16.000246047973633,
          24.488101959228516,
          -0.29878178238868713,
          34.137908935546875,
          41.024986267089844,
          36.82651901245117,
          68.66140747070312,
          2.1043922901153564,
          34.77476501464844,
          33.06616973876953,
          33.06616973876953,
          -29.877872467041016,
          33.06616973876953,
          -11.314753532409668,
          29.02617645263672,
          9.409646034240723,
          25.290546417236328,
          33.06616973876953,
          -9.524490356445312,
          -34.21299362182617,
          27.85453987121582,
          10.816247940063477,
          63.8503303527832,
          34.31044006347656,
          44.10603713989258,
          44.10603713989258,
          2.7564890384674072,
          38.14326477050781,
          68.95320892333984
         ]
        },
        {
         "mode": "markers",
         "name": "Cluster 3",
         "type": "scatter3d",
         "x": [
          68.01885223388672,
          47.896812438964844,
          -75.46041870117188,
          98.15576934814453,
          101.81806182861328,
          -14.9527587890625,
          47.43317413330078,
          63.308040618896484,
          81.32064819335938,
          78.89781188964844,
          36.64286804199219,
          9.579005241394043,
          62.27871322631836,
          73.075927734375,
          54.25270080566406,
          33.111839294433594,
          -77.05963134765625,
          12.880755424499512,
          -25.962238311767578,
          70.94400787353516,
          45.03908157348633
         ],
         "y": [
          33.25822067260742,
          -1.191724419593811,
          35.959678649902344,
          10.27905559539795,
          35.90878677368164,
          19.193050384521484,
          15.905519485473633,
          18.205280303955078,
          72.6323471069336,
          -0.7481485605239868,
          3.940951347351074,
          41.41439437866211,
          52.04102325439453,
          -53.3714714050293,
          47.33475112915039,
          44.85009765625,
          4.796885967254639,
          9.38599681854248,
          65.23858642578125,
          -14.644342422485352,
          74.40843963623047
         ],
         "z": [
          -25.43091583251953,
          -100.6014175415039,
          -41.07794189453125,
          -46.7080078125,
          -25.551925659179688,
          -86.63716125488281,
          -39.268348693847656,
          -61.89809036254883,
          -35.19123840332031,
          -27.156957626342773,
          -65.1169204711914,
          -94.73863983154297,
          -80.06442260742188,
          67.39230346679688,
          -48.663238525390625,
          -61.022953033447266,
          -49.38211441040039,
          -64.29015350341797,
          -82.89925384521484,
          -68.37765502929688,
          -54.79735565185547
         ]
        },
        {
         "mode": "markers",
         "name": "Cluster 4",
         "type": "scatter3d",
         "x": [
          -50.49156188964844,
          -50.49156188964844,
          -39.92691421508789,
          -50.49156188964844
         ],
         "y": [
          -85.08699798583984,
          -85.08699798583984,
          -73.00421905517578,
          -85.08699798583984
         ],
         "z": [
          35.21803283691406,
          35.21803283691406,
          73.5575942993164,
          35.21803283691406
         ]
        },
        {
         "mode": "markers",
         "name": "Cluster 5",
         "type": "scatter3d",
         "x": [
          41.93659591674805,
          28.127859115600586,
          -27.18260383605957,
          12.003993034362793,
          31.20387840270996,
          -70.9299545288086,
          -50.78752517700195,
          10.458264350891113,
          31.39670753479004,
          -40.09465789794922,
          10.657042503356934,
          -73.40204620361328,
          -29.951292037963867,
          -91.0211410522461,
          -74.08910369873047,
          -42.85981369018555,
          -104.9327621459961,
          -45.359493255615234,
          -58.92361068725586,
          -54.16438674926758
         ],
         "y": [
          -11.280413627624512,
          -49.58292770385742,
          -46.41407775878906,
          23.317140579223633,
          -58.70185089111328,
          -88.83740234375,
          -42.89073181152344,
          -81.79322814941406,
          -96.63217163085938,
          -83.70820617675781,
          -80.59504699707031,
          -51.62007141113281,
          -76.0088119506836,
          70.37498474121094,
          -65.34413146972656,
          5.823566436767578,
          34.73780822753906,
          8.8139066696167,
          -2.844424247741699,
          25.598621368408203
         ],
         "z": [
          88.06258392333984,
          67.72007751464844,
          52.746978759765625,
          103.45215606689453,
          95.77033233642578,
          -9.878875732421875,
          9.746119499206543,
          63.90953826904297,
          -2.8577890396118164,
          -40.90571975708008,
          -15.136712074279785,
          -10.518564224243164,
          -4.383391857147217,
          -21.343505859375,
          -56.21421432495117,
          -53.89887237548828,
          2.2551355361938477,
          -28.214088439941406,
          -82.87882232666016,
          -73.92730712890625
         ]
        },
        {
         "mode": "markers",
         "name": "Cluster 6",
         "type": "scatter3d",
         "x": [
          25.69911003112793,
          18.85542869567871,
          -46.64863586425781,
          -38.35749816894531,
          35.370582580566406,
          -42.82312774658203,
          15.63565731048584,
          24.098831176757812,
          15.63565731048584,
          11.153088569641113,
          -37.17094421386719,
          -73.1827163696289,
          39.74662780761719,
          11.594376564025879,
          -17.618738174438477,
          41.7244873046875,
          -5.82694149017334,
          26.94109535217285,
          54.34275436401367,
          74.76860046386719,
          64.69549560546875,
          54.3912467956543,
          103.15238952636719,
          82.19876861572266,
          -21.126596450805664,
          7.650907039642334,
          -5.603654384613037,
          -21.126596450805664,
          41.002891540527344,
          -0.38931459188461304,
          7.013852119445801,
          -11.24592399597168,
          38.67694091796875,
          4.610270023345947,
          89.53787231445312,
          72.72996520996094,
          -57.71552658081055,
          28.8408260345459,
          -3.786173105239868,
          0.993510365486145,
          23.421791076660156,
          -3.786173105239868,
          -20.43588638305664,
          22.716066360473633,
          31.004552841186523,
          103.15238952636719,
          51.22320556640625,
          59.614784240722656,
          59.614784240722656,
          60.97956085205078,
          2.8381357192993164,
          -4.66253662109375,
          -61.10558319091797,
          15.977218627929688,
          46.554656982421875
         ],
         "y": [
          91.078125,
          8.352102279663086,
          63.82457733154297,
          55.18181610107422,
          51.65128707885742,
          48.64576721191406,
          -35.82059860229492,
          32.161338806152344,
          -35.82059860229492,
          99.80509185791016,
          100.86532592773438,
          62.34353256225586,
          34.6188850402832,
          54.128963470458984,
          -49.401939392089844,
          67.15125274658203,
          -35.71778106689453,
          0.8656333088874817,
          -63.89437484741211,
          -33.363094329833984,
          21.073986053466797,
          -41.86929702758789,
          21.060497283935547,
          -64.70680236816406,
          84.18631744384766,
          64.45472717285156,
          41.41261672973633,
          84.18631744384766,
          89.83296203613281,
          63.6513557434082,
          -71.83370208740234,
          27.13471031188965,
          25.645362854003906,
          14.393658638000488,
          66.83160400390625,
          56.39725112915039,
          57.286678314208984,
          -17.383028030395508,
          -5.688567161560059,
          -22.498456954956055,
          -27.845104217529297,
          -5.688567161560059,
          89.9190444946289,
          1.05433988571167,
          -14.76724624633789,
          21.060497283935547,
          37.039798736572266,
          -9.564007759094238,
          -9.564007759094238,
          7.885459899902344,
          -52.41127395629883,
          -11.840726852416992,
          -26.599863052368164,
          30.978748321533203,
          -15.109161376953125
         ],
         "z": [
          65.7218017578125,
          58.99515151977539,
          -45.50313949584961,
          -28.55608558654785,
          -18.12281608581543,
          91.57514953613281,
          -4.814188003540039,
          16.12049674987793,
          -4.814188003540039,
          -60.60890579223633,
          -31.05135154724121,
          69.77128601074219,
          47.97523498535156,
          76.22550201416016,
          3.0228779315948486,
          36.256629943847656,
          79.96861267089844,
          -13.268681526184082,
          -8.350618362426758,
          -18.310157775878906,
          26.40611457824707,
          21.85621452331543,
          52.78160858154297,
          3.130188465118408,
          9.514913558959961,
          -5.619357109069824,
          -9.537983894348145,
          9.514913558959961,
          -9.806649208068848,
          -46.82108688354492,
          9.388510704040527,
          -45.94822311401367,
          -2.246769428253174,
          -12.999300003051758,
          13.809833526611328,
          9.815649032592773,
          -3.028597593307495,
          68.10701751708984,
          73.16171264648438,
          45.79483413696289,
          29.72357177734375,
          73.16171264648438,
          55.755706787109375,
          26.44186019897461,
          -48.424232482910156,
          52.78160858154297,
          87.08826446533203,
          18.957000732421875,
          18.957000732421875,
          60.505645751953125,
          31.91493034362793,
          -25.790687561035156,
          -27.668493270874023,
          -34.901939392089844,
          -16.118846893310547
         ]
        }
       ],
       "layout": {
        "scene": {
         "xaxis": {
          "title": {
           "text": "t-SNE Dimension 1"
          }
         },
         "yaxis": {
          "title": {
           "text": "t-SNE Dimension 2"
          }
         },
         "zaxis": {
          "title": {
           "text": "t-SNE Dimension 3"
          }
         }
        },
        "template": {
         "data": {
          "bar": [
           {
            "error_x": {
             "color": "#2a3f5f"
            },
            "error_y": {
             "color": "#2a3f5f"
            },
            "marker": {
             "line": {
              "color": "#E5ECF6",
              "width": 0.5
             },
             "pattern": {
              "fillmode": "overlay",
              "size": 10,
              "solidity": 0.2
             }
            },
            "type": "bar"
           }
          ],
          "barpolar": [
           {
            "marker": {
             "line": {
              "color": "#E5ECF6",
              "width": 0.5
             },
             "pattern": {
              "fillmode": "overlay",
              "size": 10,
              "solidity": 0.2
             }
            },
            "type": "barpolar"
           }
          ],
          "carpet": [
           {
            "aaxis": {
             "endlinecolor": "#2a3f5f",
             "gridcolor": "white",
             "linecolor": "white",
             "minorgridcolor": "white",
             "startlinecolor": "#2a3f5f"
            },
            "baxis": {
             "endlinecolor": "#2a3f5f",
             "gridcolor": "white",
             "linecolor": "white",
             "minorgridcolor": "white",
             "startlinecolor": "#2a3f5f"
            },
            "type": "carpet"
           }
          ],
          "choropleth": [
           {
            "colorbar": {
             "outlinewidth": 0,
             "ticks": ""
            },
            "type": "choropleth"
           }
          ],
          "contour": [
           {
            "colorbar": {
             "outlinewidth": 0,
             "ticks": ""
            },
            "colorscale": [
             [
              0,
              "#0d0887"
             ],
             [
              0.1111111111111111,
              "#46039f"
             ],
             [
              0.2222222222222222,
              "#7201a8"
             ],
             [
              0.3333333333333333,
              "#9c179e"
             ],
             [
              0.4444444444444444,
              "#bd3786"
             ],
             [
              0.5555555555555556,
              "#d8576b"
             ],
             [
              0.6666666666666666,
              "#ed7953"
             ],
             [
              0.7777777777777778,
              "#fb9f3a"
             ],
             [
              0.8888888888888888,
              "#fdca26"
             ],
             [
              1,
              "#f0f921"
             ]
            ],
            "type": "contour"
           }
          ],
          "contourcarpet": [
           {
            "colorbar": {
             "outlinewidth": 0,
             "ticks": ""
            },
            "type": "contourcarpet"
           }
          ],
          "heatmap": [
           {
            "colorbar": {
             "outlinewidth": 0,
             "ticks": ""
            },
            "colorscale": [
             [
              0,
              "#0d0887"
             ],
             [
              0.1111111111111111,
              "#46039f"
             ],
             [
              0.2222222222222222,
              "#7201a8"
             ],
             [
              0.3333333333333333,
              "#9c179e"
             ],
             [
              0.4444444444444444,
              "#bd3786"
             ],
             [
              0.5555555555555556,
              "#d8576b"
             ],
             [
              0.6666666666666666,
              "#ed7953"
             ],
             [
              0.7777777777777778,
              "#fb9f3a"
             ],
             [
              0.8888888888888888,
              "#fdca26"
             ],
             [
              1,
              "#f0f921"
             ]
            ],
            "type": "heatmap"
           }
          ],
          "heatmapgl": [
           {
            "colorbar": {
             "outlinewidth": 0,
             "ticks": ""
            },
            "colorscale": [
             [
              0,
              "#0d0887"
             ],
             [
              0.1111111111111111,
              "#46039f"
             ],
             [
              0.2222222222222222,
              "#7201a8"
             ],
             [
              0.3333333333333333,
              "#9c179e"
             ],
             [
              0.4444444444444444,
              "#bd3786"
             ],
             [
              0.5555555555555556,
              "#d8576b"
             ],
             [
              0.6666666666666666,
              "#ed7953"
             ],
             [
              0.7777777777777778,
              "#fb9f3a"
             ],
             [
              0.8888888888888888,
              "#fdca26"
             ],
             [
              1,
              "#f0f921"
             ]
            ],
            "type": "heatmapgl"
           }
          ],
          "histogram": [
           {
            "marker": {
             "pattern": {
              "fillmode": "overlay",
              "size": 10,
              "solidity": 0.2
             }
            },
            "type": "histogram"
           }
          ],
          "histogram2d": [
           {
            "colorbar": {
             "outlinewidth": 0,
             "ticks": ""
            },
            "colorscale": [
             [
              0,
              "#0d0887"
             ],
             [
              0.1111111111111111,
              "#46039f"
             ],
             [
              0.2222222222222222,
              "#7201a8"
             ],
             [
              0.3333333333333333,
              "#9c179e"
             ],
             [
              0.4444444444444444,
              "#bd3786"
             ],
             [
              0.5555555555555556,
              "#d8576b"
             ],
             [
              0.6666666666666666,
              "#ed7953"
             ],
             [
              0.7777777777777778,
              "#fb9f3a"
             ],
             [
              0.8888888888888888,
              "#fdca26"
             ],
             [
              1,
              "#f0f921"
             ]
            ],
            "type": "histogram2d"
           }
          ],
          "histogram2dcontour": [
           {
            "colorbar": {
             "outlinewidth": 0,
             "ticks": ""
            },
            "colorscale": [
             [
              0,
              "#0d0887"
             ],
             [
              0.1111111111111111,
              "#46039f"
             ],
             [
              0.2222222222222222,
              "#7201a8"
             ],
             [
              0.3333333333333333,
              "#9c179e"
             ],
             [
              0.4444444444444444,
              "#bd3786"
             ],
             [
              0.5555555555555556,
              "#d8576b"
             ],
             [
              0.6666666666666666,
              "#ed7953"
             ],
             [
              0.7777777777777778,
              "#fb9f3a"
             ],
             [
              0.8888888888888888,
              "#fdca26"
             ],
             [
              1,
              "#f0f921"
             ]
            ],
            "type": "histogram2dcontour"
           }
          ],
          "mesh3d": [
           {
            "colorbar": {
             "outlinewidth": 0,
             "ticks": ""
            },
            "type": "mesh3d"
           }
          ],
          "parcoords": [
           {
            "line": {
             "colorbar": {
              "outlinewidth": 0,
              "ticks": ""
             }
            },
            "type": "parcoords"
           }
          ],
          "pie": [
           {
            "automargin": true,
            "type": "pie"
           }
          ],
          "scatter": [
           {
            "fillpattern": {
             "fillmode": "overlay",
             "size": 10,
             "solidity": 0.2
            },
            "type": "scatter"
           }
          ],
          "scatter3d": [
           {
            "line": {
             "colorbar": {
              "outlinewidth": 0,
              "ticks": ""
             }
            },
            "marker": {
             "colorbar": {
              "outlinewidth": 0,
              "ticks": ""
             }
            },
            "type": "scatter3d"
           }
          ],
          "scattercarpet": [
           {
            "marker": {
             "colorbar": {
              "outlinewidth": 0,
              "ticks": ""
             }
            },
            "type": "scattercarpet"
           }
          ],
          "scattergeo": [
           {
            "marker": {
             "colorbar": {
              "outlinewidth": 0,
              "ticks": ""
             }
            },
            "type": "scattergeo"
           }
          ],
          "scattergl": [
           {
            "marker": {
             "colorbar": {
              "outlinewidth": 0,
              "ticks": ""
             }
            },
            "type": "scattergl"
           }
          ],
          "scattermapbox": [
           {
            "marker": {
             "colorbar": {
              "outlinewidth": 0,
              "ticks": ""
             }
            },
            "type": "scattermapbox"
           }
          ],
          "scatterpolar": [
           {
            "marker": {
             "colorbar": {
              "outlinewidth": 0,
              "ticks": ""
             }
            },
            "type": "scatterpolar"
           }
          ],
          "scatterpolargl": [
           {
            "marker": {
             "colorbar": {
              "outlinewidth": 0,
              "ticks": ""
             }
            },
            "type": "scatterpolargl"
           }
          ],
          "scatterternary": [
           {
            "marker": {
             "colorbar": {
              "outlinewidth": 0,
              "ticks": ""
             }
            },
            "type": "scatterternary"
           }
          ],
          "surface": [
           {
            "colorbar": {
             "outlinewidth": 0,
             "ticks": ""
            },
            "colorscale": [
             [
              0,
              "#0d0887"
             ],
             [
              0.1111111111111111,
              "#46039f"
             ],
             [
              0.2222222222222222,
              "#7201a8"
             ],
             [
              0.3333333333333333,
              "#9c179e"
             ],
             [
              0.4444444444444444,
              "#bd3786"
             ],
             [
              0.5555555555555556,
              "#d8576b"
             ],
             [
              0.6666666666666666,
              "#ed7953"
             ],
             [
              0.7777777777777778,
              "#fb9f3a"
             ],
             [
              0.8888888888888888,
              "#fdca26"
             ],
             [
              1,
              "#f0f921"
             ]
            ],
            "type": "surface"
           }
          ],
          "table": [
           {
            "cells": {
             "fill": {
              "color": "#EBF0F8"
             },
             "line": {
              "color": "white"
             }
            },
            "header": {
             "fill": {
              "color": "#C8D4E3"
             },
             "line": {
              "color": "white"
             }
            },
            "type": "table"
           }
          ]
         },
         "layout": {
          "annotationdefaults": {
           "arrowcolor": "#2a3f5f",
           "arrowhead": 0,
           "arrowwidth": 1
          },
          "autotypenumbers": "strict",
          "coloraxis": {
           "colorbar": {
            "outlinewidth": 0,
            "ticks": ""
           }
          },
          "colorscale": {
           "diverging": [
            [
             0,
             "#8e0152"
            ],
            [
             0.1,
             "#c51b7d"
            ],
            [
             0.2,
             "#de77ae"
            ],
            [
             0.3,
             "#f1b6da"
            ],
            [
             0.4,
             "#fde0ef"
            ],
            [
             0.5,
             "#f7f7f7"
            ],
            [
             0.6,
             "#e6f5d0"
            ],
            [
             0.7,
             "#b8e186"
            ],
            [
             0.8,
             "#7fbc41"
            ],
            [
             0.9,
             "#4d9221"
            ],
            [
             1,
             "#276419"
            ]
           ],
           "sequential": [
            [
             0,
             "#0d0887"
            ],
            [
             0.1111111111111111,
             "#46039f"
            ],
            [
             0.2222222222222222,
             "#7201a8"
            ],
            [
             0.3333333333333333,
             "#9c179e"
            ],
            [
             0.4444444444444444,
             "#bd3786"
            ],
            [
             0.5555555555555556,
             "#d8576b"
            ],
            [
             0.6666666666666666,
             "#ed7953"
            ],
            [
             0.7777777777777778,
             "#fb9f3a"
            ],
            [
             0.8888888888888888,
             "#fdca26"
            ],
            [
             1,
             "#f0f921"
            ]
           ],
           "sequentialminus": [
            [
             0,
             "#0d0887"
            ],
            [
             0.1111111111111111,
             "#46039f"
            ],
            [
             0.2222222222222222,
             "#7201a8"
            ],
            [
             0.3333333333333333,
             "#9c179e"
            ],
            [
             0.4444444444444444,
             "#bd3786"
            ],
            [
             0.5555555555555556,
             "#d8576b"
            ],
            [
             0.6666666666666666,
             "#ed7953"
            ],
            [
             0.7777777777777778,
             "#fb9f3a"
            ],
            [
             0.8888888888888888,
             "#fdca26"
            ],
            [
             1,
             "#f0f921"
            ]
           ]
          },
          "colorway": [
           "#636efa",
           "#EF553B",
           "#00cc96",
           "#ab63fa",
           "#FFA15A",
           "#19d3f3",
           "#FF6692",
           "#B6E880",
           "#FF97FF",
           "#FECB52"
          ],
          "font": {
           "color": "#2a3f5f"
          },
          "geo": {
           "bgcolor": "white",
           "lakecolor": "white",
           "landcolor": "#E5ECF6",
           "showlakes": true,
           "showland": true,
           "subunitcolor": "white"
          },
          "hoverlabel": {
           "align": "left"
          },
          "hovermode": "closest",
          "mapbox": {
           "style": "light"
          },
          "paper_bgcolor": "white",
          "plot_bgcolor": "#E5ECF6",
          "polar": {
           "angularaxis": {
            "gridcolor": "white",
            "linecolor": "white",
            "ticks": ""
           },
           "bgcolor": "#E5ECF6",
           "radialaxis": {
            "gridcolor": "white",
            "linecolor": "white",
            "ticks": ""
           }
          },
          "scene": {
           "xaxis": {
            "backgroundcolor": "#E5ECF6",
            "gridcolor": "white",
            "gridwidth": 2,
            "linecolor": "white",
            "showbackground": true,
            "ticks": "",
            "zerolinecolor": "white"
           },
           "yaxis": {
            "backgroundcolor": "#E5ECF6",
            "gridcolor": "white",
            "gridwidth": 2,
            "linecolor": "white",
            "showbackground": true,
            "ticks": "",
            "zerolinecolor": "white"
           },
           "zaxis": {
            "backgroundcolor": "#E5ECF6",
            "gridcolor": "white",
            "gridwidth": 2,
            "linecolor": "white",
            "showbackground": true,
            "ticks": "",
            "zerolinecolor": "white"
           }
          },
          "shapedefaults": {
           "line": {
            "color": "#2a3f5f"
           }
          },
          "ternary": {
           "aaxis": {
            "gridcolor": "white",
            "linecolor": "white",
            "ticks": ""
           },
           "baxis": {
            "gridcolor": "white",
            "linecolor": "white",
            "ticks": ""
           },
           "bgcolor": "#E5ECF6",
           "caxis": {
            "gridcolor": "white",
            "linecolor": "white",
            "ticks": ""
           }
          },
          "title": {
           "x": 0.05
          },
          "xaxis": {
           "automargin": true,
           "gridcolor": "white",
           "linecolor": "white",
           "ticks": "",
           "title": {
            "standoff": 15
           },
           "zerolinecolor": "white",
           "zerolinewidth": 2
          },
          "yaxis": {
           "automargin": true,
           "gridcolor": "white",
           "linecolor": "white",
           "ticks": "",
           "title": {
            "standoff": 15
           },
           "zerolinecolor": "white",
           "zerolinewidth": 2
          }
         }
        },
        "title": {
         "text": "3D Sentence Clusters(Textblob)"
        }
       }
      }
     },
     "metadata": {},
     "output_type": "display_data"
    }
   ],
   "source": [
    "\n",
    "# Perform t-SNE dimensionality reduction for 3D visualization\n",
    "perplexity_value = min(30, len(sentence_vectors_testblob) - 1)\n",
    "tsne_3d = TSNE(n_components=3,perplexity=perplexity_value, random_state=0)\n",
    "reduced_vectors_3d = tsne_3d.fit_transform(sentence_vectors_testblob)\n",
    "\n",
    "# 3D Scatter plot\n",
    "fig = go.Figure()\n",
    "\n",
    "for i in range(num_clusters):\n",
    "    indices = labels_textblob == i\n",
    "    fig.add_trace(go.Scatter3d(\n",
    "        x=reduced_vectors_3d[indices, 0],\n",
    "        y=reduced_vectors_3d[indices, 1],\n",
    "        z=reduced_vectors_3d[indices, 2],\n",
    "        mode='markers',\n",
    "        name=f'Cluster {i+1}'\n",
    "    ))\n",
    "\n",
    "fig.update_layout(title='3D Sentence Clusters(Textblob)',\n",
    "                  scene=dict(xaxis_title='t-SNE Dimension 1',\n",
    "                             yaxis_title='t-SNE Dimension 2',\n",
    "                             zaxis_title='t-SNE Dimension 3'))\n",
    "fig.show()\n"
   ]
  },
  {
   "cell_type": "markdown",
   "metadata": {},
   "source": [
    "## spacy"
   ]
  },
  {
   "cell_type": "code",
   "execution_count": 94,
   "metadata": {},
   "outputs": [],
   "source": [
    "perplexity_value = min(30, len(sentence_vectors_spacy) - 1)\n",
    "tsne = TSNE(n_components=2, perplexity=perplexity_value, random_state=0)\n",
    "reduced_vectors_2d = tsne.fit_transform(sentence_vectors_spacy)"
   ]
  },
  {
   "cell_type": "code",
   "execution_count": 95,
   "metadata": {},
   "outputs": [
    {
     "data": {
      "application/vnd.plotly.v1+json": {
       "config": {
        "plotlyServerURL": "https://plot.ly"
       },
       "data": [
        {
         "mode": "markers",
         "name": "Cluster 1",
         "type": "scatter",
         "x": [
          -1.4690688848495483,
          -1.2580562829971313,
          -1.3426932096481323,
          -1.5025079250335693,
          -4.044806480407715,
          5.397175312042236,
          9.724908828735352,
          10.352399826049805,
          -0.6300743222236633,
          9.724784851074219,
          -0.5936623811721802,
          -0.8465537428855896,
          -0.762982189655304,
          1.9398852586746216,
          7.14478063583374,
          3.5643627643585205,
          5.458932876586914,
          4.63232421875,
          8.377513885498047,
          2.9441683292388916,
          7.925886154174805,
          -4.0666327476501465,
          7.917487621307373,
          4.73389196395874,
          1.3102279901504517,
          8.114433288574219,
          6.7058281898498535,
          6.2137837409973145,
          7.983771324157715,
          11.03795337677002,
          11.03795337677002,
          4.560359001159668,
          5.290036678314209,
          6.617546081542969,
          7.4426469802856445,
          8.377513885498047,
          -0.12609392404556274,
          4.15809965133667,
          4.390988826751709,
          4.390988826751709,
          4.090112209320068,
          1.3369104862213135,
          -4.140325546264648,
          -1.960519552230835
         ],
         "y": [
          3.823354959487915,
          -0.5110933780670166,
          -4.371523857116699,
          2.261568546295166,
          -0.9836210012435913,
          3.919887065887451,
          4.1670355796813965,
          4.596502780914307,
          2.7898473739624023,
          4.167026519775391,
          5.997734069824219,
          4.842016220092773,
          4.609707355499268,
          1.4318279027938843,
          1.9805692434310913,
          2.315145254135132,
          3.234445333480835,
          2.0040910243988037,
          -2.5229990482330322,
          3.513012647628784,
          1.991840124130249,
          5.424947738647461,
          1.5212676525115967,
          -1.1197834014892578,
          1.670186996459961,
          6.35413122177124,
          4.863777160644531,
          1.4877424240112305,
          0.46797484159469604,
          1.140705943107605,
          1.140705943107605,
          4.940486431121826,
          0.026456737890839577,
          2.5233795642852783,
          2.8898797035217285,
          -2.5229990482330322,
          4.069042205810547,
          4.260328769683838,
          2.934920310974121,
          2.934920310974121,
          1.3025280237197876,
          2.8124582767486572,
          2.640388011932373,
          5.457206726074219
         ]
        },
        {
         "mode": "markers",
         "name": "Cluster 2",
         "type": "scatter",
         "x": [
          -4.862321853637695,
          -5.712959289550781,
          -7.304957866668701,
          -3.924906015396118,
          -5.500028610229492,
          -6.379931449890137,
          -3.1886067390441895,
          -6.2921576499938965,
          -7.218111991882324,
          -8.279579162597656,
          -6.2921576499938965,
          -5.446182727813721,
          -6.417713642120361,
          -4.372740268707275,
          -4.121224880218506,
          -2.672053813934326,
          -3.9265520572662354,
          -5.1255083084106445,
          -3.9265520572662354,
          -5.1255083084106445,
          -5.1255083084106445,
          -5.1255083084106445,
          -5.362233638763428,
          -5.362233638763428,
          -5.1255083084106445,
          -5.362233638763428,
          -4.022332668304443,
          -6.205229759216309,
          -6.410451412200928,
          -3.439488649368286,
          -5.921760082244873,
          -4.934731960296631,
          -6.5303120613098145,
          -3.924906015396118,
          -4.461026668548584,
          -7.09963846206665,
          -6.970865726470947
         ],
         "y": [
          -4.376307964324951,
          -7.670417785644531,
          -6.031008720397949,
          -7.435005187988281,
          -8.379435539245605,
          -8.059846878051758,
          -6.719114303588867,
          -5.868828773498535,
          -6.756256580352783,
          -8.730451583862305,
          -5.868828773498535,
          -2.6519923210144043,
          -9.94487190246582,
          -5.462403297424316,
          -4.826415061950684,
          -3.2725472450256348,
          -6.224992275238037,
          -6.613489627838135,
          -6.224992275238037,
          -6.613489627838135,
          -6.613489627838135,
          -6.613489627838135,
          -5.28043794631958,
          -5.28043794631958,
          -6.613489627838135,
          -5.28043794631958,
          -9.958916664123535,
          -7.1731486320495605,
          -6.63442850112915,
          -5.477763652801514,
          -4.374154567718506,
          -7.7946648597717285,
          -4.818312168121338,
          -7.435005187988281,
          -8.26134967803955,
          -5.264878273010254,
          -7.467442512512207
         ]
        },
        {
         "mode": "markers",
         "name": "Cluster 3",
         "type": "scatter",
         "x": [
          1.4373162984848022
         ],
         "y": [
          -3.0783896446228027
         ]
        },
        {
         "mode": "markers",
         "name": "Cluster 4",
         "type": "scatter",
         "x": [
          -3.8685855865478516,
          -3.883953094482422,
          -1.1852517127990723,
          3.0433804988861084,
          0.26159223914146423,
          -9.19052505493164,
          -4.099184036254883,
          0.26148903369903564,
          -8.358030319213867,
          -5.25789737701416,
          2.1793720722198486,
          -2.5790517330169678,
          1.3185837268829346,
          3.0433804988861084,
          1.979499340057373,
          -0.013580884784460068,
          -0.06804566830396652,
          -10.589140892028809,
          -10.589140892028809,
          0.4396439790725708,
          -0.7984822988510132,
          -10.589140892028809,
          -0.2885282337665558,
          -3.6369738578796387,
          -7.863678455352783,
          3.0433804988861084,
          -5.949800491333008,
          -1.6234403848648071,
          -8.537128448486328,
          2.008178234100342,
          -7.916463851928711
         ],
         "y": [
          1.5524003505706787,
          8.139046669006348,
          -7.807330131530762,
          -8.73462963104248,
          -0.8845393657684326,
          -6.566080570220947,
          8.0192289352417,
          -0.884601354598999,
          1.0440908670425415,
          3.0523970127105713,
          -1.1550452709197998,
          0.9115476608276367,
          7.519137859344482,
          -8.73462963104248,
          0.17705762386322021,
          1.5818660259246826,
          1.6728991270065308,
          -3.7948567867279053,
          -3.7948567867279053,
          0.450064480304718,
          0.9366124868392944,
          -3.7948567867279053,
          -5.756433486938477,
          1.92054283618927,
          0.012447549030184746,
          -8.73462963104248,
          0.9484322667121887,
          -2.2365667819976807,
          -0.8337720036506653,
          4.916106700897217,
          -1.212834358215332
         ]
        },
        {
         "mode": "markers",
         "name": "Cluster 5",
         "type": "scatter",
         "x": [
          6.034212589263916,
          1.040592908859253,
          1.2734520435333252,
          7.488115310668945,
          6.9966864585876465,
          -6.400259494781494,
          1.123321533203125,
          6.029181957244873,
          2.1283955574035645,
          3.507642984390259,
          1.1599886417388916,
          3.1458849906921387,
          2.862004518508911,
          5.103174209594727,
          5.094645023345947,
          4.990459442138672,
          2.245662212371826,
          -0.12338252365589142,
          3.1139931678771973,
          2.3132269382476807,
          -2.795529842376709,
          4.443518161773682,
          1.7220120429992676,
          -0.49392494559288025,
          -0.6502408385276794,
          -0.15954628586769104,
          0.2043103575706482,
          5.9040374755859375,
          1.6557705402374268,
          -0.15954628586769104,
          3.7423105239868164,
          2.3097987174987793,
          3.5369837284088135,
          5.659631252288818,
          -1.177941918373108,
          2.7176010608673096,
          3.9652700424194336
         ],
         "y": [
          6.665136337280273,
          3.950888156890869,
          4.951230049133301,
          7.9902143478393555,
          5.701211929321289,
          5.781557083129883,
          10.142403602600098,
          7.719690322875977,
          3.720870018005371,
          5.321946620941162,
          6.033890247344971,
          7.1162428855896,
          0.14224590361118317,
          6.111774921417236,
          6.562134265899658,
          5.85866117477417,
          5.997570514678955,
          10.859145164489746,
          6.303707599639893,
          3.106733798980713,
          8.100523948669434,
          8.68172836303711,
          11.477143287658691,
          10.091774940490723,
          10.532346725463867,
          7.819849014282227,
          8.623930931091309,
          9.759949684143066,
          9.48640251159668,
          7.819849014282227,
          8.280228614807129,
          7.343173503875732,
          7.914556503295898,
          4.964227676391602,
          7.291934013366699,
          5.240413665771484,
          9.432304382324219
         ]
        },
        {
         "mode": "markers",
         "name": "Cluster 6",
         "type": "scatter",
         "x": [
          3.953103542327881,
          3.9530584812164307,
          -2.6144027709960938
         ],
         "y": [
          -4.558669090270996,
          -4.558581829071045,
          4.332061290740967
         ]
        }
       ],
       "layout": {
        "legend": {
         "title": {
          "text": "Clusters"
         }
        },
        "template": {
         "data": {
          "bar": [
           {
            "error_x": {
             "color": "#2a3f5f"
            },
            "error_y": {
             "color": "#2a3f5f"
            },
            "marker": {
             "line": {
              "color": "#E5ECF6",
              "width": 0.5
             },
             "pattern": {
              "fillmode": "overlay",
              "size": 10,
              "solidity": 0.2
             }
            },
            "type": "bar"
           }
          ],
          "barpolar": [
           {
            "marker": {
             "line": {
              "color": "#E5ECF6",
              "width": 0.5
             },
             "pattern": {
              "fillmode": "overlay",
              "size": 10,
              "solidity": 0.2
             }
            },
            "type": "barpolar"
           }
          ],
          "carpet": [
           {
            "aaxis": {
             "endlinecolor": "#2a3f5f",
             "gridcolor": "white",
             "linecolor": "white",
             "minorgridcolor": "white",
             "startlinecolor": "#2a3f5f"
            },
            "baxis": {
             "endlinecolor": "#2a3f5f",
             "gridcolor": "white",
             "linecolor": "white",
             "minorgridcolor": "white",
             "startlinecolor": "#2a3f5f"
            },
            "type": "carpet"
           }
          ],
          "choropleth": [
           {
            "colorbar": {
             "outlinewidth": 0,
             "ticks": ""
            },
            "type": "choropleth"
           }
          ],
          "contour": [
           {
            "colorbar": {
             "outlinewidth": 0,
             "ticks": ""
            },
            "colorscale": [
             [
              0,
              "#0d0887"
             ],
             [
              0.1111111111111111,
              "#46039f"
             ],
             [
              0.2222222222222222,
              "#7201a8"
             ],
             [
              0.3333333333333333,
              "#9c179e"
             ],
             [
              0.4444444444444444,
              "#bd3786"
             ],
             [
              0.5555555555555556,
              "#d8576b"
             ],
             [
              0.6666666666666666,
              "#ed7953"
             ],
             [
              0.7777777777777778,
              "#fb9f3a"
             ],
             [
              0.8888888888888888,
              "#fdca26"
             ],
             [
              1,
              "#f0f921"
             ]
            ],
            "type": "contour"
           }
          ],
          "contourcarpet": [
           {
            "colorbar": {
             "outlinewidth": 0,
             "ticks": ""
            },
            "type": "contourcarpet"
           }
          ],
          "heatmap": [
           {
            "colorbar": {
             "outlinewidth": 0,
             "ticks": ""
            },
            "colorscale": [
             [
              0,
              "#0d0887"
             ],
             [
              0.1111111111111111,
              "#46039f"
             ],
             [
              0.2222222222222222,
              "#7201a8"
             ],
             [
              0.3333333333333333,
              "#9c179e"
             ],
             [
              0.4444444444444444,
              "#bd3786"
             ],
             [
              0.5555555555555556,
              "#d8576b"
             ],
             [
              0.6666666666666666,
              "#ed7953"
             ],
             [
              0.7777777777777778,
              "#fb9f3a"
             ],
             [
              0.8888888888888888,
              "#fdca26"
             ],
             [
              1,
              "#f0f921"
             ]
            ],
            "type": "heatmap"
           }
          ],
          "heatmapgl": [
           {
            "colorbar": {
             "outlinewidth": 0,
             "ticks": ""
            },
            "colorscale": [
             [
              0,
              "#0d0887"
             ],
             [
              0.1111111111111111,
              "#46039f"
             ],
             [
              0.2222222222222222,
              "#7201a8"
             ],
             [
              0.3333333333333333,
              "#9c179e"
             ],
             [
              0.4444444444444444,
              "#bd3786"
             ],
             [
              0.5555555555555556,
              "#d8576b"
             ],
             [
              0.6666666666666666,
              "#ed7953"
             ],
             [
              0.7777777777777778,
              "#fb9f3a"
             ],
             [
              0.8888888888888888,
              "#fdca26"
             ],
             [
              1,
              "#f0f921"
             ]
            ],
            "type": "heatmapgl"
           }
          ],
          "histogram": [
           {
            "marker": {
             "pattern": {
              "fillmode": "overlay",
              "size": 10,
              "solidity": 0.2
             }
            },
            "type": "histogram"
           }
          ],
          "histogram2d": [
           {
            "colorbar": {
             "outlinewidth": 0,
             "ticks": ""
            },
            "colorscale": [
             [
              0,
              "#0d0887"
             ],
             [
              0.1111111111111111,
              "#46039f"
             ],
             [
              0.2222222222222222,
              "#7201a8"
             ],
             [
              0.3333333333333333,
              "#9c179e"
             ],
             [
              0.4444444444444444,
              "#bd3786"
             ],
             [
              0.5555555555555556,
              "#d8576b"
             ],
             [
              0.6666666666666666,
              "#ed7953"
             ],
             [
              0.7777777777777778,
              "#fb9f3a"
             ],
             [
              0.8888888888888888,
              "#fdca26"
             ],
             [
              1,
              "#f0f921"
             ]
            ],
            "type": "histogram2d"
           }
          ],
          "histogram2dcontour": [
           {
            "colorbar": {
             "outlinewidth": 0,
             "ticks": ""
            },
            "colorscale": [
             [
              0,
              "#0d0887"
             ],
             [
              0.1111111111111111,
              "#46039f"
             ],
             [
              0.2222222222222222,
              "#7201a8"
             ],
             [
              0.3333333333333333,
              "#9c179e"
             ],
             [
              0.4444444444444444,
              "#bd3786"
             ],
             [
              0.5555555555555556,
              "#d8576b"
             ],
             [
              0.6666666666666666,
              "#ed7953"
             ],
             [
              0.7777777777777778,
              "#fb9f3a"
             ],
             [
              0.8888888888888888,
              "#fdca26"
             ],
             [
              1,
              "#f0f921"
             ]
            ],
            "type": "histogram2dcontour"
           }
          ],
          "mesh3d": [
           {
            "colorbar": {
             "outlinewidth": 0,
             "ticks": ""
            },
            "type": "mesh3d"
           }
          ],
          "parcoords": [
           {
            "line": {
             "colorbar": {
              "outlinewidth": 0,
              "ticks": ""
             }
            },
            "type": "parcoords"
           }
          ],
          "pie": [
           {
            "automargin": true,
            "type": "pie"
           }
          ],
          "scatter": [
           {
            "fillpattern": {
             "fillmode": "overlay",
             "size": 10,
             "solidity": 0.2
            },
            "type": "scatter"
           }
          ],
          "scatter3d": [
           {
            "line": {
             "colorbar": {
              "outlinewidth": 0,
              "ticks": ""
             }
            },
            "marker": {
             "colorbar": {
              "outlinewidth": 0,
              "ticks": ""
             }
            },
            "type": "scatter3d"
           }
          ],
          "scattercarpet": [
           {
            "marker": {
             "colorbar": {
              "outlinewidth": 0,
              "ticks": ""
             }
            },
            "type": "scattercarpet"
           }
          ],
          "scattergeo": [
           {
            "marker": {
             "colorbar": {
              "outlinewidth": 0,
              "ticks": ""
             }
            },
            "type": "scattergeo"
           }
          ],
          "scattergl": [
           {
            "marker": {
             "colorbar": {
              "outlinewidth": 0,
              "ticks": ""
             }
            },
            "type": "scattergl"
           }
          ],
          "scattermapbox": [
           {
            "marker": {
             "colorbar": {
              "outlinewidth": 0,
              "ticks": ""
             }
            },
            "type": "scattermapbox"
           }
          ],
          "scatterpolar": [
           {
            "marker": {
             "colorbar": {
              "outlinewidth": 0,
              "ticks": ""
             }
            },
            "type": "scatterpolar"
           }
          ],
          "scatterpolargl": [
           {
            "marker": {
             "colorbar": {
              "outlinewidth": 0,
              "ticks": ""
             }
            },
            "type": "scatterpolargl"
           }
          ],
          "scatterternary": [
           {
            "marker": {
             "colorbar": {
              "outlinewidth": 0,
              "ticks": ""
             }
            },
            "type": "scatterternary"
           }
          ],
          "surface": [
           {
            "colorbar": {
             "outlinewidth": 0,
             "ticks": ""
            },
            "colorscale": [
             [
              0,
              "#0d0887"
             ],
             [
              0.1111111111111111,
              "#46039f"
             ],
             [
              0.2222222222222222,
              "#7201a8"
             ],
             [
              0.3333333333333333,
              "#9c179e"
             ],
             [
              0.4444444444444444,
              "#bd3786"
             ],
             [
              0.5555555555555556,
              "#d8576b"
             ],
             [
              0.6666666666666666,
              "#ed7953"
             ],
             [
              0.7777777777777778,
              "#fb9f3a"
             ],
             [
              0.8888888888888888,
              "#fdca26"
             ],
             [
              1,
              "#f0f921"
             ]
            ],
            "type": "surface"
           }
          ],
          "table": [
           {
            "cells": {
             "fill": {
              "color": "#EBF0F8"
             },
             "line": {
              "color": "white"
             }
            },
            "header": {
             "fill": {
              "color": "#C8D4E3"
             },
             "line": {
              "color": "white"
             }
            },
            "type": "table"
           }
          ]
         },
         "layout": {
          "annotationdefaults": {
           "arrowcolor": "#2a3f5f",
           "arrowhead": 0,
           "arrowwidth": 1
          },
          "autotypenumbers": "strict",
          "coloraxis": {
           "colorbar": {
            "outlinewidth": 0,
            "ticks": ""
           }
          },
          "colorscale": {
           "diverging": [
            [
             0,
             "#8e0152"
            ],
            [
             0.1,
             "#c51b7d"
            ],
            [
             0.2,
             "#de77ae"
            ],
            [
             0.3,
             "#f1b6da"
            ],
            [
             0.4,
             "#fde0ef"
            ],
            [
             0.5,
             "#f7f7f7"
            ],
            [
             0.6,
             "#e6f5d0"
            ],
            [
             0.7,
             "#b8e186"
            ],
            [
             0.8,
             "#7fbc41"
            ],
            [
             0.9,
             "#4d9221"
            ],
            [
             1,
             "#276419"
            ]
           ],
           "sequential": [
            [
             0,
             "#0d0887"
            ],
            [
             0.1111111111111111,
             "#46039f"
            ],
            [
             0.2222222222222222,
             "#7201a8"
            ],
            [
             0.3333333333333333,
             "#9c179e"
            ],
            [
             0.4444444444444444,
             "#bd3786"
            ],
            [
             0.5555555555555556,
             "#d8576b"
            ],
            [
             0.6666666666666666,
             "#ed7953"
            ],
            [
             0.7777777777777778,
             "#fb9f3a"
            ],
            [
             0.8888888888888888,
             "#fdca26"
            ],
            [
             1,
             "#f0f921"
            ]
           ],
           "sequentialminus": [
            [
             0,
             "#0d0887"
            ],
            [
             0.1111111111111111,
             "#46039f"
            ],
            [
             0.2222222222222222,
             "#7201a8"
            ],
            [
             0.3333333333333333,
             "#9c179e"
            ],
            [
             0.4444444444444444,
             "#bd3786"
            ],
            [
             0.5555555555555556,
             "#d8576b"
            ],
            [
             0.6666666666666666,
             "#ed7953"
            ],
            [
             0.7777777777777778,
             "#fb9f3a"
            ],
            [
             0.8888888888888888,
             "#fdca26"
            ],
            [
             1,
             "#f0f921"
            ]
           ]
          },
          "colorway": [
           "#636efa",
           "#EF553B",
           "#00cc96",
           "#ab63fa",
           "#FFA15A",
           "#19d3f3",
           "#FF6692",
           "#B6E880",
           "#FF97FF",
           "#FECB52"
          ],
          "font": {
           "color": "#2a3f5f"
          },
          "geo": {
           "bgcolor": "white",
           "lakecolor": "white",
           "landcolor": "#E5ECF6",
           "showlakes": true,
           "showland": true,
           "subunitcolor": "white"
          },
          "hoverlabel": {
           "align": "left"
          },
          "hovermode": "closest",
          "mapbox": {
           "style": "light"
          },
          "paper_bgcolor": "white",
          "plot_bgcolor": "#E5ECF6",
          "polar": {
           "angularaxis": {
            "gridcolor": "white",
            "linecolor": "white",
            "ticks": ""
           },
           "bgcolor": "#E5ECF6",
           "radialaxis": {
            "gridcolor": "white",
            "linecolor": "white",
            "ticks": ""
           }
          },
          "scene": {
           "xaxis": {
            "backgroundcolor": "#E5ECF6",
            "gridcolor": "white",
            "gridwidth": 2,
            "linecolor": "white",
            "showbackground": true,
            "ticks": "",
            "zerolinecolor": "white"
           },
           "yaxis": {
            "backgroundcolor": "#E5ECF6",
            "gridcolor": "white",
            "gridwidth": 2,
            "linecolor": "white",
            "showbackground": true,
            "ticks": "",
            "zerolinecolor": "white"
           },
           "zaxis": {
            "backgroundcolor": "#E5ECF6",
            "gridcolor": "white",
            "gridwidth": 2,
            "linecolor": "white",
            "showbackground": true,
            "ticks": "",
            "zerolinecolor": "white"
           }
          },
          "shapedefaults": {
           "line": {
            "color": "#2a3f5f"
           }
          },
          "ternary": {
           "aaxis": {
            "gridcolor": "white",
            "linecolor": "white",
            "ticks": ""
           },
           "baxis": {
            "gridcolor": "white",
            "linecolor": "white",
            "ticks": ""
           },
           "bgcolor": "#E5ECF6",
           "caxis": {
            "gridcolor": "white",
            "linecolor": "white",
            "ticks": ""
           }
          },
          "title": {
           "x": 0.05
          },
          "xaxis": {
           "automargin": true,
           "gridcolor": "white",
           "linecolor": "white",
           "ticks": "",
           "title": {
            "standoff": 15
           },
           "zerolinecolor": "white",
           "zerolinewidth": 2
          },
          "yaxis": {
           "automargin": true,
           "gridcolor": "white",
           "linecolor": "white",
           "ticks": "",
           "title": {
            "standoff": 15
           },
           "zerolinecolor": "white",
           "zerolinewidth": 2
          }
         }
        },
        "title": {
         "text": "Sentence Clusters Visualized with t-SNE(Spacy)"
        },
        "xaxis": {
         "title": {
          "text": "t-SNE Dimension 1"
         }
        },
        "yaxis": {
         "title": {
          "text": "t-SNE Dimension 2"
         }
        }
       }
      }
     },
     "metadata": {},
     "output_type": "display_data"
    }
   ],
   "source": [
    "fig = go.Figure()\n",
    "\n",
    "\n",
    "for i in range(num_clusters):\n",
    "    indices = labels_spacy == i\n",
    "    fig.add_trace(go.Scatter(\n",
    "        x=reduced_vectors_2d[indices, 0],\n",
    "        y=reduced_vectors_2d[indices, 1],\n",
    "        mode='markers',\n",
    "        name=f'Cluster {i + 1}'\n",
    "    ))\n",
    "\n",
    "fig.update_layout(\n",
    "    title='Sentence Clusters Visualized with t-SNE(Spacy)',\n",
    "    xaxis_title='t-SNE Dimension 1',\n",
    "    yaxis_title='t-SNE Dimension 2',\n",
    "    legend_title=\"Clusters\"\n",
    ")\n",
    "\n",
    "pio.show(fig)\n"
   ]
  },
  {
   "cell_type": "code",
   "execution_count": 96,
   "metadata": {},
   "outputs": [
    {
     "data": {
      "application/vnd.plotly.v1+json": {
       "config": {
        "plotlyServerURL": "https://plot.ly"
       },
       "data": [
        {
         "mode": "markers",
         "name": "Cluster 1",
         "type": "scatter3d",
         "x": [
          -15.535653114318848,
          57.960365295410156,
          53.32406997680664,
          -37.97810363769531,
          45.65506362915039,
          -45.69404220581055,
          -34.70093536376953,
          -54.717525482177734,
          -55.64079666137695,
          -29.43820571899414,
          -12.946670532226562,
          -34.318973541259766,
          -34.63675308227539,
          26.580900192260742,
          -36.06907653808594,
          -51.39518356323242,
          -29.88920021057129,
          -22.98263168334961,
          -83.87261199951172,
          -32.91666793823242,
          -59.92755126953125,
          -60.46579360961914,
          -47.869056701660156,
          -3.7201149463653564,
          -12.016242980957031,
          -41.842655181884766,
          -64.05497741699219,
          -9.499655723571777,
          -72.70171356201172,
          -72.40804290771484,
          -72.40804290771484,
          -78.31336212158203,
          -62.26341247558594,
          -31.1514949798584,
          -58.03309631347656,
          -83.87261199951172,
          -45.177059173583984,
          -60.56753158569336,
          -36.860904693603516,
          -36.860904693603516,
          -45.609588623046875,
          4.716645240783691,
          -20.967853546142578,
          -32.66672897338867
         ],
         "y": [
          18.80071258544922,
          -30.124439239501953,
          -68.21102905273438,
          84.24453735351562,
          39.70913314819336,
          10.508199691772461,
          -25.855464935302734,
          -41.07303237915039,
          25.904626846313477,
          -29.37326431274414,
          31.459566116333008,
          40.45709991455078,
          -35.89442443847656,
          -31.770069122314453,
          -53.52424621582031,
          -18.8151912689209,
          5.536004543304443,
          -3.58891224861145,
          59.77141571044922,
          47.199039459228516,
          -56.68330764770508,
          34.881839752197266,
          -77.4643325805664,
          -68.20647430419922,
          63.16389083862305,
          -105.5156478881836,
          -11.895964622497559,
          -54.39952087402344,
          -76.11032104492188,
          -70.48226928710938,
          -70.48226928710938,
          -30.434906005859375,
          22.951335906982422,
          -39.97441864013672,
          -46.319156646728516,
          59.77141571044922,
          48.132720947265625,
          -26.095680236816406,
          -4.736178874969482,
          -4.736178874969482,
          -76.18220520019531,
          -5.90203857421875,
          -69.63191986083984,
          71.98062896728516
         ],
         "z": [
          0.9705795645713806,
          -53.49148941040039,
          -14.586726188659668,
          -57.2468147277832,
          -20.123559951782227,
          -51.19001007080078,
          61.747798919677734,
          74.67601013183594,
          2.480912446975708,
          80.57100677490234,
          -33.29200744628906,
          -16.567014694213867,
          2.1956095695495605,
          -37.055419921875,
          -68.69551086425781,
          29.845924377441406,
          -31.39136505126953,
          23.13631248474121,
          -34.7143669128418,
          38.19123458862305,
          -77.50469970703125,
          61.84894561767578,
          -63.759132385253906,
          -91.79010772705078,
          -37.74557113647461,
          11.68911075592041,
          -36.124794006347656,
          -58.74005889892578,
          -45.126197814941406,
          15.109301567077637,
          15.109301567077637,
          19.32190704345703,
          -25.259811401367188,
          -50.32413101196289,
          -48.95122528076172,
          -34.7143669128418,
          -51.430755615234375,
          -8.312658309936523,
          -5.114974021911621,
          -5.114974021911621,
          -18.478559494018555,
          -38.20626449584961,
          14.86386489868164,
          -12.297133445739746
         ]
        },
        {
         "mode": "markers",
         "name": "Cluster 2",
         "type": "scatter3d",
         "x": [
          13.412283897399902,
          76.8719253540039,
          -126.16524505615234,
          46.87297439575195,
          76.08777618408203,
          -26.626768112182617,
          10.503050804138184,
          60.21843338012695,
          -54.23401641845703,
          67.1375961303711,
          60.21843338012695,
          100.46808624267578,
          48.128387451171875,
          74.95094299316406,
          29.531314849853516,
          15.177973747253418,
          -107.5843276977539,
          50.286094665527344,
          -107.5843276977539,
          50.286094665527344,
          50.286094665527344,
          50.286094665527344,
          23.576295852661133,
          23.576295852661133,
          50.286094665527344,
          23.576295852661133,
          48.970069885253906,
          60.51211166381836,
          28.58594512939453,
          65.58322143554688,
          86.74615478515625,
          39.7503776550293,
          37.85060119628906,
          46.87297439575195,
          34.42650604248047,
          87.42185974121094,
          53.553958892822266
         ],
         "y": [
          -14.37773609161377,
          -32.448020935058594,
          17.117218017578125,
          -19.1342716217041,
          -5.253475189208984,
          8.161187171936035,
          -41.495357513427734,
          12.296035766601562,
          -1.0258735418319702,
          -82.7877197265625,
          12.296035766601562,
          23.673561096191406,
          -68.95764923095703,
          -42.293182373046875,
          -43.87442398071289,
          41.91535568237305,
          -3.152015447616577,
          -23.869789123535156,
          -3.152015447616577,
          -23.869789123535156,
          -23.869789123535156,
          -23.869789123535156,
          -0.579901933670044,
          -0.579901933670044,
          -23.869789123535156,
          -0.579901933670044,
          -9.173531532287598,
          -51.97818374633789,
          -51.9154167175293,
          -6.432236194610596,
          -35.35971450805664,
          -28.65900993347168,
          30.663421630859375,
          -19.1342716217041,
          7.133413314819336,
          -10.143437385559082,
          13.204237937927246
         ],
         "z": [
          56.123844146728516,
          -4.841662883758545,
          3.6140670776367188,
          1.8020490407943726,
          15.843354225158691,
          76.51197052001953,
          70.35393524169922,
          40.88483428955078,
          -96.60782623291016,
          31.941431045532227,
          40.88483428955078,
          51.69871139526367,
          71.2568130493164,
          59.82587814331055,
          15.609371185302734,
          51.92631149291992,
          -38.8471565246582,
          40.004241943359375,
          -38.8471565246582,
          40.004241943359375,
          40.004241943359375,
          40.004241943359375,
          26.40129852294922,
          26.40129852294922,
          40.004241943359375,
          26.40129852294922,
          103.58269500732422,
          18.32425880432129,
          46.00953674316406,
          70.99581909179688,
          26.81037712097168,
          74.86621856689453,
          27.161418914794922,
          1.8020490407943726,
          63.635223388671875,
          46.416229248046875,
          5.127567291259766
         ]
        },
        {
         "mode": "markers",
         "name": "Cluster 3",
         "type": "scatter3d",
         "x": [
          3.319079637527466
         ],
         "y": [
          96.86400604248047
         ],
         "z": [
          18.60466766357422
         ]
        },
        {
         "mode": "markers",
         "name": "Cluster 4",
         "type": "scatter3d",
         "x": [
          21.55638313293457,
          31.754955291748047,
          7.380064010620117,
          54.792030334472656,
          -5.353909969329834,
          74.09605407714844,
          34.8813362121582,
          -8.772317886352539,
          83.88929748535156,
          76.4542465209961,
          33.63039779663086,
          -6.749172210693359,
          35.95813751220703,
          54.792030334472656,
          9.720118522644043,
          42.8472900390625,
          -44.67917251586914,
          57.607177734375,
          57.607177734375,
          7.57070779800415,
          52.54645919799805,
          57.607177734375,
          -8.55970287322998,
          3.055238723754883,
          91.77586364746094,
          54.792030334472656,
          84.75946807861328,
          20.330570220947266,
          104.01797485351562,
          -41.775856018066406,
          104.6953353881836
         ],
         "y": [
          -86.4601058959961,
          -25.207862854003906,
          2.5001964569091797,
          81.3150405883789,
          -31.558076858520508,
          46.66218566894531,
          -2.7384016513824463,
          -38.47882843017578,
          47.6153564453125,
          0.625053882598877,
          80.38848114013672,
          -79.8583984375,
          -66.94641876220703,
          81.3150405883789,
          76.44107055664062,
          3.5418648719787598,
          17.03066062927246,
          49.18722915649414,
          49.18722915649414,
          -20.86543083190918,
          37.97945785522461,
          49.18722915649414,
          16.911861419677734,
          -74.72975158691406,
          21.822860717773438,
          81.3150405883789,
          -4.953274726867676,
          71.55813598632812,
          36.3281135559082,
          -134.97425842285156,
          7.631922245025635
         ],
         "z": [
          16.982023239135742,
          -88.85589599609375,
          96.2144546508789,
          -1.3077479600906372,
          14.528213500976562,
          24.380048751831055,
          -79.9393081665039,
          32.46770477294922,
          -38.11741638183594,
          -78.63088989257812,
          -49.74078369140625,
          46.79502487182617,
          -51.88883972167969,
          -1.3077479600906372,
          -38.008445739746094,
          -34.164398193359375,
          26.1663761138916,
          72.76861572265625,
          72.76861572265625,
          -8.528332710266113,
          -58.90849685668945,
          72.76861572265625,
          49.01158905029297,
          14.648080825805664,
          -25.058731079101562,
          -1.3077479600906372,
          -38.68180465698242,
          49.076419830322266,
          -1.9670541286468506,
          73.25068664550781,
          -4.005114555358887
         ]
        },
        {
         "mode": "markers",
         "name": "Cluster 5",
         "type": "scatter3d",
         "x": [
          -90.04194641113281,
          -9.337892532348633,
          -20.978778839111328,
          -93.16178131103516,
          -76.3587875366211,
          -30.82048225402832,
          25.129201889038086,
          -94.12638854980469,
          -13.548978805541992,
          -17.43207550048828,
          13.802667617797852,
          -76.02690887451172,
          -1.9069288969039917,
          -1.2627819776535034,
          -104.66387939453125,
          -80.74251556396484,
          -3.8037352561950684,
          -22.258804321289062,
          0.4363083839416504,
          -17.19724464416504,
          8.350235939025879,
          -98.21504974365234,
          -25.734622955322266,
          1.4198631048202515,
          2.659883975982666,
          12.705229759216309,
          -11.860549926757812,
          -84.92845153808594,
          5.343107223510742,
          12.705229759216309,
          -77.01334381103516,
          11.94753646850586,
          -10.491761207580566,
          -41.61226272583008,
          -46.689605712890625,
          -18.46608543395996,
          -86.89480590820312
         ],
         "y": [
          11.08333683013916,
          -26.399070739746094,
          -50.40665817260742,
          -44.2049560546875,
          -15.757989883422852,
          70.66493225097656,
          44.69059753417969,
          23.579315185546875,
          76.98251342773438,
          -23.715290069580078,
          17.48088836669922,
          0.5406112670898438,
          100.85348510742188,
          -91.44608306884766,
          -16.017234802246094,
          -8.709371566772461,
          6.235576629638672,
          46.98550033569336,
          -65.5003662109375,
          49.562068939208984,
          -25.118141174316406,
          46.703678131103516,
          38.88083267211914,
          31.25437355041504,
          54.55192565917969,
          28.480037689208984,
          29.058813095092773,
          25.636173248291016,
          55.53987503051758,
          28.480037689208984,
          59.95341110229492,
          -58.80229949951172,
          -92.24437713623047,
          -18.191354751586914,
          104.24166107177734,
          -5.489857196807861,
          77.03105926513672
         ],
         "z": [
          25.91254234313965,
          -27.145309448242188,
          -20.98015594482422,
          -17.810962677001953,
          -60.351688385009766,
          51.65565490722656,
          -96.22933959960938,
          -7.2217841148376465,
          12.704534530639648,
          -86.31997680664062,
          -13.916254043579102,
          59.61991882324219,
          -23.861928939819336,
          -42.449893951416016,
          2.7755041122436523,
          -0.579003632068634,
          -93.73828125,
          86.72291564941406,
          -12.29781723022461,
          18.656394958496094,
          -73.64736938476562,
          25.362491607666016,
          -94.33995819091797,
          96.56700897216797,
          94.03450775146484,
          -55.360443115234375,
          -69.1901626586914,
          -71.28002166748047,
          -84.6119613647461,
          -55.360443115234375,
          36.11859893798828,
          -35.19622802734375,
          -11.322423934936523,
          -55.74638748168945,
          2.137139081954956,
          -66.08061218261719,
          16.959911346435547
         ]
        },
        {
         "mode": "markers",
         "name": "Cluster 6",
         "type": "scatter3d",
         "x": [
          16.832592010498047,
          11.035344123840332,
          -55.52813720703125
         ],
         "y": [
          52.17497634887695,
          54.509368896484375,
          55.343414306640625
         ],
         "z": [
          9.9024019241333,
          -8.133599281311035,
          5.526050090789795
         ]
        }
       ],
       "layout": {
        "scene": {
         "xaxis": {
          "title": {
           "text": "t-SNE Dimension 1"
          }
         },
         "yaxis": {
          "title": {
           "text": "t-SNE Dimension 2"
          }
         },
         "zaxis": {
          "title": {
           "text": "t-SNE Dimension 3"
          }
         }
        },
        "template": {
         "data": {
          "bar": [
           {
            "error_x": {
             "color": "#2a3f5f"
            },
            "error_y": {
             "color": "#2a3f5f"
            },
            "marker": {
             "line": {
              "color": "#E5ECF6",
              "width": 0.5
             },
             "pattern": {
              "fillmode": "overlay",
              "size": 10,
              "solidity": 0.2
             }
            },
            "type": "bar"
           }
          ],
          "barpolar": [
           {
            "marker": {
             "line": {
              "color": "#E5ECF6",
              "width": 0.5
             },
             "pattern": {
              "fillmode": "overlay",
              "size": 10,
              "solidity": 0.2
             }
            },
            "type": "barpolar"
           }
          ],
          "carpet": [
           {
            "aaxis": {
             "endlinecolor": "#2a3f5f",
             "gridcolor": "white",
             "linecolor": "white",
             "minorgridcolor": "white",
             "startlinecolor": "#2a3f5f"
            },
            "baxis": {
             "endlinecolor": "#2a3f5f",
             "gridcolor": "white",
             "linecolor": "white",
             "minorgridcolor": "white",
             "startlinecolor": "#2a3f5f"
            },
            "type": "carpet"
           }
          ],
          "choropleth": [
           {
            "colorbar": {
             "outlinewidth": 0,
             "ticks": ""
            },
            "type": "choropleth"
           }
          ],
          "contour": [
           {
            "colorbar": {
             "outlinewidth": 0,
             "ticks": ""
            },
            "colorscale": [
             [
              0,
              "#0d0887"
             ],
             [
              0.1111111111111111,
              "#46039f"
             ],
             [
              0.2222222222222222,
              "#7201a8"
             ],
             [
              0.3333333333333333,
              "#9c179e"
             ],
             [
              0.4444444444444444,
              "#bd3786"
             ],
             [
              0.5555555555555556,
              "#d8576b"
             ],
             [
              0.6666666666666666,
              "#ed7953"
             ],
             [
              0.7777777777777778,
              "#fb9f3a"
             ],
             [
              0.8888888888888888,
              "#fdca26"
             ],
             [
              1,
              "#f0f921"
             ]
            ],
            "type": "contour"
           }
          ],
          "contourcarpet": [
           {
            "colorbar": {
             "outlinewidth": 0,
             "ticks": ""
            },
            "type": "contourcarpet"
           }
          ],
          "heatmap": [
           {
            "colorbar": {
             "outlinewidth": 0,
             "ticks": ""
            },
            "colorscale": [
             [
              0,
              "#0d0887"
             ],
             [
              0.1111111111111111,
              "#46039f"
             ],
             [
              0.2222222222222222,
              "#7201a8"
             ],
             [
              0.3333333333333333,
              "#9c179e"
             ],
             [
              0.4444444444444444,
              "#bd3786"
             ],
             [
              0.5555555555555556,
              "#d8576b"
             ],
             [
              0.6666666666666666,
              "#ed7953"
             ],
             [
              0.7777777777777778,
              "#fb9f3a"
             ],
             [
              0.8888888888888888,
              "#fdca26"
             ],
             [
              1,
              "#f0f921"
             ]
            ],
            "type": "heatmap"
           }
          ],
          "heatmapgl": [
           {
            "colorbar": {
             "outlinewidth": 0,
             "ticks": ""
            },
            "colorscale": [
             [
              0,
              "#0d0887"
             ],
             [
              0.1111111111111111,
              "#46039f"
             ],
             [
              0.2222222222222222,
              "#7201a8"
             ],
             [
              0.3333333333333333,
              "#9c179e"
             ],
             [
              0.4444444444444444,
              "#bd3786"
             ],
             [
              0.5555555555555556,
              "#d8576b"
             ],
             [
              0.6666666666666666,
              "#ed7953"
             ],
             [
              0.7777777777777778,
              "#fb9f3a"
             ],
             [
              0.8888888888888888,
              "#fdca26"
             ],
             [
              1,
              "#f0f921"
             ]
            ],
            "type": "heatmapgl"
           }
          ],
          "histogram": [
           {
            "marker": {
             "pattern": {
              "fillmode": "overlay",
              "size": 10,
              "solidity": 0.2
             }
            },
            "type": "histogram"
           }
          ],
          "histogram2d": [
           {
            "colorbar": {
             "outlinewidth": 0,
             "ticks": ""
            },
            "colorscale": [
             [
              0,
              "#0d0887"
             ],
             [
              0.1111111111111111,
              "#46039f"
             ],
             [
              0.2222222222222222,
              "#7201a8"
             ],
             [
              0.3333333333333333,
              "#9c179e"
             ],
             [
              0.4444444444444444,
              "#bd3786"
             ],
             [
              0.5555555555555556,
              "#d8576b"
             ],
             [
              0.6666666666666666,
              "#ed7953"
             ],
             [
              0.7777777777777778,
              "#fb9f3a"
             ],
             [
              0.8888888888888888,
              "#fdca26"
             ],
             [
              1,
              "#f0f921"
             ]
            ],
            "type": "histogram2d"
           }
          ],
          "histogram2dcontour": [
           {
            "colorbar": {
             "outlinewidth": 0,
             "ticks": ""
            },
            "colorscale": [
             [
              0,
              "#0d0887"
             ],
             [
              0.1111111111111111,
              "#46039f"
             ],
             [
              0.2222222222222222,
              "#7201a8"
             ],
             [
              0.3333333333333333,
              "#9c179e"
             ],
             [
              0.4444444444444444,
              "#bd3786"
             ],
             [
              0.5555555555555556,
              "#d8576b"
             ],
             [
              0.6666666666666666,
              "#ed7953"
             ],
             [
              0.7777777777777778,
              "#fb9f3a"
             ],
             [
              0.8888888888888888,
              "#fdca26"
             ],
             [
              1,
              "#f0f921"
             ]
            ],
            "type": "histogram2dcontour"
           }
          ],
          "mesh3d": [
           {
            "colorbar": {
             "outlinewidth": 0,
             "ticks": ""
            },
            "type": "mesh3d"
           }
          ],
          "parcoords": [
           {
            "line": {
             "colorbar": {
              "outlinewidth": 0,
              "ticks": ""
             }
            },
            "type": "parcoords"
           }
          ],
          "pie": [
           {
            "automargin": true,
            "type": "pie"
           }
          ],
          "scatter": [
           {
            "fillpattern": {
             "fillmode": "overlay",
             "size": 10,
             "solidity": 0.2
            },
            "type": "scatter"
           }
          ],
          "scatter3d": [
           {
            "line": {
             "colorbar": {
              "outlinewidth": 0,
              "ticks": ""
             }
            },
            "marker": {
             "colorbar": {
              "outlinewidth": 0,
              "ticks": ""
             }
            },
            "type": "scatter3d"
           }
          ],
          "scattercarpet": [
           {
            "marker": {
             "colorbar": {
              "outlinewidth": 0,
              "ticks": ""
             }
            },
            "type": "scattercarpet"
           }
          ],
          "scattergeo": [
           {
            "marker": {
             "colorbar": {
              "outlinewidth": 0,
              "ticks": ""
             }
            },
            "type": "scattergeo"
           }
          ],
          "scattergl": [
           {
            "marker": {
             "colorbar": {
              "outlinewidth": 0,
              "ticks": ""
             }
            },
            "type": "scattergl"
           }
          ],
          "scattermapbox": [
           {
            "marker": {
             "colorbar": {
              "outlinewidth": 0,
              "ticks": ""
             }
            },
            "type": "scattermapbox"
           }
          ],
          "scatterpolar": [
           {
            "marker": {
             "colorbar": {
              "outlinewidth": 0,
              "ticks": ""
             }
            },
            "type": "scatterpolar"
           }
          ],
          "scatterpolargl": [
           {
            "marker": {
             "colorbar": {
              "outlinewidth": 0,
              "ticks": ""
             }
            },
            "type": "scatterpolargl"
           }
          ],
          "scatterternary": [
           {
            "marker": {
             "colorbar": {
              "outlinewidth": 0,
              "ticks": ""
             }
            },
            "type": "scatterternary"
           }
          ],
          "surface": [
           {
            "colorbar": {
             "outlinewidth": 0,
             "ticks": ""
            },
            "colorscale": [
             [
              0,
              "#0d0887"
             ],
             [
              0.1111111111111111,
              "#46039f"
             ],
             [
              0.2222222222222222,
              "#7201a8"
             ],
             [
              0.3333333333333333,
              "#9c179e"
             ],
             [
              0.4444444444444444,
              "#bd3786"
             ],
             [
              0.5555555555555556,
              "#d8576b"
             ],
             [
              0.6666666666666666,
              "#ed7953"
             ],
             [
              0.7777777777777778,
              "#fb9f3a"
             ],
             [
              0.8888888888888888,
              "#fdca26"
             ],
             [
              1,
              "#f0f921"
             ]
            ],
            "type": "surface"
           }
          ],
          "table": [
           {
            "cells": {
             "fill": {
              "color": "#EBF0F8"
             },
             "line": {
              "color": "white"
             }
            },
            "header": {
             "fill": {
              "color": "#C8D4E3"
             },
             "line": {
              "color": "white"
             }
            },
            "type": "table"
           }
          ]
         },
         "layout": {
          "annotationdefaults": {
           "arrowcolor": "#2a3f5f",
           "arrowhead": 0,
           "arrowwidth": 1
          },
          "autotypenumbers": "strict",
          "coloraxis": {
           "colorbar": {
            "outlinewidth": 0,
            "ticks": ""
           }
          },
          "colorscale": {
           "diverging": [
            [
             0,
             "#8e0152"
            ],
            [
             0.1,
             "#c51b7d"
            ],
            [
             0.2,
             "#de77ae"
            ],
            [
             0.3,
             "#f1b6da"
            ],
            [
             0.4,
             "#fde0ef"
            ],
            [
             0.5,
             "#f7f7f7"
            ],
            [
             0.6,
             "#e6f5d0"
            ],
            [
             0.7,
             "#b8e186"
            ],
            [
             0.8,
             "#7fbc41"
            ],
            [
             0.9,
             "#4d9221"
            ],
            [
             1,
             "#276419"
            ]
           ],
           "sequential": [
            [
             0,
             "#0d0887"
            ],
            [
             0.1111111111111111,
             "#46039f"
            ],
            [
             0.2222222222222222,
             "#7201a8"
            ],
            [
             0.3333333333333333,
             "#9c179e"
            ],
            [
             0.4444444444444444,
             "#bd3786"
            ],
            [
             0.5555555555555556,
             "#d8576b"
            ],
            [
             0.6666666666666666,
             "#ed7953"
            ],
            [
             0.7777777777777778,
             "#fb9f3a"
            ],
            [
             0.8888888888888888,
             "#fdca26"
            ],
            [
             1,
             "#f0f921"
            ]
           ],
           "sequentialminus": [
            [
             0,
             "#0d0887"
            ],
            [
             0.1111111111111111,
             "#46039f"
            ],
            [
             0.2222222222222222,
             "#7201a8"
            ],
            [
             0.3333333333333333,
             "#9c179e"
            ],
            [
             0.4444444444444444,
             "#bd3786"
            ],
            [
             0.5555555555555556,
             "#d8576b"
            ],
            [
             0.6666666666666666,
             "#ed7953"
            ],
            [
             0.7777777777777778,
             "#fb9f3a"
            ],
            [
             0.8888888888888888,
             "#fdca26"
            ],
            [
             1,
             "#f0f921"
            ]
           ]
          },
          "colorway": [
           "#636efa",
           "#EF553B",
           "#00cc96",
           "#ab63fa",
           "#FFA15A",
           "#19d3f3",
           "#FF6692",
           "#B6E880",
           "#FF97FF",
           "#FECB52"
          ],
          "font": {
           "color": "#2a3f5f"
          },
          "geo": {
           "bgcolor": "white",
           "lakecolor": "white",
           "landcolor": "#E5ECF6",
           "showlakes": true,
           "showland": true,
           "subunitcolor": "white"
          },
          "hoverlabel": {
           "align": "left"
          },
          "hovermode": "closest",
          "mapbox": {
           "style": "light"
          },
          "paper_bgcolor": "white",
          "plot_bgcolor": "#E5ECF6",
          "polar": {
           "angularaxis": {
            "gridcolor": "white",
            "linecolor": "white",
            "ticks": ""
           },
           "bgcolor": "#E5ECF6",
           "radialaxis": {
            "gridcolor": "white",
            "linecolor": "white",
            "ticks": ""
           }
          },
          "scene": {
           "xaxis": {
            "backgroundcolor": "#E5ECF6",
            "gridcolor": "white",
            "gridwidth": 2,
            "linecolor": "white",
            "showbackground": true,
            "ticks": "",
            "zerolinecolor": "white"
           },
           "yaxis": {
            "backgroundcolor": "#E5ECF6",
            "gridcolor": "white",
            "gridwidth": 2,
            "linecolor": "white",
            "showbackground": true,
            "ticks": "",
            "zerolinecolor": "white"
           },
           "zaxis": {
            "backgroundcolor": "#E5ECF6",
            "gridcolor": "white",
            "gridwidth": 2,
            "linecolor": "white",
            "showbackground": true,
            "ticks": "",
            "zerolinecolor": "white"
           }
          },
          "shapedefaults": {
           "line": {
            "color": "#2a3f5f"
           }
          },
          "ternary": {
           "aaxis": {
            "gridcolor": "white",
            "linecolor": "white",
            "ticks": ""
           },
           "baxis": {
            "gridcolor": "white",
            "linecolor": "white",
            "ticks": ""
           },
           "bgcolor": "#E5ECF6",
           "caxis": {
            "gridcolor": "white",
            "linecolor": "white",
            "ticks": ""
           }
          },
          "title": {
           "x": 0.05
          },
          "xaxis": {
           "automargin": true,
           "gridcolor": "white",
           "linecolor": "white",
           "ticks": "",
           "title": {
            "standoff": 15
           },
           "zerolinecolor": "white",
           "zerolinewidth": 2
          },
          "yaxis": {
           "automargin": true,
           "gridcolor": "white",
           "linecolor": "white",
           "ticks": "",
           "title": {
            "standoff": 15
           },
           "zerolinecolor": "white",
           "zerolinewidth": 2
          }
         }
        },
        "title": {
         "text": "3D Sentence Clusters(Spacy)"
        }
       }
      }
     },
     "metadata": {},
     "output_type": "display_data"
    }
   ],
   "source": [
    "# Perform t-SNE dimensionality reduction for 3D visualization\n",
    "perplexity_value = min(30, len(sentence_vectors_spacy) - 1)\n",
    "tsne_3d = TSNE(n_components=3,perplexity=perplexity_value, random_state=0)\n",
    "reduced_vectors_3d = tsne_3d.fit_transform(sentence_vectors_spacy)\n",
    "\n",
    "fig = go.Figure()\n",
    "\n",
    "for i in range(num_clusters):\n",
    "    indices = labels_spacy == i\n",
    "    fig.add_trace(go.Scatter3d(\n",
    "        x=reduced_vectors_3d[indices, 0],\n",
    "        y=reduced_vectors_3d[indices, 1],\n",
    "        z=reduced_vectors_3d[indices, 2],\n",
    "        mode='markers',\n",
    "        name=f'Cluster {i+1}'\n",
    "    ))\n",
    "\n",
    "fig.update_layout(title='3D Sentence Clusters(Spacy)',\n",
    "                  scene=dict(xaxis_title='t-SNE Dimension 1',\n",
    "                             yaxis_title='t-SNE Dimension 2',\n",
    "                             zaxis_title='t-SNE Dimension 3'))\n",
    "fig.show()\n"
   ]
  },
  {
   "cell_type": "markdown",
   "metadata": {},
   "source": [
    "## NLTK\n"
   ]
  },
  {
   "cell_type": "code",
   "execution_count": 97,
   "metadata": {},
   "outputs": [],
   "source": [
    "perplexity_value = min(30, len(sentence_vectors_nltk) - 1)\n",
    "tsne = TSNE(n_components=2, perplexity=perplexity_value, random_state=0)\n",
    "reduced_vectors_2d = tsne.fit_transform(sentence_vectors_nltk)"
   ]
  },
  {
   "cell_type": "code",
   "execution_count": 98,
   "metadata": {},
   "outputs": [
    {
     "data": {
      "application/vnd.plotly.v1+json": {
       "config": {
        "plotlyServerURL": "https://plot.ly"
       },
       "data": [
        {
         "mode": "markers",
         "name": "Cluster 1",
         "type": "scatter",
         "x": [
          -14.376872062683105,
          -15.167672157287598,
          -16.16305923461914,
          -15.167672157287598,
          -14.985828399658203
         ],
         "y": [
          1.7325685024261475,
          -9.584247589111328,
          5.234117031097412,
          -9.584247589111328,
          4.685980319976807
         ]
        },
        {
         "mode": "markers",
         "name": "Cluster 2",
         "type": "scatter",
         "x": [
          11.7066011428833,
          11.7066011428833,
          14.742581367492676,
          11.13389778137207,
          11.027034759521484,
          13.861793518066406,
          11.01487922668457,
          9.103869438171387,
          12.411164283752441,
          13.594969749450684,
          14.180441856384277,
          13.833158493041992,
          9.793277740478516,
          9.139403343200684,
          16.59014892578125,
          10.762984275817871,
          13.745058059692383,
          12.517544746398926,
          12.517544746398926,
          6.736967086791992,
          12.517544746398926,
          6.47565221786499,
          9.103869438171387,
          12.427520751953125,
          15.295894622802734,
          12.517544746398926,
          9.493620872497559,
          17.666433334350586,
          11.793268203735352,
          12.916951179504395,
          12.916951179504395,
          12.916951179504395,
          10.527053833007812,
          14.772550582885742,
          16.690876007080078,
          15.185652732849121,
          17.699708938598633,
          13.946573257446289,
          13.946573257446289,
          13.027532577514648,
          10.093496322631836,
          15.187518119812012,
          16.99835968017578
         ],
         "y": [
          0.2036570906639099,
          0.2036570906639099,
          -2.4348807334899902,
          -3.4030137062072754,
          1.5989434719085693,
          1.6654771566390991,
          -2.172572612762451,
          7.980649948120117,
          -3.4478156566619873,
          -3.054745674133301,
          -1.3580437898635864,
          -5.272440433502197,
          -2.219926357269287,
          -4.736341953277588,
          2.5027146339416504,
          -0.8983805179595947,
          -0.20464910566806793,
          -1.4847638607025146,
          -1.4847638607025146,
          1.8084241151809692,
          -1.4847638607025146,
          3.21401047706604,
          7.980649948120117,
          1.838813066482544,
          -0.816078245639801,
          -1.4847638607025146,
          -0.7644110321998596,
          0.03522320091724396,
          4.37406063079834,
          -10.185078620910645,
          -10.185078620910645,
          -10.185078620910645,
          8.797860145568848,
          0.5498560070991516,
          -4.163618087768555,
          8.009730339050293,
          -3.256622314453125,
          7.544156074523926,
          7.544156074523926,
          0.6002500057220459,
          0.49858808517456055,
          6.020110130310059,
          -5.718258857727051
         ]
        },
        {
         "mode": "markers",
         "name": "Cluster 3",
         "type": "scatter",
         "x": [
          3.2404415607452393,
          -1.2720088958740234,
          2.212632656097412,
          8.901616096496582,
          -5.423374176025391,
          -4.298248767852783,
          3.4144458770751953,
          -0.052182964980602264,
          -0.3198060989379883,
          -10.32927417755127,
          1.056550145149231,
          -4.195028305053711,
          1.7354083061218262,
          -1.9878249168395996,
          -1.6384422779083252,
          -1.7755533456802368,
          -1.9878249168395996,
          -2.8087265491485596,
          -4.336791038513184,
          1.3534282445907593,
          -5.0285820960998535,
          -2.271972417831421,
          -4.786397933959961,
          -16.615713119506836,
          -16.635051727294922,
          -1.0401602983474731,
          2.803142786026001,
          1.0171000957489014,
          -2.5121872425079346,
          7.691582679748535,
          -1.9941765069961548,
          -1.0218265056610107,
          -2.5121872425079346,
          -6.008157730102539,
          -2.910940647125244,
          5.049766540527344,
          -3.951184034347534
         ],
         "y": [
          5.514496326446533,
          1.532999873161316,
          7.146137237548828,
          3.5578370094299316,
          2.593125104904175,
          6.583798408508301,
          8.168853759765625,
          5.673453330993652,
          -5.946528434753418,
          2.555974006652832,
          9.141267776489258,
          4.171230316162109,
          -2.2035534381866455,
          11.861907005310059,
          6.714968681335449,
          8.258548736572266,
          11.861907005310059,
          3.1524136066436768,
          0.8665406703948975,
          -5.776294231414795,
          5.800583839416504,
          4.911144733428955,
          9.130107879638672,
          -4.904638290405273,
          -4.914046764373779,
          -3.132876396179199,
          4.791340351104736,
          -7.702297210693359,
          -0.5558879375457764,
          8.038618087768555,
          -3.6192259788513184,
          -5.618022918701172,
          -0.5558879375457764,
          4.440999984741211,
          1.6826133728027344,
          4.597583293914795,
          2.023360252380371
         ]
        },
        {
         "mode": "markers",
         "name": "Cluster 4",
         "type": "scatter",
         "x": [
          -9.521745681762695,
          -13.592556953430176,
          -11.590287208557129,
          -9.802817344665527,
          -11.795352935791016,
          -8.898873329162598,
          -9.917306900024414,
          -14.039112091064453,
          -11.905352592468262,
          -8.391929626464844,
          -6.960628509521484,
          -7.897100925445557,
          -6.864185333251953,
          -11.01300048828125,
          -8.281535148620605,
          -12.842588424682617,
          -7.514451503753662
         ],
         "y": [
          6.6295342445373535,
          1.5778591632843018,
          7.6810526847839355,
          8.507762908935547,
          10.100074768066406,
          4.460472106933594,
          4.799966335296631,
          7.394243240356445,
          6.110636234283447,
          2.7664570808410645,
          7.4986252784729,
          6.081180095672607,
          5.65764856338501,
          5.159390449523926,
          1.6259381771087646,
          3.8526298999786377,
          9.331171035766602
         ]
        },
        {
         "mode": "markers",
         "name": "Cluster 5",
         "type": "scatter",
         "x": [
          -13.12806224822998,
          -11.782240867614746,
          4.782623767852783,
          1.6978529691696167,
          4.712576389312744,
          -4.44052791595459,
          4.0974907875061035,
          4.0974907875061035,
          -16.895122528076172,
          -18.34395408630371,
          8.279559135437012,
          -4.37062931060791,
          5.724530220031738,
          -16.892187118530273,
          -6.608630657196045,
          -4.874340057373047,
          -5.110086441040039,
          -6.578378200531006,
          -8.993614196777344,
          -11.902770042419434,
          -9.109062194824219,
          11.203694343566895,
          -1.1454451084136963,
          -7.401177883148193,
          3.220075845718384,
          0.5644238591194153,
          0.5292940139770508,
          1.1190619468688965,
          -0.41274452209472656,
          -11.434187889099121,
          2.5551443099975586,
          1.016802430152893,
          6.6662421226501465,
          -2.560732364654541,
          -7.427368640899658,
          -6.253544807434082,
          -10.76219654083252,
          -10.76219654083252,
          -8.280277252197266,
          18.567710876464844,
          -1.0561186075210571
         ],
         "y": [
          -1.9927167892456055,
          -3.371502637863159,
          -5.543126106262207,
          11.997381210327148,
          -5.127627372741699,
          -3.721158504486084,
          -0.37117999792099,
          -0.37117999792099,
          -0.41316819190979004,
          0.0359380841255188,
          -9.229243278503418,
          -8.1664400100708,
          12.096050262451172,
          -0.4114208519458771,
          -2.6510868072509766,
          -1.709862470626831,
          -2.3080317974090576,
          -5.50552225112915,
          -0.15822716057300568,
          -0.24129712581634521,
          -2.7894859313964844,
          -6.24466609954834,
          4.718349456787109,
          -5.885020732879639,
          2.762401819229126,
          -1.112870216369629,
          3.3532636165618896,
          2.592780351638794,
          -0.0901104286313057,
          -5.648526668548584,
          0.34534162282943726,
          1.3158704042434692,
          -3.098972797393799,
          -9.68889045715332,
          2.8116002082824707,
          -0.549299418926239,
          -1.6178077459335327,
          -1.6178077459335327,
          -1.5489476919174194,
          -5.858611106872559,
          2.5772171020507812
         ]
        },
        {
         "mode": "markers",
         "name": "Cluster 6",
         "type": "scatter",
         "x": [
          -9.967162132263184,
          -10.189443588256836,
          -5.959392070770264,
          -9.369379997253418,
          -3.3555686473846436,
          -6.107104301452637,
          -9.660934448242188,
          -8.921483039855957,
          -7.003207206726074,
          -11.279266357421875
         ],
         "y": [
          -6.282180309295654,
          -7.879376411437988,
          -10.014647483825684,
          -9.360883712768555,
          -5.8042402267456055,
          -8.087715148925781,
          -5.317993640899658,
          -7.022282600402832,
          12.990534782409668,
          1.9144678115844727
         ]
        }
       ],
       "layout": {
        "legend": {
         "title": {
          "text": "Clusters"
         }
        },
        "template": {
         "data": {
          "bar": [
           {
            "error_x": {
             "color": "#2a3f5f"
            },
            "error_y": {
             "color": "#2a3f5f"
            },
            "marker": {
             "line": {
              "color": "#E5ECF6",
              "width": 0.5
             },
             "pattern": {
              "fillmode": "overlay",
              "size": 10,
              "solidity": 0.2
             }
            },
            "type": "bar"
           }
          ],
          "barpolar": [
           {
            "marker": {
             "line": {
              "color": "#E5ECF6",
              "width": 0.5
             },
             "pattern": {
              "fillmode": "overlay",
              "size": 10,
              "solidity": 0.2
             }
            },
            "type": "barpolar"
           }
          ],
          "carpet": [
           {
            "aaxis": {
             "endlinecolor": "#2a3f5f",
             "gridcolor": "white",
             "linecolor": "white",
             "minorgridcolor": "white",
             "startlinecolor": "#2a3f5f"
            },
            "baxis": {
             "endlinecolor": "#2a3f5f",
             "gridcolor": "white",
             "linecolor": "white",
             "minorgridcolor": "white",
             "startlinecolor": "#2a3f5f"
            },
            "type": "carpet"
           }
          ],
          "choropleth": [
           {
            "colorbar": {
             "outlinewidth": 0,
             "ticks": ""
            },
            "type": "choropleth"
           }
          ],
          "contour": [
           {
            "colorbar": {
             "outlinewidth": 0,
             "ticks": ""
            },
            "colorscale": [
             [
              0,
              "#0d0887"
             ],
             [
              0.1111111111111111,
              "#46039f"
             ],
             [
              0.2222222222222222,
              "#7201a8"
             ],
             [
              0.3333333333333333,
              "#9c179e"
             ],
             [
              0.4444444444444444,
              "#bd3786"
             ],
             [
              0.5555555555555556,
              "#d8576b"
             ],
             [
              0.6666666666666666,
              "#ed7953"
             ],
             [
              0.7777777777777778,
              "#fb9f3a"
             ],
             [
              0.8888888888888888,
              "#fdca26"
             ],
             [
              1,
              "#f0f921"
             ]
            ],
            "type": "contour"
           }
          ],
          "contourcarpet": [
           {
            "colorbar": {
             "outlinewidth": 0,
             "ticks": ""
            },
            "type": "contourcarpet"
           }
          ],
          "heatmap": [
           {
            "colorbar": {
             "outlinewidth": 0,
             "ticks": ""
            },
            "colorscale": [
             [
              0,
              "#0d0887"
             ],
             [
              0.1111111111111111,
              "#46039f"
             ],
             [
              0.2222222222222222,
              "#7201a8"
             ],
             [
              0.3333333333333333,
              "#9c179e"
             ],
             [
              0.4444444444444444,
              "#bd3786"
             ],
             [
              0.5555555555555556,
              "#d8576b"
             ],
             [
              0.6666666666666666,
              "#ed7953"
             ],
             [
              0.7777777777777778,
              "#fb9f3a"
             ],
             [
              0.8888888888888888,
              "#fdca26"
             ],
             [
              1,
              "#f0f921"
             ]
            ],
            "type": "heatmap"
           }
          ],
          "heatmapgl": [
           {
            "colorbar": {
             "outlinewidth": 0,
             "ticks": ""
            },
            "colorscale": [
             [
              0,
              "#0d0887"
             ],
             [
              0.1111111111111111,
              "#46039f"
             ],
             [
              0.2222222222222222,
              "#7201a8"
             ],
             [
              0.3333333333333333,
              "#9c179e"
             ],
             [
              0.4444444444444444,
              "#bd3786"
             ],
             [
              0.5555555555555556,
              "#d8576b"
             ],
             [
              0.6666666666666666,
              "#ed7953"
             ],
             [
              0.7777777777777778,
              "#fb9f3a"
             ],
             [
              0.8888888888888888,
              "#fdca26"
             ],
             [
              1,
              "#f0f921"
             ]
            ],
            "type": "heatmapgl"
           }
          ],
          "histogram": [
           {
            "marker": {
             "pattern": {
              "fillmode": "overlay",
              "size": 10,
              "solidity": 0.2
             }
            },
            "type": "histogram"
           }
          ],
          "histogram2d": [
           {
            "colorbar": {
             "outlinewidth": 0,
             "ticks": ""
            },
            "colorscale": [
             [
              0,
              "#0d0887"
             ],
             [
              0.1111111111111111,
              "#46039f"
             ],
             [
              0.2222222222222222,
              "#7201a8"
             ],
             [
              0.3333333333333333,
              "#9c179e"
             ],
             [
              0.4444444444444444,
              "#bd3786"
             ],
             [
              0.5555555555555556,
              "#d8576b"
             ],
             [
              0.6666666666666666,
              "#ed7953"
             ],
             [
              0.7777777777777778,
              "#fb9f3a"
             ],
             [
              0.8888888888888888,
              "#fdca26"
             ],
             [
              1,
              "#f0f921"
             ]
            ],
            "type": "histogram2d"
           }
          ],
          "histogram2dcontour": [
           {
            "colorbar": {
             "outlinewidth": 0,
             "ticks": ""
            },
            "colorscale": [
             [
              0,
              "#0d0887"
             ],
             [
              0.1111111111111111,
              "#46039f"
             ],
             [
              0.2222222222222222,
              "#7201a8"
             ],
             [
              0.3333333333333333,
              "#9c179e"
             ],
             [
              0.4444444444444444,
              "#bd3786"
             ],
             [
              0.5555555555555556,
              "#d8576b"
             ],
             [
              0.6666666666666666,
              "#ed7953"
             ],
             [
              0.7777777777777778,
              "#fb9f3a"
             ],
             [
              0.8888888888888888,
              "#fdca26"
             ],
             [
              1,
              "#f0f921"
             ]
            ],
            "type": "histogram2dcontour"
           }
          ],
          "mesh3d": [
           {
            "colorbar": {
             "outlinewidth": 0,
             "ticks": ""
            },
            "type": "mesh3d"
           }
          ],
          "parcoords": [
           {
            "line": {
             "colorbar": {
              "outlinewidth": 0,
              "ticks": ""
             }
            },
            "type": "parcoords"
           }
          ],
          "pie": [
           {
            "automargin": true,
            "type": "pie"
           }
          ],
          "scatter": [
           {
            "fillpattern": {
             "fillmode": "overlay",
             "size": 10,
             "solidity": 0.2
            },
            "type": "scatter"
           }
          ],
          "scatter3d": [
           {
            "line": {
             "colorbar": {
              "outlinewidth": 0,
              "ticks": ""
             }
            },
            "marker": {
             "colorbar": {
              "outlinewidth": 0,
              "ticks": ""
             }
            },
            "type": "scatter3d"
           }
          ],
          "scattercarpet": [
           {
            "marker": {
             "colorbar": {
              "outlinewidth": 0,
              "ticks": ""
             }
            },
            "type": "scattercarpet"
           }
          ],
          "scattergeo": [
           {
            "marker": {
             "colorbar": {
              "outlinewidth": 0,
              "ticks": ""
             }
            },
            "type": "scattergeo"
           }
          ],
          "scattergl": [
           {
            "marker": {
             "colorbar": {
              "outlinewidth": 0,
              "ticks": ""
             }
            },
            "type": "scattergl"
           }
          ],
          "scattermapbox": [
           {
            "marker": {
             "colorbar": {
              "outlinewidth": 0,
              "ticks": ""
             }
            },
            "type": "scattermapbox"
           }
          ],
          "scatterpolar": [
           {
            "marker": {
             "colorbar": {
              "outlinewidth": 0,
              "ticks": ""
             }
            },
            "type": "scatterpolar"
           }
          ],
          "scatterpolargl": [
           {
            "marker": {
             "colorbar": {
              "outlinewidth": 0,
              "ticks": ""
             }
            },
            "type": "scatterpolargl"
           }
          ],
          "scatterternary": [
           {
            "marker": {
             "colorbar": {
              "outlinewidth": 0,
              "ticks": ""
             }
            },
            "type": "scatterternary"
           }
          ],
          "surface": [
           {
            "colorbar": {
             "outlinewidth": 0,
             "ticks": ""
            },
            "colorscale": [
             [
              0,
              "#0d0887"
             ],
             [
              0.1111111111111111,
              "#46039f"
             ],
             [
              0.2222222222222222,
              "#7201a8"
             ],
             [
              0.3333333333333333,
              "#9c179e"
             ],
             [
              0.4444444444444444,
              "#bd3786"
             ],
             [
              0.5555555555555556,
              "#d8576b"
             ],
             [
              0.6666666666666666,
              "#ed7953"
             ],
             [
              0.7777777777777778,
              "#fb9f3a"
             ],
             [
              0.8888888888888888,
              "#fdca26"
             ],
             [
              1,
              "#f0f921"
             ]
            ],
            "type": "surface"
           }
          ],
          "table": [
           {
            "cells": {
             "fill": {
              "color": "#EBF0F8"
             },
             "line": {
              "color": "white"
             }
            },
            "header": {
             "fill": {
              "color": "#C8D4E3"
             },
             "line": {
              "color": "white"
             }
            },
            "type": "table"
           }
          ]
         },
         "layout": {
          "annotationdefaults": {
           "arrowcolor": "#2a3f5f",
           "arrowhead": 0,
           "arrowwidth": 1
          },
          "autotypenumbers": "strict",
          "coloraxis": {
           "colorbar": {
            "outlinewidth": 0,
            "ticks": ""
           }
          },
          "colorscale": {
           "diverging": [
            [
             0,
             "#8e0152"
            ],
            [
             0.1,
             "#c51b7d"
            ],
            [
             0.2,
             "#de77ae"
            ],
            [
             0.3,
             "#f1b6da"
            ],
            [
             0.4,
             "#fde0ef"
            ],
            [
             0.5,
             "#f7f7f7"
            ],
            [
             0.6,
             "#e6f5d0"
            ],
            [
             0.7,
             "#b8e186"
            ],
            [
             0.8,
             "#7fbc41"
            ],
            [
             0.9,
             "#4d9221"
            ],
            [
             1,
             "#276419"
            ]
           ],
           "sequential": [
            [
             0,
             "#0d0887"
            ],
            [
             0.1111111111111111,
             "#46039f"
            ],
            [
             0.2222222222222222,
             "#7201a8"
            ],
            [
             0.3333333333333333,
             "#9c179e"
            ],
            [
             0.4444444444444444,
             "#bd3786"
            ],
            [
             0.5555555555555556,
             "#d8576b"
            ],
            [
             0.6666666666666666,
             "#ed7953"
            ],
            [
             0.7777777777777778,
             "#fb9f3a"
            ],
            [
             0.8888888888888888,
             "#fdca26"
            ],
            [
             1,
             "#f0f921"
            ]
           ],
           "sequentialminus": [
            [
             0,
             "#0d0887"
            ],
            [
             0.1111111111111111,
             "#46039f"
            ],
            [
             0.2222222222222222,
             "#7201a8"
            ],
            [
             0.3333333333333333,
             "#9c179e"
            ],
            [
             0.4444444444444444,
             "#bd3786"
            ],
            [
             0.5555555555555556,
             "#d8576b"
            ],
            [
             0.6666666666666666,
             "#ed7953"
            ],
            [
             0.7777777777777778,
             "#fb9f3a"
            ],
            [
             0.8888888888888888,
             "#fdca26"
            ],
            [
             1,
             "#f0f921"
            ]
           ]
          },
          "colorway": [
           "#636efa",
           "#EF553B",
           "#00cc96",
           "#ab63fa",
           "#FFA15A",
           "#19d3f3",
           "#FF6692",
           "#B6E880",
           "#FF97FF",
           "#FECB52"
          ],
          "font": {
           "color": "#2a3f5f"
          },
          "geo": {
           "bgcolor": "white",
           "lakecolor": "white",
           "landcolor": "#E5ECF6",
           "showlakes": true,
           "showland": true,
           "subunitcolor": "white"
          },
          "hoverlabel": {
           "align": "left"
          },
          "hovermode": "closest",
          "mapbox": {
           "style": "light"
          },
          "paper_bgcolor": "white",
          "plot_bgcolor": "#E5ECF6",
          "polar": {
           "angularaxis": {
            "gridcolor": "white",
            "linecolor": "white",
            "ticks": ""
           },
           "bgcolor": "#E5ECF6",
           "radialaxis": {
            "gridcolor": "white",
            "linecolor": "white",
            "ticks": ""
           }
          },
          "scene": {
           "xaxis": {
            "backgroundcolor": "#E5ECF6",
            "gridcolor": "white",
            "gridwidth": 2,
            "linecolor": "white",
            "showbackground": true,
            "ticks": "",
            "zerolinecolor": "white"
           },
           "yaxis": {
            "backgroundcolor": "#E5ECF6",
            "gridcolor": "white",
            "gridwidth": 2,
            "linecolor": "white",
            "showbackground": true,
            "ticks": "",
            "zerolinecolor": "white"
           },
           "zaxis": {
            "backgroundcolor": "#E5ECF6",
            "gridcolor": "white",
            "gridwidth": 2,
            "linecolor": "white",
            "showbackground": true,
            "ticks": "",
            "zerolinecolor": "white"
           }
          },
          "shapedefaults": {
           "line": {
            "color": "#2a3f5f"
           }
          },
          "ternary": {
           "aaxis": {
            "gridcolor": "white",
            "linecolor": "white",
            "ticks": ""
           },
           "baxis": {
            "gridcolor": "white",
            "linecolor": "white",
            "ticks": ""
           },
           "bgcolor": "#E5ECF6",
           "caxis": {
            "gridcolor": "white",
            "linecolor": "white",
            "ticks": ""
           }
          },
          "title": {
           "x": 0.05
          },
          "xaxis": {
           "automargin": true,
           "gridcolor": "white",
           "linecolor": "white",
           "ticks": "",
           "title": {
            "standoff": 15
           },
           "zerolinecolor": "white",
           "zerolinewidth": 2
          },
          "yaxis": {
           "automargin": true,
           "gridcolor": "white",
           "linecolor": "white",
           "ticks": "",
           "title": {
            "standoff": 15
           },
           "zerolinecolor": "white",
           "zerolinewidth": 2
          }
         }
        },
        "title": {
         "text": "Sentence Clusters Visualized with t-SNE(NLTK)"
        },
        "xaxis": {
         "title": {
          "text": "t-SNE Dimension 1"
         }
        },
        "yaxis": {
         "title": {
          "text": "t-SNE Dimension 2"
         }
        }
       }
      }
     },
     "metadata": {},
     "output_type": "display_data"
    }
   ],
   "source": [
    "fig = go.Figure()\n",
    "for i in range(num_clusters):\n",
    "    indices = labels_nltk == i\n",
    "    fig.add_trace(go.Scatter(\n",
    "        x=reduced_vectors_2d[indices, 0],\n",
    "        y=reduced_vectors_2d[indices, 1],\n",
    "        mode='markers',\n",
    "        name=f'Cluster {i + 1}'\n",
    "    ))\n",
    "\n",
    "fig.update_layout(\n",
    "    title='Sentence Clusters Visualized with t-SNE(NLTK)',\n",
    "    xaxis_title='t-SNE Dimension 1',\n",
    "    yaxis_title='t-SNE Dimension 2',\n",
    "    legend_title=\"Clusters\"\n",
    ")\n",
    "\n",
    "pio.show(fig)"
   ]
  },
  {
   "cell_type": "code",
   "execution_count": 99,
   "metadata": {},
   "outputs": [
    {
     "data": {
      "application/vnd.plotly.v1+json": {
       "config": {
        "plotlyServerURL": "https://plot.ly"
       },
       "data": [
        {
         "mode": "markers",
         "name": "Cluster 1",
         "type": "scatter3d",
         "x": [
          -23.209041595458984,
          -84.26942443847656,
          13.531896591186523,
          -84.26942443847656,
          -9.265307426452637
         ],
         "y": [
          -49.174049377441406,
          -11.514110565185547,
          -58.16630554199219,
          -11.514110565185547,
          -63.126556396484375
         ],
         "z": [
          42.13203048706055,
          29.398889541625977,
          90.11809539794922,
          29.398889541625977,
          75.19978332519531
         ]
        },
        {
         "mode": "markers",
         "name": "Cluster 2",
         "type": "scatter3d",
         "x": [
          -60.45820236206055,
          -60.45820236206055,
          -59.593994140625,
          18.031017303466797,
          -45.7210578918457,
          -45.03476333618164,
          -28.222522735595703,
          -64.0782241821289,
          -41.0510368347168,
          -32.73154067993164,
          -1.738755702972412,
          -11.399465560913086,
          6.435436248779297,
          -22.78511619567871,
          -19.381546020507812,
          0.518130898475647,
          -31.98523712158203,
          -9.422322273254395,
          -9.422322273254395,
          10.255857467651367,
          -9.422322273254395,
          29.6003475189209,
          -64.0782241821289,
          -19.3590030670166,
          -25.301912307739258,
          -9.422322273254395,
          -58.71348571777344,
          -62.57759094238281,
          -44.64379119873047,
          -86.99911499023438,
          -86.99911499023438,
          -86.99911499023438,
          103.46829986572266,
          -10.770421028137207,
          -8.522359848022461,
          -68.74498748779297,
          17.54482078552246,
          -52.831321716308594,
          -52.831321716308594,
          41.742855072021484,
          36.80234146118164,
          -64.59514617919922,
          3.729672431945801
         ],
         "y": [
          152.096923828125,
          152.096923828125,
          43.757320404052734,
          55.7188606262207,
          58.168819427490234,
          62.53970718383789,
          91.92887115478516,
          18.800987243652344,
          26.590839385986328,
          33.42203903198242,
          82.21309661865234,
          29.657381057739258,
          73.38516998291016,
          0.7882561683654785,
          118.43122863769531,
          29.02931022644043,
          64.42655944824219,
          43.74755859375,
          43.74755859375,
          90.23783874511719,
          43.74755859375,
          84.57240295410156,
          18.800987243652344,
          50.34052276611328,
          82.36640167236328,
          43.74755859375,
          78.94404602050781,
          97.13345336914062,
          50.85560989379883,
          44.72562026977539,
          44.72562026977539,
          44.72562026977539,
          -9.070570945739746,
          60.390377044677734,
          78.56243896484375,
          23.705659866333008,
          68.26420593261719,
          29.47660255432129,
          29.47660255432129,
          -73.85332489013672,
          -93.34400939941406,
          -2.8100504875183105,
          99.33096313476562
         ],
         "z": [
          29.350719451904297,
          29.350719451904297,
          -23.340436935424805,
          -29.839218139648438,
          6.446206569671631,
          -53.192405700683594,
          -39.171382904052734,
          90.25032043457031,
          -0.8695476055145264,
          -37.446693420410156,
          -21.987930297851562,
          -73.552734375,
          8.198692321777344,
          -42.920989990234375,
          -6.000156879425049,
          -40.797760009765625,
          -23.776809692382812,
          -8.77250862121582,
          -8.77250862121582,
          -72.09117889404297,
          -8.77250862121582,
          -46.74391555786133,
          90.25032043457031,
          24.901968002319336,
          3.5258326530456543,
          -8.77250862121582,
          -21.32011604309082,
          11.534489631652832,
          52.2098274230957,
          17.866071701049805,
          17.866071701049805,
          17.866071701049805,
          -62.36686706542969,
          -49.233802795410156,
          46.86004638671875,
          -61.45013427734375,
          45.79301452636719,
          -85.04232025146484,
          -85.04232025146484,
          -64.34475708007812,
          16.534303665161133,
          -90.04165649414062,
          65.3571548461914
         ]
        },
        {
         "mode": "markers",
         "name": "Cluster 3",
         "type": "scatter3d",
         "x": [
          -0.7235546112060547,
          76.68872833251953,
          -51.74822235107422,
          45.76615905761719,
          45.70570373535156,
          18.42026138305664,
          -62.01306915283203,
          -22.98052978515625,
          81.5576400756836,
          75.50318145751953,
          70.12325286865234,
          59.86707305908203,
          -19.444381713867188,
          73.97441864013672,
          48.72631072998047,
          64.74544525146484,
          73.97441864013672,
          -108.234130859375,
          90.02775573730469,
          74.03995513916016,
          35.784854888916016,
          55.550148010253906,
          -44.788490295410156,
          69.88140106201172,
          59.23637390136719,
          108.27941131591797,
          3.0625336170196533,
          84.44181823730469,
          49.12954330444336,
          -77.4054183959961,
          84.96613311767578,
          79.34406280517578,
          49.12954330444336,
          60.53202438354492,
          92.7197494506836,
          26.656957626342773,
          69.41129302978516
         ],
         "y": [
          45.21004104614258,
          -5.303258895874023,
          -26.83749771118164,
          78.65762329101562,
          -51.066925048828125,
          2.0728185176849365,
          -57.844818115234375,
          14.708536148071289,
          39.30171585083008,
          -48.627471923828125,
          -80.26371002197266,
          38.15195846557617,
          -118.86061096191406,
          -2.8621227741241455,
          1.8976995944976807,
          -22.525558471679688,
          -2.8621227741241455,
          27.664661407470703,
          6.443516731262207,
          61.81007385253906,
          -17.553163528442383,
          -25.385828018188477,
          -83.67693328857422,
          -82.11969757080078,
          -83.17340087890625,
          42.48191833496094,
          -85.83757781982422,
          68.03995513916016,
          31.924232482910156,
          12.206070899963379,
          29.687599182128906,
          15.957331657409668,
          31.924232482910156,
          1.957506537437439,
          28.836856842041016,
          6.468630313873291,
          27.389997482299805
         ],
         "z": [
          -109.17820739746094,
          17.489803314208984,
          64.52058410644531,
          -3.0125513076782227,
          11.331931114196777,
          6.504209041595459,
          65.89263916015625,
          44.21409606933594,
          -43.70746994018555,
          32.33789825439453,
          41.87515640258789,
          60.83474349975586,
          -21.523845672607422,
          88.97398376464844,
          50.35805130004883,
          60.990234375,
          88.97398376464844,
          -20.781261444091797,
          46.8905143737793,
          -21.433677673339844,
          3.034345865249634,
          33.33793258666992,
          39.68456268310547,
          -9.760394096374512,
          -28.14115333557129,
          -1.6933835744857788,
          -1.2586641311645508,
          16.7462158203125,
          -10.755542755126953,
          64.21699523925781,
          -8.556051254272461,
          -37.924407958984375,
          -10.755542755126953,
          -10.027874946594238,
          28.107046127319336,
          -27.562908172607422,
          25.95685577392578
         ]
        },
        {
         "mode": "markers",
         "name": "Cluster 4",
         "type": "scatter3d",
         "x": [
          77.165771484375,
          -18.283010482788086,
          43.85551834106445,
          124.83290100097656,
          27.914602279663086,
          47.232975006103516,
          59.96199417114258,
          -32.705631256103516,
          5.0775041580200195,
          20.21152687072754,
          109.43708801269531,
          282.2542419433594,
          47.56402587890625,
          90.91365814208984,
          11.504141807556152,
          -0.9626734852790833,
          12.14306926727295
         ],
         "y": [
          -42.76368713378906,
          -49.098304748535156,
          -27.123933792114258,
          -4.565580368041992,
          -100.0112075805664,
          -38.292396545410156,
          -18.749889373779297,
          -35.27375411987305,
          -25.36137580871582,
          -14.766678810119629,
          -54.70712661743164,
          2.3723366260528564,
          6.049328327178955,
          -16.76011848449707,
          -49.29914855957031,
          -79.27960968017578,
          -33.51837921142578
         ],
         "z": [
          -19.053268432617188,
          18.51151466369629,
          -86.23056030273438,
          23.343280792236328,
          59.00140380859375,
          -21.84816551208496,
          -39.124568939208984,
          103.85319519042969,
          -17.339792251586914,
          78.54075622558594,
          -2.556415319442749,
          -29.56145668029785,
          15.932682037353516,
          -13.898809432983398,
          2.4724504947662354,
          34.68490219116211,
          124.71116638183594
         ]
        },
        {
         "mode": "markers",
         "name": "Cluster 5",
         "type": "scatter3d",
         "x": [
          -57.083763122558594,
          -67.0902328491211,
          20.29598045349121,
          -111.22140502929688,
          20.111186981201172,
          59.692787170410156,
          -15.447553634643555,
          -15.447553634643555,
          -17.362329483032227,
          57.5555419921875,
          -39.4547119140625,
          -83.0274429321289,
          62.219085693359375,
          -22.608264923095703,
          20.33799171447754,
          -86.08731079101562,
          46.06388473510742,
          -12.4954833984375,
          73.47657012939453,
          -50.9342041015625,
          19.431245803833008,
          27.107929229736328,
          5.62960958480835,
          -37.74067687988281,
          -10.299846649169922,
          -7.388066291809082,
          14.660967826843262,
          -99.21519470214844,
          -95.50148010253906,
          -30.627187728881836,
          -65.27604675292969,
          -85.27824401855469,
          32.14891052246094,
          30.2486572265625,
          28.629329681396484,
          -79.69416809082031,
          -39.24750900268555,
          -39.24750900268555,
          29.00182342529297,
          -0.7827317714691162,
          -10.178075790405273
         ],
         "y": [
          -5.9583892822265625,
          -50.86467361450195,
          -47.26447677612305,
          -47.544578552246094,
          -25.939491271972656,
          17.741586685180664,
          18.33531379699707,
          18.33531379699707,
          -4.006378173828125,
          81.30626678466797,
          94.70915985107422,
          -20.778636932373047,
          67.83109283447266,
          -13.43543529510498,
          -34.48112106323242,
          -57.83547592163086,
          -54.543067932128906,
          -28.22197151184082,
          -46.90764236450195,
          -37.222103118896484,
          -64.27779388427734,
          43.306907653808594,
          7.466042518615723,
          -31.703271865844727,
          -5.17993688583374,
          -106.95987701416016,
          26.107467651367188,
          1.7356775999069214,
          -19.13628387451172,
          -73.24520111083984,
          -85.2536849975586,
          59.08278274536133,
          25.11102867126465,
          114.53482055664062,
          -0.0247526653110981,
          -50.260860443115234,
          -31.724794387817383,
          -31.724794387817383,
          39.59245681762695,
          69.7374496459961,
          -18.98214340209961
         ],
         "z": [
          -16.23117446899414,
          -17.070051193237305,
          43.29972457885742,
          -24.699464797973633,
          39.6922721862793,
          -86.91876983642578,
          88.09861755371094,
          88.09861755371094,
          2.155632495880127,
          49.254600524902344,
          51.0530891418457,
          -39.71678924560547,
          -66.18077850341797,
          20.360889434814453,
          -48.2033805847168,
          27.055166244506836,
          64.35259246826172,
          -68.53317260742188,
          -63.19825744628906,
          17.375242233276367,
          -28.757299423217773,
          -71.15901184082031,
          40.880531311035156,
          -67.56062316894531,
          -100.69534301757812,
          -46.622318267822266,
          60.446170806884766,
          -48.40523910522461,
          -9.38335132598877,
          -16.465709686279297,
          1.1345535516738892,
          56.614654541015625,
          101.19415283203125,
          15.789426803588867,
          -62.24086380004883,
          -59.91722106933594,
          -13.91936206817627,
          -13.91936206817627,
          24.8017520904541,
          80.18010711669922,
          61.80694580078125
         ]
        },
        {
         "mode": "markers",
         "name": "Cluster 6",
         "type": "scatter3d",
         "x": [
          -36.68688201904297,
          -41.01261901855469,
          -15.219368934631348,
          -53.94309997558594,
          -22.304121017456055,
          12.925905227661133,
          -15.357672691345215,
          -10.975737571716309,
          31.207542419433594,
          100.90510559082031
         ],
         "y": [
          -60.116493225097656,
          -70.41836547851562,
          -48.469966888427734,
          -92.08958435058594,
          -108.55455780029297,
          -59.436946868896484,
          -51.65950393676758,
          -70.18682861328125,
          -118.80520629882812,
          -51.05387496948242
         ],
         "z": [
          -45.91632843017578,
          -73.01658630371094,
          -103.63465881347656,
          -51.6083869934082,
          62.74317169189453,
          -85.8653793334961,
          -35.67395782470703,
          -59.896175384521484,
          -20.670276641845703,
          44.758941650390625
         ]
        }
       ],
       "layout": {
        "scene": {
         "xaxis": {
          "title": {
           "text": "t-SNE Dimension 1"
          }
         },
         "yaxis": {
          "title": {
           "text": "t-SNE Dimension 2"
          }
         },
         "zaxis": {
          "title": {
           "text": "t-SNE Dimension 3"
          }
         }
        },
        "template": {
         "data": {
          "bar": [
           {
            "error_x": {
             "color": "#2a3f5f"
            },
            "error_y": {
             "color": "#2a3f5f"
            },
            "marker": {
             "line": {
              "color": "#E5ECF6",
              "width": 0.5
             },
             "pattern": {
              "fillmode": "overlay",
              "size": 10,
              "solidity": 0.2
             }
            },
            "type": "bar"
           }
          ],
          "barpolar": [
           {
            "marker": {
             "line": {
              "color": "#E5ECF6",
              "width": 0.5
             },
             "pattern": {
              "fillmode": "overlay",
              "size": 10,
              "solidity": 0.2
             }
            },
            "type": "barpolar"
           }
          ],
          "carpet": [
           {
            "aaxis": {
             "endlinecolor": "#2a3f5f",
             "gridcolor": "white",
             "linecolor": "white",
             "minorgridcolor": "white",
             "startlinecolor": "#2a3f5f"
            },
            "baxis": {
             "endlinecolor": "#2a3f5f",
             "gridcolor": "white",
             "linecolor": "white",
             "minorgridcolor": "white",
             "startlinecolor": "#2a3f5f"
            },
            "type": "carpet"
           }
          ],
          "choropleth": [
           {
            "colorbar": {
             "outlinewidth": 0,
             "ticks": ""
            },
            "type": "choropleth"
           }
          ],
          "contour": [
           {
            "colorbar": {
             "outlinewidth": 0,
             "ticks": ""
            },
            "colorscale": [
             [
              0,
              "#0d0887"
             ],
             [
              0.1111111111111111,
              "#46039f"
             ],
             [
              0.2222222222222222,
              "#7201a8"
             ],
             [
              0.3333333333333333,
              "#9c179e"
             ],
             [
              0.4444444444444444,
              "#bd3786"
             ],
             [
              0.5555555555555556,
              "#d8576b"
             ],
             [
              0.6666666666666666,
              "#ed7953"
             ],
             [
              0.7777777777777778,
              "#fb9f3a"
             ],
             [
              0.8888888888888888,
              "#fdca26"
             ],
             [
              1,
              "#f0f921"
             ]
            ],
            "type": "contour"
           }
          ],
          "contourcarpet": [
           {
            "colorbar": {
             "outlinewidth": 0,
             "ticks": ""
            },
            "type": "contourcarpet"
           }
          ],
          "heatmap": [
           {
            "colorbar": {
             "outlinewidth": 0,
             "ticks": ""
            },
            "colorscale": [
             [
              0,
              "#0d0887"
             ],
             [
              0.1111111111111111,
              "#46039f"
             ],
             [
              0.2222222222222222,
              "#7201a8"
             ],
             [
              0.3333333333333333,
              "#9c179e"
             ],
             [
              0.4444444444444444,
              "#bd3786"
             ],
             [
              0.5555555555555556,
              "#d8576b"
             ],
             [
              0.6666666666666666,
              "#ed7953"
             ],
             [
              0.7777777777777778,
              "#fb9f3a"
             ],
             [
              0.8888888888888888,
              "#fdca26"
             ],
             [
              1,
              "#f0f921"
             ]
            ],
            "type": "heatmap"
           }
          ],
          "heatmapgl": [
           {
            "colorbar": {
             "outlinewidth": 0,
             "ticks": ""
            },
            "colorscale": [
             [
              0,
              "#0d0887"
             ],
             [
              0.1111111111111111,
              "#46039f"
             ],
             [
              0.2222222222222222,
              "#7201a8"
             ],
             [
              0.3333333333333333,
              "#9c179e"
             ],
             [
              0.4444444444444444,
              "#bd3786"
             ],
             [
              0.5555555555555556,
              "#d8576b"
             ],
             [
              0.6666666666666666,
              "#ed7953"
             ],
             [
              0.7777777777777778,
              "#fb9f3a"
             ],
             [
              0.8888888888888888,
              "#fdca26"
             ],
             [
              1,
              "#f0f921"
             ]
            ],
            "type": "heatmapgl"
           }
          ],
          "histogram": [
           {
            "marker": {
             "pattern": {
              "fillmode": "overlay",
              "size": 10,
              "solidity": 0.2
             }
            },
            "type": "histogram"
           }
          ],
          "histogram2d": [
           {
            "colorbar": {
             "outlinewidth": 0,
             "ticks": ""
            },
            "colorscale": [
             [
              0,
              "#0d0887"
             ],
             [
              0.1111111111111111,
              "#46039f"
             ],
             [
              0.2222222222222222,
              "#7201a8"
             ],
             [
              0.3333333333333333,
              "#9c179e"
             ],
             [
              0.4444444444444444,
              "#bd3786"
             ],
             [
              0.5555555555555556,
              "#d8576b"
             ],
             [
              0.6666666666666666,
              "#ed7953"
             ],
             [
              0.7777777777777778,
              "#fb9f3a"
             ],
             [
              0.8888888888888888,
              "#fdca26"
             ],
             [
              1,
              "#f0f921"
             ]
            ],
            "type": "histogram2d"
           }
          ],
          "histogram2dcontour": [
           {
            "colorbar": {
             "outlinewidth": 0,
             "ticks": ""
            },
            "colorscale": [
             [
              0,
              "#0d0887"
             ],
             [
              0.1111111111111111,
              "#46039f"
             ],
             [
              0.2222222222222222,
              "#7201a8"
             ],
             [
              0.3333333333333333,
              "#9c179e"
             ],
             [
              0.4444444444444444,
              "#bd3786"
             ],
             [
              0.5555555555555556,
              "#d8576b"
             ],
             [
              0.6666666666666666,
              "#ed7953"
             ],
             [
              0.7777777777777778,
              "#fb9f3a"
             ],
             [
              0.8888888888888888,
              "#fdca26"
             ],
             [
              1,
              "#f0f921"
             ]
            ],
            "type": "histogram2dcontour"
           }
          ],
          "mesh3d": [
           {
            "colorbar": {
             "outlinewidth": 0,
             "ticks": ""
            },
            "type": "mesh3d"
           }
          ],
          "parcoords": [
           {
            "line": {
             "colorbar": {
              "outlinewidth": 0,
              "ticks": ""
             }
            },
            "type": "parcoords"
           }
          ],
          "pie": [
           {
            "automargin": true,
            "type": "pie"
           }
          ],
          "scatter": [
           {
            "fillpattern": {
             "fillmode": "overlay",
             "size": 10,
             "solidity": 0.2
            },
            "type": "scatter"
           }
          ],
          "scatter3d": [
           {
            "line": {
             "colorbar": {
              "outlinewidth": 0,
              "ticks": ""
             }
            },
            "marker": {
             "colorbar": {
              "outlinewidth": 0,
              "ticks": ""
             }
            },
            "type": "scatter3d"
           }
          ],
          "scattercarpet": [
           {
            "marker": {
             "colorbar": {
              "outlinewidth": 0,
              "ticks": ""
             }
            },
            "type": "scattercarpet"
           }
          ],
          "scattergeo": [
           {
            "marker": {
             "colorbar": {
              "outlinewidth": 0,
              "ticks": ""
             }
            },
            "type": "scattergeo"
           }
          ],
          "scattergl": [
           {
            "marker": {
             "colorbar": {
              "outlinewidth": 0,
              "ticks": ""
             }
            },
            "type": "scattergl"
           }
          ],
          "scattermapbox": [
           {
            "marker": {
             "colorbar": {
              "outlinewidth": 0,
              "ticks": ""
             }
            },
            "type": "scattermapbox"
           }
          ],
          "scatterpolar": [
           {
            "marker": {
             "colorbar": {
              "outlinewidth": 0,
              "ticks": ""
             }
            },
            "type": "scatterpolar"
           }
          ],
          "scatterpolargl": [
           {
            "marker": {
             "colorbar": {
              "outlinewidth": 0,
              "ticks": ""
             }
            },
            "type": "scatterpolargl"
           }
          ],
          "scatterternary": [
           {
            "marker": {
             "colorbar": {
              "outlinewidth": 0,
              "ticks": ""
             }
            },
            "type": "scatterternary"
           }
          ],
          "surface": [
           {
            "colorbar": {
             "outlinewidth": 0,
             "ticks": ""
            },
            "colorscale": [
             [
              0,
              "#0d0887"
             ],
             [
              0.1111111111111111,
              "#46039f"
             ],
             [
              0.2222222222222222,
              "#7201a8"
             ],
             [
              0.3333333333333333,
              "#9c179e"
             ],
             [
              0.4444444444444444,
              "#bd3786"
             ],
             [
              0.5555555555555556,
              "#d8576b"
             ],
             [
              0.6666666666666666,
              "#ed7953"
             ],
             [
              0.7777777777777778,
              "#fb9f3a"
             ],
             [
              0.8888888888888888,
              "#fdca26"
             ],
             [
              1,
              "#f0f921"
             ]
            ],
            "type": "surface"
           }
          ],
          "table": [
           {
            "cells": {
             "fill": {
              "color": "#EBF0F8"
             },
             "line": {
              "color": "white"
             }
            },
            "header": {
             "fill": {
              "color": "#C8D4E3"
             },
             "line": {
              "color": "white"
             }
            },
            "type": "table"
           }
          ]
         },
         "layout": {
          "annotationdefaults": {
           "arrowcolor": "#2a3f5f",
           "arrowhead": 0,
           "arrowwidth": 1
          },
          "autotypenumbers": "strict",
          "coloraxis": {
           "colorbar": {
            "outlinewidth": 0,
            "ticks": ""
           }
          },
          "colorscale": {
           "diverging": [
            [
             0,
             "#8e0152"
            ],
            [
             0.1,
             "#c51b7d"
            ],
            [
             0.2,
             "#de77ae"
            ],
            [
             0.3,
             "#f1b6da"
            ],
            [
             0.4,
             "#fde0ef"
            ],
            [
             0.5,
             "#f7f7f7"
            ],
            [
             0.6,
             "#e6f5d0"
            ],
            [
             0.7,
             "#b8e186"
            ],
            [
             0.8,
             "#7fbc41"
            ],
            [
             0.9,
             "#4d9221"
            ],
            [
             1,
             "#276419"
            ]
           ],
           "sequential": [
            [
             0,
             "#0d0887"
            ],
            [
             0.1111111111111111,
             "#46039f"
            ],
            [
             0.2222222222222222,
             "#7201a8"
            ],
            [
             0.3333333333333333,
             "#9c179e"
            ],
            [
             0.4444444444444444,
             "#bd3786"
            ],
            [
             0.5555555555555556,
             "#d8576b"
            ],
            [
             0.6666666666666666,
             "#ed7953"
            ],
            [
             0.7777777777777778,
             "#fb9f3a"
            ],
            [
             0.8888888888888888,
             "#fdca26"
            ],
            [
             1,
             "#f0f921"
            ]
           ],
           "sequentialminus": [
            [
             0,
             "#0d0887"
            ],
            [
             0.1111111111111111,
             "#46039f"
            ],
            [
             0.2222222222222222,
             "#7201a8"
            ],
            [
             0.3333333333333333,
             "#9c179e"
            ],
            [
             0.4444444444444444,
             "#bd3786"
            ],
            [
             0.5555555555555556,
             "#d8576b"
            ],
            [
             0.6666666666666666,
             "#ed7953"
            ],
            [
             0.7777777777777778,
             "#fb9f3a"
            ],
            [
             0.8888888888888888,
             "#fdca26"
            ],
            [
             1,
             "#f0f921"
            ]
           ]
          },
          "colorway": [
           "#636efa",
           "#EF553B",
           "#00cc96",
           "#ab63fa",
           "#FFA15A",
           "#19d3f3",
           "#FF6692",
           "#B6E880",
           "#FF97FF",
           "#FECB52"
          ],
          "font": {
           "color": "#2a3f5f"
          },
          "geo": {
           "bgcolor": "white",
           "lakecolor": "white",
           "landcolor": "#E5ECF6",
           "showlakes": true,
           "showland": true,
           "subunitcolor": "white"
          },
          "hoverlabel": {
           "align": "left"
          },
          "hovermode": "closest",
          "mapbox": {
           "style": "light"
          },
          "paper_bgcolor": "white",
          "plot_bgcolor": "#E5ECF6",
          "polar": {
           "angularaxis": {
            "gridcolor": "white",
            "linecolor": "white",
            "ticks": ""
           },
           "bgcolor": "#E5ECF6",
           "radialaxis": {
            "gridcolor": "white",
            "linecolor": "white",
            "ticks": ""
           }
          },
          "scene": {
           "xaxis": {
            "backgroundcolor": "#E5ECF6",
            "gridcolor": "white",
            "gridwidth": 2,
            "linecolor": "white",
            "showbackground": true,
            "ticks": "",
            "zerolinecolor": "white"
           },
           "yaxis": {
            "backgroundcolor": "#E5ECF6",
            "gridcolor": "white",
            "gridwidth": 2,
            "linecolor": "white",
            "showbackground": true,
            "ticks": "",
            "zerolinecolor": "white"
           },
           "zaxis": {
            "backgroundcolor": "#E5ECF6",
            "gridcolor": "white",
            "gridwidth": 2,
            "linecolor": "white",
            "showbackground": true,
            "ticks": "",
            "zerolinecolor": "white"
           }
          },
          "shapedefaults": {
           "line": {
            "color": "#2a3f5f"
           }
          },
          "ternary": {
           "aaxis": {
            "gridcolor": "white",
            "linecolor": "white",
            "ticks": ""
           },
           "baxis": {
            "gridcolor": "white",
            "linecolor": "white",
            "ticks": ""
           },
           "bgcolor": "#E5ECF6",
           "caxis": {
            "gridcolor": "white",
            "linecolor": "white",
            "ticks": ""
           }
          },
          "title": {
           "x": 0.05
          },
          "xaxis": {
           "automargin": true,
           "gridcolor": "white",
           "linecolor": "white",
           "ticks": "",
           "title": {
            "standoff": 15
           },
           "zerolinecolor": "white",
           "zerolinewidth": 2
          },
          "yaxis": {
           "automargin": true,
           "gridcolor": "white",
           "linecolor": "white",
           "ticks": "",
           "title": {
            "standoff": 15
           },
           "zerolinecolor": "white",
           "zerolinewidth": 2
          }
         }
        },
        "title": {
         "text": "3D Sentence Clusters(NLTK)"
        }
       }
      }
     },
     "metadata": {},
     "output_type": "display_data"
    }
   ],
   "source": [
    "# Perform t-SNE dimensionality reduction for 3D visualization\n",
    "perplexity_value = min(30, len(sentence_vectors_nltk) - 1)\n",
    "tsne_3d = TSNE(n_components=3,perplexity=perplexity_value, random_state=0)\n",
    "reduced_vectors_3d = tsne_3d.fit_transform(sentence_vectors_nltk)\n",
    "\n",
    "fig = go.Figure()\n",
    "\n",
    "for i in range(num_clusters):\n",
    "    indices = labels_nltk == i\n",
    "    fig.add_trace(go.Scatter3d(\n",
    "        x=reduced_vectors_3d[indices, 0],\n",
    "        y=reduced_vectors_3d[indices, 1],\n",
    "        z=reduced_vectors_3d[indices, 2],\n",
    "        mode='markers',\n",
    "        name=f'Cluster {i+1}'\n",
    "    ))\n",
    "\n",
    "fig.update_layout(title='3D Sentence Clusters(NLTK)',\n",
    "                    scene=dict(xaxis_title='t-SNE Dimension 1',\n",
    "                                 yaxis_title='t-SNE Dimension 2',\n",
    "                                 zaxis_title='t-SNE Dimension 3'))\n",
    "fig.show()\n"
   ]
  },
  {
   "cell_type": "code",
   "execution_count": 100,
   "metadata": {},
   "outputs": [
    {
     "name": "stdout",
     "output_type": "stream",
     "text": [
      "                                              Sentence  Cluster\n",
      "0                                   [heating, element]        0\n",
      "1                                                   []        1\n",
      "2                                                   []        1\n",
      "3                                      [writing, days]        4\n",
      "4                                                   []        1\n",
      "..                                                 ...      ...\n",
      "148                           [crevices, areas, stuff]        0\n",
      "149  [paper, cup, cup, coffee, work, colleagues, pl...        4\n",
      "150                                     [leak, issues]        0\n",
      "151                                             [lids]        3\n",
      "152                                          [husband]        4\n",
      "\n",
      "[153 rows x 2 columns]\n"
     ]
    }
   ],
   "source": [
    "# Create DataFrame\n",
    "df_spacy = pd.DataFrame({\n",
    "    'Sentence': doc,\n",
    "    'Cluster': labels_spacy\n",
    "})\n",
    "\n",
    "# Show the DataFrame\n",
    "print(df_spacy)"
   ]
  },
  {
   "cell_type": "code",
   "execution_count": 101,
   "metadata": {},
   "outputs": [
    {
     "name": "stdout",
     "output_type": "stream",
     "text": [
      "                                              Sentence  Cluster\n",
      "0                                            [element]        5\n",
      "1                                                   []        1\n",
      "2                                                   []        1\n",
      "3                                      [writing, days]        2\n",
      "4                                                   []        1\n",
      "..                                                 ...      ...\n",
      "148                    [crevices, weird, areas, stuff]        5\n",
      "149  [paper, cup, cup, coffee, work, godless, colle...        5\n",
      "150                                           [issues]        5\n",
      "151                                             [lids]        4\n",
      "152                                          [husband]        2\n",
      "\n",
      "[153 rows x 2 columns]\n"
     ]
    }
   ],
   "source": [
    "# Create DataFrame\n",
    "df_textblob = pd.DataFrame({\n",
    "    'Sentence': sentences_testblob,\n",
    "    'Cluster': labels_textblob\n",
    "})\n",
    "\n",
    "# Show the DataFrame\n",
    "print(df_textblob)"
   ]
  },
  {
   "cell_type": "code",
   "execution_count": 102,
   "metadata": {},
   "outputs": [
    {
     "name": "stdout",
     "output_type": "stream",
     "text": [
      "                                              Sentence  Cluster\n",
      "0                                            [element]        4\n",
      "1                                                   []        1\n",
      "2                                                   []        1\n",
      "3                                      [writing, days]        3\n",
      "4                                                   []        1\n",
      "..                                                 ...      ...\n",
      "148                    [crevices, weird, areas, stuff]        2\n",
      "149  [paper, cup, cup, coffee, work, godless, colle...        2\n",
      "150                                           [issues]        5\n",
      "151                                             [lids]        1\n",
      "152                                          [husband]        3\n",
      "\n",
      "[153 rows x 2 columns]\n"
     ]
    }
   ],
   "source": [
    "# Create DataFrame\n",
    "df_nltk = pd.DataFrame({\n",
    "    'Sentence': sentences_nltk,\n",
    "    'Cluster': labels_nltk\n",
    "})\n",
    "\n",
    "# Show the DataFrame\n",
    "print(df_nltk)"
   ]
  },
  {
   "cell_type": "code",
   "execution_count": null,
   "metadata": {},
   "outputs": [],
   "source": []
  }
 ],
 "metadata": {
  "kernelspec": {
   "display_name": "Python 3",
   "language": "python",
   "name": "python3"
  },
  "language_info": {
   "codemirror_mode": {
    "name": "ipython",
    "version": 3
   },
   "file_extension": ".py",
   "mimetype": "text/x-python",
   "name": "python",
   "nbconvert_exporter": "python",
   "pygments_lexer": "ipython3",
   "version": "3.11.5"
  }
 },
 "nbformat": 4,
 "nbformat_minor": 2
}
