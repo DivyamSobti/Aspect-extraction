{
 "cells": [
  {
   "cell_type": "code",
   "execution_count": 1,
   "metadata": {},
   "outputs": [],
   "source": [
    "import pandas as pd\n",
    "import numpy as np"
   ]
  },
  {
   "cell_type": "code",
   "execution_count": 2,
   "metadata": {},
   "outputs": [],
   "source": [
    "import re"
   ]
  },
  {
   "cell_type": "code",
   "execution_count": 3,
   "metadata": {},
   "outputs": [],
   "source": [
    "import nltk"
   ]
  },
  {
   "cell_type": "code",
   "execution_count": 4,
   "metadata": {},
   "outputs": [
    {
     "name": "stderr",
     "output_type": "stream",
     "text": [
      "[nltk_data] Error loading punkt: <urlopen error [SSL:\n",
      "[nltk_data]     CERTIFICATE_VERIFY_FAILED] certificate verify failed:\n",
      "[nltk_data]     unable to get local issuer certificate (_ssl.c:1006)>\n",
      "[nltk_data] Error loading stopwords: <urlopen error [SSL:\n",
      "[nltk_data]     CERTIFICATE_VERIFY_FAILED] certificate verify failed:\n",
      "[nltk_data]     unable to get local issuer certificate (_ssl.c:1006)>\n",
      "[nltk_data] Error loading wordnet: <urlopen error [SSL:\n",
      "[nltk_data]     CERTIFICATE_VERIFY_FAILED] certificate verify failed:\n",
      "[nltk_data]     unable to get local issuer certificate (_ssl.c:1006)>\n"
     ]
    },
    {
     "data": {
      "text/plain": [
       "False"
      ]
     },
     "execution_count": 4,
     "metadata": {},
     "output_type": "execute_result"
    }
   ],
   "source": [
    "# Download NLTK data\n",
    "nltk.download('punkt')\n",
    "nltk.download('stopwords')\n",
    "nltk.download('wordnet')\n"
   ]
  },
  {
   "cell_type": "code",
   "execution_count": 5,
   "metadata": {},
   "outputs": [],
   "source": [
    "from nltk.corpus import stopwords\n",
    "from nltk.stem import PorterStemmer\n",
    "from nltk.tokenize import word_tokenize\n",
    "from nltk.stem import WordNetLemmatizer"
   ]
  },
  {
   "cell_type": "code",
   "execution_count": 6,
   "metadata": {},
   "outputs": [],
   "source": [
    "def preprocess_text(text):\n",
    "    # Remove HTML tags (if any)\n",
    "    text = re.sub(r\"<.*?>\", \"\", text)\n",
    "    \n",
    "    # Tokenize the text into words\n",
    "    tokens = nltk.word_tokenize(text)\n",
    "    \n",
    "    # Convert to lowercase\n",
    "    tokens = [token.lower() for token in tokens]\n",
    "    \n",
    "    # Remove punctuation\n",
    "    tokens = [token for token in tokens if token.isalpha()]\n",
    "    \n",
    "    # Remove stopwords\n",
    "    stop_words = set(stopwords.words(\"english\"))\n",
    "    filtered_tokens = [token for token in tokens if token.lower() not in stop_words]\n",
    "    # print(filtered_tokens)\n",
    "    # # Lemmatization\n",
    "    # lemmatizer = WordNetLemmatizer()\n",
    "    # lemmatized_tokens = [lemmatizer.lemmatize(token) for token in filtered_tokens]\n",
    "\n",
    "    # # Join the tokens back into a single string\n",
    "    # processed_text = \" \".join(filtered_tokens)\n",
    "\n",
    "    \n",
    "    return filtered_tokens"
   ]
  },
  {
   "cell_type": "code",
   "execution_count": 7,
   "metadata": {},
   "outputs": [],
   "source": [
    "amazon=pd.read_csv(\"Eco_Friendly_Products_Test_Full.xlsx - Sheet1.csv\")"
   ]
  },
  {
   "cell_type": "code",
   "execution_count": 8,
   "metadata": {},
   "outputs": [
    {
     "data": {
      "text/html": [
       "<div>\n",
       "<style scoped>\n",
       "    .dataframe tbody tr th:only-of-type {\n",
       "        vertical-align: middle;\n",
       "    }\n",
       "\n",
       "    .dataframe tbody tr th {\n",
       "        vertical-align: top;\n",
       "    }\n",
       "\n",
       "    .dataframe thead th {\n",
       "        text-align: right;\n",
       "    }\n",
       "</style>\n",
       "<table border=\"1\" class=\"dataframe\">\n",
       "  <thead>\n",
       "    <tr style=\"text-align: right;\">\n",
       "      <th></th>\n",
       "      <th>Review</th>\n",
       "      <th>Aspect</th>\n",
       "    </tr>\n",
       "  </thead>\n",
       "  <tbody>\n",
       "    <tr>\n",
       "      <th>0</th>\n",
       "      <td>It dries my hair without all the frizz</td>\n",
       "      <td>Interference</td>\n",
       "    </tr>\n",
       "    <tr>\n",
       "      <th>1</th>\n",
       "      <td>So glad I did! It dries my hair in half the time</td>\n",
       "      <td>Efficiency</td>\n",
       "    </tr>\n",
       "    <tr>\n",
       "      <th>2</th>\n",
       "      <td>Also, the diffuser does not stay on at all.</td>\n",
       "      <td>Ease of Use, Interference</td>\n",
       "    </tr>\n",
       "    <tr>\n",
       "      <th>3</th>\n",
       "      <td>Best dryer I EVER BOUGHT!!!</td>\n",
       "      <td>Performance</td>\n",
       "    </tr>\n",
       "    <tr>\n",
       "      <th>4</th>\n",
       "      <td>It dries my medium length hair quickly, and I ...</td>\n",
       "      <td>Efficiency</td>\n",
       "    </tr>\n",
       "    <tr>\n",
       "      <th>...</th>\n",
       "      <td>...</td>\n",
       "      <td>...</td>\n",
       "    </tr>\n",
       "    <tr>\n",
       "      <th>1022</th>\n",
       "      <td>it's ugly</td>\n",
       "      <td>Aesthetics</td>\n",
       "    </tr>\n",
       "    <tr>\n",
       "      <th>1023</th>\n",
       "      <td>It works really good but when you have automat...</td>\n",
       "      <td>Performance</td>\n",
       "    </tr>\n",
       "    <tr>\n",
       "      <th>1024</th>\n",
       "      <td>High quality fans work well.</td>\n",
       "      <td>Performance</td>\n",
       "    </tr>\n",
       "    <tr>\n",
       "      <th>1025</th>\n",
       "      <td>Also too wide of a gap when installed</td>\n",
       "      <td>Aesthetics</td>\n",
       "    </tr>\n",
       "    <tr>\n",
       "      <th>1026</th>\n",
       "      <td>Did not fit car window as advertised</td>\n",
       "      <td>Adaptability</td>\n",
       "    </tr>\n",
       "  </tbody>\n",
       "</table>\n",
       "<p>1027 rows × 2 columns</p>\n",
       "</div>"
      ],
      "text/plain": [
       "                                                 Review  \\\n",
       "0                It dries my hair without all the frizz   \n",
       "1      So glad I did! It dries my hair in half the time   \n",
       "2           Also, the diffuser does not stay on at all.   \n",
       "3                           Best dryer I EVER BOUGHT!!!   \n",
       "4     It dries my medium length hair quickly, and I ...   \n",
       "...                                                 ...   \n",
       "1022                                          it's ugly   \n",
       "1023  It works really good but when you have automat...   \n",
       "1024                       High quality fans work well.   \n",
       "1025              Also too wide of a gap when installed   \n",
       "1026               Did not fit car window as advertised   \n",
       "\n",
       "                         Aspect  \n",
       "0                  Interference  \n",
       "1                    Efficiency  \n",
       "2     Ease of Use, Interference  \n",
       "3                   Performance  \n",
       "4                    Efficiency  \n",
       "...                         ...  \n",
       "1022                 Aesthetics  \n",
       "1023                Performance  \n",
       "1024                Performance  \n",
       "1025                 Aesthetics  \n",
       "1026               Adaptability  \n",
       "\n",
       "[1027 rows x 2 columns]"
      ]
     },
     "execution_count": 8,
     "metadata": {},
     "output_type": "execute_result"
    }
   ],
   "source": [
    "amazon"
   ]
  },
  {
   "cell_type": "code",
   "execution_count": 9,
   "metadata": {},
   "outputs": [],
   "source": [
    "a=amazon[\"Review\"]"
   ]
  },
  {
   "cell_type": "code",
   "execution_count": 10,
   "metadata": {},
   "outputs": [],
   "source": [
    "q=amazon[\"Aspect\"]"
   ]
  },
  {
   "cell_type": "code",
   "execution_count": 11,
   "metadata": {},
   "outputs": [],
   "source": [
    "all_values = q.str.split(',').explode()"
   ]
  },
  {
   "cell_type": "code",
   "execution_count": 12,
   "metadata": {},
   "outputs": [],
   "source": [
    "unique_values = all_values.unique()"
   ]
  },
  {
   "cell_type": "code",
   "execution_count": 13,
   "metadata": {},
   "outputs": [],
   "source": [
    "len_aspect=len(unique_values)"
   ]
  },
  {
   "cell_type": "code",
   "execution_count": 15,
   "metadata": {},
   "outputs": [
    {
     "data": {
      "text/plain": [
       "25"
      ]
     },
     "execution_count": 15,
     "metadata": {},
     "output_type": "execute_result"
    }
   ],
   "source": [
    "len_aspect"
   ]
  },
  {
   "cell_type": "code",
   "execution_count": 14,
   "metadata": {},
   "outputs": [],
   "source": [
    "processed_series = a.apply(preprocess_text)"
   ]
  },
  {
   "cell_type": "code",
   "execution_count": 42,
   "metadata": {},
   "outputs": [
    {
     "data": {
      "text/plain": [
       "0                           [dries, hair, without, frizz]\n",
       "1                         [glad, dries, hair, half, time]\n",
       "2                                  [also, diffuser, stay]\n",
       "3                             [best, dryer, ever, bought]\n",
       "4       [dries, medium, length, hair, quickly, love, l...\n",
       "                              ...                        \n",
       "1022                                               [ugly]\n",
       "1023    [works, really, good, automatic, windows, come...\n",
       "1024                    [high, quality, fans, work, well]\n",
       "1025                         [also, wide, gap, installed]\n",
       "1026                       [fit, car, window, advertised]\n",
       "Name: Review, Length: 1027, dtype: object"
      ]
     },
     "execution_count": 42,
     "metadata": {},
     "output_type": "execute_result"
    }
   ],
   "source": [
    "processed_series"
   ]
  },
  {
   "cell_type": "code",
   "execution_count": 43,
   "metadata": {},
   "outputs": [],
   "source": [
    "from gensim.models import Word2Vec"
   ]
  },
  {
   "cell_type": "code",
   "execution_count": 44,
   "metadata": {},
   "outputs": [],
   "source": [
    "# Train Word2Vec model\n",
    "model = Word2Vec(processed_series, vector_size=100, window=5, min_count=1)\n",
    "\n",
    "# Get word embeddings\n",
    "word_embeddings = model.wv"
   ]
  },
  {
   "cell_type": "code",
   "execution_count": 45,
   "metadata": {},
   "outputs": [
    {
     "data": {
      "text/plain": [
       "['great',\n",
       " 'easy',\n",
       " 'use',\n",
       " 'well',\n",
       " 'like',\n",
       " 'good',\n",
       " 'one',\n",
       " 'really',\n",
       " 'water',\n",
       " 'durable',\n",
       " 'product',\n",
       " 'time',\n",
       " 'quality',\n",
       " 'work',\n",
       " 'clean',\n",
       " 'price',\n",
       " 'would',\n",
       " 'get',\n",
       " 'also',\n",
       " 'comfortable',\n",
       " 'love',\n",
       " 'nice',\n",
       " 'easily',\n",
       " 'bags',\n",
       " 'wash',\n",
       " 'fit',\n",
       " 'little',\n",
       " 'enough',\n",
       " 'works',\n",
       " 'long',\n",
       " 'paper',\n",
       " 'made',\n",
       " 'sturdy',\n",
       " 'keep',\n",
       " 'still',\n",
       " 'hold',\n",
       " 'strong',\n",
       " 'even',\n",
       " 'used',\n",
       " 'hot',\n",
       " 'way',\n",
       " 'bottle',\n",
       " 'cold',\n",
       " 'much',\n",
       " 'heavy',\n",
       " 'light',\n",
       " 'makes',\n",
       " 'color',\n",
       " 'plastic',\n",
       " 'iron',\n",
       " 'quickly',\n",
       " 'handle',\n",
       " 'colors',\n",
       " 'looks',\n",
       " 'fast',\n",
       " 'recycled',\n",
       " 'using',\n",
       " 'find',\n",
       " 'need',\n",
       " 'bag',\n",
       " 'put',\n",
       " 'carry',\n",
       " 'stars',\n",
       " 'first',\n",
       " 'shower',\n",
       " 'ever',\n",
       " 'soft',\n",
       " 'keeps',\n",
       " 'months',\n",
       " 'excellent',\n",
       " 'hand',\n",
       " 'strap',\n",
       " 'feel',\n",
       " 'pretty',\n",
       " 'far',\n",
       " 'never',\n",
       " 'tea',\n",
       " 'super',\n",
       " 'since',\n",
       " 'cup',\n",
       " 'perfectly',\n",
       " 'beautiful',\n",
       " 'day',\n",
       " 'lot',\n",
       " 'thing',\n",
       " 'seems',\n",
       " 'bought',\n",
       " 'difficult',\n",
       " 'set',\n",
       " 'small',\n",
       " 'every',\n",
       " 'without',\n",
       " 'two',\n",
       " 'less',\n",
       " 'fits',\n",
       " 'however',\n",
       " 'definitely',\n",
       " 'smell',\n",
       " 'dry',\n",
       " 'go',\n",
       " 'car',\n",
       " 'especially',\n",
       " 'getting',\n",
       " 'coffee',\n",
       " 'perfect',\n",
       " 'napkins',\n",
       " 'right',\n",
       " 'looking',\n",
       " 'hard',\n",
       " 'bit',\n",
       " 'temperature',\n",
       " 'fabric',\n",
       " 'absorbent',\n",
       " 'broke',\n",
       " 'thin',\n",
       " 'left',\n",
       " 'store',\n",
       " 'high',\n",
       " 'feels',\n",
       " 'best',\n",
       " 'new',\n",
       " 'low',\n",
       " 'size',\n",
       " 'years',\n",
       " 'keyboard',\n",
       " 'working',\n",
       " 'last',\n",
       " 'watch',\n",
       " 'side',\n",
       " 'wish',\n",
       " 'hair',\n",
       " 'needs',\n",
       " 'save',\n",
       " 'yet',\n",
       " 'battery',\n",
       " 'job',\n",
       " 'recommend',\n",
       " 'notebook',\n",
       " 'top',\n",
       " 'stay',\n",
       " 'place',\n",
       " 'laptop',\n",
       " 'quite',\n",
       " 'better',\n",
       " 'full',\n",
       " 'washing',\n",
       " 'wonderful',\n",
       " 'machine',\n",
       " 'money',\n",
       " 'power',\n",
       " 'taste',\n",
       " 'ca',\n",
       " 'say',\n",
       " 'solar',\n",
       " 'towel',\n",
       " 'charge',\n",
       " 'amount',\n",
       " 'big',\n",
       " 'bottom',\n",
       " 'pens',\n",
       " 'items',\n",
       " 'plus',\n",
       " 'awesome',\n",
       " 'weight',\n",
       " 'actually',\n",
       " 'come',\n",
       " 'happy',\n",
       " 'material',\n",
       " 'done',\n",
       " 'worked',\n",
       " 'batteries',\n",
       " 'take',\n",
       " 'fine',\n",
       " 'apart',\n",
       " 'fill',\n",
       " 'dishwasher',\n",
       " 'ones',\n",
       " 'dryer',\n",
       " 'install',\n",
       " 'amazing',\n",
       " 'got',\n",
       " 'hours',\n",
       " 'stays',\n",
       " 'cool',\n",
       " 'leaks',\n",
       " 'different',\n",
       " 'often',\n",
       " 'flow',\n",
       " 'settings',\n",
       " 'already',\n",
       " 'purchased',\n",
       " 'bright',\n",
       " 'cheap',\n",
       " 'break',\n",
       " 'washed',\n",
       " 'gets',\n",
       " 'want',\n",
       " 'charged',\n",
       " 'buy',\n",
       " 'simple',\n",
       " 'worth',\n",
       " 'environment',\n",
       " 'value',\n",
       " 'bottles',\n",
       " 'times',\n",
       " 'look',\n",
       " 'many',\n",
       " 'seen',\n",
       " 'reason',\n",
       " 'leak',\n",
       " 'microwave',\n",
       " 'priced',\n",
       " 'together',\n",
       " 'issue',\n",
       " 'fairly',\n",
       " 'noise',\n",
       " 'back',\n",
       " 'make',\n",
       " 'takes',\n",
       " 'cut',\n",
       " 'write',\n",
       " 'around',\n",
       " 'pads',\n",
       " 'safe',\n",
       " 'straps',\n",
       " 'difference',\n",
       " 'wide',\n",
       " 'seem',\n",
       " 'texture',\n",
       " 'button',\n",
       " 'pockets',\n",
       " 'reusable',\n",
       " 'year',\n",
       " 'towels',\n",
       " 'pouches',\n",
       " 'head',\n",
       " 'tears',\n",
       " 'fan',\n",
       " 'ink',\n",
       " 'fold',\n",
       " 'mug',\n",
       " 'something',\n",
       " 'room',\n",
       " 'extremely',\n",
       " 'going',\n",
       " 'type',\n",
       " 'switch',\n",
       " 'quiet',\n",
       " 'clock',\n",
       " 'buying',\n",
       " 'cups',\n",
       " 'pen',\n",
       " 'things',\n",
       " 'office',\n",
       " 'see',\n",
       " 'smooth',\n",
       " 'cleaning',\n",
       " 'lighting',\n",
       " 'flimsy',\n",
       " 'said',\n",
       " 'fall',\n",
       " 'several',\n",
       " 'wood',\n",
       " 'amazon',\n",
       " 'overall',\n",
       " 'purchase',\n",
       " 'package',\n",
       " 'couple',\n",
       " 'sponges',\n",
       " 'window',\n",
       " 'throw',\n",
       " 'could',\n",
       " 'sheets',\n",
       " 'least',\n",
       " 'regular',\n",
       " 'zipper',\n",
       " 'item',\n",
       " 'found',\n",
       " 'cute',\n",
       " 'wear',\n",
       " 'dries',\n",
       " 'lights',\n",
       " 'guitar',\n",
       " 'food',\n",
       " 'deal',\n",
       " 'shape',\n",
       " 'trip',\n",
       " 'outside',\n",
       " 'cost',\n",
       " 'slides',\n",
       " 'everyday',\n",
       " 'nicely',\n",
       " 'fun',\n",
       " 'three',\n",
       " 'realize',\n",
       " 'mine',\n",
       " 'highly',\n",
       " 'holds',\n",
       " 'though',\n",
       " 'gave',\n",
       " 'drink',\n",
       " 'expensive',\n",
       " 'groceries',\n",
       " 'kids',\n",
       " 'rack',\n",
       " 'house',\n",
       " 'arrived',\n",
       " 'products',\n",
       " 'plenty',\n",
       " 'inside',\n",
       " 'care',\n",
       " 'rinse',\n",
       " 'rug',\n",
       " 'exactly',\n",
       " 'keurig',\n",
       " 'washes',\n",
       " 'pods',\n",
       " 'part',\n",
       " 'rubber',\n",
       " 'pleased',\n",
       " 'rather',\n",
       " 'problems',\n",
       " 'although',\n",
       " 'surface',\n",
       " 'real',\n",
       " 'lid',\n",
       " 'took',\n",
       " 'instead',\n",
       " 'leaves',\n",
       " 'piece',\n",
       " 'thick',\n",
       " 'might',\n",
       " 'either',\n",
       " 'timer',\n",
       " 'phone',\n",
       " 'bucks',\n",
       " 'pressure',\n",
       " 'wo',\n",
       " 'sure',\n",
       " 'keeping',\n",
       " 'able',\n",
       " 'days',\n",
       " 'large',\n",
       " 'stuck',\n",
       " 'making',\n",
       " 'disappointed',\n",
       " 'normal',\n",
       " 'keys',\n",
       " 'level',\n",
       " 'taking',\n",
       " 'air',\n",
       " 'know',\n",
       " 'installation',\n",
       " 'huge',\n",
       " 'brand',\n",
       " 'hook',\n",
       " 'complaint',\n",
       " 'idea',\n",
       " 'stuff',\n",
       " 'blue',\n",
       " 'everything',\n",
       " 'writing',\n",
       " 'adjust',\n",
       " 'desk',\n",
       " 'comes',\n",
       " 'cloth',\n",
       " 'problem',\n",
       " 'sides',\n",
       " 'almost',\n",
       " 'glad',\n",
       " 'slightly',\n",
       " 'received',\n",
       " 'thought',\n",
       " 'fantastic',\n",
       " 'compared',\n",
       " 'metal',\n",
       " 'week',\n",
       " 'important',\n",
       " 'end',\n",
       " 'steel',\n",
       " 'smaller',\n",
       " 'interior',\n",
       " 'holder',\n",
       " 'sized',\n",
       " 'hole',\n",
       " 'ice',\n",
       " 'life',\n",
       " 'setting',\n",
       " 'straws',\n",
       " 'sometimes',\n",
       " 'hose',\n",
       " 'means',\n",
       " 'unit',\n",
       " 'drop',\n",
       " 'travel',\n",
       " 'larger',\n",
       " 'always',\n",
       " 'uses',\n",
       " 'wife',\n",
       " 'saving',\n",
       " 'position',\n",
       " 'add',\n",
       " 'poor',\n",
       " 'secure',\n",
       " 'tub',\n",
       " 'sold',\n",
       " 'summer',\n",
       " 'effort',\n",
       " 'wait',\n",
       " 'instructions',\n",
       " 'features',\n",
       " 'brush',\n",
       " 'sits',\n",
       " 'owned',\n",
       " 'design',\n",
       " 'sort',\n",
       " 'month',\n",
       " 'solid',\n",
       " 'provide',\n",
       " 'minutes',\n",
       " 'wall',\n",
       " 'lids',\n",
       " 'think',\n",
       " 'efficient',\n",
       " 'help',\n",
       " 'steam',\n",
       " 'faster',\n",
       " 'yellow',\n",
       " 'dried',\n",
       " 'ease',\n",
       " 'started',\n",
       " 'charger',\n",
       " 'annoying',\n",
       " 'rolled',\n",
       " 'sleeves',\n",
       " 'leave',\n",
       " 'washable',\n",
       " 'floor',\n",
       " 'second',\n",
       " 'open',\n",
       " 'people',\n",
       " 'paid',\n",
       " 'comments',\n",
       " 'believe',\n",
       " 'true',\n",
       " 'thinner',\n",
       " 'person',\n",
       " 'compartments',\n",
       " 'friends',\n",
       " 'surprisingly',\n",
       " 'came',\n",
       " 'cotton',\n",
       " 'looked',\n",
       " 'easier',\n",
       " 'multiple',\n",
       " 'loose',\n",
       " 'belt',\n",
       " 'neck',\n",
       " 'otherwise',\n",
       " 'order',\n",
       " 'square',\n",
       " 'husband',\n",
       " 'road',\n",
       " 'utensils',\n",
       " 'per',\n",
       " 'held',\n",
       " 'beat',\n",
       " 'six',\n",
       " 'versatile',\n",
       " 'weeks',\n",
       " 'stove',\n",
       " 'outdoors',\n",
       " 'twice',\n",
       " 'dye',\n",
       " 'satisfied',\n",
       " 'extra',\n",
       " 'longer',\n",
       " 'bulb',\n",
       " 'bulbs',\n",
       " 'pad',\n",
       " 'washer',\n",
       " 'bamboo',\n",
       " 'quick',\n",
       " 'sun',\n",
       " 'unfortunately',\n",
       " 'purpose',\n",
       " 'number',\n",
       " 'green',\n",
       " 'stainless',\n",
       " 'trash',\n",
       " 'away',\n",
       " 'next',\n",
       " 'world',\n",
       " 'heat',\n",
       " 'erase',\n",
       " 'length',\n",
       " 'reasonable',\n",
       " 'remove',\n",
       " 'fully',\n",
       " 'stop',\n",
       " 'note',\n",
       " 'pages',\n",
       " 'attractive',\n",
       " 'performance',\n",
       " 'careful',\n",
       " 'rough',\n",
       " 'weird',\n",
       " 'later',\n",
       " 'half',\n",
       " 'except',\n",
       " 'anything',\n",
       " 'give',\n",
       " 'filter',\n",
       " 'reasons',\n",
       " 'kitchen',\n",
       " 'effective',\n",
       " 'seeds',\n",
       " 'sent',\n",
       " 'resistant',\n",
       " 'stopped',\n",
       " 'home',\n",
       " 'line',\n",
       " 'completely',\n",
       " 'rip',\n",
       " 'mat',\n",
       " 'nothing',\n",
       " 'stiff',\n",
       " 'ended',\n",
       " 'constructed',\n",
       " 'board',\n",
       " 'cooktop',\n",
       " 'needed',\n",
       " 'duty',\n",
       " 'wipe',\n",
       " 'fragile',\n",
       " 'handles',\n",
       " 'within',\n",
       " 'pan',\n",
       " 'family',\n",
       " 'benefit',\n",
       " 'washings',\n",
       " 'trying',\n",
       " 'tape',\n",
       " 'issues',\n",
       " 'built',\n",
       " 'perhaps',\n",
       " 'colorful',\n",
       " 'tear',\n",
       " 'gives',\n",
       " 'organic',\n",
       " 'totally',\n",
       " 'happen',\n",
       " 'notice',\n",
       " 'candles',\n",
       " 'choose',\n",
       " 'convenient',\n",
       " 'knowing',\n",
       " 'app',\n",
       " 'cools',\n",
       " 'ready',\n",
       " 'another',\n",
       " 'zippers',\n",
       " 'wrinkled',\n",
       " 'block',\n",
       " 'consistent',\n",
       " 'drying',\n",
       " 'stains',\n",
       " 'sense',\n",
       " 'five',\n",
       " 'sitting',\n",
       " 'backing',\n",
       " 'peel',\n",
       " 'chargers',\n",
       " 'may',\n",
       " 'flat',\n",
       " 'star',\n",
       " 'past',\n",
       " 'wow',\n",
       " 'durability',\n",
       " 'cubes',\n",
       " 'recharge',\n",
       " 'smudge',\n",
       " 'writes',\n",
       " 'holes',\n",
       " 'favorite',\n",
       " 'bulky',\n",
       " 'led',\n",
       " 'available',\n",
       " 'lower',\n",
       " 'went',\n",
       " 'brands',\n",
       " 'pants',\n",
       " 'pocket',\n",
       " 'additional',\n",
       " 'glass',\n",
       " 'downside',\n",
       " 'tiny',\n",
       " 'challenge',\n",
       " 'dropped',\n",
       " 'zero',\n",
       " 'saw',\n",
       " 'handy',\n",
       " 'filled',\n",
       " 'construction',\n",
       " 'mode',\n",
       " 'base',\n",
       " 'press',\n",
       " 'fixtures',\n",
       " 'date',\n",
       " 'warm',\n",
       " 'wearing',\n",
       " 'daylight',\n",
       " 'compost',\n",
       " 'expect',\n",
       " 'exterior',\n",
       " 'white',\n",
       " 'cover',\n",
       " 'packaging',\n",
       " 'style',\n",
       " 'classy',\n",
       " 'allow',\n",
       " 'disposable',\n",
       " 'fell',\n",
       " 'crap',\n",
       " 'foil',\n",
       " 'returned',\n",
       " 'tried',\n",
       " 'random',\n",
       " 'gift',\n",
       " 'centered',\n",
       " 'waste',\n",
       " 'pieces',\n",
       " 'padded',\n",
       " 'significant',\n",
       " 'finish',\n",
       " 'sound',\n",
       " 'tank',\n",
       " 'spray',\n",
       " 'mess',\n",
       " 'rolls',\n",
       " 'decent',\n",
       " 'slide',\n",
       " 'mom',\n",
       " 'added',\n",
       " 'anymore',\n",
       " 'truly',\n",
       " 'medium',\n",
       " 'wet',\n",
       " 'slippery',\n",
       " 'died',\n",
       " 'leather',\n",
       " 'repeatedly',\n",
       " 'crack',\n",
       " 'damage',\n",
       " 'rowenta',\n",
       " 'seal',\n",
       " 'version',\n",
       " 'mouth',\n",
       " 'empty',\n",
       " 'septic',\n",
       " 'clothes',\n",
       " 'red',\n",
       " 'let',\n",
       " 'lots',\n",
       " 'older',\n",
       " 'lighter',\n",
       " 'turn',\n",
       " 'fail',\n",
       " 'seed',\n",
       " 'supposed',\n",
       " 'fabrics',\n",
       " 'cheaper',\n",
       " 'trees',\n",
       " 'area',\n",
       " 'option',\n",
       " 'function',\n",
       " 'stinky',\n",
       " 'toilet',\n",
       " 'absolutely',\n",
       " 'keystroke',\n",
       " 'term',\n",
       " 'seat',\n",
       " 'old',\n",
       " 'heats',\n",
       " 'compact',\n",
       " 'adjusts',\n",
       " 'tall',\n",
       " 'acoustic',\n",
       " 'diffuser',\n",
       " 'lasted',\n",
       " 'ok',\n",
       " 'ecko',\n",
       " 'brew',\n",
       " 'filters',\n",
       " 'meet',\n",
       " 'playing',\n",
       " 'charges',\n",
       " 'contents',\n",
       " 'us',\n",
       " 'etc',\n",
       " 'pain',\n",
       " 'kinda',\n",
       " 'panel',\n",
       " 'zipped',\n",
       " 'tends',\n",
       " 'cushion',\n",
       " 'traveled',\n",
       " 'airport',\n",
       " 'security',\n",
       " 'slim',\n",
       " 'grip',\n",
       " 'thinnest',\n",
       " 'useful',\n",
       " 'along',\n",
       " 'fewer',\n",
       " 'laundromat',\n",
       " 'body',\n",
       " 'calming',\n",
       " 'college',\n",
       " 'lopsided',\n",
       " 'based',\n",
       " 'upright',\n",
       " 'close',\n",
       " 'closest',\n",
       " 'third',\n",
       " 'fabulous',\n",
       " 'detergent',\n",
       " 'location',\n",
       " 'lack',\n",
       " 'briefcase',\n",
       " 'illuminate',\n",
       " 'hassle',\n",
       " 'recommended',\n",
       " 'customer',\n",
       " 'clumsy',\n",
       " 'natural',\n",
       " 'camping',\n",
       " 'hence',\n",
       " 'distance',\n",
       " 'begin',\n",
       " 'rain',\n",
       " 'installed',\n",
       " 'padding',\n",
       " 'powered',\n",
       " 'support',\n",
       " 'beverages',\n",
       " 'daughter',\n",
       " 'pillowcases',\n",
       " 'worrying',\n",
       " 'roof',\n",
       " 'automatic',\n",
       " 'aware',\n",
       " 'doesnt',\n",
       " 'compartment',\n",
       " 'cupholders',\n",
       " 'shoulder',\n",
       " 'neat',\n",
       " 'forever',\n",
       " 'smoooooth',\n",
       " 'awkward',\n",
       " 'hang',\n",
       " 'point',\n",
       " 'windows',\n",
       " 'obstruction',\n",
       " 'tiled',\n",
       " 'koolcar',\n",
       " 'prefer',\n",
       " 'smoothly',\n",
       " 'comfortably',\n",
       " 'pay',\n",
       " 'review',\n",
       " 'practical',\n",
       " 'highways',\n",
       " 'mean',\n",
       " 'suction',\n",
       " 'tool',\n",
       " 'metallic',\n",
       " 'attributes',\n",
       " 'driving',\n",
       " 'ventilator',\n",
       " 'twin',\n",
       " 'scrub',\n",
       " 'cloths',\n",
       " 'decently',\n",
       " 'pro',\n",
       " 'clip',\n",
       " 'seats',\n",
       " 'panels',\n",
       " 'jeans',\n",
       " 'shirts',\n",
       " 'laundry',\n",
       " 'spend',\n",
       " 'personal',\n",
       " 'replacement',\n",
       " 'sites',\n",
       " 'train',\n",
       " 'advertised',\n",
       " 'energy',\n",
       " 'hit',\n",
       " 'savings',\n",
       " 'refrigerator',\n",
       " 'flip',\n",
       " 'plush',\n",
       " 'bleached',\n",
       " 'noisy',\n",
       " 'accessible',\n",
       " 'reliable',\n",
       " 'beverage',\n",
       " 'snack',\n",
       " 'everywhere',\n",
       " 'keystrokes',\n",
       " 'marker',\n",
       " 'screen',\n",
       " 'section',\n",
       " 'breeze',\n",
       " 'says',\n",
       " 'heating',\n",
       " 'cheaply',\n",
       " 'functional',\n",
       " 'shut',\n",
       " 'clients',\n",
       " 'aesthetically',\n",
       " 'loud',\n",
       " 'supplied',\n",
       " 'rest',\n",
       " 'crazy',\n",
       " 'curtain',\n",
       " 'worry',\n",
       " 'notes',\n",
       " 'volume',\n",
       " 'showers',\n",
       " 'face',\n",
       " 'describe',\n",
       " 'straightforward',\n",
       " 'holders',\n",
       " 'u',\n",
       " 'saves',\n",
       " 'barely',\n",
       " 'matter',\n",
       " 'moto',\n",
       " 'softer',\n",
       " 'shaped',\n",
       " 'substantially',\n",
       " 'endowed',\n",
       " 'z',\n",
       " 'slick',\n",
       " 'liked',\n",
       " 'fridge',\n",
       " 'middle',\n",
       " 'bath',\n",
       " 'case',\n",
       " 'sunlight',\n",
       " 'overnight',\n",
       " 'drinks',\n",
       " 'choice',\n",
       " 'charging',\n",
       " 'sandwiches',\n",
       " 'fry',\n",
       " 'front',\n",
       " 'reservoir',\n",
       " 'touch',\n",
       " 'reset',\n",
       " 'others',\n",
       " 'bad',\n",
       " 'ball',\n",
       " 'probably',\n",
       " 'leaked',\n",
       " 'rigid',\n",
       " 'kind',\n",
       " 'door',\n",
       " 'dark',\n",
       " 'near',\n",
       " 'corner',\n",
       " 'sit',\n",
       " 'annual',\n",
       " 'supply',\n",
       " 'sensors',\n",
       " 'dusk',\n",
       " 'dawn',\n",
       " 'chilled',\n",
       " 'dim',\n",
       " 'recommending',\n",
       " 'filling',\n",
       " 'provides',\n",
       " 'markers',\n",
       " 'irons',\n",
       " 'seconds',\n",
       " 'wobbly',\n",
       " 'directly',\n",
       " 'designed',\n",
       " 'loved',\n",
       " 'ive',\n",
       " 'rv',\n",
       " 'control',\n",
       " 'cook',\n",
       " 'nonetheless',\n",
       " 'cooking',\n",
       " 'tight',\n",
       " 'areas',\n",
       " 'harder',\n",
       " 'expectations',\n",
       " 'key',\n",
       " 'center',\n",
       " 'accurate',\n",
       " 'wine',\n",
       " 'feeling',\n",
       " 'typing',\n",
       " 'controls',\n",
       " 'juice',\n",
       " 'man',\n",
       " 'loosen',\n",
       " 'oh',\n",
       " 'induction',\n",
       " 'written',\n",
       " 'shrink',\n",
       " 'brown',\n",
       " 'stand',\n",
       " 'shopping',\n",
       " 'wrinkles',\n",
       " 'turned',\n",
       " 'services',\n",
       " 'normally',\n",
       " 'send',\n",
       " 'ios',\n",
       " 'track',\n",
       " 'standard',\n",
       " 'notebooks',\n",
       " 'single',\n",
       " 'erased',\n",
       " 'containers',\n",
       " 'thickness',\n",
       " 'printing',\n",
       " 'reasonably',\n",
       " 'professional',\n",
       " 'purposes',\n",
       " 'brief',\n",
       " 'book',\n",
       " 'versatility',\n",
       " 'grabber',\n",
       " 'walking',\n",
       " 'opening',\n",
       " 'suggest',\n",
       " 'description',\n",
       " 'salty',\n",
       " 'listed',\n",
       " 'celery',\n",
       " 'google',\n",
       " 'photo',\n",
       " 'household',\n",
       " 'drive',\n",
       " 'bin',\n",
       " 'crown',\n",
       " 'prevent',\n",
       " 'materials',\n",
       " 'allows',\n",
       " 'yells',\n",
       " 'perfection',\n",
       " 'faded',\n",
       " 'collector',\n",
       " 'cans',\n",
       " 'odor',\n",
       " 'dinner',\n",
       " 'storing',\n",
       " 'biodegradable',\n",
       " 'immediately',\n",
       " 'turns',\n",
       " 'reviews',\n",
       " 'read',\n",
       " 'microwaved',\n",
       " 'addresses',\n",
       " 'brighten',\n",
       " 'email',\n",
       " 'napkin',\n",
       " 'accounts',\n",
       " 'cabinets',\n",
       " 'butcher',\n",
       " 'dropbox',\n",
       " 'wanted',\n",
       " 'anticipated',\n",
       " 'show',\n",
       " 'tend',\n",
       " 'dyed',\n",
       " 'ergonomic',\n",
       " 'chemical',\n",
       " 'toxic',\n",
       " 'backpack',\n",
       " 'scrubber',\n",
       " 'stores',\n",
       " 'lastly',\n",
       " 'suck',\n",
       " 'dish',\n",
       " 'expected',\n",
       " 'spoon',\n",
       " 'fact',\n",
       " 'squeeze',\n",
       " 'station',\n",
       " 'adding',\n",
       " 'covers',\n",
       " 'helped',\n",
       " 'clear',\n",
       " ...]"
      ]
     },
     "execution_count": 45,
     "metadata": {},
     "output_type": "execute_result"
    }
   ],
   "source": [
    "word_embeddings.index_to_key"
   ]
  },
  {
   "cell_type": "code",
   "execution_count": 46,
   "metadata": {},
   "outputs": [],
   "source": [
    "word_vectors = [word_embeddings[word] for word in word_embeddings.index_to_key]"
   ]
  },
  {
   "cell_type": "code",
   "execution_count": 61,
   "metadata": {},
   "outputs": [
    {
     "data": {
      "text/plain": [
       "2176"
      ]
     },
     "execution_count": 61,
     "metadata": {},
     "output_type": "execute_result"
    }
   ],
   "source": [
    "len(word_vectors)"
   ]
  },
  {
   "cell_type": "code",
   "execution_count": 62,
   "metadata": {},
   "outputs": [],
   "source": [
    "vectors = np.array(word_vectors)"
   ]
  },
  {
   "cell_type": "code",
   "execution_count": 63,
   "metadata": {},
   "outputs": [
    {
     "data": {
      "text/plain": [
       "(2176, 100)"
      ]
     },
     "execution_count": 63,
     "metadata": {},
     "output_type": "execute_result"
    }
   ],
   "source": [
    "vectors.shape"
   ]
  },
  {
   "cell_type": "code",
   "execution_count": 64,
   "metadata": {},
   "outputs": [],
   "source": [
    "from pyclustering.cluster.kmedoids import kmedoids"
   ]
  },
  {
   "cell_type": "code",
   "execution_count": 65,
   "metadata": {},
   "outputs": [],
   "source": [
    "# Create a list which start start from 0 to the number of len_aspect\n",
    "initial_medoids = list(range(0, 6))\n"
   ]
  },
  {
   "cell_type": "code",
   "execution_count": 68,
   "metadata": {},
   "outputs": [],
   "source": [
    "initial_medoids=[0,1,2]"
   ]
  },
  {
   "cell_type": "code",
   "execution_count": 66,
   "metadata": {},
   "outputs": [],
   "source": [
    "# Create an instance of the kmedoids class\n",
    "kmedoids_instance = kmedoids(vectors, initial_medoids)"
   ]
  },
  {
   "cell_type": "code",
   "execution_count": 69,
   "metadata": {},
   "outputs": [],
   "source": [
    "# Run cluster analysis and obtain results\n",
    "kmedoids_instance.process()\n",
    "\n",
    "# Get the clusters\n",
    "clusters = kmedoids_instance.get_clusters()\n",
    "\n",
    "# Get the medoids\n",
    "medoids = kmedoids_instance.get_medoids()\n",
    "\n",
    "# Print the output\n",
    "print(f\"Clusters: {clusters}\")\n",
    "print(f\"Medoids: {medoids}\")"
   ]
  },
  {
   "cell_type": "code",
   "execution_count": null,
   "metadata": {},
   "outputs": [
    {
     "name": "stdout",
     "output_type": "stream",
     "text": [
      "2176 100 2176\n"
     ]
    },
    {
     "ename": "ValueError",
     "evalue": "All arrays must be of the same length",
     "output_type": "error",
     "traceback": [
      "\u001b[0;31m---------------------------------------------------------------------------\u001b[0m",
      "\u001b[0;31mValueError\u001b[0m                                Traceback (most recent call last)",
      "\u001b[1;32m/Users/divyamsobti/Desktop/thesis/k-metorid.ipynb Cell 28\u001b[0m line \u001b[0;36m1\n\u001b[1;32m      <a href='vscode-notebook-cell:/Users/divyamsobti/Desktop/thesis/k-metorid.ipynb#X42sZmlsZQ%3D%3D?line=5'>6</a>\u001b[0m \u001b[39mprint\u001b[39m(\u001b[39mlen\u001b[39m(vectors), \u001b[39mlen\u001b[39m(clusters), \u001b[39mlen\u001b[39m(word_embeddings\u001b[39m.\u001b[39mindex_to_key))\n\u001b[1;32m      <a href='vscode-notebook-cell:/Users/divyamsobti/Desktop/thesis/k-metorid.ipynb#X42sZmlsZQ%3D%3D?line=7'>8</a>\u001b[0m \u001b[39m# Ensure all lengths match\u001b[39;00m\n\u001b[1;32m      <a href='vscode-notebook-cell:/Users/divyamsobti/Desktop/thesis/k-metorid.ipynb#X42sZmlsZQ%3D%3D?line=8'>9</a>\u001b[0m \u001b[39m#assert len(vectors) == len(clusters) == len(word_embeddings.index_to_key), \"All inputs must have the same length.\"\u001b[39;00m\n\u001b[1;32m     <a href='vscode-notebook-cell:/Users/divyamsobti/Desktop/thesis/k-metorid.ipynb#X42sZmlsZQ%3D%3D?line=9'>10</a>\u001b[0m \n\u001b[1;32m     <a href='vscode-notebook-cell:/Users/divyamsobti/Desktop/thesis/k-metorid.ipynb#X42sZmlsZQ%3D%3D?line=10'>11</a>\u001b[0m \u001b[39m# Then create the DataFrame\u001b[39;00m\n\u001b[0;32m---> <a href='vscode-notebook-cell:/Users/divyamsobti/Desktop/thesis/k-metorid.ipynb#X42sZmlsZQ%3D%3D?line=11'>12</a>\u001b[0m df \u001b[39m=\u001b[39m pd\u001b[39m.\u001b[39;49mDataFrame({\n\u001b[1;32m     <a href='vscode-notebook-cell:/Users/divyamsobti/Desktop/thesis/k-metorid.ipynb#X42sZmlsZQ%3D%3D?line=12'>13</a>\u001b[0m     \u001b[39m'\u001b[39;49m\u001b[39mx\u001b[39;49m\u001b[39m'\u001b[39;49m: vectors[:, \u001b[39m0\u001b[39;49m],\n\u001b[1;32m     <a href='vscode-notebook-cell:/Users/divyamsobti/Desktop/thesis/k-metorid.ipynb#X42sZmlsZQ%3D%3D?line=13'>14</a>\u001b[0m     \u001b[39m'\u001b[39;49m\u001b[39my\u001b[39;49m\u001b[39m'\u001b[39;49m: vectors[:, \u001b[39m1\u001b[39;49m],\n\u001b[1;32m     <a href='vscode-notebook-cell:/Users/divyamsobti/Desktop/thesis/k-metorid.ipynb#X42sZmlsZQ%3D%3D?line=14'>15</a>\u001b[0m     \u001b[39m'\u001b[39;49m\u001b[39mlabel\u001b[39;49m\u001b[39m'\u001b[39;49m: [word \u001b[39mfor\u001b[39;49;00m word \u001b[39min\u001b[39;49;00m word_embeddings\u001b[39m.\u001b[39;49mindex_to_key],\n\u001b[1;32m     <a href='vscode-notebook-cell:/Users/divyamsobti/Desktop/thesis/k-metorid.ipynb#X42sZmlsZQ%3D%3D?line=15'>16</a>\u001b[0m     \u001b[39m'\u001b[39;49m\u001b[39mcluster\u001b[39;49m\u001b[39m'\u001b[39;49m: clusters\n\u001b[1;32m     <a href='vscode-notebook-cell:/Users/divyamsobti/Desktop/thesis/k-metorid.ipynb#X42sZmlsZQ%3D%3D?line=16'>17</a>\u001b[0m })\n",
      "File \u001b[0;32m/Library/Frameworks/Python.framework/Versions/3.11/lib/python3.11/site-packages/pandas/core/frame.py:736\u001b[0m, in \u001b[0;36mDataFrame.__init__\u001b[0;34m(self, data, index, columns, dtype, copy)\u001b[0m\n\u001b[1;32m    730\u001b[0m     mgr \u001b[39m=\u001b[39m \u001b[39mself\u001b[39m\u001b[39m.\u001b[39m_init_mgr(\n\u001b[1;32m    731\u001b[0m         data, axes\u001b[39m=\u001b[39m{\u001b[39m\"\u001b[39m\u001b[39mindex\u001b[39m\u001b[39m\"\u001b[39m: index, \u001b[39m\"\u001b[39m\u001b[39mcolumns\u001b[39m\u001b[39m\"\u001b[39m: columns}, dtype\u001b[39m=\u001b[39mdtype, copy\u001b[39m=\u001b[39mcopy\n\u001b[1;32m    732\u001b[0m     )\n\u001b[1;32m    734\u001b[0m \u001b[39melif\u001b[39;00m \u001b[39misinstance\u001b[39m(data, \u001b[39mdict\u001b[39m):\n\u001b[1;32m    735\u001b[0m     \u001b[39m# GH#38939 de facto copy defaults to False only in non-dict cases\u001b[39;00m\n\u001b[0;32m--> 736\u001b[0m     mgr \u001b[39m=\u001b[39m dict_to_mgr(data, index, columns, dtype\u001b[39m=\u001b[39;49mdtype, copy\u001b[39m=\u001b[39;49mcopy, typ\u001b[39m=\u001b[39;49mmanager)\n\u001b[1;32m    737\u001b[0m \u001b[39melif\u001b[39;00m \u001b[39misinstance\u001b[39m(data, ma\u001b[39m.\u001b[39mMaskedArray):\n\u001b[1;32m    738\u001b[0m     \u001b[39mfrom\u001b[39;00m \u001b[39mnumpy\u001b[39;00m\u001b[39m.\u001b[39;00m\u001b[39mma\u001b[39;00m \u001b[39mimport\u001b[39;00m mrecords\n",
      "File \u001b[0;32m/Library/Frameworks/Python.framework/Versions/3.11/lib/python3.11/site-packages/pandas/core/internals/construction.py:503\u001b[0m, in \u001b[0;36mdict_to_mgr\u001b[0;34m(data, index, columns, dtype, typ, copy)\u001b[0m\n\u001b[1;32m    499\u001b[0m     \u001b[39melse\u001b[39;00m:\n\u001b[1;32m    500\u001b[0m         \u001b[39m# dtype check to exclude e.g. range objects, scalars\u001b[39;00m\n\u001b[1;32m    501\u001b[0m         arrays \u001b[39m=\u001b[39m [x\u001b[39m.\u001b[39mcopy() \u001b[39mif\u001b[39;00m \u001b[39mhasattr\u001b[39m(x, \u001b[39m\"\u001b[39m\u001b[39mdtype\u001b[39m\u001b[39m\"\u001b[39m) \u001b[39melse\u001b[39;00m x \u001b[39mfor\u001b[39;00m x \u001b[39min\u001b[39;00m arrays]\n\u001b[0;32m--> 503\u001b[0m \u001b[39mreturn\u001b[39;00m arrays_to_mgr(arrays, columns, index, dtype\u001b[39m=\u001b[39;49mdtype, typ\u001b[39m=\u001b[39;49mtyp, consolidate\u001b[39m=\u001b[39;49mcopy)\n",
      "File \u001b[0;32m/Library/Frameworks/Python.framework/Versions/3.11/lib/python3.11/site-packages/pandas/core/internals/construction.py:114\u001b[0m, in \u001b[0;36marrays_to_mgr\u001b[0;34m(arrays, columns, index, dtype, verify_integrity, typ, consolidate)\u001b[0m\n\u001b[1;32m    111\u001b[0m \u001b[39mif\u001b[39;00m verify_integrity:\n\u001b[1;32m    112\u001b[0m     \u001b[39m# figure out the index, if necessary\u001b[39;00m\n\u001b[1;32m    113\u001b[0m     \u001b[39mif\u001b[39;00m index \u001b[39mis\u001b[39;00m \u001b[39mNone\u001b[39;00m:\n\u001b[0;32m--> 114\u001b[0m         index \u001b[39m=\u001b[39m _extract_index(arrays)\n\u001b[1;32m    115\u001b[0m     \u001b[39melse\u001b[39;00m:\n\u001b[1;32m    116\u001b[0m         index \u001b[39m=\u001b[39m ensure_index(index)\n",
      "File \u001b[0;32m/Library/Frameworks/Python.framework/Versions/3.11/lib/python3.11/site-packages/pandas/core/internals/construction.py:677\u001b[0m, in \u001b[0;36m_extract_index\u001b[0;34m(data)\u001b[0m\n\u001b[1;32m    675\u001b[0m lengths \u001b[39m=\u001b[39m \u001b[39mlist\u001b[39m(\u001b[39mset\u001b[39m(raw_lengths))\n\u001b[1;32m    676\u001b[0m \u001b[39mif\u001b[39;00m \u001b[39mlen\u001b[39m(lengths) \u001b[39m>\u001b[39m \u001b[39m1\u001b[39m:\n\u001b[0;32m--> 677\u001b[0m     \u001b[39mraise\u001b[39;00m \u001b[39mValueError\u001b[39;00m(\u001b[39m\"\u001b[39m\u001b[39mAll arrays must be of the same length\u001b[39m\u001b[39m\"\u001b[39m)\n\u001b[1;32m    679\u001b[0m \u001b[39mif\u001b[39;00m have_dicts:\n\u001b[1;32m    680\u001b[0m     \u001b[39mraise\u001b[39;00m \u001b[39mValueError\u001b[39;00m(\n\u001b[1;32m    681\u001b[0m         \u001b[39m\"\u001b[39m\u001b[39mMixing dicts with non-Series may lead to ambiguous ordering.\u001b[39m\u001b[39m\"\u001b[39m\n\u001b[1;32m    682\u001b[0m     )\n",
      "\u001b[0;31mValueError\u001b[0m: All arrays must be of the same length"
     ]
    }
   ],
   "source": [
    "vectors = vectors # Your vectors data\n",
    "clusters = clusters # Your clusters data\n",
    "word_embeddings = word_embeddings # Your word embeddings\n",
    "\n",
    "# Check the lengths\n",
    "print(len(vectors), len(clusters), len(word_embeddings.index_to_key))\n",
    "\n",
    "# Ensure all lengths match\n",
    "#assert len(vectors) == len(clusters) == len(word_embeddings.index_to_key), \"All inputs must have the same length.\"\n",
    "\n",
    "# Then create the DataFrame\n",
    "df = pd.DataFrame({\n",
    "    'x': vectors[:, 0],\n",
    "    'y': vectors[:, 1],\n",
    "    'label': [word for word in word_embeddings.index_to_key],\n",
    "    'cluster': clusters\n",
    "})"
   ]
  },
  {
   "cell_type": "code",
   "execution_count": null,
   "metadata": {},
   "outputs": [
    {
     "ename": "ValueError",
     "evalue": "All arrays must be of the same length",
     "output_type": "error",
     "traceback": [
      "\u001b[0;31m---------------------------------------------------------------------------\u001b[0m",
      "\u001b[0;31mValueError\u001b[0m                                Traceback (most recent call last)",
      "\u001b[1;32m/Users/divyamsobti/Desktop/thesis/k-metorid.ipynb Cell 26\u001b[0m line \u001b[0;36m4\n\u001b[1;32m      <a href='vscode-notebook-cell:/Users/divyamsobti/Desktop/thesis/k-metorid.ipynb#X34sZmlsZQ%3D%3D?line=0'>1</a>\u001b[0m \u001b[39mimport\u001b[39;00m \u001b[39mplotly\u001b[39;00m\u001b[39m.\u001b[39;00m\u001b[39mgraph_objects\u001b[39;00m \u001b[39mas\u001b[39;00m \u001b[39mgo\u001b[39;00m\n\u001b[1;32m      <a href='vscode-notebook-cell:/Users/divyamsobti/Desktop/thesis/k-metorid.ipynb#X34sZmlsZQ%3D%3D?line=2'>3</a>\u001b[0m \u001b[39m# Create a DataFrame for the data\u001b[39;00m\n\u001b[0;32m----> <a href='vscode-notebook-cell:/Users/divyamsobti/Desktop/thesis/k-metorid.ipynb#X34sZmlsZQ%3D%3D?line=3'>4</a>\u001b[0m df \u001b[39m=\u001b[39m pd\u001b[39m.\u001b[39;49mDataFrame({\n\u001b[1;32m      <a href='vscode-notebook-cell:/Users/divyamsobti/Desktop/thesis/k-metorid.ipynb#X34sZmlsZQ%3D%3D?line=4'>5</a>\u001b[0m     \u001b[39m'\u001b[39;49m\u001b[39mx\u001b[39;49m\u001b[39m'\u001b[39;49m: vectors[:, \u001b[39m0\u001b[39;49m],\n\u001b[1;32m      <a href='vscode-notebook-cell:/Users/divyamsobti/Desktop/thesis/k-metorid.ipynb#X34sZmlsZQ%3D%3D?line=5'>6</a>\u001b[0m     \u001b[39m'\u001b[39;49m\u001b[39my\u001b[39;49m\u001b[39m'\u001b[39;49m: vectors[:, \u001b[39m1\u001b[39;49m],\n\u001b[1;32m      <a href='vscode-notebook-cell:/Users/divyamsobti/Desktop/thesis/k-metorid.ipynb#X34sZmlsZQ%3D%3D?line=6'>7</a>\u001b[0m     \u001b[39m'\u001b[39;49m\u001b[39mlabel\u001b[39;49m\u001b[39m'\u001b[39;49m: [word \u001b[39mfor\u001b[39;49;00m word \u001b[39min\u001b[39;49;00m word_embeddings\u001b[39m.\u001b[39;49mindex_to_key],\n\u001b[1;32m      <a href='vscode-notebook-cell:/Users/divyamsobti/Desktop/thesis/k-metorid.ipynb#X34sZmlsZQ%3D%3D?line=7'>8</a>\u001b[0m     \u001b[39m'\u001b[39;49m\u001b[39mcluster\u001b[39;49m\u001b[39m'\u001b[39;49m: clusters\n\u001b[1;32m      <a href='vscode-notebook-cell:/Users/divyamsobti/Desktop/thesis/k-metorid.ipynb#X34sZmlsZQ%3D%3D?line=8'>9</a>\u001b[0m })\n\u001b[1;32m     <a href='vscode-notebook-cell:/Users/divyamsobti/Desktop/thesis/k-metorid.ipynb#X34sZmlsZQ%3D%3D?line=10'>11</a>\u001b[0m \u001b[39m# Create the scatter plot with plotly\u001b[39;00m\n\u001b[1;32m     <a href='vscode-notebook-cell:/Users/divyamsobti/Desktop/thesis/k-metorid.ipynb#X34sZmlsZQ%3D%3D?line=11'>12</a>\u001b[0m fig \u001b[39m=\u001b[39m go\u001b[39m.\u001b[39mFigure()\n",
      "File \u001b[0;32m/Library/Frameworks/Python.framework/Versions/3.11/lib/python3.11/site-packages/pandas/core/frame.py:736\u001b[0m, in \u001b[0;36mDataFrame.__init__\u001b[0;34m(self, data, index, columns, dtype, copy)\u001b[0m\n\u001b[1;32m    730\u001b[0m     mgr \u001b[39m=\u001b[39m \u001b[39mself\u001b[39m\u001b[39m.\u001b[39m_init_mgr(\n\u001b[1;32m    731\u001b[0m         data, axes\u001b[39m=\u001b[39m{\u001b[39m\"\u001b[39m\u001b[39mindex\u001b[39m\u001b[39m\"\u001b[39m: index, \u001b[39m\"\u001b[39m\u001b[39mcolumns\u001b[39m\u001b[39m\"\u001b[39m: columns}, dtype\u001b[39m=\u001b[39mdtype, copy\u001b[39m=\u001b[39mcopy\n\u001b[1;32m    732\u001b[0m     )\n\u001b[1;32m    734\u001b[0m \u001b[39melif\u001b[39;00m \u001b[39misinstance\u001b[39m(data, \u001b[39mdict\u001b[39m):\n\u001b[1;32m    735\u001b[0m     \u001b[39m# GH#38939 de facto copy defaults to False only in non-dict cases\u001b[39;00m\n\u001b[0;32m--> 736\u001b[0m     mgr \u001b[39m=\u001b[39m dict_to_mgr(data, index, columns, dtype\u001b[39m=\u001b[39;49mdtype, copy\u001b[39m=\u001b[39;49mcopy, typ\u001b[39m=\u001b[39;49mmanager)\n\u001b[1;32m    737\u001b[0m \u001b[39melif\u001b[39;00m \u001b[39misinstance\u001b[39m(data, ma\u001b[39m.\u001b[39mMaskedArray):\n\u001b[1;32m    738\u001b[0m     \u001b[39mfrom\u001b[39;00m \u001b[39mnumpy\u001b[39;00m\u001b[39m.\u001b[39;00m\u001b[39mma\u001b[39;00m \u001b[39mimport\u001b[39;00m mrecords\n",
      "File \u001b[0;32m/Library/Frameworks/Python.framework/Versions/3.11/lib/python3.11/site-packages/pandas/core/internals/construction.py:503\u001b[0m, in \u001b[0;36mdict_to_mgr\u001b[0;34m(data, index, columns, dtype, typ, copy)\u001b[0m\n\u001b[1;32m    499\u001b[0m     \u001b[39melse\u001b[39;00m:\n\u001b[1;32m    500\u001b[0m         \u001b[39m# dtype check to exclude e.g. range objects, scalars\u001b[39;00m\n\u001b[1;32m    501\u001b[0m         arrays \u001b[39m=\u001b[39m [x\u001b[39m.\u001b[39mcopy() \u001b[39mif\u001b[39;00m \u001b[39mhasattr\u001b[39m(x, \u001b[39m\"\u001b[39m\u001b[39mdtype\u001b[39m\u001b[39m\"\u001b[39m) \u001b[39melse\u001b[39;00m x \u001b[39mfor\u001b[39;00m x \u001b[39min\u001b[39;00m arrays]\n\u001b[0;32m--> 503\u001b[0m \u001b[39mreturn\u001b[39;00m arrays_to_mgr(arrays, columns, index, dtype\u001b[39m=\u001b[39;49mdtype, typ\u001b[39m=\u001b[39;49mtyp, consolidate\u001b[39m=\u001b[39;49mcopy)\n",
      "File \u001b[0;32m/Library/Frameworks/Python.framework/Versions/3.11/lib/python3.11/site-packages/pandas/core/internals/construction.py:114\u001b[0m, in \u001b[0;36marrays_to_mgr\u001b[0;34m(arrays, columns, index, dtype, verify_integrity, typ, consolidate)\u001b[0m\n\u001b[1;32m    111\u001b[0m \u001b[39mif\u001b[39;00m verify_integrity:\n\u001b[1;32m    112\u001b[0m     \u001b[39m# figure out the index, if necessary\u001b[39;00m\n\u001b[1;32m    113\u001b[0m     \u001b[39mif\u001b[39;00m index \u001b[39mis\u001b[39;00m \u001b[39mNone\u001b[39;00m:\n\u001b[0;32m--> 114\u001b[0m         index \u001b[39m=\u001b[39m _extract_index(arrays)\n\u001b[1;32m    115\u001b[0m     \u001b[39melse\u001b[39;00m:\n\u001b[1;32m    116\u001b[0m         index \u001b[39m=\u001b[39m ensure_index(index)\n",
      "File \u001b[0;32m/Library/Frameworks/Python.framework/Versions/3.11/lib/python3.11/site-packages/pandas/core/internals/construction.py:677\u001b[0m, in \u001b[0;36m_extract_index\u001b[0;34m(data)\u001b[0m\n\u001b[1;32m    675\u001b[0m lengths \u001b[39m=\u001b[39m \u001b[39mlist\u001b[39m(\u001b[39mset\u001b[39m(raw_lengths))\n\u001b[1;32m    676\u001b[0m \u001b[39mif\u001b[39;00m \u001b[39mlen\u001b[39m(lengths) \u001b[39m>\u001b[39m \u001b[39m1\u001b[39m:\n\u001b[0;32m--> 677\u001b[0m     \u001b[39mraise\u001b[39;00m \u001b[39mValueError\u001b[39;00m(\u001b[39m\"\u001b[39m\u001b[39mAll arrays must be of the same length\u001b[39m\u001b[39m\"\u001b[39m)\n\u001b[1;32m    679\u001b[0m \u001b[39mif\u001b[39;00m have_dicts:\n\u001b[1;32m    680\u001b[0m     \u001b[39mraise\u001b[39;00m \u001b[39mValueError\u001b[39;00m(\n\u001b[1;32m    681\u001b[0m         \u001b[39m\"\u001b[39m\u001b[39mMixing dicts with non-Series may lead to ambiguous ordering.\u001b[39m\u001b[39m\"\u001b[39m\n\u001b[1;32m    682\u001b[0m     )\n",
      "\u001b[0;31mValueError\u001b[0m: All arrays must be of the same length"
     ]
    }
   ],
   "source": [
    "import plotly.graph_objects as go\n",
    "\n",
    "# Create a DataFrame for the data\n",
    "df = pd.DataFrame({\n",
    "    'x': vectors[:, 0],\n",
    "    'y': vectors[:, 1],\n",
    "    'label': [word for word in word_embeddings.index_to_key],\n",
    "    'cluster': clusters\n",
    "})\n",
    "\n",
    "# Create the scatter plot with plotly\n",
    "fig = go.Figure()\n",
    "\n",
    "# Add data points to the plot\n",
    "for i, cluster in enumerate(np.unique(clusters)):\n",
    "    cluster_df = df[df['cluster'] == cluster]\n",
    "    fig.add_trace(go.Scatter(x=cluster_df['x'], y=cluster_df['y'],\n",
    "                             mode='markers',\n",
    "                             marker=dict(size=6),\n",
    "                             name=f'Cluster {cluster+1}'))\n",
    "\n",
    "# Add centroids (medoids) to the plot\n",
    "fig.add_trace(go.Scatter(x=medoids[:, 0], y=medoids[:, 1],\n",
    "                         mode='markers',\n",
    "                         marker=dict(size=10, color='black', symbol='cross'),\n",
    "                         name='Centroids'))\n",
    "\n",
    "# Update layout and show the plot\n",
    "fig.update_layout(title='KMeans Clustering with Centroids',\n",
    "                  xaxis_title='X',\n",
    "                  yaxis_title='Y')\n",
    "fig.show()\n"
   ]
  },
  {
   "cell_type": "code",
   "execution_count": null,
   "metadata": {},
   "outputs": [
    {
     "data": {
      "text/plain": [
       "2176"
      ]
     },
     "execution_count": 32,
     "metadata": {},
     "output_type": "execute_result"
    }
   ],
   "source": [
    "len(vectors[:, 0])"
   ]
  },
  {
   "cell_type": "code",
   "execution_count": null,
   "metadata": {},
   "outputs": [],
   "source": [
    "word_vectors=pd.DataFrame(vectors)"
   ]
  },
  {
   "cell_type": "code",
   "execution_count": null,
   "metadata": {},
   "outputs": [],
   "source": [
    "word_vectors.to_csv(\"word_vectors.csv\")"
   ]
  },
  {
   "cell_type": "code",
   "execution_count": 56,
   "metadata": {},
   "outputs": [
    {
     "data": {
      "application/vnd.plotly.v1+json": {
       "config": {
        "plotlyServerURL": "https://plot.ly"
       },
       "data": [
        {
         "mode": "markers",
         "name": "Cluster 0",
         "type": "scatter",
         "x": [
          0.7781567509498505,
          0.018789800436355142,
          0.6120957227224214,
          0.6976311959272649,
          0.5701967704178796,
          0.9883738380592262,
          0.4663107728563063,
          0.6563295894652734,
          0.8379449074988039,
          0.9767610881903371,
          0.06414749634878436,
          0.6778165367962301,
          0.7351940221225949,
          0.24875314351995803,
          0.7142412995491114,
          0.16249293467637482,
          0.19999652489640007,
          0.7936977033574206,
          0.3453516806969027,
          0.7044144019235328,
          0.16469415649791275,
          0.9342139979247938,
          0.05802916032387562
         ],
         "y": [
          0.8700121482468192,
          0.6176354970758771,
          0.6169339968747569,
          0.06022547162926983,
          0.43860151346232035,
          0.10204481074802807,
          0.24442559200160274,
          0.1381829513486138,
          0.09609840789396307,
          0.604845519745046,
          0.6924721193700198,
          0.27000797319216485,
          0.9621885451174382,
          0.5761573344178369,
          0.9988470065678665,
          0.6155595642838442,
          0.01852179446061397,
          0.22392468806038013,
          0.9280812934655909,
          0.03183892953130785,
          0.6214784014997635,
          0.613965955965896,
          0.4344166255581208
         ]
        },
        {
         "mode": "markers",
         "name": "Cluster 1",
         "type": "scatter",
         "x": [
          0.9636627605010293,
          0.7917250380826646,
          0.5680445610939323,
          0.07103605819788694,
          0.46147936225293185,
          0.5218483217500717,
          0.26455561210462697,
          0.8209932298479351,
          0.317983179393976,
          0.8817353618548528,
          0.019193198309333526,
          0.8061939890460857,
          0.7220555994703479,
          0.011714084185001972,
          0.5210366062041293,
          0.5772285886041676,
          0.7301220295167696,
          0.18619300588033616
         ],
         "y": [
          0.3834415188257777,
          0.5288949197529045,
          0.925596638292661,
          0.08712929970154071,
          0.7805291762864555,
          0.4146619399905236,
          0.7742336894342167,
          0.09710127579306127,
          0.41426299451466997,
          0.6925315900777659,
          0.30157481667454933,
          0.7038885835403663,
          0.8663823259286292,
          0.3599780644783639,
          0.05433798833925363,
          0.23789282137450862,
          0.31194499547960186,
          0.9443723899839336
         ]
        },
        {
         "mode": "markers",
         "name": "Cluster 2",
         "type": "scatter",
         "x": [
          0.5488135039273248,
          0.02021839744032572,
          0.45615033221654855,
          0.9437480785146242,
          0.1965823616800535,
          0.5666014542065752,
          0.31856895245132366,
          0.5865129348100832,
          0.6994792753175043,
          0.8137978197024772,
          0.660173537492685,
          0.6180154289988415,
          0.5699649107012649,
          0.4358649252656268,
          0.10022688731230112,
          0.12381998284944151,
          0.6974287731445636,
          0.9755215050028858,
          0.7395507950492876
         ],
         "y": [
          0.7151893663724195,
          0.832619845547938,
          0.5684339488686485,
          0.6818202991034834,
          0.3687251706609641,
          0.2653894909394454,
          0.6674103799636817,
          0.020107546187493552,
          0.29743695085513366,
          0.39650574084698464,
          0.29007760721044407,
          0.42876870094576613,
          0.5908727612481732,
          0.8919233550156721,
          0.9194826137446735,
          0.8480082293222344,
          0.45354268267806885,
          0.855803342392611,
          0.4904588086175671
         ]
        },
        {
         "mode": "markers",
         "name": "Cluster 3",
         "type": "scatter",
         "x": [
          0.4236547993389047,
          0.4375872112626925,
          0.978618342232764,
          0.1433532874090464,
          0.2103825610738409,
          0.31542835092418386,
          0.2088767560948347,
          0.6531083254653984,
          0.15896958364551972,
          0.7392635793983017,
          0.2894060929472011,
          0.8289400292173631,
          0.592041931271839,
          0.7252542798196405,
          0.9560836347232239,
          0.4238550485581797,
          0.13547406422245023,
          0.5743252488495788,
          0.14944830465799375,
          0.40718329722599966,
          0.5356328030249583
         ],
         "y": [
          0.6458941130666561,
          0.8917730007820798,
          0.7991585642167236,
          0.9446689170495839,
          0.1289262976548533,
          0.3637107709426226,
          0.16130951788499626,
          0.2532916025397821,
          0.11037514116430513,
          0.039187792254320675,
          0.18319136200711683,
          0.004695476192547066,
          0.5722519057908734,
          0.5013243819267023,
          0.6439901992296374,
          0.6063932141279244,
          0.29828232595603077,
          0.6532008198571336,
          0.8681260573682142,
          0.06916699545513805,
          0.589909976354571
         ]
        },
        {
         "mode": "markers",
         "name": "Cluster 4",
         "type": "scatter",
         "x": [
          0.6027633760716439,
          0.11827442586893322,
          0.359507900573786,
          0.6667667154456677,
          0.9764594650133958,
          0.2828069625764096,
          0.29614019752214493,
          0.5232480534666997,
          0.5759464955561793,
          0.13179786240439217,
          0.2230816326406183,
          0.44712537861762736,
          0.8811031971111616,
          0.6521032700016889,
          0.896546595851063,
          0.8073189587250107,
          0.729990562424058,
          0.3982210622160919,
          0.22741462797332324
         ],
         "y": [
          0.5448831829968969,
          0.6399210213275238,
          0.43703195379934145,
          0.6706378696181594,
          0.4686512016477016,
          0.1201965612131689,
          0.11872771895424405,
          0.09394051075844168,
          0.9292961975762141,
          0.7163272041185655,
          0.952749011516985,
          0.8464086724711278,
          0.5812728726358587,
          0.43141843543397396,
          0.36756187004789653,
          0.5691007386145933,
          0.17162967726144052,
          0.20984374897512215,
          0.25435648177039294
         ]
        },
        {
         "marker": {
          "color": "black",
          "size": 10,
          "symbol": "x"
         },
         "mode": "markers",
         "name": "Medoids",
         "type": "scatter",
         "x": [
          0.4238550485581797,
          0.44712537861762736,
          0.5759464955561793,
          0.24875314351995803,
          0.4236547993389047
         ],
         "y": [
          0.6063932141279244,
          0.8464086724711278,
          0.9292961975762141,
          0.5761573344178369,
          0.6458941130666561
         ]
        }
       ],
       "layout": {
        "legend": {
         "title": {
          "text": "Cluster"
         }
        },
        "template": {
         "data": {
          "bar": [
           {
            "error_x": {
             "color": "#2a3f5f"
            },
            "error_y": {
             "color": "#2a3f5f"
            },
            "marker": {
             "line": {
              "color": "#E5ECF6",
              "width": 0.5
             },
             "pattern": {
              "fillmode": "overlay",
              "size": 10,
              "solidity": 0.2
             }
            },
            "type": "bar"
           }
          ],
          "barpolar": [
           {
            "marker": {
             "line": {
              "color": "#E5ECF6",
              "width": 0.5
             },
             "pattern": {
              "fillmode": "overlay",
              "size": 10,
              "solidity": 0.2
             }
            },
            "type": "barpolar"
           }
          ],
          "carpet": [
           {
            "aaxis": {
             "endlinecolor": "#2a3f5f",
             "gridcolor": "white",
             "linecolor": "white",
             "minorgridcolor": "white",
             "startlinecolor": "#2a3f5f"
            },
            "baxis": {
             "endlinecolor": "#2a3f5f",
             "gridcolor": "white",
             "linecolor": "white",
             "minorgridcolor": "white",
             "startlinecolor": "#2a3f5f"
            },
            "type": "carpet"
           }
          ],
          "choropleth": [
           {
            "colorbar": {
             "outlinewidth": 0,
             "ticks": ""
            },
            "type": "choropleth"
           }
          ],
          "contour": [
           {
            "colorbar": {
             "outlinewidth": 0,
             "ticks": ""
            },
            "colorscale": [
             [
              0,
              "#0d0887"
             ],
             [
              0.1111111111111111,
              "#46039f"
             ],
             [
              0.2222222222222222,
              "#7201a8"
             ],
             [
              0.3333333333333333,
              "#9c179e"
             ],
             [
              0.4444444444444444,
              "#bd3786"
             ],
             [
              0.5555555555555556,
              "#d8576b"
             ],
             [
              0.6666666666666666,
              "#ed7953"
             ],
             [
              0.7777777777777778,
              "#fb9f3a"
             ],
             [
              0.8888888888888888,
              "#fdca26"
             ],
             [
              1,
              "#f0f921"
             ]
            ],
            "type": "contour"
           }
          ],
          "contourcarpet": [
           {
            "colorbar": {
             "outlinewidth": 0,
             "ticks": ""
            },
            "type": "contourcarpet"
           }
          ],
          "heatmap": [
           {
            "colorbar": {
             "outlinewidth": 0,
             "ticks": ""
            },
            "colorscale": [
             [
              0,
              "#0d0887"
             ],
             [
              0.1111111111111111,
              "#46039f"
             ],
             [
              0.2222222222222222,
              "#7201a8"
             ],
             [
              0.3333333333333333,
              "#9c179e"
             ],
             [
              0.4444444444444444,
              "#bd3786"
             ],
             [
              0.5555555555555556,
              "#d8576b"
             ],
             [
              0.6666666666666666,
              "#ed7953"
             ],
             [
              0.7777777777777778,
              "#fb9f3a"
             ],
             [
              0.8888888888888888,
              "#fdca26"
             ],
             [
              1,
              "#f0f921"
             ]
            ],
            "type": "heatmap"
           }
          ],
          "heatmapgl": [
           {
            "colorbar": {
             "outlinewidth": 0,
             "ticks": ""
            },
            "colorscale": [
             [
              0,
              "#0d0887"
             ],
             [
              0.1111111111111111,
              "#46039f"
             ],
             [
              0.2222222222222222,
              "#7201a8"
             ],
             [
              0.3333333333333333,
              "#9c179e"
             ],
             [
              0.4444444444444444,
              "#bd3786"
             ],
             [
              0.5555555555555556,
              "#d8576b"
             ],
             [
              0.6666666666666666,
              "#ed7953"
             ],
             [
              0.7777777777777778,
              "#fb9f3a"
             ],
             [
              0.8888888888888888,
              "#fdca26"
             ],
             [
              1,
              "#f0f921"
             ]
            ],
            "type": "heatmapgl"
           }
          ],
          "histogram": [
           {
            "marker": {
             "pattern": {
              "fillmode": "overlay",
              "size": 10,
              "solidity": 0.2
             }
            },
            "type": "histogram"
           }
          ],
          "histogram2d": [
           {
            "colorbar": {
             "outlinewidth": 0,
             "ticks": ""
            },
            "colorscale": [
             [
              0,
              "#0d0887"
             ],
             [
              0.1111111111111111,
              "#46039f"
             ],
             [
              0.2222222222222222,
              "#7201a8"
             ],
             [
              0.3333333333333333,
              "#9c179e"
             ],
             [
              0.4444444444444444,
              "#bd3786"
             ],
             [
              0.5555555555555556,
              "#d8576b"
             ],
             [
              0.6666666666666666,
              "#ed7953"
             ],
             [
              0.7777777777777778,
              "#fb9f3a"
             ],
             [
              0.8888888888888888,
              "#fdca26"
             ],
             [
              1,
              "#f0f921"
             ]
            ],
            "type": "histogram2d"
           }
          ],
          "histogram2dcontour": [
           {
            "colorbar": {
             "outlinewidth": 0,
             "ticks": ""
            },
            "colorscale": [
             [
              0,
              "#0d0887"
             ],
             [
              0.1111111111111111,
              "#46039f"
             ],
             [
              0.2222222222222222,
              "#7201a8"
             ],
             [
              0.3333333333333333,
              "#9c179e"
             ],
             [
              0.4444444444444444,
              "#bd3786"
             ],
             [
              0.5555555555555556,
              "#d8576b"
             ],
             [
              0.6666666666666666,
              "#ed7953"
             ],
             [
              0.7777777777777778,
              "#fb9f3a"
             ],
             [
              0.8888888888888888,
              "#fdca26"
             ],
             [
              1,
              "#f0f921"
             ]
            ],
            "type": "histogram2dcontour"
           }
          ],
          "mesh3d": [
           {
            "colorbar": {
             "outlinewidth": 0,
             "ticks": ""
            },
            "type": "mesh3d"
           }
          ],
          "parcoords": [
           {
            "line": {
             "colorbar": {
              "outlinewidth": 0,
              "ticks": ""
             }
            },
            "type": "parcoords"
           }
          ],
          "pie": [
           {
            "automargin": true,
            "type": "pie"
           }
          ],
          "scatter": [
           {
            "fillpattern": {
             "fillmode": "overlay",
             "size": 10,
             "solidity": 0.2
            },
            "type": "scatter"
           }
          ],
          "scatter3d": [
           {
            "line": {
             "colorbar": {
              "outlinewidth": 0,
              "ticks": ""
             }
            },
            "marker": {
             "colorbar": {
              "outlinewidth": 0,
              "ticks": ""
             }
            },
            "type": "scatter3d"
           }
          ],
          "scattercarpet": [
           {
            "marker": {
             "colorbar": {
              "outlinewidth": 0,
              "ticks": ""
             }
            },
            "type": "scattercarpet"
           }
          ],
          "scattergeo": [
           {
            "marker": {
             "colorbar": {
              "outlinewidth": 0,
              "ticks": ""
             }
            },
            "type": "scattergeo"
           }
          ],
          "scattergl": [
           {
            "marker": {
             "colorbar": {
              "outlinewidth": 0,
              "ticks": ""
             }
            },
            "type": "scattergl"
           }
          ],
          "scattermapbox": [
           {
            "marker": {
             "colorbar": {
              "outlinewidth": 0,
              "ticks": ""
             }
            },
            "type": "scattermapbox"
           }
          ],
          "scatterpolar": [
           {
            "marker": {
             "colorbar": {
              "outlinewidth": 0,
              "ticks": ""
             }
            },
            "type": "scatterpolar"
           }
          ],
          "scatterpolargl": [
           {
            "marker": {
             "colorbar": {
              "outlinewidth": 0,
              "ticks": ""
             }
            },
            "type": "scatterpolargl"
           }
          ],
          "scatterternary": [
           {
            "marker": {
             "colorbar": {
              "outlinewidth": 0,
              "ticks": ""
             }
            },
            "type": "scatterternary"
           }
          ],
          "surface": [
           {
            "colorbar": {
             "outlinewidth": 0,
             "ticks": ""
            },
            "colorscale": [
             [
              0,
              "#0d0887"
             ],
             [
              0.1111111111111111,
              "#46039f"
             ],
             [
              0.2222222222222222,
              "#7201a8"
             ],
             [
              0.3333333333333333,
              "#9c179e"
             ],
             [
              0.4444444444444444,
              "#bd3786"
             ],
             [
              0.5555555555555556,
              "#d8576b"
             ],
             [
              0.6666666666666666,
              "#ed7953"
             ],
             [
              0.7777777777777778,
              "#fb9f3a"
             ],
             [
              0.8888888888888888,
              "#fdca26"
             ],
             [
              1,
              "#f0f921"
             ]
            ],
            "type": "surface"
           }
          ],
          "table": [
           {
            "cells": {
             "fill": {
              "color": "#EBF0F8"
             },
             "line": {
              "color": "white"
             }
            },
            "header": {
             "fill": {
              "color": "#C8D4E3"
             },
             "line": {
              "color": "white"
             }
            },
            "type": "table"
           }
          ]
         },
         "layout": {
          "annotationdefaults": {
           "arrowcolor": "#2a3f5f",
           "arrowhead": 0,
           "arrowwidth": 1
          },
          "autotypenumbers": "strict",
          "coloraxis": {
           "colorbar": {
            "outlinewidth": 0,
            "ticks": ""
           }
          },
          "colorscale": {
           "diverging": [
            [
             0,
             "#8e0152"
            ],
            [
             0.1,
             "#c51b7d"
            ],
            [
             0.2,
             "#de77ae"
            ],
            [
             0.3,
             "#f1b6da"
            ],
            [
             0.4,
             "#fde0ef"
            ],
            [
             0.5,
             "#f7f7f7"
            ],
            [
             0.6,
             "#e6f5d0"
            ],
            [
             0.7,
             "#b8e186"
            ],
            [
             0.8,
             "#7fbc41"
            ],
            [
             0.9,
             "#4d9221"
            ],
            [
             1,
             "#276419"
            ]
           ],
           "sequential": [
            [
             0,
             "#0d0887"
            ],
            [
             0.1111111111111111,
             "#46039f"
            ],
            [
             0.2222222222222222,
             "#7201a8"
            ],
            [
             0.3333333333333333,
             "#9c179e"
            ],
            [
             0.4444444444444444,
             "#bd3786"
            ],
            [
             0.5555555555555556,
             "#d8576b"
            ],
            [
             0.6666666666666666,
             "#ed7953"
            ],
            [
             0.7777777777777778,
             "#fb9f3a"
            ],
            [
             0.8888888888888888,
             "#fdca26"
            ],
            [
             1,
             "#f0f921"
            ]
           ],
           "sequentialminus": [
            [
             0,
             "#0d0887"
            ],
            [
             0.1111111111111111,
             "#46039f"
            ],
            [
             0.2222222222222222,
             "#7201a8"
            ],
            [
             0.3333333333333333,
             "#9c179e"
            ],
            [
             0.4444444444444444,
             "#bd3786"
            ],
            [
             0.5555555555555556,
             "#d8576b"
            ],
            [
             0.6666666666666666,
             "#ed7953"
            ],
            [
             0.7777777777777778,
             "#fb9f3a"
            ],
            [
             0.8888888888888888,
             "#fdca26"
            ],
            [
             1,
             "#f0f921"
            ]
           ]
          },
          "colorway": [
           "#636efa",
           "#EF553B",
           "#00cc96",
           "#ab63fa",
           "#FFA15A",
           "#19d3f3",
           "#FF6692",
           "#B6E880",
           "#FF97FF",
           "#FECB52"
          ],
          "font": {
           "color": "#2a3f5f"
          },
          "geo": {
           "bgcolor": "white",
           "lakecolor": "white",
           "landcolor": "#E5ECF6",
           "showlakes": true,
           "showland": true,
           "subunitcolor": "white"
          },
          "hoverlabel": {
           "align": "left"
          },
          "hovermode": "closest",
          "mapbox": {
           "style": "light"
          },
          "paper_bgcolor": "white",
          "plot_bgcolor": "#E5ECF6",
          "polar": {
           "angularaxis": {
            "gridcolor": "white",
            "linecolor": "white",
            "ticks": ""
           },
           "bgcolor": "#E5ECF6",
           "radialaxis": {
            "gridcolor": "white",
            "linecolor": "white",
            "ticks": ""
           }
          },
          "scene": {
           "xaxis": {
            "backgroundcolor": "#E5ECF6",
            "gridcolor": "white",
            "gridwidth": 2,
            "linecolor": "white",
            "showbackground": true,
            "ticks": "",
            "zerolinecolor": "white"
           },
           "yaxis": {
            "backgroundcolor": "#E5ECF6",
            "gridcolor": "white",
            "gridwidth": 2,
            "linecolor": "white",
            "showbackground": true,
            "ticks": "",
            "zerolinecolor": "white"
           },
           "zaxis": {
            "backgroundcolor": "#E5ECF6",
            "gridcolor": "white",
            "gridwidth": 2,
            "linecolor": "white",
            "showbackground": true,
            "ticks": "",
            "zerolinecolor": "white"
           }
          },
          "shapedefaults": {
           "line": {
            "color": "#2a3f5f"
           }
          },
          "ternary": {
           "aaxis": {
            "gridcolor": "white",
            "linecolor": "white",
            "ticks": ""
           },
           "baxis": {
            "gridcolor": "white",
            "linecolor": "white",
            "ticks": ""
           },
           "bgcolor": "#E5ECF6",
           "caxis": {
            "gridcolor": "white",
            "linecolor": "white",
            "ticks": ""
           }
          },
          "title": {
           "x": 0.05
          },
          "xaxis": {
           "automargin": true,
           "gridcolor": "white",
           "linecolor": "white",
           "ticks": "",
           "title": {
            "standoff": 15
           },
           "zerolinecolor": "white",
           "zerolinewidth": 2
          },
          "yaxis": {
           "automargin": true,
           "gridcolor": "white",
           "linecolor": "white",
           "ticks": "",
           "title": {
            "standoff": 15
           },
           "zerolinecolor": "white",
           "zerolinewidth": 2
          }
         }
        },
        "title": {
         "text": "Clusters with K-Medoids"
        },
        "xaxis": {
         "title": {
          "text": "X coordinate"
         }
        },
        "yaxis": {
         "title": {
          "text": "Y coordinate"
         }
        }
       }
      }
     },
     "metadata": {},
     "output_type": "display_data"
    }
   ],
   "source": [
    "import pandas as pd\n",
    "import numpy as np\n",
    "import plotly.graph_objects as go\n",
    "\n",
    "# Generate some mock data (replace this with your actual vectors)\n",
    "np.random.seed(0)\n",
    "vectors = np.random.rand(100, 2)  # 100 points in 2D\n",
    "\n",
    "# Mock cluster labels (replace this with your actual cluster labels)\n",
    "clusters = np.random.choice([0, 1, 2, 3, 4], 100)\n",
    "\n",
    "# Mock medoids indices (replace this with your actual medoids)\n",
    "medoids_indices = np.random.choice(range(100), 5, replace=False)\n",
    "medoids = vectors[medoids_indices]\n",
    "\n",
    "# Create a DataFrame for the data\n",
    "df = pd.DataFrame({\n",
    "    'x': vectors[:, 0],\n",
    "    'y': vectors[:, 1],\n",
    "    'label': clusters  # Use cluster labels as labels\n",
    "})\n",
    "\n",
    "# Create the scatter plot with plotly\n",
    "fig = go.Figure()\n",
    "\n",
    "# Add scatter plot for each cluster\n",
    "for cluster_id in np.unique(clusters):\n",
    "    cluster_data = df[df['label'] == cluster_id]\n",
    "    fig.add_trace(go.Scatter(x=cluster_data['x'], y=cluster_data['y'],\n",
    "                             mode='markers',\n",
    "                             name=f'Cluster {cluster_id}'))\n",
    "\n",
    "# Add a scatter plot for medoids\n",
    "fig.add_trace(go.Scatter(x=medoids[:, 0], y=medoids[:, 1],\n",
    "                         mode='markers',\n",
    "                         marker=dict(color='black', size=10, symbol='x'),\n",
    "                         name='Medoids'))\n",
    "\n",
    "# Update layout\n",
    "fig.update_layout(title='Clusters with K-Medoids',\n",
    "                  xaxis_title='X coordinate',\n",
    "                  yaxis_title='Y coordinate',\n",
    "                  legend_title='Cluster')\n",
    "\n",
    "# Show the figure\n",
    "fig.show()\n"
   ]
  },
  {
   "cell_type": "code",
   "execution_count": null,
   "metadata": {},
   "outputs": [],
   "source": []
  }
 ],
 "metadata": {
  "kernelspec": {
   "display_name": "Python 3",
   "language": "python",
   "name": "python3"
  },
  "language_info": {
   "codemirror_mode": {
    "name": "ipython",
    "version": 3
   },
   "file_extension": ".py",
   "mimetype": "text/x-python",
   "name": "python",
   "nbconvert_exporter": "python",
   "pygments_lexer": "ipython3",
   "version": "3.11.5"
  },
  "orig_nbformat": 4
 },
 "nbformat": 4,
 "nbformat_minor": 2
}
