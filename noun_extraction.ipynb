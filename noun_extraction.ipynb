{
 "cells": [
  {
   "cell_type": "code",
   "execution_count": 170,
   "metadata": {},
   "outputs": [],
   "source": [
    "import pandas as pd\n",
    "import numpy as np"
   ]
  },
  {
   "cell_type": "code",
   "execution_count": 171,
   "metadata": {},
   "outputs": [],
   "source": [
    "import nltk"
   ]
  },
  {
   "cell_type": "code",
   "execution_count": 172,
   "metadata": {},
   "outputs": [
    {
     "name": "stderr",
     "output_type": "stream",
     "text": [
      "[nltk_data] Error loading punkt: <urlopen error [SSL:\n",
      "[nltk_data]     CERTIFICATE_VERIFY_FAILED] certificate verify failed:\n",
      "[nltk_data]     unable to get local issuer certificate (_ssl.c:1006)>\n",
      "[nltk_data] Error loading stopwords: <urlopen error [SSL:\n",
      "[nltk_data]     CERTIFICATE_VERIFY_FAILED] certificate verify failed:\n",
      "[nltk_data]     unable to get local issuer certificate (_ssl.c:1006)>\n",
      "[nltk_data] Error loading wordnet: <urlopen error [SSL:\n",
      "[nltk_data]     CERTIFICATE_VERIFY_FAILED] certificate verify failed:\n",
      "[nltk_data]     unable to get local issuer certificate (_ssl.c:1006)>\n"
     ]
    },
    {
     "data": {
      "text/plain": [
       "False"
      ]
     },
     "execution_count": 172,
     "metadata": {},
     "output_type": "execute_result"
    }
   ],
   "source": [
    "# Download NLTK data\n",
    "nltk.download('punkt')\n",
    "nltk.download('stopwords')\n",
    "nltk.download('wordnet')\n"
   ]
  },
  {
   "cell_type": "code",
   "execution_count": 173,
   "metadata": {},
   "outputs": [],
   "source": [
    "import re"
   ]
  },
  {
   "cell_type": "code",
   "execution_count": 174,
   "metadata": {},
   "outputs": [],
   "source": [
    "from nltk.corpus import stopwords\n",
    "from nltk.stem import PorterStemmer\n",
    "from nltk.tokenize import word_tokenize\n",
    "from nltk.stem import WordNetLemmatizer"
   ]
  },
  {
   "cell_type": "code",
   "execution_count": 175,
   "metadata": {},
   "outputs": [],
   "source": [
    "def preprocess_text(text):\n",
    "    # Remove HTML tags (if any)\n",
    "    text = re.sub(r\"<.*?>\", \"\", text)\n",
    "    \n",
    "    # Tokenize the text into words\n",
    "    tokens = nltk.word_tokenize(text)\n",
    "    \n",
    "    # Convert to lowercase\n",
    "    tokens = [token.lower() for token in tokens]\n",
    "    \n",
    "    # Remove punctuation\n",
    "    tokens = [token for token in tokens if token.isalpha()]\n",
    "    \n",
    "    # Remove stopwords\n",
    "    stop_words = set(stopwords.words(\"english\"))\n",
    "    filtered_tokens = [token for token in tokens if token.lower() not in stop_words]\n",
    "    # print(filtered_tokens)\n",
    "    # # Lemmatization\n",
    "    # lemmatizer = WordNetLemmatizer()\n",
    "    # lemmatized_tokens = [lemmatizer.lemmatize(token) for token in filtered_tokens]\n",
    "\n",
    "    # # Join the tokens back into a single string\n",
    "    # processed_text = \" \".join(filtered_tokens)\n",
    "\n",
    "    \n",
    "    return filtered_tokens"
   ]
  },
  {
   "cell_type": "code",
   "execution_count": 176,
   "metadata": {},
   "outputs": [],
   "source": [
    "# amazon=pd.read_csv(\"Eco_Friendly_Products_Test_Full.xlsx - Sheet1.csv\")\n",
    "amazon=pd.read_csv(\"Amazon Reviews Validation Data_1.csv\")"
   ]
  },
  {
   "cell_type": "code",
   "execution_count": 177,
   "metadata": {},
   "outputs": [
    {
     "data": {
      "text/html": [
       "<div>\n",
       "<style scoped>\n",
       "    .dataframe tbody tr th:only-of-type {\n",
       "        vertical-align: middle;\n",
       "    }\n",
       "\n",
       "    .dataframe tbody tr th {\n",
       "        vertical-align: top;\n",
       "    }\n",
       "\n",
       "    .dataframe thead th {\n",
       "        text-align: right;\n",
       "    }\n",
       "</style>\n",
       "<table border=\"1\" class=\"dataframe\">\n",
       "  <thead>\n",
       "    <tr style=\"text-align: right;\">\n",
       "      <th></th>\n",
       "      <th>Reviews</th>\n",
       "      <th>Aspect</th>\n",
       "    </tr>\n",
       "  </thead>\n",
       "  <tbody>\n",
       "    <tr>\n",
       "      <th>0</th>\n",
       "      <td>The settings are perfect for all hair types</td>\n",
       "      <td>Adaptability</td>\n",
       "    </tr>\n",
       "    <tr>\n",
       "      <th>1</th>\n",
       "      <td>with lots of settings</td>\n",
       "      <td>Adaptability</td>\n",
       "    </tr>\n",
       "    <tr>\n",
       "      <th>2</th>\n",
       "      <td>heating element has died</td>\n",
       "      <td>Durability</td>\n",
       "    </tr>\n",
       "    <tr>\n",
       "      <th>3</th>\n",
       "      <td>Also, the diffuser does not stay on at all.</td>\n",
       "      <td>Ease of Use</td>\n",
       "    </tr>\n",
       "    <tr>\n",
       "      <th>4</th>\n",
       "      <td>and it won't stay on it at all. Just flys off....</td>\n",
       "      <td>Ease of Use</td>\n",
       "    </tr>\n",
       "    <tr>\n",
       "      <th>...</th>\n",
       "      <td>...</td>\n",
       "      <td>...</td>\n",
       "    </tr>\n",
       "    <tr>\n",
       "      <th>1176</th>\n",
       "      <td>top no longer stays on.</td>\n",
       "      <td>Performance</td>\n",
       "    </tr>\n",
       "    <tr>\n",
       "      <th>1177</th>\n",
       "      <td>unfortunately one of the lids does not fit at all</td>\n",
       "      <td>Performance</td>\n",
       "    </tr>\n",
       "    <tr>\n",
       "      <th>1178</th>\n",
       "      <td>cheap enough that if my husband loses one, we ...</td>\n",
       "      <td>Price</td>\n",
       "    </tr>\n",
       "    <tr>\n",
       "      <th>1179</th>\n",
       "      <td>economical price</td>\n",
       "      <td>Price</td>\n",
       "    </tr>\n",
       "    <tr>\n",
       "      <th>1180</th>\n",
       "      <td>Also, there is no way to seal the drinking hol...</td>\n",
       "      <td>Safety</td>\n",
       "    </tr>\n",
       "  </tbody>\n",
       "</table>\n",
       "<p>1181 rows × 2 columns</p>\n",
       "</div>"
      ],
      "text/plain": [
       "                                                Reviews        Aspect\n",
       "0           The settings are perfect for all hair types  Adaptability\n",
       "1                                 with lots of settings  Adaptability\n",
       "2                              heating element has died    Durability\n",
       "3           Also, the diffuser does not stay on at all.   Ease of Use\n",
       "4     and it won't stay on it at all. Just flys off....   Ease of Use\n",
       "...                                                 ...           ...\n",
       "1176                            top no longer stays on.   Performance\n",
       "1177  unfortunately one of the lids does not fit at all   Performance\n",
       "1178  cheap enough that if my husband loses one, we ...         Price\n",
       "1179                                   economical price         Price\n",
       "1180  Also, there is no way to seal the drinking hol...        Safety\n",
       "\n",
       "[1181 rows x 2 columns]"
      ]
     },
     "execution_count": 177,
     "metadata": {},
     "output_type": "execute_result"
    }
   ],
   "source": [
    "amazon"
   ]
  },
  {
   "cell_type": "code",
   "execution_count": 178,
   "metadata": {},
   "outputs": [],
   "source": [
    "# a=amazon[\"Review\"]\n",
    "a=amazon[\"Reviews\"]"
   ]
  },
  {
   "cell_type": "code",
   "execution_count": 179,
   "metadata": {},
   "outputs": [],
   "source": [
    "q=amazon[\"Aspect\"]"
   ]
  },
  {
   "cell_type": "code",
   "execution_count": 180,
   "metadata": {},
   "outputs": [],
   "source": [
    "all_values = q.str.split(',').explode()"
   ]
  },
  {
   "cell_type": "code",
   "execution_count": 181,
   "metadata": {},
   "outputs": [],
   "source": [
    "unique_values = all_values.unique()"
   ]
  },
  {
   "cell_type": "code",
   "execution_count": 182,
   "metadata": {},
   "outputs": [],
   "source": [
    "len_aspect=len(unique_values)"
   ]
  },
  {
   "cell_type": "code",
   "execution_count": 183,
   "metadata": {},
   "outputs": [
    {
     "data": {
      "text/plain": [
       "12"
      ]
     },
     "execution_count": 183,
     "metadata": {},
     "output_type": "execute_result"
    }
   ],
   "source": [
    "len_aspect"
   ]
  },
  {
   "cell_type": "code",
   "execution_count": 184,
   "metadata": {},
   "outputs": [],
   "source": [
    "processed_series = a.apply(preprocess_text)"
   ]
  },
  {
   "cell_type": "code",
   "execution_count": 185,
   "metadata": {},
   "outputs": [
    {
     "data": {
      "text/plain": [
       "0                        [settings, perfect, hair, types]\n",
       "1                                        [lots, settings]\n",
       "2                                [heating, element, died]\n",
       "3                                  [also, diffuser, stay]\n",
       "4                        [wo, stay, flys, see, one, work]\n",
       "                              ...                        \n",
       "1176                                 [top, longer, stays]\n",
       "1177                      [unfortunately, one, lids, fit]\n",
       "1178        [cheap, enough, husband, loses, one, wo, cry]\n",
       "1179                                  [economical, price]\n",
       "1180    [also, way, seal, drinking, hole, car, hit, bu...\n",
       "Name: Reviews, Length: 1181, dtype: object"
      ]
     },
     "execution_count": 185,
     "metadata": {},
     "output_type": "execute_result"
    }
   ],
   "source": [
    "processed_series"
   ]
  },
  {
   "cell_type": "code",
   "execution_count": 186,
   "metadata": {},
   "outputs": [
    {
     "data": {
      "text/plain": [
       "[('settings', 'NNS'), ('perfect', 'VBP'), ('hair', 'NN'), ('types', 'NNS')]"
      ]
     },
     "execution_count": 186,
     "metadata": {},
     "output_type": "execute_result"
    }
   ],
   "source": [
    "parts_of_speech = nltk.pos_tag(processed_series[0])\n",
    "parts_of_speech"
   ]
  },
  {
   "cell_type": "code",
   "execution_count": 187,
   "metadata": {},
   "outputs": [],
   "source": [
    "def extract_nouns(words):\n",
    "    \"\"\"Extract and return nouns from a given list of words.\"\"\"\n",
    "    # Join the list of words into a sentence\n",
    "    sentence = ' '.join(words)\n",
    "\n",
    "    # Tokenize and POS tag the words in the sentence\n",
    "    tokens = nltk.word_tokenize(sentence)\n",
    "    parts_of_speech = nltk.pos_tag(tokens)\n",
    "\n",
    "    # Extract and return words tagged as NN, NNS, NNP, or NNPS\n",
    "    return [word for word, pos in parts_of_speech if pos in ['NN', 'NNS', 'NNP', 'NNPS']]\n"
   ]
  },
  {
   "cell_type": "code",
   "execution_count": 188,
   "metadata": {},
   "outputs": [
    {
     "name": "stdout",
     "output_type": "stream",
     "text": [
      "0                               [settings, hair, types]\n",
      "1                                      [lots, settings]\n",
      "2                                             [element]\n",
      "3                                      [diffuser, stay]\n",
      "4                                                [work]\n",
      "                             ...                       \n",
      "1176                                            [stays]\n",
      "1177                                        [lids, fit]\n",
      "1178                                          [husband]\n",
      "1179                                            [price]\n",
      "1180    [way, drinking, hole, car, liquid, cup, holder]\n",
      "Name: Reviews, Length: 1181, dtype: object\n"
     ]
    }
   ],
   "source": [
    "nouns = processed_series.apply(extract_nouns)\n",
    "print(nouns)"
   ]
  },
  {
   "cell_type": "code",
   "execution_count": 189,
   "metadata": {},
   "outputs": [
    {
     "name": "stdout",
     "output_type": "stream",
     "text": [
      "Requirement already satisfied: textblob in /Library/Frameworks/Python.framework/Versions/3.11/lib/python3.11/site-packages (0.18.0.post0)\n",
      "Requirement already satisfied: nltk>=3.8 in /Library/Frameworks/Python.framework/Versions/3.11/lib/python3.11/site-packages (from textblob) (3.8.1)\n",
      "Requirement already satisfied: click in /Library/Frameworks/Python.framework/Versions/3.11/lib/python3.11/site-packages (from nltk>=3.8->textblob) (8.1.7)\n",
      "Requirement already satisfied: joblib in /Library/Frameworks/Python.framework/Versions/3.11/lib/python3.11/site-packages (from nltk>=3.8->textblob) (1.3.2)\n",
      "Requirement already satisfied: regex>=2021.8.3 in /Library/Frameworks/Python.framework/Versions/3.11/lib/python3.11/site-packages (from nltk>=3.8->textblob) (2023.8.8)\n",
      "Requirement already satisfied: tqdm in /Library/Frameworks/Python.framework/Versions/3.11/lib/python3.11/site-packages (from nltk>=3.8->textblob) (4.66.1)\n",
      "\n",
      "\u001b[1m[\u001b[0m\u001b[34;49mnotice\u001b[0m\u001b[1;39;49m]\u001b[0m\u001b[39;49m A new release of pip is available: \u001b[0m\u001b[31;49m23.3.1\u001b[0m\u001b[39;49m -> \u001b[0m\u001b[32;49m24.0\u001b[0m\n",
      "\u001b[1m[\u001b[0m\u001b[34;49mnotice\u001b[0m\u001b[1;39;49m]\u001b[0m\u001b[39;49m To update, run: \u001b[0m\u001b[32;49mpip install --upgrade pip\u001b[0m\n",
      "Note: you may need to restart the kernel to use updated packages.\n"
     ]
    }
   ],
   "source": [
    "pip install -U textblob"
   ]
  },
  {
   "cell_type": "code",
   "execution_count": 190,
   "metadata": {},
   "outputs": [],
   "source": [
    "from textblob import TextBlob\n",
    "\n",
    "def extract_nouns_textblob(sentence):\n",
    "    \n",
    "    \"\"\"Extract and return nouns from a given sentence using TextBlob.\"\"\"\n",
    "    sentence = ' '.join(sentence)\n",
    "    blob = TextBlob(sentence)\n",
    "    return [word for word, tag in blob.tags if tag in [\"NN\", \"NNS\", \"NNP\", \"NNPS\"]]\n"
   ]
  },
  {
   "cell_type": "code",
   "execution_count": 191,
   "metadata": {},
   "outputs": [
    {
     "name": "stdout",
     "output_type": "stream",
     "text": [
      "0                               [settings, hair, types]\n",
      "1                                      [lots, settings]\n",
      "2                                             [element]\n",
      "3                                      [diffuser, stay]\n",
      "4                                                [work]\n",
      "                             ...                       \n",
      "1176                                            [stays]\n",
      "1177                                        [lids, fit]\n",
      "1178                                          [husband]\n",
      "1179                                            [price]\n",
      "1180    [way, drinking, hole, car, liquid, cup, holder]\n",
      "Name: Reviews, Length: 1181, dtype: object\n"
     ]
    }
   ],
   "source": [
    "nouns_testblob = processed_series.apply(extract_nouns_textblob)\n",
    "print(nouns)"
   ]
  },
  {
   "cell_type": "code",
   "execution_count": 192,
   "metadata": {},
   "outputs": [
    {
     "name": "stdout",
     "output_type": "stream",
     "text": [
      "Requirement already satisfied: spacy in /Library/Frameworks/Python.framework/Versions/3.11/lib/python3.11/site-packages (3.7.4)\n",
      "Requirement already satisfied: spacy-legacy<3.1.0,>=3.0.11 in /Library/Frameworks/Python.framework/Versions/3.11/lib/python3.11/site-packages (from spacy) (3.0.12)\n",
      "Requirement already satisfied: spacy-loggers<2.0.0,>=1.0.0 in /Library/Frameworks/Python.framework/Versions/3.11/lib/python3.11/site-packages (from spacy) (1.0.5)\n",
      "Requirement already satisfied: murmurhash<1.1.0,>=0.28.0 in /Library/Frameworks/Python.framework/Versions/3.11/lib/python3.11/site-packages (from spacy) (1.0.10)\n",
      "Requirement already satisfied: cymem<2.1.0,>=2.0.2 in /Library/Frameworks/Python.framework/Versions/3.11/lib/python3.11/site-packages (from spacy) (2.0.8)\n",
      "Requirement already satisfied: preshed<3.1.0,>=3.0.2 in /Library/Frameworks/Python.framework/Versions/3.11/lib/python3.11/site-packages (from spacy) (3.0.9)\n",
      "Requirement already satisfied: thinc<8.3.0,>=8.2.2 in /Library/Frameworks/Python.framework/Versions/3.11/lib/python3.11/site-packages (from spacy) (8.2.3)\n",
      "Requirement already satisfied: wasabi<1.2.0,>=0.9.1 in /Library/Frameworks/Python.framework/Versions/3.11/lib/python3.11/site-packages (from spacy) (1.1.2)\n",
      "Requirement already satisfied: srsly<3.0.0,>=2.4.3 in /Library/Frameworks/Python.framework/Versions/3.11/lib/python3.11/site-packages (from spacy) (2.4.8)\n",
      "Requirement already satisfied: catalogue<2.1.0,>=2.0.6 in /Library/Frameworks/Python.framework/Versions/3.11/lib/python3.11/site-packages (from spacy) (2.0.10)\n",
      "Requirement already satisfied: weasel<0.4.0,>=0.1.0 in /Library/Frameworks/Python.framework/Versions/3.11/lib/python3.11/site-packages (from spacy) (0.3.4)\n",
      "Requirement already satisfied: typer<0.10.0,>=0.3.0 in /Library/Frameworks/Python.framework/Versions/3.11/lib/python3.11/site-packages (from spacy) (0.9.0)\n",
      "Requirement already satisfied: smart-open<7.0.0,>=5.2.1 in /Library/Frameworks/Python.framework/Versions/3.11/lib/python3.11/site-packages (from spacy) (6.3.0)\n",
      "Requirement already satisfied: tqdm<5.0.0,>=4.38.0 in /Library/Frameworks/Python.framework/Versions/3.11/lib/python3.11/site-packages (from spacy) (4.66.1)\n",
      "Requirement already satisfied: requests<3.0.0,>=2.13.0 in /Library/Frameworks/Python.framework/Versions/3.11/lib/python3.11/site-packages (from spacy) (2.31.0)\n",
      "Requirement already satisfied: pydantic!=1.8,!=1.8.1,<3.0.0,>=1.7.4 in /Library/Frameworks/Python.framework/Versions/3.11/lib/python3.11/site-packages (from spacy) (2.6.3)\n",
      "Requirement already satisfied: jinja2 in /Library/Frameworks/Python.framework/Versions/3.11/lib/python3.11/site-packages (from spacy) (3.1.2)\n",
      "Requirement already satisfied: setuptools in /Library/Frameworks/Python.framework/Versions/3.11/lib/python3.11/site-packages (from spacy) (65.5.0)\n",
      "Requirement already satisfied: packaging>=20.0 in /Users/divyamsobti/Library/Python/3.11/lib/python/site-packages (from spacy) (23.1)\n",
      "Requirement already satisfied: langcodes<4.0.0,>=3.2.0 in /Library/Frameworks/Python.framework/Versions/3.11/lib/python3.11/site-packages (from spacy) (3.3.0)\n",
      "Requirement already satisfied: numpy>=1.19.0 in /Library/Frameworks/Python.framework/Versions/3.11/lib/python3.11/site-packages (from spacy) (1.24.3)\n",
      "Requirement already satisfied: annotated-types>=0.4.0 in /Library/Frameworks/Python.framework/Versions/3.11/lib/python3.11/site-packages (from pydantic!=1.8,!=1.8.1,<3.0.0,>=1.7.4->spacy) (0.6.0)\n",
      "Requirement already satisfied: pydantic-core==2.16.3 in /Library/Frameworks/Python.framework/Versions/3.11/lib/python3.11/site-packages (from pydantic!=1.8,!=1.8.1,<3.0.0,>=1.7.4->spacy) (2.16.3)\n",
      "Requirement already satisfied: typing-extensions>=4.6.1 in /Library/Frameworks/Python.framework/Versions/3.11/lib/python3.11/site-packages (from pydantic!=1.8,!=1.8.1,<3.0.0,>=1.7.4->spacy) (4.10.0)\n",
      "Requirement already satisfied: charset-normalizer<4,>=2 in /Library/Frameworks/Python.framework/Versions/3.11/lib/python3.11/site-packages (from requests<3.0.0,>=2.13.0->spacy) (3.2.0)\n",
      "Requirement already satisfied: idna<4,>=2.5 in /Library/Frameworks/Python.framework/Versions/3.11/lib/python3.11/site-packages (from requests<3.0.0,>=2.13.0->spacy) (3.4)\n",
      "Requirement already satisfied: urllib3<3,>=1.21.1 in /Library/Frameworks/Python.framework/Versions/3.11/lib/python3.11/site-packages (from requests<3.0.0,>=2.13.0->spacy) (1.26.16)\n",
      "Requirement already satisfied: certifi>=2017.4.17 in /Library/Frameworks/Python.framework/Versions/3.11/lib/python3.11/site-packages (from requests<3.0.0,>=2.13.0->spacy) (2023.7.22)\n",
      "Requirement already satisfied: blis<0.8.0,>=0.7.8 in /Library/Frameworks/Python.framework/Versions/3.11/lib/python3.11/site-packages (from thinc<8.3.0,>=8.2.2->spacy) (0.7.11)\n",
      "Requirement already satisfied: confection<1.0.0,>=0.0.1 in /Library/Frameworks/Python.framework/Versions/3.11/lib/python3.11/site-packages (from thinc<8.3.0,>=8.2.2->spacy) (0.1.4)\n",
      "Requirement already satisfied: click<9.0.0,>=7.1.1 in /Library/Frameworks/Python.framework/Versions/3.11/lib/python3.11/site-packages (from typer<0.10.0,>=0.3.0->spacy) (8.1.7)\n",
      "Requirement already satisfied: cloudpathlib<0.17.0,>=0.7.0 in /Library/Frameworks/Python.framework/Versions/3.11/lib/python3.11/site-packages (from weasel<0.4.0,>=0.1.0->spacy) (0.16.0)\n",
      "Requirement already satisfied: MarkupSafe>=2.0 in /Library/Frameworks/Python.framework/Versions/3.11/lib/python3.11/site-packages (from jinja2->spacy) (2.1.3)\n",
      "\n",
      "\u001b[1m[\u001b[0m\u001b[34;49mnotice\u001b[0m\u001b[1;39;49m]\u001b[0m\u001b[39;49m A new release of pip is available: \u001b[0m\u001b[31;49m23.3.1\u001b[0m\u001b[39;49m -> \u001b[0m\u001b[32;49m24.0\u001b[0m\n",
      "\u001b[1m[\u001b[0m\u001b[34;49mnotice\u001b[0m\u001b[1;39;49m]\u001b[0m\u001b[39;49m To update, run: \u001b[0m\u001b[32;49mpip install --upgrade pip\u001b[0m\n",
      "Note: you may need to restart the kernel to use updated packages.\n"
     ]
    }
   ],
   "source": [
    "pip install -U spacy"
   ]
  },
  {
   "cell_type": "code",
   "execution_count": 193,
   "metadata": {},
   "outputs": [],
   "source": [
    "import spacy"
   ]
  },
  {
   "cell_type": "code",
   "execution_count": 194,
   "metadata": {},
   "outputs": [],
   "source": [
    "nlpt = spacy.load(\"en_core_web_sm\")"
   ]
  },
  {
   "cell_type": "code",
   "execution_count": 195,
   "metadata": {},
   "outputs": [
    {
     "name": "stdout",
     "output_type": "stream",
     "text": [
      "Collecting en-core-web-sm==3.7.1\n",
      "  Downloading https://github.com/explosion/spacy-models/releases/download/en_core_web_sm-3.7.1/en_core_web_sm-3.7.1-py3-none-any.whl (12.8 MB)\n",
      "\u001b[2K     \u001b[90m━━━━━━━━━━━━━━━━━━━━━━━━━━━━━━━━━━━━━━━━\u001b[0m \u001b[32m12.8/12.8 MB\u001b[0m \u001b[31m49.3 MB/s\u001b[0m eta \u001b[36m0:00:00\u001b[0m00:01\u001b[0m00:01\u001b[0m\n",
      "\u001b[?25hRequirement already satisfied: spacy<3.8.0,>=3.7.2 in /Library/Frameworks/Python.framework/Versions/3.11/lib/python3.11/site-packages (from en-core-web-sm==3.7.1) (3.7.4)\n",
      "Requirement already satisfied: spacy-legacy<3.1.0,>=3.0.11 in /Library/Frameworks/Python.framework/Versions/3.11/lib/python3.11/site-packages (from spacy<3.8.0,>=3.7.2->en-core-web-sm==3.7.1) (3.0.12)\n",
      "Requirement already satisfied: spacy-loggers<2.0.0,>=1.0.0 in /Library/Frameworks/Python.framework/Versions/3.11/lib/python3.11/site-packages (from spacy<3.8.0,>=3.7.2->en-core-web-sm==3.7.1) (1.0.5)\n",
      "Requirement already satisfied: murmurhash<1.1.0,>=0.28.0 in /Library/Frameworks/Python.framework/Versions/3.11/lib/python3.11/site-packages (from spacy<3.8.0,>=3.7.2->en-core-web-sm==3.7.1) (1.0.10)\n",
      "Requirement already satisfied: cymem<2.1.0,>=2.0.2 in /Library/Frameworks/Python.framework/Versions/3.11/lib/python3.11/site-packages (from spacy<3.8.0,>=3.7.2->en-core-web-sm==3.7.1) (2.0.8)\n",
      "Requirement already satisfied: preshed<3.1.0,>=3.0.2 in /Library/Frameworks/Python.framework/Versions/3.11/lib/python3.11/site-packages (from spacy<3.8.0,>=3.7.2->en-core-web-sm==3.7.1) (3.0.9)\n",
      "Requirement already satisfied: thinc<8.3.0,>=8.2.2 in /Library/Frameworks/Python.framework/Versions/3.11/lib/python3.11/site-packages (from spacy<3.8.0,>=3.7.2->en-core-web-sm==3.7.1) (8.2.3)\n",
      "Requirement already satisfied: wasabi<1.2.0,>=0.9.1 in /Library/Frameworks/Python.framework/Versions/3.11/lib/python3.11/site-packages (from spacy<3.8.0,>=3.7.2->en-core-web-sm==3.7.1) (1.1.2)\n",
      "Requirement already satisfied: srsly<3.0.0,>=2.4.3 in /Library/Frameworks/Python.framework/Versions/3.11/lib/python3.11/site-packages (from spacy<3.8.0,>=3.7.2->en-core-web-sm==3.7.1) (2.4.8)\n",
      "Requirement already satisfied: catalogue<2.1.0,>=2.0.6 in /Library/Frameworks/Python.framework/Versions/3.11/lib/python3.11/site-packages (from spacy<3.8.0,>=3.7.2->en-core-web-sm==3.7.1) (2.0.10)\n",
      "Requirement already satisfied: weasel<0.4.0,>=0.1.0 in /Library/Frameworks/Python.framework/Versions/3.11/lib/python3.11/site-packages (from spacy<3.8.0,>=3.7.2->en-core-web-sm==3.7.1) (0.3.4)\n",
      "Requirement already satisfied: typer<0.10.0,>=0.3.0 in /Library/Frameworks/Python.framework/Versions/3.11/lib/python3.11/site-packages (from spacy<3.8.0,>=3.7.2->en-core-web-sm==3.7.1) (0.9.0)\n",
      "Requirement already satisfied: smart-open<7.0.0,>=5.2.1 in /Library/Frameworks/Python.framework/Versions/3.11/lib/python3.11/site-packages (from spacy<3.8.0,>=3.7.2->en-core-web-sm==3.7.1) (6.3.0)\n",
      "Requirement already satisfied: tqdm<5.0.0,>=4.38.0 in /Library/Frameworks/Python.framework/Versions/3.11/lib/python3.11/site-packages (from spacy<3.8.0,>=3.7.2->en-core-web-sm==3.7.1) (4.66.1)\n",
      "Requirement already satisfied: requests<3.0.0,>=2.13.0 in /Library/Frameworks/Python.framework/Versions/3.11/lib/python3.11/site-packages (from spacy<3.8.0,>=3.7.2->en-core-web-sm==3.7.1) (2.31.0)\n",
      "Requirement already satisfied: pydantic!=1.8,!=1.8.1,<3.0.0,>=1.7.4 in /Library/Frameworks/Python.framework/Versions/3.11/lib/python3.11/site-packages (from spacy<3.8.0,>=3.7.2->en-core-web-sm==3.7.1) (2.6.3)\n",
      "Requirement already satisfied: jinja2 in /Library/Frameworks/Python.framework/Versions/3.11/lib/python3.11/site-packages (from spacy<3.8.0,>=3.7.2->en-core-web-sm==3.7.1) (3.1.2)\n",
      "Requirement already satisfied: setuptools in /Library/Frameworks/Python.framework/Versions/3.11/lib/python3.11/site-packages (from spacy<3.8.0,>=3.7.2->en-core-web-sm==3.7.1) (65.5.0)\n",
      "Requirement already satisfied: packaging>=20.0 in /Users/divyamsobti/Library/Python/3.11/lib/python/site-packages (from spacy<3.8.0,>=3.7.2->en-core-web-sm==3.7.1) (23.1)\n",
      "Requirement already satisfied: langcodes<4.0.0,>=3.2.0 in /Library/Frameworks/Python.framework/Versions/3.11/lib/python3.11/site-packages (from spacy<3.8.0,>=3.7.2->en-core-web-sm==3.7.1) (3.3.0)\n",
      "Requirement already satisfied: numpy>=1.19.0 in /Library/Frameworks/Python.framework/Versions/3.11/lib/python3.11/site-packages (from spacy<3.8.0,>=3.7.2->en-core-web-sm==3.7.1) (1.24.3)\n",
      "Requirement already satisfied: annotated-types>=0.4.0 in /Library/Frameworks/Python.framework/Versions/3.11/lib/python3.11/site-packages (from pydantic!=1.8,!=1.8.1,<3.0.0,>=1.7.4->spacy<3.8.0,>=3.7.2->en-core-web-sm==3.7.1) (0.6.0)\n",
      "Requirement already satisfied: pydantic-core==2.16.3 in /Library/Frameworks/Python.framework/Versions/3.11/lib/python3.11/site-packages (from pydantic!=1.8,!=1.8.1,<3.0.0,>=1.7.4->spacy<3.8.0,>=3.7.2->en-core-web-sm==3.7.1) (2.16.3)\n",
      "Requirement already satisfied: typing-extensions>=4.6.1 in /Library/Frameworks/Python.framework/Versions/3.11/lib/python3.11/site-packages (from pydantic!=1.8,!=1.8.1,<3.0.0,>=1.7.4->spacy<3.8.0,>=3.7.2->en-core-web-sm==3.7.1) (4.10.0)\n",
      "Requirement already satisfied: charset-normalizer<4,>=2 in /Library/Frameworks/Python.framework/Versions/3.11/lib/python3.11/site-packages (from requests<3.0.0,>=2.13.0->spacy<3.8.0,>=3.7.2->en-core-web-sm==3.7.1) (3.2.0)\n",
      "Requirement already satisfied: idna<4,>=2.5 in /Library/Frameworks/Python.framework/Versions/3.11/lib/python3.11/site-packages (from requests<3.0.0,>=2.13.0->spacy<3.8.0,>=3.7.2->en-core-web-sm==3.7.1) (3.4)\n",
      "Requirement already satisfied: urllib3<3,>=1.21.1 in /Library/Frameworks/Python.framework/Versions/3.11/lib/python3.11/site-packages (from requests<3.0.0,>=2.13.0->spacy<3.8.0,>=3.7.2->en-core-web-sm==3.7.1) (1.26.16)\n",
      "Requirement already satisfied: certifi>=2017.4.17 in /Library/Frameworks/Python.framework/Versions/3.11/lib/python3.11/site-packages (from requests<3.0.0,>=2.13.0->spacy<3.8.0,>=3.7.2->en-core-web-sm==3.7.1) (2023.7.22)\n",
      "Requirement already satisfied: blis<0.8.0,>=0.7.8 in /Library/Frameworks/Python.framework/Versions/3.11/lib/python3.11/site-packages (from thinc<8.3.0,>=8.2.2->spacy<3.8.0,>=3.7.2->en-core-web-sm==3.7.1) (0.7.11)\n",
      "Requirement already satisfied: confection<1.0.0,>=0.0.1 in /Library/Frameworks/Python.framework/Versions/3.11/lib/python3.11/site-packages (from thinc<8.3.0,>=8.2.2->spacy<3.8.0,>=3.7.2->en-core-web-sm==3.7.1) (0.1.4)\n",
      "Requirement already satisfied: click<9.0.0,>=7.1.1 in /Library/Frameworks/Python.framework/Versions/3.11/lib/python3.11/site-packages (from typer<0.10.0,>=0.3.0->spacy<3.8.0,>=3.7.2->en-core-web-sm==3.7.1) (8.1.7)\n",
      "Requirement already satisfied: cloudpathlib<0.17.0,>=0.7.0 in /Library/Frameworks/Python.framework/Versions/3.11/lib/python3.11/site-packages (from weasel<0.4.0,>=0.1.0->spacy<3.8.0,>=3.7.2->en-core-web-sm==3.7.1) (0.16.0)\n",
      "Requirement already satisfied: MarkupSafe>=2.0 in /Library/Frameworks/Python.framework/Versions/3.11/lib/python3.11/site-packages (from jinja2->spacy<3.8.0,>=3.7.2->en-core-web-sm==3.7.1) (2.1.3)\n",
      "\n",
      "\u001b[1m[\u001b[0m\u001b[34;49mnotice\u001b[0m\u001b[1;39;49m]\u001b[0m\u001b[39;49m A new release of pip is available: \u001b[0m\u001b[31;49m23.3.1\u001b[0m\u001b[39;49m -> \u001b[0m\u001b[32;49m24.0\u001b[0m\n",
      "\u001b[1m[\u001b[0m\u001b[34;49mnotice\u001b[0m\u001b[1;39;49m]\u001b[0m\u001b[39;49m To update, run: \u001b[0m\u001b[32;49mpip install --upgrade pip\u001b[0m\n",
      "\u001b[38;5;2m✔ Download and installation successful\u001b[0m\n",
      "You can now load the package via spacy.load('en_core_web_sm')\n"
     ]
    }
   ],
   "source": [
    "!python3 -m spacy download en_core_web_sm"
   ]
  },
  {
   "cell_type": "code",
   "execution_count": 196,
   "metadata": {},
   "outputs": [],
   "source": [
    "def extract_nouns_spacy(sentence):\n",
    "    \"\"\"Extract and return nouns from a given sentence using spaCy.\"\"\"\n",
    "    sentence = ' '.join(sentence)\n",
    "    doc = nlpt(sentence)\n",
    "    return [token.text for token in doc if token.pos_ in [\"NOUN\"]]"
   ]
  },
  {
   "cell_type": "code",
   "execution_count": 197,
   "metadata": {},
   "outputs": [
    {
     "data": {
      "text/plain": [
       "0                                 [settings, hair, types]\n",
       "1                                        [lots, settings]\n",
       "2                                      [heating, element]\n",
       "3                                              [diffuser]\n",
       "4                                            [flys, work]\n",
       "                              ...                        \n",
       "1176                                                [top]\n",
       "1177                                          [lids, fit]\n",
       "1178                                            [husband]\n",
       "1179                                              [price]\n",
       "1180    [way, seal, drinking, hole, car, bump, stop, l...\n",
       "Name: Reviews, Length: 1181, dtype: object"
      ]
     },
     "execution_count": 197,
     "metadata": {},
     "output_type": "execute_result"
    }
   ],
   "source": [
    "doc = processed_series.apply(extract_nouns_spacy)\n",
    "doc"
   ]
  },
  {
   "cell_type": "code",
   "execution_count": 198,
   "metadata": {},
   "outputs": [
    {
     "data": {
      "text/plain": [
       "['way',\n",
       " 'seal',\n",
       " 'drinking',\n",
       " 'hole',\n",
       " 'car',\n",
       " 'bump',\n",
       " 'stop',\n",
       " 'liquid',\n",
       " 'cup',\n",
       " 'holder']"
      ]
     },
     "execution_count": 198,
     "metadata": {},
     "output_type": "execute_result"
    }
   ],
   "source": [
    "doc[1180]"
   ]
  },
  {
   "cell_type": "code",
   "execution_count": 199,
   "metadata": {},
   "outputs": [
    {
     "name": "stdout",
     "output_type": "stream",
     "text": [
      "Loading GloVe Model\n",
      "Done. 400000 words loaded!\n"
     ]
    }
   ],
   "source": [
    "def load_glove_model(glove_file):\n",
    "    \"\"\"Load the GloVe model from a file.\"\"\"\n",
    "    print(\"Loading GloVe Model\")\n",
    "    with open(glove_file, 'r') as file:\n",
    "        model = {}\n",
    "        for line in file:\n",
    "            split_line = line.split()\n",
    "            word = split_line[0]\n",
    "            embedding = np.array([float(val) for val in split_line[1:]])\n",
    "            model[word] = embedding\n",
    "        print(\"Done. {} words loaded!\".format(len(model)))\n",
    "    return model\n",
    "\n",
    "glove_model = load_glove_model(\"/Users/divyamsobti/Downloads/glove.6B/glove.6B.100d.txt\")\n"
   ]
  },
  {
   "cell_type": "code",
   "execution_count": 200,
   "metadata": {},
   "outputs": [],
   "source": [
    "sentences_testblob=np.array(nouns_testblob)\n"
   ]
  },
  {
   "cell_type": "code",
   "execution_count": 201,
   "metadata": {},
   "outputs": [],
   "source": [
    "sentences_spacy=np.array(doc)"
   ]
  },
  {
   "cell_type": "code",
   "execution_count": 202,
   "metadata": {},
   "outputs": [],
   "source": [
    "sentences_nltk=np.array(nouns)"
   ]
  },
  {
   "cell_type": "code",
   "execution_count": 203,
   "metadata": {},
   "outputs": [],
   "source": [
    "sentences=np.array(processed_series)"
   ]
  },
  {
   "cell_type": "code",
   "execution_count": 204,
   "metadata": {},
   "outputs": [],
   "source": [
    "def sentence_vector(word_list, model, vector_size=100):\n",
    "    \"\"\"Generate a sentence vector by averaging the word vectors.\"\"\"\n",
    "    word_vectors = [model[word] for word in word_list if word in model]\n",
    "    if len(word_vectors) == 0:\n",
    "        return np.zeros(vector_size)\n",
    "    return np.mean(word_vectors, axis=0)\n",
    "\n",
    "\n"
   ]
  },
  {
   "cell_type": "code",
   "execution_count": 205,
   "metadata": {},
   "outputs": [],
   "source": [
    "# Usage\n",
    "sentence_vectors = np.array([sentence_vector(sentence, glove_model) for sentence in sentences])"
   ]
  },
  {
   "cell_type": "code",
   "execution_count": 206,
   "metadata": {},
   "outputs": [],
   "source": [
    "sentence_vectors_testblob = np.array([sentence_vector(sentence, glove_model) for sentence in sentences_testblob])"
   ]
  },
  {
   "cell_type": "code",
   "execution_count": 207,
   "metadata": {},
   "outputs": [],
   "source": [
    "sentence_vectors_spacy = np.array([sentence_vector(sentence, glove_model) for sentence in sentences_spacy])"
   ]
  },
  {
   "cell_type": "code",
   "execution_count": 208,
   "metadata": {},
   "outputs": [],
   "source": [
    "sentence_vectors_nltk = np.array([sentence_vector(sentence, glove_model) for sentence in sentences_nltk])"
   ]
  },
  {
   "cell_type": "markdown",
   "metadata": {},
   "source": [
    "# Cluster for 12 aspects"
   ]
  },
  {
   "cell_type": "code",
   "execution_count": 209,
   "metadata": {},
   "outputs": [
    {
     "name": "stderr",
     "output_type": "stream",
     "text": [
      "/Library/Frameworks/Python.framework/Versions/3.11/lib/python3.11/site-packages/sklearn/cluster/_kmeans.py:1412: FutureWarning:\n",
      "\n",
      "The default value of `n_init` will change from 10 to 'auto' in 1.4. Set the value of `n_init` explicitly to suppress the warning\n",
      "\n"
     ]
    }
   ],
   "source": [
    "from sklearn.cluster import KMeans\n",
    "\n",
    "num_clusters = len_aspect  # Example number of clusters\n",
    "kmeans = KMeans(n_clusters=num_clusters)\n",
    "kmeans.fit(sentence_vectors)\n",
    "labels = kmeans.labels_"
   ]
  },
  {
   "cell_type": "code",
   "execution_count": 210,
   "metadata": {},
   "outputs": [
    {
     "name": "stderr",
     "output_type": "stream",
     "text": [
      "/Library/Frameworks/Python.framework/Versions/3.11/lib/python3.11/site-packages/sklearn/cluster/_kmeans.py:1412: FutureWarning:\n",
      "\n",
      "The default value of `n_init` will change from 10 to 'auto' in 1.4. Set the value of `n_init` explicitly to suppress the warning\n",
      "\n"
     ]
    }
   ],
   "source": [
    "num_clusters = len_aspect  # Example number of clusters\n",
    "kmeans_textblob = KMeans(n_clusters=num_clusters)\n",
    "kmeans_textblob.fit(sentence_vectors_testblob)\n",
    "labels_textblob = kmeans_textblob.labels_"
   ]
  },
  {
   "cell_type": "code",
   "execution_count": 211,
   "metadata": {},
   "outputs": [
    {
     "name": "stderr",
     "output_type": "stream",
     "text": [
      "/Library/Frameworks/Python.framework/Versions/3.11/lib/python3.11/site-packages/sklearn/cluster/_kmeans.py:1412: FutureWarning:\n",
      "\n",
      "The default value of `n_init` will change from 10 to 'auto' in 1.4. Set the value of `n_init` explicitly to suppress the warning\n",
      "\n"
     ]
    }
   ],
   "source": [
    "kmeans_spacy = KMeans(n_clusters=num_clusters)\n",
    "kmeans_spacy.fit(sentence_vectors_spacy)\n",
    "labels_spacy = kmeans_spacy.labels_"
   ]
  },
  {
   "cell_type": "code",
   "execution_count": 212,
   "metadata": {},
   "outputs": [
    {
     "name": "stderr",
     "output_type": "stream",
     "text": [
      "/Library/Frameworks/Python.framework/Versions/3.11/lib/python3.11/site-packages/sklearn/cluster/_kmeans.py:1412: FutureWarning:\n",
      "\n",
      "The default value of `n_init` will change from 10 to 'auto' in 1.4. Set the value of `n_init` explicitly to suppress the warning\n",
      "\n"
     ]
    }
   ],
   "source": [
    "kmeans_nltk = KMeans(n_clusters=num_clusters)\n",
    "kmeans_nltk.fit(sentence_vectors_nltk)\n",
    "labels_nltk = kmeans_nltk.labels_"
   ]
  },
  {
   "cell_type": "markdown",
   "metadata": {},
   "source": [
    "# ploting"
   ]
  },
  {
   "cell_type": "code",
   "execution_count": 213,
   "metadata": {},
   "outputs": [],
   "source": [
    "import plotly.express as px\n",
    "import plotly.io as pio\n",
    "pio.renderers.default = \"browser\""
   ]
  },
  {
   "cell_type": "code",
   "execution_count": 214,
   "metadata": {},
   "outputs": [],
   "source": [
    "from sklearn.manifold import TSNE\n",
    "\n",
    "perplexity_value = min(30, len(sentence_vectors) - 1)\n",
    "tsne = TSNE(n_components=2, perplexity=perplexity_value, random_state=0)\n",
    "reduced_vectors_2d = tsne.fit_transform(sentence_vectors)"
   ]
  },
  {
   "cell_type": "code",
   "execution_count": 215,
   "metadata": {},
   "outputs": [],
   "source": [
    "import plotly.graph_objects as go\n",
    "import plotly.io as pio\n",
    "\n",
    "fig = go.Figure()\n",
    "\n",
    "for i in range(num_clusters):\n",
    "    indices = labels == i\n",
    "    fig.add_trace(go.Scatter(\n",
    "        x=reduced_vectors_2d[indices, 0],\n",
    "        y=reduced_vectors_2d[indices, 1],\n",
    "        mode='markers',\n",
    "        name=f'Cluster {i + 1}'\n",
    "    ))\n",
    "\n",
    "fig.update_layout(\n",
    "    title='Sentence Clusters Visualized with t-SNE(normal)',\n",
    "    xaxis_title='t-SNE Dimension 1',\n",
    "    yaxis_title='t-SNE Dimension 2',\n",
    "    legend_title=\"Clusters\"\n",
    ")\n",
    "\n",
    "pio.show(fig)\n"
   ]
  },
  {
   "cell_type": "code",
   "execution_count": 216,
   "metadata": {},
   "outputs": [],
   "source": [
    "import plotly.graph_objects as go\n",
    "\n",
    "# Perform t-SNE dimensionality reduction for 3D visualization\n",
    "perplexity_value = min(30, len(sentence_vectors) - 1)\n",
    "tsne_3d = TSNE(n_components=3,perplexity=perplexity_value, random_state=0)\n",
    "reduced_vectors_3d = tsne_3d.fit_transform(sentence_vectors)\n",
    "\n",
    "# 3D Scatter plot\n",
    "fig = go.Figure()\n",
    "\n",
    "for i in range(num_clusters):\n",
    "    indices = labels == i\n",
    "    fig.add_trace(go.Scatter3d(\n",
    "        x=reduced_vectors_3d[indices, 0],\n",
    "        y=reduced_vectors_3d[indices, 1],\n",
    "        z=reduced_vectors_3d[indices, 2],\n",
    "        mode='markers',\n",
    "        name=f'Cluster {i+1}'\n",
    "    ))\n",
    "\n",
    "fig.update_layout(title='3D Sentence Clusters(Normal)',\n",
    "                  scene=dict(xaxis_title='t-SNE Dimension 1',\n",
    "                             yaxis_title='t-SNE Dimension 2',\n",
    "                             zaxis_title='t-SNE Dimension 3'))\n",
    "fig.show()\n"
   ]
  },
  {
   "cell_type": "markdown",
   "metadata": {},
   "source": [
    "## textblobl"
   ]
  },
  {
   "cell_type": "code",
   "execution_count": 217,
   "metadata": {},
   "outputs": [],
   "source": [
    "perplexity_value = min(30, len(sentence_vectors_testblob) - 1)\n",
    "tsne = TSNE(n_components=2, perplexity=perplexity_value, random_state=0)\n",
    "reduced_vectors_2d = tsne.fit_transform(sentence_vectors_testblob)"
   ]
  },
  {
   "cell_type": "code",
   "execution_count": 218,
   "metadata": {},
   "outputs": [],
   "source": [
    "\n",
    "\n",
    "fig = go.Figure()\n",
    "\n",
    "for i in range(num_clusters):\n",
    "    indices = labels_textblob == i\n",
    "    fig.add_trace(go.Scatter(\n",
    "        x=reduced_vectors_2d[indices, 0],\n",
    "        y=reduced_vectors_2d[indices, 1],\n",
    "        mode='markers',\n",
    "        name=f'Cluster {i + 1}'\n",
    "    ))\n",
    "\n",
    "fig.update_layout(\n",
    "    title='Sentence Clusters Visualized with t-SNE(Textblob)',\n",
    "    xaxis_title='t-SNE Dimension 1',\n",
    "    yaxis_title='t-SNE Dimension 2',\n",
    "    legend_title=\"Clusters\"\n",
    ")\n",
    "\n",
    "pio.show(fig)\n"
   ]
  },
  {
   "cell_type": "code",
   "execution_count": 219,
   "metadata": {},
   "outputs": [],
   "source": [
    "\n",
    "# Perform t-SNE dimensionality reduction for 3D visualization\n",
    "perplexity_value = min(30, len(sentence_vectors_testblob) - 1)\n",
    "tsne_3d = TSNE(n_components=3,perplexity=perplexity_value, random_state=0)\n",
    "reduced_vectors_3d = tsne_3d.fit_transform(sentence_vectors_testblob)\n",
    "\n",
    "# 3D Scatter plot\n",
    "fig = go.Figure()\n",
    "\n",
    "for i in range(num_clusters):\n",
    "    indices = labels_textblob == i\n",
    "    fig.add_trace(go.Scatter3d(\n",
    "        x=reduced_vectors_3d[indices, 0],\n",
    "        y=reduced_vectors_3d[indices, 1],\n",
    "        z=reduced_vectors_3d[indices, 2],\n",
    "        mode='markers',\n",
    "        name=f'Cluster {i+1}'\n",
    "    ))\n",
    "\n",
    "fig.update_layout(title='3D Sentence Clusters(Textblob)',\n",
    "                  scene=dict(xaxis_title='t-SNE Dimension 1',\n",
    "                             yaxis_title='t-SNE Dimension 2',\n",
    "                             zaxis_title='t-SNE Dimension 3'))\n",
    "fig.show()\n"
   ]
  },
  {
   "cell_type": "markdown",
   "metadata": {},
   "source": [
    "## spacy"
   ]
  },
  {
   "cell_type": "code",
   "execution_count": 220,
   "metadata": {},
   "outputs": [],
   "source": [
    "perplexity_value = min(30, len(sentence_vectors_spacy) - 1)\n",
    "tsne = TSNE(n_components=2, perplexity=perplexity_value, random_state=0)\n",
    "reduced_vectors_2d = tsne.fit_transform(sentence_vectors_spacy)"
   ]
  },
  {
   "cell_type": "code",
   "execution_count": 221,
   "metadata": {},
   "outputs": [],
   "source": [
    "fig = go.Figure()\n",
    "\n",
    "\n",
    "for i in range(num_clusters):\n",
    "    indices = labels_spacy == i\n",
    "    fig.add_trace(go.Scatter(\n",
    "        x=reduced_vectors_2d[indices, 0],\n",
    "        y=reduced_vectors_2d[indices, 1],\n",
    "        mode='markers',\n",
    "        name=f'Cluster {i + 1}'\n",
    "    ))\n",
    "\n",
    "fig.update_layout(\n",
    "    title='Sentence Clusters Visualized with t-SNE(Spacy)',\n",
    "    xaxis_title='t-SNE Dimension 1',\n",
    "    yaxis_title='t-SNE Dimension 2',\n",
    "    legend_title=\"Clusters\"\n",
    ")\n",
    "\n",
    "pio.show(fig)\n"
   ]
  },
  {
   "cell_type": "code",
   "execution_count": 222,
   "metadata": {},
   "outputs": [],
   "source": [
    "# Perform t-SNE dimensionality reduction for 3D visualization\n",
    "perplexity_value = min(30, len(sentence_vectors_spacy) - 1)\n",
    "tsne_3d = TSNE(n_components=3,perplexity=perplexity_value, random_state=0)\n",
    "reduced_vectors_3d = tsne_3d.fit_transform(sentence_vectors_spacy)\n",
    "\n",
    "fig = go.Figure()\n",
    "\n",
    "for i in range(num_clusters):\n",
    "    indices = labels_spacy == i\n",
    "    fig.add_trace(go.Scatter3d(\n",
    "        x=reduced_vectors_3d[indices, 0],\n",
    "        y=reduced_vectors_3d[indices, 1],\n",
    "        z=reduced_vectors_3d[indices, 2],\n",
    "        mode='markers',\n",
    "        name=f'Cluster {i+1}'\n",
    "    ))\n",
    "\n",
    "fig.update_layout(title='3D Sentence Clusters(Spacy)',\n",
    "                  scene=dict(xaxis_title='t-SNE Dimension 1',\n",
    "                             yaxis_title='t-SNE Dimension 2',\n",
    "                             zaxis_title='t-SNE Dimension 3'))\n",
    "fig.show()\n"
   ]
  },
  {
   "cell_type": "markdown",
   "metadata": {},
   "source": [
    "## NLTK\n"
   ]
  },
  {
   "cell_type": "code",
   "execution_count": 223,
   "metadata": {},
   "outputs": [],
   "source": [
    "perplexity_value = min(30, len(sentence_vectors_nltk) - 1)\n",
    "tsne = TSNE(n_components=2, perplexity=perplexity_value, random_state=0)\n",
    "reduced_vectors_2d = tsne.fit_transform(sentence_vectors_nltk)"
   ]
  },
  {
   "cell_type": "code",
   "execution_count": 224,
   "metadata": {},
   "outputs": [],
   "source": [
    "fig = go.Figure()\n",
    "for i in range(num_clusters):\n",
    "    indices = labels_nltk == i\n",
    "    fig.add_trace(go.Scatter(\n",
    "        x=reduced_vectors_2d[indices, 0],\n",
    "        y=reduced_vectors_2d[indices, 1],\n",
    "        mode='markers',\n",
    "        name=f'Cluster {i + 1}'\n",
    "    ))\n",
    "\n",
    "fig.update_layout(\n",
    "    title='Sentence Clusters Visualized with t-SNE(NLTK)',\n",
    "    xaxis_title='t-SNE Dimension 1',\n",
    "    yaxis_title='t-SNE Dimension 2',\n",
    "    legend_title=\"Clusters\"\n",
    ")\n",
    "\n",
    "pio.show(fig)"
   ]
  },
  {
   "cell_type": "code",
   "execution_count": 225,
   "metadata": {},
   "outputs": [],
   "source": [
    "# Perform t-SNE dimensionality reduction for 3D visualization\n",
    "perplexity_value = min(30, len(sentence_vectors_nltk) - 1)\n",
    "tsne_3d = TSNE(n_components=3,perplexity=perplexity_value, random_state=0)\n",
    "reduced_vectors_3d = tsne_3d.fit_transform(sentence_vectors_nltk)\n",
    "\n",
    "fig = go.Figure()\n",
    "\n",
    "for i in range(num_clusters):\n",
    "    indices = labels_nltk == i\n",
    "    fig.add_trace(go.Scatter3d(\n",
    "        x=reduced_vectors_3d[indices, 0],\n",
    "        y=reduced_vectors_3d[indices, 1],\n",
    "        z=reduced_vectors_3d[indices, 2],\n",
    "        mode='markers',\n",
    "        name=f'Cluster {i+1}'\n",
    "    ))\n",
    "\n",
    "fig.update_layout(title='3D Sentence Clusters(NLTK)',\n",
    "                    scene=dict(xaxis_title='t-SNE Dimension 1',\n",
    "                                 yaxis_title='t-SNE Dimension 2',\n",
    "                                 zaxis_title='t-SNE Dimension 3'))\n",
    "fig.show()\n"
   ]
  },
  {
   "cell_type": "markdown",
   "metadata": {},
   "source": [
    "# kmeans with 6 aspects"
   ]
  },
  {
   "cell_type": "code",
   "execution_count": 226,
   "metadata": {},
   "outputs": [],
   "source": [
    "num_clusters = 6 # Example number of clusters"
   ]
  },
  {
   "cell_type": "code",
   "execution_count": 227,
   "metadata": {},
   "outputs": [
    {
     "name": "stderr",
     "output_type": "stream",
     "text": [
      "/Library/Frameworks/Python.framework/Versions/3.11/lib/python3.11/site-packages/sklearn/cluster/_kmeans.py:1412: FutureWarning:\n",
      "\n",
      "The default value of `n_init` will change from 10 to 'auto' in 1.4. Set the value of `n_init` explicitly to suppress the warning\n",
      "\n"
     ]
    }
   ],
   "source": [
    "\n",
    "kmeans = KMeans(n_clusters=num_clusters)\n",
    "kmeans.fit(sentence_vectors)\n",
    "labels = kmeans.labels_"
   ]
  },
  {
   "cell_type": "code",
   "execution_count": 228,
   "metadata": {},
   "outputs": [
    {
     "name": "stderr",
     "output_type": "stream",
     "text": [
      "/Library/Frameworks/Python.framework/Versions/3.11/lib/python3.11/site-packages/sklearn/cluster/_kmeans.py:1412: FutureWarning:\n",
      "\n",
      "The default value of `n_init` will change from 10 to 'auto' in 1.4. Set the value of `n_init` explicitly to suppress the warning\n",
      "\n"
     ]
    }
   ],
   "source": [
    "kmeans_textblob = KMeans(n_clusters=num_clusters)\n",
    "kmeans_textblob.fit(sentence_vectors_testblob)\n",
    "labels_textblob = kmeans_textblob.labels_"
   ]
  },
  {
   "cell_type": "code",
   "execution_count": 229,
   "metadata": {},
   "outputs": [
    {
     "name": "stderr",
     "output_type": "stream",
     "text": [
      "/Library/Frameworks/Python.framework/Versions/3.11/lib/python3.11/site-packages/sklearn/cluster/_kmeans.py:1412: FutureWarning:\n",
      "\n",
      "The default value of `n_init` will change from 10 to 'auto' in 1.4. Set the value of `n_init` explicitly to suppress the warning\n",
      "\n"
     ]
    }
   ],
   "source": [
    "kmeans_spacy = KMeans(n_clusters=num_clusters)\n",
    "kmeans_spacy.fit(sentence_vectors_spacy)\n",
    "labels_spacy = kmeans_spacy.labels_"
   ]
  },
  {
   "cell_type": "code",
   "execution_count": 230,
   "metadata": {},
   "outputs": [
    {
     "name": "stderr",
     "output_type": "stream",
     "text": [
      "/Library/Frameworks/Python.framework/Versions/3.11/lib/python3.11/site-packages/sklearn/cluster/_kmeans.py:1412: FutureWarning:\n",
      "\n",
      "The default value of `n_init` will change from 10 to 'auto' in 1.4. Set the value of `n_init` explicitly to suppress the warning\n",
      "\n"
     ]
    }
   ],
   "source": [
    "kmeans_nltk = KMeans(n_clusters=num_clusters)\n",
    "kmeans_nltk.fit(sentence_vectors_nltk)\n",
    "labels_nltk = kmeans_nltk.labels_"
   ]
  },
  {
   "cell_type": "markdown",
   "metadata": {},
   "source": [
    "# ploting"
   ]
  },
  {
   "cell_type": "code",
   "execution_count": 231,
   "metadata": {},
   "outputs": [],
   "source": [
    "perplexity_value = min(30, len(sentence_vectors) - 1)\n",
    "tsne = TSNE(n_components=2, perplexity=perplexity_value, random_state=0)\n",
    "reduced_vectors_2d = tsne.fit_transform(sentence_vectors)"
   ]
  },
  {
   "cell_type": "code",
   "execution_count": 232,
   "metadata": {},
   "outputs": [],
   "source": [
    "\n",
    "fig = go.Figure()\n",
    "\n",
    "for i in range(num_clusters):\n",
    "    indices = labels == i\n",
    "    fig.add_trace(go.Scatter(\n",
    "        x=reduced_vectors_2d[indices, 0],\n",
    "        y=reduced_vectors_2d[indices, 1],\n",
    "        mode='markers',\n",
    "        name=f'Cluster {i + 1}'\n",
    "    ))\n",
    "\n",
    "fig.update_layout(\n",
    "    title='Sentence Clusters Visualized with t-SNE(normal)',\n",
    "    xaxis_title='t-SNE Dimension 1',\n",
    "    yaxis_title='t-SNE Dimension 2',\n",
    "    legend_title=\"Clusters\"\n",
    ")\n",
    "\n",
    "pio.show(fig)\n"
   ]
  },
  {
   "cell_type": "code",
   "execution_count": 233,
   "metadata": {},
   "outputs": [],
   "source": [
    "\n",
    "# Perform t-SNE dimensionality reduction for 3D visualization\n",
    "perplexity_value = min(30, len(sentence_vectors) - 1)\n",
    "tsne_3d = TSNE(n_components=3,perplexity=perplexity_value, random_state=0)\n",
    "reduced_vectors_3d = tsne_3d.fit_transform(sentence_vectors)\n",
    "\n",
    "# 3D Scatter plot\n",
    "fig = go.Figure()\n",
    "\n",
    "for i in range(num_clusters):\n",
    "    indices = labels == i\n",
    "    fig.add_trace(go.Scatter3d(\n",
    "        x=reduced_vectors_3d[indices, 0],\n",
    "        y=reduced_vectors_3d[indices, 1],\n",
    "        z=reduced_vectors_3d[indices, 2],\n",
    "        mode='markers',\n",
    "        name=f'Cluster {i+1}'\n",
    "    ))\n",
    "\n",
    "fig.update_layout(title='3D Sentence Clusters(Normal)',\n",
    "                  scene=dict(xaxis_title='t-SNE Dimension 1',\n",
    "                             yaxis_title='t-SNE Dimension 2',\n",
    "                             zaxis_title='t-SNE Dimension 3'))\n",
    "fig.show()\n"
   ]
  },
  {
   "cell_type": "markdown",
   "metadata": {},
   "source": [
    "## textblobl"
   ]
  },
  {
   "cell_type": "code",
   "execution_count": 234,
   "metadata": {},
   "outputs": [],
   "source": [
    "perplexity_value = min(30, len(sentence_vectors_testblob) - 1)\n",
    "tsne = TSNE(n_components=2, perplexity=perplexity_value, random_state=0)\n",
    "reduced_vectors_2d = tsne.fit_transform(sentence_vectors_testblob)"
   ]
  },
  {
   "cell_type": "code",
   "execution_count": 235,
   "metadata": {},
   "outputs": [],
   "source": [
    "\n",
    "\n",
    "fig = go.Figure()\n",
    "\n",
    "for i in range(num_clusters):\n",
    "    indices = labels_textblob == i\n",
    "    fig.add_trace(go.Scatter(\n",
    "        x=reduced_vectors_2d[indices, 0],\n",
    "        y=reduced_vectors_2d[indices, 1],\n",
    "        mode='markers',\n",
    "        name=f'Cluster {i + 1}'\n",
    "    ))\n",
    "\n",
    "fig.update_layout(\n",
    "    title='Sentence Clusters Visualized with t-SNE(Textblob)',\n",
    "    xaxis_title='t-SNE Dimension 1',\n",
    "    yaxis_title='t-SNE Dimension 2',\n",
    "    legend_title=\"Clusters\"\n",
    ")\n",
    "\n",
    "pio.show(fig)\n"
   ]
  },
  {
   "cell_type": "code",
   "execution_count": 236,
   "metadata": {},
   "outputs": [],
   "source": [
    "\n",
    "# Perform t-SNE dimensionality reduction for 3D visualization\n",
    "perplexity_value = min(30, len(sentence_vectors_testblob) - 1)\n",
    "tsne_3d = TSNE(n_components=3,perplexity=perplexity_value, random_state=0)\n",
    "reduced_vectors_3d = tsne_3d.fit_transform(sentence_vectors_testblob)\n",
    "\n",
    "# 3D Scatter plot\n",
    "fig = go.Figure()\n",
    "\n",
    "for i in range(num_clusters):\n",
    "    indices = labels_textblob == i\n",
    "    fig.add_trace(go.Scatter3d(\n",
    "        x=reduced_vectors_3d[indices, 0],\n",
    "        y=reduced_vectors_3d[indices, 1],\n",
    "        z=reduced_vectors_3d[indices, 2],\n",
    "        mode='markers',\n",
    "        name=f'Cluster {i+1}'\n",
    "    ))\n",
    "\n",
    "fig.update_layout(title='3D Sentence Clusters(Textblob)',\n",
    "                  scene=dict(xaxis_title='t-SNE Dimension 1',\n",
    "                             yaxis_title='t-SNE Dimension 2',\n",
    "                             zaxis_title='t-SNE Dimension 3'))\n",
    "fig.show()\n"
   ]
  },
  {
   "cell_type": "markdown",
   "metadata": {},
   "source": [
    "## spacy"
   ]
  },
  {
   "cell_type": "code",
   "execution_count": 237,
   "metadata": {},
   "outputs": [],
   "source": [
    "perplexity_value = min(30, len(sentence_vectors_spacy) - 1)\n",
    "tsne = TSNE(n_components=2, perplexity=perplexity_value, random_state=0)\n",
    "reduced_vectors_2d = tsne.fit_transform(sentence_vectors_spacy)"
   ]
  },
  {
   "cell_type": "code",
   "execution_count": 238,
   "metadata": {},
   "outputs": [],
   "source": [
    "fig = go.Figure()\n",
    "\n",
    "\n",
    "for i in range(num_clusters):\n",
    "    indices = labels_spacy == i\n",
    "    fig.add_trace(go.Scatter(\n",
    "        x=reduced_vectors_2d[indices, 0],\n",
    "        y=reduced_vectors_2d[indices, 1],\n",
    "        mode='markers',\n",
    "        name=f'Cluster {i + 1}'\n",
    "    ))\n",
    "\n",
    "fig.update_layout(\n",
    "    title='Sentence Clusters Visualized with t-SNE(Spacy)',\n",
    "    xaxis_title='t-SNE Dimension 1',\n",
    "    yaxis_title='t-SNE Dimension 2',\n",
    "    legend_title=\"Clusters\"\n",
    ")\n",
    "\n",
    "pio.show(fig)\n"
   ]
  },
  {
   "cell_type": "code",
   "execution_count": 239,
   "metadata": {},
   "outputs": [],
   "source": [
    "# Perform t-SNE dimensionality reduction for 3D visualization\n",
    "perplexity_value = min(30, len(sentence_vectors_spacy) - 1)\n",
    "tsne_3d = TSNE(n_components=3,perplexity=perplexity_value, random_state=0)\n",
    "reduced_vectors_3d = tsne_3d.fit_transform(sentence_vectors_spacy)\n",
    "\n",
    "fig = go.Figure()\n",
    "\n",
    "for i in range(num_clusters):\n",
    "    indices = labels_spacy == i\n",
    "    fig.add_trace(go.Scatter3d(\n",
    "        x=reduced_vectors_3d[indices, 0],\n",
    "        y=reduced_vectors_3d[indices, 1],\n",
    "        z=reduced_vectors_3d[indices, 2],\n",
    "        mode='markers',\n",
    "        name=f'Cluster {i+1}'\n",
    "    ))\n",
    "\n",
    "fig.update_layout(title='3D Sentence Clusters(Spacy)',\n",
    "                  scene=dict(xaxis_title='t-SNE Dimension 1',\n",
    "                             yaxis_title='t-SNE Dimension 2',\n",
    "                             zaxis_title='t-SNE Dimension 3'))\n",
    "fig.show()\n"
   ]
  },
  {
   "cell_type": "markdown",
   "metadata": {},
   "source": [
    "## NLTK\n"
   ]
  },
  {
   "cell_type": "code",
   "execution_count": 240,
   "metadata": {},
   "outputs": [],
   "source": [
    "perplexity_value = min(30, len(sentence_vectors_nltk) - 1)\n",
    "tsne = TSNE(n_components=2, perplexity=perplexity_value, random_state=0)\n",
    "reduced_vectors_2d = tsne.fit_transform(sentence_vectors_nltk)"
   ]
  },
  {
   "cell_type": "code",
   "execution_count": 241,
   "metadata": {},
   "outputs": [],
   "source": [
    "fig = go.Figure()\n",
    "for i in range(num_clusters):\n",
    "    indices = labels_nltk == i\n",
    "    fig.add_trace(go.Scatter(\n",
    "        x=reduced_vectors_2d[indices, 0],\n",
    "        y=reduced_vectors_2d[indices, 1],\n",
    "        mode='markers',\n",
    "        name=f'Cluster {i + 1}'\n",
    "    ))\n",
    "\n",
    "fig.update_layout(\n",
    "    title='Sentence Clusters Visualized with t-SNE(NLTK)',\n",
    "    xaxis_title='t-SNE Dimension 1',\n",
    "    yaxis_title='t-SNE Dimension 2',\n",
    "    legend_title=\"Clusters\"\n",
    ")\n",
    "\n",
    "pio.show(fig)"
   ]
  },
  {
   "cell_type": "code",
   "execution_count": 242,
   "metadata": {},
   "outputs": [],
   "source": [
    "# Perform t-SNE dimensionality reduction for 3D visualization\n",
    "perplexity_value = min(30, len(sentence_vectors_nltk) - 1)\n",
    "tsne_3d = TSNE(n_components=3,perplexity=perplexity_value, random_state=0)\n",
    "reduced_vectors_3d = tsne_3d.fit_transform(sentence_vectors_nltk)\n",
    "\n",
    "fig = go.Figure()\n",
    "\n",
    "for i in range(num_clusters):\n",
    "    indices = labels_nltk == i\n",
    "    fig.add_trace(go.Scatter3d(\n",
    "        x=reduced_vectors_3d[indices, 0],\n",
    "        y=reduced_vectors_3d[indices, 1],\n",
    "        z=reduced_vectors_3d[indices, 2],\n",
    "        mode='markers',\n",
    "        name=f'Cluster {i+1}'\n",
    "    ))\n",
    "\n",
    "fig.update_layout(title='3D Sentence Clusters(NLTK)',\n",
    "                    scene=dict(xaxis_title='t-SNE Dimension 1',\n",
    "                                 yaxis_title='t-SNE Dimension 2',\n",
    "                                 zaxis_title='t-SNE Dimension 3'))\n",
    "fig.show()\n"
   ]
  },
  {
   "cell_type": "markdown",
   "metadata": {},
   "source": [
    "# df"
   ]
  },
  {
   "cell_type": "code",
   "execution_count": 243,
   "metadata": {},
   "outputs": [
    {
     "name": "stdout",
     "output_type": "stream",
     "text": [
      "                                               Sentence  Cluster\n",
      "0                               [settings, hair, types]        5\n",
      "1                                      [lots, settings]        5\n",
      "2                                    [heating, element]        5\n",
      "3                                            [diffuser]        1\n",
      "4                                          [flys, work]        0\n",
      "...                                                 ...      ...\n",
      "1176                                              [top]        0\n",
      "1177                                        [lids, fit]        4\n",
      "1178                                          [husband]        0\n",
      "1179                                            [price]        3\n",
      "1180  [way, seal, drinking, hole, car, bump, stop, l...        0\n",
      "\n",
      "[1181 rows x 2 columns]\n"
     ]
    }
   ],
   "source": [
    "# Create DataFrame\n",
    "df_spacy = pd.DataFrame({\n",
    "    'Sentence': doc,\n",
    "    'Cluster': labels_spacy\n",
    "})\n",
    "\n",
    "# Show the DataFrame\n",
    "print(df_spacy)"
   ]
  },
  {
   "cell_type": "code",
   "execution_count": 244,
   "metadata": {},
   "outputs": [
    {
     "name": "stdout",
     "output_type": "stream",
     "text": [
      "                                               Sentence  Cluster\n",
      "0                      [settings, perfect, hair, types]        3\n",
      "1                                      [lots, settings]        3\n",
      "2                              [heating, element, died]        3\n",
      "3                                [also, diffuser, stay]        3\n",
      "4                      [wo, stay, flys, see, one, work]        5\n",
      "...                                                 ...      ...\n",
      "1176                               [top, longer, stays]        5\n",
      "1177                    [unfortunately, one, lids, fit]        3\n",
      "1178      [cheap, enough, husband, loses, one, wo, cry]        5\n",
      "1179                                [economical, price]        2\n",
      "1180  [also, way, seal, drinking, hole, car, hit, bu...        3\n",
      "\n",
      "[1181 rows x 2 columns]\n"
     ]
    }
   ],
   "source": [
    "# Create DataFrame\n",
    "df = pd.DataFrame({\n",
    "    'Sentence': sentences,\n",
    "    'Cluster': labels\n",
    "})\n",
    "\n",
    "# Show the DataFrame\n",
    "print(df)"
   ]
  },
  {
   "cell_type": "code",
   "execution_count": 245,
   "metadata": {},
   "outputs": [
    {
     "name": "stdout",
     "output_type": "stream",
     "text": [
      "                                             Sentence  Cluster\n",
      "0                             [settings, hair, types]        1\n",
      "1                                    [lots, settings]        2\n",
      "2                                           [element]        5\n",
      "3                                    [diffuser, stay]        0\n",
      "4                                              [work]        3\n",
      "...                                               ...      ...\n",
      "1176                                          [stays]        5\n",
      "1177                                      [lids, fit]        2\n",
      "1178                                        [husband]        5\n",
      "1179                                          [price]        4\n",
      "1180  [way, drinking, hole, car, liquid, cup, holder]        5\n",
      "\n",
      "[1181 rows x 2 columns]\n"
     ]
    }
   ],
   "source": [
    "# Create DataFrame\n",
    "df_textblob = pd.DataFrame({\n",
    "    'Sentence': sentences_testblob,\n",
    "    'Cluster': labels_textblob\n",
    "})\n",
    "\n",
    "# Show the DataFrame\n",
    "print(df_textblob)"
   ]
  },
  {
   "cell_type": "code",
   "execution_count": 246,
   "metadata": {},
   "outputs": [
    {
     "name": "stdout",
     "output_type": "stream",
     "text": [
      "                                             Sentence  Cluster\n",
      "0                             [settings, hair, types]        5\n",
      "1                                    [lots, settings]        5\n",
      "2                                           [element]        4\n",
      "3                                    [diffuser, stay]        0\n",
      "4                                              [work]        2\n",
      "...                                               ...      ...\n",
      "1176                                          [stays]        1\n",
      "1177                                      [lids, fit]        1\n",
      "1178                                        [husband]        4\n",
      "1179                                          [price]        3\n",
      "1180  [way, drinking, hole, car, liquid, cup, holder]        1\n",
      "\n",
      "[1181 rows x 2 columns]\n"
     ]
    }
   ],
   "source": [
    "# Create DataFrame\n",
    "df_nltk = pd.DataFrame({\n",
    "    'Sentence': sentences_nltk,\n",
    "    'Cluster': labels_nltk\n",
    "})\n",
    "\n",
    "# Show the DataFrame\n",
    "print(df_nltk)"
   ]
  },
  {
   "cell_type": "markdown",
   "metadata": {},
   "source": [
    "# GMM"
   ]
  },
  {
   "cell_type": "code",
   "execution_count": 247,
   "metadata": {},
   "outputs": [],
   "source": [
    "from sklearn.mixture import GaussianMixture"
   ]
  },
  {
   "cell_type": "code",
   "execution_count": 248,
   "metadata": {},
   "outputs": [],
   "source": [
    "gmm = GaussianMixture(n_components = 12)"
   ]
  },
  {
   "cell_type": "code",
   "execution_count": 249,
   "metadata": {},
   "outputs": [],
   "source": [
    "gmm_6 = GaussianMixture(n_components = 6)"
   ]
  },
  {
   "cell_type": "code",
   "execution_count": 250,
   "metadata": {},
   "outputs": [
    {
     "data": {
      "text/html": [
       "<style>#sk-container-id-2 {color: black;}#sk-container-id-2 pre{padding: 0;}#sk-container-id-2 div.sk-toggleable {background-color: white;}#sk-container-id-2 label.sk-toggleable__label {cursor: pointer;display: block;width: 100%;margin-bottom: 0;padding: 0.3em;box-sizing: border-box;text-align: center;}#sk-container-id-2 label.sk-toggleable__label-arrow:before {content: \"▸\";float: left;margin-right: 0.25em;color: #696969;}#sk-container-id-2 label.sk-toggleable__label-arrow:hover:before {color: black;}#sk-container-id-2 div.sk-estimator:hover label.sk-toggleable__label-arrow:before {color: black;}#sk-container-id-2 div.sk-toggleable__content {max-height: 0;max-width: 0;overflow: hidden;text-align: left;background-color: #f0f8ff;}#sk-container-id-2 div.sk-toggleable__content pre {margin: 0.2em;color: black;border-radius: 0.25em;background-color: #f0f8ff;}#sk-container-id-2 input.sk-toggleable__control:checked~div.sk-toggleable__content {max-height: 200px;max-width: 100%;overflow: auto;}#sk-container-id-2 input.sk-toggleable__control:checked~label.sk-toggleable__label-arrow:before {content: \"▾\";}#sk-container-id-2 div.sk-estimator input.sk-toggleable__control:checked~label.sk-toggleable__label {background-color: #d4ebff;}#sk-container-id-2 div.sk-label input.sk-toggleable__control:checked~label.sk-toggleable__label {background-color: #d4ebff;}#sk-container-id-2 input.sk-hidden--visually {border: 0;clip: rect(1px 1px 1px 1px);clip: rect(1px, 1px, 1px, 1px);height: 1px;margin: -1px;overflow: hidden;padding: 0;position: absolute;width: 1px;}#sk-container-id-2 div.sk-estimator {font-family: monospace;background-color: #f0f8ff;border: 1px dotted black;border-radius: 0.25em;box-sizing: border-box;margin-bottom: 0.5em;}#sk-container-id-2 div.sk-estimator:hover {background-color: #d4ebff;}#sk-container-id-2 div.sk-parallel-item::after {content: \"\";width: 100%;border-bottom: 1px solid gray;flex-grow: 1;}#sk-container-id-2 div.sk-label:hover label.sk-toggleable__label {background-color: #d4ebff;}#sk-container-id-2 div.sk-serial::before {content: \"\";position: absolute;border-left: 1px solid gray;box-sizing: border-box;top: 0;bottom: 0;left: 50%;z-index: 0;}#sk-container-id-2 div.sk-serial {display: flex;flex-direction: column;align-items: center;background-color: white;padding-right: 0.2em;padding-left: 0.2em;position: relative;}#sk-container-id-2 div.sk-item {position: relative;z-index: 1;}#sk-container-id-2 div.sk-parallel {display: flex;align-items: stretch;justify-content: center;background-color: white;position: relative;}#sk-container-id-2 div.sk-item::before, #sk-container-id-2 div.sk-parallel-item::before {content: \"\";position: absolute;border-left: 1px solid gray;box-sizing: border-box;top: 0;bottom: 0;left: 50%;z-index: -1;}#sk-container-id-2 div.sk-parallel-item {display: flex;flex-direction: column;z-index: 1;position: relative;background-color: white;}#sk-container-id-2 div.sk-parallel-item:first-child::after {align-self: flex-end;width: 50%;}#sk-container-id-2 div.sk-parallel-item:last-child::after {align-self: flex-start;width: 50%;}#sk-container-id-2 div.sk-parallel-item:only-child::after {width: 0;}#sk-container-id-2 div.sk-dashed-wrapped {border: 1px dashed gray;margin: 0 0.4em 0.5em 0.4em;box-sizing: border-box;padding-bottom: 0.4em;background-color: white;}#sk-container-id-2 div.sk-label label {font-family: monospace;font-weight: bold;display: inline-block;line-height: 1.2em;}#sk-container-id-2 div.sk-label-container {text-align: center;}#sk-container-id-2 div.sk-container {/* jupyter's `normalize.less` sets `[hidden] { display: none; }` but bootstrap.min.css set `[hidden] { display: none !important; }` so we also need the `!important` here to be able to override the default hidden behavior on the sphinx rendered scikit-learn.org. See: https://github.com/scikit-learn/scikit-learn/issues/21755 */display: inline-block !important;position: relative;}#sk-container-id-2 div.sk-text-repr-fallback {display: none;}</style><div id=\"sk-container-id-2\" class=\"sk-top-container\"><div class=\"sk-text-repr-fallback\"><pre>GaussianMixture(n_components=12)</pre><b>In a Jupyter environment, please rerun this cell to show the HTML representation or trust the notebook. <br />On GitHub, the HTML representation is unable to render, please try loading this page with nbviewer.org.</b></div><div class=\"sk-container\" hidden><div class=\"sk-item\"><div class=\"sk-estimator sk-toggleable\"><input class=\"sk-toggleable__control sk-hidden--visually\" id=\"sk-estimator-id-2\" type=\"checkbox\" checked><label for=\"sk-estimator-id-2\" class=\"sk-toggleable__label sk-toggleable__label-arrow\">GaussianMixture</label><div class=\"sk-toggleable__content\"><pre>GaussianMixture(n_components=12)</pre></div></div></div></div></div>"
      ],
      "text/plain": [
       "GaussianMixture(n_components=12)"
      ]
     },
     "execution_count": 250,
     "metadata": {},
     "output_type": "execute_result"
    }
   ],
   "source": [
    "gmm.fit(sentence_vectors)"
   ]
  },
  {
   "cell_type": "code",
   "execution_count": 251,
   "metadata": {},
   "outputs": [],
   "source": [
    "labels = gmm.predict(sentence_vectors)"
   ]
  },
  {
   "cell_type": "code",
   "execution_count": 252,
   "metadata": {},
   "outputs": [],
   "source": [
    "gmm.fit(sentence_vectors_nltk)\n",
    "labels_nltk = gmm.predict(sentence_vectors_nltk)"
   ]
  },
  {
   "cell_type": "code",
   "execution_count": 253,
   "metadata": {},
   "outputs": [],
   "source": [
    "gmm.fit(sentence_vectors_spacy)\n",
    "labels_spacy = gmm.predict(sentence_vectors_spacy)"
   ]
  },
  {
   "cell_type": "code",
   "execution_count": 254,
   "metadata": {},
   "outputs": [],
   "source": [
    "gmm.fit(sentence_vectors_testblob)\n",
    "labels_textblob = gmm.predict(sentence_vectors_testblob)"
   ]
  },
  {
   "cell_type": "markdown",
   "metadata": {},
   "source": [
    "# ploting"
   ]
  },
  {
   "cell_type": "code",
   "execution_count": 255,
   "metadata": {},
   "outputs": [],
   "source": [
    "num_clusters=12"
   ]
  },
  {
   "cell_type": "code",
   "execution_count": 256,
   "metadata": {},
   "outputs": [],
   "source": [
    "\n",
    "\n",
    "perplexity_value = min(30, len(sentence_vectors) - 1)\n",
    "tsne = TSNE(n_components=2, perplexity=perplexity_value, random_state=0)\n",
    "reduced_vectors_2d = tsne.fit_transform(sentence_vectors)"
   ]
  },
  {
   "cell_type": "code",
   "execution_count": 257,
   "metadata": {},
   "outputs": [],
   "source": [
    "\n",
    "fig = go.Figure()\n",
    "\n",
    "for i in range(num_clusters):\n",
    "    indices = labels == i\n",
    "    fig.add_trace(go.Scatter(\n",
    "        x=reduced_vectors_2d[indices, 0],\n",
    "        y=reduced_vectors_2d[indices, 1],\n",
    "        mode='markers',\n",
    "        name=f'Cluster {i + 1}'\n",
    "    ))\n",
    "\n",
    "fig.update_layout(\n",
    "    title='Sentence Clusters Visualized with t-SNE(normal)',\n",
    "    xaxis_title='t-SNE Dimension 1',\n",
    "    yaxis_title='t-SNE Dimension 2',\n",
    "    legend_title=\"Clusters\"\n",
    ")\n",
    "\n",
    "pio.show(fig)\n"
   ]
  },
  {
   "cell_type": "code",
   "execution_count": 258,
   "metadata": {},
   "outputs": [],
   "source": [
    "import plotly.graph_objects as go\n",
    "\n",
    "# Perform t-SNE dimensionality reduction for 3D visualization\n",
    "perplexity_value = min(30, len(sentence_vectors) - 1)\n",
    "tsne_3d = TSNE(n_components=3,perplexity=perplexity_value, random_state=0)\n",
    "reduced_vectors_3d = tsne_3d.fit_transform(sentence_vectors)\n",
    "\n",
    "# 3D Scatter plot\n",
    "fig = go.Figure()\n",
    "\n",
    "for i in range(num_clusters):\n",
    "    indices = labels == i\n",
    "    fig.add_trace(go.Scatter3d(\n",
    "        x=reduced_vectors_3d[indices, 0],\n",
    "        y=reduced_vectors_3d[indices, 1],\n",
    "        z=reduced_vectors_3d[indices, 2],\n",
    "        mode='markers',\n",
    "        name=f'Cluster {i+1}'\n",
    "    ))\n",
    "\n",
    "fig.update_layout(title='3D Sentence Clusters(Normal)',\n",
    "                  scene=dict(xaxis_title='t-SNE Dimension 1',\n",
    "                             yaxis_title='t-SNE Dimension 2',\n",
    "                             zaxis_title='t-SNE Dimension 3'))\n",
    "fig.show()\n"
   ]
  },
  {
   "cell_type": "markdown",
   "metadata": {},
   "source": [
    "## textblobl"
   ]
  },
  {
   "cell_type": "code",
   "execution_count": 259,
   "metadata": {},
   "outputs": [],
   "source": [
    "perplexity_value = min(30, len(sentence_vectors_testblob) - 1)\n",
    "tsne = TSNE(n_components=2, perplexity=perplexity_value, random_state=0)\n",
    "reduced_vectors_2d = tsne.fit_transform(sentence_vectors_testblob)"
   ]
  },
  {
   "cell_type": "code",
   "execution_count": 260,
   "metadata": {},
   "outputs": [],
   "source": [
    "\n",
    "\n",
    "fig = go.Figure()\n",
    "\n",
    "for i in range(num_clusters):\n",
    "    indices = labels_textblob == i\n",
    "    fig.add_trace(go.Scatter(\n",
    "        x=reduced_vectors_2d[indices, 0],\n",
    "        y=reduced_vectors_2d[indices, 1],\n",
    "        mode='markers',\n",
    "        name=f'Cluster {i + 1}'\n",
    "    ))\n",
    "\n",
    "fig.update_layout(\n",
    "    title='Sentence Clusters Visualized with t-SNE(Textblob)',\n",
    "    xaxis_title='t-SNE Dimension 1',\n",
    "    yaxis_title='t-SNE Dimension 2',\n",
    "    legend_title=\"Clusters\"\n",
    ")\n",
    "\n",
    "pio.show(fig)\n"
   ]
  },
  {
   "cell_type": "code",
   "execution_count": 261,
   "metadata": {},
   "outputs": [],
   "source": [
    "\n",
    "# Perform t-SNE dimensionality reduction for 3D visualization\n",
    "perplexity_value = min(30, len(sentence_vectors_testblob) - 1)\n",
    "tsne_3d = TSNE(n_components=3,perplexity=perplexity_value, random_state=0)\n",
    "reduced_vectors_3d = tsne_3d.fit_transform(sentence_vectors_testblob)\n",
    "\n",
    "# 3D Scatter plot\n",
    "fig = go.Figure()\n",
    "\n",
    "for i in range(num_clusters):\n",
    "    indices = labels_textblob == i\n",
    "    fig.add_trace(go.Scatter3d(\n",
    "        x=reduced_vectors_3d[indices, 0],\n",
    "        y=reduced_vectors_3d[indices, 1],\n",
    "        z=reduced_vectors_3d[indices, 2],\n",
    "        mode='markers',\n",
    "        name=f'Cluster {i+1}'\n",
    "    ))\n",
    "\n",
    "fig.update_layout(title='3D Sentence Clusters(Textblob)',\n",
    "                  scene=dict(xaxis_title='t-SNE Dimension 1',\n",
    "                             yaxis_title='t-SNE Dimension 2',\n",
    "                             zaxis_title='t-SNE Dimension 3'))\n",
    "fig.show()\n"
   ]
  },
  {
   "cell_type": "markdown",
   "metadata": {},
   "source": [
    "## spacy"
   ]
  },
  {
   "cell_type": "code",
   "execution_count": 262,
   "metadata": {},
   "outputs": [],
   "source": [
    "perplexity_value = min(30, len(sentence_vectors_spacy) - 1)\n",
    "tsne = TSNE(n_components=2, perplexity=perplexity_value, random_state=0)\n",
    "reduced_vectors_2d = tsne.fit_transform(sentence_vectors_spacy)"
   ]
  },
  {
   "cell_type": "code",
   "execution_count": 263,
   "metadata": {},
   "outputs": [],
   "source": [
    "fig = go.Figure()\n",
    "\n",
    "\n",
    "for i in range(num_clusters):\n",
    "    indices = labels_spacy == i\n",
    "    fig.add_trace(go.Scatter(\n",
    "        x=reduced_vectors_2d[indices, 0],\n",
    "        y=reduced_vectors_2d[indices, 1],\n",
    "        mode='markers',\n",
    "        name=f'Cluster {i + 1}'\n",
    "    ))\n",
    "\n",
    "fig.update_layout(\n",
    "    title='Sentence Clusters Visualized with t-SNE(Spacy)',\n",
    "    xaxis_title='t-SNE Dimension 1',\n",
    "    yaxis_title='t-SNE Dimension 2',\n",
    "    legend_title=\"Clusters\"\n",
    ")\n",
    "\n",
    "pio.show(fig)\n"
   ]
  },
  {
   "cell_type": "code",
   "execution_count": 264,
   "metadata": {},
   "outputs": [],
   "source": [
    "# Perform t-SNE dimensionality reduction for 3D visualization\n",
    "perplexity_value = min(30, len(sentence_vectors_spacy) - 1)\n",
    "tsne_3d = TSNE(n_components=3,perplexity=perplexity_value, random_state=0)\n",
    "reduced_vectors_3d = tsne_3d.fit_transform(sentence_vectors_spacy)\n",
    "\n",
    "fig = go.Figure()\n",
    "\n",
    "for i in range(num_clusters):\n",
    "    indices = labels_spacy == i\n",
    "    fig.add_trace(go.Scatter3d(\n",
    "        x=reduced_vectors_3d[indices, 0],\n",
    "        y=reduced_vectors_3d[indices, 1],\n",
    "        z=reduced_vectors_3d[indices, 2],\n",
    "        mode='markers',\n",
    "        name=f'Cluster {i+1}'\n",
    "    ))\n",
    "\n",
    "fig.update_layout(title='3D Sentence Clusters(Spacy)',\n",
    "                  scene=dict(xaxis_title='t-SNE Dimension 1',\n",
    "                             yaxis_title='t-SNE Dimension 2',\n",
    "                             zaxis_title='t-SNE Dimension 3'))\n",
    "fig.show()\n"
   ]
  },
  {
   "cell_type": "markdown",
   "metadata": {},
   "source": [
    "## NLTK\n"
   ]
  },
  {
   "cell_type": "code",
   "execution_count": 265,
   "metadata": {},
   "outputs": [],
   "source": [
    "perplexity_value = min(30, len(sentence_vectors_nltk) - 1)\n",
    "tsne = TSNE(n_components=2, perplexity=perplexity_value, random_state=0)\n",
    "reduced_vectors_2d = tsne.fit_transform(sentence_vectors_nltk)"
   ]
  },
  {
   "cell_type": "code",
   "execution_count": 266,
   "metadata": {},
   "outputs": [],
   "source": [
    "fig = go.Figure()\n",
    "for i in range(num_clusters):\n",
    "    indices = labels_nltk == i\n",
    "    fig.add_trace(go.Scatter(\n",
    "        x=reduced_vectors_2d[indices, 0],\n",
    "        y=reduced_vectors_2d[indices, 1],\n",
    "        mode='markers',\n",
    "        name=f'Cluster {i + 1}'\n",
    "    ))\n",
    "\n",
    "fig.update_layout(\n",
    "    title='Sentence Clusters Visualized with t-SNE(NLTK)',\n",
    "    xaxis_title='t-SNE Dimension 1',\n",
    "    yaxis_title='t-SNE Dimension 2',\n",
    "    legend_title=\"Clusters\"\n",
    ")\n",
    "\n",
    "pio.show(fig)"
   ]
  },
  {
   "cell_type": "code",
   "execution_count": 267,
   "metadata": {},
   "outputs": [],
   "source": [
    "# Perform t-SNE dimensionality reduction for 3D visualization\n",
    "perplexity_value = min(30, len(sentence_vectors_nltk) - 1)\n",
    "tsne_3d = TSNE(n_components=3,perplexity=perplexity_value, random_state=0)\n",
    "reduced_vectors_3d = tsne_3d.fit_transform(sentence_vectors_nltk)\n",
    "\n",
    "fig = go.Figure()\n",
    "\n",
    "for i in range(num_clusters):\n",
    "    indices = labels_nltk == i\n",
    "    fig.add_trace(go.Scatter3d(\n",
    "        x=reduced_vectors_3d[indices, 0],\n",
    "        y=reduced_vectors_3d[indices, 1],\n",
    "        z=reduced_vectors_3d[indices, 2],\n",
    "        mode='markers',\n",
    "        name=f'Cluster {i+1}'\n",
    "    ))\n",
    "\n",
    "fig.update_layout(title='3D Sentence Clusters(NLTK)',\n",
    "                    scene=dict(xaxis_title='t-SNE Dimension 1',\n",
    "                                 yaxis_title='t-SNE Dimension 2',\n",
    "                                 zaxis_title='t-SNE Dimension 3'))\n",
    "fig.show()\n"
   ]
  },
  {
   "cell_type": "markdown",
   "metadata": {},
   "source": [
    "# df"
   ]
  },
  {
   "cell_type": "code",
   "execution_count": 268,
   "metadata": {},
   "outputs": [
    {
     "name": "stdout",
     "output_type": "stream",
     "text": [
      "                                               Sentence  Cluster\n",
      "0                               [settings, hair, types]        1\n",
      "1                                      [lots, settings]        1\n",
      "2                                    [heating, element]        6\n",
      "3                                            [diffuser]        0\n",
      "4                                          [flys, work]        6\n",
      "...                                                 ...      ...\n",
      "1176                                              [top]        3\n",
      "1177                                        [lids, fit]        6\n",
      "1178                                          [husband]        3\n",
      "1179                                            [price]        2\n",
      "1180  [way, seal, drinking, hole, car, bump, stop, l...        6\n",
      "\n",
      "[1181 rows x 2 columns]\n"
     ]
    }
   ],
   "source": [
    "# Create DataFrame\n",
    "df_spacy = pd.DataFrame({\n",
    "    'Sentence': doc,\n",
    "    'Cluster': labels_spacy\n",
    "})\n",
    "\n",
    "# Show the DataFrame\n",
    "print(df_spacy)"
   ]
  },
  {
   "cell_type": "code",
   "execution_count": 269,
   "metadata": {},
   "outputs": [
    {
     "name": "stdout",
     "output_type": "stream",
     "text": [
      "                                               Sentence  Cluster\n",
      "0                      [settings, perfect, hair, types]        6\n",
      "1                                      [lots, settings]        5\n",
      "2                              [heating, element, died]        5\n",
      "3                                [also, diffuser, stay]       10\n",
      "4                      [wo, stay, flys, see, one, work]       10\n",
      "...                                                 ...      ...\n",
      "1176                               [top, longer, stays]       10\n",
      "1177                    [unfortunately, one, lids, fit]        5\n",
      "1178      [cheap, enough, husband, loses, one, wo, cry]       11\n",
      "1179                                [economical, price]        4\n",
      "1180  [also, way, seal, drinking, hole, car, hit, bu...       10\n",
      "\n",
      "[1181 rows x 2 columns]\n"
     ]
    }
   ],
   "source": [
    "# Create DataFrame\n",
    "df = pd.DataFrame({\n",
    "    'Sentence': sentences,\n",
    "    'Cluster': labels\n",
    "})\n",
    "\n",
    "# Show the DataFrame\n",
    "print(df)"
   ]
  },
  {
   "cell_type": "code",
   "execution_count": 270,
   "metadata": {},
   "outputs": [
    {
     "name": "stdout",
     "output_type": "stream",
     "text": [
      "                                             Sentence  Cluster\n",
      "0                             [settings, hair, types]        8\n",
      "1                                    [lots, settings]        7\n",
      "2                                           [element]        7\n",
      "3                                    [diffuser, stay]        7\n",
      "4                                              [work]        0\n",
      "...                                               ...      ...\n",
      "1176                                          [stays]        7\n",
      "1177                                      [lids, fit]        5\n",
      "1178                                        [husband]        4\n",
      "1179                                          [price]       11\n",
      "1180  [way, drinking, hole, car, liquid, cup, holder]        7\n",
      "\n",
      "[1181 rows x 2 columns]\n"
     ]
    }
   ],
   "source": [
    "# Create DataFrame\n",
    "df_textblob = pd.DataFrame({\n",
    "    'Sentence': sentences_testblob,\n",
    "    'Cluster': labels_textblob\n",
    "})\n",
    "\n",
    "# Show the DataFrame\n",
    "print(df_textblob)"
   ]
  },
  {
   "cell_type": "code",
   "execution_count": 271,
   "metadata": {},
   "outputs": [
    {
     "name": "stdout",
     "output_type": "stream",
     "text": [
      "                                             Sentence  Cluster\n",
      "0                             [settings, hair, types]        5\n",
      "1                                    [lots, settings]       11\n",
      "2                                           [element]       11\n",
      "3                                    [diffuser, stay]        9\n",
      "4                                              [work]       10\n",
      "...                                               ...      ...\n",
      "1176                                          [stays]        9\n",
      "1177                                      [lids, fit]        1\n",
      "1178                                        [husband]        9\n",
      "1179                                          [price]        4\n",
      "1180  [way, drinking, hole, car, liquid, cup, holder]        9\n",
      "\n",
      "[1181 rows x 2 columns]\n"
     ]
    }
   ],
   "source": [
    "# Create DataFrame\n",
    "df_nltk = pd.DataFrame({\n",
    "    'Sentence': sentences_nltk,\n",
    "    'Cluster': labels_nltk\n",
    "})\n",
    "\n",
    "# Show the DataFrame\n",
    "print(df_nltk)"
   ]
  },
  {
   "cell_type": "code",
   "execution_count": null,
   "metadata": {},
   "outputs": [],
   "source": []
  },
  {
   "cell_type": "markdown",
   "metadata": {},
   "source": [
    "# 6 cluster"
   ]
  },
  {
   "cell_type": "code",
   "execution_count": 275,
   "metadata": {},
   "outputs": [],
   "source": [
    "gmm_6.fit(sentence_vectors_nltk)\n",
    "labels_nltk = gmm_6.predict(sentence_vectors_nltk)"
   ]
  },
  {
   "cell_type": "code",
   "execution_count": 276,
   "metadata": {},
   "outputs": [],
   "source": [
    "gmm_6.fit(sentence_vectors)\n",
    "labels = gmm_6.predict(sentence_vectors)"
   ]
  },
  {
   "cell_type": "code",
   "execution_count": 277,
   "metadata": {},
   "outputs": [],
   "source": [
    "gmm_6.fit(sentence_vectors_spacy)\n",
    "labels_spacy = gmm_6.predict(sentence_vectors_spacy)"
   ]
  },
  {
   "cell_type": "code",
   "execution_count": 278,
   "metadata": {},
   "outputs": [],
   "source": [
    "gmm_6.fit(sentence_vectors_testblob )\n",
    "labels_textblob = gmm_6.predict(sentence_vectors_testblob)"
   ]
  },
  {
   "cell_type": "code",
   "execution_count": 279,
   "metadata": {},
   "outputs": [],
   "source": [
    "num_clusters=6"
   ]
  },
  {
   "cell_type": "code",
   "execution_count": 280,
   "metadata": {},
   "outputs": [],
   "source": [
    "\n",
    "\n",
    "perplexity_value = min(30, len(sentence_vectors) - 1)\n",
    "tsne = TSNE(n_components=2, perplexity=perplexity_value, random_state=0)\n",
    "reduced_vectors_2d = tsne.fit_transform(sentence_vectors)"
   ]
  },
  {
   "cell_type": "code",
   "execution_count": 281,
   "metadata": {},
   "outputs": [],
   "source": [
    "\n",
    "fig = go.Figure()\n",
    "\n",
    "for i in range(num_clusters):\n",
    "    indices = labels == i\n",
    "    fig.add_trace(go.Scatter(\n",
    "        x=reduced_vectors_2d[indices, 0],\n",
    "        y=reduced_vectors_2d[indices, 1],\n",
    "        mode='markers',\n",
    "        name=f'Cluster {i + 1}'\n",
    "    ))\n",
    "\n",
    "fig.update_layout(\n",
    "    title='Sentence Clusters Visualized with t-SNE(normal)',\n",
    "    xaxis_title='t-SNE Dimension 1',\n",
    "    yaxis_title='t-SNE Dimension 2',\n",
    "    legend_title=\"Clusters\"\n",
    ")\n",
    "\n",
    "pio.show(fig)\n"
   ]
  },
  {
   "cell_type": "code",
   "execution_count": 282,
   "metadata": {},
   "outputs": [],
   "source": [
    "import plotly.graph_objects as go\n",
    "\n",
    "# Perform t-SNE dimensionality reduction for 3D visualization\n",
    "perplexity_value = min(30, len(sentence_vectors) - 1)\n",
    "tsne_3d = TSNE(n_components=3,perplexity=perplexity_value, random_state=0)\n",
    "reduced_vectors_3d = tsne_3d.fit_transform(sentence_vectors)\n",
    "\n",
    "# 3D Scatter plot\n",
    "fig = go.Figure()\n",
    "\n",
    "for i in range(num_clusters):\n",
    "    indices = labels == i\n",
    "    fig.add_trace(go.Scatter3d(\n",
    "        x=reduced_vectors_3d[indices, 0],\n",
    "        y=reduced_vectors_3d[indices, 1],\n",
    "        z=reduced_vectors_3d[indices, 2],\n",
    "        mode='markers',\n",
    "        name=f'Cluster {i+1}'\n",
    "    ))\n",
    "\n",
    "fig.update_layout(title='3D Sentence Clusters(Normal)',\n",
    "                  scene=dict(xaxis_title='t-SNE Dimension 1',\n",
    "                             yaxis_title='t-SNE Dimension 2',\n",
    "                             zaxis_title='t-SNE Dimension 3'))\n",
    "fig.show()\n"
   ]
  },
  {
   "cell_type": "markdown",
   "metadata": {},
   "source": [
    "## textblobl"
   ]
  },
  {
   "cell_type": "code",
   "execution_count": 283,
   "metadata": {},
   "outputs": [],
   "source": [
    "perplexity_value = min(30, len(sentence_vectors_testblob) - 1)\n",
    "tsne = TSNE(n_components=2, perplexity=perplexity_value, random_state=0)\n",
    "reduced_vectors_2d = tsne.fit_transform(sentence_vectors_testblob)"
   ]
  },
  {
   "cell_type": "code",
   "execution_count": 284,
   "metadata": {},
   "outputs": [],
   "source": [
    "\n",
    "\n",
    "fig = go.Figure()\n",
    "\n",
    "for i in range(num_clusters):\n",
    "    indices = labels_textblob == i\n",
    "    fig.add_trace(go.Scatter(\n",
    "        x=reduced_vectors_2d[indices, 0],\n",
    "        y=reduced_vectors_2d[indices, 1],\n",
    "        mode='markers',\n",
    "        name=f'Cluster {i + 1}'\n",
    "    ))\n",
    "\n",
    "fig.update_layout(\n",
    "    title='Sentence Clusters Visualized with t-SNE(Textblob)',\n",
    "    xaxis_title='t-SNE Dimension 1',\n",
    "    yaxis_title='t-SNE Dimension 2',\n",
    "    legend_title=\"Clusters\"\n",
    ")\n",
    "\n",
    "pio.show(fig)\n"
   ]
  },
  {
   "cell_type": "code",
   "execution_count": 285,
   "metadata": {},
   "outputs": [],
   "source": [
    "\n",
    "# Perform t-SNE dimensionality reduction for 3D visualization\n",
    "perplexity_value = min(30, len(sentence_vectors_testblob) - 1)\n",
    "tsne_3d = TSNE(n_components=3,perplexity=perplexity_value, random_state=0)\n",
    "reduced_vectors_3d = tsne_3d.fit_transform(sentence_vectors_testblob)\n",
    "\n",
    "# 3D Scatter plot\n",
    "fig = go.Figure()\n",
    "\n",
    "for i in range(num_clusters):\n",
    "    indices = labels_textblob == i\n",
    "    fig.add_trace(go.Scatter3d(\n",
    "        x=reduced_vectors_3d[indices, 0],\n",
    "        y=reduced_vectors_3d[indices, 1],\n",
    "        z=reduced_vectors_3d[indices, 2],\n",
    "        mode='markers',\n",
    "        name=f'Cluster {i+1}'\n",
    "    ))\n",
    "\n",
    "fig.update_layout(title='3D Sentence Clusters(Textblob)',\n",
    "                  scene=dict(xaxis_title='t-SNE Dimension 1',\n",
    "                             yaxis_title='t-SNE Dimension 2',\n",
    "                             zaxis_title='t-SNE Dimension 3'))\n",
    "fig.show()\n"
   ]
  },
  {
   "cell_type": "markdown",
   "metadata": {},
   "source": [
    "## spacy"
   ]
  },
  {
   "cell_type": "code",
   "execution_count": 286,
   "metadata": {},
   "outputs": [],
   "source": [
    "perplexity_value = min(30, len(sentence_vectors_spacy) - 1)\n",
    "tsne = TSNE(n_components=2, perplexity=perplexity_value, random_state=0)\n",
    "reduced_vectors_2d = tsne.fit_transform(sentence_vectors_spacy)"
   ]
  },
  {
   "cell_type": "code",
   "execution_count": 287,
   "metadata": {},
   "outputs": [],
   "source": [
    "fig = go.Figure()\n",
    "\n",
    "\n",
    "for i in range(num_clusters):\n",
    "    indices = labels_spacy == i\n",
    "    fig.add_trace(go.Scatter(\n",
    "        x=reduced_vectors_2d[indices, 0],\n",
    "        y=reduced_vectors_2d[indices, 1],\n",
    "        mode='markers',\n",
    "        name=f'Cluster {i + 1}'\n",
    "    ))\n",
    "\n",
    "fig.update_layout(\n",
    "    title='Sentence Clusters Visualized with t-SNE(Spacy)',\n",
    "    xaxis_title='t-SNE Dimension 1',\n",
    "    yaxis_title='t-SNE Dimension 2',\n",
    "    legend_title=\"Clusters\"\n",
    ")\n",
    "\n",
    "pio.show(fig)\n"
   ]
  },
  {
   "cell_type": "code",
   "execution_count": 288,
   "metadata": {},
   "outputs": [],
   "source": [
    "# Perform t-SNE dimensionality reduction for 3D visualization\n",
    "perplexity_value = min(30, len(sentence_vectors_spacy) - 1)\n",
    "tsne_3d = TSNE(n_components=3,perplexity=perplexity_value, random_state=0)\n",
    "reduced_vectors_3d = tsne_3d.fit_transform(sentence_vectors_spacy)\n",
    "\n",
    "fig = go.Figure()\n",
    "\n",
    "for i in range(num_clusters):\n",
    "    indices = labels_spacy == i\n",
    "    fig.add_trace(go.Scatter3d(\n",
    "        x=reduced_vectors_3d[indices, 0],\n",
    "        y=reduced_vectors_3d[indices, 1],\n",
    "        z=reduced_vectors_3d[indices, 2],\n",
    "        mode='markers',\n",
    "        name=f'Cluster {i+1}'\n",
    "    ))\n",
    "\n",
    "fig.update_layout(title='3D Sentence Clusters(Spacy)',\n",
    "                  scene=dict(xaxis_title='t-SNE Dimension 1',\n",
    "                             yaxis_title='t-SNE Dimension 2',\n",
    "                             zaxis_title='t-SNE Dimension 3'))\n",
    "fig.show()\n"
   ]
  },
  {
   "cell_type": "markdown",
   "metadata": {},
   "source": [
    "## NLTK\n"
   ]
  },
  {
   "cell_type": "code",
   "execution_count": 289,
   "metadata": {},
   "outputs": [],
   "source": [
    "perplexity_value = min(30, len(sentence_vectors_nltk) - 1)\n",
    "tsne = TSNE(n_components=2, perplexity=perplexity_value, random_state=0)\n",
    "reduced_vectors_2d = tsne.fit_transform(sentence_vectors_nltk)"
   ]
  },
  {
   "cell_type": "code",
   "execution_count": 290,
   "metadata": {},
   "outputs": [],
   "source": [
    "fig = go.Figure()\n",
    "for i in range(num_clusters):\n",
    "    indices = labels_nltk == i\n",
    "    fig.add_trace(go.Scatter(\n",
    "        x=reduced_vectors_2d[indices, 0],\n",
    "        y=reduced_vectors_2d[indices, 1],\n",
    "        mode='markers',\n",
    "        name=f'Cluster {i + 1}'\n",
    "    ))\n",
    "\n",
    "fig.update_layout(\n",
    "    title='Sentence Clusters Visualized with t-SNE(NLTK)',\n",
    "    xaxis_title='t-SNE Dimension 1',\n",
    "    yaxis_title='t-SNE Dimension 2',\n",
    "    legend_title=\"Clusters\"\n",
    ")\n",
    "\n",
    "pio.show(fig)"
   ]
  },
  {
   "cell_type": "code",
   "execution_count": 291,
   "metadata": {},
   "outputs": [],
   "source": [
    "# Perform t-SNE dimensionality reduction for 3D visualization\n",
    "perplexity_value = min(30, len(sentence_vectors_nltk) - 1)\n",
    "tsne_3d = TSNE(n_components=3,perplexity=perplexity_value, random_state=0)\n",
    "reduced_vectors_3d = tsne_3d.fit_transform(sentence_vectors_nltk)\n",
    "\n",
    "fig = go.Figure()\n",
    "\n",
    "for i in range(num_clusters):\n",
    "    indices = labels_nltk == i\n",
    "    fig.add_trace(go.Scatter3d(\n",
    "        x=reduced_vectors_3d[indices, 0],\n",
    "        y=reduced_vectors_3d[indices, 1],\n",
    "        z=reduced_vectors_3d[indices, 2],\n",
    "        mode='markers',\n",
    "        name=f'Cluster {i+1}'\n",
    "    ))\n",
    "\n",
    "fig.update_layout(title='3D Sentence Clusters(NLTK)',\n",
    "                    scene=dict(xaxis_title='t-SNE Dimension 1',\n",
    "                                 yaxis_title='t-SNE Dimension 2',\n",
    "                                 zaxis_title='t-SNE Dimension 3'))\n",
    "fig.show()\n"
   ]
  },
  {
   "cell_type": "markdown",
   "metadata": {},
   "source": [
    "# df"
   ]
  },
  {
   "cell_type": "code",
   "execution_count": 292,
   "metadata": {},
   "outputs": [
    {
     "name": "stdout",
     "output_type": "stream",
     "text": [
      "                                               Sentence  Cluster\n",
      "0                               [settings, hair, types]        3\n",
      "1                                      [lots, settings]        3\n",
      "2                                    [heating, element]        4\n",
      "3                                            [diffuser]        1\n",
      "4                                          [flys, work]        1\n",
      "...                                                 ...      ...\n",
      "1176                                              [top]        5\n",
      "1177                                        [lids, fit]        0\n",
      "1178                                          [husband]        5\n",
      "1179                                            [price]        2\n",
      "1180  [way, seal, drinking, hole, car, bump, stop, l...        4\n",
      "\n",
      "[1181 rows x 2 columns]\n"
     ]
    }
   ],
   "source": [
    "# Create DataFrame\n",
    "df_spacy = pd.DataFrame({\n",
    "    'Sentence': doc,\n",
    "    'Cluster': labels_spacy\n",
    "})\n",
    "\n",
    "# Show the DataFrame\n",
    "print(df_spacy)"
   ]
  },
  {
   "cell_type": "code",
   "execution_count": 293,
   "metadata": {},
   "outputs": [
    {
     "name": "stdout",
     "output_type": "stream",
     "text": [
      "                                               Sentence  Cluster\n",
      "0                      [settings, perfect, hair, types]        3\n",
      "1                                      [lots, settings]        3\n",
      "2                              [heating, element, died]        3\n",
      "3                                [also, diffuser, stay]        3\n",
      "4                      [wo, stay, flys, see, one, work]        1\n",
      "...                                                 ...      ...\n",
      "1176                               [top, longer, stays]        1\n",
      "1177                    [unfortunately, one, lids, fit]        3\n",
      "1178      [cheap, enough, husband, loses, one, wo, cry]        1\n",
      "1179                                [economical, price]        1\n",
      "1180  [also, way, seal, drinking, hole, car, hit, bu...        1\n",
      "\n",
      "[1181 rows x 2 columns]\n"
     ]
    }
   ],
   "source": [
    "# Create DataFrame\n",
    "df = pd.DataFrame({\n",
    "    'Sentence': sentences,\n",
    "    'Cluster': labels\n",
    "})\n",
    "\n",
    "# Show the DataFrame\n",
    "print(df)"
   ]
  },
  {
   "cell_type": "code",
   "execution_count": 294,
   "metadata": {},
   "outputs": [
    {
     "name": "stdout",
     "output_type": "stream",
     "text": [
      "                                             Sentence  Cluster\n",
      "0                             [settings, hair, types]        3\n",
      "1                                    [lots, settings]        3\n",
      "2                                           [element]        3\n",
      "3                                    [diffuser, stay]        1\n",
      "4                                              [work]        3\n",
      "...                                               ...      ...\n",
      "1176                                          [stays]        4\n",
      "1177                                      [lids, fit]        2\n",
      "1178                                        [husband]        4\n",
      "1179                                          [price]        3\n",
      "1180  [way, drinking, hole, car, liquid, cup, holder]        4\n",
      "\n",
      "[1181 rows x 2 columns]\n"
     ]
    }
   ],
   "source": [
    "# Create DataFrame\n",
    "df_textblob = pd.DataFrame({\n",
    "    'Sentence': sentences_testblob,\n",
    "    'Cluster': labels_textblob\n",
    "})\n",
    "\n",
    "# Show the DataFrame\n",
    "print(df_textblob)"
   ]
  },
  {
   "cell_type": "code",
   "execution_count": 295,
   "metadata": {},
   "outputs": [
    {
     "name": "stdout",
     "output_type": "stream",
     "text": [
      "                                             Sentence  Cluster\n",
      "0                             [settings, hair, types]        0\n",
      "1                                    [lots, settings]        5\n",
      "2                                           [element]        5\n",
      "3                                    [diffuser, stay]        5\n",
      "4                                              [work]        2\n",
      "...                                               ...      ...\n",
      "1176                                          [stays]        5\n",
      "1177                                      [lids, fit]        0\n",
      "1178                                        [husband]        5\n",
      "1179                                          [price]        4\n",
      "1180  [way, drinking, hole, car, liquid, cup, holder]        5\n",
      "\n",
      "[1181 rows x 2 columns]\n"
     ]
    }
   ],
   "source": [
    "# Create DataFrame\n",
    "df_nltk = pd.DataFrame({\n",
    "    'Sentence': sentences_nltk,\n",
    "    'Cluster': labels_nltk\n",
    "})\n",
    "\n",
    "# Show the DataFrame\n",
    "print(df_nltk)"
   ]
  },
  {
   "cell_type": "code",
   "execution_count": 296,
   "metadata": {},
   "outputs": [
    {
     "name": "stdout",
     "output_type": "stream",
     "text": [
      "Best GMM for Glove Vectors: GaussianMixture(n_components=24, random_state=0)\n",
      "Summary: Means - [[-0.27546421  0.35486949  0.07829089 ... -0.26755378  0.46551596\n",
      "   0.42546342]\n",
      " [-0.39567123  0.36806683 -0.177349   ... -0.6049455   0.56226833\n",
      "   0.4986495 ]\n",
      " [-0.28429642  0.15236319  0.21105757 ... -0.30014392  0.44326714\n",
      "   0.08509591]\n",
      " ...\n",
      " [-0.13653841  0.45425465  0.08802568 ... -0.55587522  0.34381453\n",
      "   0.43008256]\n",
      " [-0.32697329  0.35610608  0.18443218 ... -0.22645086  0.57422555\n",
      "   0.14111837]\n",
      " [-0.36228617  0.18123137  0.50470527 ... -0.07371103  0.51523233\n",
      "   0.19789742]], Covariances - [[[ 0.0986587   0.01627082 -0.01711073 ... -0.03445385 -0.00261897\n",
      "    0.03512542]\n",
      "  [ 0.01627082  0.04020374 -0.00102321 ... -0.05628546 -0.01508277\n",
      "    0.03769108]\n",
      "  [-0.01711073 -0.00102321  0.06017456 ...  0.01636906 -0.01556848\n",
      "   -0.00025364]\n",
      "  ...\n",
      "  [-0.03445385 -0.05628546  0.01636906 ...  0.12871746  0.03311672\n",
      "   -0.07185517]\n",
      "  [-0.00261897 -0.01508277 -0.01556848 ...  0.03311672  0.02775249\n",
      "   -0.02144817]\n",
      "  [ 0.03512542  0.03769108 -0.00025364 ... -0.07185517 -0.02144817\n",
      "    0.07271445]]\n",
      "\n",
      " [[ 0.00124243 -0.00057697  0.0026059  ... -0.00241629  0.00224221\n",
      "   -0.0012569 ]\n",
      "  [-0.00057697  0.01453178 -0.01061314 ... -0.00044313  0.00253565\n",
      "   -0.00662429]\n",
      "  [ 0.0026059  -0.01061314  0.03224714 ...  0.00152888  0.00188717\n",
      "    0.00217638]\n",
      "  ...\n",
      "  [-0.00241629 -0.00044313  0.00152888 ...  0.00638285 -0.00488179\n",
      "    0.00325494]\n",
      "  [ 0.00224221  0.00253565  0.00188717 ... -0.00488179  0.00495857\n",
      "   -0.00407977]\n",
      "  [-0.0012569  -0.00662429  0.00217638 ...  0.00325494 -0.00407977\n",
      "    0.00491695]]\n",
      "\n",
      " [[ 0.03453258  0.00133469 -0.00348361 ...  0.00781308  0.00162722\n",
      "   -0.00376405]\n",
      "  [ 0.00133469  0.04150842 -0.00610623 ... -0.00588208 -0.00101203\n",
      "    0.00161952]\n",
      "  [-0.00348361 -0.00610623  0.04644539 ... -0.00707723 -0.0014074\n",
      "    0.00116237]\n",
      "  ...\n",
      "  [ 0.00781308 -0.00588208 -0.00707723 ...  0.03541993  0.00176001\n",
      "   -0.00712679]\n",
      "  [ 0.00162722 -0.00101203 -0.0014074  ...  0.00176001  0.04019863\n",
      "   -0.00602305]\n",
      "  [-0.00376405  0.00161952  0.00116237 ... -0.00712679 -0.00602305\n",
      "    0.02941531]]\n",
      "\n",
      " ...\n",
      "\n",
      " [[ 0.0183577  -0.00311976  0.01026345 ... -0.00361737  0.00063622\n",
      "   -0.00198108]\n",
      "  [-0.00311976  0.0396344  -0.01069593 ... -0.03615268 -0.00451823\n",
      "    0.01295761]\n",
      "  [ 0.01026345 -0.01069593  0.12744549 ...  0.00790368 -0.0144209\n",
      "    0.02294781]\n",
      "  ...\n",
      "  [-0.00361737 -0.03615268  0.00790368 ...  0.0706713   0.00690443\n",
      "   -0.01678734]\n",
      "  [ 0.00063622 -0.00451823 -0.0144209  ...  0.00690443  0.03267061\n",
      "   -0.01241337]\n",
      "  [-0.00198108  0.01295761  0.02294781 ... -0.01678734 -0.01241337\n",
      "    0.02858376]]\n",
      "\n",
      " [[ 0.03304835 -0.00466167  0.00106104 ...  0.01022284  0.00266641\n",
      "   -0.007157  ]\n",
      "  [-0.00466167  0.0294325  -0.01411706 ... -0.01245796 -0.00226249\n",
      "    0.0139876 ]\n",
      "  [ 0.00106104 -0.01411706  0.06060036 ... -0.01229481  0.01833512\n",
      "   -0.03020821]\n",
      "  ...\n",
      "  [ 0.01022284 -0.01245796 -0.01229481 ...  0.05133133 -0.00059348\n",
      "   -0.01399036]\n",
      "  [ 0.00266641 -0.00226249  0.01833512 ... -0.00059348  0.05837359\n",
      "   -0.02373861]\n",
      "  [-0.007157    0.0139876  -0.03020821 ... -0.01399036 -0.02373861\n",
      "    0.07631938]]\n",
      "\n",
      " [[ 0.01383219  0.00479566  0.01450304 ... -0.00094029 -0.0062427\n",
      "    0.00427135]\n",
      "  [ 0.00479566  0.01113979 -0.00034912 ... -0.00541989 -0.00377026\n",
      "    0.00290041]\n",
      "  [ 0.01450304 -0.00034912  0.08657168 ...  0.0280999  -0.00616142\n",
      "    0.00928852]\n",
      "  ...\n",
      "  [-0.00094029 -0.00541989  0.0280999  ...  0.02178148 -0.00148417\n",
      "   -0.0043408 ]\n",
      "  [-0.0062427  -0.00377026 -0.00616142 ... -0.00148417  0.01722072\n",
      "   -0.00187554]\n",
      "  [ 0.00427135  0.00290041  0.00928852 ... -0.0043408  -0.00187554\n",
      "    0.00786548]]]\n"
     ]
    },
    {
     "data": {
      "image/png": "[encoded data removed]",
      "text/plain": [
       "<Figure size 640x480 with 1 Axes>"
      ]
     },
     "metadata": {},
     "output_type": "display_data"
    }
   ],
   "source": [
    "import numpy as np\n",
    "from sklearn.mixture import GaussianMixture\n",
    "import matplotlib.pyplot as plt\n",
    "\n",
    "# Assuming glove_vector and word_vectors are NumPy arrays\n",
    "# Replace these with your actual data\n",
    "glove_vector = sentence_vectors\n",
    "\n",
    "# Function to fit the model and plot results\n",
    "def fit_and_plot(data, title):\n",
    "    best_gmm = None\n",
    "    best_score = float('-inf')\n",
    "    for n_components in range(3, 25):\n",
    "        gmm = GaussianMixture(n_components=n_components, covariance_type='full', random_state=0)\n",
    "        gmm.fit(data)\n",
    "        score = gmm.bic(data)\n",
    "        if score > best_score:\n",
    "            best_score = score\n",
    "            best_gmm = gmm\n",
    "\n",
    "    print(f'Best GMM for {title}: {best_gmm}')\n",
    "    print(f'Summary: Means - {best_gmm.means_}, Covariances - {best_gmm.covariances_}')\n",
    "\n",
    "    plt.figure()\n",
    "    plt.scatter(data[:, 0], data[:, 1], c=best_gmm.predict(data))\n",
    "    plt.title(title)\n",
    "    plt.show()\n",
    "\n",
    "# Fit and plot for glove_vector and word_vectors\n",
    "fit_and_plot(glove_vector, 'Glove Vectors')\n",
    "\n"
   ]
  },
  {
   "cell_type": "code",
   "execution_count": 297,
   "metadata": {},
   "outputs": [
    {
     "name": "stdout",
     "output_type": "stream",
     "text": [
      "Best GMM for Glove Vectors: GaussianMixture(n_components=12, random_state=0)\n",
      "Summary: Means - [[-0.30466952  0.53065594 -0.27100758 ... -0.20989586  0.5671447\n",
      "   0.42849883]\n",
      " [ 0.04414505  0.27148845  0.33051107 ... -0.5636705   0.55762845\n",
      "   0.40594436]\n",
      " [-0.13943376  0.26222624  0.14024199 ... -0.1737206   0.52234248\n",
      "   0.10333197]\n",
      " ...\n",
      " [-0.47135806  0.3805709   0.0472056  ... -0.21401808 -0.14725778\n",
      "   0.25753178]\n",
      " [-0.19607808  0.41373314  0.27783228 ... -0.48850497 -0.09246009\n",
      "   0.41102808]\n",
      " [-0.29768264  0.27844605  0.16228681 ... -0.2589669   0.49797771\n",
      "   0.16390253]], Covariances - [[[ 1.09494421e-02 -1.73907879e-02  1.02645548e-02 ...  2.89889284e-02\n",
      "    4.91383027e-03  2.08785079e-03]\n",
      "  [-1.73907879e-02  6.97513342e-02 -3.68113341e-02 ... -1.24277869e-01\n",
      "   -3.82177929e-02  1.35891337e-02]\n",
      "  [ 1.02645548e-02 -3.68113341e-02  4.68138707e-02 ...  4.04215072e-02\n",
      "    6.53216145e-04 -1.61660570e-03]\n",
      "  ...\n",
      "  [ 2.89889284e-02 -1.24277869e-01  4.04215072e-02 ...  2.51725318e-01\n",
      "    8.96016823e-02 -3.44168006e-02]\n",
      "  [ 4.91383027e-03 -3.82177929e-02  6.53216145e-04 ...  8.96016823e-02\n",
      "    4.15005491e-02 -1.56290754e-02]\n",
      "  [ 2.08785079e-03  1.35891337e-02 -1.61660570e-03 ... -3.44168006e-02\n",
      "   -1.56290754e-02  1.28707633e-02]]\n",
      "\n",
      " [[ 3.86385709e-02 -7.54814920e-03  1.04516374e-02 ...  9.34059918e-03\n",
      "   -9.09272042e-05 -8.18243997e-03]\n",
      "  [-7.54814920e-03  2.30548590e-02 -2.33168815e-03 ... -7.02579842e-04\n",
      "    5.91313388e-03  3.46538411e-04]\n",
      "  [ 1.04516374e-02 -2.33168815e-03  3.95897495e-02 ...  4.30077586e-06\n",
      "    2.66825758e-03  5.58090872e-03]\n",
      "  ...\n",
      "  [ 9.34059918e-03 -7.02579842e-04  4.30077586e-06 ...  5.69453294e-02\n",
      "    1.95414339e-03 -2.64443715e-02]\n",
      "  [-9.09272042e-05  5.91313388e-03  2.66825758e-03 ...  1.95414339e-03\n",
      "    4.30274090e-02 -4.00385994e-03]\n",
      "  [-8.18243997e-03  3.46538411e-04  5.58090872e-03 ... -2.64443715e-02\n",
      "   -4.00385994e-03  5.57964437e-02]]\n",
      "\n",
      " [[ 5.21561646e-02 -1.19222905e-02  8.31316542e-03 ...  2.44289254e-02\n",
      "   -9.61702108e-03 -5.82021980e-03]\n",
      "  [-1.19222905e-02  3.86424381e-02 -7.60178343e-03 ... -1.23385095e-02\n",
      "    1.21515537e-02  5.46925342e-03]\n",
      "  [ 8.31316542e-03 -7.60178343e-03  5.38369318e-02 ... -2.24334845e-03\n",
      "   -2.44943201e-03  4.90524081e-03]\n",
      "  ...\n",
      "  [ 2.44289254e-02 -1.23385095e-02 -2.24334845e-03 ...  4.84453981e-02\n",
      "   -9.01845019e-03 -1.44824125e-02]\n",
      "  [-9.61702108e-03  1.21515537e-02 -2.44943201e-03 ... -9.01845019e-03\n",
      "    4.25179696e-02  1.30398709e-03]\n",
      "  [-5.82021980e-03  5.46925342e-03  4.90524081e-03 ... -1.44824125e-02\n",
      "    1.30398709e-03  3.36796005e-02]]\n",
      "\n",
      " ...\n",
      "\n",
      " [[ 1.40303230e-01 -2.47061204e-02  5.92774046e-02 ...  1.55673690e-02\n",
      "    7.99795436e-02  9.08426938e-03]\n",
      "  [-2.47061204e-02  8.72423182e-02 -1.40214677e-03 ... -3.64692067e-02\n",
      "    3.23620108e-02  2.75416480e-02]\n",
      "  [ 5.92774046e-02 -1.40214677e-03  1.59704886e-01 ...  2.11321735e-02\n",
      "    1.05397578e-01  3.22456273e-03]\n",
      "  ...\n",
      "  [ 1.55673690e-02 -3.64692067e-02  2.11321735e-02 ...  8.63843074e-02\n",
      "   -3.50609163e-03 -2.02001598e-02]\n",
      "  [ 7.99795436e-02  3.23620108e-02  1.05397578e-01 ... -3.50609163e-03\n",
      "    2.30011155e-01  3.11522615e-02]\n",
      "  [ 9.08426938e-03  2.75416480e-02  3.22456273e-03 ... -2.02001598e-02\n",
      "    3.11522615e-02  7.77633123e-02]]\n",
      "\n",
      " [[ 2.73498167e-02  7.03608809e-03  2.16995563e-02 ...  6.00898709e-03\n",
      "   -6.42586856e-03  3.43765476e-03]\n",
      "  [ 7.03608809e-03  3.28955992e-02 -1.10461954e-02 ... -1.66705081e-02\n",
      "   -5.63967635e-03  8.80492308e-03]\n",
      "  [ 2.16995563e-02 -1.10461954e-02  1.05575953e-01 ...  1.22264751e-03\n",
      "   -1.61138413e-02  1.00625819e-02]\n",
      "  ...\n",
      "  [ 6.00898709e-03 -1.66705081e-02  1.22264751e-03 ...  6.96091047e-02\n",
      "    9.03889648e-03 -1.66344020e-02]\n",
      "  [-6.42586856e-03 -5.63967635e-03 -1.61138413e-02 ...  9.03889648e-03\n",
      "    7.11919432e-02  1.69097794e-03]\n",
      "  [ 3.43765476e-03  8.80492308e-03  1.00625819e-02 ... -1.66344020e-02\n",
      "    1.69097794e-03  5.77729226e-02]]\n",
      "\n",
      " [[ 3.62302492e-02 -5.56722205e-03  9.95690523e-04 ...  1.13214600e-02\n",
      "    3.26110657e-03  2.84791696e-03]\n",
      "  [-5.56722205e-03  4.77788705e-02 -8.85336725e-03 ... -6.70016993e-03\n",
      "    1.66249272e-03  9.22276947e-03]\n",
      "  [ 9.95690523e-04 -8.85336725e-03  5.32218860e-02 ... -8.67569309e-04\n",
      "    1.22708171e-02 -1.35867623e-02]\n",
      "  ...\n",
      "  [ 1.13214600e-02 -6.70016993e-03 -8.67569309e-04 ...  5.81509886e-02\n",
      "   -5.77227645e-04 -9.91842931e-03]\n",
      "  [ 3.26110657e-03  1.66249272e-03  1.22708171e-02 ... -5.77227645e-04\n",
      "    6.20999037e-02 -1.38461684e-02]\n",
      "  [ 2.84791696e-03  9.22276947e-03 -1.35867623e-02 ... -9.91842931e-03\n",
      "   -1.38461684e-02  5.18542535e-02]]]\n"
     ]
    },
    {
     "data": {
      "image/png": "[encoded data removed]",
      "text/plain": [
       "<Figure size 640x480 with 1 Axes>"
      ]
     },
     "metadata": {},
     "output_type": "display_data"
    }
   ],
   "source": [
    "import numpy as np\n",
    "from sklearn.mixture import GaussianMixture\n",
    "import matplotlib.pyplot as plt\n",
    "\n",
    "# Assuming glove_vector and word_vectors are NumPy arrays\n",
    "# Replace these with your actual data\n",
    "glove_vector = sentence_vectors\n",
    "\n",
    "# Function to fit the model and plot results\n",
    "def fit_and_plot(data, title):\n",
    "    best_gmm = None\n",
    "    best_score = float('-inf')\n",
    "    for n_components in range(3, 13):\n",
    "        gmm = GaussianMixture(n_components=n_components, covariance_type='full', random_state=0)\n",
    "        gmm.fit(data)\n",
    "        score = gmm.bic(data)\n",
    "        if score > best_score:\n",
    "            best_score = score\n",
    "            best_gmm = gmm\n",
    "\n",
    "    print(f'Best GMM for {title}: {best_gmm}')\n",
    "    print(f'Summary: Means - {best_gmm.means_}, Covariances - {best_gmm.covariances_}')\n",
    "\n",
    "    plt.figure()\n",
    "    plt.scatter(data[:, 0], data[:, 1], c=best_gmm.predict(data))\n",
    "    plt.title(title)\n",
    "    plt.show()\n",
    "\n",
    "# Fit and plot for glove_vector and word_vectors\n",
    "fit_and_plot(glove_vector, 'Glove Vectors')\n",
    "\n"
   ]
  },
  {
   "cell_type": "code",
   "execution_count": 298,
   "metadata": {},
   "outputs": [
    {
     "name": "stdout",
     "output_type": "stream",
     "text": [
      "Best GMM for Glove Vectors: GaussianMixture(n_components=4, random_state=0)\n",
      "Summary: Means - [[-3.04669515e-01  5.30655939e-01 -2.71007576e-01  3.21033333e-03\n",
      "  -1.84204394e-01 -9.78047121e-01  3.42330333e-01 -4.79408939e-01\n",
      "   2.51188939e-01  2.24971970e-01  7.10707424e-02 -8.06251652e-01\n",
      "   3.71807273e-01  3.01533788e-01  5.63976970e-01  7.21069697e-02\n",
      "   2.98802955e-01  7.80354909e-02  4.52259697e-01  1.37699091e-01\n",
      "   8.16130788e-01 -2.41373439e-01  1.59959576e-01 -2.43138197e-01\n",
      "   5.44626364e-01 -1.67309303e-01 -4.48825364e-01 -5.94863758e-01\n",
      "  -1.00853347e+00 -1.97126818e-01  8.11334379e-02 -6.59979727e-01\n",
      "  -2.75873182e-02 -4.64188091e-01  5.08724697e-01  5.15867591e-01\n",
      "   4.45314091e-01 -1.13643121e-01  1.72979248e-01 -5.78377879e-02\n",
      "   4.79568788e-01 -1.91738500e-01  7.49919742e-01 -2.16984000e-01\n",
      "  -7.07778333e-02 -5.44559545e-01  2.21569333e-01  2.71268182e-01\n",
      "   1.90948485e-01 -9.23787318e-01  1.97782076e-01 -1.55420545e-01\n",
      "   2.10321212e-01 -2.56363636e-02  4.91529818e-01 -7.14776515e-01\n",
      "   3.87349833e-01  1.95743212e-01  1.03398894e+00 -2.66205348e-01\n",
      "  -2.19687909e-01 -1.68989848e-01 -1.02481000e+00  1.47976848e-01\n",
      "   2.05930364e-01  1.03231212e-02  3.18170311e-01  1.17315605e-01\n",
      "   1.92116424e-01 -9.80568939e-01  6.92253788e-01 -5.19685758e-02\n",
      "   2.66837894e-01  1.76241045e-01  7.99310606e-01  3.49077273e-01\n",
      "  -1.64335303e-01  2.72759409e-01  8.36512121e-02 -4.68901303e-01\n",
      "   3.84424045e-01  6.92848576e-01 -4.47168636e-01  5.74447727e-01\n",
      "  -7.28647727e-02 -3.00059758e-01  7.24927818e-01  5.11224242e-02\n",
      "  -6.67597682e-01 -3.78758030e-01  3.63783318e-01 -7.65273182e-02\n",
      "   4.86523485e-02  1.00730015e-01 -4.10564545e-01 -3.99433318e-01\n",
      "  -1.81490455e-01 -2.09895864e-01  5.67144697e-01  4.28498833e-01]\n",
      " [-4.11784994e-02  3.39940509e-01  2.52201980e-01 -3.61566662e-02\n",
      "  -1.47517215e-01 -4.47552883e-01 -6.97056513e-02 -1.77014952e-01\n",
      "  -3.63811208e-01 -2.76812581e-02 -4.19442371e-02 -2.51293935e-01\n",
      "   1.04142077e-01 -1.42540996e-01  7.42851992e-02 -1.19355195e-01\n",
      "   2.71248531e-02  1.38626389e-01  6.23901604e-02  4.32187135e-01\n",
      "   1.25314755e-01  5.88425291e-02 -2.67852753e-02 -1.94981426e-01\n",
      "   1.51963850e-01  2.52035998e-02 -1.44177487e-01 -4.19914149e-01\n",
      "  -4.39532050e-01 -1.63598118e-01 -6.40605001e-02  4.04666617e-01\n",
      "  -1.01885288e-01 -2.15703859e-01  3.35244829e-01  3.57678099e-01\n",
      "  -2.37097041e-02  1.49345521e-01 -1.38663179e-01 -3.81569712e-01\n",
      "   1.66974582e-01 -3.46276567e-01  9.87022282e-02 -2.97908255e-01\n",
      "   2.46503103e-02 -5.37004391e-02  1.59998569e-01 -3.47031020e-01\n",
      "  -3.39995500e-02 -9.25607648e-01  1.43295305e-01 -1.25796595e-01\n",
      "   5.21780280e-03  7.61672583e-01  4.45806369e-02 -1.95932211e+00\n",
      "   7.49785502e-02  9.39597559e-03  1.51931378e+00 -1.81522087e-01\n",
      "  -4.21584885e-02  4.29069034e-01 -6.28996032e-01  2.23266588e-01\n",
      "   5.29951112e-01 -2.07544728e-01  4.94644618e-01  1.00223388e-02\n",
      "   3.75984280e-01 -3.91478900e-01  1.90520266e-01 -4.68423635e-03\n",
      "   1.81941799e-01 -3.80087322e-02  4.39821825e-01  1.19616936e-01\n",
      "  -9.71566200e-02 -4.86829822e-02 -4.21745421e-01 -1.29975980e-02\n",
      "   5.23489543e-01  2.40204619e-01 -3.98124971e-01 -8.10762544e-02\n",
      "  -1.10638269e+00 -2.30205629e-01 -3.21490934e-02 -2.50760939e-01\n",
      "  -3.27646841e-01 -3.62841601e-01 -4.12508834e-02 -1.04693529e-01\n",
      "  -1.42714707e-02 -2.01034983e-01 -5.80672200e-01  8.98240913e-02\n",
      "  -2.59160524e-01 -5.02082110e-01  5.02260764e-01  4.02973326e-01]\n",
      " [-2.50821871e-01  2.90078362e-01  2.16208574e-01 -1.60537007e-01\n",
      "  -1.82918576e-02  8.92625305e-02 -7.32638257e-02  1.77111690e-01\n",
      "  -5.39261354e-02  3.41959034e-03  1.42171207e-01 -7.39444015e-02\n",
      "   1.19465159e-01  6.21813308e-02  6.96665337e-02 -1.94153773e-01\n",
      "   2.98711576e-02  1.56975103e-01 -1.38155879e-01  8.78519359e-02\n",
      "   1.57656144e-01  1.34060550e-01  8.16534980e-02 -2.10151605e-01\n",
      "   1.32220234e-01  2.01820148e-02 -2.85646381e-01 -3.73383001e-01\n",
      "  -1.82437757e-02 -1.45763996e-01 -8.57658796e-02  3.50485451e-01\n",
      "  -1.02863920e-01 -8.56555760e-02  1.89905352e-01  2.47377697e-01\n",
      "  -8.62520676e-02  3.24688285e-02  5.24602178e-02 -1.83336821e-01\n",
      "  -9.18872481e-02 -3.07303873e-01  4.83451005e-02 -3.56034297e-01\n",
      "  -1.30908833e-01 -2.91131619e-02  8.84289901e-02 -1.53365529e-01\n",
      "   7.93613576e-02 -6.62108127e-01  5.03962348e-02 -5.47594622e-02\n",
      "   5.76397266e-02  8.57311384e-01  6.02190200e-03 -1.86627729e+00\n",
      "   3.81830965e-03  2.08153377e-02  1.27952949e+00  2.11736013e-01\n",
      "  -8.02445545e-02  6.10890711e-01 -2.62819794e-01  1.66561620e-01\n",
      "   5.96258688e-01 -4.41787307e-03  4.23757987e-01  4.12204038e-02\n",
      "   6.03724253e-02 -3.11049306e-01  9.78398070e-03 -1.14879896e-01\n",
      "   1.10098420e-01 -1.29460532e-01  2.19356055e-01  1.30303788e-01\n",
      "  -1.42708371e-01 -7.27404395e-02 -3.04515508e-01  1.88376951e-02\n",
      "   4.69663923e-01 -1.68835730e-02 -4.59688600e-01  9.55664535e-02\n",
      "  -1.10867479e+00 -1.12216745e-01  1.38971122e-01 -4.22243735e-02\n",
      "  -2.95168394e-01 -1.61073648e-01  7.77826242e-03 -2.46696655e-02\n",
      "   2.17699626e-02 -1.50085852e-01 -3.84947636e-01 -7.27235586e-02\n",
      "  -2.21166897e-01 -2.09056205e-01  4.16611389e-01  2.18137023e-01]\n",
      " [-3.36467536e-01  3.24025164e-01  1.80992922e-01 -2.70753608e-01\n",
      "  -7.10746530e-02  1.63946591e-01 -1.72135483e-02  1.52736352e-01\n",
      "   1.11999830e-02  1.20640572e-01  1.03353482e-01 -1.39396141e-01\n",
      "   9.30534692e-02  8.96967580e-02  2.41634601e-01  1.87041917e-03\n",
      "  -3.72048604e-02  7.52440989e-02  2.32069785e-01 -7.56370114e-02\n",
      "   4.35726242e-02  1.74603796e-01  5.89958975e-02 -2.70360138e-01\n",
      "   2.60155372e-01  1.70820746e-01 -2.44497112e-01 -2.76241730e-01\n",
      "  -1.60983548e-01 -1.81762513e-01  1.27372184e-02  1.63330632e-01\n",
      "  -5.70380738e-02 -1.20449805e-01  2.09208664e-01  1.85611487e-01\n",
      "  -5.54059433e-02  4.37578728e-02  1.18017271e-01 -2.17550493e-01\n",
      "   1.28218598e-01 -3.79819626e-01 -3.10597282e-02 -3.21420335e-01\n",
      "  -1.76099297e-01  1.87744521e-02  7.71003338e-02  1.10233257e-01\n",
      "   6.71285132e-02 -5.05544901e-01  2.09608496e-02 -3.08892144e-02\n",
      "   1.00794406e-01  6.03090121e-01 -2.89043312e-02 -1.21287917e+00\n",
      "   1.15789746e-01  1.93581391e-01  8.35459107e-01 -4.58296534e-02\n",
      "  -8.47983027e-03  5.87183768e-01 -3.03251251e-01  2.42997102e-01\n",
      "   4.04903041e-01 -3.86017991e-02  5.14647503e-01 -1.63355609e-01\n",
      "  -2.39492283e-02 -4.56971039e-01  9.31169103e-02 -3.19003632e-02\n",
      "   2.71854419e-01 -6.09810961e-03  2.18926438e-01  2.05750523e-01\n",
      "  -9.26350011e-02 -8.21116051e-02  5.68250660e-02  7.79566590e-02\n",
      "   2.39596168e-01 -2.63407236e-03 -3.44288289e-01  1.70107518e-01\n",
      "  -6.62733124e-01 -1.75115486e-01  2.04795859e-01  2.62073503e-02\n",
      "  -2.81616605e-01 -7.08151046e-02  8.43515199e-02  2.34169631e-02\n",
      "   6.30726061e-02 -1.51291523e-01 -1.89715628e-01 -1.05839054e-01\n",
      "  -3.32425752e-01 -2.31719375e-01  2.36702703e-01  2.39426992e-01]], Covariances - [[[ 0.01094944 -0.01739079  0.01026455 ...  0.02898893  0.00491383\n",
      "    0.00208785]\n",
      "  [-0.01739079  0.06975133 -0.03681133 ... -0.12427787 -0.03821779\n",
      "    0.01358913]\n",
      "  [ 0.01026455 -0.03681133  0.04681387 ...  0.04042151  0.00065322\n",
      "   -0.00161661]\n",
      "  ...\n",
      "  [ 0.02898893 -0.12427787  0.04042151 ...  0.25172532  0.08960168\n",
      "   -0.0344168 ]\n",
      "  [ 0.00491383 -0.03821779  0.00065322 ...  0.08960168  0.04150055\n",
      "   -0.01562908]\n",
      "  [ 0.00208785  0.01358913 -0.00161661 ... -0.0344168  -0.01562908\n",
      "    0.01287076]]\n",
      "\n",
      " [[ 0.05261306 -0.00622521  0.02197881 ... -0.00739675  0.00843499\n",
      "    0.00155146]\n",
      "  [-0.00622521  0.03424257 -0.00516805 ... -0.00226497 -0.00150859\n",
      "    0.00381961]\n",
      "  [ 0.02197881 -0.00516805  0.08098764 ...  0.00507133  0.00229581\n",
      "    0.00529023]\n",
      "  ...\n",
      "  [-0.00739675 -0.00226497  0.00507133 ...  0.0750234   0.00362877\n",
      "   -0.03234903]\n",
      "  [ 0.00843499 -0.00150859  0.00229581 ...  0.00362877  0.06119041\n",
      "   -0.02430047]\n",
      "  [ 0.00155146  0.00381961  0.00529023 ... -0.03234903 -0.02430047\n",
      "    0.06222313]]\n",
      "\n",
      " [[ 0.04611456 -0.00591306 -0.00216054 ...  0.01009223  0.00326419\n",
      "   -0.00475778]\n",
      "  [-0.00591306  0.03356666 -0.00521574 ... -0.01401803  0.00170176\n",
      "    0.00899031]\n",
      "  [-0.00216054 -0.00521574  0.04878206 ...  0.00509241 -0.00976494\n",
      "    0.00597248]\n",
      "  ...\n",
      "  [ 0.01009223 -0.01401803  0.00509241 ...  0.06244897 -0.00238002\n",
      "   -0.01112826]\n",
      "  [ 0.00326419  0.00170176 -0.00976494 ... -0.00238002  0.04479309\n",
      "   -0.0070113 ]\n",
      "  [-0.00475778  0.00899031  0.00597248 ... -0.01112826 -0.0070113\n",
      "    0.03665541]]\n",
      "\n",
      " [[ 0.06471457 -0.0091795   0.01577355 ...  0.00304757  0.00335462\n",
      "    0.00710662]\n",
      "  [-0.0091795   0.05980609 -0.01016899 ... -0.01297637  0.00674604\n",
      "    0.01096917]\n",
      "  [ 0.01577355 -0.01016899  0.08983968 ... -0.00554229  0.00506367\n",
      "   -0.00296276]\n",
      "  ...\n",
      "  [ 0.00304757 -0.01297637 -0.00554229 ...  0.08049401  0.003283\n",
      "   -0.01183218]\n",
      "  [ 0.00335462  0.00674604  0.00506367 ...  0.003283    0.13289154\n",
      "   -0.02138923]\n",
      "  [ 0.00710662  0.01096917 -0.00296276 ... -0.01183218 -0.02138923\n",
      "    0.06725852]]]\n"
     ]
    },
    {
     "data": {
      "image/png": "[encoded data removed]",
      "text/plain": [
       "<Figure size 640x480 with 1 Axes>"
      ]
     },
     "metadata": {},
     "output_type": "display_data"
    }
   ],
   "source": [
    "import numpy as np\n",
    "from sklearn.mixture import GaussianMixture\n",
    "import matplotlib.pyplot as plt\n",
    "\n",
    "# Assuming glove_vector and word_vectors are NumPy arrays\n",
    "# Replace these with your actual data\n",
    "glove_vector = sentence_vectors\n",
    "\n",
    "# Function to fit the model and plot results\n",
    "def fit_and_plot(data, title):\n",
    "    best_gmm = None\n",
    "    best_score = float('-inf')\n",
    "    for n_components in range(3, 7):\n",
    "        gmm = GaussianMixture(n_components=n_components, covariance_type='full', random_state=0)\n",
    "        gmm.fit(data)\n",
    "        score = gmm.bic(data)\n",
    "        if score > best_score:\n",
    "            best_score = score\n",
    "            best_gmm = gmm\n",
    "\n",
    "    print(f'Best GMM for {title}: {best_gmm}')\n",
    "    print(f'Summary: Means - {best_gmm.means_}, Covariances - {best_gmm.covariances_}')\n",
    "\n",
    "    plt.figure()\n",
    "    plt.scatter(data[:, 0], data[:, 1], c=best_gmm.predict(data))\n",
    "    plt.title(title)\n",
    "    plt.show()\n",
    "\n",
    "# Fit and plot for glove_vector and word_vectors\n",
    "fit_and_plot(glove_vector, 'Glove Vectors')\n",
    "\n"
   ]
  },
  {
   "cell_type": "code",
   "execution_count": null,
   "metadata": {},
   "outputs": [],
   "source": []
  }
 ],
 "metadata": {
  "kernelspec": {
   "display_name": "Python 3",
   "language": "python",
   "name": "python3"
  },
  "language_info": {
   "codemirror_mode": {
    "name": "ipython",
    "version": 3
   },
   "file_extension": ".py",
   "mimetype": "text/x-python",
   "name": "python",
   "nbconvert_exporter": "python",
   "pygments_lexer": "ipython3",
   "version": "3.11.5"
  }
 },
 "nbformat": 4,
 "nbformat_minor": 2
}
